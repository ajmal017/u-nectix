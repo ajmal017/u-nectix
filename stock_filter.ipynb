{
 "cells": [
  {
   "cell_type": "code",
   "execution_count": 3,
   "metadata": {
    "pycharm": {
     "is_executing": true
    },
    "scrolled": false
   },
   "outputs": [
    {
     "name": "stderr",
     "output_type": "stream",
     "text": [
      "[nltk_data] Downloading package vader_lexicon to\n",
      "[nltk_data]     /home/ben/nltk_data...\n",
      "[nltk_data]   Package vader_lexicon is already up-to-date!\n"
     ]
    }
   ],
   "source": [
    "from nltk.sentiment.vader import SentimentIntensityAnalyzer\n",
    "from empyrical import max_drawdown, alpha, beta\n",
    "from sklearn.preprocessing import MinMaxScaler\n",
    "from src.twitter_interface import TwitterInterface\n",
    "from src.asset_selector import AssetSelector\n",
    "from src.indicators import Indicators\n",
    "from util import time_formatter\n",
    "from src.predictor import Predictor\n",
    "from sklearn.cluster import KMeans\n",
    "import alpaca_trade_api as tradeapi\n",
    "import matplotlib.pyplot as plt\n",
    "import plotly.graph_objs as go\n",
    "import plotly.offline as py\n",
    "import pandas as pd\n",
    "import numpy as np\n",
    "import configparser\n",
    "import requests\n",
    "import twitter\n",
    "import json\n",
    "import time\n",
    "import sys\n",
    "import os\n",
    "\n",
    "weeks = 13\n",
    "\n",
    "backdate = time_formatter(time.time() - (604800 * weeks))\n",
    "config = configparser.ConfigParser()\n",
    "try:\n",
    "    config.read(os.path.relpath(\"config.ini\"))\n",
    "except FileExistsError as e:\n",
    "    print(\"FileExistsError: {}\".format(e))\n",
    "    sys.exit(1)\n",
    "alpaca_api = tradeapi.REST(\n",
    "    base_url    = config[\"alpaca\"][\"APCA_API_BASE_URL\"],\n",
    "    key_id      = config[\"alpaca\"][\"APCA_API_KEY_ID\"],\n",
    "    secret_key  = config[\"alpaca\"][\"APCA_API_SECRET_KEY\"],\n",
    "    api_version = config[\"alpaca\"][\"VERSION\"]\n",
    ")\n",
    "twitter_api = twitter.Api(\n",
    "    config[\"twitter\"][\"CONSUMER_KEY\"],\n",
    "    config[\"twitter\"][\"CONSUMER_SECRET\"],\n",
    "    config[\"twitter\"][\"ACCESS_TOKEN_KEY\"],\n",
    "    config[\"twitter\"][\"ACCESS_TOKEN_SECRET\"]\n",
    ")\n",
    "tq_key = config[\"tenquant\"][\"api_key\"]\n",
    "\n",
    "tdf = pd.DataFrame()\n",
    "ti = TwitterInterface(twitter_api, tdf)\n",
    "trading_account = alpaca_api.get_account()\n",
    "\n",
    "selector = AssetSelector(alpaca_api, edgar_token=None)\n",
    "indicators = Indicators(alpaca_api)\n",
    "\n",
    "def get_sentiment(text):\n",
    "    \"\"\"Given a text block, return a sentiment score based.\n",
    "    :param text:\n",
    "    :return:\n",
    "    \"\"\"\n",
    "    text_polarity   = sid.polarity_scores(text)\n",
    "\n",
    "    if text_polarity[\"compound\"] > 0.50:\n",
    "        sentiment   = \"positive\"\n",
    "    else:\n",
    "        sentiment   = \"negative\"\n",
    "    return sentiment, text_polarity[\"compound\"]\n",
    "\n",
    "def get_losers():\n",
    "    print('Losers'.center(45))\n",
    "    print()\n",
    "    print('Ticker'.ljust(10), 'Last'.ljust(11), 'Change'.ljust(11), 'Pct Loss')\n",
    "    print(\"{:<30}\".format('–' * 45))\n",
    "    losers = alpaca_api.polygon.gainers_losers(\"losers\")\n",
    "    \n",
    "    for symbol in range(len(losers)):\n",
    "        \n",
    "        # print out some indicators here # TODO\n",
    "        # also throw out shitty stocks\n",
    "        \n",
    "        print(alpaca_api.polygon.gainers_losers(\"losers\")[symbol].ticker.ljust(10),\n",
    "              '$' + str(alpaca_api.polygon.gainers_losers(\"losers\")[symbol].lastTrade['p']).ljust(10),\n",
    "              '$' + str(alpaca_api.polygon.gainers_losers(\"losers\")[symbol].todaysChange).ljust(10),\n",
    "              str(alpaca_api.polygon.gainers_losers(\"losers\")[symbol].todaysChangePerc)+'%')\n",
    "\n",
    "def get_gainers():\n",
    "    print('Gainers'.center(45))\n",
    "    print()\n",
    "    print('Ticker'.ljust(10), 'Last'.ljust(11), 'Change'.ljust(11), 'Pct Gain')\n",
    "    print(\"{:<30}\".format('–' * 45))\n",
    "    \n",
    "    gainers = alpaca_api.polygon.gainers_losers()\n",
    "    \n",
    "    for symbol in range(len(gainers)):\n",
    "        \n",
    "        ticker = gainers[symbol].ticker\n",
    "        bars = alpaca_api.get_barset(ticker, \"1D\", after=backdate)\n",
    "        dataframe = selector.extract_bar_data(bars, ticker)\n",
    "        \n",
    "        \n",
    "        _macd = indicators.get_macd(dataframe)\n",
    "        macd = _macd[\"MACD\"]\n",
    "        signal = _macd[\"SIGNAL\"]\n",
    "        \n",
    "        # I think this might be my final MACD buy signal\n",
    "        \n",
    "        try:\n",
    "            buysignal = macd.iloc[-1] < 0 and min(macd.iloc[-4:-2]) < signal.iloc[-1] and macd.iloc[-1] > signal.iloc[-1]\n",
    "        except IndexError:\n",
    "            print(\"Throwing {} away due to index errors. Not worth the headache -- will handle later\".format(ticker))\n",
    "            continue\n",
    "        \n",
    "        # print(macd.iloc[-1], signal.iloc[-1], )\n",
    "        print(\"Buy? \", buysignal)\n",
    "        \n",
    "        print(alpaca_api.polygon.gainers_losers()[symbol].ticker.ljust(10),\n",
    "              '$' + str(alpaca_api.polygon.gainers_losers()[symbol].lastTrade['p']).ljust(10),\n",
    "              '$' + str(alpaca_api.polygon.gainers_losers()[symbol].todaysChange).ljust(10),\n",
    "              str(alpaca_api.polygon.gainers_losers()[symbol].todaysChangePerc)+'%')"
   ]
  },
  {
   "cell_type": "code",
   "execution_count": 4,
   "metadata": {
    "scrolled": false
   },
   "outputs": [
    {
     "name": "stdout",
     "output_type": "stream",
     "text": [
      "                   Gainers                   \n",
      "\n",
      "Ticker     Last        Change      Pct Gain\n",
      "–––––––––––––––––––––––––––––––––––––––––––––\n",
      "Throw {} away if there's any index errors. Not worth the headache at this time -- will flesh out later\n",
      "Buy?  False\n",
      "TROV       $2.06       $0.44       27.16%\n",
      "Buy?  False\n",
      "OPRA       $19.75      $3.24       19.624%\n",
      "Buy?  True\n",
      "AXNX       $30.1       $4.61       18.086%\n",
      "Buy?  False\n",
      "XCUR       $30.1       $4.51       17.693%\n",
      "Buy?  False\n",
      "AXNX       $30         $4.51       17.693%\n",
      "Buy?  False\n",
      "FCEL       $0.43       $0.11       13.556%\n",
      "Buy?  False\n",
      "INPX       $0.0595     $0.108      12.264%\n",
      "Buy?  False\n",
      "INPX       $15.83      $0.006      12.264%\n",
      "Buy?  False\n",
      "TGP        $15.83      $1.65       11.636%\n",
      "Buy?  False\n",
      "BSQR       $3.32       $0.28       10.4%\n",
      "Buy?  False\n",
      "VBIV       $3.32       $0.28       9.211%\n",
      "Buy?  False\n",
      "VBIV       $0.61       $0.09       9.104%\n",
      "Buy?  False\n",
      "AVXL       $1.1        $0.21       8.787%\n",
      "Buy?  False\n",
      "AVXL       $2.6        $0.21       8.787%\n",
      "Buy?  False\n",
      "DT         $23.15      $0.23       8.533%\n",
      "Buy?  False\n",
      "DT         $73         $1.82       8.533%\n",
      "Buy?  False\n",
      "SCON       $0.2095     $0.015      7.601%\n",
      "Buy?  False\n",
      "SCON       $3.63       $0.25       7.396%\n",
      "Buy?  False\n",
      "MGIC       $3.63       $0.64       7.072%\n",
      "Buy?  False\n",
      "MGIC       $9.69       $0.64       6.767%\n",
      "\n",
      "                    Losers                   \n",
      "\n",
      "Ticker     Last        Change      Pct Loss\n",
      "–––––––––––––––––––––––––––––––––––––––––––––\n",
      "ROYT       $0.35       $-0.729     -67.578%\n",
      "VTGN       $0.4        $-0.67      -62.617%\n",
      "LPCN       $0.48       $-2082387062077.522 -29.866%\n",
      "\u00000T\u0000\u0000\u0000\u0000\u0000\u0000\u0000\u0000 $19840      $-7495.68   -29.866%\n",
      "ATEST.G    $25.03      $-8.45      -25.239%\n",
      "PRPO       $1.9901     $-0.37      -15.674%\n",
      "SBH        $16.92      $-2.6       -13.32%\n",
      "ECOR       $1.61       $-0.24      -12.973%\n",
      "BCLI       $3.36       $-0.49      -12.727%\n",
      "FLGT       $11.96      $-1.68      -12.317%\n",
      "MLNT       $1.2        $-0.16      -11.765%\n",
      "IDXG       $0.701      $-0.089     -11.266%\n",
      "RCEL       $8.11       $-0.99      -10.879%\n",
      "XNET       $5.22       $-0.59      -10.155%\n",
      "WB         $47.55      $-5.23      -9.909%\n",
      "BZH        $13.45      $-1.22      -8.316%\n",
      "TRPX       $1.58       $-0.14      -8.14%\n",
      "CHAP       $0.92       $-0.08      -7.982%\n",
      "SINA       $38.25      $-3.2       -7.72%\n",
      "WTRH       $0.2215     $-0.018     -7.593%\n",
      "CEL        $2.2        $-0.172     -7.255%\n",
      "\n",
      "                    Bulls                    \n",
      "Ticker     Close       Change      Volume\n",
      "–––––––––––––––––––––––––––––––––––––––––––––\n",
      "TLYS       $9.94       $-0.16      97665\n",
      "VVI        $62.24      $0.24       40398\n",
      "UL         $59.71      $0.59       627403\n",
      "NNN        $55.65      $0.68       530918\n",
      "MSCI       $249.2      $2.95       223475\n",
      "CF         $46.84      $-1.08      1547085\n",
      "FWRD       $69.56      $-0.73      135254\n",
      "OEC        $19.37      $-0.05      242212\n",
      "BC         $59.28      $-0.64      533733\n",
      "VSI        $6.48       $-0.01      299884\n",
      "NTNX       $27.59      $-0.22      1137770\n",
      "UVSP       $26.04      $-0.29      45919\n",
      "NUVA       $72.41      $-0.28      230521\n",
      "STNG       $31.18      $-0.15      706342\n",
      "SWKS       $101.14     $-0.46      7014005\n",
      "LECO       $90.8       $-1.31      113574\n",
      "NTRA       $39.51      $0.48       346549\n",
      "ALX        $324.41     $1.22       10623\n",
      "MDCO       $52.81      $-0.65      1055796\n",
      "AVAV       $61.51      $0.53       96631\n",
      "\n",
      "                    Bears                    \n",
      "Ticker     Close       Change      Volume\n",
      "–––––––––––––––––––––––––––––––––––––––––––––\n",
      "AGS        $11.67      $-0.09      281483\n",
      "PII        $102.13     $-1.13      361294\n",
      "GIB        $79.78      $-0.2       237871\n",
      "PTEN       $8.59       $-0.45      2867241\n",
      "NVTA       $17.37      $0.14       914849\n",
      "BLK        $485.46     $-1.31      260292\n",
      "BDC        $51.85      $-0.47      156453\n",
      "INTT       $5.25       $0.05       14538\n",
      "FMC        $96.32      $-2.03      679375\n",
      "V          $179.38     $-0.36      5217853\n",
      "R          $51.7       $-1.73      520126\n",
      "WDC        $51.02      $-1.52      4873985\n",
      "ARES       $31.875     $0.3        406925\n",
      "VICI       $24.34      $-0.04      3081049\n",
      "VALE       $11.215     $-0.28      12454070\n",
      "BOMN       $22.84      $-0.61      36675\n",
      "AMG        $84.7       $-1.59      363381\n",
      "QTWO       $75.52      $1.56       470385\n",
      "PUK        $33.92      $-0.84      239766\n",
      "DAN        $17.0       $-0.62      1148515\n"
     ]
    }
   ],
   "source": [
    "if __name__ == '__main__':\n",
    "    get_gainers()\n",
    "    print()\n",
    "    get_losers()\n",
    "    print()\n",
    "    print(\"Bulls\".center(45))\n",
    "    bulls = selector.bullish_candlesticks(64, 20)\n",
    "    print()\n",
    "    print(\"Bears\".center(45))\n",
    "    bears = selector.bearish_candlesticks(64, 20)"
   ]
  },
  {
   "cell_type": "code",
   "execution_count": null,
   "metadata": {},
   "outputs": [],
   "source": [
    "ticker = \"NSYS\""
   ]
  },
  {
   "cell_type": "code",
   "execution_count": null,
   "metadata": {},
   "outputs": [],
   "source": [
    "sid = SentimentIntensityAnalyzer()\n",
    "stocktwits = requests.post(\"https://api.stocktwits.com/api/2/streams/symbol/{}.json\".format(ticker))\n",
    "stocktwits = json.loads(stocktwits.text)\n",
    "stocktwitstext = \"\\n\".join([m[\"body\"] for m in stocktwits[\"messages\"]])\n",
    "tweets = ti.get_tweets(ticker, \"stock\")"
   ]
  },
  {
   "cell_type": "code",
   "execution_count": null,
   "metadata": {},
   "outputs": [],
   "source": [
    "stsentiment, stscore = get_sentiment(stocktwitstext)\n",
    "tsentiment, tscore = get_sentiment(tweets)"
   ]
  },
  {
   "cell_type": "code",
   "execution_count": null,
   "metadata": {},
   "outputs": [],
   "source": [
    "print(\"Sentiment score for {}\".format(ticker))\n",
    "print(\"{:<30}\".format('–' * 45))\n",
    "print(\"Stocktwits:\\t{}\\t score: {}\\nTwitter:\\t{}\\t score:\\t{}\".format(stsentiment, stscore, tsentiment, tscore))\n",
    "print(\"Average:\\t{}\".format((stscore + tscore)/2))"
   ]
  },
  {
   "cell_type": "code",
   "execution_count": null,
   "metadata": {
    "scrolled": false
   },
   "outputs": [],
   "source": [
    "# alpaca_api.polygon.historic_trades(ticker, '2019-10-10', limit=10)\n",
    "# alpaca_api.polygon.news(ticker)\n",
    "# alpaca_api.polygon.last_trade(ticker)\n",
    "# alpaca_api.polygon.last_quote(ticker)\n",
    "# alpaca_api.polygon.company(ticker)\n",
    "# alpaca_api.polygon.dividends(ticker)\n",
    "# alpaca_api.polygon.financials(ticker)"
   ]
  },
  {
   "cell_type": "code",
   "execution_count": null,
   "metadata": {},
   "outputs": [],
   "source": [
    "tenquant_data = requests.get(\"https://api.tenquant.io/data?key={}&ticker={}\".format(tq_key, ticker))\n",
    "tenquant_data = json.loads(tenquant_data.text)"
   ]
  },
  {
   "cell_type": "code",
   "execution_count": null,
   "metadata": {
    "scrolled": true
   },
   "outputs": [],
   "source": [
    "stocktwits"
   ]
  },
  {
   "cell_type": "code",
   "execution_count": null,
   "metadata": {
    "scrolled": false
   },
   "outputs": [],
   "source": [
    "tweets "
   ]
  },
  {
   "cell_type": "code",
   "execution_count": null,
   "metadata": {
    "scrolled": true
   },
   "outputs": [],
   "source": [
    "tenquant_data"
   ]
  },
  {
   "cell_type": "code",
   "execution_count": null,
   "metadata": {},
   "outputs": [],
   "source": []
  }
 ],
 "metadata": {
  "kernelspec": {
   "display_name": "Python 3",
   "language": "python",
   "name": "python3"
  },
  "language_info": {
   "codemirror_mode": {
    "name": "ipython",
    "version": 3
   },
   "file_extension": ".py",
   "mimetype": "text/x-python",
   "name": "python",
   "nbconvert_exporter": "python",
   "pygments_lexer": "ipython3",
   "version": "3.7.4"
  },
  "pycharm": {
   "stem_cell": {
    "cell_type": "raw",
    "metadata": {
     "collapsed": false
    },
    "source": []
   }
  }
 },
 "nbformat": 4,
 "nbformat_minor": 2
}
