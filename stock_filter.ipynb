{
 "cells": [
  {
   "cell_type": "code",
   "execution_count": 1,
   "metadata": {
    "pycharm": {
     "is_executing": true
    },
    "scrolled": false
   },
   "outputs": [
    {
     "name": "stderr",
     "output_type": "stream",
     "text": [
      "[nltk_data] Downloading package vader_lexicon to\n",
      "[nltk_data]     C:\\Users\\benjamin.beale\\AppData\\Roaming\\nltk_data...\n",
      "[nltk_data]   Package vader_lexicon is already up-to-date!\n"
     ]
    }
   ],
   "source": [
    "from nltk.sentiment.vader import SentimentIntensityAnalyzer\n",
    "from empyrical import max_drawdown, alpha, beta\n",
    "from sklearn.preprocessing import MinMaxScaler\n",
    "from src.twitter_interface import TwitterInterface\n",
    "from src.asset_selector import AssetSelector\n",
    "from src.indicators import Indicators\n",
    "from util import time_formatter\n",
    "from src.predictor import Predictor\n",
    "from sklearn.cluster import KMeans\n",
    "import alpaca_trade_api as tradeapi\n",
    "import matplotlib.pyplot as plt\n",
    "import plotly.graph_objs as go\n",
    "import plotly.offline as py\n",
    "import pandas as pd\n",
    "import numpy as np\n",
    "import configparser\n",
    "import requests\n",
    "import twitter\n",
    "import json\n",
    "import time\n",
    "import sys\n",
    "import os\n",
    "\n",
    "weeks = 13\n",
    "\n",
    "backdate = time_formatter(time.time() - (604800 * weeks))\n",
    "config = configparser.ConfigParser()\n",
    "try:\n",
    "    config.read(os.path.relpath(\"config.ini\"))\n",
    "except FileExistsError as e:\n",
    "    print(\"FileExistsError: {}\".format(e))\n",
    "    sys.exit(1)\n",
    "alpaca_api = tradeapi.REST(\n",
    "    base_url    = config[\"alpaca\"][\"APCA_API_BASE_URL\"],\n",
    "    key_id      = config[\"alpaca\"][\"APCA_API_KEY_ID\"],\n",
    "    secret_key  = config[\"alpaca\"][\"APCA_API_SECRET_KEY\"],\n",
    "    api_version = config[\"alpaca\"][\"VERSION\"]\n",
    ")\n",
    "twitter_api = twitter.Api(\n",
    "    config[\"twitter\"][\"CONSUMER_KEY\"],\n",
    "    config[\"twitter\"][\"CONSUMER_SECRET\"],\n",
    "    config[\"twitter\"][\"ACCESS_TOKEN_KEY\"],\n",
    "    config[\"twitter\"][\"ACCESS_TOKEN_SECRET\"]\n",
    ")\n",
    "tq_key = config[\"tenquant\"][\"api_key\"]\n",
    "\n",
    "tdf = pd.DataFrame()\n",
    "ti = TwitterInterface(twitter_api, tdf)\n",
    "trading_account = alpaca_api.get_account()\n",
    "\n",
    "selector = AssetSelector(alpaca_api, edgar_token=None)\n",
    "\n",
    "def get_sentiment(text):\n",
    "    \"\"\"Given a text block, return a sentiment score based.\n",
    "    :param text:\n",
    "    :return:\n",
    "    \"\"\"\n",
    "    text_polarity   = sid.polarity_scores(text)\n",
    "\n",
    "    if text_polarity[\"compound\"] > 0.50:\n",
    "        sentiment   = \"positive\"\n",
    "    else:\n",
    "        sentiment   = \"negative\"\n",
    "    return sentiment, text_polarity[\"compound\"]\n",
    "\n",
    "def get_losers():\n",
    "    \n",
    "    print('Losers'.center(45))\n",
    "    print()\n",
    "    print('Symbol'.ljust(10), 'Last'.ljust(11), 'Change'.ljust(11), 'Pct Loss')\n",
    "    print(\"{:<30}\".format('–' * 45))\n",
    "    for symbol in range(len(alpaca_api.polygon.gainers_losers(\"losers\"))):\n",
    "        print(alpaca_api.polygon.gainers_losers(\"losers\")[symbol].ticker.ljust(10),\n",
    "              '$' + str(alpaca_api.polygon.gainers_losers(\"losers\")[symbol].lastTrade['p']).ljust(10),\n",
    "              '$' + str(alpaca_api.polygon.gainers_losers(\"losers\")[symbol].todaysChange).ljust(10),\n",
    "              str(alpaca_api.polygon.gainers_losers(\"losers\")[symbol].todaysChangePerc)+'%')\n",
    "def get_gainers():\n",
    "    print('Gainers'.center(45))\n",
    "    print()\n",
    "    print('Symbol'.ljust(10), 'Last'.ljust(11), 'Change'.ljust(11), 'Pct Gain')\n",
    "    print(\"{:<30}\".format('–' * 45))\n",
    "    for symbol in range(len(alpaca_api.polygon.gainers_losers())):\n",
    "        print(alpaca_api.polygon.gainers_losers()[symbol].ticker.ljust(10),\n",
    "              '$' + str(alpaca_api.polygon.gainers_losers()[symbol].lastTrade['p']).ljust(10),\n",
    "              '$' + str(alpaca_api.polygon.gainers_losers()[symbol].todaysChange).ljust(10),\n",
    "              str(alpaca_api.polygon.gainers_losers()[symbol].todaysChangePerc)+'%')"
   ]
  },
  {
   "cell_type": "code",
   "execution_count": 2,
   "metadata": {
    "scrolled": false
   },
   "outputs": [
    {
     "name": "stdout",
     "output_type": "stream",
     "text": [
      "                   Gainers                   \n",
      "\n",
      "Symbol     Last        Change      Pct Gain\n",
      "–––––––––––––––––––––––––––––––––––––––––––––\n",
      "AMHpF      $25.7095    $25.535     14607.952%\n",
      "MHpC       $5.6001     $5.45       3633.4%\n",
      "SGLBW      $0.7        $0.6        600%\n",
      "TYp        $53.5       $41.94      362.803%\n",
      "DRIOW      $0.0387     $0.026      214.634%\n",
      "ALGRR      $0.47       $0.23       95.833%\n",
      "CpN        $27.6       $12.35      80.984%\n",
      "HJLIW      $0.25       $0.11       78.571%\n",
      "ALGRW      $0.33       $0.13       65%\n",
      "WRLSW      $0.32       $0.09       38.949%\n",
      "OXBRW      $0.04       $0.01       33.333%\n",
      "NDRAW      $0.370899   $0.09       32.087%\n",
      "XPEL       $14.14      $3.33       30.805%\n",
      "NSPR.WS    $0.0073     $0.002      28.07%\n",
      "ZVZZT      $16.63      $3.64       28.022%\n",
      "PHIO       $0.32       $0.07       27.949%\n",
      "VERO       $6.3        $1.3        26%\n",
      "CABA       $13.92      $2.8        25.18%\n",
      "CARB       $22.95      $4.55       24.728%\n",
      "ZWZZT      $15.1       $2.95       24.28%\n",
      "AXAS       $0.3298     $0.061      22.876%\n",
      "\n",
      "                    Losers                   \n",
      "\n",
      "Symbol     Last        Change      Pct Loss\n",
      "–––––––––––––––––––––––––––––––––––––––––––––\n",
      "BCpC       $26.63      $-76.76     -74.243%\n",
      "LPCN       $0.8        $-1.93      -70.696%\n",
      "CpK        $28.32      $-59.7      -67.825%\n",
      "ASLN       $0.68       $-1.4       -67.308%\n",
      "ESTRW      $0.0033     $-0.007     -67%\n",
      "APOPW      $0.05       $-0.063     -55.752%\n",
      "PSTVZ      $0.0035     $-0.004     -55.128%\n",
      "NXTC       $39.02      $-43.87     -52.926%\n",
      "CRR        $0.82       $-0.74      -47.436%\n",
      "MTFBW      $0.0113     $-0.009     -43.5%\n",
      "ZJZZT      $20.5       $-12        -36.923%\n",
      "CpS        $26.09      $-12.28     -32.004%\n",
      "WAFU       $1.4536     $-0.676     -31.756%\n",
      "RAPT       $19.6       $-8.5       -30.249%\n",
      "KTOVW      $0.0499     $-0.02      -28.714%\n",
      "EVSIW      $1.01       $-0.39      -27.857%\n",
      "TMST       $5.47       $-1.89      -25.679%\n",
      "ATEST.G    $25.03      $-8.45      -25.239%\n",
      "SHIPZ      $0.19       $-0.06      -24%\n",
      "IBO        $19         $-5.84      -23.51%\n",
      "CYCCP      $4.51       $-1.18      -20.738%\n",
      "\n",
      "                    Bulls                    \n",
      "–––––––––––––––––––––––––––––––––––––––––––––\n",
      "Ticker: AAPL\t\tPoolsize: 20\t\tResult Length: 1\n",
      "Ticker: NNN\t\tPoolsize: 20\t\tResult Length: 2\n",
      "Ticker: SHBI\t\tPoolsize: 20\t\tResult Length: 3\n",
      "Ticker: CERS\t\tPoolsize: 20\t\tResult Length: 4\n",
      "Ticker: BOX\t\tPoolsize: 20\t\tResult Length: 5\n",
      "Ticker: V\t\tPoolsize: 20\t\tResult Length: 6\n",
      "Ticker: ESTA\t\tPoolsize: 20\t\tResult Length: 7\n",
      "Ticker: PETQ\t\tPoolsize: 20\t\tResult Length: 8\n",
      "Ticker: NVEC\t\tPoolsize: 20\t\tResult Length: 9\n",
      "Ticker: VSI\t\tPoolsize: 20\t\tResult Length: 10\n",
      "Ticker: FIS\t\tPoolsize: 20\t\tResult Length: 11\n",
      "Ticker: HBP\t\tPoolsize: 20\t\tResult Length: 12\n",
      "Ticker: ETH\t\tPoolsize: 20\t\tResult Length: 13\n",
      "Ticker: PFIS\t\tPoolsize: 20\t\tResult Length: 14\n",
      "Ticker: IDCC\t\tPoolsize: 20\t\tResult Length: 15\n",
      "Ticker: QTWO\t\tPoolsize: 20\t\tResult Length: 16\n",
      "Ticker: NEWT\t\tPoolsize: 20\t\tResult Length: 17\n",
      "Ticker: KEM\t\tPoolsize: 20\t\tResult Length: 18\n",
      "Ticker: AIR\t\tPoolsize: 20\t\tResult Length: 19\n",
      "Ticker: BAX\t\tPoolsize: 20\t\tResult Length: 20\n",
      "\n",
      "                    Bears                    \n",
      "–––––––––––––––––––––––––––––––––––––––––––––\n",
      "Ticker: MSCI\t\tPoolsize: 20\t\tResult Length: 1\n",
      "Ticker: BCO\t\tPoolsize: 20\t\tResult Length: 2\n",
      "Ticker: SOHU\t\tPoolsize: 20\t\tResult Length: 3\n",
      "Ticker: PRLB\t\tPoolsize: 20\t\tResult Length: 4\n",
      "Ticker: VALE\t\tPoolsize: 20\t\tResult Length: 5\n",
      "Ticker: AFIN\t\tPoolsize: 20\t\tResult Length: 6\n",
      "Ticker: OSS\t\tPoolsize: 20\t\tResult Length: 7\n",
      "Ticker: MLAB\t\tPoolsize: 20\t\tResult Length: 8\n",
      "Ticker: INFO\t\tPoolsize: 20\t\tResult Length: 9\n"
     ]
    },
    {
     "name": "stderr",
     "output_type": "stream",
     "text": [
      "sleep 3 seconds and retrying https://data.alpaca.markets/v1/bars/1D 3 more time(s)...\n"
     ]
    },
    {
     "name": "stdout",
     "output_type": "stream",
     "text": [
      "Ticker: PINC\t\tPoolsize: 20\t\tResult Length: 10\n",
      "Ticker: PGRE\t\tPoolsize: 20\t\tResult Length: 11\n"
     ]
    },
    {
     "name": "stderr",
     "output_type": "stream",
     "text": [
      "sleep 3 seconds and retrying https://data.alpaca.markets/v1/bars/1D 3 more time(s)...\n"
     ]
    },
    {
     "name": "stdout",
     "output_type": "stream",
     "text": [
      "Ticker: MERC\t\tPoolsize: 20\t\tResult Length: 12\n",
      "Ticker: ANET\t\tPoolsize: 20\t\tResult Length: 13\n",
      "Ticker: GPX\t\tPoolsize: 20\t\tResult Length: 14\n"
     ]
    },
    {
     "name": "stderr",
     "output_type": "stream",
     "text": [
      "sleep 3 seconds and retrying https://data.alpaca.markets/v1/bars/1D 3 more time(s)...\n"
     ]
    },
    {
     "name": "stdout",
     "output_type": "stream",
     "text": [
      "Ticker: LIN\t\tPoolsize: 20\t\tResult Length: 15\n",
      "Ticker: BGCP\t\tPoolsize: 20\t\tResult Length: 16\n",
      "Ticker: CBB\t\tPoolsize: 20\t\tResult Length: 17\n"
     ]
    },
    {
     "name": "stderr",
     "output_type": "stream",
     "text": [
      "sleep 3 seconds and retrying https://data.alpaca.markets/v1/bars/1D 3 more time(s)...\n",
      "sleep 3 seconds and retrying https://data.alpaca.markets/v1/bars/1D 3 more time(s)...\n",
      "sleep 3 seconds and retrying https://data.alpaca.markets/v1/bars/1D 3 more time(s)...\n",
      "sleep 3 seconds and retrying https://data.alpaca.markets/v1/bars/1D 3 more time(s)...\n"
     ]
    },
    {
     "name": "stdout",
     "output_type": "stream",
     "text": [
      "Ticker: LEG\t\tPoolsize: 20\t\tResult Length: 18\n"
     ]
    },
    {
     "name": "stderr",
     "output_type": "stream",
     "text": [
      "sleep 3 seconds and retrying https://data.alpaca.markets/v1/bars/1D 3 more time(s)...\n"
     ]
    },
    {
     "name": "stdout",
     "output_type": "stream",
     "text": [
      "Ticker: CTS\t\tPoolsize: 20\t\tResult Length: 19\n"
     ]
    },
    {
     "name": "stderr",
     "output_type": "stream",
     "text": [
      "sleep 3 seconds and retrying https://data.alpaca.markets/v1/bars/1D 3 more time(s)...\n"
     ]
    },
    {
     "name": "stdout",
     "output_type": "stream",
     "text": [
      "Ticker: DGX\t\tPoolsize: 20\t\tResult Length: 20\n"
     ]
    }
   ],
   "source": [
    "if __name__ == '__main__':\n",
    "    get_gainers()\n",
    "    print()\n",
    "    get_losers()\n",
    "    print()\n",
    "    print(\"Bulls\".center(45))\n",
    "    print(\"{:<30}\".format('–' * 45))\n",
    "    bulls = selector.bullish_candlesticks(64, 20)\n",
    "    print()\n",
    "    print(\"Bears\".center(45))\n",
    "    print(\"{:<30}\".format('–' * 45))\n",
    "    bears = selector.bearish_candlesticks(64, 20)"
   ]
  },
  {
   "cell_type": "code",
   "execution_count": 3,
   "metadata": {},
   "outputs": [],
   "source": [
    "ticker = \"BAX\""
   ]
  },
  {
   "cell_type": "code",
   "execution_count": 4,
   "metadata": {},
   "outputs": [],
   "source": [
    "sid = SentimentIntensityAnalyzer()\n",
    "stocktwits = requests.post(\"https://api.stocktwits.com/api/2/streams/symbol/{}.json\".format(ticker))\n",
    "stocktwits = json.loads(stocktwits.text)\n",
    "stocktwitstext = \"\\n\".join([m[\"body\"] for m in stocktwits[\"messages\"]])\n",
    "tweets = ti.get_tweets(ticker, \"stock\")"
   ]
  },
  {
   "cell_type": "code",
   "execution_count": 5,
   "metadata": {},
   "outputs": [],
   "source": [
    "stsentiment, stscore = get_sentiment(stocktwitstext)\n",
    "tsentiment, tscore = get_sentiment(tweets)"
   ]
  },
  {
   "cell_type": "code",
   "execution_count": 6,
   "metadata": {},
   "outputs": [
    {
     "name": "stdout",
     "output_type": "stream",
     "text": [
      "Sentiment score for BAX\n",
      "–––––––––––––––––––––––––––––––––––––––––––––\n",
      "Stocktwits:\tpositive score: 0.9598\n",
      "Twitter:\tpositive score:0.7177\n",
      "Average:\t0.83875\n"
     ]
    }
   ],
   "source": [
    "print(\"Sentiment score for {}\".format(ticker))\n",
    "print(\"{:<30}\".format('–' * 45))\n",
    "print(\"Stocktwits:\\t{} score: {}\\nTwitter:\\t{} score:{}\".format(stsentiment, stscore, tsentiment, tscore))\n",
    "print(\"Average:\\t{}\".format((stscore + tscore)/2))"
   ]
  },
  {
   "cell_type": "code",
   "execution_count": 7,
   "metadata": {
    "scrolled": false
   },
   "outputs": [],
   "source": [
    "# alpaca_api.polygon.historic_trades(ticker, '2019-10-10', limit=10)\n",
    "# alpaca_api.polygon.news(ticker)\n",
    "# alpaca_api.polygon.last_trade(ticker)\n",
    "# alpaca_api.polygon.last_quote(ticker)\n",
    "# alpaca_api.polygon.company(ticker)\n",
    "# alpaca_api.polygon.dividends(ticker)\n",
    "# alpaca_api.polygon.financials(ticker)"
   ]
  },
  {
   "cell_type": "code",
   "execution_count": 8,
   "metadata": {},
   "outputs": [],
   "source": [
    "tenquant_data = requests.get(\"https://api.tenquant.io/data?key={}&ticker={}\".format(tq_key, ticker))\n",
    "tenquant_data = json.loads(tenquant_data.text)"
   ]
  },
  {
   "cell_type": "code",
   "execution_count": 9,
   "metadata": {},
   "outputs": [
    {
     "data": {
      "text/plain": [
       "'$BAX Unusual Options Activity surfacing today. More than 10k options have traded, mainly calls. Why not learn how to do this yourself for Free? https://optionsgeek.com/get-started/the-ultimate-guide-to-unusual-options-activity/\\nAn Altman-Z score of 5.01 indicates that $BAX is not in any danger for bankruptcy at the moment. https://www.chartmill.com/stock/analyzer/stock/BAX?view=fundamental-analysis&amp;key=87cb839a-7557-4b8b-a9da-a159e6f54ea9&amp;utm_source=stocktwits&amp;utm_medium=FA&amp;utm_content=HEALTH&amp;utm_campaign=social_tracking\\nConservative investment portfolio: Baxter International($BAX), Sysco($SYY),… http://dlvr.it/RJ3GqS #correlations #stocks #stockratings\\nCheck this portfolio in December 2019: Alcoa($AA), Baxter International($BAX),… https://www.macroaxis.com/invest/marketRiskAndReturn?s=AA,BAX,SLB,PWR,SJM,XRAY,UMBF,PH,SCOR,NRG,MAR,STBA #stocks #earnings\\nBullish portfolio: CenturyLink($CTL), Baxter International($BAX), City… http://dlvr.it/RJ23yK #correlations #stocks #stockratings\\n$BAX I caught the beat down stick like many others. However, as usual, my position was small on the drop. So I simply bought back much larger when it fell.\\n\\nTight stop. So far so good.\\n\\nhttps://wallmine.com/nyse/bax\\n$BAX\\nBear Flag.\\nUpdated correlation matrix for Baxter International($BAX), Helmerich… https://www.macroaxis.com/invest/marketCorrelation?s=BAX,HP,UTX,ORCL,UBSI,AKAM,DOV,H,CTSH,PCH,T,COIIX #insidertrading #stocks #fintechnews\\nUpdated ratings for Baxter International($BAX), Tech Data($TECD), Genworth… http://dlvr.it/RJ0LKF #canada #canadian_equities #CA\\nNew volatility landscape for Baxter International($BAX), Clorox($CLX),… https://www.macroaxis.com/invest/marketRiskAndReturn?s=BAX,CLX,VRSN,STI,FLR,OI,TSN,SO,TDC,INTU #insidertrading #stocks #fintechnews\\n$BAX upcoming event November 12: 28th Annual Credit Suisse Healthcare Conference. Options expiring on November 15 that cover the event have an implied move of ±2.0% http://tinyurl.com/y4ta4a8k\\nDaily news snapshot for $BAX https://wsfriend.com/daily/news/BAX/2019-11-09/\\nNew volatility landscape for Baxter International($BAX), BRILLIANCE… https://www.macroaxis.com/invest/marketRiskAndReturn?s=BAX,BCAUF,UPS,PXD,GLRE,AVY,CFFN,JEC #insidertrading #stocks #fintechnews\\nCheck this portfolio in December 2019: Baxter International($BAX), Invesco… http://dlvr.it/RHyPqy #canada #canadian_equities #CA\\n$BAX - Monthly performance of the algo based option alerts posted for BAX \\n https://sleekoptions.com/pps.aspx?sym=BAX\\nPeak profit for the last 6 expired option alerts for $BAX 118.75  | 139.73  | 11.96  | 47.06  | 203.70  | -34.69  |\\n$BAX \\nthis has been a core stk in many LT investment accounts - for good reason.   Now the company is dealing with an accounting irregularity and potential re-statement. Unclear to me whether this is a fx transaction or translation issue.  The former would be particularly concerning as it would involves cash settlements, can have tax implications, and raises systemic fraud concerns- even if the transactions are between intra-company entities. \\n \\nS1=77\\nS2=71\\nS3=62 [a desired entry if it ever should happen]\\n$BAX NEW ARTICLE : Here’s Why Baxter International Fell 12.3% in October https://dashboard.stck.pro/news.php?ticker=BAX&amp;rowid=761367 Get all the latest $BAX related news here : https://dashboard.stck.pro/news.php?ticker=BAX\\nThe industry average Profit Margin is -8.43%. $BAX outperforms 82% of its industry peers. https://www.chartmill.com/stock/quote/BAX/fundamental-analysis?key=87cb839a-7557-4b8b-a9da-a159e6f54ea9&amp;utm_source=stocktwits&amp;utm_medium=FA&amp;utm_content=PROFITABILITY&amp;utm_campaign=social_tracking\\nBaxterIntl $BAX BidaskScore is Downgraded to Bought https://bidaskclub.com/news/company-news/company-news-company-news/2019/11/baxter-international-bax-bidaskscore-is-downgraded-to-bought/\\nOur portfolio proposal: Stryker($SYK), Baxter International($BAX), BBT($BBT),… https://www.macroaxis.com/invest/marketRiskAndReturn?s=SYK,BAX,BBT,NDAQ,ASNA,LH,BK,CFFN,CBSH,SHW,MA,XRAY #insidertrading #stocks #fintechnews\\nConservative portfolio proposal: Baxter International($BAX), PerkinElmer($PKI),… http://dlvr.it/RHnFGW #canada #canadian_equities #CA\\n$BAX: Press Release published article on November 06, 22:50:00: SHAREHOLDER ALERT: Kahn Swick &amp;amp; Foti, LLC Investigates Claims On Behal https://s.flashalert.me/nEvRGU\\n$BAX SHAREHOLDER ALERT: Kahn Swick &amp; Foti, LLC Investigates Claims On Behalf of Investors of Baxter International Inc. - BAX: Former Attorney General of Louisiana, Charles C. Foti, Jr., Esq. , is investigating claims on behalf of investors of Baxter .. https://newsfilter.io/articles/shareholder-alert-kahn-swick--foti-llc-investigates-claims-on-behalf-of-investors-of-baxter-internat-41ad4d8aae8786742766e31ddf8e1c67\\nfiled on  http://www.conferencecalltranscripts.org/8/summary2/?id=7016937 $BAX\\nDaily news snapshot for $BAX https://wsfriend.com/daily/news/BAX/2019-11-07/\\n$BAX we posted our 76.1 entry last week\\n\\nSo far it&#39;s been kind of slow up 3% but with mkt at all time highs please any followers Long with us since 76.1\\nADD STOPS  plz\\n$BAX / Baxter International files form 8-K - Other Events https://fintel.io/s/us/bax?utm_source=stocktwits.com&amp;utm_medium=Social&amp;utm_campaign=filing\\n$BAX filed form 8-K on November 06, 17:09:20 https://s.flashalert.me/jd3Ll\\n$BAX On October 31, 2019, Baxter International entered into Amendment No. 2 to its existing $1.5 billion, five-year revolving credit agreement, dated as of July 1, 2015, as amended, with JPMorgan Chase Bank, National Association, as Administrative Ag.. https://newsfilter.io/articles/8-k-form---current-report-item-801---baxter-international-inc-0000010456-filer-61a7689d98cdf9db5ade5a158d99681b'"
      ]
     },
     "execution_count": 9,
     "metadata": {},
     "output_type": "execute_result"
    }
   ],
   "source": [
    "stocktwitstext "
   ]
  },
  {
   "cell_type": "code",
   "execution_count": 10,
   "metadata": {},
   "outputs": [
    {
     "data": {
      "text/plain": [
       "\"short % to float of $BAX is 0.09 at 2019-05-31 https://t.co/MO8SG3dwv5 $CAH 5.23% $FMS 0.09%\\n\\n$BAX in Uptrend: RSI indicator exits oversold zone. View odds for this and other indicators:… https://t.co/uuIRDt179D\\n\\n$BAX in Uptrend: RSI indicator exits oversold zone. View odds for this and other indicators:… https://t.co/raMQQ6h7PS\\n\\n$BAX in Uptrend: RSI indicator exits oversold zone. View odds for this and other indicators:… https://t.co/b1c5y2PbKF\\n\\n$CRY short ratio is 1.77 at 2019-05-31 https://t.co/MOTsPLZxEs $BSX 1.99 $JNJ 1.87 $SYK 2.59 $BAX 2.13\\n\\nTop #moneyflow for #sp500 today\\n$AAPL $BAC $MU $MRK $T $BAX $XRAY $MS $CVS $BA ...\\nhttps://t.co/S59zN0R1wP\\n\\nStock tip of the hour: everyone should be buy buy buying BAX!\\n\\n$BAX in Uptrend: RSI indicator exits oversold zone. View odds for this and other indicators:… https://t.co/GlJPJoCvZU\\n\\nA Quick Ratio of 2.10 indicates that $BAX has no problem at all paying its short term obligations.… https://t.co/zDI5V3szPQ\\n\\nTop stocks with TA score trending DOWN (SP500):\\n$CHRW $MCK $DLR $AEE $AMT $DTE $ETR $BAX $EQIX $PAYX $CMG $NVR $PEG… https://t.co/oc0gM6CRp2\\n\\n$BAX's Aroon indicator reaches into Uptrend on October 14, 2019. View odds for this and other indicators:… https://t.co/7TlK2NPSGx\\n\\nTop stocks with TA score trending DOWN (NYSE):\\n$MCK $BKD $CTS $CKH $CLGX $ARI $SGU $BAX $AWI $GVA $AKR $OPP $NWE… https://t.co/ySGArUynjE\\n\\nTop stocks with TA score trending DOWN (SP500):\\n$CHRW $MCK $BAX $AKAM $DTE $CMG $EFX $PFG $DLR $EQIX $NVR $PAYX… https://t.co/D9r9a5oyFm\\n\\n$BAX:\\n\\nNew SEC Filing for BAX: Form 8-K (No. 0001193125-19-286031):\\n\\nhttps://t.co/IrwCqH2gKb\\n\\n$BAX in Downtrend: RSI indicator enters oversold zone. View odds for this and other indicators:… https://t.co/zwGg4KYakI\\n\\nTop stocks with TA score trending DOWN (NYSE):\\n$CTS $BKD $CLGX $GVA $BAX $CKH $BANC $MCK $CMG $ARI $BSAC $ENIC $PFO… https://t.co/W3hUQDCKz4\\n\\nTop stocks with TA score trending DOWN (SP500):\\n$CHRW $AKAM $HAS $BAX $MCK $CMG $PFG $EFX $DTE $PLD $NVR $EBAY $NKE… https://t.co/YUh7mJ6klG\\n\\nThe first informative #App on Pivot Points.\\nStock: $BAX\\nLast close: 2019-11-04 ($ 77.830)\\nPIVOT POINT\\n-------------… https://t.co/rOaFttLSgU\\n\\n$BAX in Uptrend: RSI indicator exits oversold zone. View odds for this and other indicators:… https://t.co/HxmyLDh4N3\\n\\nTop stocks with TA score trending DOWN (NYSE):\\n$CLGX $CTS $BKD $AIN $GVA $BSAC $BAX $BANC $DRQ $CKH $EFX $BTT $ORI… https://t.co/FmekIPjfep\\n\\nTop stocks with TA score trending DOWN (SP500):\\n$AKAM $HAS $BAX $EFX $ALB $CHRW $CMG $DGX $DTE $PFG $EBAY $STZ $PLD… https://t.co/P6CSzaYSmi\\n\\nshort ratio of $CRY is 1.77 at 2019-05-31 https://t.co/MOTsPLZxEs $JNJ 1.87 $BSX 1.99 $BAX 2.13\\n\\n$BAX in Uptrend: RSI indicator exits oversold zone. View odds for this and other indicators:… https://t.co/pVCJhnFH0j\\n\\nIs Baxter International Inc. (NYSE:BAX) A High Quality Stock To Own? https://t.co/rIgrJHX56J\\n#YahooFinance #Traffic… https://t.co/XKDaRATV2j\""
      ]
     },
     "execution_count": 10,
     "metadata": {},
     "output_type": "execute_result"
    }
   ],
   "source": [
    "tweets "
   ]
  },
  {
   "cell_type": "code",
   "execution_count": null,
   "metadata": {},
   "outputs": [],
   "source": [
    "tenquant_data"
   ]
  },
  {
   "cell_type": "code",
   "execution_count": null,
   "metadata": {},
   "outputs": [],
   "source": []
  }
 ],
 "metadata": {
  "kernelspec": {
   "display_name": "Python 3",
   "language": "python",
   "name": "python3"
  },
  "language_info": {
   "codemirror_mode": {
    "name": "ipython",
    "version": 3
   },
   "file_extension": ".py",
   "mimetype": "text/x-python",
   "name": "python",
   "nbconvert_exporter": "python",
   "pygments_lexer": "ipython3",
   "version": "3.7.3"
  }
 },
 "nbformat": 4,
 "nbformat_minor": 2
}
