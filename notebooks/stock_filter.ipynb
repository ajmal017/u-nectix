{
 "cells": [
  {
   "cell_type": "code",
   "execution_count": 1,
   "metadata": {
    "pycharm": {
     "is_executing": false
    },
    "scrolled": false
   },
   "outputs": [
    {
     "name": "stderr",
     "output_type": "stream",
     "text": [
      "[nltk_data] Downloading package vader_lexicon to\n",
      "[nltk_data]     /home/ben/nltk_data...\n",
      "[nltk_data]   Package vader_lexicon is already up-to-date!\n"
     ]
    }
   ],
   "source": [
    "from nltk.sentiment.vader import SentimentIntensityAnalyzer\n",
    "from empyrical import max_drawdown, alpha, beta\n",
    "from sklearn.preprocessing import MinMaxScaler\n",
    "from src.twitter_interface import TwitterInterface\n",
    "from src.asset_selector import AssetSelector\n",
    "from src.indicator_collection import IndicatorCollection\n",
    "from util import time_formatter\n",
    "from src.predictor import Predictor\n",
    "from sklearn.cluster import KMeans\n",
    "import alpaca_trade_api as tradeapi\n",
    "import matplotlib.pyplot as plt\n",
    "import plotly.graph_objs as go\n",
    "import plotly.offline as py\n",
    "import pandas as pd\n",
    "import numpy as np\n",
    "import configparser\n",
    "import requests\n",
    "import twitter\n",
    "import json\n",
    "import time\n",
    "import sys\n",
    "import os\n",
    "\n",
    "weeks = 26\n",
    "\n",
    "backdate = time_formatter(time.time() - (604800 * weeks))\n",
    "config = configparser.ConfigParser()\n",
    "try:\n",
    "    config.read(os.path.relpath(\"../config.ini\"))\n",
    "except FileExistsError as e:\n",
    "    print(\"FileExistsError: {}\".format(e))\n",
    "    sys.exit(1)\n",
    "alpaca_api = tradeapi.REST(\n",
    "    base_url    = config[\"alpaca\"][\"APCA_API_BASE_URL\"],\n",
    "    key_id      = config[\"alpaca\"][\"APCA_API_KEY_ID\"],\n",
    "    secret_key  = config[\"alpaca\"][\"APCA_API_SECRET_KEY\"],\n",
    "    api_version = config[\"alpaca\"][\"VERSION\"]\n",
    ")\n",
    "twitter_api = twitter.Api(\n",
    "    config[\"twitter\"][\"CONSUMER_KEY\"],\n",
    "    config[\"twitter\"][\"CONSUMER_SECRET\"],\n",
    "    config[\"twitter\"][\"ACCESS_TOKEN_KEY\"],\n",
    "    config[\"twitter\"][\"ACCESS_TOKEN_SECRET\"]\n",
    ")\n",
    "tq_key = config[\"tenquant\"][\"api_key\"]\n",
    "\n",
    "tdf = pd.DataFrame()\n",
    "ti = TwitterInterface(twitter_api, tdf)\n",
    "trading_account = alpaca_api.get_account()\n",
    "\n",
    "selector = AssetSelector(alpaca_api, edgar_token=None)\n",
    "indicators = IndicatorCollection(alpaca_api)\n",
    "\n",
    "def get_sentiment(text):\n",
    "    \"\"\"Given a text block, return a sentiment score based.\n",
    "    :param text:\n",
    "    :return:\n",
    "    \"\"\"\n",
    "    text_polarity   = sid.polarity_scores(text)\n",
    "\n",
    "    if text_polarity[\"compound\"] > 0.50:\n",
    "        sentiment   = \"positive\"\n",
    "    else:\n",
    "        sentiment   = \"negative\"\n",
    "    return sentiment, text_polarity[\"compound\"]\n",
    "\n",
    "\"\"\"\n",
    "    TODO: move these to asset_selector\n",
    "\"\"\"\n",
    "\n",
    "def get_losers():\n",
    "    \"\"\"Use Polygon endpoint to get a list of top 20 \"losers\".\n",
    "    \n",
    "    :return: \n",
    "    \"\"\"\n",
    "    print(\"Losers\".center(45))\n",
    "    print()\n",
    "    print(\"Ticker\".ljust(10), \"Last\".ljust(10), \"Change\".ljust(10), \"Pct Gain\".ljust(10), \"MACD Buy?\".ljust(10), \"MFI\".ljust(10), \"Stochastic Oscillator\")\n",
    "    print(\"{:<30}\".format(\"–\" * 45))\n",
    "\n",
    "    losers = alpaca_api.polygon.gainers_losers(\"losers\")\n",
    "    \n",
    "    for symbol in range(len(losers)):\n",
    "        \n",
    "        ticker = losers[symbol].ticker\n",
    "        bars = alpaca_api.get_barset(ticker, \"1D\", after=backdate)\n",
    "        dataframe = selector.extract_bar_data(bars, ticker)\n",
    "        _macd = indicators.get_macd(dataframe)\n",
    "        macd = _macd[\"MACD\"]\n",
    "        signal = _macd[\"SIGNAL\"]\n",
    "        vzo = indicators.get_vzo(dataframe)\n",
    "        stoch = indicators.get_stoch(dataframe)\n",
    "        \n",
    "        try:\n",
    "            buysignal = macd.iloc[-1] < 0 and min(macd.iloc[-4:-2]) < signal.iloc[-1] and macd.iloc[-1] > signal.iloc[-1]\n",
    "        except IndexError:\n",
    "            # Throwing away due to index errors, will handle later\n",
    "            continue\n",
    "        \n",
    "        print(alpaca_api.polygon.gainers_losers(\"losers\")[symbol].ticker.ljust(10),            \n",
    "            \"${:.2f}\".format(alpaca_api.polygon.gainers_losers(\"losers\")[symbol].lastTrade[\"p\"]).ljust(10),\n",
    "            \"${:.2f}\".format(alpaca_api.polygon.gainers_losers(\"losers\")[symbol].todaysChange).ljust(10),\n",
    "            \"{:.2f}%\".format(alpaca_api.polygon.gainers_losers(\"losers\")[symbol].todaysChangePerc).ljust(10),  \n",
    "        )\n",
    "\n",
    "def get_gainers():\n",
    "    \"\"\"Use Polygon endpoint to get a list of top 20 \"gainers\".\n",
    "    \n",
    "    :return: \n",
    "    \"\"\"\n",
    "    print(\"Gainers\".center(45))\n",
    "    print()\n",
    "    print(\"Ticker\".ljust(10), \"Last\".ljust(10), \"Change\".ljust(10), \"% Change\".ljust(10), \"MACD Buy?\".ljust(10), \"MFI\".ljust(10), \"VZO\".ljust(10), \"Stochastic Oscillator\")\n",
    "    print(\"{:<30}\".format(\"–\" * 45))\n",
    "    \n",
    "    gainers = alpaca_api.polygon.gainers_losers()\n",
    "    \n",
    "    for symbol in range(len(gainers)):\n",
    "        \n",
    "        ticker = gainers[symbol].ticker\n",
    "        bars = alpaca_api.get_barset(ticker, \"1D\", after=backdate)\n",
    "        dataframe = selector.extract_bar_data(bars, ticker)\n",
    "        _macd = indicators.get_macd(dataframe)\n",
    "        macd = _macd[\"MACD\"]\n",
    "        signal = _macd[\"SIGNAL\"]\n",
    "        mfi = indicators.get_mfi(dataframe)\n",
    "        vzo = indicators.get_vzo(dataframe)\n",
    "        stoch = indicators.get_stoch(dataframe)\n",
    "        \n",
    "        # calculate the MACD buy signal, i.e. if the most recent macd < 0 and < the most recent signal, and the previous MACDs were below the signal\n",
    "        try:\n",
    "            buysignal = macd.iloc[-1] < 0 and min(macd.iloc[-4:-2]) <= signal.iloc[-1] and macd.iloc[-1] > signal.iloc[-1]\n",
    "        except IndexError:\n",
    "            continue\n",
    "\n",
    "        # calculate mfi buy signal via bullish 10% crossover \n",
    "        try:\n",
    "            vzo_buysignal = mfi.iloc[-1] > 10 and min(mfi.iloc[-4:-2]) <= 10\n",
    "        except IndexError:\n",
    "            continue    \n",
    "        \n",
    "        # calculate the VZO buy signal -- look for bullish -40% crossover \n",
    "        try:\n",
    "            mfi_buysignal = vzo.iloc[-1] > -40 and min(vzo.iloc[-4:-2]) <= -40\n",
    "        except IndexError:\n",
    "            continue\n",
    "        \n",
    "        # calculate stochastic buy signal via bullish 10% crossover \n",
    "        try:\n",
    "            stoch_buysignal = stoch.iloc[-1] > 10 and min(stoch.iloc[-4:-2]) <= 10\n",
    "        except IndexError:\n",
    "            continue   \n",
    "\n",
    "        print(alpaca_api.polygon.gainers_losers()[symbol].ticker.ljust(10),\n",
    "            \"${:.2f}\".format(alpaca_api.polygon.gainers_losers()[symbol].lastTrade[\"p\"]).ljust(10),\n",
    "            \"${:.2f}\".format(alpaca_api.polygon.gainers_losers()[symbol].todaysChange).ljust(10),\n",
    "            \"{:.2f}%\".format(alpaca_api.polygon.gainers_losers()[symbol].todaysChangePerc).ljust(10), \n",
    "            str(buysignal).ljust(10),\n",
    "            str(mfi_buysignal).ljust(10),\n",
    "            str(vzo_buysignal).ljust(10),\n",
    "            str(stoch_buysignal).ljust(10),\n",
    "            \"{:.2f}\".format(stoch.iloc[-1]).ljust(10)\n",
    "        )"
   ]
  },
  {
   "cell_type": "code",
   "execution_count": 2,
   "metadata": {
    "scrolled": false
   },
   "outputs": [
    {
     "name": "stdout",
     "output_type": "stream",
     "text": [
      "                   Gainers                   \n",
      "\n",
      "Ticker     Last       Change     % Change   MACD Buy?  MFI        VZO        Stochastic Oscillator\n",
      "–––––––––––––––––––––––––––––––––––––––––––––\n"
     ]
    },
    {
     "ename": "AttributeError",
     "evalue": "'Indicators' object has no attribute 'get_macd'",
     "output_type": "error",
     "traceback": [
      "\u001b[0;31m---------------------------------------------------------------------------\u001b[0m",
      "\u001b[0;31mAttributeError\u001b[0m                            Traceback (most recent call last)",
      "\u001b[0;32m<ipython-input-2-be2f369e2c5c>\u001b[0m in \u001b[0;36m<module>\u001b[0;34m\u001b[0m\n\u001b[1;32m      1\u001b[0m \u001b[0mpool\u001b[0m \u001b[0;34m=\u001b[0m \u001b[0;36m20\u001b[0m\u001b[0;34m\u001b[0m\u001b[0;34m\u001b[0m\u001b[0m\n\u001b[0;32m----> 2\u001b[0;31m \u001b[0mget_gainers\u001b[0m\u001b[0;34m(\u001b[0m\u001b[0;34m)\u001b[0m\u001b[0;34m\u001b[0m\u001b[0;34m\u001b[0m\u001b[0m\n\u001b[0m\u001b[1;32m      3\u001b[0m \u001b[0;31m# print()\u001b[0m\u001b[0;34m\u001b[0m\u001b[0;34m\u001b[0m\u001b[0;34m\u001b[0m\u001b[0m\n\u001b[1;32m      4\u001b[0m \u001b[0;31m# get_losers()\u001b[0m\u001b[0;34m\u001b[0m\u001b[0;34m\u001b[0m\u001b[0;34m\u001b[0m\u001b[0m\n\u001b[1;32m      5\u001b[0m \u001b[0mprint\u001b[0m\u001b[0;34m(\u001b[0m\u001b[0;34m)\u001b[0m\u001b[0;34m\u001b[0m\u001b[0;34m\u001b[0m\u001b[0m\n",
      "\u001b[0;32m<ipython-input-1-80b5d2fbd064>\u001b[0m in \u001b[0;36mget_gainers\u001b[0;34m()\u001b[0m\n\u001b[1;32m    121\u001b[0m         \u001b[0mbars\u001b[0m \u001b[0;34m=\u001b[0m \u001b[0malpaca_api\u001b[0m\u001b[0;34m.\u001b[0m\u001b[0mget_barset\u001b[0m\u001b[0;34m(\u001b[0m\u001b[0mticker\u001b[0m\u001b[0;34m,\u001b[0m \u001b[0;34m\"1D\"\u001b[0m\u001b[0;34m,\u001b[0m \u001b[0mafter\u001b[0m\u001b[0;34m=\u001b[0m\u001b[0mbackdate\u001b[0m\u001b[0;34m)\u001b[0m\u001b[0;34m\u001b[0m\u001b[0;34m\u001b[0m\u001b[0m\n\u001b[1;32m    122\u001b[0m         \u001b[0mdataframe\u001b[0m \u001b[0;34m=\u001b[0m \u001b[0mselector\u001b[0m\u001b[0;34m.\u001b[0m\u001b[0mextract_bar_data\u001b[0m\u001b[0;34m(\u001b[0m\u001b[0mbars\u001b[0m\u001b[0;34m,\u001b[0m \u001b[0mticker\u001b[0m\u001b[0;34m)\u001b[0m\u001b[0;34m\u001b[0m\u001b[0;34m\u001b[0m\u001b[0m\n\u001b[0;32m--> 123\u001b[0;31m         \u001b[0m_macd\u001b[0m \u001b[0;34m=\u001b[0m \u001b[0mindicators\u001b[0m\u001b[0;34m.\u001b[0m\u001b[0mget_macd\u001b[0m\u001b[0;34m(\u001b[0m\u001b[0mdataframe\u001b[0m\u001b[0;34m)\u001b[0m\u001b[0;34m\u001b[0m\u001b[0;34m\u001b[0m\u001b[0m\n\u001b[0m\u001b[1;32m    124\u001b[0m         \u001b[0mmacd\u001b[0m \u001b[0;34m=\u001b[0m \u001b[0m_macd\u001b[0m\u001b[0;34m[\u001b[0m\u001b[0;34m\"MACD\"\u001b[0m\u001b[0;34m]\u001b[0m\u001b[0;34m\u001b[0m\u001b[0;34m\u001b[0m\u001b[0m\n\u001b[1;32m    125\u001b[0m         \u001b[0msignal\u001b[0m \u001b[0;34m=\u001b[0m \u001b[0m_macd\u001b[0m\u001b[0;34m[\u001b[0m\u001b[0;34m\"SIGNAL\"\u001b[0m\u001b[0;34m]\u001b[0m\u001b[0;34m\u001b[0m\u001b[0;34m\u001b[0m\u001b[0m\n",
      "\u001b[0;31mAttributeError\u001b[0m: 'Indicators' object has no attribute 'get_macd'"
     ]
    }
   ],
   "source": [
    "pool = 20\n",
    "get_gainers()\n",
    "# print()\n",
    "# get_losers()\n",
    "print()\n",
    "print(\"Bulls\".center(45))\n",
    "bulls = selector.bullish_candlesticks(64, pool)\n",
    "# print()\n",
    "# print(\"Bears\".center(45))\n",
    "# bears = selector.bearish_candlesticks(64, pool)"
   ]
  },
  {
   "cell_type": "code",
   "execution_count": null,
   "metadata": {},
   "outputs": [],
   "source": [
    "ticker = \"LBY\""
   ]
  },
  {
   "cell_type": "code",
   "execution_count": null,
   "metadata": {},
   "outputs": [],
   "source": [
    "sid = SentimentIntensityAnalyzer()\n",
    "stocktwits = requests.post(\"https://api.stocktwits.com/api/2/streams/symbol/{}.json\".format(ticker))\n",
    "stocktwits = json.loads(stocktwits.text)\n",
    "stocktwitstext = \"\\n\".join([m[\"body\"] for m in stocktwits[\"messages\"]])\n",
    "tweets = ti.get_tweets(ticker, \"stock\")"
   ]
  },
  {
   "cell_type": "code",
   "execution_count": null,
   "metadata": {},
   "outputs": [],
   "source": [
    "stsentiment, stscore = get_sentiment(stocktwitstext)\n",
    "tsentiment, tscore = get_sentiment(tweets)"
   ]
  },
  {
   "cell_type": "code",
   "execution_count": null,
   "metadata": {},
   "outputs": [],
   "source": [
    "print(\"Sentiment score for {}\".format(ticker))\n",
    "print(\"{:<30}\".format(\"–\" * 45))\n",
    "print(\"Stocktwits:\\t{}\\t score: {}\\nTwitter:\\t{}\\t score:\\t{}\".format(stsentiment, stscore, tsentiment, tscore))\n",
    "print(\"Average:\\t{}\".format((stscore + tscore)/2))"
   ]
  },
  {
   "cell_type": "code",
   "execution_count": null,
   "metadata": {},
   "outputs": [],
   "source": [
    "tenquant_data = requests.get(\"https://api.tenquant.io/data?key={}&ticker={}\".format(tq_key, ticker))\n",
    "tenquant_data = json.loads(tenquant_data.text)"
   ]
  },
  {
   "cell_type": "code",
   "execution_count": null,
   "metadata": {
    "scrolled": true
   },
   "outputs": [],
   "source": [
    "stocktwits"
   ]
  },
  {
   "cell_type": "code",
   "execution_count": null,
   "metadata": {
    "scrolled": false
   },
   "outputs": [],
   "source": [
    "tweets "
   ]
  },
  {
   "cell_type": "code",
   "execution_count": null,
   "metadata": {
    "scrolled": true
   },
   "outputs": [],
   "source": [
    "tenquant_data"
   ]
  },
  {
   "cell_type": "code",
   "execution_count": null,
   "metadata": {},
   "outputs": [],
   "source": []
  }
 ],
 "metadata": {
  "kernelspec": {
   "display_name": "Python 3",
   "language": "python",
   "name": "python3"
  },
  "language_info": {
   "codemirror_mode": {
    "name": "ipython",
    "version": 3
   },
   "file_extension": ".py",
   "mimetype": "text/x-python",
   "name": "python",
   "nbconvert_exporter": "python",
   "pygments_lexer": "ipython3",
   "version": "3.7.5"
  },
  "pycharm": {
   "stem_cell": {
    "cell_type": "raw",
    "source": [],
    "metadata": {
     "collapsed": false
    }
   }
  }
 },
 "nbformat": 4,
 "nbformat_minor": 2
}