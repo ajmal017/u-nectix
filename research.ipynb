{
 "cells": [
  {
   "cell_type": "code",
   "execution_count": null,
   "metadata": {
    "pycharm": {
     "is_executing": true
    }
   },
   "outputs": [],
   "source": [
    "#!/usr/bin/env python\n",
    "# -*- coding: utf-8 -*-\n",
    "from util import bullish_sequence, bullish_candlestick_patterns\n",
    "from src.asset_selector import AssetSelector\n",
    "from src.indicators import Indicators\n",
    "from src.predictor import Predictor\n",
    "from sklearn.cluster import KMeans\n",
    "import alpaca_trade_api as tradeapi\n",
    "import matplotlib.pyplot as plt\n",
    "import plotly.graph_objs as go\n",
    "import plotly.offline as py\n",
    "import configparser\n",
    "import pandas as pd\n",
    "import numpy as np\n",
    "import sys\n",
    "import os\n",
    "\n",
    "py.init_notebook_mode(connected=True)\n",
    "config = configparser.ConfigParser()\n",
    "\n",
    "try:\n",
    "    config.read(os.path.relpath(\"config.ini\"))\n",
    "except FileExistsError as e:\n",
    "    print(\"FileExistsError: {}\".format(e))\n",
    "    sys.exit(1)\n",
    "\n",
    "\n",
    "alpaca_api = tradeapi.REST(\n",
    "    base_url    = config[\"alpaca\"][\"APCA_API_BASE_URL\"],\n",
    "    key_id      = config[\"alpaca\"][\"APCA_API_KEY_ID\"],\n",
    "    secret_key  = config[\"alpaca\"][\"APCA_API_SECRET_KEY\"],\n",
    "    api_version = config[\"alpaca\"][\"VERSION\"]\n",
    ")"
   ]
  },
  {
   "cell_type": "code",
   "execution_count": 2,
   "metadata": {},
   "outputs": [
    {
     "name": "stdout",
     "output_type": "stream",
     "text": [
      "Ticker: NNN\t\tPoolsize: 20\t\tResult Length: 1\n",
      "Ticker: WDC\t\tPoolsize: 20\t\tResult Length: 2\n",
      "Ticker: WERN\t\tPoolsize: 20\t\tResult Length: 3\n",
      "Ticker: VICI\t\tPoolsize: 20\t\tResult Length: 4\n",
      "Ticker: AMSWA\t\tPoolsize: 20\t\tResult Length: 5\n",
      "Ticker: RAMP\t\tPoolsize: 20\t\tResult Length: 6\n",
      "Ticker: FMC\t\tPoolsize: 20\t\tResult Length: 7\n",
      "Ticker: SHLX\t\tPoolsize: 20\t\tResult Length: 8\n",
      "Ticker: MGLN\t\tPoolsize: 20\t\tResult Length: 9\n",
      "Ticker: PTLA\t\tPoolsize: 20\t\tResult Length: 10\n",
      "Ticker: VSTO\t\tPoolsize: 20\t\tResult Length: 11\n",
      "Ticker: RFL\t\tPoolsize: 20\t\tResult Length: 12\n",
      "Ticker: BMI\t\tPoolsize: 20\t\tResult Length: 13\n",
      "Ticker: SYNC\t\tPoolsize: 20\t\tResult Length: 14\n",
      "Ticker: BHR\t\tPoolsize: 20\t\tResult Length: 15\n",
      "Ticker: ANF\t\tPoolsize: 20\t\tResult Length: 16\n",
      "Ticker: GWPH\t\tPoolsize: 20\t\tResult Length: 17\n",
      "Ticker: EPM\t\tPoolsize: 20\t\tResult Length: 18\n",
      "Ticker: PFIS\t\tPoolsize: 20\t\tResult Length: 19\n",
      "Ticker: IIVI\t\tPoolsize: 20\t\tResult Length: 20\n",
      "dict_keys(['NNN', 'WDC', 'WERN', 'VICI', 'AMSWA', 'RAMP', 'FMC', 'SHLX', 'MGLN', 'PTLA', 'VSTO', 'RFL', 'BMI', 'SYNC', 'BHR', 'ANF', 'GWPH', 'EPM', 'PFIS', 'IIVI'])\n"
     ]
    }
   ],
   "source": [
    "assets      = AssetSelector(alpaca_api, edgar_token=None).bullish_candlesticks(64, 20)"
   ]
  },
  {
   "cell_type": "code",
   "execution_count": 3,
   "metadata": {
    "pycharm": {
     "name": "#%%\n"
    }
   },
   "outputs": [],
   "source": [
    "indicators  = Indicators(alpaca_api, assets).get_cluster()"
   ]
  },
  {
   "cell_type": "code",
   "execution_count": 4,
   "metadata": {},
   "outputs": [
    {
     "data": {
      "text/plain": [
       "{}"
      ]
     },
     "execution_count": 4,
     "metadata": {},
     "output_type": "execute_result"
    }
   ],
   "source": [
    "indicators"
   ]
  },
  {
   "cell_type": "code",
   "execution_count": 3,
   "metadata": {
    "pycharm": {
     "name": "#%%\n"
    }
   },
   "outputs": [],
   "source": [
    "predictions = Predictor(indicators)"
   ]
  },
  {
   "cell_type": "code",
   "execution_count": 4,
   "metadata": {},
   "outputs": [
    {
     "data": {
      "text/plain": [
       "{}"
      ]
     },
     "execution_count": 4,
     "metadata": {},
     "output_type": "execute_result"
    }
   ],
   "source": [
    "# ticker_index = list(indicators.keys())[0]\n",
    "indicators"
   ]
  },
  {
   "cell_type": "code",
   "execution_count": 4,
   "metadata": {},
   "outputs": [
    {
     "ename": "IndexError",
     "evalue": "list index out of range",
     "output_type": "error",
     "traceback": [
      "\u001b[0;31m---------------------------------------------------------------------------\u001b[0m",
      "\u001b[0;31mIndexError\u001b[0m                                Traceback (most recent call last)",
      "\u001b[0;32m<ipython-input-4-5890582a78f9>\u001b[0m in \u001b[0;36m<module>\u001b[0;34m\u001b[0m\n\u001b[1;32m      1\u001b[0m \u001b[0;31m# get the first tradeable asset in the collection of indicators\u001b[0m\u001b[0;34m\u001b[0m\u001b[0;34m\u001b[0m\u001b[0;34m\u001b[0m\u001b[0m\n\u001b[0;32m----> 2\u001b[0;31m \u001b[0mticker_index\u001b[0m \u001b[0;34m=\u001b[0m \u001b[0mlist\u001b[0m\u001b[0;34m(\u001b[0m\u001b[0mindicators\u001b[0m\u001b[0;34m.\u001b[0m\u001b[0mkeys\u001b[0m\u001b[0;34m(\u001b[0m\u001b[0;34m)\u001b[0m\u001b[0;34m)\u001b[0m\u001b[0;34m[\u001b[0m\u001b[0;36m0\u001b[0m\u001b[0;34m]\u001b[0m\u001b[0;34m\u001b[0m\u001b[0;34m\u001b[0m\u001b[0m\n\u001b[0m\u001b[1;32m      3\u001b[0m \u001b[0mindicators\u001b[0m\u001b[0;34m[\u001b[0m\u001b[0mticker_index\u001b[0m\u001b[0;34m]\u001b[0m\u001b[0;34m.\u001b[0m\u001b[0miloc\u001b[0m\u001b[0;34m[\u001b[0m\u001b[0;34m-\u001b[0m\u001b[0;36m20\u001b[0m\u001b[0;34m:\u001b[0m\u001b[0;34m]\u001b[0m\u001b[0;34m\u001b[0m\u001b[0;34m\u001b[0m\u001b[0m\n",
      "\u001b[0;31mIndexError\u001b[0m: list index out of range"
     ]
    }
   ],
   "source": [
    "# get the first tradeable asset in the collection of indicators\n",
    "ticker_index = list(indicators.keys())[0]\n",
    "indicators[ticker_index].iloc[-20:]"
   ]
  },
  {
   "cell_type": "code",
   "execution_count": null,
   "metadata": {
    "pycharm": {
     "name": "#%%\n"
    }
   },
   "outputs": [],
   "source": [
    "kmeans = KMeans(n_clusters=2)"
   ]
  },
  {
   "cell_type": "code",
   "execution_count": 5,
   "metadata": {
    "pycharm": {
     "name": "#%%\n"
    }
   },
   "outputs": [
    {
     "ename": "NameError",
     "evalue": "name 'ticker_index' is not defined",
     "output_type": "error",
     "traceback": [
      "\u001b[0;31m---------------------------------------------------------------------------\u001b[0m",
      "\u001b[0;31mNameError\u001b[0m                                 Traceback (most recent call last)",
      "\u001b[0;32m<ipython-input-5-34cd18a91d32>\u001b[0m in \u001b[0;36m<module>\u001b[0;34m\u001b[0m\n\u001b[1;32m      1\u001b[0m \u001b[0mn_indicators\u001b[0m            \u001b[0;34m=\u001b[0m \u001b[0mpd\u001b[0m\u001b[0;34m.\u001b[0m\u001b[0mDataFrame\u001b[0m\u001b[0;34m(\u001b[0m\u001b[0;34m)\u001b[0m\u001b[0;34m\u001b[0m\u001b[0;34m\u001b[0m\u001b[0m\n\u001b[0;32m----> 2\u001b[0;31m \u001b[0mn_indicators\u001b[0m\u001b[0;34m[\u001b[0m\u001b[0;34m\"close\"\u001b[0m\u001b[0;34m]\u001b[0m   \u001b[0;34m=\u001b[0m \u001b[0mindicators\u001b[0m\u001b[0;34m[\u001b[0m\u001b[0mticker_index\u001b[0m\u001b[0;34m]\u001b[0m\u001b[0;34m[\u001b[0m\u001b[0;34m\"close\"\u001b[0m\u001b[0;34m]\u001b[0m\u001b[0;34m.\u001b[0m\u001b[0miloc\u001b[0m\u001b[0;34m[\u001b[0m\u001b[0;34m-\u001b[0m\u001b[0;36m20\u001b[0m\u001b[0;34m:\u001b[0m\u001b[0;34m]\u001b[0m\u001b[0;34m\u001b[0m\u001b[0;34m\u001b[0m\u001b[0m\n\u001b[0m\u001b[1;32m      3\u001b[0m \u001b[0mn_indicators\u001b[0m\u001b[0;34m[\u001b[0m\u001b[0;34m\"macd\"\u001b[0m\u001b[0;34m]\u001b[0m    \u001b[0;34m=\u001b[0m \u001b[0mindicators\u001b[0m\u001b[0;34m[\u001b[0m\u001b[0mticker_index\u001b[0m\u001b[0;34m]\u001b[0m\u001b[0;34m[\u001b[0m\u001b[0;34m\"macd\"\u001b[0m\u001b[0;34m]\u001b[0m\u001b[0;34m.\u001b[0m\u001b[0miloc\u001b[0m\u001b[0;34m[\u001b[0m\u001b[0;34m-\u001b[0m\u001b[0;36m20\u001b[0m\u001b[0;34m:\u001b[0m\u001b[0;34m]\u001b[0m\u001b[0;34m\u001b[0m\u001b[0;34m\u001b[0m\u001b[0m\n\u001b[1;32m      4\u001b[0m \u001b[0mn_indicators\u001b[0m\u001b[0;34m[\u001b[0m\u001b[0;34m\"signal\"\u001b[0m\u001b[0;34m]\u001b[0m  \u001b[0;34m=\u001b[0m \u001b[0mindicators\u001b[0m\u001b[0;34m[\u001b[0m\u001b[0mticker_index\u001b[0m\u001b[0;34m]\u001b[0m\u001b[0;34m[\u001b[0m\u001b[0;34m\"signal\"\u001b[0m\u001b[0;34m]\u001b[0m\u001b[0;34m.\u001b[0m\u001b[0miloc\u001b[0m\u001b[0;34m[\u001b[0m\u001b[0;34m-\u001b[0m\u001b[0;36m20\u001b[0m\u001b[0;34m:\u001b[0m\u001b[0;34m]\u001b[0m\u001b[0;34m\u001b[0m\u001b[0;34m\u001b[0m\u001b[0m\n\u001b[1;32m      5\u001b[0m \u001b[0mn_indicators\u001b[0m\u001b[0;34m[\u001b[0m\u001b[0;34m\"mfi\"\u001b[0m\u001b[0;34m]\u001b[0m     \u001b[0;34m=\u001b[0m \u001b[0mindicators\u001b[0m\u001b[0;34m[\u001b[0m\u001b[0mticker_index\u001b[0m\u001b[0;34m]\u001b[0m\u001b[0;34m[\u001b[0m\u001b[0;34m\"mfi\"\u001b[0m\u001b[0;34m]\u001b[0m\u001b[0;34m.\u001b[0m\u001b[0miloc\u001b[0m\u001b[0;34m[\u001b[0m\u001b[0;34m-\u001b[0m\u001b[0;36m20\u001b[0m\u001b[0;34m:\u001b[0m\u001b[0;34m]\u001b[0m\u001b[0;34m\u001b[0m\u001b[0;34m\u001b[0m\u001b[0m\n",
      "\u001b[0;31mNameError\u001b[0m: name 'ticker_index' is not defined"
     ]
    }
   ],
   "source": [
    "n_indicators            = pd.DataFrame()\n",
    "n_indicators[\"close\"]   = indicators[ticker_index][\"close\"].iloc[-20:]\n",
    "n_indicators[\"macd\"]    = indicators[ticker_index][\"macd\"].iloc[-20:]\n",
    "n_indicators[\"signal\"]  = indicators[ticker_index][\"signal\"].iloc[-20:]\n",
    "n_indicators[\"mfi\"]     = indicators[ticker_index][\"mfi\"].iloc[-20:]\n",
    "n_indicators[\"bb_up\"]   = indicators[ticker_index][\"bb_up\"].iloc[-20:]\n",
    "n_indicators[\"bb_low\"]  = indicators[ticker_index][\"bb_low\"].iloc[-20:]\n",
    "n_indicators[\"vzo\"]     = indicators[ticker_index][\"vzo\"].iloc[-20:]\n",
    "n_indicators[\"apz_u\"]   = indicators[ticker_index][\"apz_u\"].iloc[-20:]\n",
    "n_indicators[\"apz_l\"]   = indicators[ticker_index][\"apz_l\"].iloc[-20:]\n",
    "n_indicators[\"stoch\"]   = indicators[ticker_index][\"stoch\"].iloc[-20:]"
   ]
  },
  {
   "cell_type": "code",
   "execution_count": null,
   "metadata": {
    "pycharm": {
     "name": "#%%\n"
    }
   },
   "outputs": [],
   "source": [
    "kmeans.fit(n_indicators)"
   ]
  },
  {
   "cell_type": "code",
   "execution_count": null,
   "metadata": {},
   "outputs": [],
   "source": [
    "kmeans.cluster_centers_"
   ]
  },
  {
   "cell_type": "code",
   "execution_count": null,
   "metadata": {},
   "outputs": [],
   "source": [
    "kmeans.labels_"
   ]
  },
  {
   "cell_type": "code",
   "execution_count": null,
   "metadata": {},
   "outputs": [],
   "source": [
    "f, (ax1, ax2, ax3, ax4) = plt.subplots(1, 4, sharex=True, sharey=False, figsize=(10,6))\n",
    "ax1.set_title('K Means - macd/close')\n",
    "ax1.scatter(n_indicators[\"macd\"], n_indicators[\"close\"], c=kmeans.labels_, cmap=\"rainbow\")\n",
    "ax2.set_title(\"K Means - signal/close\")\n",
    "ax2.scatter(n_indicators[\"signal\"], n_indicators[\"close\"], c=kmeans.labels_, cmap=\"rainbow\")\n",
    "ax3.set_title(\"Original\")\n",
    "ax3.scatter(n_indicators[\"macd\"], n_indicators[\"close\"], c=n_indicators[\"macd\"], cmap=\"rainbow\")\n",
    "ax4.set_title(\"Original\")\n",
    "ax4.scatter(n_indicators[\"signal\"], n_indicators[\"close\"], c=n_indicators[\"signal\"], cmap=\"rainbow\")"
   ]
  },
  {
   "cell_type": "code",
   "execution_count": null,
   "metadata": {
    "pycharm": {
     "name": "#%%\n"
    }
   },
   "outputs": [],
   "source": [
    "f, (ax1, ax2, ax3, ax4) = plt.subplots(1, 4, sharex=True, sharey=True, figsize=(10,6))\n",
    "ax1.set_title('K Means - macd/close')\n",
    "ax1.scatter(n_indicators[\"macd\"], n_indicators[\"close\"], c=kmeans.labels_, cmap=\"rainbow\")\n",
    "ax2.set_title(\"K Means - signal/close\")\n",
    "ax2.scatter(n_indicators[\"signal\"], n_indicators[\"close\"], c=kmeans.labels_, cmap=\"rainbow\")\n",
    "ax3.set_title(\"Original\")\n",
    "ax3.scatter(n_indicators[\"macd\"], n_indicators[\"close\"], c=n_indicators[\"close\"], cmap=\"rainbow\")\n",
    "ax4.set_title(\"Original\")\n",
    "ax4.scatter(n_indicators[\"signal\"], n_indicators[\"close\"], c=n_indicators[\"close\"], cmap=\"rainbow\")"
   ]
  },
  {
   "cell_type": "code",
   "execution_count": null,
   "metadata": {
    "pycharm": {
     "name": "#%%\n"
    }
   },
   "outputs": [],
   "source": [
    "f, (ax3, ax4) = plt.subplots(1, 2, sharex=True, sharey=True,figsize=(10,6))\n",
    "ax3.set_title('K Means - mfi/close')\n",
    "ax3.scatter(n_indicators[\"mfi\"], n_indicators[\"close\"], c=kmeans.labels_, cmap=\"rainbow\")\n",
    "ax4.set_title(\"Original\")\n",
    "ax4.scatter(n_indicators[\"mfi\"], n_indicators[\"close\"], c=n_indicators[\"close\"], cmap=\"rainbow\")"
   ]
  },
  {
   "cell_type": "code",
   "execution_count": null,
   "metadata": {
    "pycharm": {
     "name": "#%%\n"
    }
   },
   "outputs": [],
   "source": [
    "f, (ax5, ax6) = plt.subplots(1, 2, sharex=True, sharey=True,figsize=(10,6))\n",
    "ax5.set_title('K Means - bb_low/mfi')\n",
    "ax5.scatter(n_indicators[\"bb_low\"], n_indicators[\"mfi\"], c=kmeans.labels_, cmap=\"rainbow\")\n",
    "ax6.set_title(\"Original\")\n",
    "ax6.scatter(n_indicators[\"bb_low\"], n_indicators[\"mfi\"], c=n_indicators[\"close\"], cmap=\"rainbow\")"
   ]
  },
  {
   "cell_type": "code",
   "execution_count": null,
   "metadata": {
    "pycharm": {
     "name": "#%%\n"
    }
   },
   "outputs": [],
   "source": [
    "f, (ax7, ax8) = plt.subplots(1, 2, sharex=True, sharey=True,figsize=(10,6))\n",
    "ax7.set_title('K Means - vzo/close')\n",
    "ax7.scatter(n_indicators[\"vzo\"], n_indicators[\"close\"], c=kmeans.labels_, cmap=\"rainbow\")\n",
    "ax8.set_title(\"Original\")\n",
    "ax8.scatter(n_indicators[\"vzo\"], n_indicators[\"close\"], c=n_indicators[\"close\"], cmap=\"rainbow\")"
   ]
  },
  {
   "cell_type": "code",
   "execution_count": null,
   "metadata": {
    "pycharm": {
     "name": "#%%\n"
    }
   },
   "outputs": [],
   "source": [
    "f, (ax9, ax10) = plt.subplots(1, 2, sharex=True, sharey=True,figsize=(10,6))\n",
    "ax9.set_title('K Means - vzo/mfi')\n",
    "ax9.scatter(n_indicators[\"vzo\"], n_indicators[\"mfi\"], c=kmeans.labels_, cmap=\"rainbow\")\n",
    "ax10.set_title(\"Original\")\n",
    "ax10.scatter(n_indicators[\"vzo\"], n_indicators[\"mfi\"], c=n_indicators[\"close\"], cmap=\"rainbow\")"
   ]
  },
  {
   "cell_type": "code",
   "execution_count": null,
   "metadata": {
    "pycharm": {
     "name": "#%%"
    }
   },
   "outputs": [],
   "source": []
  },
  {
   "cell_type": "code",
   "execution_count": null,
   "metadata": {
    "pycharm": {
     "name": "#%%"
    }
   },
   "outputs": [],
   "source": [
    "heatmap = go.Heatmap(\n",
    "    z=n_indicators.iloc[-20:].corr(method='pearson').values,\n",
    "    x=n_indicators.columns,\n",
    "    y=n_indicators.columns,\n",
    "    colorbar=dict(title='Pearson Coefficient'),\n",
    ")\n",
    "\n",
    "layout = go.Layout(title=\"Pearson correlation of indicators\")\n",
    "\n",
    "heatmap['zmax'] = 1.0\n",
    "heatmap['zmin'] = -1.0\n",
    "\n",
    "fig = go.Figure(data=[heatmap], layout=layout)\n",
    "py.iplot(fig)"
   ]
  },
  {
   "cell_type": "code",
   "execution_count": null,
   "metadata": {
    "pycharm": {
     "name": "#%%\n"
    }
   },
   "outputs": [],
   "source": [
    "heatmap = go.Heatmap(\n",
    "    z=n_indicators.iloc[-20:].pct_change().corr(method='pearson').values,\n",
    "    x=n_indicators.columns,\n",
    "    y=n_indicators.columns,\n",
    "    colorbar=dict(title='Pearson Coefficient'),\n",
    ")\n",
    "\n",
    "layout = go.Layout(title=\"Pearson correlation of indicator percentage changes\")\n",
    "\n",
    "heatmap['zmax'] = 1.0\n",
    "heatmap['zmin'] = -1.0\n",
    "\n",
    "fig = go.Figure(data=[heatmap], layout=layout)\n",
    "py.iplot(fig)"
   ]
  },
  {
   "cell_type": "code",
   "execution_count": null,
   "metadata": {
    "pycharm": {
     "name": "#%%\n"
    }
   },
   "outputs": [],
   "source": []
  },
  {
   "cell_type": "code",
   "execution_count": null,
   "metadata": {
    "pycharm": {
     "name": "#%%\n"
    }
   },
   "outputs": [],
   "source": [
    "n_indicators            = pd.DataFrame()\n",
    "n_indicators[\"close\"]   = indicators[ticker_index][\"close\"]\n",
    "n_indicators[\"macd\"]    = indicators[ticker_index][\"macd\"]\n",
    "n_indicators[\"signal\"]  = indicators[ticker_index][\"signal\"]\n",
    "n_indicators[\"mfi\"]     = indicators[ticker_index][\"mfi\"]\n",
    "n_indicators[\"bb_up\"]   = indicators[ticker_index][\"bb_up\"]\n",
    "n_indicators[\"bb_low\"]  = indicators[ticker_index][\"bb_low\"]\n",
    "n_indicators[\"vzo\"]     = indicators[ticker_index][\"vzo\"]\n",
    "n_indicators[\"apz_u\"]   = indicators[ticker_index][\"apz_u\"]\n",
    "n_indicators[\"apz_l\"]   = indicators[ticker_index][\"apz_l\"]\n",
    "n_indicators[\"stoch\"]   = indicators[ticker_index][\"stoch\"]\n",
    "\n",
    "# train models\n",
    "close_train, close_test     = predictions.get_predictions(n_indicators[\"close\"])\n",
    "macd_train, macd_test       = predictions.get_predictions(n_indicators[\"macd\"])\n",
    "signal_train, signal_test   = predictions.get_predictions(n_indicators[\"signal\"])\n",
    "mfi_train, mfi_test         = predictions.get_predictions(n_indicators[\"mfi\"])\n",
    "stoch_train, stoch_test     = predictions.get_predictions(n_indicators[\"stoch\"])\n",
    "vzo_train, vzo_test         = predictions.get_predictions(n_indicators[\"vzo\"])"
   ]
  },
  {
   "cell_type": "code",
   "execution_count": null,
   "metadata": {
    "pycharm": {
     "name": "#%%\n"
    }
   },
   "outputs": [],
   "source": [
    "close_test      = close_test[~np.isnan(close_test)]\n",
    "macd_test       = macd_test[~np.isnan(macd_test)]\n",
    "signal_test     = signal_test[~np.isnan(signal_test)]\n",
    "mfi_test        = mfi_test[~np.isnan(mfi_test)]\n",
    "stoch_test      = stoch_test[~np.isnan(stoch_test)]\n",
    "vzo_test        = vzo_test[~np.isnan(vzo_test)]"
   ]
  },
  {
   "cell_type": "code",
   "execution_count": null,
   "metadata": {
    "pycharm": {
     "name": "#%%\n"
    }
   },
   "outputs": [],
   "source": [
    "# close\n",
    "plt.plot(np.cumprod(close_train+1), label=\"ass\")\n",
    "plt.plot(np.cumprod(close_test+1), label=\"dick\")"
   ]
  },
  {
   "cell_type": "code",
   "execution_count": null,
   "metadata": {
    "pycharm": {
     "name": "#%%\n"
    }
   },
   "outputs": [],
   "source": [
    "# macd\n",
    "plt.plot(np.cumprod(macd_train+1), color=\"green\")\n",
    "plt.plot(np.cumprod(signal_train+1), color=\"orange\")\n",
    "# test\n",
    "plt.plot(np.cumprod(macd_test+1), color=\"blue\")\n",
    "plt.plot(np.cumprod(signal_test+1), color=\"red\")"
   ]
  },
  {
   "cell_type": "code",
   "execution_count": null,
   "metadata": {
    "pycharm": {
     "name": "#%%\n"
    }
   },
   "outputs": [],
   "source": [
    "# MFI\n",
    "plt.plot(np.cumprod(mfi_train+1))\n",
    "plt.plot(np.cumprod(mfi_test+1))"
   ]
  },
  {
   "cell_type": "code",
   "execution_count": null,
   "metadata": {
    "pycharm": {
     "name": "#%%\n"
    }
   },
   "outputs": [],
   "source": [
    "# stochastic oscillator  \n",
    "plt.plot(np.cumprod(stoch_train+1))\n",
    "plt.plot(np.cumprod(stoch_test+1))"
   ]
  },
  {
   "cell_type": "code",
   "execution_count": null,
   "metadata": {
    "pycharm": {
     "name": "#%%\n"
    }
   },
   "outputs": [],
   "source": [
    "# macd and signal + close w/ volume\n",
    "plt.plot(np.cumprod(close_test+1), color=\"blue\")\n",
    "plt.plot(np.cumprod(macd_test+1), color=\"orange\")\n",
    "plt.plot(np.cumprod(signal_test+1), color=\"green\")\n",
    "# plt.plot(np.cumprod(volume_test+1), color=\"black\")"
   ]
  },
  {
   "cell_type": "code",
   "execution_count": null,
   "metadata": {
    "pycharm": {
     "name": "#%%\n"
    }
   },
   "outputs": [],
   "source": [
    "# stoch + mfi w/ volume\n",
    "plt.plot(np.cumprod(mfi_test+1), color=\"#9467bd\")\n",
    "plt.plot(np.cumprod(stoch_test+1), color=\"#17becf\")\n",
    "# plt.plot(np.cumprod(volume_test+1), color=\"black\")"
   ]
  },
  {
   "cell_type": "code",
   "execution_count": null,
   "metadata": {
    "pycharm": {
     "name": "#%%\n"
    }
   },
   "outputs": [],
   "source": [
    "print(\"close test:\", close_test[-1], \" current close:\", n_indicators[\"close\"].iloc[-1])\n",
    "print(\"macd test:\", macd_test[-1], \" current macd:\", n_indicators[\"macd\"].iloc[-1])\n",
    "print(\"signal test:\", signal_test[-1], \" current signal:\", n_indicators[\"signal\"].iloc[-1])\n",
    "print(\"mfi test:\", mfi_test[-1], \" current mfi:\", n_indicators[\"mfi\"].iloc[-1])\n",
    "print(\"stoch test:\", stoch_test[-1], \" current stoch:\", n_indicators[\"stoch\"].iloc[-1])\n",
    "print(\"VZO test:\", vzo_test[-1], \" current VZO:\", n_indicators[\"vzo\"].iloc[-1])"
   ]
  },
  {
   "cell_type": "code",
   "execution_count": null,
   "metadata": {
    "pycharm": {
     "name": "#%%\n"
    }
   },
   "outputs": [],
   "source": [
    "# print(\"sentiment:\", sentiment)"
   ]
  },
  {
   "cell_type": "code",
   "execution_count": null,
   "metadata": {
    "pycharm": {
     "name": "#%%\n"
    }
   },
   "outputs": [],
   "source": [
    "print(n_indicators[\"macd\"].iloc[-1] < n_indicators[\"signal\"].iloc[-1])"
   ]
  },
  {
   "cell_type": "code",
   "execution_count": null,
   "metadata": {
    "pycharm": {
     "name": "#%%\n"
    }
   },
   "outputs": [],
   "source": [
    "print(bullish_sequence(n_indicators[\"macd\"].iloc[-5], n_indicators[\"macd\"].iloc[-4], n_indicators[\"macd\"].iloc[-3]))"
   ]
  },
  {
   "cell_type": "code",
   "execution_count": null,
   "metadata": {
    "pycharm": {
     "name": "#%%\n"
    }
   },
   "outputs": [],
   "source": [
    "pattern = bullish_candlestick_patterns(n_indicators.iloc[-1], n_indicators.iloc[-2], n_indicators.iloc[-3])\n",
    "print(\"Pattern: \", pattern, pattern in [\"hammer\", \"inverseHammer\"])"
   ]
  }
 ],
 "metadata": {
  "kernelspec": {
   "display_name": "Python 3",
   "language": "python",
   "name": "python3"
  },
  "language_info": {
   "codemirror_mode": {
    "name": "ipython",
    "version": 3
   },
   "file_extension": ".py",
   "mimetype": "text/x-python",
   "name": "python",
   "nbconvert_exporter": "python",
   "pygments_lexer": "ipython3",
   "version": "3.7.4"
  },
  "pycharm": {
   "stem_cell": {
    "cell_type": "raw",
    "metadata": {
     "collapsed": false
    },
    "source": []
   }
  }
 },
 "nbformat": 4,
 "nbformat_minor": 1
}