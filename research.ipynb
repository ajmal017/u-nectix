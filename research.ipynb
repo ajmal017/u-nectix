{
 "cells": [
  {
   "cell_type": "code",
   "execution_count": 1,
   "metadata": {
    "pycharm": {
     "is_executing": false
    }
   },
   "outputs": [
    {
     "name": "stderr",
     "output_type": "stream",
     "text": [
      "/home/ben/anaconda3/envs/alpaca_test/lib/python3.7/site-packages/tensorflow/python/framework/dtypes.py:516: FutureWarning: Passing (type, 1) or '1type' as a synonym of type is deprecated; in a future version of numpy, it will be understood as (type, (1,)) / '(1,)type'.\n",
      "  _np_qint8 = np.dtype([(\"qint8\", np.int8, 1)])\n",
      "/home/ben/anaconda3/envs/alpaca_test/lib/python3.7/site-packages/tensorflow/python/framework/dtypes.py:517: FutureWarning: Passing (type, 1) or '1type' as a synonym of type is deprecated; in a future version of numpy, it will be understood as (type, (1,)) / '(1,)type'.\n",
      "  _np_quint8 = np.dtype([(\"quint8\", np.uint8, 1)])\n",
      "/home/ben/anaconda3/envs/alpaca_test/lib/python3.7/site-packages/tensorflow/python/framework/dtypes.py:518: FutureWarning: Passing (type, 1) or '1type' as a synonym of type is deprecated; in a future version of numpy, it will be understood as (type, (1,)) / '(1,)type'.\n",
      "  _np_qint16 = np.dtype([(\"qint16\", np.int16, 1)])\n",
      "/home/ben/anaconda3/envs/alpaca_test/lib/python3.7/site-packages/tensorflow/python/framework/dtypes.py:519: FutureWarning: Passing (type, 1) or '1type' as a synonym of type is deprecated; in a future version of numpy, it will be understood as (type, (1,)) / '(1,)type'.\n",
      "  _np_quint16 = np.dtype([(\"quint16\", np.uint16, 1)])\n",
      "/home/ben/anaconda3/envs/alpaca_test/lib/python3.7/site-packages/tensorflow/python/framework/dtypes.py:520: FutureWarning: Passing (type, 1) or '1type' as a synonym of type is deprecated; in a future version of numpy, it will be understood as (type, (1,)) / '(1,)type'.\n",
      "  _np_qint32 = np.dtype([(\"qint32\", np.int32, 1)])\n",
      "/home/ben/anaconda3/envs/alpaca_test/lib/python3.7/site-packages/tensorflow/python/framework/dtypes.py:525: FutureWarning: Passing (type, 1) or '1type' as a synonym of type is deprecated; in a future version of numpy, it will be understood as (type, (1,)) / '(1,)type'.\n",
      "  np_resource = np.dtype([(\"resource\", np.ubyte, 1)])\n",
      "/home/ben/anaconda3/envs/alpaca_test/lib/python3.7/site-packages/tensorboard/compat/tensorflow_stub/dtypes.py:541: FutureWarning: Passing (type, 1) or '1type' as a synonym of type is deprecated; in a future version of numpy, it will be understood as (type, (1,)) / '(1,)type'.\n",
      "  _np_qint8 = np.dtype([(\"qint8\", np.int8, 1)])\n",
      "/home/ben/anaconda3/envs/alpaca_test/lib/python3.7/site-packages/tensorboard/compat/tensorflow_stub/dtypes.py:542: FutureWarning: Passing (type, 1) or '1type' as a synonym of type is deprecated; in a future version of numpy, it will be understood as (type, (1,)) / '(1,)type'.\n",
      "  _np_quint8 = np.dtype([(\"quint8\", np.uint8, 1)])\n",
      "/home/ben/anaconda3/envs/alpaca_test/lib/python3.7/site-packages/tensorboard/compat/tensorflow_stub/dtypes.py:543: FutureWarning: Passing (type, 1) or '1type' as a synonym of type is deprecated; in a future version of numpy, it will be understood as (type, (1,)) / '(1,)type'.\n",
      "  _np_qint16 = np.dtype([(\"qint16\", np.int16, 1)])\n",
      "/home/ben/anaconda3/envs/alpaca_test/lib/python3.7/site-packages/tensorboard/compat/tensorflow_stub/dtypes.py:544: FutureWarning: Passing (type, 1) or '1type' as a synonym of type is deprecated; in a future version of numpy, it will be understood as (type, (1,)) / '(1,)type'.\n",
      "  _np_quint16 = np.dtype([(\"quint16\", np.uint16, 1)])\n",
      "/home/ben/anaconda3/envs/alpaca_test/lib/python3.7/site-packages/tensorboard/compat/tensorflow_stub/dtypes.py:545: FutureWarning: Passing (type, 1) or '1type' as a synonym of type is deprecated; in a future version of numpy, it will be understood as (type, (1,)) / '(1,)type'.\n",
      "  _np_qint32 = np.dtype([(\"qint32\", np.int32, 1)])\n",
      "/home/ben/anaconda3/envs/alpaca_test/lib/python3.7/site-packages/tensorboard/compat/tensorflow_stub/dtypes.py:550: FutureWarning: Passing (type, 1) or '1type' as a synonym of type is deprecated; in a future version of numpy, it will be understood as (type, (1,)) / '(1,)type'.\n",
      "  np_resource = np.dtype([(\"resource\", np.ubyte, 1)])\n"
     ]
    },
    {
     "data": {
      "text/html": [
       "        <script type=\"text/javascript\">\n",
       "        window.PlotlyConfig = {MathJaxConfig: 'local'};\n",
       "        if (window.MathJax) {MathJax.Hub.Config({SVG: {font: \"STIX-Web\"}});}\n",
       "        if (typeof require !== 'undefined') {\n",
       "        require.undef(\"plotly\");\n",
       "        requirejs.config({\n",
       "            paths: {\n",
       "                'plotly': ['https://cdn.plot.ly/plotly-latest.min']\n",
       "            }\n",
       "        });\n",
       "        require(['plotly'], function(Plotly) {\n",
       "            window._Plotly = Plotly;\n",
       "        });\n",
       "        }\n",
       "        </script>\n",
       "        "
      ]
     },
     "metadata": {},
     "output_type": "display_data"
    }
   ],
   "source": [
    "#!/usr/bin/env python\n",
    "# -*- coding: utf-8 -*-\n",
    "from util import bullish_sequence, bullish_candlestick_patterns\n",
    "from src.asset_selector import AssetSelector\n",
    "from src.indicators import Indicators\n",
    "from src.predictor import Predictor\n",
    "from sklearn.cluster import KMeans\n",
    "import alpaca_trade_api as tradeapi\n",
    "import matplotlib.pyplot as plt\n",
    "import plotly.graph_objs as go\n",
    "import plotly.offline as py\n",
    "import configparser\n",
    "import pandas as pd\n",
    "import numpy as np\n",
    "import sys\n",
    "import os\n",
    "\n",
    "py.init_notebook_mode(connected=True)\n",
    "config = configparser.ConfigParser()\n",
    "\n",
    "try:\n",
    "    config.read(os.path.relpath(\"config.ini\"))\n",
    "except FileExistsError as e:\n",
    "    print(\"FileExistsError: {}\".format(e))\n",
    "    sys.exit(1)\n",
    "\n",
    "\n",
    "alpaca_api = tradeapi.REST(\n",
    "    base_url    = config[\"alpaca\"][\"APCA_API_BASE_URL\"],\n",
    "    key_id      = config[\"alpaca\"][\"APCA_API_KEY_ID\"],\n",
    "    secret_key  = config[\"alpaca\"][\"APCA_API_SECRET_KEY\"],\n",
    "    api_version = config[\"alpaca\"][\"VERSION\"]\n",
    ")"
   ]
  },
  {
   "cell_type": "code",
   "execution_count": 2,
   "metadata": {},
   "outputs": [
    {
     "name": "stdout",
     "output_type": "stream",
     "text": [
      "Ticker: FHN\t\tPoolsize: 20\t\tResult Length: 1\n",
      "Ticker: AMN\t\tPoolsize: 20\t\tResult Length: 2\n",
      "Ticker: MSCI\t\tPoolsize: 20\t\tResult Length: 3\n",
      "Ticker: FMBI\t\tPoolsize: 20\t\tResult Length: 4\n",
      "Ticker: NNN\t\tPoolsize: 20\t\tResult Length: 5\n",
      "Ticker: WSC\t\tPoolsize: 20\t\tResult Length: 6\n",
      "Ticker: CPLG\t\tPoolsize: 20\t\tResult Length: 7\n",
      "Ticker: BTN\t\tPoolsize: 20\t\tResult Length: 8\n",
      "Ticker: VICI\t\tPoolsize: 20\t\tResult Length: 9\n",
      "Ticker: FIS\t\tPoolsize: 20\t\tResult Length: 10\n",
      "Ticker: AFIN\t\tPoolsize: 20\t\tResult Length: 11\n",
      "Ticker: VALE\t\tPoolsize: 20\t\tResult Length: 12\n",
      "Ticker: IIVI\t\tPoolsize: 20\t\tResult Length: 13\n",
      "Ticker: PICO\t\tPoolsize: 20\t\tResult Length: 14\n",
      "Ticker: TEVA\t\tPoolsize: 20\t\tResult Length: 15\n",
      "Ticker: MYOK\t\tPoolsize: 20\t\tResult Length: 16\n",
      "Ticker: ZUO\t\tPoolsize: 20\t\tResult Length: 17\n",
      "Ticker: BOMN\t\tPoolsize: 20\t\tResult Length: 18\n",
      "Ticker: CONE\t\tPoolsize: 20\t\tResult Length: 19\n",
      "Ticker: RCII\t\tPoolsize: 20\t\tResult Length: 20\n"
     ]
    }
   ],
   "source": [
    "assets      = AssetSelector(alpaca_api, edgar_token=None).bullish_candlesticks(64, 20)"
   ]
  },
  {
   "cell_type": "code",
   "execution_count": 3,
   "metadata": {
    "pycharm": {
     "name": "#%%\n"
    }
   },
   "outputs": [],
   "source": [
    "indicators  = Indicators(alpaca_api, assets).get_cluster()"
   ]
  },
  {
   "cell_type": "code",
   "execution_count": 4,
   "metadata": {
    "pycharm": {
     "name": "#%%\n"
    }
   },
   "outputs": [],
   "source": [
    "predictions = Predictor(indicators)"
   ]
  },
  {
   "cell_type": "code",
   "execution_count": 5,
   "metadata": {},
   "outputs": [
    {
     "data": {
      "text/html": [
       "<div>\n",
       "<style scoped>\n",
       "    .dataframe tbody tr th:only-of-type {\n",
       "        vertical-align: middle;\n",
       "    }\n",
       "\n",
       "    .dataframe tbody tr th {\n",
       "        vertical-align: top;\n",
       "    }\n",
       "\n",
       "    .dataframe thead th {\n",
       "        text-align: right;\n",
       "    }\n",
       "</style>\n",
       "<table border=\"1\" class=\"dataframe\">\n",
       "  <thead>\n",
       "    <tr style=\"text-align: right;\">\n",
       "      <th></th>\n",
       "      <th>time</th>\n",
       "      <th>open</th>\n",
       "      <th>high</th>\n",
       "      <th>low</th>\n",
       "      <th>close</th>\n",
       "      <th>volume</th>\n",
       "      <th>up_move</th>\n",
       "      <th>down_move</th>\n",
       "      <th>DMp</th>\n",
       "      <th>DMm</th>\n",
       "      <th>...</th>\n",
       "      <th>macd_ptc</th>\n",
       "      <th>signal_ptc</th>\n",
       "      <th>vwmacd_ptc</th>\n",
       "      <th>vwsignal_ptc</th>\n",
       "      <th>mfi_ptc</th>\n",
       "      <th>stoch_ptc</th>\n",
       "      <th>vzo_ptc</th>\n",
       "      <th>adx_ptc</th>\n",
       "      <th>apz_u_ptc</th>\n",
       "      <th>apz_l_ptc</th>\n",
       "    </tr>\n",
       "  </thead>\n",
       "  <tbody>\n",
       "    <tr>\n",
       "      <td>43</td>\n",
       "      <td>2019-10-03 00:00:00-04:00</td>\n",
       "      <td>15.85</td>\n",
       "      <td>15.900</td>\n",
       "      <td>15.620</td>\n",
       "      <td>15.840</td>\n",
       "      <td>1723667</td>\n",
       "      <td>-0.020</td>\n",
       "      <td>0.090</td>\n",
       "      <td>0.000</td>\n",
       "      <td>0.090</td>\n",
       "      <td>...</td>\n",
       "      <td>-0.572003</td>\n",
       "      <td>-0.160347</td>\n",
       "      <td>-0.513136</td>\n",
       "      <td>-0.157415</td>\n",
       "      <td>-0.192392</td>\n",
       "      <td>0.196703</td>\n",
       "      <td>0.084686</td>\n",
       "      <td>NaN</td>\n",
       "      <td>-0.003674</td>\n",
       "      <td>-0.003983</td>\n",
       "    </tr>\n",
       "    <tr>\n",
       "      <td>44</td>\n",
       "      <td>2019-10-04 00:00:00-04:00</td>\n",
       "      <td>15.87</td>\n",
       "      <td>16.085</td>\n",
       "      <td>15.660</td>\n",
       "      <td>16.050</td>\n",
       "      <td>2524738</td>\n",
       "      <td>0.185</td>\n",
       "      <td>-0.040</td>\n",
       "      <td>0.185</td>\n",
       "      <td>0.000</td>\n",
       "      <td>...</td>\n",
       "      <td>-0.294643</td>\n",
       "      <td>-0.166689</td>\n",
       "      <td>-0.404821</td>\n",
       "      <td>-0.169921</td>\n",
       "      <td>0.208655</td>\n",
       "      <td>0.954545</td>\n",
       "      <td>-0.393356</td>\n",
       "      <td>NaN</td>\n",
       "      <td>-0.000884</td>\n",
       "      <td>-0.001244</td>\n",
       "    </tr>\n",
       "    <tr>\n",
       "      <td>45</td>\n",
       "      <td>2019-10-07 00:00:00-04:00</td>\n",
       "      <td>16.01</td>\n",
       "      <td>16.110</td>\n",
       "      <td>15.880</td>\n",
       "      <td>15.890</td>\n",
       "      <td>1542241</td>\n",
       "      <td>0.025</td>\n",
       "      <td>-0.220</td>\n",
       "      <td>0.025</td>\n",
       "      <td>0.000</td>\n",
       "      <td>...</td>\n",
       "      <td>-1.164875</td>\n",
       "      <td>-0.206599</td>\n",
       "      <td>-1.067275</td>\n",
       "      <td>-0.202445</td>\n",
       "      <td>0.119521</td>\n",
       "      <td>-0.372093</td>\n",
       "      <td>0.167205</td>\n",
       "      <td>NaN</td>\n",
       "      <td>-0.002536</td>\n",
       "      <td>-0.002817</td>\n",
       "    </tr>\n",
       "    <tr>\n",
       "      <td>46</td>\n",
       "      <td>2019-10-08 00:00:00-04:00</td>\n",
       "      <td>15.76</td>\n",
       "      <td>15.760</td>\n",
       "      <td>15.560</td>\n",
       "      <td>15.590</td>\n",
       "      <td>1879139</td>\n",
       "      <td>-0.350</td>\n",
       "      <td>0.320</td>\n",
       "      <td>0.000</td>\n",
       "      <td>0.320</td>\n",
       "      <td>...</td>\n",
       "      <td>14.937677</td>\n",
       "      <td>-0.332432</td>\n",
       "      <td>41.926210</td>\n",
       "      <td>-0.331251</td>\n",
       "      <td>-0.147902</td>\n",
       "      <td>-0.895762</td>\n",
       "      <td>0.161424</td>\n",
       "      <td>NaN</td>\n",
       "      <td>-0.005463</td>\n",
       "      <td>-0.005734</td>\n",
       "    </tr>\n",
       "    <tr>\n",
       "      <td>47</td>\n",
       "      <td>2019-10-09 00:00:00-04:00</td>\n",
       "      <td>15.72</td>\n",
       "      <td>15.720</td>\n",
       "      <td>15.490</td>\n",
       "      <td>15.535</td>\n",
       "      <td>1656889</td>\n",
       "      <td>-0.040</td>\n",
       "      <td>0.070</td>\n",
       "      <td>0.000</td>\n",
       "      <td>0.070</td>\n",
       "      <td>...</td>\n",
       "      <td>0.831100</td>\n",
       "      <td>-0.563240</td>\n",
       "      <td>0.824361</td>\n",
       "      <td>-0.558044</td>\n",
       "      <td>-0.186750</td>\n",
       "      <td>0.399038</td>\n",
       "      <td>0.111808</td>\n",
       "      <td>NaN</td>\n",
       "      <td>-0.005402</td>\n",
       "      <td>-0.005540</td>\n",
       "    </tr>\n",
       "    <tr>\n",
       "      <td>48</td>\n",
       "      <td>2019-10-10 00:00:00-04:00</td>\n",
       "      <td>15.63</td>\n",
       "      <td>15.810</td>\n",
       "      <td>15.590</td>\n",
       "      <td>15.770</td>\n",
       "      <td>2218400</td>\n",
       "      <td>0.090</td>\n",
       "      <td>-0.100</td>\n",
       "      <td>0.090</td>\n",
       "      <td>0.000</td>\n",
       "      <td>...</td>\n",
       "      <td>0.090378</td>\n",
       "      <td>-1.106824</td>\n",
       "      <td>0.174414</td>\n",
       "      <td>-1.151419</td>\n",
       "      <td>0.264990</td>\n",
       "      <td>5.222222</td>\n",
       "      <td>-0.399877</td>\n",
       "      <td>NaN</td>\n",
       "      <td>-0.002281</td>\n",
       "      <td>-0.002046</td>\n",
       "    </tr>\n",
       "    <tr>\n",
       "      <td>49</td>\n",
       "      <td>2019-10-11 00:00:00-04:00</td>\n",
       "      <td>15.97</td>\n",
       "      <td>16.080</td>\n",
       "      <td>15.910</td>\n",
       "      <td>15.930</td>\n",
       "      <td>1951637</td>\n",
       "      <td>0.270</td>\n",
       "      <td>-0.320</td>\n",
       "      <td>0.270</td>\n",
       "      <td>0.000</td>\n",
       "      <td>...</td>\n",
       "      <td>-0.105159</td>\n",
       "      <td>7.396201</td>\n",
       "      <td>-0.065610</td>\n",
       "      <td>5.671053</td>\n",
       "      <td>0.166066</td>\n",
       "      <td>0.571429</td>\n",
       "      <td>-0.509103</td>\n",
       "      <td>NaN</td>\n",
       "      <td>-0.000393</td>\n",
       "      <td>0.000202</td>\n",
       "    </tr>\n",
       "    <tr>\n",
       "      <td>50</td>\n",
       "      <td>2019-10-14 00:00:00-04:00</td>\n",
       "      <td>15.82</td>\n",
       "      <td>16.000</td>\n",
       "      <td>15.780</td>\n",
       "      <td>15.900</td>\n",
       "      <td>1326542</td>\n",
       "      <td>-0.080</td>\n",
       "      <td>0.130</td>\n",
       "      <td>0.000</td>\n",
       "      <td>0.130</td>\n",
       "      <td>...</td>\n",
       "      <td>-0.070183</td>\n",
       "      <td>0.641219</td>\n",
       "      <td>-0.022797</td>\n",
       "      <td>0.660012</td>\n",
       "      <td>0.038096</td>\n",
       "      <td>-0.068182</td>\n",
       "      <td>0.470627</td>\n",
       "      <td>NaN</td>\n",
       "      <td>-0.000710</td>\n",
       "      <td>-0.000081</td>\n",
       "    </tr>\n",
       "    <tr>\n",
       "      <td>51</td>\n",
       "      <td>2019-10-15 00:00:00-04:00</td>\n",
       "      <td>15.92</td>\n",
       "      <td>16.165</td>\n",
       "      <td>15.870</td>\n",
       "      <td>16.130</td>\n",
       "      <td>3812755</td>\n",
       "      <td>0.165</td>\n",
       "      <td>-0.090</td>\n",
       "      <td>0.165</td>\n",
       "      <td>0.000</td>\n",
       "      <td>...</td>\n",
       "      <td>-0.345422</td>\n",
       "      <td>0.135507</td>\n",
       "      <td>-0.500188</td>\n",
       "      <td>0.058938</td>\n",
       "      <td>0.072119</td>\n",
       "      <td>0.560976</td>\n",
       "      <td>-1.202312</td>\n",
       "      <td>NaN</td>\n",
       "      <td>0.001849</td>\n",
       "      <td>0.002554</td>\n",
       "    </tr>\n",
       "    <tr>\n",
       "      <td>52</td>\n",
       "      <td>2019-10-16 00:00:00-04:00</td>\n",
       "      <td>15.50</td>\n",
       "      <td>16.090</td>\n",
       "      <td>15.310</td>\n",
       "      <td>15.570</td>\n",
       "      <td>4371445</td>\n",
       "      <td>-0.075</td>\n",
       "      <td>0.560</td>\n",
       "      <td>0.000</td>\n",
       "      <td>0.560</td>\n",
       "      <td>...</td>\n",
       "      <td>0.598967</td>\n",
       "      <td>0.272445</td>\n",
       "      <td>1.281281</td>\n",
       "      <td>0.357835</td>\n",
       "      <td>-0.262654</td>\n",
       "      <td>-0.653689</td>\n",
       "      <td>-5.127161</td>\n",
       "      <td>NaN</td>\n",
       "      <td>-0.003804</td>\n",
       "      <td>-0.004695</td>\n",
       "    </tr>\n",
       "    <tr>\n",
       "      <td>53</td>\n",
       "      <td>2019-10-17 00:00:00-04:00</td>\n",
       "      <td>15.56</td>\n",
       "      <td>15.560</td>\n",
       "      <td>15.280</td>\n",
       "      <td>15.410</td>\n",
       "      <td>4022830</td>\n",
       "      <td>-0.530</td>\n",
       "      <td>0.030</td>\n",
       "      <td>0.000</td>\n",
       "      <td>0.030</td>\n",
       "      <td>...</td>\n",
       "      <td>0.465141</td>\n",
       "      <td>0.343991</td>\n",
       "      <td>0.451274</td>\n",
       "      <td>0.396222</td>\n",
       "      <td>-0.066220</td>\n",
       "      <td>-0.471861</td>\n",
       "      <td>0.813422</td>\n",
       "      <td>NaN</td>\n",
       "      <td>-0.005015</td>\n",
       "      <td>-0.005868</td>\n",
       "    </tr>\n",
       "    <tr>\n",
       "      <td>54</td>\n",
       "      <td>2019-10-18 00:00:00-04:00</td>\n",
       "      <td>15.45</td>\n",
       "      <td>15.595</td>\n",
       "      <td>15.360</td>\n",
       "      <td>15.540</td>\n",
       "      <td>2814896</td>\n",
       "      <td>0.035</td>\n",
       "      <td>-0.080</td>\n",
       "      <td>0.035</td>\n",
       "      <td>0.000</td>\n",
       "      <td>...</td>\n",
       "      <td>0.135586</td>\n",
       "      <td>0.259637</td>\n",
       "      <td>0.055296</td>\n",
       "      <td>0.250637</td>\n",
       "      <td>0.173218</td>\n",
       "      <td>1.000000</td>\n",
       "      <td>-0.525663</td>\n",
       "      <td>NaN</td>\n",
       "      <td>-0.003027</td>\n",
       "      <td>-0.003517</td>\n",
       "    </tr>\n",
       "    <tr>\n",
       "      <td>55</td>\n",
       "      <td>2019-10-21 00:00:00-04:00</td>\n",
       "      <td>15.68</td>\n",
       "      <td>15.845</td>\n",
       "      <td>15.660</td>\n",
       "      <td>15.760</td>\n",
       "      <td>1642074</td>\n",
       "      <td>0.250</td>\n",
       "      <td>-0.300</td>\n",
       "      <td>0.250</td>\n",
       "      <td>0.000</td>\n",
       "      <td>...</td>\n",
       "      <td>-0.069564</td>\n",
       "      <td>0.139512</td>\n",
       "      <td>-0.058645</td>\n",
       "      <td>0.139195</td>\n",
       "      <td>0.140626</td>\n",
       "      <td>1.409387</td>\n",
       "      <td>-0.588882</td>\n",
       "      <td>NaN</td>\n",
       "      <td>-0.000370</td>\n",
       "      <td>-0.000362</td>\n",
       "    </tr>\n",
       "    <tr>\n",
       "      <td>56</td>\n",
       "      <td>2019-10-22 00:00:00-04:00</td>\n",
       "      <td>15.77</td>\n",
       "      <td>16.060</td>\n",
       "      <td>15.590</td>\n",
       "      <td>15.960</td>\n",
       "      <td>2543522</td>\n",
       "      <td>0.215</td>\n",
       "      <td>0.070</td>\n",
       "      <td>0.215</td>\n",
       "      <td>0.000</td>\n",
       "      <td>...</td>\n",
       "      <td>-0.218314</td>\n",
       "      <td>0.032899</td>\n",
       "      <td>-0.212595</td>\n",
       "      <td>0.034449</td>\n",
       "      <td>0.143386</td>\n",
       "      <td>0.416667</td>\n",
       "      <td>-2.035147</td>\n",
       "      <td>NaN</td>\n",
       "      <td>0.002023</td>\n",
       "      <td>0.001831</td>\n",
       "    </tr>\n",
       "    <tr>\n",
       "      <td>57</td>\n",
       "      <td>2019-10-23 00:00:00-04:00</td>\n",
       "      <td>15.93</td>\n",
       "      <td>16.095</td>\n",
       "      <td>15.850</td>\n",
       "      <td>16.040</td>\n",
       "      <td>2299099</td>\n",
       "      <td>0.035</td>\n",
       "      <td>-0.260</td>\n",
       "      <td>0.035</td>\n",
       "      <td>0.000</td>\n",
       "      <td>...</td>\n",
       "      <td>-0.306164</td>\n",
       "      <td>-0.043553</td>\n",
       "      <td>-0.264479</td>\n",
       "      <td>-0.033301</td>\n",
       "      <td>0.102115</td>\n",
       "      <td>0.117647</td>\n",
       "      <td>1.566151</td>\n",
       "      <td>NaN</td>\n",
       "      <td>0.002567</td>\n",
       "      <td>0.002597</td>\n",
       "    </tr>\n",
       "    <tr>\n",
       "      <td>58</td>\n",
       "      <td>2019-10-24 00:00:00-04:00</td>\n",
       "      <td>16.04</td>\n",
       "      <td>16.060</td>\n",
       "      <td>15.850</td>\n",
       "      <td>16.020</td>\n",
       "      <td>1816069</td>\n",
       "      <td>-0.035</td>\n",
       "      <td>-0.000</td>\n",
       "      <td>0.000</td>\n",
       "      <td>0.000</td>\n",
       "      <td>...</td>\n",
       "      <td>-0.329689</td>\n",
       "      <td>-0.090357</td>\n",
       "      <td>-0.233028</td>\n",
       "      <td>-0.067742</td>\n",
       "      <td>-0.100255</td>\n",
       "      <td>-0.026316</td>\n",
       "      <td>-0.638788</td>\n",
       "      <td>NaN</td>\n",
       "      <td>0.001933</td>\n",
       "      <td>0.002139</td>\n",
       "    </tr>\n",
       "    <tr>\n",
       "      <td>59</td>\n",
       "      <td>2019-10-25 00:00:00-04:00</td>\n",
       "      <td>16.00</td>\n",
       "      <td>16.265</td>\n",
       "      <td>15.980</td>\n",
       "      <td>16.150</td>\n",
       "      <td>2106137</td>\n",
       "      <td>0.205</td>\n",
       "      <td>-0.130</td>\n",
       "      <td>0.205</td>\n",
       "      <td>0.000</td>\n",
       "      <td>...</td>\n",
       "      <td>-0.662552</td>\n",
       "      <td>-0.159326</td>\n",
       "      <td>-0.480208</td>\n",
       "      <td>-0.126258</td>\n",
       "      <td>0.013599</td>\n",
       "      <td>0.056318</td>\n",
       "      <td>1.648615</td>\n",
       "      <td>NaN</td>\n",
       "      <td>0.003052</td>\n",
       "      <td>0.003366</td>\n",
       "    </tr>\n",
       "    <tr>\n",
       "      <td>60</td>\n",
       "      <td>2019-10-28 00:00:00-04:00</td>\n",
       "      <td>16.22</td>\n",
       "      <td>16.380</td>\n",
       "      <td>16.175</td>\n",
       "      <td>16.250</td>\n",
       "      <td>2287431</td>\n",
       "      <td>0.115</td>\n",
       "      <td>-0.195</td>\n",
       "      <td>0.115</td>\n",
       "      <td>0.000</td>\n",
       "      <td>...</td>\n",
       "      <td>-2.155937</td>\n",
       "      <td>-0.255928</td>\n",
       "      <td>-1.103484</td>\n",
       "      <td>-0.208734</td>\n",
       "      <td>0.104954</td>\n",
       "      <td>-0.001620</td>\n",
       "      <td>0.600680</td>\n",
       "      <td>NaN</td>\n",
       "      <td>0.003610</td>\n",
       "      <td>0.004156</td>\n",
       "    </tr>\n",
       "    <tr>\n",
       "      <td>61</td>\n",
       "      <td>2019-10-29 00:00:00-04:00</td>\n",
       "      <td>16.23</td>\n",
       "      <td>16.385</td>\n",
       "      <td>16.150</td>\n",
       "      <td>16.355</td>\n",
       "      <td>2302762</td>\n",
       "      <td>0.005</td>\n",
       "      <td>0.025</td>\n",
       "      <td>0.000</td>\n",
       "      <td>0.025</td>\n",
       "      <td>...</td>\n",
       "      <td>2.000879</td>\n",
       "      <td>-0.425558</td>\n",
       "      <td>11.372895</td>\n",
       "      <td>-0.336570</td>\n",
       "      <td>0.085691</td>\n",
       "      <td>0.103233</td>\n",
       "      <td>0.330992</td>\n",
       "      <td>NaN</td>\n",
       "      <td>0.004166</td>\n",
       "      <td>0.004842</td>\n",
       "    </tr>\n",
       "    <tr>\n",
       "      <td>62</td>\n",
       "      <td>2019-10-30 00:00:00-04:00</td>\n",
       "      <td>16.29</td>\n",
       "      <td>16.360</td>\n",
       "      <td>16.080</td>\n",
       "      <td>16.180</td>\n",
       "      <td>2614229</td>\n",
       "      <td>-0.025</td>\n",
       "      <td>0.070</td>\n",
       "      <td>0.000</td>\n",
       "      <td>0.070</td>\n",
       "      <td>...</td>\n",
       "      <td>0.204623</td>\n",
       "      <td>-0.673003</td>\n",
       "      <td>0.367779</td>\n",
       "      <td>-0.481564</td>\n",
       "      <td>-0.103087</td>\n",
       "      <td>-0.162791</td>\n",
       "      <td>-0.532272</td>\n",
       "      <td>NaN</td>\n",
       "      <td>0.001747</td>\n",
       "      <td>0.002205</td>\n",
       "    </tr>\n",
       "  </tbody>\n",
       "</table>\n",
       "<p>20 rows × 37 columns</p>\n",
       "</div>"
      ],
      "text/plain": [
       "                        time   open    high     low   close   volume  up_move  \\\n",
       "43 2019-10-03 00:00:00-04:00  15.85  15.900  15.620  15.840  1723667   -0.020   \n",
       "44 2019-10-04 00:00:00-04:00  15.87  16.085  15.660  16.050  2524738    0.185   \n",
       "45 2019-10-07 00:00:00-04:00  16.01  16.110  15.880  15.890  1542241    0.025   \n",
       "46 2019-10-08 00:00:00-04:00  15.76  15.760  15.560  15.590  1879139   -0.350   \n",
       "47 2019-10-09 00:00:00-04:00  15.72  15.720  15.490  15.535  1656889   -0.040   \n",
       "48 2019-10-10 00:00:00-04:00  15.63  15.810  15.590  15.770  2218400    0.090   \n",
       "49 2019-10-11 00:00:00-04:00  15.97  16.080  15.910  15.930  1951637    0.270   \n",
       "50 2019-10-14 00:00:00-04:00  15.82  16.000  15.780  15.900  1326542   -0.080   \n",
       "51 2019-10-15 00:00:00-04:00  15.92  16.165  15.870  16.130  3812755    0.165   \n",
       "52 2019-10-16 00:00:00-04:00  15.50  16.090  15.310  15.570  4371445   -0.075   \n",
       "53 2019-10-17 00:00:00-04:00  15.56  15.560  15.280  15.410  4022830   -0.530   \n",
       "54 2019-10-18 00:00:00-04:00  15.45  15.595  15.360  15.540  2814896    0.035   \n",
       "55 2019-10-21 00:00:00-04:00  15.68  15.845  15.660  15.760  1642074    0.250   \n",
       "56 2019-10-22 00:00:00-04:00  15.77  16.060  15.590  15.960  2543522    0.215   \n",
       "57 2019-10-23 00:00:00-04:00  15.93  16.095  15.850  16.040  2299099    0.035   \n",
       "58 2019-10-24 00:00:00-04:00  16.04  16.060  15.850  16.020  1816069   -0.035   \n",
       "59 2019-10-25 00:00:00-04:00  16.00  16.265  15.980  16.150  2106137    0.205   \n",
       "60 2019-10-28 00:00:00-04:00  16.22  16.380  16.175  16.250  2287431    0.115   \n",
       "61 2019-10-29 00:00:00-04:00  16.23  16.385  16.150  16.355  2302762    0.005   \n",
       "62 2019-10-30 00:00:00-04:00  16.29  16.360  16.080  16.180  2614229   -0.025   \n",
       "\n",
       "    down_move    DMp    DMm  ...   macd_ptc  signal_ptc  vwmacd_ptc  \\\n",
       "43      0.090  0.000  0.090  ...  -0.572003   -0.160347   -0.513136   \n",
       "44     -0.040  0.185  0.000  ...  -0.294643   -0.166689   -0.404821   \n",
       "45     -0.220  0.025  0.000  ...  -1.164875   -0.206599   -1.067275   \n",
       "46      0.320  0.000  0.320  ...  14.937677   -0.332432   41.926210   \n",
       "47      0.070  0.000  0.070  ...   0.831100   -0.563240    0.824361   \n",
       "48     -0.100  0.090  0.000  ...   0.090378   -1.106824    0.174414   \n",
       "49     -0.320  0.270  0.000  ...  -0.105159    7.396201   -0.065610   \n",
       "50      0.130  0.000  0.130  ...  -0.070183    0.641219   -0.022797   \n",
       "51     -0.090  0.165  0.000  ...  -0.345422    0.135507   -0.500188   \n",
       "52      0.560  0.000  0.560  ...   0.598967    0.272445    1.281281   \n",
       "53      0.030  0.000  0.030  ...   0.465141    0.343991    0.451274   \n",
       "54     -0.080  0.035  0.000  ...   0.135586    0.259637    0.055296   \n",
       "55     -0.300  0.250  0.000  ...  -0.069564    0.139512   -0.058645   \n",
       "56      0.070  0.215  0.000  ...  -0.218314    0.032899   -0.212595   \n",
       "57     -0.260  0.035  0.000  ...  -0.306164   -0.043553   -0.264479   \n",
       "58     -0.000  0.000  0.000  ...  -0.329689   -0.090357   -0.233028   \n",
       "59     -0.130  0.205  0.000  ...  -0.662552   -0.159326   -0.480208   \n",
       "60     -0.195  0.115  0.000  ...  -2.155937   -0.255928   -1.103484   \n",
       "61      0.025  0.000  0.025  ...   2.000879   -0.425558   11.372895   \n",
       "62      0.070  0.000  0.070  ...   0.204623   -0.673003    0.367779   \n",
       "\n",
       "    vwsignal_ptc   mfi_ptc  stoch_ptc   vzo_ptc  adx_ptc  apz_u_ptc  apz_l_ptc  \n",
       "43     -0.157415 -0.192392   0.196703  0.084686      NaN  -0.003674  -0.003983  \n",
       "44     -0.169921  0.208655   0.954545 -0.393356      NaN  -0.000884  -0.001244  \n",
       "45     -0.202445  0.119521  -0.372093  0.167205      NaN  -0.002536  -0.002817  \n",
       "46     -0.331251 -0.147902  -0.895762  0.161424      NaN  -0.005463  -0.005734  \n",
       "47     -0.558044 -0.186750   0.399038  0.111808      NaN  -0.005402  -0.005540  \n",
       "48     -1.151419  0.264990   5.222222 -0.399877      NaN  -0.002281  -0.002046  \n",
       "49      5.671053  0.166066   0.571429 -0.509103      NaN  -0.000393   0.000202  \n",
       "50      0.660012  0.038096  -0.068182  0.470627      NaN  -0.000710  -0.000081  \n",
       "51      0.058938  0.072119   0.560976 -1.202312      NaN   0.001849   0.002554  \n",
       "52      0.357835 -0.262654  -0.653689 -5.127161      NaN  -0.003804  -0.004695  \n",
       "53      0.396222 -0.066220  -0.471861  0.813422      NaN  -0.005015  -0.005868  \n",
       "54      0.250637  0.173218   1.000000 -0.525663      NaN  -0.003027  -0.003517  \n",
       "55      0.139195  0.140626   1.409387 -0.588882      NaN  -0.000370  -0.000362  \n",
       "56      0.034449  0.143386   0.416667 -2.035147      NaN   0.002023   0.001831  \n",
       "57     -0.033301  0.102115   0.117647  1.566151      NaN   0.002567   0.002597  \n",
       "58     -0.067742 -0.100255  -0.026316 -0.638788      NaN   0.001933   0.002139  \n",
       "59     -0.126258  0.013599   0.056318  1.648615      NaN   0.003052   0.003366  \n",
       "60     -0.208734  0.104954  -0.001620  0.600680      NaN   0.003610   0.004156  \n",
       "61     -0.336570  0.085691   0.103233  0.330992      NaN   0.004166   0.004842  \n",
       "62     -0.481564 -0.103087  -0.162791 -0.532272      NaN   0.001747   0.002205  \n",
       "\n",
       "[20 rows x 37 columns]"
      ]
     },
     "execution_count": 5,
     "metadata": {},
     "output_type": "execute_result"
    }
   ],
   "source": [
    "# get the first tradeable asset in the collection of indicators\n",
    "ticker_index = list(indicators.keys())[0]\n",
    "indicators[ticker_index].iloc[-20:]"
   ]
  },
  {
   "cell_type": "code",
   "execution_count": 6,
   "metadata": {
    "pycharm": {
     "name": "#%%\n"
    }
   },
   "outputs": [],
   "source": [
    "kmeans = KMeans(n_clusters=2)"
   ]
  },
  {
   "cell_type": "code",
   "execution_count": 7,
   "metadata": {
    "pycharm": {
     "name": "#%%\n"
    }
   },
   "outputs": [],
   "source": [
    "n_indicators                = pd.DataFrame()\n",
    "n_indicators[\"open\"]        = indicators[ticker_index][\"open\"].iloc[-20:]\n",
    "n_indicators[\"high\"]        = indicators[ticker_index][\"high\"].iloc[-20:]\n",
    "n_indicators[\"low\"]         = indicators[ticker_index][\"low\"].iloc[-20:]\n",
    "n_indicators[\"close\"]       = indicators[ticker_index][\"close\"].iloc[-20:]\n",
    "n_indicators[\"macd\"]        = indicators[ticker_index][\"macd\"].iloc[-20:]\n",
    "n_indicators[\"signal\"]      = indicators[ticker_index][\"signal\"].iloc[-20:]\n",
    "n_indicators[\"mfi\"]         = indicators[ticker_index][\"mfi\"].iloc[-20:]\n",
    "n_indicators[\"bb_up\"]       = indicators[ticker_index][\"bb_up\"].iloc[-20:]\n",
    "n_indicators[\"bb_low\"]      = indicators[ticker_index][\"bb_low\"].iloc[-20:]\n",
    "n_indicators[\"vzo\"]         = indicators[ticker_index][\"vzo\"].iloc[-20:]\n",
    "n_indicators[\"apz_u\"]       = indicators[ticker_index][\"apz_u\"].iloc[-20:]\n",
    "n_indicators[\"apz_l\"]       = indicators[ticker_index][\"apz_l\"].iloc[-20:]\n",
    "n_indicators[\"stoch\"]       = indicators[ticker_index][\"stoch\"].iloc[-20:]\n",
    "\n",
    "n1_indicators               = pd.DataFrame()\n",
    "ticker_index                = list(indicators.keys())[1]\n",
    "\n",
    "n1_indicators[\"open\"]       = indicators[ticker_index][\"open\"].iloc[-20:]\n",
    "n1_indicators[\"high\"]       = indicators[ticker_index][\"high\"].iloc[-20:]\n",
    "n1_indicators[\"low\"]        = indicators[ticker_index][\"low\"].iloc[-20:]\n",
    "n1_indicators[\"close\"]      = indicators[ticker_index][\"close\"].iloc[-20:]\n",
    "n1_indicators[\"macd\"]       = indicators[ticker_index][\"macd\"].iloc[-20:]\n",
    "n1_indicators[\"signal\"]     = indicators[ticker_index][\"signal\"].iloc[-20:]\n",
    "n1_indicators[\"mfi\"]        = indicators[ticker_index][\"mfi\"].iloc[-20:]\n",
    "n1_indicators[\"bb_up\"]      = indicators[ticker_index][\"bb_up\"].iloc[-20:]\n",
    "n1_indicators[\"bb_low\"]     = indicators[ticker_index][\"bb_low\"].iloc[-20:]\n",
    "n1_indicators[\"vzo\"]        = indicators[ticker_index][\"vzo\"].iloc[-20:]\n",
    "n1_indicators[\"apz_u\"]      = indicators[ticker_index][\"apz_u\"].iloc[-20:]\n",
    "n1_indicators[\"apz_l\"]      = indicators[ticker_index][\"apz_l\"].iloc[-20:]\n",
    "n1_indicators[\"stoch\"]      = indicators[ticker_index][\"stoch\"].iloc[-20:]\n",
    "\n",
    "n2_indicators               = pd.DataFrame()\n",
    "ticker_index                = list(indicators.keys())[2]\n",
    "\n",
    "n2_indicators[\"open\"]       = indicators[ticker_index][\"open\"].iloc[-20:]\n",
    "n2_indicators[\"high\"]       = indicators[ticker_index][\"high\"].iloc[-20:]\n",
    "n2_indicators[\"low\"]        = indicators[ticker_index][\"low\"].iloc[-20:]\n",
    "n2_indicators[\"close\"]      = indicators[ticker_index][\"close\"].iloc[-20:]\n",
    "n2_indicators[\"macd\"]       = indicators[ticker_index][\"macd\"].iloc[-20:]\n",
    "n2_indicators[\"signal\"]     = indicators[ticker_index][\"signal\"].iloc[-20:]\n",
    "n2_indicators[\"mfi\"]        = indicators[ticker_index][\"mfi\"].iloc[-20:]\n",
    "n2_indicators[\"bb_up\"]      = indicators[ticker_index][\"bb_up\"].iloc[-20:]\n",
    "n2_indicators[\"bb_low\"]     = indicators[ticker_index][\"bb_low\"].iloc[-20:]\n",
    "n2_indicators[\"vzo\"]        = indicators[ticker_index][\"vzo\"].iloc[-20:]\n",
    "n2_indicators[\"apz_u\"]      = indicators[ticker_index][\"apz_u\"].iloc[-20:]\n",
    "n2_indicators[\"apz_l\"]      = indicators[ticker_index][\"apz_l\"].iloc[-20:]\n",
    "n2_indicators[\"stoch\"]      = indicators[ticker_index][\"stoch\"].iloc[-20:]\n",
    "\n",
    "n3_indicators               = pd.DataFrame()\n",
    "ticker_index                = list(indicators.keys())[3]\n",
    "\n",
    "n3_indicators[\"open\"]       = indicators[ticker_index][\"open\"].iloc[-20:]\n",
    "n3_indicators[\"high\"]       = indicators[ticker_index][\"high\"].iloc[-20:]\n",
    "n3_indicators[\"low\"]        = indicators[ticker_index][\"low\"].iloc[-20:]\n",
    "n3_indicators[\"close\"]      = indicators[ticker_index][\"close\"].iloc[-20:]\n",
    "n3_indicators[\"macd\"]       = indicators[ticker_index][\"macd\"].iloc[-20:]\n",
    "n3_indicators[\"signal\"]     = indicators[ticker_index][\"signal\"].iloc[-20:]\n",
    "n3_indicators[\"mfi\"]        = indicators[ticker_index][\"mfi\"].iloc[-20:]\n",
    "n3_indicators[\"bb_up\"]      = indicators[ticker_index][\"bb_up\"].iloc[-20:]\n",
    "n3_indicators[\"bb_low\"]     = indicators[ticker_index][\"bb_low\"].iloc[-20:]\n",
    "n3_indicators[\"vzo\"]        = indicators[ticker_index][\"vzo\"].iloc[-20:]\n",
    "n3_indicators[\"apz_u\"]      = indicators[ticker_index][\"apz_u\"].iloc[-20:]\n",
    "n3_indicators[\"apz_l\"]      = indicators[ticker_index][\"apz_l\"].iloc[-20:]\n",
    "n3_indicators[\"stoch\"]      = indicators[ticker_index][\"stoch\"].iloc[-20:]\n",
    "\n",
    "n4_indicators               = pd.DataFrame()\n",
    "ticker_index                = list(indicators.keys())[4]\n",
    "\n",
    "n4_indicators[\"open\"]       = indicators[ticker_index][\"open\"].iloc[-20:]\n",
    "n4_indicators[\"high\"]       = indicators[ticker_index][\"high\"].iloc[-20:]\n",
    "n4_indicators[\"low\"]        = indicators[ticker_index][\"low\"].iloc[-20:]\n",
    "n4_indicators[\"close\"]      = indicators[ticker_index][\"close\"].iloc[-20:]\n",
    "n4_indicators[\"macd\"]       = indicators[ticker_index][\"macd\"].iloc[-20:]\n",
    "n4_indicators[\"signal\"]     = indicators[ticker_index][\"signal\"].iloc[-20:]\n",
    "n4_indicators[\"mfi\"]        = indicators[ticker_index][\"mfi\"].iloc[-20:]\n",
    "n4_indicators[\"bb_up\"]      = indicators[ticker_index][\"bb_up\"].iloc[-20:]\n",
    "n4_indicators[\"bb_low\"]     = indicators[ticker_index][\"bb_low\"].iloc[-20:]\n",
    "n4_indicators[\"vzo\"]        = indicators[ticker_index][\"vzo\"].iloc[-20:]\n",
    "n4_indicators[\"apz_u\"]      = indicators[ticker_index][\"apz_u\"].iloc[-20:]\n",
    "n4_indicators[\"apz_l\"]      = indicators[ticker_index][\"apz_l\"].iloc[-20:]\n",
    "n4_indicators[\"stoch\"]      = indicators[ticker_index][\"stoch\"].iloc[-20:]"
   ]
  },
  {
   "cell_type": "code",
   "execution_count": 8,
   "metadata": {
    "pycharm": {
     "name": "#%%\n"
    }
   },
   "outputs": [
    {
     "data": {
      "text/plain": [
       "KMeans(algorithm='auto', copy_x=True, init='k-means++', max_iter=300,\n",
       "       n_clusters=2, n_init=10, n_jobs=None, precompute_distances='auto',\n",
       "       random_state=None, tol=0.0001, verbose=0)"
      ]
     },
     "execution_count": 8,
     "metadata": {},
     "output_type": "execute_result"
    }
   ],
   "source": [
    "kmeans.fit(n_indicators)"
   ]
  },
  {
   "cell_type": "code",
   "execution_count": 9,
   "metadata": {},
   "outputs": [
    {
     "data": {
      "text/plain": [
       "array([[ 1.60088889e+01,  1.61794444e+01,  1.59116667e+01,\n",
       "         1.60938889e+01, -2.52120894e-02, -4.81560641e-02,\n",
       "         5.83519118e+01,  1.64089368e+01,  1.53886743e+01,\n",
       "         1.44980336e+01,  1.64762771e+01,  1.52887642e+01,\n",
       "         7.97047951e+01],\n",
       "       [ 1.57400000e+01,  1.58827273e+01,  1.55854545e+01,\n",
       "         1.57295455e+01, -5.24158506e-02,  8.17147895e-03,\n",
       "         4.13647046e+01,  1.66067091e+01,  1.56129727e+01,\n",
       "        -3.47884994e+01,  1.65590560e+01,  1.53639758e+01,\n",
       "         2.47500148e+01]])"
      ]
     },
     "execution_count": 9,
     "metadata": {},
     "output_type": "execute_result"
    }
   ],
   "source": [
    "kmeans.cluster_centers_"
   ]
  },
  {
   "cell_type": "code",
   "execution_count": 10,
   "metadata": {},
   "outputs": [
    {
     "data": {
      "text/plain": [
       "array([1, 1, 1, 1, 1, 1, 1, 1, 0, 1, 1, 1, 0, 0, 0, 0, 0, 0, 0, 0],\n",
       "      dtype=int32)"
      ]
     },
     "execution_count": 10,
     "metadata": {},
     "output_type": "execute_result"
    }
   ],
   "source": [
    "kmeans.labels_"
   ]
  },
  {
   "cell_type": "code",
   "execution_count": 11,
   "metadata": {},
   "outputs": [
    {
     "data": {
      "text/plain": [
       "<matplotlib.collections.PathCollection at 0x7f8b0b48f490>"
      ]
     },
     "execution_count": 11,
     "metadata": {},
     "output_type": "execute_result"
    },
    {
     "data": {
      "image/png": "[encoded data removed]",
      "text/plain": [
       "<Figure size 720x432 with 4 Axes>"
      ]
     },
     "metadata": {
      "needs_background": "light"
     },
     "output_type": "display_data"
    }
   ],
   "source": [
    "f, (ax1, ax2, ax3, ax4) = plt.subplots(1, 4, sharex=True, sharey=False, figsize=(10,6))\n",
    "ax1.set_title('K Means - macd/close')\n",
    "ax1.scatter(n_indicators[\"macd\"], n_indicators[\"close\"], c=kmeans.labels_, cmap=\"rainbow\")\n",
    "ax2.set_title(\"K Means - signal/close\")\n",
    "ax2.scatter(n_indicators[\"signal\"], n_indicators[\"close\"], c=kmeans.labels_, cmap=\"rainbow\")\n",
    "ax3.set_title(\"Original\")\n",
    "ax3.scatter(n_indicators[\"macd\"], n_indicators[\"close\"], c=n_indicators[\"macd\"], cmap=\"rainbow\")\n",
    "ax4.set_title(\"Original\")\n",
    "ax4.scatter(n_indicators[\"signal\"], n_indicators[\"close\"], c=n_indicators[\"signal\"], cmap=\"rainbow\")"
   ]
  },
  {
   "cell_type": "code",
   "execution_count": 12,
   "metadata": {
    "pycharm": {
     "name": "#%%\n"
    }
   },
   "outputs": [
    {
     "data": {
      "text/plain": [
       "<matplotlib.collections.PathCollection at 0x7f8b0b29e990>"
      ]
     },
     "execution_count": 12,
     "metadata": {},
     "output_type": "execute_result"
    },
    {
     "data": {
      "image/png": "[encoded data removed]",
      "text/plain": [
       "<Figure size 720x432 with 4 Axes>"
      ]
     },
     "metadata": {
      "needs_background": "light"
     },
     "output_type": "display_data"
    }
   ],
   "source": [
    "f, (ax1, ax2, ax3, ax4) = plt.subplots(1, 4, sharex=True, sharey=True, figsize=(10,6))\n",
    "ax1.set_title('K Means - macd/close')\n",
    "ax1.scatter(n_indicators[\"macd\"], n_indicators[\"close\"], c=kmeans.labels_, cmap=\"rainbow\")\n",
    "ax2.set_title(\"K Means - signal/close\")\n",
    "ax2.scatter(n_indicators[\"signal\"], n_indicators[\"close\"], c=kmeans.labels_, cmap=\"rainbow\")\n",
    "ax3.set_title(\"Original\")\n",
    "ax3.scatter(n_indicators[\"macd\"], n_indicators[\"close\"], c=n_indicators[\"close\"], cmap=\"rainbow\")\n",
    "ax4.set_title(\"Original\")\n",
    "ax4.scatter(n_indicators[\"signal\"], n_indicators[\"close\"], c=n_indicators[\"close\"], cmap=\"rainbow\")"
   ]
  },
  {
   "cell_type": "code",
   "execution_count": 13,
   "metadata": {
    "pycharm": {
     "name": "#%%\n"
    }
   },
   "outputs": [
    {
     "data": {
      "text/plain": [
       "<matplotlib.collections.PathCollection at 0x7f8b040d8d90>"
      ]
     },
     "execution_count": 13,
     "metadata": {},
     "output_type": "execute_result"
    },
    {
     "data": {
      "image/png": "[encoded data removed]",
      "text/plain": [
       "<Figure size 720x432 with 2 Axes>"
      ]
     },
     "metadata": {
      "needs_background": "light"
     },
     "output_type": "display_data"
    }
   ],
   "source": [
    "f, (ax3, ax4) = plt.subplots(1, 2, sharex=True, sharey=True,figsize=(10,6))\n",
    "ax3.set_title('K Means - mfi/close')\n",
    "ax3.scatter(n_indicators[\"mfi\"], n_indicators[\"close\"], c=kmeans.labels_, cmap=\"rainbow\")\n",
    "ax4.set_title(\"Original\")\n",
    "ax4.scatter(n_indicators[\"mfi\"], n_indicators[\"close\"], c=n_indicators[\"close\"], cmap=\"rainbow\")"
   ]
  },
  {
   "cell_type": "code",
   "execution_count": 14,
   "metadata": {
    "pycharm": {
     "name": "#%%\n"
    }
   },
   "outputs": [
    {
     "data": {
      "text/plain": [
       "<matplotlib.collections.PathCollection at 0x7f8b0401fd10>"
      ]
     },
     "execution_count": 14,
     "metadata": {},
     "output_type": "execute_result"
    },
    {
     "data": {
      "image/png": "[encoded data removed]",
      "text/plain": [
       "<Figure size 720x432 with 2 Axes>"
      ]
     },
     "metadata": {
      "needs_background": "light"
     },
     "output_type": "display_data"
    }
   ],
   "source": [
    "f, (ax5, ax6) = plt.subplots(1, 2, sharex=True, sharey=True,figsize=(10,6))\n",
    "ax5.set_title('K Means - bb_low/mfi')\n",
    "ax5.scatter(n_indicators[\"bb_low\"], n_indicators[\"mfi\"], c=kmeans.labels_, cmap=\"rainbow\")\n",
    "ax6.set_title(\"Original\")\n",
    "ax6.scatter(n_indicators[\"bb_low\"], n_indicators[\"mfi\"], c=n_indicators[\"close\"], cmap=\"rainbow\")"
   ]
  },
  {
   "cell_type": "code",
   "execution_count": 15,
   "metadata": {
    "pycharm": {
     "name": "#%%\n"
    }
   },
   "outputs": [
    {
     "data": {
      "text/plain": [
       "<matplotlib.collections.PathCollection at 0x7f8acc741fd0>"
      ]
     },
     "execution_count": 15,
     "metadata": {},
     "output_type": "execute_result"
    },
    {
     "data": {
      "image/png": "[encoded data removed]",
      "text/plain": [
       "<Figure size 720x432 with 2 Axes>"
      ]
     },
     "metadata": {
      "needs_background": "light"
     },
     "output_type": "display_data"
    }
   ],
   "source": [
    "f, (ax7, ax8) = plt.subplots(1, 2, sharex=True, sharey=True,figsize=(10,6))\n",
    "ax7.set_title('K Means - vzo/close')\n",
    "ax7.scatter(n_indicators[\"vzo\"], n_indicators[\"close\"], c=kmeans.labels_, cmap=\"rainbow\")\n",
    "ax8.set_title(\"Original\")\n",
    "ax8.scatter(n_indicators[\"vzo\"], n_indicators[\"close\"], c=n_indicators[\"close\"], cmap=\"rainbow\")"
   ]
  },
  {
   "cell_type": "code",
   "execution_count": 16,
   "metadata": {
    "pycharm": {
     "name": "#%%\n"
    }
   },
   "outputs": [
    {
     "data": {
      "text/plain": [
       "<matplotlib.collections.PathCollection at 0x7f8acc6aae90>"
      ]
     },
     "execution_count": 16,
     "metadata": {},
     "output_type": "execute_result"
    },
    {
     "data": {
      "image/png": "[encoded data removed]",
      "text/plain": [
       "<Figure size 720x432 with 2 Axes>"
      ]
     },
     "metadata": {
      "needs_background": "light"
     },
     "output_type": "display_data"
    }
   ],
   "source": [
    "f, (ax9, ax10) = plt.subplots(1, 2, sharex=True, sharey=True,figsize=(10,6))\n",
    "ax9.set_title('K Means - vzo/mfi')\n",
    "ax9.scatter(n_indicators[\"vzo\"], n_indicators[\"mfi\"], c=kmeans.labels_, cmap=\"rainbow\")\n",
    "ax10.set_title(\"Original\")\n",
    "ax10.scatter(n_indicators[\"vzo\"], n_indicators[\"mfi\"], c=n_indicators[\"close\"], cmap=\"rainbow\")"
   ]
  },
  {
   "cell_type": "code",
   "execution_count": null,
   "metadata": {
    "pycharm": {
     "name": "#%%"
    }
   },
   "outputs": [],
   "source": []
  },
  {
   "cell_type": "code",
   "execution_count": 17,
   "metadata": {
    "pycharm": {
     "name": "#%%"
    }
   },
   "outputs": [
    {
     "data": {
      "application/vnd.plotly.v1+json": {
       "config": {
        "linkText": "Export to plot.ly",
        "plotlyServerURL": "https://plot.ly",
        "showLink": false
       },
       "data": [
        {
         "colorbar": {
          "title": {
           "text": "Pearson Coefficient"
          }
         },
         "type": "heatmap",
         "x": [
          "open",
          "high",
          "low",
          "close",
          "macd",
          "signal",
          "mfi",
          "bb_up",
          "bb_low",
          "vzo",
          "apz_u",
          "apz_l",
          "stoch"
         ],
         "y": [
          "open",
          "high",
          "low",
          "close",
          "macd",
          "signal",
          "mfi",
          "bb_up",
          "bb_low",
          "vzo",
          "apz_u",
          "apz_l",
          "stoch"
         ],
         "z": [
          [
           1,
           0.8420329563914741,
           0.9493602920128591,
           0.8793135851517471,
           0.8175717791015704,
           0.10635668591693404,
           0.7406512918813849,
           -0.5221667261145164,
           -0.038104519904088925,
           0.5827563751854008,
           0.42992148218868564,
           0.44787384029524147,
           0.7311278842536332
          ],
          [
           0.8420329563914741,
           1,
           0.8552610462422002,
           0.9089902789565788,
           0.7293491327684561,
           -0.05059019942979342,
           0.7866994227803987,
           -0.5879783545157478,
           -0.1283979776399268,
           0.7148581680575913,
           0.2976374980759371,
           0.3295480501350971,
           0.802118161372758
          ],
          [
           0.9493602920128591,
           0.8552610462422002,
           1,
           0.9196873050600227,
           0.692966057572547,
           -0.03068562379625716,
           0.8170270040158882,
           -0.565122886060122,
           -0.13137177302773223,
           0.6736239330827545,
           0.28797097020473694,
           0.30928740668542093,
           0.7842534380430267
          ],
          [
           0.8793135851517471,
           0.9089902789565788,
           0.9196873050600227,
           1,
           0.708727328923271,
           -0.06185761916722073,
           0.8474502185804088,
           -0.6164476942379414,
           -0.13524819568814006,
           0.7423269612795963,
           0.2724630419823114,
           0.29690383054311065,
           0.8871947001681781
          ],
          [
           0.8175717791015704,
           0.7293491327684561,
           0.692966057572547,
           0.708727328923271,
           1,
           0.4987713801612109,
           0.41379867666293413,
           -0.2641580032283788,
           0.30837349053172597,
           0.27078687966762793,
           0.7749124421075935,
           0.7896758765131565,
           0.4526968834008408
          ],
          [
           0.10635668591693404,
           -0.05059019942979342,
           -0.03068562379625716,
           -0.06185761916722073,
           0.4987713801612109,
           1,
           -0.49278593786375646,
           0.653747809720025,
           0.9412405885147062,
           -0.667623317069403,
           0.9290671686709784,
           0.9129079843020736,
           -0.45979912000615286
          ],
          [
           0.7406512918813849,
           0.7866994227803987,
           0.8170270040158882,
           0.8474502185804088,
           0.41379867666293413,
           -0.49278593786375646,
           1,
           -0.8208716929695715,
           -0.5662798037802068,
           0.9427309780138228,
           -0.16875069470484666,
           -0.14458855517242097,
           0.9420604810936763
          ],
          [
           -0.5221667261145164,
           -0.5879783545157478,
           -0.565122886060122,
           -0.6164476942379414,
           -0.2641580032283788,
           0.653747809720025,
           -0.8208716929695715,
           1,
           0.7138437405879584,
           -0.889447022817518,
           0.37635603329303025,
           0.3655697614928395,
           -0.8776461010935394
          ],
          [
           -0.038104519904088925,
           -0.1283979776399268,
           -0.13137177302773223,
           -0.13524819568814006,
           0.30837349053172597,
           0.9412405885147062,
           -0.5662798037802068,
           0.7138437405879584,
           1,
           -0.7383531437768561,
           0.8234201288089464,
           0.8021782232755885,
           -0.5170181879369565
          ],
          [
           0.5827563751854008,
           0.7148581680575913,
           0.6736239330827545,
           0.7423269612795963,
           0.27078687966762793,
           -0.667623317069403,
           0.9427309780138228,
           -0.889447022817518,
           -0.7383531437768561,
           1,
           -0.3598752179217885,
           -0.3296916404054332,
           0.9229377975012089
          ],
          [
           0.42992148218868564,
           0.2976374980759371,
           0.28797097020473694,
           0.2724630419823114,
           0.7749124421075935,
           0.9290671686709784,
           -0.16875069470484666,
           0.37635603329303025,
           0.8234201288089464,
           -0.3598752179217885,
           1,
           0.9971170645118109,
           -0.13733781792989813
          ],
          [
           0.44787384029524147,
           0.3295480501350971,
           0.30928740668542093,
           0.29690383054311065,
           0.7896758765131565,
           0.9129079843020736,
           -0.14458855517242097,
           0.3655697614928395,
           0.8021782232755885,
           -0.3296916404054332,
           0.9971170645118109,
           1,
           -0.118645018230382
          ],
          [
           0.7311278842536332,
           0.802118161372758,
           0.7842534380430267,
           0.8871947001681781,
           0.4526968834008408,
           -0.45979912000615286,
           0.9420604810936763,
           -0.8776461010935394,
           -0.5170181879369565,
           0.9229377975012089,
           -0.13733781792989813,
           -0.118645018230382,
           1
          ]
         ],
         "zmax": 1,
         "zmin": -1
        }
       ],
       "layout": {
        "template": {
         "data": {
          "bar": [
           {
            "error_x": {
             "color": "#2a3f5f"
            },
            "error_y": {
             "color": "#2a3f5f"
            },
            "marker": {
             "line": {
              "color": "#E5ECF6",
              "width": 0.5
             }
            },
            "type": "bar"
           }
          ],
          "barpolar": [
           {
            "marker": {
             "line": {
              "color": "#E5ECF6",
              "width": 0.5
             }
            },
            "type": "barpolar"
           }
          ],
          "carpet": [
           {
            "aaxis": {
             "endlinecolor": "#2a3f5f",
             "gridcolor": "white",
             "linecolor": "white",
             "minorgridcolor": "white",
             "startlinecolor": "#2a3f5f"
            },
            "baxis": {
             "endlinecolor": "#2a3f5f",
             "gridcolor": "white",
             "linecolor": "white",
             "minorgridcolor": "white",
             "startlinecolor": "#2a3f5f"
            },
            "type": "carpet"
           }
          ],
          "choropleth": [
           {
            "colorbar": {
             "outlinewidth": 0,
             "ticks": ""
            },
            "type": "choropleth"
           }
          ],
          "contour": [
           {
            "colorbar": {
             "outlinewidth": 0,
             "ticks": ""
            },
            "colorscale": [
             [
              0,
              "#0d0887"
             ],
             [
              0.1111111111111111,
              "#46039f"
             ],
             [
              0.2222222222222222,
              "#7201a8"
             ],
             [
              0.3333333333333333,
              "#9c179e"
             ],
             [
              0.4444444444444444,
              "#bd3786"
             ],
             [
              0.5555555555555556,
              "#d8576b"
             ],
             [
              0.6666666666666666,
              "#ed7953"
             ],
             [
              0.7777777777777778,
              "#fb9f3a"
             ],
             [
              0.8888888888888888,
              "#fdca26"
             ],
             [
              1,
              "#f0f921"
             ]
            ],
            "type": "contour"
           }
          ],
          "contourcarpet": [
           {
            "colorbar": {
             "outlinewidth": 0,
             "ticks": ""
            },
            "type": "contourcarpet"
           }
          ],
          "heatmap": [
           {
            "colorbar": {
             "outlinewidth": 0,
             "ticks": ""
            },
            "colorscale": [
             [
              0,
              "#0d0887"
             ],
             [
              0.1111111111111111,
              "#46039f"
             ],
             [
              0.2222222222222222,
              "#7201a8"
             ],
             [
              0.3333333333333333,
              "#9c179e"
             ],
             [
              0.4444444444444444,
              "#bd3786"
             ],
             [
              0.5555555555555556,
              "#d8576b"
             ],
             [
              0.6666666666666666,
              "#ed7953"
             ],
             [
              0.7777777777777778,
              "#fb9f3a"
             ],
             [
              0.8888888888888888,
              "#fdca26"
             ],
             [
              1,
              "#f0f921"
             ]
            ],
            "type": "heatmap"
           }
          ],
          "heatmapgl": [
           {
            "colorbar": {
             "outlinewidth": 0,
             "ticks": ""
            },
            "colorscale": [
             [
              0,
              "#0d0887"
             ],
             [
              0.1111111111111111,
              "#46039f"
             ],
             [
              0.2222222222222222,
              "#7201a8"
             ],
             [
              0.3333333333333333,
              "#9c179e"
             ],
             [
              0.4444444444444444,
              "#bd3786"
             ],
             [
              0.5555555555555556,
              "#d8576b"
             ],
             [
              0.6666666666666666,
              "#ed7953"
             ],
             [
              0.7777777777777778,
              "#fb9f3a"
             ],
             [
              0.8888888888888888,
              "#fdca26"
             ],
             [
              1,
              "#f0f921"
             ]
            ],
            "type": "heatmapgl"
           }
          ],
          "histogram": [
           {
            "marker": {
             "colorbar": {
              "outlinewidth": 0,
              "ticks": ""
             }
            },
            "type": "histogram"
           }
          ],
          "histogram2d": [
           {
            "colorbar": {
             "outlinewidth": 0,
             "ticks": ""
            },
            "colorscale": [
             [
              0,
              "#0d0887"
             ],
             [
              0.1111111111111111,
              "#46039f"
             ],
             [
              0.2222222222222222,
              "#7201a8"
             ],
             [
              0.3333333333333333,
              "#9c179e"
             ],
             [
              0.4444444444444444,
              "#bd3786"
             ],
             [
              0.5555555555555556,
              "#d8576b"
             ],
             [
              0.6666666666666666,
              "#ed7953"
             ],
             [
              0.7777777777777778,
              "#fb9f3a"
             ],
             [
              0.8888888888888888,
              "#fdca26"
             ],
             [
              1,
              "#f0f921"
             ]
            ],
            "type": "histogram2d"
           }
          ],
          "histogram2dcontour": [
           {
            "colorbar": {
             "outlinewidth": 0,
             "ticks": ""
            },
            "colorscale": [
             [
              0,
              "#0d0887"
             ],
             [
              0.1111111111111111,
              "#46039f"
             ],
             [
              0.2222222222222222,
              "#7201a8"
             ],
             [
              0.3333333333333333,
              "#9c179e"
             ],
             [
              0.4444444444444444,
              "#bd3786"
             ],
             [
              0.5555555555555556,
              "#d8576b"
             ],
             [
              0.6666666666666666,
              "#ed7953"
             ],
             [
              0.7777777777777778,
              "#fb9f3a"
             ],
             [
              0.8888888888888888,
              "#fdca26"
             ],
             [
              1,
              "#f0f921"
             ]
            ],
            "type": "histogram2dcontour"
           }
          ],
          "mesh3d": [
           {
            "colorbar": {
             "outlinewidth": 0,
             "ticks": ""
            },
            "type": "mesh3d"
           }
          ],
          "parcoords": [
           {
            "line": {
             "colorbar": {
              "outlinewidth": 0,
              "ticks": ""
             }
            },
            "type": "parcoords"
           }
          ],
          "scatter": [
           {
            "marker": {
             "colorbar": {
              "outlinewidth": 0,
              "ticks": ""
             }
            },
            "type": "scatter"
           }
          ],
          "scatter3d": [
           {
            "line": {
             "colorbar": {
              "outlinewidth": 0,
              "ticks": ""
             }
            },
            "marker": {
             "colorbar": {
              "outlinewidth": 0,
              "ticks": ""
             }
            },
            "type": "scatter3d"
           }
          ],
          "scattercarpet": [
           {
            "marker": {
             "colorbar": {
              "outlinewidth": 0,
              "ticks": ""
             }
            },
            "type": "scattercarpet"
           }
          ],
          "scattergeo": [
           {
            "marker": {
             "colorbar": {
              "outlinewidth": 0,
              "ticks": ""
             }
            },
            "type": "scattergeo"
           }
          ],
          "scattergl": [
           {
            "marker": {
             "colorbar": {
              "outlinewidth": 0,
              "ticks": ""
             }
            },
            "type": "scattergl"
           }
          ],
          "scattermapbox": [
           {
            "marker": {
             "colorbar": {
              "outlinewidth": 0,
              "ticks": ""
             }
            },
            "type": "scattermapbox"
           }
          ],
          "scatterpolar": [
           {
            "marker": {
             "colorbar": {
              "outlinewidth": 0,
              "ticks": ""
             }
            },
            "type": "scatterpolar"
           }
          ],
          "scatterpolargl": [
           {
            "marker": {
             "colorbar": {
              "outlinewidth": 0,
              "ticks": ""
             }
            },
            "type": "scatterpolargl"
           }
          ],
          "scatterternary": [
           {
            "marker": {
             "colorbar": {
              "outlinewidth": 0,
              "ticks": ""
             }
            },
            "type": "scatterternary"
           }
          ],
          "surface": [
           {
            "colorbar": {
             "outlinewidth": 0,
             "ticks": ""
            },
            "colorscale": [
             [
              0,
              "#0d0887"
             ],
             [
              0.1111111111111111,
              "#46039f"
             ],
             [
              0.2222222222222222,
              "#7201a8"
             ],
             [
              0.3333333333333333,
              "#9c179e"
             ],
             [
              0.4444444444444444,
              "#bd3786"
             ],
             [
              0.5555555555555556,
              "#d8576b"
             ],
             [
              0.6666666666666666,
              "#ed7953"
             ],
             [
              0.7777777777777778,
              "#fb9f3a"
             ],
             [
              0.8888888888888888,
              "#fdca26"
             ],
             [
              1,
              "#f0f921"
             ]
            ],
            "type": "surface"
           }
          ],
          "table": [
           {
            "cells": {
             "fill": {
              "color": "#EBF0F8"
             },
             "line": {
              "color": "white"
             }
            },
            "header": {
             "fill": {
              "color": "#C8D4E3"
             },
             "line": {
              "color": "white"
             }
            },
            "type": "table"
           }
          ]
         },
         "layout": {
          "annotationdefaults": {
           "arrowcolor": "#2a3f5f",
           "arrowhead": 0,
           "arrowwidth": 1
          },
          "colorscale": {
           "diverging": [
            [
             0,
             "#8e0152"
            ],
            [
             0.1,
             "#c51b7d"
            ],
            [
             0.2,
             "#de77ae"
            ],
            [
             0.3,
             "#f1b6da"
            ],
            [
             0.4,
             "#fde0ef"
            ],
            [
             0.5,
             "#f7f7f7"
            ],
            [
             0.6,
             "#e6f5d0"
            ],
            [
             0.7,
             "#b8e186"
            ],
            [
             0.8,
             "#7fbc41"
            ],
            [
             0.9,
             "#4d9221"
            ],
            [
             1,
             "#276419"
            ]
           ],
           "sequential": [
            [
             0,
             "#0d0887"
            ],
            [
             0.1111111111111111,
             "#46039f"
            ],
            [
             0.2222222222222222,
             "#7201a8"
            ],
            [
             0.3333333333333333,
             "#9c179e"
            ],
            [
             0.4444444444444444,
             "#bd3786"
            ],
            [
             0.5555555555555556,
             "#d8576b"
            ],
            [
             0.6666666666666666,
             "#ed7953"
            ],
            [
             0.7777777777777778,
             "#fb9f3a"
            ],
            [
             0.8888888888888888,
             "#fdca26"
            ],
            [
             1,
             "#f0f921"
            ]
           ],
           "sequentialminus": [
            [
             0,
             "#0d0887"
            ],
            [
             0.1111111111111111,
             "#46039f"
            ],
            [
             0.2222222222222222,
             "#7201a8"
            ],
            [
             0.3333333333333333,
             "#9c179e"
            ],
            [
             0.4444444444444444,
             "#bd3786"
            ],
            [
             0.5555555555555556,
             "#d8576b"
            ],
            [
             0.6666666666666666,
             "#ed7953"
            ],
            [
             0.7777777777777778,
             "#fb9f3a"
            ],
            [
             0.8888888888888888,
             "#fdca26"
            ],
            [
             1,
             "#f0f921"
            ]
           ]
          },
          "colorway": [
           "#636efa",
           "#EF553B",
           "#00cc96",
           "#ab63fa",
           "#FFA15A",
           "#19d3f3",
           "#FF6692",
           "#B6E880",
           "#FF97FF",
           "#FECB52"
          ],
          "font": {
           "color": "#2a3f5f"
          },
          "geo": {
           "bgcolor": "white",
           "lakecolor": "white",
           "landcolor": "#E5ECF6",
           "showlakes": true,
           "showland": true,
           "subunitcolor": "white"
          },
          "hoverlabel": {
           "align": "left"
          },
          "hovermode": "closest",
          "mapbox": {
           "style": "light"
          },
          "paper_bgcolor": "white",
          "plot_bgcolor": "#E5ECF6",
          "polar": {
           "angularaxis": {
            "gridcolor": "white",
            "linecolor": "white",
            "ticks": ""
           },
           "bgcolor": "#E5ECF6",
           "radialaxis": {
            "gridcolor": "white",
            "linecolor": "white",
            "ticks": ""
           }
          },
          "scene": {
           "xaxis": {
            "backgroundcolor": "#E5ECF6",
            "gridcolor": "white",
            "gridwidth": 2,
            "linecolor": "white",
            "showbackground": true,
            "ticks": "",
            "zerolinecolor": "white"
           },
           "yaxis": {
            "backgroundcolor": "#E5ECF6",
            "gridcolor": "white",
            "gridwidth": 2,
            "linecolor": "white",
            "showbackground": true,
            "ticks": "",
            "zerolinecolor": "white"
           },
           "zaxis": {
            "backgroundcolor": "#E5ECF6",
            "gridcolor": "white",
            "gridwidth": 2,
            "linecolor": "white",
            "showbackground": true,
            "ticks": "",
            "zerolinecolor": "white"
           }
          },
          "shapedefaults": {
           "line": {
            "color": "#2a3f5f"
           }
          },
          "ternary": {
           "aaxis": {
            "gridcolor": "white",
            "linecolor": "white",
            "ticks": ""
           },
           "baxis": {
            "gridcolor": "white",
            "linecolor": "white",
            "ticks": ""
           },
           "bgcolor": "#E5ECF6",
           "caxis": {
            "gridcolor": "white",
            "linecolor": "white",
            "ticks": ""
           }
          },
          "title": {
           "x": 0.05
          },
          "xaxis": {
           "automargin": true,
           "gridcolor": "white",
           "linecolor": "white",
           "ticks": "",
           "zerolinecolor": "white",
           "zerolinewidth": 2
          },
          "yaxis": {
           "automargin": true,
           "gridcolor": "white",
           "linecolor": "white",
           "ticks": "",
           "zerolinecolor": "white",
           "zerolinewidth": 2
          }
         }
        },
        "title": {
         "text": "Pearson correlation of indicators"
        }
       }
      },
      "text/html": [
       "<div>\n",
       "        \n",
       "        \n",
       "            <div id=\"ce2ed36a-4bd9-48d5-ad65-6469efce37d6\" class=\"plotly-graph-div\" style=\"height:525px; width:100%;\"></div>\n",
       "            <script type=\"text/javascript\">\n",
       "                require([\"plotly\"], function(Plotly) {\n",
       "                    window.PLOTLYENV=window.PLOTLYENV || {};\n",
       "                    \n",
       "                if (document.getElementById(\"ce2ed36a-4bd9-48d5-ad65-6469efce37d6\")) {\n",
       "                    Plotly.newPlot(\n",
       "                        'ce2ed36a-4bd9-48d5-ad65-6469efce37d6',\n",
       "                        [{\"colorbar\": {\"title\": {\"text\": \"Pearson Coefficient\"}}, \"type\": \"heatmap\", \"x\": [\"open\", \"high\", \"low\", \"close\", \"macd\", \"signal\", \"mfi\", \"bb_up\", \"bb_low\", \"vzo\", \"apz_u\", \"apz_l\", \"stoch\"], \"y\": [\"open\", \"high\", \"low\", \"close\", \"macd\", \"signal\", \"mfi\", \"bb_up\", \"bb_low\", \"vzo\", \"apz_u\", \"apz_l\", \"stoch\"], \"z\": [[1.0, 0.8420329563914741, 0.9493602920128591, 0.8793135851517471, 0.8175717791015704, 0.10635668591693404, 0.7406512918813849, -0.5221667261145164, -0.038104519904088925, 0.5827563751854008, 0.42992148218868564, 0.44787384029524147, 0.7311278842536332], [0.8420329563914741, 1.0, 0.8552610462422002, 0.9089902789565788, 0.7293491327684561, -0.05059019942979342, 0.7866994227803987, -0.5879783545157478, -0.1283979776399268, 0.7148581680575913, 0.2976374980759371, 0.3295480501350971, 0.802118161372758], [0.9493602920128591, 0.8552610462422002, 1.0, 0.9196873050600227, 0.692966057572547, -0.03068562379625716, 0.8170270040158882, -0.565122886060122, -0.13137177302773223, 0.6736239330827545, 0.28797097020473694, 0.30928740668542093, 0.7842534380430267], [0.8793135851517471, 0.9089902789565788, 0.9196873050600227, 1.0, 0.708727328923271, -0.06185761916722073, 0.8474502185804088, -0.6164476942379414, -0.13524819568814006, 0.7423269612795963, 0.2724630419823114, 0.29690383054311065, 0.8871947001681781], [0.8175717791015704, 0.7293491327684561, 0.692966057572547, 0.708727328923271, 1.0, 0.4987713801612109, 0.41379867666293413, -0.2641580032283788, 0.30837349053172597, 0.27078687966762793, 0.7749124421075935, 0.7896758765131565, 0.4526968834008408], [0.10635668591693404, -0.05059019942979342, -0.03068562379625716, -0.06185761916722073, 0.4987713801612109, 1.0, -0.49278593786375646, 0.653747809720025, 0.9412405885147062, -0.667623317069403, 0.9290671686709784, 0.9129079843020736, -0.45979912000615286], [0.7406512918813849, 0.7866994227803987, 0.8170270040158882, 0.8474502185804088, 0.41379867666293413, -0.49278593786375646, 1.0, -0.8208716929695715, -0.5662798037802068, 0.9427309780138228, -0.16875069470484666, -0.14458855517242097, 0.9420604810936763], [-0.5221667261145164, -0.5879783545157478, -0.565122886060122, -0.6164476942379414, -0.2641580032283788, 0.653747809720025, -0.8208716929695715, 1.0, 0.7138437405879584, -0.889447022817518, 0.37635603329303025, 0.3655697614928395, -0.8776461010935394], [-0.038104519904088925, -0.1283979776399268, -0.13137177302773223, -0.13524819568814006, 0.30837349053172597, 0.9412405885147062, -0.5662798037802068, 0.7138437405879584, 1.0, -0.7383531437768561, 0.8234201288089464, 0.8021782232755885, -0.5170181879369565], [0.5827563751854008, 0.7148581680575913, 0.6736239330827545, 0.7423269612795963, 0.27078687966762793, -0.667623317069403, 0.9427309780138228, -0.889447022817518, -0.7383531437768561, 1.0, -0.3598752179217885, -0.3296916404054332, 0.9229377975012089], [0.42992148218868564, 0.2976374980759371, 0.28797097020473694, 0.2724630419823114, 0.7749124421075935, 0.9290671686709784, -0.16875069470484666, 0.37635603329303025, 0.8234201288089464, -0.3598752179217885, 1.0, 0.9971170645118109, -0.13733781792989813], [0.44787384029524147, 0.3295480501350971, 0.30928740668542093, 0.29690383054311065, 0.7896758765131565, 0.9129079843020736, -0.14458855517242097, 0.3655697614928395, 0.8021782232755885, -0.3296916404054332, 0.9971170645118109, 1.0, -0.118645018230382], [0.7311278842536332, 0.802118161372758, 0.7842534380430267, 0.8871947001681781, 0.4526968834008408, -0.45979912000615286, 0.9420604810936763, -0.8776461010935394, -0.5170181879369565, 0.9229377975012089, -0.13733781792989813, -0.118645018230382, 1.0]], \"zmax\": 1.0, \"zmin\": -1.0}],\n",
       "                        {\"template\": {\"data\": {\"bar\": [{\"error_x\": {\"color\": \"#2a3f5f\"}, \"error_y\": {\"color\": \"#2a3f5f\"}, \"marker\": {\"line\": {\"color\": \"#E5ECF6\", \"width\": 0.5}}, \"type\": \"bar\"}], \"barpolar\": [{\"marker\": {\"line\": {\"color\": \"#E5ECF6\", \"width\": 0.5}}, \"type\": \"barpolar\"}], \"carpet\": [{\"aaxis\": {\"endlinecolor\": \"#2a3f5f\", \"gridcolor\": \"white\", \"linecolor\": \"white\", \"minorgridcolor\": \"white\", \"startlinecolor\": \"#2a3f5f\"}, \"baxis\": {\"endlinecolor\": \"#2a3f5f\", \"gridcolor\": \"white\", \"linecolor\": \"white\", \"minorgridcolor\": \"white\", \"startlinecolor\": \"#2a3f5f\"}, \"type\": \"carpet\"}], \"choropleth\": [{\"colorbar\": {\"outlinewidth\": 0, \"ticks\": \"\"}, \"type\": \"choropleth\"}], \"contour\": [{\"colorbar\": {\"outlinewidth\": 0, \"ticks\": \"\"}, \"colorscale\": [[0.0, \"#0d0887\"], [0.1111111111111111, \"#46039f\"], [0.2222222222222222, \"#7201a8\"], [0.3333333333333333, \"#9c179e\"], [0.4444444444444444, \"#bd3786\"], [0.5555555555555556, \"#d8576b\"], [0.6666666666666666, \"#ed7953\"], [0.7777777777777778, \"#fb9f3a\"], [0.8888888888888888, \"#fdca26\"], [1.0, \"#f0f921\"]], \"type\": \"contour\"}], \"contourcarpet\": [{\"colorbar\": {\"outlinewidth\": 0, \"ticks\": \"\"}, \"type\": \"contourcarpet\"}], \"heatmap\": [{\"colorbar\": {\"outlinewidth\": 0, \"ticks\": \"\"}, \"colorscale\": [[0.0, \"#0d0887\"], [0.1111111111111111, \"#46039f\"], [0.2222222222222222, \"#7201a8\"], [0.3333333333333333, \"#9c179e\"], [0.4444444444444444, \"#bd3786\"], [0.5555555555555556, \"#d8576b\"], [0.6666666666666666, \"#ed7953\"], [0.7777777777777778, \"#fb9f3a\"], [0.8888888888888888, \"#fdca26\"], [1.0, \"#f0f921\"]], \"type\": \"heatmap\"}], \"heatmapgl\": [{\"colorbar\": {\"outlinewidth\": 0, \"ticks\": \"\"}, \"colorscale\": [[0.0, \"#0d0887\"], [0.1111111111111111, \"#46039f\"], [0.2222222222222222, \"#7201a8\"], [0.3333333333333333, \"#9c179e\"], [0.4444444444444444, \"#bd3786\"], [0.5555555555555556, \"#d8576b\"], [0.6666666666666666, \"#ed7953\"], [0.7777777777777778, \"#fb9f3a\"], [0.8888888888888888, \"#fdca26\"], [1.0, \"#f0f921\"]], \"type\": \"heatmapgl\"}], \"histogram\": [{\"marker\": {\"colorbar\": {\"outlinewidth\": 0, \"ticks\": \"\"}}, \"type\": \"histogram\"}], \"histogram2d\": [{\"colorbar\": {\"outlinewidth\": 0, \"ticks\": \"\"}, \"colorscale\": [[0.0, \"#0d0887\"], [0.1111111111111111, \"#46039f\"], [0.2222222222222222, \"#7201a8\"], [0.3333333333333333, \"#9c179e\"], [0.4444444444444444, \"#bd3786\"], [0.5555555555555556, \"#d8576b\"], [0.6666666666666666, \"#ed7953\"], [0.7777777777777778, \"#fb9f3a\"], [0.8888888888888888, \"#fdca26\"], [1.0, \"#f0f921\"]], \"type\": \"histogram2d\"}], \"histogram2dcontour\": [{\"colorbar\": {\"outlinewidth\": 0, \"ticks\": \"\"}, \"colorscale\": [[0.0, \"#0d0887\"], [0.1111111111111111, \"#46039f\"], [0.2222222222222222, \"#7201a8\"], [0.3333333333333333, \"#9c179e\"], [0.4444444444444444, \"#bd3786\"], [0.5555555555555556, \"#d8576b\"], [0.6666666666666666, \"#ed7953\"], [0.7777777777777778, \"#fb9f3a\"], [0.8888888888888888, \"#fdca26\"], [1.0, \"#f0f921\"]], \"type\": \"histogram2dcontour\"}], \"mesh3d\": [{\"colorbar\": {\"outlinewidth\": 0, \"ticks\": \"\"}, \"type\": \"mesh3d\"}], \"parcoords\": [{\"line\": {\"colorbar\": {\"outlinewidth\": 0, \"ticks\": \"\"}}, \"type\": \"parcoords\"}], \"scatter\": [{\"marker\": {\"colorbar\": {\"outlinewidth\": 0, \"ticks\": \"\"}}, \"type\": \"scatter\"}], \"scatter3d\": [{\"line\": {\"colorbar\": {\"outlinewidth\": 0, \"ticks\": \"\"}}, \"marker\": {\"colorbar\": {\"outlinewidth\": 0, \"ticks\": \"\"}}, \"type\": \"scatter3d\"}], \"scattercarpet\": [{\"marker\": {\"colorbar\": {\"outlinewidth\": 0, \"ticks\": \"\"}}, \"type\": \"scattercarpet\"}], \"scattergeo\": [{\"marker\": {\"colorbar\": {\"outlinewidth\": 0, \"ticks\": \"\"}}, \"type\": \"scattergeo\"}], \"scattergl\": [{\"marker\": {\"colorbar\": {\"outlinewidth\": 0, \"ticks\": \"\"}}, \"type\": \"scattergl\"}], \"scattermapbox\": [{\"marker\": {\"colorbar\": {\"outlinewidth\": 0, \"ticks\": \"\"}}, \"type\": \"scattermapbox\"}], \"scatterpolar\": [{\"marker\": {\"colorbar\": {\"outlinewidth\": 0, \"ticks\": \"\"}}, \"type\": \"scatterpolar\"}], \"scatterpolargl\": [{\"marker\": {\"colorbar\": {\"outlinewidth\": 0, \"ticks\": \"\"}}, \"type\": \"scatterpolargl\"}], \"scatterternary\": [{\"marker\": {\"colorbar\": {\"outlinewidth\": 0, \"ticks\": \"\"}}, \"type\": \"scatterternary\"}], \"surface\": [{\"colorbar\": {\"outlinewidth\": 0, \"ticks\": \"\"}, \"colorscale\": [[0.0, \"#0d0887\"], [0.1111111111111111, \"#46039f\"], [0.2222222222222222, \"#7201a8\"], [0.3333333333333333, \"#9c179e\"], [0.4444444444444444, \"#bd3786\"], [0.5555555555555556, \"#d8576b\"], [0.6666666666666666, \"#ed7953\"], [0.7777777777777778, \"#fb9f3a\"], [0.8888888888888888, \"#fdca26\"], [1.0, \"#f0f921\"]], \"type\": \"surface\"}], \"table\": [{\"cells\": {\"fill\": {\"color\": \"#EBF0F8\"}, \"line\": {\"color\": \"white\"}}, \"header\": {\"fill\": {\"color\": \"#C8D4E3\"}, \"line\": {\"color\": \"white\"}}, \"type\": \"table\"}]}, \"layout\": {\"annotationdefaults\": {\"arrowcolor\": \"#2a3f5f\", \"arrowhead\": 0, \"arrowwidth\": 1}, \"colorscale\": {\"diverging\": [[0, \"#8e0152\"], [0.1, \"#c51b7d\"], [0.2, \"#de77ae\"], [0.3, \"#f1b6da\"], [0.4, \"#fde0ef\"], [0.5, \"#f7f7f7\"], [0.6, \"#e6f5d0\"], [0.7, \"#b8e186\"], [0.8, \"#7fbc41\"], [0.9, \"#4d9221\"], [1, \"#276419\"]], \"sequential\": [[0.0, \"#0d0887\"], [0.1111111111111111, \"#46039f\"], [0.2222222222222222, \"#7201a8\"], [0.3333333333333333, \"#9c179e\"], [0.4444444444444444, \"#bd3786\"], [0.5555555555555556, \"#d8576b\"], [0.6666666666666666, \"#ed7953\"], [0.7777777777777778, \"#fb9f3a\"], [0.8888888888888888, \"#fdca26\"], [1.0, \"#f0f921\"]], \"sequentialminus\": [[0.0, \"#0d0887\"], [0.1111111111111111, \"#46039f\"], [0.2222222222222222, \"#7201a8\"], [0.3333333333333333, \"#9c179e\"], [0.4444444444444444, \"#bd3786\"], [0.5555555555555556, \"#d8576b\"], [0.6666666666666666, \"#ed7953\"], [0.7777777777777778, \"#fb9f3a\"], [0.8888888888888888, \"#fdca26\"], [1.0, \"#f0f921\"]]}, \"colorway\": [\"#636efa\", \"#EF553B\", \"#00cc96\", \"#ab63fa\", \"#FFA15A\", \"#19d3f3\", \"#FF6692\", \"#B6E880\", \"#FF97FF\", \"#FECB52\"], \"font\": {\"color\": \"#2a3f5f\"}, \"geo\": {\"bgcolor\": \"white\", \"lakecolor\": \"white\", \"landcolor\": \"#E5ECF6\", \"showlakes\": true, \"showland\": true, \"subunitcolor\": \"white\"}, \"hoverlabel\": {\"align\": \"left\"}, \"hovermode\": \"closest\", \"mapbox\": {\"style\": \"light\"}, \"paper_bgcolor\": \"white\", \"plot_bgcolor\": \"#E5ECF6\", \"polar\": {\"angularaxis\": {\"gridcolor\": \"white\", \"linecolor\": \"white\", \"ticks\": \"\"}, \"bgcolor\": \"#E5ECF6\", \"radialaxis\": {\"gridcolor\": \"white\", \"linecolor\": \"white\", \"ticks\": \"\"}}, \"scene\": {\"xaxis\": {\"backgroundcolor\": \"#E5ECF6\", \"gridcolor\": \"white\", \"gridwidth\": 2, \"linecolor\": \"white\", \"showbackground\": true, \"ticks\": \"\", \"zerolinecolor\": \"white\"}, \"yaxis\": {\"backgroundcolor\": \"#E5ECF6\", \"gridcolor\": \"white\", \"gridwidth\": 2, \"linecolor\": \"white\", \"showbackground\": true, \"ticks\": \"\", \"zerolinecolor\": \"white\"}, \"zaxis\": {\"backgroundcolor\": \"#E5ECF6\", \"gridcolor\": \"white\", \"gridwidth\": 2, \"linecolor\": \"white\", \"showbackground\": true, \"ticks\": \"\", \"zerolinecolor\": \"white\"}}, \"shapedefaults\": {\"line\": {\"color\": \"#2a3f5f\"}}, \"ternary\": {\"aaxis\": {\"gridcolor\": \"white\", \"linecolor\": \"white\", \"ticks\": \"\"}, \"baxis\": {\"gridcolor\": \"white\", \"linecolor\": \"white\", \"ticks\": \"\"}, \"bgcolor\": \"#E5ECF6\", \"caxis\": {\"gridcolor\": \"white\", \"linecolor\": \"white\", \"ticks\": \"\"}}, \"title\": {\"x\": 0.05}, \"xaxis\": {\"automargin\": true, \"gridcolor\": \"white\", \"linecolor\": \"white\", \"ticks\": \"\", \"zerolinecolor\": \"white\", \"zerolinewidth\": 2}, \"yaxis\": {\"automargin\": true, \"gridcolor\": \"white\", \"linecolor\": \"white\", \"ticks\": \"\", \"zerolinecolor\": \"white\", \"zerolinewidth\": 2}}}, \"title\": {\"text\": \"Pearson correlation of indicators\"}},\n",
       "                        {\"responsive\": true}\n",
       "                    ).then(function(){\n",
       "                            \n",
       "var gd = document.getElementById('ce2ed36a-4bd9-48d5-ad65-6469efce37d6');\n",
       "var x = new MutationObserver(function (mutations, observer) {{\n",
       "        var display = window.getComputedStyle(gd).display;\n",
       "        if (!display || display === 'none') {{\n",
       "            console.log([gd, 'removed!']);\n",
       "            Plotly.purge(gd);\n",
       "            observer.disconnect();\n",
       "        }}\n",
       "}});\n",
       "\n",
       "// Listen for the removal of the full notebook cells\n",
       "var notebookContainer = gd.closest('#notebook-container');\n",
       "if (notebookContainer) {{\n",
       "    x.observe(notebookContainer, {childList: true});\n",
       "}}\n",
       "\n",
       "// Listen for the clearing of the current output cell\n",
       "var outputEl = gd.closest('.output');\n",
       "if (outputEl) {{\n",
       "    x.observe(outputEl, {childList: true});\n",
       "}}\n",
       "\n",
       "                        })\n",
       "                };\n",
       "                });\n",
       "            </script>\n",
       "        </div>"
      ]
     },
     "metadata": {},
     "output_type": "display_data"
    }
   ],
   "source": [
    "heatmap = go.Heatmap(\n",
    "    z=n_indicators.iloc[-20:].corr(method='pearson').values,\n",
    "    x=n_indicators.columns,\n",
    "    y=n_indicators.columns,\n",
    "    colorbar=dict(title='Pearson Coefficient'),\n",
    ")\n",
    "\n",
    "layout = go.Layout(title=\"Pearson correlation of indicators\")\n",
    "\n",
    "heatmap['zmax'] = 1.0\n",
    "heatmap['zmin'] = -1.0\n",
    "\n",
    "fig = go.Figure(data=[heatmap], layout=layout)\n",
    "py.iplot(fig)"
   ]
  },
  {
   "cell_type": "code",
   "execution_count": 18,
   "metadata": {
    "pycharm": {
     "name": "#%%\n"
    }
   },
   "outputs": [
    {
     "data": {
      "application/vnd.plotly.v1+json": {
       "config": {
        "linkText": "Export to plot.ly",
        "plotlyServerURL": "https://plot.ly",
        "showLink": false
       },
       "data": [
        {
         "colorbar": {
          "title": {
           "text": "Pearson Coefficient"
          }
         },
         "type": "heatmap",
         "x": [
          "open",
          "high",
          "low",
          "close",
          "macd",
          "signal",
          "mfi",
          "bb_up",
          "bb_low",
          "vzo",
          "apz_u",
          "apz_l",
          "stoch"
         ],
         "y": [
          "open",
          "high",
          "low",
          "close",
          "macd",
          "signal",
          "mfi",
          "bb_up",
          "bb_low",
          "vzo",
          "apz_u",
          "apz_l",
          "stoch"
         ],
         "z": [
          [
           1,
           0.4502948794699969,
           0.8600093060710697,
           0.5958275418790056,
           -0.443511005551562,
           0.4068187869005507,
           0.5045151737297419,
           -0.28055937459273256,
           0.5154074087703996,
           0.4109749674385342,
           0.48681102447022045,
           0.4974679425420611,
           0.06592510599323582
          ],
          [
           0.4502948794699969,
           1,
           0.5446694636404081,
           0.6812232024963006,
           -0.5066410331279984,
           0.2620085704389688,
           0.5973183818863806,
           -0.41411885850826363,
           0.7017585816926378,
           -0.10510435534063496,
           0.5632144042003139,
           0.5700393538390994,
           0.3853589416031336
          ],
          [
           0.8600093060710697,
           0.5446694636404081,
           1,
           0.7441603600431556,
           -0.4716288891187792,
           0.2990276399449728,
           0.7241623912874333,
           -0.40087466022577356,
           0.5029732591593746,
           0.5772275789699531,
           0.4085724479904065,
           0.4250254588808922,
           0.3376005008552958
          ],
          [
           0.5958275418790056,
           0.6812232024963006,
           0.7441603600431556,
           1,
           -0.3951306527599555,
           0.12713911690898114,
           0.8280372900565632,
           -0.3473788606842065,
           0.5873150912948254,
           0.3773683546535167,
           0.5055356614622191,
           0.5239822429936026,
           0.5782258509606032
          ],
          [
           -0.443511005551562,
           -0.5066410331279984,
           -0.4716288891187792,
           -0.3951306527599555,
           1,
           -0.0865094731210827,
           -0.3686706105072425,
           0.46831495489909475,
           -0.59761018597797,
           0.029835136333105534,
           -0.42587863529746095,
           -0.40709779765761295,
           -0.23027547091190406
          ],
          [
           0.4068187869005507,
           0.2620085704389688,
           0.2990276399449728,
           0.12713911690898114,
           -0.0865094731210827,
           1,
           0.1805591622209569,
           -0.32921996252481384,
           0.1337486109305393,
           -0.06911058873246759,
           -0.007867623659044162,
           0.02156630451585223,
           -0.08654905972141078
          ],
          [
           0.5045151737297419,
           0.5973183818863806,
           0.7241623912874333,
           0.8280372900565632,
           -0.3686706105072425,
           0.1805591622209569,
           1,
           -0.2955840475795046,
           0.4867797392428156,
           0.2870836180078432,
           0.3448235439710791,
           0.3514064721577701,
           0.6104847199031761
          ],
          [
           -0.28055937459273256,
           -0.41411885850826363,
           -0.40087466022577356,
           -0.3473788606842065,
           0.46831495489909475,
           -0.32921996252481384,
           -0.2955840475795046,
           1,
           -0.4976334717030973,
           0.0940244066617494,
           -0.07610471036629468,
           -0.05750899543311437,
           -0.3222903314033099
          ],
          [
           0.5154074087703996,
           0.7017585816926378,
           0.5029732591593746,
           0.5873150912948254,
           -0.59761018597797,
           0.1337486109305393,
           0.4867797392428156,
           -0.4976334717030973,
           1,
           0.09171786052380139,
           0.8326797391755583,
           0.8176240021892184,
           0.1504166108191685
          ],
          [
           0.4109749674385342,
           -0.10510435534063496,
           0.5772275789699531,
           0.3773683546535167,
           0.029835136333105534,
           -0.06911058873246759,
           0.2870836180078432,
           0.0940244066617494,
           0.09171786052380139,
           1,
           0.21424379592681406,
           0.24233774118493479,
           0.004870795274069061
          ],
          [
           0.48681102447022045,
           0.5632144042003139,
           0.4085724479904065,
           0.5055356614622191,
           -0.42587863529746095,
           -0.007867623659044162,
           0.3448235439710791,
           -0.07610471036629468,
           0.8326797391755583,
           0.21424379592681406,
           1,
           0.9947702531277192,
           -0.022711527614477787
          ],
          [
           0.4974679425420611,
           0.5700393538390994,
           0.4250254588808922,
           0.5239822429936026,
           -0.40709779765761295,
           0.02156630451585223,
           0.3514064721577701,
           -0.05750899543311437,
           0.8176240021892184,
           0.24233774118493479,
           0.9947702531277192,
           1,
           0.002966300890729498
          ],
          [
           0.06592510599323582,
           0.3853589416031336,
           0.3376005008552958,
           0.5782258509606032,
           -0.23027547091190406,
           -0.08654905972141078,
           0.6104847199031761,
           -0.3222903314033099,
           0.1504166108191685,
           0.004870795274069061,
           -0.022711527614477787,
           0.002966300890729498,
           1
          ]
         ],
         "zmax": 1,
         "zmin": -1
        }
       ],
       "layout": {
        "template": {
         "data": {
          "bar": [
           {
            "error_x": {
             "color": "#2a3f5f"
            },
            "error_y": {
             "color": "#2a3f5f"
            },
            "marker": {
             "line": {
              "color": "#E5ECF6",
              "width": 0.5
             }
            },
            "type": "bar"
           }
          ],
          "barpolar": [
           {
            "marker": {
             "line": {
              "color": "#E5ECF6",
              "width": 0.5
             }
            },
            "type": "barpolar"
           }
          ],
          "carpet": [
           {
            "aaxis": {
             "endlinecolor": "#2a3f5f",
             "gridcolor": "white",
             "linecolor": "white",
             "minorgridcolor": "white",
             "startlinecolor": "#2a3f5f"
            },
            "baxis": {
             "endlinecolor": "#2a3f5f",
             "gridcolor": "white",
             "linecolor": "white",
             "minorgridcolor": "white",
             "startlinecolor": "#2a3f5f"
            },
            "type": "carpet"
           }
          ],
          "choropleth": [
           {
            "colorbar": {
             "outlinewidth": 0,
             "ticks": ""
            },
            "type": "choropleth"
           }
          ],
          "contour": [
           {
            "colorbar": {
             "outlinewidth": 0,
             "ticks": ""
            },
            "colorscale": [
             [
              0,
              "#0d0887"
             ],
             [
              0.1111111111111111,
              "#46039f"
             ],
             [
              0.2222222222222222,
              "#7201a8"
             ],
             [
              0.3333333333333333,
              "#9c179e"
             ],
             [
              0.4444444444444444,
              "#bd3786"
             ],
             [
              0.5555555555555556,
              "#d8576b"
             ],
             [
              0.6666666666666666,
              "#ed7953"
             ],
             [
              0.7777777777777778,
              "#fb9f3a"
             ],
             [
              0.8888888888888888,
              "#fdca26"
             ],
             [
              1,
              "#f0f921"
             ]
            ],
            "type": "contour"
           }
          ],
          "contourcarpet": [
           {
            "colorbar": {
             "outlinewidth": 0,
             "ticks": ""
            },
            "type": "contourcarpet"
           }
          ],
          "heatmap": [
           {
            "colorbar": {
             "outlinewidth": 0,
             "ticks": ""
            },
            "colorscale": [
             [
              0,
              "#0d0887"
             ],
             [
              0.1111111111111111,
              "#46039f"
             ],
             [
              0.2222222222222222,
              "#7201a8"
             ],
             [
              0.3333333333333333,
              "#9c179e"
             ],
             [
              0.4444444444444444,
              "#bd3786"
             ],
             [
              0.5555555555555556,
              "#d8576b"
             ],
             [
              0.6666666666666666,
              "#ed7953"
             ],
             [
              0.7777777777777778,
              "#fb9f3a"
             ],
             [
              0.8888888888888888,
              "#fdca26"
             ],
             [
              1,
              "#f0f921"
             ]
            ],
            "type": "heatmap"
           }
          ],
          "heatmapgl": [
           {
            "colorbar": {
             "outlinewidth": 0,
             "ticks": ""
            },
            "colorscale": [
             [
              0,
              "#0d0887"
             ],
             [
              0.1111111111111111,
              "#46039f"
             ],
             [
              0.2222222222222222,
              "#7201a8"
             ],
             [
              0.3333333333333333,
              "#9c179e"
             ],
             [
              0.4444444444444444,
              "#bd3786"
             ],
             [
              0.5555555555555556,
              "#d8576b"
             ],
             [
              0.6666666666666666,
              "#ed7953"
             ],
             [
              0.7777777777777778,
              "#fb9f3a"
             ],
             [
              0.8888888888888888,
              "#fdca26"
             ],
             [
              1,
              "#f0f921"
             ]
            ],
            "type": "heatmapgl"
           }
          ],
          "histogram": [
           {
            "marker": {
             "colorbar": {
              "outlinewidth": 0,
              "ticks": ""
             }
            },
            "type": "histogram"
           }
          ],
          "histogram2d": [
           {
            "colorbar": {
             "outlinewidth": 0,
             "ticks": ""
            },
            "colorscale": [
             [
              0,
              "#0d0887"
             ],
             [
              0.1111111111111111,
              "#46039f"
             ],
             [
              0.2222222222222222,
              "#7201a8"
             ],
             [
              0.3333333333333333,
              "#9c179e"
             ],
             [
              0.4444444444444444,
              "#bd3786"
             ],
             [
              0.5555555555555556,
              "#d8576b"
             ],
             [
              0.6666666666666666,
              "#ed7953"
             ],
             [
              0.7777777777777778,
              "#fb9f3a"
             ],
             [
              0.8888888888888888,
              "#fdca26"
             ],
             [
              1,
              "#f0f921"
             ]
            ],
            "type": "histogram2d"
           }
          ],
          "histogram2dcontour": [
           {
            "colorbar": {
             "outlinewidth": 0,
             "ticks": ""
            },
            "colorscale": [
             [
              0,
              "#0d0887"
             ],
             [
              0.1111111111111111,
              "#46039f"
             ],
             [
              0.2222222222222222,
              "#7201a8"
             ],
             [
              0.3333333333333333,
              "#9c179e"
             ],
             [
              0.4444444444444444,
              "#bd3786"
             ],
             [
              0.5555555555555556,
              "#d8576b"
             ],
             [
              0.6666666666666666,
              "#ed7953"
             ],
             [
              0.7777777777777778,
              "#fb9f3a"
             ],
             [
              0.8888888888888888,
              "#fdca26"
             ],
             [
              1,
              "#f0f921"
             ]
            ],
            "type": "histogram2dcontour"
           }
          ],
          "mesh3d": [
           {
            "colorbar": {
             "outlinewidth": 0,
             "ticks": ""
            },
            "type": "mesh3d"
           }
          ],
          "parcoords": [
           {
            "line": {
             "colorbar": {
              "outlinewidth": 0,
              "ticks": ""
             }
            },
            "type": "parcoords"
           }
          ],
          "scatter": [
           {
            "marker": {
             "colorbar": {
              "outlinewidth": 0,
              "ticks": ""
             }
            },
            "type": "scatter"
           }
          ],
          "scatter3d": [
           {
            "line": {
             "colorbar": {
              "outlinewidth": 0,
              "ticks": ""
             }
            },
            "marker": {
             "colorbar": {
              "outlinewidth": 0,
              "ticks": ""
             }
            },
            "type": "scatter3d"
           }
          ],
          "scattercarpet": [
           {
            "marker": {
             "colorbar": {
              "outlinewidth": 0,
              "ticks": ""
             }
            },
            "type": "scattercarpet"
           }
          ],
          "scattergeo": [
           {
            "marker": {
             "colorbar": {
              "outlinewidth": 0,
              "ticks": ""
             }
            },
            "type": "scattergeo"
           }
          ],
          "scattergl": [
           {
            "marker": {
             "colorbar": {
              "outlinewidth": 0,
              "ticks": ""
             }
            },
            "type": "scattergl"
           }
          ],
          "scattermapbox": [
           {
            "marker": {
             "colorbar": {
              "outlinewidth": 0,
              "ticks": ""
             }
            },
            "type": "scattermapbox"
           }
          ],
          "scatterpolar": [
           {
            "marker": {
             "colorbar": {
              "outlinewidth": 0,
              "ticks": ""
             }
            },
            "type": "scatterpolar"
           }
          ],
          "scatterpolargl": [
           {
            "marker": {
             "colorbar": {
              "outlinewidth": 0,
              "ticks": ""
             }
            },
            "type": "scatterpolargl"
           }
          ],
          "scatterternary": [
           {
            "marker": {
             "colorbar": {
              "outlinewidth": 0,
              "ticks": ""
             }
            },
            "type": "scatterternary"
           }
          ],
          "surface": [
           {
            "colorbar": {
             "outlinewidth": 0,
             "ticks": ""
            },
            "colorscale": [
             [
              0,
              "#0d0887"
             ],
             [
              0.1111111111111111,
              "#46039f"
             ],
             [
              0.2222222222222222,
              "#7201a8"
             ],
             [
              0.3333333333333333,
              "#9c179e"
             ],
             [
              0.4444444444444444,
              "#bd3786"
             ],
             [
              0.5555555555555556,
              "#d8576b"
             ],
             [
              0.6666666666666666,
              "#ed7953"
             ],
             [
              0.7777777777777778,
              "#fb9f3a"
             ],
             [
              0.8888888888888888,
              "#fdca26"
             ],
             [
              1,
              "#f0f921"
             ]
            ],
            "type": "surface"
           }
          ],
          "table": [
           {
            "cells": {
             "fill": {
              "color": "#EBF0F8"
             },
             "line": {
              "color": "white"
             }
            },
            "header": {
             "fill": {
              "color": "#C8D4E3"
             },
             "line": {
              "color": "white"
             }
            },
            "type": "table"
           }
          ]
         },
         "layout": {
          "annotationdefaults": {
           "arrowcolor": "#2a3f5f",
           "arrowhead": 0,
           "arrowwidth": 1
          },
          "colorscale": {
           "diverging": [
            [
             0,
             "#8e0152"
            ],
            [
             0.1,
             "#c51b7d"
            ],
            [
             0.2,
             "#de77ae"
            ],
            [
             0.3,
             "#f1b6da"
            ],
            [
             0.4,
             "#fde0ef"
            ],
            [
             0.5,
             "#f7f7f7"
            ],
            [
             0.6,
             "#e6f5d0"
            ],
            [
             0.7,
             "#b8e186"
            ],
            [
             0.8,
             "#7fbc41"
            ],
            [
             0.9,
             "#4d9221"
            ],
            [
             1,
             "#276419"
            ]
           ],
           "sequential": [
            [
             0,
             "#0d0887"
            ],
            [
             0.1111111111111111,
             "#46039f"
            ],
            [
             0.2222222222222222,
             "#7201a8"
            ],
            [
             0.3333333333333333,
             "#9c179e"
            ],
            [
             0.4444444444444444,
             "#bd3786"
            ],
            [
             0.5555555555555556,
             "#d8576b"
            ],
            [
             0.6666666666666666,
             "#ed7953"
            ],
            [
             0.7777777777777778,
             "#fb9f3a"
            ],
            [
             0.8888888888888888,
             "#fdca26"
            ],
            [
             1,
             "#f0f921"
            ]
           ],
           "sequentialminus": [
            [
             0,
             "#0d0887"
            ],
            [
             0.1111111111111111,
             "#46039f"
            ],
            [
             0.2222222222222222,
             "#7201a8"
            ],
            [
             0.3333333333333333,
             "#9c179e"
            ],
            [
             0.4444444444444444,
             "#bd3786"
            ],
            [
             0.5555555555555556,
             "#d8576b"
            ],
            [
             0.6666666666666666,
             "#ed7953"
            ],
            [
             0.7777777777777778,
             "#fb9f3a"
            ],
            [
             0.8888888888888888,
             "#fdca26"
            ],
            [
             1,
             "#f0f921"
            ]
           ]
          },
          "colorway": [
           "#636efa",
           "#EF553B",
           "#00cc96",
           "#ab63fa",
           "#FFA15A",
           "#19d3f3",
           "#FF6692",
           "#B6E880",
           "#FF97FF",
           "#FECB52"
          ],
          "font": {
           "color": "#2a3f5f"
          },
          "geo": {
           "bgcolor": "white",
           "lakecolor": "white",
           "landcolor": "#E5ECF6",
           "showlakes": true,
           "showland": true,
           "subunitcolor": "white"
          },
          "hoverlabel": {
           "align": "left"
          },
          "hovermode": "closest",
          "mapbox": {
           "style": "light"
          },
          "paper_bgcolor": "white",
          "plot_bgcolor": "#E5ECF6",
          "polar": {
           "angularaxis": {
            "gridcolor": "white",
            "linecolor": "white",
            "ticks": ""
           },
           "bgcolor": "#E5ECF6",
           "radialaxis": {
            "gridcolor": "white",
            "linecolor": "white",
            "ticks": ""
           }
          },
          "scene": {
           "xaxis": {
            "backgroundcolor": "#E5ECF6",
            "gridcolor": "white",
            "gridwidth": 2,
            "linecolor": "white",
            "showbackground": true,
            "ticks": "",
            "zerolinecolor": "white"
           },
           "yaxis": {
            "backgroundcolor": "#E5ECF6",
            "gridcolor": "white",
            "gridwidth": 2,
            "linecolor": "white",
            "showbackground": true,
            "ticks": "",
            "zerolinecolor": "white"
           },
           "zaxis": {
            "backgroundcolor": "#E5ECF6",
            "gridcolor": "white",
            "gridwidth": 2,
            "linecolor": "white",
            "showbackground": true,
            "ticks": "",
            "zerolinecolor": "white"
           }
          },
          "shapedefaults": {
           "line": {
            "color": "#2a3f5f"
           }
          },
          "ternary": {
           "aaxis": {
            "gridcolor": "white",
            "linecolor": "white",
            "ticks": ""
           },
           "baxis": {
            "gridcolor": "white",
            "linecolor": "white",
            "ticks": ""
           },
           "bgcolor": "#E5ECF6",
           "caxis": {
            "gridcolor": "white",
            "linecolor": "white",
            "ticks": ""
           }
          },
          "title": {
           "x": 0.05
          },
          "xaxis": {
           "automargin": true,
           "gridcolor": "white",
           "linecolor": "white",
           "ticks": "",
           "zerolinecolor": "white",
           "zerolinewidth": 2
          },
          "yaxis": {
           "automargin": true,
           "gridcolor": "white",
           "linecolor": "white",
           "ticks": "",
           "zerolinecolor": "white",
           "zerolinewidth": 2
          }
         }
        },
        "title": {
         "text": "Pearson correlation of indicator percentage changes (first in list)"
        }
       }
      },
      "text/html": [
       "<div>\n",
       "        \n",
       "        \n",
       "            <div id=\"167f4607-9c6f-49a2-ba97-cd0a01953c21\" class=\"plotly-graph-div\" style=\"height:525px; width:100%;\"></div>\n",
       "            <script type=\"text/javascript\">\n",
       "                require([\"plotly\"], function(Plotly) {\n",
       "                    window.PLOTLYENV=window.PLOTLYENV || {};\n",
       "                    \n",
       "                if (document.getElementById(\"167f4607-9c6f-49a2-ba97-cd0a01953c21\")) {\n",
       "                    Plotly.newPlot(\n",
       "                        '167f4607-9c6f-49a2-ba97-cd0a01953c21',\n",
       "                        [{\"colorbar\": {\"title\": {\"text\": \"Pearson Coefficient\"}}, \"type\": \"heatmap\", \"x\": [\"open\", \"high\", \"low\", \"close\", \"macd\", \"signal\", \"mfi\", \"bb_up\", \"bb_low\", \"vzo\", \"apz_u\", \"apz_l\", \"stoch\"], \"y\": [\"open\", \"high\", \"low\", \"close\", \"macd\", \"signal\", \"mfi\", \"bb_up\", \"bb_low\", \"vzo\", \"apz_u\", \"apz_l\", \"stoch\"], \"z\": [[1.0, 0.4502948794699969, 0.8600093060710697, 0.5958275418790056, -0.443511005551562, 0.4068187869005507, 0.5045151737297419, -0.28055937459273256, 0.5154074087703996, 0.4109749674385342, 0.48681102447022045, 0.4974679425420611, 0.06592510599323582], [0.4502948794699969, 1.0, 0.5446694636404081, 0.6812232024963006, -0.5066410331279984, 0.2620085704389688, 0.5973183818863806, -0.41411885850826363, 0.7017585816926378, -0.10510435534063496, 0.5632144042003139, 0.5700393538390994, 0.3853589416031336], [0.8600093060710697, 0.5446694636404081, 1.0, 0.7441603600431556, -0.4716288891187792, 0.2990276399449728, 0.7241623912874333, -0.40087466022577356, 0.5029732591593746, 0.5772275789699531, 0.4085724479904065, 0.4250254588808922, 0.3376005008552958], [0.5958275418790056, 0.6812232024963006, 0.7441603600431556, 1.0, -0.3951306527599555, 0.12713911690898114, 0.8280372900565632, -0.3473788606842065, 0.5873150912948254, 0.3773683546535167, 0.5055356614622191, 0.5239822429936026, 0.5782258509606032], [-0.443511005551562, -0.5066410331279984, -0.4716288891187792, -0.3951306527599555, 1.0, -0.0865094731210827, -0.3686706105072425, 0.46831495489909475, -0.59761018597797, 0.029835136333105534, -0.42587863529746095, -0.40709779765761295, -0.23027547091190406], [0.4068187869005507, 0.2620085704389688, 0.2990276399449728, 0.12713911690898114, -0.0865094731210827, 1.0, 0.1805591622209569, -0.32921996252481384, 0.1337486109305393, -0.06911058873246759, -0.007867623659044162, 0.02156630451585223, -0.08654905972141078], [0.5045151737297419, 0.5973183818863806, 0.7241623912874333, 0.8280372900565632, -0.3686706105072425, 0.1805591622209569, 1.0, -0.2955840475795046, 0.4867797392428156, 0.2870836180078432, 0.3448235439710791, 0.3514064721577701, 0.6104847199031761], [-0.28055937459273256, -0.41411885850826363, -0.40087466022577356, -0.3473788606842065, 0.46831495489909475, -0.32921996252481384, -0.2955840475795046, 1.0, -0.4976334717030973, 0.0940244066617494, -0.07610471036629468, -0.05750899543311437, -0.3222903314033099], [0.5154074087703996, 0.7017585816926378, 0.5029732591593746, 0.5873150912948254, -0.59761018597797, 0.1337486109305393, 0.4867797392428156, -0.4976334717030973, 1.0, 0.09171786052380139, 0.8326797391755583, 0.8176240021892184, 0.1504166108191685], [0.4109749674385342, -0.10510435534063496, 0.5772275789699531, 0.3773683546535167, 0.029835136333105534, -0.06911058873246759, 0.2870836180078432, 0.0940244066617494, 0.09171786052380139, 1.0, 0.21424379592681406, 0.24233774118493479, 0.004870795274069061], [0.48681102447022045, 0.5632144042003139, 0.4085724479904065, 0.5055356614622191, -0.42587863529746095, -0.007867623659044162, 0.3448235439710791, -0.07610471036629468, 0.8326797391755583, 0.21424379592681406, 1.0, 0.9947702531277192, -0.022711527614477787], [0.4974679425420611, 0.5700393538390994, 0.4250254588808922, 0.5239822429936026, -0.40709779765761295, 0.02156630451585223, 0.3514064721577701, -0.05750899543311437, 0.8176240021892184, 0.24233774118493479, 0.9947702531277192, 1.0, 0.002966300890729498], [0.06592510599323582, 0.3853589416031336, 0.3376005008552958, 0.5782258509606032, -0.23027547091190406, -0.08654905972141078, 0.6104847199031761, -0.3222903314033099, 0.1504166108191685, 0.004870795274069061, -0.022711527614477787, 0.002966300890729498, 1.0]], \"zmax\": 1.0, \"zmin\": -1.0}],\n",
       "                        {\"template\": {\"data\": {\"bar\": [{\"error_x\": {\"color\": \"#2a3f5f\"}, \"error_y\": {\"color\": \"#2a3f5f\"}, \"marker\": {\"line\": {\"color\": \"#E5ECF6\", \"width\": 0.5}}, \"type\": \"bar\"}], \"barpolar\": [{\"marker\": {\"line\": {\"color\": \"#E5ECF6\", \"width\": 0.5}}, \"type\": \"barpolar\"}], \"carpet\": [{\"aaxis\": {\"endlinecolor\": \"#2a3f5f\", \"gridcolor\": \"white\", \"linecolor\": \"white\", \"minorgridcolor\": \"white\", \"startlinecolor\": \"#2a3f5f\"}, \"baxis\": {\"endlinecolor\": \"#2a3f5f\", \"gridcolor\": \"white\", \"linecolor\": \"white\", \"minorgridcolor\": \"white\", \"startlinecolor\": \"#2a3f5f\"}, \"type\": \"carpet\"}], \"choropleth\": [{\"colorbar\": {\"outlinewidth\": 0, \"ticks\": \"\"}, \"type\": \"choropleth\"}], \"contour\": [{\"colorbar\": {\"outlinewidth\": 0, \"ticks\": \"\"}, \"colorscale\": [[0.0, \"#0d0887\"], [0.1111111111111111, \"#46039f\"], [0.2222222222222222, \"#7201a8\"], [0.3333333333333333, \"#9c179e\"], [0.4444444444444444, \"#bd3786\"], [0.5555555555555556, \"#d8576b\"], [0.6666666666666666, \"#ed7953\"], [0.7777777777777778, \"#fb9f3a\"], [0.8888888888888888, \"#fdca26\"], [1.0, \"#f0f921\"]], \"type\": \"contour\"}], \"contourcarpet\": [{\"colorbar\": {\"outlinewidth\": 0, \"ticks\": \"\"}, \"type\": \"contourcarpet\"}], \"heatmap\": [{\"colorbar\": {\"outlinewidth\": 0, \"ticks\": \"\"}, \"colorscale\": [[0.0, \"#0d0887\"], [0.1111111111111111, \"#46039f\"], [0.2222222222222222, \"#7201a8\"], [0.3333333333333333, \"#9c179e\"], [0.4444444444444444, \"#bd3786\"], [0.5555555555555556, \"#d8576b\"], [0.6666666666666666, \"#ed7953\"], [0.7777777777777778, \"#fb9f3a\"], [0.8888888888888888, \"#fdca26\"], [1.0, \"#f0f921\"]], \"type\": \"heatmap\"}], \"heatmapgl\": [{\"colorbar\": {\"outlinewidth\": 0, \"ticks\": \"\"}, \"colorscale\": [[0.0, \"#0d0887\"], [0.1111111111111111, \"#46039f\"], [0.2222222222222222, \"#7201a8\"], [0.3333333333333333, \"#9c179e\"], [0.4444444444444444, \"#bd3786\"], [0.5555555555555556, \"#d8576b\"], [0.6666666666666666, \"#ed7953\"], [0.7777777777777778, \"#fb9f3a\"], [0.8888888888888888, \"#fdca26\"], [1.0, \"#f0f921\"]], \"type\": \"heatmapgl\"}], \"histogram\": [{\"marker\": {\"colorbar\": {\"outlinewidth\": 0, \"ticks\": \"\"}}, \"type\": \"histogram\"}], \"histogram2d\": [{\"colorbar\": {\"outlinewidth\": 0, \"ticks\": \"\"}, \"colorscale\": [[0.0, \"#0d0887\"], [0.1111111111111111, \"#46039f\"], [0.2222222222222222, \"#7201a8\"], [0.3333333333333333, \"#9c179e\"], [0.4444444444444444, \"#bd3786\"], [0.5555555555555556, \"#d8576b\"], [0.6666666666666666, \"#ed7953\"], [0.7777777777777778, \"#fb9f3a\"], [0.8888888888888888, \"#fdca26\"], [1.0, \"#f0f921\"]], \"type\": \"histogram2d\"}], \"histogram2dcontour\": [{\"colorbar\": {\"outlinewidth\": 0, \"ticks\": \"\"}, \"colorscale\": [[0.0, \"#0d0887\"], [0.1111111111111111, \"#46039f\"], [0.2222222222222222, \"#7201a8\"], [0.3333333333333333, \"#9c179e\"], [0.4444444444444444, \"#bd3786\"], [0.5555555555555556, \"#d8576b\"], [0.6666666666666666, \"#ed7953\"], [0.7777777777777778, \"#fb9f3a\"], [0.8888888888888888, \"#fdca26\"], [1.0, \"#f0f921\"]], \"type\": \"histogram2dcontour\"}], \"mesh3d\": [{\"colorbar\": {\"outlinewidth\": 0, \"ticks\": \"\"}, \"type\": \"mesh3d\"}], \"parcoords\": [{\"line\": {\"colorbar\": {\"outlinewidth\": 0, \"ticks\": \"\"}}, \"type\": \"parcoords\"}], \"scatter\": [{\"marker\": {\"colorbar\": {\"outlinewidth\": 0, \"ticks\": \"\"}}, \"type\": \"scatter\"}], \"scatter3d\": [{\"line\": {\"colorbar\": {\"outlinewidth\": 0, \"ticks\": \"\"}}, \"marker\": {\"colorbar\": {\"outlinewidth\": 0, \"ticks\": \"\"}}, \"type\": \"scatter3d\"}], \"scattercarpet\": [{\"marker\": {\"colorbar\": {\"outlinewidth\": 0, \"ticks\": \"\"}}, \"type\": \"scattercarpet\"}], \"scattergeo\": [{\"marker\": {\"colorbar\": {\"outlinewidth\": 0, \"ticks\": \"\"}}, \"type\": \"scattergeo\"}], \"scattergl\": [{\"marker\": {\"colorbar\": {\"outlinewidth\": 0, \"ticks\": \"\"}}, \"type\": \"scattergl\"}], \"scattermapbox\": [{\"marker\": {\"colorbar\": {\"outlinewidth\": 0, \"ticks\": \"\"}}, \"type\": \"scattermapbox\"}], \"scatterpolar\": [{\"marker\": {\"colorbar\": {\"outlinewidth\": 0, \"ticks\": \"\"}}, \"type\": \"scatterpolar\"}], \"scatterpolargl\": [{\"marker\": {\"colorbar\": {\"outlinewidth\": 0, \"ticks\": \"\"}}, \"type\": \"scatterpolargl\"}], \"scatterternary\": [{\"marker\": {\"colorbar\": {\"outlinewidth\": 0, \"ticks\": \"\"}}, \"type\": \"scatterternary\"}], \"surface\": [{\"colorbar\": {\"outlinewidth\": 0, \"ticks\": \"\"}, \"colorscale\": [[0.0, \"#0d0887\"], [0.1111111111111111, \"#46039f\"], [0.2222222222222222, \"#7201a8\"], [0.3333333333333333, \"#9c179e\"], [0.4444444444444444, \"#bd3786\"], [0.5555555555555556, \"#d8576b\"], [0.6666666666666666, \"#ed7953\"], [0.7777777777777778, \"#fb9f3a\"], [0.8888888888888888, \"#fdca26\"], [1.0, \"#f0f921\"]], \"type\": \"surface\"}], \"table\": [{\"cells\": {\"fill\": {\"color\": \"#EBF0F8\"}, \"line\": {\"color\": \"white\"}}, \"header\": {\"fill\": {\"color\": \"#C8D4E3\"}, \"line\": {\"color\": \"white\"}}, \"type\": \"table\"}]}, \"layout\": {\"annotationdefaults\": {\"arrowcolor\": \"#2a3f5f\", \"arrowhead\": 0, \"arrowwidth\": 1}, \"colorscale\": {\"diverging\": [[0, \"#8e0152\"], [0.1, \"#c51b7d\"], [0.2, \"#de77ae\"], [0.3, \"#f1b6da\"], [0.4, \"#fde0ef\"], [0.5, \"#f7f7f7\"], [0.6, \"#e6f5d0\"], [0.7, \"#b8e186\"], [0.8, \"#7fbc41\"], [0.9, \"#4d9221\"], [1, \"#276419\"]], \"sequential\": [[0.0, \"#0d0887\"], [0.1111111111111111, \"#46039f\"], [0.2222222222222222, \"#7201a8\"], [0.3333333333333333, \"#9c179e\"], [0.4444444444444444, \"#bd3786\"], [0.5555555555555556, \"#d8576b\"], [0.6666666666666666, \"#ed7953\"], [0.7777777777777778, \"#fb9f3a\"], [0.8888888888888888, \"#fdca26\"], [1.0, \"#f0f921\"]], \"sequentialminus\": [[0.0, \"#0d0887\"], [0.1111111111111111, \"#46039f\"], [0.2222222222222222, \"#7201a8\"], [0.3333333333333333, \"#9c179e\"], [0.4444444444444444, \"#bd3786\"], [0.5555555555555556, \"#d8576b\"], [0.6666666666666666, \"#ed7953\"], [0.7777777777777778, \"#fb9f3a\"], [0.8888888888888888, \"#fdca26\"], [1.0, \"#f0f921\"]]}, \"colorway\": [\"#636efa\", \"#EF553B\", \"#00cc96\", \"#ab63fa\", \"#FFA15A\", \"#19d3f3\", \"#FF6692\", \"#B6E880\", \"#FF97FF\", \"#FECB52\"], \"font\": {\"color\": \"#2a3f5f\"}, \"geo\": {\"bgcolor\": \"white\", \"lakecolor\": \"white\", \"landcolor\": \"#E5ECF6\", \"showlakes\": true, \"showland\": true, \"subunitcolor\": \"white\"}, \"hoverlabel\": {\"align\": \"left\"}, \"hovermode\": \"closest\", \"mapbox\": {\"style\": \"light\"}, \"paper_bgcolor\": \"white\", \"plot_bgcolor\": \"#E5ECF6\", \"polar\": {\"angularaxis\": {\"gridcolor\": \"white\", \"linecolor\": \"white\", \"ticks\": \"\"}, \"bgcolor\": \"#E5ECF6\", \"radialaxis\": {\"gridcolor\": \"white\", \"linecolor\": \"white\", \"ticks\": \"\"}}, \"scene\": {\"xaxis\": {\"backgroundcolor\": \"#E5ECF6\", \"gridcolor\": \"white\", \"gridwidth\": 2, \"linecolor\": \"white\", \"showbackground\": true, \"ticks\": \"\", \"zerolinecolor\": \"white\"}, \"yaxis\": {\"backgroundcolor\": \"#E5ECF6\", \"gridcolor\": \"white\", \"gridwidth\": 2, \"linecolor\": \"white\", \"showbackground\": true, \"ticks\": \"\", \"zerolinecolor\": \"white\"}, \"zaxis\": {\"backgroundcolor\": \"#E5ECF6\", \"gridcolor\": \"white\", \"gridwidth\": 2, \"linecolor\": \"white\", \"showbackground\": true, \"ticks\": \"\", \"zerolinecolor\": \"white\"}}, \"shapedefaults\": {\"line\": {\"color\": \"#2a3f5f\"}}, \"ternary\": {\"aaxis\": {\"gridcolor\": \"white\", \"linecolor\": \"white\", \"ticks\": \"\"}, \"baxis\": {\"gridcolor\": \"white\", \"linecolor\": \"white\", \"ticks\": \"\"}, \"bgcolor\": \"#E5ECF6\", \"caxis\": {\"gridcolor\": \"white\", \"linecolor\": \"white\", \"ticks\": \"\"}}, \"title\": {\"x\": 0.05}, \"xaxis\": {\"automargin\": true, \"gridcolor\": \"white\", \"linecolor\": \"white\", \"ticks\": \"\", \"zerolinecolor\": \"white\", \"zerolinewidth\": 2}, \"yaxis\": {\"automargin\": true, \"gridcolor\": \"white\", \"linecolor\": \"white\", \"ticks\": \"\", \"zerolinecolor\": \"white\", \"zerolinewidth\": 2}}}, \"title\": {\"text\": \"Pearson correlation of indicator percentage changes (first in list)\"}},\n",
       "                        {\"responsive\": true}\n",
       "                    ).then(function(){\n",
       "                            \n",
       "var gd = document.getElementById('167f4607-9c6f-49a2-ba97-cd0a01953c21');\n",
       "var x = new MutationObserver(function (mutations, observer) {{\n",
       "        var display = window.getComputedStyle(gd).display;\n",
       "        if (!display || display === 'none') {{\n",
       "            console.log([gd, 'removed!']);\n",
       "            Plotly.purge(gd);\n",
       "            observer.disconnect();\n",
       "        }}\n",
       "}});\n",
       "\n",
       "// Listen for the removal of the full notebook cells\n",
       "var notebookContainer = gd.closest('#notebook-container');\n",
       "if (notebookContainer) {{\n",
       "    x.observe(notebookContainer, {childList: true});\n",
       "}}\n",
       "\n",
       "// Listen for the clearing of the current output cell\n",
       "var outputEl = gd.closest('.output');\n",
       "if (outputEl) {{\n",
       "    x.observe(outputEl, {childList: true});\n",
       "}}\n",
       "\n",
       "                        })\n",
       "                };\n",
       "                });\n",
       "            </script>\n",
       "        </div>"
      ]
     },
     "metadata": {},
     "output_type": "display_data"
    }
   ],
   "source": [
    "heatmap = go.Heatmap(\n",
    "    z=n_indicators.iloc[-20:].pct_change().corr(method='pearson').values,\n",
    "    x=n_indicators.columns,\n",
    "    y=n_indicators.columns,\n",
    "    colorbar=dict(title='Pearson Coefficient'),\n",
    ")\n",
    "\n",
    "layout = go.Layout(title=\"Pearson correlation of indicator percentage changes (first in list)\")\n",
    "\n",
    "heatmap['zmax'] = 1.0\n",
    "heatmap['zmin'] = -1.0\n",
    "\n",
    "fig = go.Figure(data=[heatmap], layout=layout)\n",
    "py.iplot(fig)"
   ]
  },
  {
   "cell_type": "code",
   "execution_count": 19,
   "metadata": {
    "pycharm": {
     "name": "#%%\n"
    }
   },
   "outputs": [
    {
     "data": {
      "application/vnd.plotly.v1+json": {
       "config": {
        "linkText": "Export to plot.ly",
        "plotlyServerURL": "https://plot.ly",
        "showLink": false
       },
       "data": [
        {
         "colorbar": {
          "title": {
           "text": "Pearson Coefficient"
          }
         },
         "type": "heatmap",
         "x": [
          "open",
          "high",
          "low",
          "close",
          "macd",
          "signal",
          "mfi",
          "bb_up",
          "bb_low",
          "vzo",
          "apz_u",
          "apz_l",
          "stoch"
         ],
         "y": [
          "open",
          "high",
          "low",
          "close",
          "macd",
          "signal",
          "mfi",
          "bb_up",
          "bb_low",
          "vzo",
          "apz_u",
          "apz_l",
          "stoch"
         ],
         "z": [
          [
           1,
           0.6732462705608097,
           0.5462547939363468,
           0.37451045322542365,
           -0.1347535907019493,
           -0.0307022193795552,
           0.35929023160833273,
           0.4538764008185681,
           -0.24208837459654534,
           -0.04501215313938202,
           0.534625640851816,
           0.5278882069938818,
           0.15119449997838139
          ],
          [
           0.6732462705608097,
           1,
           0.7681819624548164,
           0.813892179350997,
           -0.3601227822794276,
           -0.3254906663266066,
           0.6347106264510172,
           0.3090198680004283,
           -0.2820962296395317,
           0.03472854203181029,
           0.43911346209048985,
           0.43802642421195087,
           0.5742006065532386
          ],
          [
           0.5462547939363468,
           0.7681819624548164,
           1,
           0.8166438372943134,
           -0.1694159831690155,
           -0.2647581048825516,
           0.5734827739154346,
           0.3022477955010905,
           -0.3046545084912647,
           0.128336649610577,
           0.4218226762789833,
           0.4208908265886875,
           0.5364125883555022
          ],
          [
           0.37451045322542365,
           0.813892179350997,
           0.8166438372943134,
           1,
           -0.3532407812788087,
           -0.31762825128275696,
           0.518671515105831,
           0.22426957622455496,
           -0.10730605093175309,
           0.378581964194984,
           0.4000296113102414,
           0.4062962825217525,
           0.7944151974126475
          ],
          [
           -0.1347535907019493,
           -0.3601227822794276,
           -0.1694159831690155,
           -0.3532407812788087,
           1,
           0.0777879842135875,
           0.13466724259213264,
           -0.381102958781954,
           0.23112686980257907,
           -0.032342913409602006,
           -0.3890904653184647,
           -0.3874705933747235,
           -0.09513998813207443
          ],
          [
           -0.0307022193795552,
           -0.3254906663266066,
           -0.2647581048825516,
           -0.31762825128275696,
           0.0777879842135875,
           1,
           -0.4189412049164661,
           0.2496763953423516,
           -0.14160390847680712,
           -0.05333938260586036,
           0.2627755602830715,
           0.2692679762812663,
           -0.17760317845179077
          ],
          [
           0.35929023160833273,
           0.6347106264510172,
           0.5734827739154346,
           0.518671515105831,
           0.13466724259213264,
           -0.4189412049164661,
           1,
           -0.03914568745335909,
           -0.1924627022332556,
           0.3131842805863899,
           0.09965735455945135,
           0.0767282271549796,
           0.4180923444242534
          ],
          [
           0.4538764008185681,
           0.3090198680004283,
           0.3022477955010905,
           0.22426957622455496,
           -0.381102958781954,
           0.2496763953423516,
           -0.03914568745335909,
           1,
           -0.39499916945563385,
           -0.06744212853169185,
           0.9124535778201988,
           0.9155059038367229,
           -0.1704088542329654
          ],
          [
           -0.24208837459654534,
           -0.2820962296395317,
           -0.3046545084912647,
           -0.10730605093175309,
           0.23112686980257907,
           -0.14160390847680712,
           -0.1924627022332556,
           -0.39499916945563385,
           1,
           0.09022086518627709,
           -0.1886198939310979,
           -0.18255085450577235,
           0.1453537239268535
          ],
          [
           -0.04501215313938202,
           0.03472854203181029,
           0.128336649610577,
           0.378581964194984,
           -0.032342913409602006,
           -0.05333938260586036,
           0.3131842805863899,
           -0.06744212853169185,
           0.09022086518627709,
           1,
           0.08359280574471736,
           0.08062083031601498,
           0.46109840452931816
          ],
          [
           0.534625640851816,
           0.43911346209048985,
           0.4218226762789833,
           0.4000296113102414,
           -0.3890904653184647,
           0.2627755602830715,
           0.09965735455945135,
           0.9124535778201988,
           -0.1886198939310979,
           0.08359280574471736,
           1,
           0.9977977611986761,
           0.03926346696914201
          ],
          [
           0.5278882069938818,
           0.43802642421195087,
           0.4208908265886875,
           0.4062962825217525,
           -0.3874705933747235,
           0.2692679762812663,
           0.0767282271549796,
           0.9155059038367229,
           -0.18255085450577235,
           0.08062083031601498,
           0.9977977611986761,
           1,
           0.051539061222436365
          ],
          [
           0.15119449997838139,
           0.5742006065532386,
           0.5364125883555022,
           0.7944151974126475,
           -0.09513998813207443,
           -0.17760317845179077,
           0.4180923444242534,
           -0.1704088542329654,
           0.1453537239268535,
           0.46109840452931816,
           0.03926346696914201,
           0.051539061222436365,
           1
          ]
         ],
         "zmax": 1,
         "zmin": -1
        }
       ],
       "layout": {
        "template": {
         "data": {
          "bar": [
           {
            "error_x": {
             "color": "#2a3f5f"
            },
            "error_y": {
             "color": "#2a3f5f"
            },
            "marker": {
             "line": {
              "color": "#E5ECF6",
              "width": 0.5
             }
            },
            "type": "bar"
           }
          ],
          "barpolar": [
           {
            "marker": {
             "line": {
              "color": "#E5ECF6",
              "width": 0.5
             }
            },
            "type": "barpolar"
           }
          ],
          "carpet": [
           {
            "aaxis": {
             "endlinecolor": "#2a3f5f",
             "gridcolor": "white",
             "linecolor": "white",
             "minorgridcolor": "white",
             "startlinecolor": "#2a3f5f"
            },
            "baxis": {
             "endlinecolor": "#2a3f5f",
             "gridcolor": "white",
             "linecolor": "white",
             "minorgridcolor": "white",
             "startlinecolor": "#2a3f5f"
            },
            "type": "carpet"
           }
          ],
          "choropleth": [
           {
            "colorbar": {
             "outlinewidth": 0,
             "ticks": ""
            },
            "type": "choropleth"
           }
          ],
          "contour": [
           {
            "colorbar": {
             "outlinewidth": 0,
             "ticks": ""
            },
            "colorscale": [
             [
              0,
              "#0d0887"
             ],
             [
              0.1111111111111111,
              "#46039f"
             ],
             [
              0.2222222222222222,
              "#7201a8"
             ],
             [
              0.3333333333333333,
              "#9c179e"
             ],
             [
              0.4444444444444444,
              "#bd3786"
             ],
             [
              0.5555555555555556,
              "#d8576b"
             ],
             [
              0.6666666666666666,
              "#ed7953"
             ],
             [
              0.7777777777777778,
              "#fb9f3a"
             ],
             [
              0.8888888888888888,
              "#fdca26"
             ],
             [
              1,
              "#f0f921"
             ]
            ],
            "type": "contour"
           }
          ],
          "contourcarpet": [
           {
            "colorbar": {
             "outlinewidth": 0,
             "ticks": ""
            },
            "type": "contourcarpet"
           }
          ],
          "heatmap": [
           {
            "colorbar": {
             "outlinewidth": 0,
             "ticks": ""
            },
            "colorscale": [
             [
              0,
              "#0d0887"
             ],
             [
              0.1111111111111111,
              "#46039f"
             ],
             [
              0.2222222222222222,
              "#7201a8"
             ],
             [
              0.3333333333333333,
              "#9c179e"
             ],
             [
              0.4444444444444444,
              "#bd3786"
             ],
             [
              0.5555555555555556,
              "#d8576b"
             ],
             [
              0.6666666666666666,
              "#ed7953"
             ],
             [
              0.7777777777777778,
              "#fb9f3a"
             ],
             [
              0.8888888888888888,
              "#fdca26"
             ],
             [
              1,
              "#f0f921"
             ]
            ],
            "type": "heatmap"
           }
          ],
          "heatmapgl": [
           {
            "colorbar": {
             "outlinewidth": 0,
             "ticks": ""
            },
            "colorscale": [
             [
              0,
              "#0d0887"
             ],
             [
              0.1111111111111111,
              "#46039f"
             ],
             [
              0.2222222222222222,
              "#7201a8"
             ],
             [
              0.3333333333333333,
              "#9c179e"
             ],
             [
              0.4444444444444444,
              "#bd3786"
             ],
             [
              0.5555555555555556,
              "#d8576b"
             ],
             [
              0.6666666666666666,
              "#ed7953"
             ],
             [
              0.7777777777777778,
              "#fb9f3a"
             ],
             [
              0.8888888888888888,
              "#fdca26"
             ],
             [
              1,
              "#f0f921"
             ]
            ],
            "type": "heatmapgl"
           }
          ],
          "histogram": [
           {
            "marker": {
             "colorbar": {
              "outlinewidth": 0,
              "ticks": ""
             }
            },
            "type": "histogram"
           }
          ],
          "histogram2d": [
           {
            "colorbar": {
             "outlinewidth": 0,
             "ticks": ""
            },
            "colorscale": [
             [
              0,
              "#0d0887"
             ],
             [
              0.1111111111111111,
              "#46039f"
             ],
             [
              0.2222222222222222,
              "#7201a8"
             ],
             [
              0.3333333333333333,
              "#9c179e"
             ],
             [
              0.4444444444444444,
              "#bd3786"
             ],
             [
              0.5555555555555556,
              "#d8576b"
             ],
             [
              0.6666666666666666,
              "#ed7953"
             ],
             [
              0.7777777777777778,
              "#fb9f3a"
             ],
             [
              0.8888888888888888,
              "#fdca26"
             ],
             [
              1,
              "#f0f921"
             ]
            ],
            "type": "histogram2d"
           }
          ],
          "histogram2dcontour": [
           {
            "colorbar": {
             "outlinewidth": 0,
             "ticks": ""
            },
            "colorscale": [
             [
              0,
              "#0d0887"
             ],
             [
              0.1111111111111111,
              "#46039f"
             ],
             [
              0.2222222222222222,
              "#7201a8"
             ],
             [
              0.3333333333333333,
              "#9c179e"
             ],
             [
              0.4444444444444444,
              "#bd3786"
             ],
             [
              0.5555555555555556,
              "#d8576b"
             ],
             [
              0.6666666666666666,
              "#ed7953"
             ],
             [
              0.7777777777777778,
              "#fb9f3a"
             ],
             [
              0.8888888888888888,
              "#fdca26"
             ],
             [
              1,
              "#f0f921"
             ]
            ],
            "type": "histogram2dcontour"
           }
          ],
          "mesh3d": [
           {
            "colorbar": {
             "outlinewidth": 0,
             "ticks": ""
            },
            "type": "mesh3d"
           }
          ],
          "parcoords": [
           {
            "line": {
             "colorbar": {
              "outlinewidth": 0,
              "ticks": ""
             }
            },
            "type": "parcoords"
           }
          ],
          "scatter": [
           {
            "marker": {
             "colorbar": {
              "outlinewidth": 0,
              "ticks": ""
             }
            },
            "type": "scatter"
           }
          ],
          "scatter3d": [
           {
            "line": {
             "colorbar": {
              "outlinewidth": 0,
              "ticks": ""
             }
            },
            "marker": {
             "colorbar": {
              "outlinewidth": 0,
              "ticks": ""
             }
            },
            "type": "scatter3d"
           }
          ],
          "scattercarpet": [
           {
            "marker": {
             "colorbar": {
              "outlinewidth": 0,
              "ticks": ""
             }
            },
            "type": "scattercarpet"
           }
          ],
          "scattergeo": [
           {
            "marker": {
             "colorbar": {
              "outlinewidth": 0,
              "ticks": ""
             }
            },
            "type": "scattergeo"
           }
          ],
          "scattergl": [
           {
            "marker": {
             "colorbar": {
              "outlinewidth": 0,
              "ticks": ""
             }
            },
            "type": "scattergl"
           }
          ],
          "scattermapbox": [
           {
            "marker": {
             "colorbar": {
              "outlinewidth": 0,
              "ticks": ""
             }
            },
            "type": "scattermapbox"
           }
          ],
          "scatterpolar": [
           {
            "marker": {
             "colorbar": {
              "outlinewidth": 0,
              "ticks": ""
             }
            },
            "type": "scatterpolar"
           }
          ],
          "scatterpolargl": [
           {
            "marker": {
             "colorbar": {
              "outlinewidth": 0,
              "ticks": ""
             }
            },
            "type": "scatterpolargl"
           }
          ],
          "scatterternary": [
           {
            "marker": {
             "colorbar": {
              "outlinewidth": 0,
              "ticks": ""
             }
            },
            "type": "scatterternary"
           }
          ],
          "surface": [
           {
            "colorbar": {
             "outlinewidth": 0,
             "ticks": ""
            },
            "colorscale": [
             [
              0,
              "#0d0887"
             ],
             [
              0.1111111111111111,
              "#46039f"
             ],
             [
              0.2222222222222222,
              "#7201a8"
             ],
             [
              0.3333333333333333,
              "#9c179e"
             ],
             [
              0.4444444444444444,
              "#bd3786"
             ],
             [
              0.5555555555555556,
              "#d8576b"
             ],
             [
              0.6666666666666666,
              "#ed7953"
             ],
             [
              0.7777777777777778,
              "#fb9f3a"
             ],
             [
              0.8888888888888888,
              "#fdca26"
             ],
             [
              1,
              "#f0f921"
             ]
            ],
            "type": "surface"
           }
          ],
          "table": [
           {
            "cells": {
             "fill": {
              "color": "#EBF0F8"
             },
             "line": {
              "color": "white"
             }
            },
            "header": {
             "fill": {
              "color": "#C8D4E3"
             },
             "line": {
              "color": "white"
             }
            },
            "type": "table"
           }
          ]
         },
         "layout": {
          "annotationdefaults": {
           "arrowcolor": "#2a3f5f",
           "arrowhead": 0,
           "arrowwidth": 1
          },
          "colorscale": {
           "diverging": [
            [
             0,
             "#8e0152"
            ],
            [
             0.1,
             "#c51b7d"
            ],
            [
             0.2,
             "#de77ae"
            ],
            [
             0.3,
             "#f1b6da"
            ],
            [
             0.4,
             "#fde0ef"
            ],
            [
             0.5,
             "#f7f7f7"
            ],
            [
             0.6,
             "#e6f5d0"
            ],
            [
             0.7,
             "#b8e186"
            ],
            [
             0.8,
             "#7fbc41"
            ],
            [
             0.9,
             "#4d9221"
            ],
            [
             1,
             "#276419"
            ]
           ],
           "sequential": [
            [
             0,
             "#0d0887"
            ],
            [
             0.1111111111111111,
             "#46039f"
            ],
            [
             0.2222222222222222,
             "#7201a8"
            ],
            [
             0.3333333333333333,
             "#9c179e"
            ],
            [
             0.4444444444444444,
             "#bd3786"
            ],
            [
             0.5555555555555556,
             "#d8576b"
            ],
            [
             0.6666666666666666,
             "#ed7953"
            ],
            [
             0.7777777777777778,
             "#fb9f3a"
            ],
            [
             0.8888888888888888,
             "#fdca26"
            ],
            [
             1,
             "#f0f921"
            ]
           ],
           "sequentialminus": [
            [
             0,
             "#0d0887"
            ],
            [
             0.1111111111111111,
             "#46039f"
            ],
            [
             0.2222222222222222,
             "#7201a8"
            ],
            [
             0.3333333333333333,
             "#9c179e"
            ],
            [
             0.4444444444444444,
             "#bd3786"
            ],
            [
             0.5555555555555556,
             "#d8576b"
            ],
            [
             0.6666666666666666,
             "#ed7953"
            ],
            [
             0.7777777777777778,
             "#fb9f3a"
            ],
            [
             0.8888888888888888,
             "#fdca26"
            ],
            [
             1,
             "#f0f921"
            ]
           ]
          },
          "colorway": [
           "#636efa",
           "#EF553B",
           "#00cc96",
           "#ab63fa",
           "#FFA15A",
           "#19d3f3",
           "#FF6692",
           "#B6E880",
           "#FF97FF",
           "#FECB52"
          ],
          "font": {
           "color": "#2a3f5f"
          },
          "geo": {
           "bgcolor": "white",
           "lakecolor": "white",
           "landcolor": "#E5ECF6",
           "showlakes": true,
           "showland": true,
           "subunitcolor": "white"
          },
          "hoverlabel": {
           "align": "left"
          },
          "hovermode": "closest",
          "mapbox": {
           "style": "light"
          },
          "paper_bgcolor": "white",
          "plot_bgcolor": "#E5ECF6",
          "polar": {
           "angularaxis": {
            "gridcolor": "white",
            "linecolor": "white",
            "ticks": ""
           },
           "bgcolor": "#E5ECF6",
           "radialaxis": {
            "gridcolor": "white",
            "linecolor": "white",
            "ticks": ""
           }
          },
          "scene": {
           "xaxis": {
            "backgroundcolor": "#E5ECF6",
            "gridcolor": "white",
            "gridwidth": 2,
            "linecolor": "white",
            "showbackground": true,
            "ticks": "",
            "zerolinecolor": "white"
           },
           "yaxis": {
            "backgroundcolor": "#E5ECF6",
            "gridcolor": "white",
            "gridwidth": 2,
            "linecolor": "white",
            "showbackground": true,
            "ticks": "",
            "zerolinecolor": "white"
           },
           "zaxis": {
            "backgroundcolor": "#E5ECF6",
            "gridcolor": "white",
            "gridwidth": 2,
            "linecolor": "white",
            "showbackground": true,
            "ticks": "",
            "zerolinecolor": "white"
           }
          },
          "shapedefaults": {
           "line": {
            "color": "#2a3f5f"
           }
          },
          "ternary": {
           "aaxis": {
            "gridcolor": "white",
            "linecolor": "white",
            "ticks": ""
           },
           "baxis": {
            "gridcolor": "white",
            "linecolor": "white",
            "ticks": ""
           },
           "bgcolor": "#E5ECF6",
           "caxis": {
            "gridcolor": "white",
            "linecolor": "white",
            "ticks": ""
           }
          },
          "title": {
           "x": 0.05
          },
          "xaxis": {
           "automargin": true,
           "gridcolor": "white",
           "linecolor": "white",
           "ticks": "",
           "zerolinecolor": "white",
           "zerolinewidth": 2
          },
          "yaxis": {
           "automargin": true,
           "gridcolor": "white",
           "linecolor": "white",
           "ticks": "",
           "zerolinecolor": "white",
           "zerolinewidth": 2
          }
         }
        },
        "title": {
         "text": "Pearson correlation of indicator percentage changes (second in list)"
        }
       }
      },
      "text/html": [
       "<div>\n",
       "        \n",
       "        \n",
       "            <div id=\"da680ee7-3eec-416e-ae46-1992a611e58e\" class=\"plotly-graph-div\" style=\"height:525px; width:100%;\"></div>\n",
       "            <script type=\"text/javascript\">\n",
       "                require([\"plotly\"], function(Plotly) {\n",
       "                    window.PLOTLYENV=window.PLOTLYENV || {};\n",
       "                    \n",
       "                if (document.getElementById(\"da680ee7-3eec-416e-ae46-1992a611e58e\")) {\n",
       "                    Plotly.newPlot(\n",
       "                        'da680ee7-3eec-416e-ae46-1992a611e58e',\n",
       "                        [{\"colorbar\": {\"title\": {\"text\": \"Pearson Coefficient\"}}, \"type\": \"heatmap\", \"x\": [\"open\", \"high\", \"low\", \"close\", \"macd\", \"signal\", \"mfi\", \"bb_up\", \"bb_low\", \"vzo\", \"apz_u\", \"apz_l\", \"stoch\"], \"y\": [\"open\", \"high\", \"low\", \"close\", \"macd\", \"signal\", \"mfi\", \"bb_up\", \"bb_low\", \"vzo\", \"apz_u\", \"apz_l\", \"stoch\"], \"z\": [[1.0, 0.6732462705608097, 0.5462547939363468, 0.37451045322542365, -0.1347535907019493, -0.0307022193795552, 0.35929023160833273, 0.4538764008185681, -0.24208837459654534, -0.04501215313938202, 0.534625640851816, 0.5278882069938818, 0.15119449997838139], [0.6732462705608097, 1.0, 0.7681819624548164, 0.813892179350997, -0.3601227822794276, -0.3254906663266066, 0.6347106264510172, 0.3090198680004283, -0.2820962296395317, 0.03472854203181029, 0.43911346209048985, 0.43802642421195087, 0.5742006065532386], [0.5462547939363468, 0.7681819624548164, 1.0, 0.8166438372943134, -0.1694159831690155, -0.2647581048825516, 0.5734827739154346, 0.3022477955010905, -0.3046545084912647, 0.128336649610577, 0.4218226762789833, 0.4208908265886875, 0.5364125883555022], [0.37451045322542365, 0.813892179350997, 0.8166438372943134, 1.0, -0.3532407812788087, -0.31762825128275696, 0.518671515105831, 0.22426957622455496, -0.10730605093175309, 0.378581964194984, 0.4000296113102414, 0.4062962825217525, 0.7944151974126475], [-0.1347535907019493, -0.3601227822794276, -0.1694159831690155, -0.3532407812788087, 1.0, 0.0777879842135875, 0.13466724259213264, -0.381102958781954, 0.23112686980257907, -0.032342913409602006, -0.3890904653184647, -0.3874705933747235, -0.09513998813207443], [-0.0307022193795552, -0.3254906663266066, -0.2647581048825516, -0.31762825128275696, 0.0777879842135875, 1.0, -0.4189412049164661, 0.2496763953423516, -0.14160390847680712, -0.05333938260586036, 0.2627755602830715, 0.2692679762812663, -0.17760317845179077], [0.35929023160833273, 0.6347106264510172, 0.5734827739154346, 0.518671515105831, 0.13466724259213264, -0.4189412049164661, 1.0, -0.03914568745335909, -0.1924627022332556, 0.3131842805863899, 0.09965735455945135, 0.0767282271549796, 0.4180923444242534], [0.4538764008185681, 0.3090198680004283, 0.3022477955010905, 0.22426957622455496, -0.381102958781954, 0.2496763953423516, -0.03914568745335909, 1.0, -0.39499916945563385, -0.06744212853169185, 0.9124535778201988, 0.9155059038367229, -0.1704088542329654], [-0.24208837459654534, -0.2820962296395317, -0.3046545084912647, -0.10730605093175309, 0.23112686980257907, -0.14160390847680712, -0.1924627022332556, -0.39499916945563385, 1.0, 0.09022086518627709, -0.1886198939310979, -0.18255085450577235, 0.1453537239268535], [-0.04501215313938202, 0.03472854203181029, 0.128336649610577, 0.378581964194984, -0.032342913409602006, -0.05333938260586036, 0.3131842805863899, -0.06744212853169185, 0.09022086518627709, 1.0, 0.08359280574471736, 0.08062083031601498, 0.46109840452931816], [0.534625640851816, 0.43911346209048985, 0.4218226762789833, 0.4000296113102414, -0.3890904653184647, 0.2627755602830715, 0.09965735455945135, 0.9124535778201988, -0.1886198939310979, 0.08359280574471736, 1.0, 0.9977977611986761, 0.03926346696914201], [0.5278882069938818, 0.43802642421195087, 0.4208908265886875, 0.4062962825217525, -0.3874705933747235, 0.2692679762812663, 0.0767282271549796, 0.9155059038367229, -0.18255085450577235, 0.08062083031601498, 0.9977977611986761, 1.0, 0.051539061222436365], [0.15119449997838139, 0.5742006065532386, 0.5364125883555022, 0.7944151974126475, -0.09513998813207443, -0.17760317845179077, 0.4180923444242534, -0.1704088542329654, 0.1453537239268535, 0.46109840452931816, 0.03926346696914201, 0.051539061222436365, 1.0]], \"zmax\": 1.0, \"zmin\": -1.0}],\n",
       "                        {\"template\": {\"data\": {\"bar\": [{\"error_x\": {\"color\": \"#2a3f5f\"}, \"error_y\": {\"color\": \"#2a3f5f\"}, \"marker\": {\"line\": {\"color\": \"#E5ECF6\", \"width\": 0.5}}, \"type\": \"bar\"}], \"barpolar\": [{\"marker\": {\"line\": {\"color\": \"#E5ECF6\", \"width\": 0.5}}, \"type\": \"barpolar\"}], \"carpet\": [{\"aaxis\": {\"endlinecolor\": \"#2a3f5f\", \"gridcolor\": \"white\", \"linecolor\": \"white\", \"minorgridcolor\": \"white\", \"startlinecolor\": \"#2a3f5f\"}, \"baxis\": {\"endlinecolor\": \"#2a3f5f\", \"gridcolor\": \"white\", \"linecolor\": \"white\", \"minorgridcolor\": \"white\", \"startlinecolor\": \"#2a3f5f\"}, \"type\": \"carpet\"}], \"choropleth\": [{\"colorbar\": {\"outlinewidth\": 0, \"ticks\": \"\"}, \"type\": \"choropleth\"}], \"contour\": [{\"colorbar\": {\"outlinewidth\": 0, \"ticks\": \"\"}, \"colorscale\": [[0.0, \"#0d0887\"], [0.1111111111111111, \"#46039f\"], [0.2222222222222222, \"#7201a8\"], [0.3333333333333333, \"#9c179e\"], [0.4444444444444444, \"#bd3786\"], [0.5555555555555556, \"#d8576b\"], [0.6666666666666666, \"#ed7953\"], [0.7777777777777778, \"#fb9f3a\"], [0.8888888888888888, \"#fdca26\"], [1.0, \"#f0f921\"]], \"type\": \"contour\"}], \"contourcarpet\": [{\"colorbar\": {\"outlinewidth\": 0, \"ticks\": \"\"}, \"type\": \"contourcarpet\"}], \"heatmap\": [{\"colorbar\": {\"outlinewidth\": 0, \"ticks\": \"\"}, \"colorscale\": [[0.0, \"#0d0887\"], [0.1111111111111111, \"#46039f\"], [0.2222222222222222, \"#7201a8\"], [0.3333333333333333, \"#9c179e\"], [0.4444444444444444, \"#bd3786\"], [0.5555555555555556, \"#d8576b\"], [0.6666666666666666, \"#ed7953\"], [0.7777777777777778, \"#fb9f3a\"], [0.8888888888888888, \"#fdca26\"], [1.0, \"#f0f921\"]], \"type\": \"heatmap\"}], \"heatmapgl\": [{\"colorbar\": {\"outlinewidth\": 0, \"ticks\": \"\"}, \"colorscale\": [[0.0, \"#0d0887\"], [0.1111111111111111, \"#46039f\"], [0.2222222222222222, \"#7201a8\"], [0.3333333333333333, \"#9c179e\"], [0.4444444444444444, \"#bd3786\"], [0.5555555555555556, \"#d8576b\"], [0.6666666666666666, \"#ed7953\"], [0.7777777777777778, \"#fb9f3a\"], [0.8888888888888888, \"#fdca26\"], [1.0, \"#f0f921\"]], \"type\": \"heatmapgl\"}], \"histogram\": [{\"marker\": {\"colorbar\": {\"outlinewidth\": 0, \"ticks\": \"\"}}, \"type\": \"histogram\"}], \"histogram2d\": [{\"colorbar\": {\"outlinewidth\": 0, \"ticks\": \"\"}, \"colorscale\": [[0.0, \"#0d0887\"], [0.1111111111111111, \"#46039f\"], [0.2222222222222222, \"#7201a8\"], [0.3333333333333333, \"#9c179e\"], [0.4444444444444444, \"#bd3786\"], [0.5555555555555556, \"#d8576b\"], [0.6666666666666666, \"#ed7953\"], [0.7777777777777778, \"#fb9f3a\"], [0.8888888888888888, \"#fdca26\"], [1.0, \"#f0f921\"]], \"type\": \"histogram2d\"}], \"histogram2dcontour\": [{\"colorbar\": {\"outlinewidth\": 0, \"ticks\": \"\"}, \"colorscale\": [[0.0, \"#0d0887\"], [0.1111111111111111, \"#46039f\"], [0.2222222222222222, \"#7201a8\"], [0.3333333333333333, \"#9c179e\"], [0.4444444444444444, \"#bd3786\"], [0.5555555555555556, \"#d8576b\"], [0.6666666666666666, \"#ed7953\"], [0.7777777777777778, \"#fb9f3a\"], [0.8888888888888888, \"#fdca26\"], [1.0, \"#f0f921\"]], \"type\": \"histogram2dcontour\"}], \"mesh3d\": [{\"colorbar\": {\"outlinewidth\": 0, \"ticks\": \"\"}, \"type\": \"mesh3d\"}], \"parcoords\": [{\"line\": {\"colorbar\": {\"outlinewidth\": 0, \"ticks\": \"\"}}, \"type\": \"parcoords\"}], \"scatter\": [{\"marker\": {\"colorbar\": {\"outlinewidth\": 0, \"ticks\": \"\"}}, \"type\": \"scatter\"}], \"scatter3d\": [{\"line\": {\"colorbar\": {\"outlinewidth\": 0, \"ticks\": \"\"}}, \"marker\": {\"colorbar\": {\"outlinewidth\": 0, \"ticks\": \"\"}}, \"type\": \"scatter3d\"}], \"scattercarpet\": [{\"marker\": {\"colorbar\": {\"outlinewidth\": 0, \"ticks\": \"\"}}, \"type\": \"scattercarpet\"}], \"scattergeo\": [{\"marker\": {\"colorbar\": {\"outlinewidth\": 0, \"ticks\": \"\"}}, \"type\": \"scattergeo\"}], \"scattergl\": [{\"marker\": {\"colorbar\": {\"outlinewidth\": 0, \"ticks\": \"\"}}, \"type\": \"scattergl\"}], \"scattermapbox\": [{\"marker\": {\"colorbar\": {\"outlinewidth\": 0, \"ticks\": \"\"}}, \"type\": \"scattermapbox\"}], \"scatterpolar\": [{\"marker\": {\"colorbar\": {\"outlinewidth\": 0, \"ticks\": \"\"}}, \"type\": \"scatterpolar\"}], \"scatterpolargl\": [{\"marker\": {\"colorbar\": {\"outlinewidth\": 0, \"ticks\": \"\"}}, \"type\": \"scatterpolargl\"}], \"scatterternary\": [{\"marker\": {\"colorbar\": {\"outlinewidth\": 0, \"ticks\": \"\"}}, \"type\": \"scatterternary\"}], \"surface\": [{\"colorbar\": {\"outlinewidth\": 0, \"ticks\": \"\"}, \"colorscale\": [[0.0, \"#0d0887\"], [0.1111111111111111, \"#46039f\"], [0.2222222222222222, \"#7201a8\"], [0.3333333333333333, \"#9c179e\"], [0.4444444444444444, \"#bd3786\"], [0.5555555555555556, \"#d8576b\"], [0.6666666666666666, \"#ed7953\"], [0.7777777777777778, \"#fb9f3a\"], [0.8888888888888888, \"#fdca26\"], [1.0, \"#f0f921\"]], \"type\": \"surface\"}], \"table\": [{\"cells\": {\"fill\": {\"color\": \"#EBF0F8\"}, \"line\": {\"color\": \"white\"}}, \"header\": {\"fill\": {\"color\": \"#C8D4E3\"}, \"line\": {\"color\": \"white\"}}, \"type\": \"table\"}]}, \"layout\": {\"annotationdefaults\": {\"arrowcolor\": \"#2a3f5f\", \"arrowhead\": 0, \"arrowwidth\": 1}, \"colorscale\": {\"diverging\": [[0, \"#8e0152\"], [0.1, \"#c51b7d\"], [0.2, \"#de77ae\"], [0.3, \"#f1b6da\"], [0.4, \"#fde0ef\"], [0.5, \"#f7f7f7\"], [0.6, \"#e6f5d0\"], [0.7, \"#b8e186\"], [0.8, \"#7fbc41\"], [0.9, \"#4d9221\"], [1, \"#276419\"]], \"sequential\": [[0.0, \"#0d0887\"], [0.1111111111111111, \"#46039f\"], [0.2222222222222222, \"#7201a8\"], [0.3333333333333333, \"#9c179e\"], [0.4444444444444444, \"#bd3786\"], [0.5555555555555556, \"#d8576b\"], [0.6666666666666666, \"#ed7953\"], [0.7777777777777778, \"#fb9f3a\"], [0.8888888888888888, \"#fdca26\"], [1.0, \"#f0f921\"]], \"sequentialminus\": [[0.0, \"#0d0887\"], [0.1111111111111111, \"#46039f\"], [0.2222222222222222, \"#7201a8\"], [0.3333333333333333, \"#9c179e\"], [0.4444444444444444, \"#bd3786\"], [0.5555555555555556, \"#d8576b\"], [0.6666666666666666, \"#ed7953\"], [0.7777777777777778, \"#fb9f3a\"], [0.8888888888888888, \"#fdca26\"], [1.0, \"#f0f921\"]]}, \"colorway\": [\"#636efa\", \"#EF553B\", \"#00cc96\", \"#ab63fa\", \"#FFA15A\", \"#19d3f3\", \"#FF6692\", \"#B6E880\", \"#FF97FF\", \"#FECB52\"], \"font\": {\"color\": \"#2a3f5f\"}, \"geo\": {\"bgcolor\": \"white\", \"lakecolor\": \"white\", \"landcolor\": \"#E5ECF6\", \"showlakes\": true, \"showland\": true, \"subunitcolor\": \"white\"}, \"hoverlabel\": {\"align\": \"left\"}, \"hovermode\": \"closest\", \"mapbox\": {\"style\": \"light\"}, \"paper_bgcolor\": \"white\", \"plot_bgcolor\": \"#E5ECF6\", \"polar\": {\"angularaxis\": {\"gridcolor\": \"white\", \"linecolor\": \"white\", \"ticks\": \"\"}, \"bgcolor\": \"#E5ECF6\", \"radialaxis\": {\"gridcolor\": \"white\", \"linecolor\": \"white\", \"ticks\": \"\"}}, \"scene\": {\"xaxis\": {\"backgroundcolor\": \"#E5ECF6\", \"gridcolor\": \"white\", \"gridwidth\": 2, \"linecolor\": \"white\", \"showbackground\": true, \"ticks\": \"\", \"zerolinecolor\": \"white\"}, \"yaxis\": {\"backgroundcolor\": \"#E5ECF6\", \"gridcolor\": \"white\", \"gridwidth\": 2, \"linecolor\": \"white\", \"showbackground\": true, \"ticks\": \"\", \"zerolinecolor\": \"white\"}, \"zaxis\": {\"backgroundcolor\": \"#E5ECF6\", \"gridcolor\": \"white\", \"gridwidth\": 2, \"linecolor\": \"white\", \"showbackground\": true, \"ticks\": \"\", \"zerolinecolor\": \"white\"}}, \"shapedefaults\": {\"line\": {\"color\": \"#2a3f5f\"}}, \"ternary\": {\"aaxis\": {\"gridcolor\": \"white\", \"linecolor\": \"white\", \"ticks\": \"\"}, \"baxis\": {\"gridcolor\": \"white\", \"linecolor\": \"white\", \"ticks\": \"\"}, \"bgcolor\": \"#E5ECF6\", \"caxis\": {\"gridcolor\": \"white\", \"linecolor\": \"white\", \"ticks\": \"\"}}, \"title\": {\"x\": 0.05}, \"xaxis\": {\"automargin\": true, \"gridcolor\": \"white\", \"linecolor\": \"white\", \"ticks\": \"\", \"zerolinecolor\": \"white\", \"zerolinewidth\": 2}, \"yaxis\": {\"automargin\": true, \"gridcolor\": \"white\", \"linecolor\": \"white\", \"ticks\": \"\", \"zerolinecolor\": \"white\", \"zerolinewidth\": 2}}}, \"title\": {\"text\": \"Pearson correlation of indicator percentage changes (second in list)\"}},\n",
       "                        {\"responsive\": true}\n",
       "                    ).then(function(){\n",
       "                            \n",
       "var gd = document.getElementById('da680ee7-3eec-416e-ae46-1992a611e58e');\n",
       "var x = new MutationObserver(function (mutations, observer) {{\n",
       "        var display = window.getComputedStyle(gd).display;\n",
       "        if (!display || display === 'none') {{\n",
       "            console.log([gd, 'removed!']);\n",
       "            Plotly.purge(gd);\n",
       "            observer.disconnect();\n",
       "        }}\n",
       "}});\n",
       "\n",
       "// Listen for the removal of the full notebook cells\n",
       "var notebookContainer = gd.closest('#notebook-container');\n",
       "if (notebookContainer) {{\n",
       "    x.observe(notebookContainer, {childList: true});\n",
       "}}\n",
       "\n",
       "// Listen for the clearing of the current output cell\n",
       "var outputEl = gd.closest('.output');\n",
       "if (outputEl) {{\n",
       "    x.observe(outputEl, {childList: true});\n",
       "}}\n",
       "\n",
       "                        })\n",
       "                };\n",
       "                });\n",
       "            </script>\n",
       "        </div>"
      ]
     },
     "metadata": {},
     "output_type": "display_data"
    }
   ],
   "source": [
    "heatmap = go.Heatmap(\n",
    "    z=n1_indicators.iloc[-20:].pct_change().corr(method='pearson').values,\n",
    "    x=n1_indicators.columns,\n",
    "    y=n1_indicators.columns,\n",
    "    colorbar=dict(title='Pearson Coefficient'),\n",
    ")\n",
    "\n",
    "layout = go.Layout(title=\"Pearson correlation of indicator percentage changes (second in list)\")\n",
    "\n",
    "heatmap['zmax'] = 1.0\n",
    "heatmap['zmin'] = -1.0\n",
    "\n",
    "fig = go.Figure(data=[heatmap], layout=layout)\n",
    "py.iplot(fig)"
   ]
  },
  {
   "cell_type": "code",
   "execution_count": 20,
   "metadata": {
    "pycharm": {
     "name": "#%%\n"
    }
   },
   "outputs": [
    {
     "data": {
      "application/vnd.plotly.v1+json": {
       "config": {
        "linkText": "Export to plot.ly",
        "plotlyServerURL": "https://plot.ly",
        "showLink": false
       },
       "data": [
        {
         "colorbar": {
          "title": {
           "text": "Pearson Coefficient"
          }
         },
         "type": "heatmap",
         "x": [
          "open",
          "high",
          "low",
          "close",
          "macd",
          "signal",
          "mfi",
          "bb_up",
          "bb_low",
          "vzo",
          "apz_u",
          "apz_l",
          "stoch"
         ],
         "y": [
          "open",
          "high",
          "low",
          "close",
          "macd",
          "signal",
          "mfi",
          "bb_up",
          "bb_low",
          "vzo",
          "apz_u",
          "apz_l",
          "stoch"
         ],
         "z": [
          [
           1,
           0.7463201214755906,
           0.519627576396085,
           0.13667417420058417,
           -0.12206173855630387,
           0.08605582224442684,
           0.5921747124181325,
           -0.07976910181934276,
           0.19628741946142259,
           0.13528746788605758,
           0.30397502790513187,
           0.272653379608291,
           0.17094271637064937
          ],
          [
           0.7463201214755906,
           1,
           0.6379510298323358,
           0.40597801546460227,
           -0.0543103492536013,
           0.08966282540343185,
           0.6331936090893564,
           -0.034178693758827,
           0.16534593218720134,
           -0.024518004392266122,
           0.39767663504020595,
           0.36516676716863267,
           0.5257101730519435
          ],
          [
           0.519627576396085,
           0.6379510298323358,
           1,
           0.8063465781244847,
           -0.3993554850711518,
           0.23160085491305682,
           0.31871001048106307,
           -0.21680872463395362,
           0.29621444075377507,
           -0.17162461520682742,
           0.44468357084043386,
           0.4105829953635301,
           0.6940188010461517
          ],
          [
           0.13667417420058417,
           0.40597801546460227,
           0.8063465781244847,
           1,
           -0.6269442278631586,
           0.04089602528050632,
           0.15561068739534292,
           -0.13073241263141447,
           0.3956891707059699,
           -0.10923466030585895,
           0.5802712740268539,
           0.5510693727361481,
           0.8590568225813269
          ],
          [
           -0.12206173855630387,
           -0.0543103492536013,
           -0.3993554850711518,
           -0.6269442278631586,
           1,
           0.29602599413176806,
           0.024175770887762127,
           -0.01632832499598018,
           -0.5154950451789867,
           0.08182404982848852,
           -0.6981774518269944,
           -0.6878359105306163,
           -0.37468556130394526
          ],
          [
           0.08605582224442684,
           0.08966282540343185,
           0.23160085491305682,
           0.04089602528050632,
           0.29602599413176806,
           1,
           0.11158629722456141,
           -0.26280995612401503,
           -0.5921039825993288,
           0.2570856114133016,
           -0.6160596674683898,
           -0.6327042281611687,
           0.21233698141640184
          ],
          [
           0.5921747124181325,
           0.6331936090893564,
           0.31871001048106307,
           0.15561068739534292,
           0.024175770887762127,
           0.11158629722456141,
           1,
           -0.26411745920574864,
           0.1186928457549791,
           -0.28629825384110713,
           0.2617762901409861,
           0.2597688330970389,
           0.22828815139064274
          ],
          [
           -0.07976910181934276,
           -0.034178693758827,
           -0.21680872463395362,
           -0.13073241263141447,
           -0.01632832499598018,
           -0.26280995612401503,
           -0.26411745920574864,
           1,
           -0.34820047728066317,
           0.2599429890902167,
           -0.11324241122573322,
           -0.127437182430709,
           -0.05058305426664948
          ],
          [
           0.19628741946142259,
           0.16534593218720134,
           0.29621444075377507,
           0.3956891707059699,
           -0.5154950451789867,
           -0.5921039825993288,
           0.1186928457549791,
           -0.34820047728066317,
           1,
           -0.2587504790661615,
           0.7921208691156251,
           0.7799290133900645,
           0.11389405076264535
          ],
          [
           0.13528746788605758,
           -0.024518004392266122,
           -0.17162461520682742,
           -0.10923466030585895,
           0.08182404982848852,
           0.2570856114133016,
           -0.28629825384110713,
           0.2599429890902167,
           -0.2587504790661615,
           1,
           -0.23855823712855864,
           -0.2572245745574507,
           0.0016682199482363597
          ],
          [
           0.30397502790513187,
           0.39767663504020595,
           0.44468357084043386,
           0.5802712740268539,
           -0.6981774518269944,
           -0.6160596674683898,
           0.2617762901409861,
           -0.11324241122573322,
           0.7921208691156251,
           -0.23855823712855864,
           1,
           0.9957456942997666,
           0.33838613497179887
          ],
          [
           0.272653379608291,
           0.36516676716863267,
           0.4105829953635301,
           0.5510693727361481,
           -0.6878359105306163,
           -0.6327042281611687,
           0.2597688330970389,
           -0.127437182430709,
           0.7799290133900645,
           -0.2572245745574507,
           0.9957456942997666,
           1,
           0.310438915445881
          ],
          [
           0.17094271637064937,
           0.5257101730519435,
           0.6940188010461517,
           0.8590568225813269,
           -0.37468556130394526,
           0.21233698141640184,
           0.22828815139064274,
           -0.05058305426664948,
           0.11389405076264535,
           0.0016682199482363597,
           0.33838613497179887,
           0.310438915445881,
           1
          ]
         ],
         "zmax": 1,
         "zmin": -1
        }
       ],
       "layout": {
        "template": {
         "data": {
          "bar": [
           {
            "error_x": {
             "color": "#2a3f5f"
            },
            "error_y": {
             "color": "#2a3f5f"
            },
            "marker": {
             "line": {
              "color": "#E5ECF6",
              "width": 0.5
             }
            },
            "type": "bar"
           }
          ],
          "barpolar": [
           {
            "marker": {
             "line": {
              "color": "#E5ECF6",
              "width": 0.5
             }
            },
            "type": "barpolar"
           }
          ],
          "carpet": [
           {
            "aaxis": {
             "endlinecolor": "#2a3f5f",
             "gridcolor": "white",
             "linecolor": "white",
             "minorgridcolor": "white",
             "startlinecolor": "#2a3f5f"
            },
            "baxis": {
             "endlinecolor": "#2a3f5f",
             "gridcolor": "white",
             "linecolor": "white",
             "minorgridcolor": "white",
             "startlinecolor": "#2a3f5f"
            },
            "type": "carpet"
           }
          ],
          "choropleth": [
           {
            "colorbar": {
             "outlinewidth": 0,
             "ticks": ""
            },
            "type": "choropleth"
           }
          ],
          "contour": [
           {
            "colorbar": {
             "outlinewidth": 0,
             "ticks": ""
            },
            "colorscale": [
             [
              0,
              "#0d0887"
             ],
             [
              0.1111111111111111,
              "#46039f"
             ],
             [
              0.2222222222222222,
              "#7201a8"
             ],
             [
              0.3333333333333333,
              "#9c179e"
             ],
             [
              0.4444444444444444,
              "#bd3786"
             ],
             [
              0.5555555555555556,
              "#d8576b"
             ],
             [
              0.6666666666666666,
              "#ed7953"
             ],
             [
              0.7777777777777778,
              "#fb9f3a"
             ],
             [
              0.8888888888888888,
              "#fdca26"
             ],
             [
              1,
              "#f0f921"
             ]
            ],
            "type": "contour"
           }
          ],
          "contourcarpet": [
           {
            "colorbar": {
             "outlinewidth": 0,
             "ticks": ""
            },
            "type": "contourcarpet"
           }
          ],
          "heatmap": [
           {
            "colorbar": {
             "outlinewidth": 0,
             "ticks": ""
            },
            "colorscale": [
             [
              0,
              "#0d0887"
             ],
             [
              0.1111111111111111,
              "#46039f"
             ],
             [
              0.2222222222222222,
              "#7201a8"
             ],
             [
              0.3333333333333333,
              "#9c179e"
             ],
             [
              0.4444444444444444,
              "#bd3786"
             ],
             [
              0.5555555555555556,
              "#d8576b"
             ],
             [
              0.6666666666666666,
              "#ed7953"
             ],
             [
              0.7777777777777778,
              "#fb9f3a"
             ],
             [
              0.8888888888888888,
              "#fdca26"
             ],
             [
              1,
              "#f0f921"
             ]
            ],
            "type": "heatmap"
           }
          ],
          "heatmapgl": [
           {
            "colorbar": {
             "outlinewidth": 0,
             "ticks": ""
            },
            "colorscale": [
             [
              0,
              "#0d0887"
             ],
             [
              0.1111111111111111,
              "#46039f"
             ],
             [
              0.2222222222222222,
              "#7201a8"
             ],
             [
              0.3333333333333333,
              "#9c179e"
             ],
             [
              0.4444444444444444,
              "#bd3786"
             ],
             [
              0.5555555555555556,
              "#d8576b"
             ],
             [
              0.6666666666666666,
              "#ed7953"
             ],
             [
              0.7777777777777778,
              "#fb9f3a"
             ],
             [
              0.8888888888888888,
              "#fdca26"
             ],
             [
              1,
              "#f0f921"
             ]
            ],
            "type": "heatmapgl"
           }
          ],
          "histogram": [
           {
            "marker": {
             "colorbar": {
              "outlinewidth": 0,
              "ticks": ""
             }
            },
            "type": "histogram"
           }
          ],
          "histogram2d": [
           {
            "colorbar": {
             "outlinewidth": 0,
             "ticks": ""
            },
            "colorscale": [
             [
              0,
              "#0d0887"
             ],
             [
              0.1111111111111111,
              "#46039f"
             ],
             [
              0.2222222222222222,
              "#7201a8"
             ],
             [
              0.3333333333333333,
              "#9c179e"
             ],
             [
              0.4444444444444444,
              "#bd3786"
             ],
             [
              0.5555555555555556,
              "#d8576b"
             ],
             [
              0.6666666666666666,
              "#ed7953"
             ],
             [
              0.7777777777777778,
              "#fb9f3a"
             ],
             [
              0.8888888888888888,
              "#fdca26"
             ],
             [
              1,
              "#f0f921"
             ]
            ],
            "type": "histogram2d"
           }
          ],
          "histogram2dcontour": [
           {
            "colorbar": {
             "outlinewidth": 0,
             "ticks": ""
            },
            "colorscale": [
             [
              0,
              "#0d0887"
             ],
             [
              0.1111111111111111,
              "#46039f"
             ],
             [
              0.2222222222222222,
              "#7201a8"
             ],
             [
              0.3333333333333333,
              "#9c179e"
             ],
             [
              0.4444444444444444,
              "#bd3786"
             ],
             [
              0.5555555555555556,
              "#d8576b"
             ],
             [
              0.6666666666666666,
              "#ed7953"
             ],
             [
              0.7777777777777778,
              "#fb9f3a"
             ],
             [
              0.8888888888888888,
              "#fdca26"
             ],
             [
              1,
              "#f0f921"
             ]
            ],
            "type": "histogram2dcontour"
           }
          ],
          "mesh3d": [
           {
            "colorbar": {
             "outlinewidth": 0,
             "ticks": ""
            },
            "type": "mesh3d"
           }
          ],
          "parcoords": [
           {
            "line": {
             "colorbar": {
              "outlinewidth": 0,
              "ticks": ""
             }
            },
            "type": "parcoords"
           }
          ],
          "scatter": [
           {
            "marker": {
             "colorbar": {
              "outlinewidth": 0,
              "ticks": ""
             }
            },
            "type": "scatter"
           }
          ],
          "scatter3d": [
           {
            "line": {
             "colorbar": {
              "outlinewidth": 0,
              "ticks": ""
             }
            },
            "marker": {
             "colorbar": {
              "outlinewidth": 0,
              "ticks": ""
             }
            },
            "type": "scatter3d"
           }
          ],
          "scattercarpet": [
           {
            "marker": {
             "colorbar": {
              "outlinewidth": 0,
              "ticks": ""
             }
            },
            "type": "scattercarpet"
           }
          ],
          "scattergeo": [
           {
            "marker": {
             "colorbar": {
              "outlinewidth": 0,
              "ticks": ""
             }
            },
            "type": "scattergeo"
           }
          ],
          "scattergl": [
           {
            "marker": {
             "colorbar": {
              "outlinewidth": 0,
              "ticks": ""
             }
            },
            "type": "scattergl"
           }
          ],
          "scattermapbox": [
           {
            "marker": {
             "colorbar": {
              "outlinewidth": 0,
              "ticks": ""
             }
            },
            "type": "scattermapbox"
           }
          ],
          "scatterpolar": [
           {
            "marker": {
             "colorbar": {
              "outlinewidth": 0,
              "ticks": ""
             }
            },
            "type": "scatterpolar"
           }
          ],
          "scatterpolargl": [
           {
            "marker": {
             "colorbar": {
              "outlinewidth": 0,
              "ticks": ""
             }
            },
            "type": "scatterpolargl"
           }
          ],
          "scatterternary": [
           {
            "marker": {
             "colorbar": {
              "outlinewidth": 0,
              "ticks": ""
             }
            },
            "type": "scatterternary"
           }
          ],
          "surface": [
           {
            "colorbar": {
             "outlinewidth": 0,
             "ticks": ""
            },
            "colorscale": [
             [
              0,
              "#0d0887"
             ],
             [
              0.1111111111111111,
              "#46039f"
             ],
             [
              0.2222222222222222,
              "#7201a8"
             ],
             [
              0.3333333333333333,
              "#9c179e"
             ],
             [
              0.4444444444444444,
              "#bd3786"
             ],
             [
              0.5555555555555556,
              "#d8576b"
             ],
             [
              0.6666666666666666,
              "#ed7953"
             ],
             [
              0.7777777777777778,
              "#fb9f3a"
             ],
             [
              0.8888888888888888,
              "#fdca26"
             ],
             [
              1,
              "#f0f921"
             ]
            ],
            "type": "surface"
           }
          ],
          "table": [
           {
            "cells": {
             "fill": {
              "color": "#EBF0F8"
             },
             "line": {
              "color": "white"
             }
            },
            "header": {
             "fill": {
              "color": "#C8D4E3"
             },
             "line": {
              "color": "white"
             }
            },
            "type": "table"
           }
          ]
         },
         "layout": {
          "annotationdefaults": {
           "arrowcolor": "#2a3f5f",
           "arrowhead": 0,
           "arrowwidth": 1
          },
          "colorscale": {
           "diverging": [
            [
             0,
             "#8e0152"
            ],
            [
             0.1,
             "#c51b7d"
            ],
            [
             0.2,
             "#de77ae"
            ],
            [
             0.3,
             "#f1b6da"
            ],
            [
             0.4,
             "#fde0ef"
            ],
            [
             0.5,
             "#f7f7f7"
            ],
            [
             0.6,
             "#e6f5d0"
            ],
            [
             0.7,
             "#b8e186"
            ],
            [
             0.8,
             "#7fbc41"
            ],
            [
             0.9,
             "#4d9221"
            ],
            [
             1,
             "#276419"
            ]
           ],
           "sequential": [
            [
             0,
             "#0d0887"
            ],
            [
             0.1111111111111111,
             "#46039f"
            ],
            [
             0.2222222222222222,
             "#7201a8"
            ],
            [
             0.3333333333333333,
             "#9c179e"
            ],
            [
             0.4444444444444444,
             "#bd3786"
            ],
            [
             0.5555555555555556,
             "#d8576b"
            ],
            [
             0.6666666666666666,
             "#ed7953"
            ],
            [
             0.7777777777777778,
             "#fb9f3a"
            ],
            [
             0.8888888888888888,
             "#fdca26"
            ],
            [
             1,
             "#f0f921"
            ]
           ],
           "sequentialminus": [
            [
             0,
             "#0d0887"
            ],
            [
             0.1111111111111111,
             "#46039f"
            ],
            [
             0.2222222222222222,
             "#7201a8"
            ],
            [
             0.3333333333333333,
             "#9c179e"
            ],
            [
             0.4444444444444444,
             "#bd3786"
            ],
            [
             0.5555555555555556,
             "#d8576b"
            ],
            [
             0.6666666666666666,
             "#ed7953"
            ],
            [
             0.7777777777777778,
             "#fb9f3a"
            ],
            [
             0.8888888888888888,
             "#fdca26"
            ],
            [
             1,
             "#f0f921"
            ]
           ]
          },
          "colorway": [
           "#636efa",
           "#EF553B",
           "#00cc96",
           "#ab63fa",
           "#FFA15A",
           "#19d3f3",
           "#FF6692",
           "#B6E880",
           "#FF97FF",
           "#FECB52"
          ],
          "font": {
           "color": "#2a3f5f"
          },
          "geo": {
           "bgcolor": "white",
           "lakecolor": "white",
           "landcolor": "#E5ECF6",
           "showlakes": true,
           "showland": true,
           "subunitcolor": "white"
          },
          "hoverlabel": {
           "align": "left"
          },
          "hovermode": "closest",
          "mapbox": {
           "style": "light"
          },
          "paper_bgcolor": "white",
          "plot_bgcolor": "#E5ECF6",
          "polar": {
           "angularaxis": {
            "gridcolor": "white",
            "linecolor": "white",
            "ticks": ""
           },
           "bgcolor": "#E5ECF6",
           "radialaxis": {
            "gridcolor": "white",
            "linecolor": "white",
            "ticks": ""
           }
          },
          "scene": {
           "xaxis": {
            "backgroundcolor": "#E5ECF6",
            "gridcolor": "white",
            "gridwidth": 2,
            "linecolor": "white",
            "showbackground": true,
            "ticks": "",
            "zerolinecolor": "white"
           },
           "yaxis": {
            "backgroundcolor": "#E5ECF6",
            "gridcolor": "white",
            "gridwidth": 2,
            "linecolor": "white",
            "showbackground": true,
            "ticks": "",
            "zerolinecolor": "white"
           },
           "zaxis": {
            "backgroundcolor": "#E5ECF6",
            "gridcolor": "white",
            "gridwidth": 2,
            "linecolor": "white",
            "showbackground": true,
            "ticks": "",
            "zerolinecolor": "white"
           }
          },
          "shapedefaults": {
           "line": {
            "color": "#2a3f5f"
           }
          },
          "ternary": {
           "aaxis": {
            "gridcolor": "white",
            "linecolor": "white",
            "ticks": ""
           },
           "baxis": {
            "gridcolor": "white",
            "linecolor": "white",
            "ticks": ""
           },
           "bgcolor": "#E5ECF6",
           "caxis": {
            "gridcolor": "white",
            "linecolor": "white",
            "ticks": ""
           }
          },
          "title": {
           "x": 0.05
          },
          "xaxis": {
           "automargin": true,
           "gridcolor": "white",
           "linecolor": "white",
           "ticks": "",
           "zerolinecolor": "white",
           "zerolinewidth": 2
          },
          "yaxis": {
           "automargin": true,
           "gridcolor": "white",
           "linecolor": "white",
           "ticks": "",
           "zerolinecolor": "white",
           "zerolinewidth": 2
          }
         }
        },
        "title": {
         "text": "Pearson correlation of indicator percentage changes (third in list)"
        }
       }
      },
      "text/html": [
       "<div>\n",
       "        \n",
       "        \n",
       "            <div id=\"332fe813-58aa-4711-9209-f78cfaaafbdc\" class=\"plotly-graph-div\" style=\"height:525px; width:100%;\"></div>\n",
       "            <script type=\"text/javascript\">\n",
       "                require([\"plotly\"], function(Plotly) {\n",
       "                    window.PLOTLYENV=window.PLOTLYENV || {};\n",
       "                    \n",
       "                if (document.getElementById(\"332fe813-58aa-4711-9209-f78cfaaafbdc\")) {\n",
       "                    Plotly.newPlot(\n",
       "                        '332fe813-58aa-4711-9209-f78cfaaafbdc',\n",
       "                        [{\"colorbar\": {\"title\": {\"text\": \"Pearson Coefficient\"}}, \"type\": \"heatmap\", \"x\": [\"open\", \"high\", \"low\", \"close\", \"macd\", \"signal\", \"mfi\", \"bb_up\", \"bb_low\", \"vzo\", \"apz_u\", \"apz_l\", \"stoch\"], \"y\": [\"open\", \"high\", \"low\", \"close\", \"macd\", \"signal\", \"mfi\", \"bb_up\", \"bb_low\", \"vzo\", \"apz_u\", \"apz_l\", \"stoch\"], \"z\": [[1.0, 0.7463201214755906, 0.519627576396085, 0.13667417420058417, -0.12206173855630387, 0.08605582224442684, 0.5921747124181325, -0.07976910181934276, 0.19628741946142259, 0.13528746788605758, 0.30397502790513187, 0.272653379608291, 0.17094271637064937], [0.7463201214755906, 1.0, 0.6379510298323358, 0.40597801546460227, -0.0543103492536013, 0.08966282540343185, 0.6331936090893564, -0.034178693758827, 0.16534593218720134, -0.024518004392266122, 0.39767663504020595, 0.36516676716863267, 0.5257101730519435], [0.519627576396085, 0.6379510298323358, 1.0, 0.8063465781244847, -0.3993554850711518, 0.23160085491305682, 0.31871001048106307, -0.21680872463395362, 0.29621444075377507, -0.17162461520682742, 0.44468357084043386, 0.4105829953635301, 0.6940188010461517], [0.13667417420058417, 0.40597801546460227, 0.8063465781244847, 1.0, -0.6269442278631586, 0.04089602528050632, 0.15561068739534292, -0.13073241263141447, 0.3956891707059699, -0.10923466030585895, 0.5802712740268539, 0.5510693727361481, 0.8590568225813269], [-0.12206173855630387, -0.0543103492536013, -0.3993554850711518, -0.6269442278631586, 1.0, 0.29602599413176806, 0.024175770887762127, -0.01632832499598018, -0.5154950451789867, 0.08182404982848852, -0.6981774518269944, -0.6878359105306163, -0.37468556130394526], [0.08605582224442684, 0.08966282540343185, 0.23160085491305682, 0.04089602528050632, 0.29602599413176806, 1.0, 0.11158629722456141, -0.26280995612401503, -0.5921039825993288, 0.2570856114133016, -0.6160596674683898, -0.6327042281611687, 0.21233698141640184], [0.5921747124181325, 0.6331936090893564, 0.31871001048106307, 0.15561068739534292, 0.024175770887762127, 0.11158629722456141, 1.0, -0.26411745920574864, 0.1186928457549791, -0.28629825384110713, 0.2617762901409861, 0.2597688330970389, 0.22828815139064274], [-0.07976910181934276, -0.034178693758827, -0.21680872463395362, -0.13073241263141447, -0.01632832499598018, -0.26280995612401503, -0.26411745920574864, 1.0, -0.34820047728066317, 0.2599429890902167, -0.11324241122573322, -0.127437182430709, -0.05058305426664948], [0.19628741946142259, 0.16534593218720134, 0.29621444075377507, 0.3956891707059699, -0.5154950451789867, -0.5921039825993288, 0.1186928457549791, -0.34820047728066317, 1.0, -0.2587504790661615, 0.7921208691156251, 0.7799290133900645, 0.11389405076264535], [0.13528746788605758, -0.024518004392266122, -0.17162461520682742, -0.10923466030585895, 0.08182404982848852, 0.2570856114133016, -0.28629825384110713, 0.2599429890902167, -0.2587504790661615, 1.0, -0.23855823712855864, -0.2572245745574507, 0.0016682199482363597], [0.30397502790513187, 0.39767663504020595, 0.44468357084043386, 0.5802712740268539, -0.6981774518269944, -0.6160596674683898, 0.2617762901409861, -0.11324241122573322, 0.7921208691156251, -0.23855823712855864, 1.0, 0.9957456942997666, 0.33838613497179887], [0.272653379608291, 0.36516676716863267, 0.4105829953635301, 0.5510693727361481, -0.6878359105306163, -0.6327042281611687, 0.2597688330970389, -0.127437182430709, 0.7799290133900645, -0.2572245745574507, 0.9957456942997666, 1.0, 0.310438915445881], [0.17094271637064937, 0.5257101730519435, 0.6940188010461517, 0.8590568225813269, -0.37468556130394526, 0.21233698141640184, 0.22828815139064274, -0.05058305426664948, 0.11389405076264535, 0.0016682199482363597, 0.33838613497179887, 0.310438915445881, 1.0]], \"zmax\": 1.0, \"zmin\": -1.0}],\n",
       "                        {\"template\": {\"data\": {\"bar\": [{\"error_x\": {\"color\": \"#2a3f5f\"}, \"error_y\": {\"color\": \"#2a3f5f\"}, \"marker\": {\"line\": {\"color\": \"#E5ECF6\", \"width\": 0.5}}, \"type\": \"bar\"}], \"barpolar\": [{\"marker\": {\"line\": {\"color\": \"#E5ECF6\", \"width\": 0.5}}, \"type\": \"barpolar\"}], \"carpet\": [{\"aaxis\": {\"endlinecolor\": \"#2a3f5f\", \"gridcolor\": \"white\", \"linecolor\": \"white\", \"minorgridcolor\": \"white\", \"startlinecolor\": \"#2a3f5f\"}, \"baxis\": {\"endlinecolor\": \"#2a3f5f\", \"gridcolor\": \"white\", \"linecolor\": \"white\", \"minorgridcolor\": \"white\", \"startlinecolor\": \"#2a3f5f\"}, \"type\": \"carpet\"}], \"choropleth\": [{\"colorbar\": {\"outlinewidth\": 0, \"ticks\": \"\"}, \"type\": \"choropleth\"}], \"contour\": [{\"colorbar\": {\"outlinewidth\": 0, \"ticks\": \"\"}, \"colorscale\": [[0.0, \"#0d0887\"], [0.1111111111111111, \"#46039f\"], [0.2222222222222222, \"#7201a8\"], [0.3333333333333333, \"#9c179e\"], [0.4444444444444444, \"#bd3786\"], [0.5555555555555556, \"#d8576b\"], [0.6666666666666666, \"#ed7953\"], [0.7777777777777778, \"#fb9f3a\"], [0.8888888888888888, \"#fdca26\"], [1.0, \"#f0f921\"]], \"type\": \"contour\"}], \"contourcarpet\": [{\"colorbar\": {\"outlinewidth\": 0, \"ticks\": \"\"}, \"type\": \"contourcarpet\"}], \"heatmap\": [{\"colorbar\": {\"outlinewidth\": 0, \"ticks\": \"\"}, \"colorscale\": [[0.0, \"#0d0887\"], [0.1111111111111111, \"#46039f\"], [0.2222222222222222, \"#7201a8\"], [0.3333333333333333, \"#9c179e\"], [0.4444444444444444, \"#bd3786\"], [0.5555555555555556, \"#d8576b\"], [0.6666666666666666, \"#ed7953\"], [0.7777777777777778, \"#fb9f3a\"], [0.8888888888888888, \"#fdca26\"], [1.0, \"#f0f921\"]], \"type\": \"heatmap\"}], \"heatmapgl\": [{\"colorbar\": {\"outlinewidth\": 0, \"ticks\": \"\"}, \"colorscale\": [[0.0, \"#0d0887\"], [0.1111111111111111, \"#46039f\"], [0.2222222222222222, \"#7201a8\"], [0.3333333333333333, \"#9c179e\"], [0.4444444444444444, \"#bd3786\"], [0.5555555555555556, \"#d8576b\"], [0.6666666666666666, \"#ed7953\"], [0.7777777777777778, \"#fb9f3a\"], [0.8888888888888888, \"#fdca26\"], [1.0, \"#f0f921\"]], \"type\": \"heatmapgl\"}], \"histogram\": [{\"marker\": {\"colorbar\": {\"outlinewidth\": 0, \"ticks\": \"\"}}, \"type\": \"histogram\"}], \"histogram2d\": [{\"colorbar\": {\"outlinewidth\": 0, \"ticks\": \"\"}, \"colorscale\": [[0.0, \"#0d0887\"], [0.1111111111111111, \"#46039f\"], [0.2222222222222222, \"#7201a8\"], [0.3333333333333333, \"#9c179e\"], [0.4444444444444444, \"#bd3786\"], [0.5555555555555556, \"#d8576b\"], [0.6666666666666666, \"#ed7953\"], [0.7777777777777778, \"#fb9f3a\"], [0.8888888888888888, \"#fdca26\"], [1.0, \"#f0f921\"]], \"type\": \"histogram2d\"}], \"histogram2dcontour\": [{\"colorbar\": {\"outlinewidth\": 0, \"ticks\": \"\"}, \"colorscale\": [[0.0, \"#0d0887\"], [0.1111111111111111, \"#46039f\"], [0.2222222222222222, \"#7201a8\"], [0.3333333333333333, \"#9c179e\"], [0.4444444444444444, \"#bd3786\"], [0.5555555555555556, \"#d8576b\"], [0.6666666666666666, \"#ed7953\"], [0.7777777777777778, \"#fb9f3a\"], [0.8888888888888888, \"#fdca26\"], [1.0, \"#f0f921\"]], \"type\": \"histogram2dcontour\"}], \"mesh3d\": [{\"colorbar\": {\"outlinewidth\": 0, \"ticks\": \"\"}, \"type\": \"mesh3d\"}], \"parcoords\": [{\"line\": {\"colorbar\": {\"outlinewidth\": 0, \"ticks\": \"\"}}, \"type\": \"parcoords\"}], \"scatter\": [{\"marker\": {\"colorbar\": {\"outlinewidth\": 0, \"ticks\": \"\"}}, \"type\": \"scatter\"}], \"scatter3d\": [{\"line\": {\"colorbar\": {\"outlinewidth\": 0, \"ticks\": \"\"}}, \"marker\": {\"colorbar\": {\"outlinewidth\": 0, \"ticks\": \"\"}}, \"type\": \"scatter3d\"}], \"scattercarpet\": [{\"marker\": {\"colorbar\": {\"outlinewidth\": 0, \"ticks\": \"\"}}, \"type\": \"scattercarpet\"}], \"scattergeo\": [{\"marker\": {\"colorbar\": {\"outlinewidth\": 0, \"ticks\": \"\"}}, \"type\": \"scattergeo\"}], \"scattergl\": [{\"marker\": {\"colorbar\": {\"outlinewidth\": 0, \"ticks\": \"\"}}, \"type\": \"scattergl\"}], \"scattermapbox\": [{\"marker\": {\"colorbar\": {\"outlinewidth\": 0, \"ticks\": \"\"}}, \"type\": \"scattermapbox\"}], \"scatterpolar\": [{\"marker\": {\"colorbar\": {\"outlinewidth\": 0, \"ticks\": \"\"}}, \"type\": \"scatterpolar\"}], \"scatterpolargl\": [{\"marker\": {\"colorbar\": {\"outlinewidth\": 0, \"ticks\": \"\"}}, \"type\": \"scatterpolargl\"}], \"scatterternary\": [{\"marker\": {\"colorbar\": {\"outlinewidth\": 0, \"ticks\": \"\"}}, \"type\": \"scatterternary\"}], \"surface\": [{\"colorbar\": {\"outlinewidth\": 0, \"ticks\": \"\"}, \"colorscale\": [[0.0, \"#0d0887\"], [0.1111111111111111, \"#46039f\"], [0.2222222222222222, \"#7201a8\"], [0.3333333333333333, \"#9c179e\"], [0.4444444444444444, \"#bd3786\"], [0.5555555555555556, \"#d8576b\"], [0.6666666666666666, \"#ed7953\"], [0.7777777777777778, \"#fb9f3a\"], [0.8888888888888888, \"#fdca26\"], [1.0, \"#f0f921\"]], \"type\": \"surface\"}], \"table\": [{\"cells\": {\"fill\": {\"color\": \"#EBF0F8\"}, \"line\": {\"color\": \"white\"}}, \"header\": {\"fill\": {\"color\": \"#C8D4E3\"}, \"line\": {\"color\": \"white\"}}, \"type\": \"table\"}]}, \"layout\": {\"annotationdefaults\": {\"arrowcolor\": \"#2a3f5f\", \"arrowhead\": 0, \"arrowwidth\": 1}, \"colorscale\": {\"diverging\": [[0, \"#8e0152\"], [0.1, \"#c51b7d\"], [0.2, \"#de77ae\"], [0.3, \"#f1b6da\"], [0.4, \"#fde0ef\"], [0.5, \"#f7f7f7\"], [0.6, \"#e6f5d0\"], [0.7, \"#b8e186\"], [0.8, \"#7fbc41\"], [0.9, \"#4d9221\"], [1, \"#276419\"]], \"sequential\": [[0.0, \"#0d0887\"], [0.1111111111111111, \"#46039f\"], [0.2222222222222222, \"#7201a8\"], [0.3333333333333333, \"#9c179e\"], [0.4444444444444444, \"#bd3786\"], [0.5555555555555556, \"#d8576b\"], [0.6666666666666666, \"#ed7953\"], [0.7777777777777778, \"#fb9f3a\"], [0.8888888888888888, \"#fdca26\"], [1.0, \"#f0f921\"]], \"sequentialminus\": [[0.0, \"#0d0887\"], [0.1111111111111111, \"#46039f\"], [0.2222222222222222, \"#7201a8\"], [0.3333333333333333, \"#9c179e\"], [0.4444444444444444, \"#bd3786\"], [0.5555555555555556, \"#d8576b\"], [0.6666666666666666, \"#ed7953\"], [0.7777777777777778, \"#fb9f3a\"], [0.8888888888888888, \"#fdca26\"], [1.0, \"#f0f921\"]]}, \"colorway\": [\"#636efa\", \"#EF553B\", \"#00cc96\", \"#ab63fa\", \"#FFA15A\", \"#19d3f3\", \"#FF6692\", \"#B6E880\", \"#FF97FF\", \"#FECB52\"], \"font\": {\"color\": \"#2a3f5f\"}, \"geo\": {\"bgcolor\": \"white\", \"lakecolor\": \"white\", \"landcolor\": \"#E5ECF6\", \"showlakes\": true, \"showland\": true, \"subunitcolor\": \"white\"}, \"hoverlabel\": {\"align\": \"left\"}, \"hovermode\": \"closest\", \"mapbox\": {\"style\": \"light\"}, \"paper_bgcolor\": \"white\", \"plot_bgcolor\": \"#E5ECF6\", \"polar\": {\"angularaxis\": {\"gridcolor\": \"white\", \"linecolor\": \"white\", \"ticks\": \"\"}, \"bgcolor\": \"#E5ECF6\", \"radialaxis\": {\"gridcolor\": \"white\", \"linecolor\": \"white\", \"ticks\": \"\"}}, \"scene\": {\"xaxis\": {\"backgroundcolor\": \"#E5ECF6\", \"gridcolor\": \"white\", \"gridwidth\": 2, \"linecolor\": \"white\", \"showbackground\": true, \"ticks\": \"\", \"zerolinecolor\": \"white\"}, \"yaxis\": {\"backgroundcolor\": \"#E5ECF6\", \"gridcolor\": \"white\", \"gridwidth\": 2, \"linecolor\": \"white\", \"showbackground\": true, \"ticks\": \"\", \"zerolinecolor\": \"white\"}, \"zaxis\": {\"backgroundcolor\": \"#E5ECF6\", \"gridcolor\": \"white\", \"gridwidth\": 2, \"linecolor\": \"white\", \"showbackground\": true, \"ticks\": \"\", \"zerolinecolor\": \"white\"}}, \"shapedefaults\": {\"line\": {\"color\": \"#2a3f5f\"}}, \"ternary\": {\"aaxis\": {\"gridcolor\": \"white\", \"linecolor\": \"white\", \"ticks\": \"\"}, \"baxis\": {\"gridcolor\": \"white\", \"linecolor\": \"white\", \"ticks\": \"\"}, \"bgcolor\": \"#E5ECF6\", \"caxis\": {\"gridcolor\": \"white\", \"linecolor\": \"white\", \"ticks\": \"\"}}, \"title\": {\"x\": 0.05}, \"xaxis\": {\"automargin\": true, \"gridcolor\": \"white\", \"linecolor\": \"white\", \"ticks\": \"\", \"zerolinecolor\": \"white\", \"zerolinewidth\": 2}, \"yaxis\": {\"automargin\": true, \"gridcolor\": \"white\", \"linecolor\": \"white\", \"ticks\": \"\", \"zerolinecolor\": \"white\", \"zerolinewidth\": 2}}}, \"title\": {\"text\": \"Pearson correlation of indicator percentage changes (third in list)\"}},\n",
       "                        {\"responsive\": true}\n",
       "                    ).then(function(){\n",
       "                            \n",
       "var gd = document.getElementById('332fe813-58aa-4711-9209-f78cfaaafbdc');\n",
       "var x = new MutationObserver(function (mutations, observer) {{\n",
       "        var display = window.getComputedStyle(gd).display;\n",
       "        if (!display || display === 'none') {{\n",
       "            console.log([gd, 'removed!']);\n",
       "            Plotly.purge(gd);\n",
       "            observer.disconnect();\n",
       "        }}\n",
       "}});\n",
       "\n",
       "// Listen for the removal of the full notebook cells\n",
       "var notebookContainer = gd.closest('#notebook-container');\n",
       "if (notebookContainer) {{\n",
       "    x.observe(notebookContainer, {childList: true});\n",
       "}}\n",
       "\n",
       "// Listen for the clearing of the current output cell\n",
       "var outputEl = gd.closest('.output');\n",
       "if (outputEl) {{\n",
       "    x.observe(outputEl, {childList: true});\n",
       "}}\n",
       "\n",
       "                        })\n",
       "                };\n",
       "                });\n",
       "            </script>\n",
       "        </div>"
      ]
     },
     "metadata": {},
     "output_type": "display_data"
    }
   ],
   "source": [
    "heatmap = go.Heatmap(\n",
    "    z=n2_indicators.iloc[-20:].pct_change().corr(method='pearson').values,\n",
    "    x=n2_indicators.columns,\n",
    "    y=n2_indicators.columns,\n",
    "    colorbar=dict(title='Pearson Coefficient'),\n",
    ")\n",
    "\n",
    "layout = go.Layout(title=\"Pearson correlation of indicator percentage changes (third in list)\")\n",
    "\n",
    "heatmap['zmax'] = 1.0\n",
    "heatmap['zmin'] = -1.0\n",
    "\n",
    "fig = go.Figure(data=[heatmap], layout=layout)\n",
    "py.iplot(fig)"
   ]
  },
  {
   "cell_type": "code",
   "execution_count": 21,
   "metadata": {
    "pycharm": {
     "name": "#%%\n"
    }
   },
   "outputs": [
    {
     "data": {
      "application/vnd.plotly.v1+json": {
       "config": {
        "linkText": "Export to plot.ly",
        "plotlyServerURL": "https://plot.ly",
        "showLink": false
       },
       "data": [
        {
         "colorbar": {
          "title": {
           "text": "Pearson Coefficient"
          }
         },
         "type": "heatmap",
         "x": [
          "open",
          "high",
          "low",
          "close",
          "macd",
          "signal",
          "mfi",
          "bb_up",
          "bb_low",
          "vzo",
          "apz_u",
          "apz_l",
          "stoch"
         ],
         "y": [
          "open",
          "high",
          "low",
          "close",
          "macd",
          "signal",
          "mfi",
          "bb_up",
          "bb_low",
          "vzo",
          "apz_u",
          "apz_l",
          "stoch"
         ],
         "z": [
          [
           1,
           0.6724602270018227,
           0.22408938334520534,
           0.12917842625606782,
           0.1532477382964244,
           0.2966144904350351,
           0.1740673525782816,
           0.06383014502006151,
           -0.014352590126751523,
           -0.07065998564097059,
           0.17134019926380648,
           0.15668874718270928,
           -0.12092353769787349
          ],
          [
           0.6724602270018227,
           1,
           0.17388269363548886,
           0.4320920644545946,
           0.0782060627990427,
           0.07405908166268775,
           0.40817546264920845,
           0.06564917846169846,
           -0.0985816776804453,
           -0.07676168294110106,
           0.11435783258007981,
           0.11737258141380359,
           0.16434724902565961
          ],
          [
           0.22408938334520534,
           0.17388269363548886,
           1,
           0.18771966177386087,
           0.05547888258561508,
           0.022495557755338656,
           0.22854093012216162,
           0.068541111982443,
           0.12153257792179134,
           -0.1448157115569537,
           0.10554853735849914,
           0.12512121994242145,
           0.12730990872447095
          ],
          [
           0.12917842625606782,
           0.4320920644545946,
           0.18771966177386087,
           1,
           -0.027790074099875828,
           0.062348080185492705,
           0.3512237786345277,
           0.06920346956366755,
           -0.00408003604238102,
           0.10918960410738991,
           0.32444861081082155,
           0.3456400304812936,
           0.7451884641220462
          ],
          [
           0.1532477382964244,
           0.0782060627990427,
           0.05547888258561508,
           -0.027790074099875828,
           1,
           0.1009165330935403,
           -0.07413691537417852,
           0.17971560304508874,
           -0.19677522137721057,
           -0.061403390795794335,
           -0.04841087520966388,
           -0.08426143037328289,
           -0.040875259760903226
          ],
          [
           0.2966144904350351,
           0.07405908166268775,
           0.022495557755338656,
           0.062348080185492705,
           0.1009165330935403,
           1,
           -0.35036613268262323,
           0.24072394543796494,
           -0.37375980976262085,
           0.493344938305289,
           0.2559703288693388,
           0.22903809798930047,
           -0.18655148923738996
          ],
          [
           0.1740673525782816,
           0.40817546264920845,
           0.22854093012216162,
           0.3512237786345277,
           -0.07413691537417852,
           -0.35036613268262323,
           1,
           -0.21881185694160674,
           0.37108805656169197,
           -0.19212709586199408,
           -0.14873047147687268,
           -0.13143863052956456,
           0.4199832285474375
          ],
          [
           0.06383014502006151,
           0.06564917846169846,
           0.068541111982443,
           0.06920346956366755,
           0.17971560304508874,
           0.24072394543796494,
           -0.21881185694160674,
           1,
           -0.34318326338832655,
           0.06525849160445964,
           0.7579047149316169,
           0.7118750363614663,
           -0.3094124786628466
          ],
          [
           -0.014352590126751523,
           -0.0985816776804453,
           0.12153257792179134,
           -0.00408003604238102,
           -0.19677522137721057,
           -0.37375980976262085,
           0.37108805656169197,
           -0.34318326338832655,
           1,
           0.11977973712767354,
           -0.0427431092092609,
           -0.01435147358861159,
           0.3699792827852353
          ],
          [
           -0.07065998564097059,
           -0.07676168294110106,
           -0.1448157115569537,
           0.10918960410738991,
           -0.061403390795794335,
           0.493344938305289,
           -0.19212709586199408,
           0.06525849160445964,
           0.11977973712767354,
           1,
           0.3332165490717241,
           0.32920841228244674,
           0.06364588985997084
          ],
          [
           0.17134019926380648,
           0.11435783258007981,
           0.10554853735849914,
           0.32444861081082155,
           -0.04841087520966388,
           0.2559703288693388,
           -0.14873047147687268,
           0.7579047149316169,
           -0.0427431092092609,
           0.3332165490717241,
           1,
           0.9950310093242384,
           -0.12632164010888342
          ],
          [
           0.15668874718270928,
           0.11737258141380359,
           0.12512121994242145,
           0.3456400304812936,
           -0.08426143037328289,
           0.22903809798930047,
           -0.13143863052956456,
           0.7118750363614663,
           -0.01435147358861159,
           0.32920841228244674,
           0.9950310093242384,
           1,
           -0.11125570062605021
          ],
          [
           -0.12092353769787349,
           0.16434724902565961,
           0.12730990872447095,
           0.7451884641220462,
           -0.040875259760903226,
           -0.18655148923738996,
           0.4199832285474375,
           -0.3094124786628466,
           0.3699792827852353,
           0.06364588985997084,
           -0.12632164010888342,
           -0.11125570062605021,
           1
          ]
         ],
         "zmax": 1,
         "zmin": -1
        }
       ],
       "layout": {
        "template": {
         "data": {
          "bar": [
           {
            "error_x": {
             "color": "#2a3f5f"
            },
            "error_y": {
             "color": "#2a3f5f"
            },
            "marker": {
             "line": {
              "color": "#E5ECF6",
              "width": 0.5
             }
            },
            "type": "bar"
           }
          ],
          "barpolar": [
           {
            "marker": {
             "line": {
              "color": "#E5ECF6",
              "width": 0.5
             }
            },
            "type": "barpolar"
           }
          ],
          "carpet": [
           {
            "aaxis": {
             "endlinecolor": "#2a3f5f",
             "gridcolor": "white",
             "linecolor": "white",
             "minorgridcolor": "white",
             "startlinecolor": "#2a3f5f"
            },
            "baxis": {
             "endlinecolor": "#2a3f5f",
             "gridcolor": "white",
             "linecolor": "white",
             "minorgridcolor": "white",
             "startlinecolor": "#2a3f5f"
            },
            "type": "carpet"
           }
          ],
          "choropleth": [
           {
            "colorbar": {
             "outlinewidth": 0,
             "ticks": ""
            },
            "type": "choropleth"
           }
          ],
          "contour": [
           {
            "colorbar": {
             "outlinewidth": 0,
             "ticks": ""
            },
            "colorscale": [
             [
              0,
              "#0d0887"
             ],
             [
              0.1111111111111111,
              "#46039f"
             ],
             [
              0.2222222222222222,
              "#7201a8"
             ],
             [
              0.3333333333333333,
              "#9c179e"
             ],
             [
              0.4444444444444444,
              "#bd3786"
             ],
             [
              0.5555555555555556,
              "#d8576b"
             ],
             [
              0.6666666666666666,
              "#ed7953"
             ],
             [
              0.7777777777777778,
              "#fb9f3a"
             ],
             [
              0.8888888888888888,
              "#fdca26"
             ],
             [
              1,
              "#f0f921"
             ]
            ],
            "type": "contour"
           }
          ],
          "contourcarpet": [
           {
            "colorbar": {
             "outlinewidth": 0,
             "ticks": ""
            },
            "type": "contourcarpet"
           }
          ],
          "heatmap": [
           {
            "colorbar": {
             "outlinewidth": 0,
             "ticks": ""
            },
            "colorscale": [
             [
              0,
              "#0d0887"
             ],
             [
              0.1111111111111111,
              "#46039f"
             ],
             [
              0.2222222222222222,
              "#7201a8"
             ],
             [
              0.3333333333333333,
              "#9c179e"
             ],
             [
              0.4444444444444444,
              "#bd3786"
             ],
             [
              0.5555555555555556,
              "#d8576b"
             ],
             [
              0.6666666666666666,
              "#ed7953"
             ],
             [
              0.7777777777777778,
              "#fb9f3a"
             ],
             [
              0.8888888888888888,
              "#fdca26"
             ],
             [
              1,
              "#f0f921"
             ]
            ],
            "type": "heatmap"
           }
          ],
          "heatmapgl": [
           {
            "colorbar": {
             "outlinewidth": 0,
             "ticks": ""
            },
            "colorscale": [
             [
              0,
              "#0d0887"
             ],
             [
              0.1111111111111111,
              "#46039f"
             ],
             [
              0.2222222222222222,
              "#7201a8"
             ],
             [
              0.3333333333333333,
              "#9c179e"
             ],
             [
              0.4444444444444444,
              "#bd3786"
             ],
             [
              0.5555555555555556,
              "#d8576b"
             ],
             [
              0.6666666666666666,
              "#ed7953"
             ],
             [
              0.7777777777777778,
              "#fb9f3a"
             ],
             [
              0.8888888888888888,
              "#fdca26"
             ],
             [
              1,
              "#f0f921"
             ]
            ],
            "type": "heatmapgl"
           }
          ],
          "histogram": [
           {
            "marker": {
             "colorbar": {
              "outlinewidth": 0,
              "ticks": ""
             }
            },
            "type": "histogram"
           }
          ],
          "histogram2d": [
           {
            "colorbar": {
             "outlinewidth": 0,
             "ticks": ""
            },
            "colorscale": [
             [
              0,
              "#0d0887"
             ],
             [
              0.1111111111111111,
              "#46039f"
             ],
             [
              0.2222222222222222,
              "#7201a8"
             ],
             [
              0.3333333333333333,
              "#9c179e"
             ],
             [
              0.4444444444444444,
              "#bd3786"
             ],
             [
              0.5555555555555556,
              "#d8576b"
             ],
             [
              0.6666666666666666,
              "#ed7953"
             ],
             [
              0.7777777777777778,
              "#fb9f3a"
             ],
             [
              0.8888888888888888,
              "#fdca26"
             ],
             [
              1,
              "#f0f921"
             ]
            ],
            "type": "histogram2d"
           }
          ],
          "histogram2dcontour": [
           {
            "colorbar": {
             "outlinewidth": 0,
             "ticks": ""
            },
            "colorscale": [
             [
              0,
              "#0d0887"
             ],
             [
              0.1111111111111111,
              "#46039f"
             ],
             [
              0.2222222222222222,
              "#7201a8"
             ],
             [
              0.3333333333333333,
              "#9c179e"
             ],
             [
              0.4444444444444444,
              "#bd3786"
             ],
             [
              0.5555555555555556,
              "#d8576b"
             ],
             [
              0.6666666666666666,
              "#ed7953"
             ],
             [
              0.7777777777777778,
              "#fb9f3a"
             ],
             [
              0.8888888888888888,
              "#fdca26"
             ],
             [
              1,
              "#f0f921"
             ]
            ],
            "type": "histogram2dcontour"
           }
          ],
          "mesh3d": [
           {
            "colorbar": {
             "outlinewidth": 0,
             "ticks": ""
            },
            "type": "mesh3d"
           }
          ],
          "parcoords": [
           {
            "line": {
             "colorbar": {
              "outlinewidth": 0,
              "ticks": ""
             }
            },
            "type": "parcoords"
           }
          ],
          "scatter": [
           {
            "marker": {
             "colorbar": {
              "outlinewidth": 0,
              "ticks": ""
             }
            },
            "type": "scatter"
           }
          ],
          "scatter3d": [
           {
            "line": {
             "colorbar": {
              "outlinewidth": 0,
              "ticks": ""
             }
            },
            "marker": {
             "colorbar": {
              "outlinewidth": 0,
              "ticks": ""
             }
            },
            "type": "scatter3d"
           }
          ],
          "scattercarpet": [
           {
            "marker": {
             "colorbar": {
              "outlinewidth": 0,
              "ticks": ""
             }
            },
            "type": "scattercarpet"
           }
          ],
          "scattergeo": [
           {
            "marker": {
             "colorbar": {
              "outlinewidth": 0,
              "ticks": ""
             }
            },
            "type": "scattergeo"
           }
          ],
          "scattergl": [
           {
            "marker": {
             "colorbar": {
              "outlinewidth": 0,
              "ticks": ""
             }
            },
            "type": "scattergl"
           }
          ],
          "scattermapbox": [
           {
            "marker": {
             "colorbar": {
              "outlinewidth": 0,
              "ticks": ""
             }
            },
            "type": "scattermapbox"
           }
          ],
          "scatterpolar": [
           {
            "marker": {
             "colorbar": {
              "outlinewidth": 0,
              "ticks": ""
             }
            },
            "type": "scatterpolar"
           }
          ],
          "scatterpolargl": [
           {
            "marker": {
             "colorbar": {
              "outlinewidth": 0,
              "ticks": ""
             }
            },
            "type": "scatterpolargl"
           }
          ],
          "scatterternary": [
           {
            "marker": {
             "colorbar": {
              "outlinewidth": 0,
              "ticks": ""
             }
            },
            "type": "scatterternary"
           }
          ],
          "surface": [
           {
            "colorbar": {
             "outlinewidth": 0,
             "ticks": ""
            },
            "colorscale": [
             [
              0,
              "#0d0887"
             ],
             [
              0.1111111111111111,
              "#46039f"
             ],
             [
              0.2222222222222222,
              "#7201a8"
             ],
             [
              0.3333333333333333,
              "#9c179e"
             ],
             [
              0.4444444444444444,
              "#bd3786"
             ],
             [
              0.5555555555555556,
              "#d8576b"
             ],
             [
              0.6666666666666666,
              "#ed7953"
             ],
             [
              0.7777777777777778,
              "#fb9f3a"
             ],
             [
              0.8888888888888888,
              "#fdca26"
             ],
             [
              1,
              "#f0f921"
             ]
            ],
            "type": "surface"
           }
          ],
          "table": [
           {
            "cells": {
             "fill": {
              "color": "#EBF0F8"
             },
             "line": {
              "color": "white"
             }
            },
            "header": {
             "fill": {
              "color": "#C8D4E3"
             },
             "line": {
              "color": "white"
             }
            },
            "type": "table"
           }
          ]
         },
         "layout": {
          "annotationdefaults": {
           "arrowcolor": "#2a3f5f",
           "arrowhead": 0,
           "arrowwidth": 1
          },
          "colorscale": {
           "diverging": [
            [
             0,
             "#8e0152"
            ],
            [
             0.1,
             "#c51b7d"
            ],
            [
             0.2,
             "#de77ae"
            ],
            [
             0.3,
             "#f1b6da"
            ],
            [
             0.4,
             "#fde0ef"
            ],
            [
             0.5,
             "#f7f7f7"
            ],
            [
             0.6,
             "#e6f5d0"
            ],
            [
             0.7,
             "#b8e186"
            ],
            [
             0.8,
             "#7fbc41"
            ],
            [
             0.9,
             "#4d9221"
            ],
            [
             1,
             "#276419"
            ]
           ],
           "sequential": [
            [
             0,
             "#0d0887"
            ],
            [
             0.1111111111111111,
             "#46039f"
            ],
            [
             0.2222222222222222,
             "#7201a8"
            ],
            [
             0.3333333333333333,
             "#9c179e"
            ],
            [
             0.4444444444444444,
             "#bd3786"
            ],
            [
             0.5555555555555556,
             "#d8576b"
            ],
            [
             0.6666666666666666,
             "#ed7953"
            ],
            [
             0.7777777777777778,
             "#fb9f3a"
            ],
            [
             0.8888888888888888,
             "#fdca26"
            ],
            [
             1,
             "#f0f921"
            ]
           ],
           "sequentialminus": [
            [
             0,
             "#0d0887"
            ],
            [
             0.1111111111111111,
             "#46039f"
            ],
            [
             0.2222222222222222,
             "#7201a8"
            ],
            [
             0.3333333333333333,
             "#9c179e"
            ],
            [
             0.4444444444444444,
             "#bd3786"
            ],
            [
             0.5555555555555556,
             "#d8576b"
            ],
            [
             0.6666666666666666,
             "#ed7953"
            ],
            [
             0.7777777777777778,
             "#fb9f3a"
            ],
            [
             0.8888888888888888,
             "#fdca26"
            ],
            [
             1,
             "#f0f921"
            ]
           ]
          },
          "colorway": [
           "#636efa",
           "#EF553B",
           "#00cc96",
           "#ab63fa",
           "#FFA15A",
           "#19d3f3",
           "#FF6692",
           "#B6E880",
           "#FF97FF",
           "#FECB52"
          ],
          "font": {
           "color": "#2a3f5f"
          },
          "geo": {
           "bgcolor": "white",
           "lakecolor": "white",
           "landcolor": "#E5ECF6",
           "showlakes": true,
           "showland": true,
           "subunitcolor": "white"
          },
          "hoverlabel": {
           "align": "left"
          },
          "hovermode": "closest",
          "mapbox": {
           "style": "light"
          },
          "paper_bgcolor": "white",
          "plot_bgcolor": "#E5ECF6",
          "polar": {
           "angularaxis": {
            "gridcolor": "white",
            "linecolor": "white",
            "ticks": ""
           },
           "bgcolor": "#E5ECF6",
           "radialaxis": {
            "gridcolor": "white",
            "linecolor": "white",
            "ticks": ""
           }
          },
          "scene": {
           "xaxis": {
            "backgroundcolor": "#E5ECF6",
            "gridcolor": "white",
            "gridwidth": 2,
            "linecolor": "white",
            "showbackground": true,
            "ticks": "",
            "zerolinecolor": "white"
           },
           "yaxis": {
            "backgroundcolor": "#E5ECF6",
            "gridcolor": "white",
            "gridwidth": 2,
            "linecolor": "white",
            "showbackground": true,
            "ticks": "",
            "zerolinecolor": "white"
           },
           "zaxis": {
            "backgroundcolor": "#E5ECF6",
            "gridcolor": "white",
            "gridwidth": 2,
            "linecolor": "white",
            "showbackground": true,
            "ticks": "",
            "zerolinecolor": "white"
           }
          },
          "shapedefaults": {
           "line": {
            "color": "#2a3f5f"
           }
          },
          "ternary": {
           "aaxis": {
            "gridcolor": "white",
            "linecolor": "white",
            "ticks": ""
           },
           "baxis": {
            "gridcolor": "white",
            "linecolor": "white",
            "ticks": ""
           },
           "bgcolor": "#E5ECF6",
           "caxis": {
            "gridcolor": "white",
            "linecolor": "white",
            "ticks": ""
           }
          },
          "title": {
           "x": 0.05
          },
          "xaxis": {
           "automargin": true,
           "gridcolor": "white",
           "linecolor": "white",
           "ticks": "",
           "zerolinecolor": "white",
           "zerolinewidth": 2
          },
          "yaxis": {
           "automargin": true,
           "gridcolor": "white",
           "linecolor": "white",
           "ticks": "",
           "zerolinecolor": "white",
           "zerolinewidth": 2
          }
         }
        },
        "title": {
         "text": "Pearson correlation of indicator percentage changes (fourth in list)"
        }
       }
      },
      "text/html": [
       "<div>\n",
       "        \n",
       "        \n",
       "            <div id=\"86bd9ace-8f61-41e1-aa6e-d832e5b9c49f\" class=\"plotly-graph-div\" style=\"height:525px; width:100%;\"></div>\n",
       "            <script type=\"text/javascript\">\n",
       "                require([\"plotly\"], function(Plotly) {\n",
       "                    window.PLOTLYENV=window.PLOTLYENV || {};\n",
       "                    \n",
       "                if (document.getElementById(\"86bd9ace-8f61-41e1-aa6e-d832e5b9c49f\")) {\n",
       "                    Plotly.newPlot(\n",
       "                        '86bd9ace-8f61-41e1-aa6e-d832e5b9c49f',\n",
       "                        [{\"colorbar\": {\"title\": {\"text\": \"Pearson Coefficient\"}}, \"type\": \"heatmap\", \"x\": [\"open\", \"high\", \"low\", \"close\", \"macd\", \"signal\", \"mfi\", \"bb_up\", \"bb_low\", \"vzo\", \"apz_u\", \"apz_l\", \"stoch\"], \"y\": [\"open\", \"high\", \"low\", \"close\", \"macd\", \"signal\", \"mfi\", \"bb_up\", \"bb_low\", \"vzo\", \"apz_u\", \"apz_l\", \"stoch\"], \"z\": [[1.0, 0.6724602270018227, 0.22408938334520534, 0.12917842625606782, 0.1532477382964244, 0.2966144904350351, 0.1740673525782816, 0.06383014502006151, -0.014352590126751523, -0.07065998564097059, 0.17134019926380648, 0.15668874718270928, -0.12092353769787349], [0.6724602270018227, 1.0, 0.17388269363548886, 0.4320920644545946, 0.0782060627990427, 0.07405908166268775, 0.40817546264920845, 0.06564917846169846, -0.0985816776804453, -0.07676168294110106, 0.11435783258007981, 0.11737258141380359, 0.16434724902565961], [0.22408938334520534, 0.17388269363548886, 1.0, 0.18771966177386087, 0.05547888258561508, 0.022495557755338656, 0.22854093012216162, 0.068541111982443, 0.12153257792179134, -0.1448157115569537, 0.10554853735849914, 0.12512121994242145, 0.12730990872447095], [0.12917842625606782, 0.4320920644545946, 0.18771966177386087, 1.0, -0.027790074099875828, 0.062348080185492705, 0.3512237786345277, 0.06920346956366755, -0.00408003604238102, 0.10918960410738991, 0.32444861081082155, 0.3456400304812936, 0.7451884641220462], [0.1532477382964244, 0.0782060627990427, 0.05547888258561508, -0.027790074099875828, 1.0, 0.1009165330935403, -0.07413691537417852, 0.17971560304508874, -0.19677522137721057, -0.061403390795794335, -0.04841087520966388, -0.08426143037328289, -0.040875259760903226], [0.2966144904350351, 0.07405908166268775, 0.022495557755338656, 0.062348080185492705, 0.1009165330935403, 1.0, -0.35036613268262323, 0.24072394543796494, -0.37375980976262085, 0.493344938305289, 0.2559703288693388, 0.22903809798930047, -0.18655148923738996], [0.1740673525782816, 0.40817546264920845, 0.22854093012216162, 0.3512237786345277, -0.07413691537417852, -0.35036613268262323, 1.0, -0.21881185694160674, 0.37108805656169197, -0.19212709586199408, -0.14873047147687268, -0.13143863052956456, 0.4199832285474375], [0.06383014502006151, 0.06564917846169846, 0.068541111982443, 0.06920346956366755, 0.17971560304508874, 0.24072394543796494, -0.21881185694160674, 1.0, -0.34318326338832655, 0.06525849160445964, 0.7579047149316169, 0.7118750363614663, -0.3094124786628466], [-0.014352590126751523, -0.0985816776804453, 0.12153257792179134, -0.00408003604238102, -0.19677522137721057, -0.37375980976262085, 0.37108805656169197, -0.34318326338832655, 1.0, 0.11977973712767354, -0.0427431092092609, -0.01435147358861159, 0.3699792827852353], [-0.07065998564097059, -0.07676168294110106, -0.1448157115569537, 0.10918960410738991, -0.061403390795794335, 0.493344938305289, -0.19212709586199408, 0.06525849160445964, 0.11977973712767354, 1.0, 0.3332165490717241, 0.32920841228244674, 0.06364588985997084], [0.17134019926380648, 0.11435783258007981, 0.10554853735849914, 0.32444861081082155, -0.04841087520966388, 0.2559703288693388, -0.14873047147687268, 0.7579047149316169, -0.0427431092092609, 0.3332165490717241, 1.0, 0.9950310093242384, -0.12632164010888342], [0.15668874718270928, 0.11737258141380359, 0.12512121994242145, 0.3456400304812936, -0.08426143037328289, 0.22903809798930047, -0.13143863052956456, 0.7118750363614663, -0.01435147358861159, 0.32920841228244674, 0.9950310093242384, 1.0, -0.11125570062605021], [-0.12092353769787349, 0.16434724902565961, 0.12730990872447095, 0.7451884641220462, -0.040875259760903226, -0.18655148923738996, 0.4199832285474375, -0.3094124786628466, 0.3699792827852353, 0.06364588985997084, -0.12632164010888342, -0.11125570062605021, 1.0]], \"zmax\": 1.0, \"zmin\": -1.0}],\n",
       "                        {\"template\": {\"data\": {\"bar\": [{\"error_x\": {\"color\": \"#2a3f5f\"}, \"error_y\": {\"color\": \"#2a3f5f\"}, \"marker\": {\"line\": {\"color\": \"#E5ECF6\", \"width\": 0.5}}, \"type\": \"bar\"}], \"barpolar\": [{\"marker\": {\"line\": {\"color\": \"#E5ECF6\", \"width\": 0.5}}, \"type\": \"barpolar\"}], \"carpet\": [{\"aaxis\": {\"endlinecolor\": \"#2a3f5f\", \"gridcolor\": \"white\", \"linecolor\": \"white\", \"minorgridcolor\": \"white\", \"startlinecolor\": \"#2a3f5f\"}, \"baxis\": {\"endlinecolor\": \"#2a3f5f\", \"gridcolor\": \"white\", \"linecolor\": \"white\", \"minorgridcolor\": \"white\", \"startlinecolor\": \"#2a3f5f\"}, \"type\": \"carpet\"}], \"choropleth\": [{\"colorbar\": {\"outlinewidth\": 0, \"ticks\": \"\"}, \"type\": \"choropleth\"}], \"contour\": [{\"colorbar\": {\"outlinewidth\": 0, \"ticks\": \"\"}, \"colorscale\": [[0.0, \"#0d0887\"], [0.1111111111111111, \"#46039f\"], [0.2222222222222222, \"#7201a8\"], [0.3333333333333333, \"#9c179e\"], [0.4444444444444444, \"#bd3786\"], [0.5555555555555556, \"#d8576b\"], [0.6666666666666666, \"#ed7953\"], [0.7777777777777778, \"#fb9f3a\"], [0.8888888888888888, \"#fdca26\"], [1.0, \"#f0f921\"]], \"type\": \"contour\"}], \"contourcarpet\": [{\"colorbar\": {\"outlinewidth\": 0, \"ticks\": \"\"}, \"type\": \"contourcarpet\"}], \"heatmap\": [{\"colorbar\": {\"outlinewidth\": 0, \"ticks\": \"\"}, \"colorscale\": [[0.0, \"#0d0887\"], [0.1111111111111111, \"#46039f\"], [0.2222222222222222, \"#7201a8\"], [0.3333333333333333, \"#9c179e\"], [0.4444444444444444, \"#bd3786\"], [0.5555555555555556, \"#d8576b\"], [0.6666666666666666, \"#ed7953\"], [0.7777777777777778, \"#fb9f3a\"], [0.8888888888888888, \"#fdca26\"], [1.0, \"#f0f921\"]], \"type\": \"heatmap\"}], \"heatmapgl\": [{\"colorbar\": {\"outlinewidth\": 0, \"ticks\": \"\"}, \"colorscale\": [[0.0, \"#0d0887\"], [0.1111111111111111, \"#46039f\"], [0.2222222222222222, \"#7201a8\"], [0.3333333333333333, \"#9c179e\"], [0.4444444444444444, \"#bd3786\"], [0.5555555555555556, \"#d8576b\"], [0.6666666666666666, \"#ed7953\"], [0.7777777777777778, \"#fb9f3a\"], [0.8888888888888888, \"#fdca26\"], [1.0, \"#f0f921\"]], \"type\": \"heatmapgl\"}], \"histogram\": [{\"marker\": {\"colorbar\": {\"outlinewidth\": 0, \"ticks\": \"\"}}, \"type\": \"histogram\"}], \"histogram2d\": [{\"colorbar\": {\"outlinewidth\": 0, \"ticks\": \"\"}, \"colorscale\": [[0.0, \"#0d0887\"], [0.1111111111111111, \"#46039f\"], [0.2222222222222222, \"#7201a8\"], [0.3333333333333333, \"#9c179e\"], [0.4444444444444444, \"#bd3786\"], [0.5555555555555556, \"#d8576b\"], [0.6666666666666666, \"#ed7953\"], [0.7777777777777778, \"#fb9f3a\"], [0.8888888888888888, \"#fdca26\"], [1.0, \"#f0f921\"]], \"type\": \"histogram2d\"}], \"histogram2dcontour\": [{\"colorbar\": {\"outlinewidth\": 0, \"ticks\": \"\"}, \"colorscale\": [[0.0, \"#0d0887\"], [0.1111111111111111, \"#46039f\"], [0.2222222222222222, \"#7201a8\"], [0.3333333333333333, \"#9c179e\"], [0.4444444444444444, \"#bd3786\"], [0.5555555555555556, \"#d8576b\"], [0.6666666666666666, \"#ed7953\"], [0.7777777777777778, \"#fb9f3a\"], [0.8888888888888888, \"#fdca26\"], [1.0, \"#f0f921\"]], \"type\": \"histogram2dcontour\"}], \"mesh3d\": [{\"colorbar\": {\"outlinewidth\": 0, \"ticks\": \"\"}, \"type\": \"mesh3d\"}], \"parcoords\": [{\"line\": {\"colorbar\": {\"outlinewidth\": 0, \"ticks\": \"\"}}, \"type\": \"parcoords\"}], \"scatter\": [{\"marker\": {\"colorbar\": {\"outlinewidth\": 0, \"ticks\": \"\"}}, \"type\": \"scatter\"}], \"scatter3d\": [{\"line\": {\"colorbar\": {\"outlinewidth\": 0, \"ticks\": \"\"}}, \"marker\": {\"colorbar\": {\"outlinewidth\": 0, \"ticks\": \"\"}}, \"type\": \"scatter3d\"}], \"scattercarpet\": [{\"marker\": {\"colorbar\": {\"outlinewidth\": 0, \"ticks\": \"\"}}, \"type\": \"scattercarpet\"}], \"scattergeo\": [{\"marker\": {\"colorbar\": {\"outlinewidth\": 0, \"ticks\": \"\"}}, \"type\": \"scattergeo\"}], \"scattergl\": [{\"marker\": {\"colorbar\": {\"outlinewidth\": 0, \"ticks\": \"\"}}, \"type\": \"scattergl\"}], \"scattermapbox\": [{\"marker\": {\"colorbar\": {\"outlinewidth\": 0, \"ticks\": \"\"}}, \"type\": \"scattermapbox\"}], \"scatterpolar\": [{\"marker\": {\"colorbar\": {\"outlinewidth\": 0, \"ticks\": \"\"}}, \"type\": \"scatterpolar\"}], \"scatterpolargl\": [{\"marker\": {\"colorbar\": {\"outlinewidth\": 0, \"ticks\": \"\"}}, \"type\": \"scatterpolargl\"}], \"scatterternary\": [{\"marker\": {\"colorbar\": {\"outlinewidth\": 0, \"ticks\": \"\"}}, \"type\": \"scatterternary\"}], \"surface\": [{\"colorbar\": {\"outlinewidth\": 0, \"ticks\": \"\"}, \"colorscale\": [[0.0, \"#0d0887\"], [0.1111111111111111, \"#46039f\"], [0.2222222222222222, \"#7201a8\"], [0.3333333333333333, \"#9c179e\"], [0.4444444444444444, \"#bd3786\"], [0.5555555555555556, \"#d8576b\"], [0.6666666666666666, \"#ed7953\"], [0.7777777777777778, \"#fb9f3a\"], [0.8888888888888888, \"#fdca26\"], [1.0, \"#f0f921\"]], \"type\": \"surface\"}], \"table\": [{\"cells\": {\"fill\": {\"color\": \"#EBF0F8\"}, \"line\": {\"color\": \"white\"}}, \"header\": {\"fill\": {\"color\": \"#C8D4E3\"}, \"line\": {\"color\": \"white\"}}, \"type\": \"table\"}]}, \"layout\": {\"annotationdefaults\": {\"arrowcolor\": \"#2a3f5f\", \"arrowhead\": 0, \"arrowwidth\": 1}, \"colorscale\": {\"diverging\": [[0, \"#8e0152\"], [0.1, \"#c51b7d\"], [0.2, \"#de77ae\"], [0.3, \"#f1b6da\"], [0.4, \"#fde0ef\"], [0.5, \"#f7f7f7\"], [0.6, \"#e6f5d0\"], [0.7, \"#b8e186\"], [0.8, \"#7fbc41\"], [0.9, \"#4d9221\"], [1, \"#276419\"]], \"sequential\": [[0.0, \"#0d0887\"], [0.1111111111111111, \"#46039f\"], [0.2222222222222222, \"#7201a8\"], [0.3333333333333333, \"#9c179e\"], [0.4444444444444444, \"#bd3786\"], [0.5555555555555556, \"#d8576b\"], [0.6666666666666666, \"#ed7953\"], [0.7777777777777778, \"#fb9f3a\"], [0.8888888888888888, \"#fdca26\"], [1.0, \"#f0f921\"]], \"sequentialminus\": [[0.0, \"#0d0887\"], [0.1111111111111111, \"#46039f\"], [0.2222222222222222, \"#7201a8\"], [0.3333333333333333, \"#9c179e\"], [0.4444444444444444, \"#bd3786\"], [0.5555555555555556, \"#d8576b\"], [0.6666666666666666, \"#ed7953\"], [0.7777777777777778, \"#fb9f3a\"], [0.8888888888888888, \"#fdca26\"], [1.0, \"#f0f921\"]]}, \"colorway\": [\"#636efa\", \"#EF553B\", \"#00cc96\", \"#ab63fa\", \"#FFA15A\", \"#19d3f3\", \"#FF6692\", \"#B6E880\", \"#FF97FF\", \"#FECB52\"], \"font\": {\"color\": \"#2a3f5f\"}, \"geo\": {\"bgcolor\": \"white\", \"lakecolor\": \"white\", \"landcolor\": \"#E5ECF6\", \"showlakes\": true, \"showland\": true, \"subunitcolor\": \"white\"}, \"hoverlabel\": {\"align\": \"left\"}, \"hovermode\": \"closest\", \"mapbox\": {\"style\": \"light\"}, \"paper_bgcolor\": \"white\", \"plot_bgcolor\": \"#E5ECF6\", \"polar\": {\"angularaxis\": {\"gridcolor\": \"white\", \"linecolor\": \"white\", \"ticks\": \"\"}, \"bgcolor\": \"#E5ECF6\", \"radialaxis\": {\"gridcolor\": \"white\", \"linecolor\": \"white\", \"ticks\": \"\"}}, \"scene\": {\"xaxis\": {\"backgroundcolor\": \"#E5ECF6\", \"gridcolor\": \"white\", \"gridwidth\": 2, \"linecolor\": \"white\", \"showbackground\": true, \"ticks\": \"\", \"zerolinecolor\": \"white\"}, \"yaxis\": {\"backgroundcolor\": \"#E5ECF6\", \"gridcolor\": \"white\", \"gridwidth\": 2, \"linecolor\": \"white\", \"showbackground\": true, \"ticks\": \"\", \"zerolinecolor\": \"white\"}, \"zaxis\": {\"backgroundcolor\": \"#E5ECF6\", \"gridcolor\": \"white\", \"gridwidth\": 2, \"linecolor\": \"white\", \"showbackground\": true, \"ticks\": \"\", \"zerolinecolor\": \"white\"}}, \"shapedefaults\": {\"line\": {\"color\": \"#2a3f5f\"}}, \"ternary\": {\"aaxis\": {\"gridcolor\": \"white\", \"linecolor\": \"white\", \"ticks\": \"\"}, \"baxis\": {\"gridcolor\": \"white\", \"linecolor\": \"white\", \"ticks\": \"\"}, \"bgcolor\": \"#E5ECF6\", \"caxis\": {\"gridcolor\": \"white\", \"linecolor\": \"white\", \"ticks\": \"\"}}, \"title\": {\"x\": 0.05}, \"xaxis\": {\"automargin\": true, \"gridcolor\": \"white\", \"linecolor\": \"white\", \"ticks\": \"\", \"zerolinecolor\": \"white\", \"zerolinewidth\": 2}, \"yaxis\": {\"automargin\": true, \"gridcolor\": \"white\", \"linecolor\": \"white\", \"ticks\": \"\", \"zerolinecolor\": \"white\", \"zerolinewidth\": 2}}}, \"title\": {\"text\": \"Pearson correlation of indicator percentage changes (fourth in list)\"}},\n",
       "                        {\"responsive\": true}\n",
       "                    ).then(function(){\n",
       "                            \n",
       "var gd = document.getElementById('86bd9ace-8f61-41e1-aa6e-d832e5b9c49f');\n",
       "var x = new MutationObserver(function (mutations, observer) {{\n",
       "        var display = window.getComputedStyle(gd).display;\n",
       "        if (!display || display === 'none') {{\n",
       "            console.log([gd, 'removed!']);\n",
       "            Plotly.purge(gd);\n",
       "            observer.disconnect();\n",
       "        }}\n",
       "}});\n",
       "\n",
       "// Listen for the removal of the full notebook cells\n",
       "var notebookContainer = gd.closest('#notebook-container');\n",
       "if (notebookContainer) {{\n",
       "    x.observe(notebookContainer, {childList: true});\n",
       "}}\n",
       "\n",
       "// Listen for the clearing of the current output cell\n",
       "var outputEl = gd.closest('.output');\n",
       "if (outputEl) {{\n",
       "    x.observe(outputEl, {childList: true});\n",
       "}}\n",
       "\n",
       "                        })\n",
       "                };\n",
       "                });\n",
       "            </script>\n",
       "        </div>"
      ]
     },
     "metadata": {},
     "output_type": "display_data"
    }
   ],
   "source": [
    "heatmap = go.Heatmap(\n",
    "    z=n3_indicators.iloc[-20:].pct_change().corr(method='pearson').values,\n",
    "    x=n3_indicators.columns,\n",
    "    y=n3_indicators.columns,\n",
    "    colorbar=dict(title='Pearson Coefficient'),\n",
    ")\n",
    "\n",
    "layout = go.Layout(title=\"Pearson correlation of indicator percentage changes (fourth in list)\")\n",
    "\n",
    "heatmap['zmax'] = 1.0\n",
    "heatmap['zmin'] = -1.0\n",
    "\n",
    "fig = go.Figure(data=[heatmap], layout=layout)\n",
    "py.iplot(fig)"
   ]
  },
  {
   "cell_type": "code",
   "execution_count": 22,
   "metadata": {
    "pycharm": {
     "name": "#%%\n"
    }
   },
   "outputs": [
    {
     "data": {
      "application/vnd.plotly.v1+json": {
       "config": {
        "linkText": "Export to plot.ly",
        "plotlyServerURL": "https://plot.ly",
        "showLink": false
       },
       "data": [
        {
         "colorbar": {
          "title": {
           "text": "Pearson Coefficient"
          }
         },
         "type": "heatmap",
         "x": [
          "open",
          "high",
          "low",
          "close",
          "macd",
          "signal",
          "mfi",
          "bb_up",
          "bb_low",
          "vzo",
          "apz_u",
          "apz_l",
          "stoch"
         ],
         "y": [
          "open",
          "high",
          "low",
          "close",
          "macd",
          "signal",
          "mfi",
          "bb_up",
          "bb_low",
          "vzo",
          "apz_u",
          "apz_l",
          "stoch"
         ],
         "z": [
          [
           1,
           0.4172862579629785,
           0.6699324851825473,
           -0.21876019460787177,
           0.30289139026235395,
           0.3003468079229402,
           0.29635524580897665,
           0.2412671582800995,
           -0.25921934695786003,
           -0.12321432686278437,
           0.2668143155721819,
           0.2474070493261418,
           -0.5162287121234745
          ],
          [
           0.4172862579629785,
           1,
           0.6033052178496108,
           0.2767245328794286,
           0.1381147258187469,
           -0.33292930047283714,
           0.4141832474438174,
           0.17281710918296744,
           -0.1637710502867057,
           -0.11341483415699537,
           0.06888595150791216,
           0.06337606669062011,
           -0.09209126802566403
          ],
          [
           0.6699324851825473,
           0.6033052178496108,
           1,
           0.07977844175993565,
           0.3123136576773346,
           0.12458555108784924,
           0.35882090889134016,
           0.18872372320412167,
           -0.20161359662720804,
           -0.25320132030112774,
           0.2786327513097873,
           0.27636166569457626,
           -0.2294632748557082
          ],
          [
           -0.21876019460787177,
           0.2767245328794286,
           0.07977844175993565,
           1,
           0.6491490625788828,
           -0.15881232387765803,
           0.2959827094121231,
           0.25310694608179535,
           -0.17193489454480118,
           0.30706455916898623,
           0.5635812512148409,
           0.5949128859811479,
           0.8624486073573794
          ],
          [
           0.30289139026235395,
           0.1381147258187469,
           0.3123136576773346,
           0.6491490625788828,
           1,
           0.38067870194896863,
           0.22072080648420497,
           0.6826146800857805,
           -0.6006833971903746,
           0.41625380983739574,
           0.9737722443009157,
           0.97473040053822,
           0.4131161235783479
          ],
          [
           0.3003468079229402,
           -0.33292930047283714,
           0.12458555108784924,
           -0.15881232387765803,
           0.38067870194896863,
           1,
           -0.2912380552877508,
           0.4243632726720622,
           -0.3234359435254431,
           0.3032282723429371,
           0.47358910613803556,
           0.45514108340528836,
           -0.12832721118665616
          ],
          [
           0.29635524580897665,
           0.4141832474438174,
           0.35882090889134016,
           0.2959827094121231,
           0.22072080648420497,
           -0.2912380552877508,
           1,
           0.0067438135541930426,
           -0.1243724257646996,
           -0.45785040117640724,
           0.11455693331657195,
           0.10464407308865535,
           0.19466796951560283
          ],
          [
           0.2412671582800995,
           0.17281710918296744,
           0.18872372320412167,
           0.25310694608179535,
           0.6826146800857805,
           0.4243632726720622,
           0.0067438135541930426,
           1,
           -0.9441453658237839,
           0.33462048523250687,
           0.7504563859241887,
           0.7093806427137078,
           -0.005761608982102513
          ],
          [
           -0.25921934695786003,
           -0.1637710502867057,
           -0.20161359662720804,
           -0.17193489454480118,
           -0.6006833971903746,
           -0.3234359435254431,
           -0.1243724257646996,
           -0.9441453658237839,
           1,
           -0.15438203787351493,
           -0.6466786313631723,
           -0.5859268282416465,
           0.037760600891858453
          ],
          [
           -0.12321432686278437,
           -0.11341483415699537,
           -0.25320132030112774,
           0.30706455916898623,
           0.41625380983739574,
           0.3032282723429371,
           -0.45785040117640724,
           0.33462048523250687,
           -0.15438203787351493,
           1,
           0.43724599557092103,
           0.46518969667695403,
           0.2391585767940103
          ],
          [
           0.2668143155721819,
           0.06888595150791216,
           0.2786327513097873,
           0.5635812512148409,
           0.9737722443009157,
           0.47358910613803556,
           0.11455693331657195,
           0.7504563859241887,
           -0.6466786313631723,
           0.43724599557092103,
           1,
           0.9933153558945234,
           0.33013488686101217
          ],
          [
           0.2474070493261418,
           0.06337606669062011,
           0.27636166569457626,
           0.5949128859811479,
           0.97473040053822,
           0.45514108340528836,
           0.10464407308865535,
           0.7093806427137078,
           -0.5859268282416465,
           0.46518969667695403,
           0.9933153558945234,
           1,
           0.3558845591680321
          ],
          [
           -0.5162287121234745,
           -0.09209126802566403,
           -0.2294632748557082,
           0.8624486073573794,
           0.4131161235783479,
           -0.12832721118665616,
           0.19466796951560283,
           -0.005761608982102513,
           0.037760600891858453,
           0.2391585767940103,
           0.33013488686101217,
           0.3558845591680321,
           1
          ]
         ],
         "zmax": 1,
         "zmin": -1
        }
       ],
       "layout": {
        "template": {
         "data": {
          "bar": [
           {
            "error_x": {
             "color": "#2a3f5f"
            },
            "error_y": {
             "color": "#2a3f5f"
            },
            "marker": {
             "line": {
              "color": "#E5ECF6",
              "width": 0.5
             }
            },
            "type": "bar"
           }
          ],
          "barpolar": [
           {
            "marker": {
             "line": {
              "color": "#E5ECF6",
              "width": 0.5
             }
            },
            "type": "barpolar"
           }
          ],
          "carpet": [
           {
            "aaxis": {
             "endlinecolor": "#2a3f5f",
             "gridcolor": "white",
             "linecolor": "white",
             "minorgridcolor": "white",
             "startlinecolor": "#2a3f5f"
            },
            "baxis": {
             "endlinecolor": "#2a3f5f",
             "gridcolor": "white",
             "linecolor": "white",
             "minorgridcolor": "white",
             "startlinecolor": "#2a3f5f"
            },
            "type": "carpet"
           }
          ],
          "choropleth": [
           {
            "colorbar": {
             "outlinewidth": 0,
             "ticks": ""
            },
            "type": "choropleth"
           }
          ],
          "contour": [
           {
            "colorbar": {
             "outlinewidth": 0,
             "ticks": ""
            },
            "colorscale": [
             [
              0,
              "#0d0887"
             ],
             [
              0.1111111111111111,
              "#46039f"
             ],
             [
              0.2222222222222222,
              "#7201a8"
             ],
             [
              0.3333333333333333,
              "#9c179e"
             ],
             [
              0.4444444444444444,
              "#bd3786"
             ],
             [
              0.5555555555555556,
              "#d8576b"
             ],
             [
              0.6666666666666666,
              "#ed7953"
             ],
             [
              0.7777777777777778,
              "#fb9f3a"
             ],
             [
              0.8888888888888888,
              "#fdca26"
             ],
             [
              1,
              "#f0f921"
             ]
            ],
            "type": "contour"
           }
          ],
          "contourcarpet": [
           {
            "colorbar": {
             "outlinewidth": 0,
             "ticks": ""
            },
            "type": "contourcarpet"
           }
          ],
          "heatmap": [
           {
            "colorbar": {
             "outlinewidth": 0,
             "ticks": ""
            },
            "colorscale": [
             [
              0,
              "#0d0887"
             ],
             [
              0.1111111111111111,
              "#46039f"
             ],
             [
              0.2222222222222222,
              "#7201a8"
             ],
             [
              0.3333333333333333,
              "#9c179e"
             ],
             [
              0.4444444444444444,
              "#bd3786"
             ],
             [
              0.5555555555555556,
              "#d8576b"
             ],
             [
              0.6666666666666666,
              "#ed7953"
             ],
             [
              0.7777777777777778,
              "#fb9f3a"
             ],
             [
              0.8888888888888888,
              "#fdca26"
             ],
             [
              1,
              "#f0f921"
             ]
            ],
            "type": "heatmap"
           }
          ],
          "heatmapgl": [
           {
            "colorbar": {
             "outlinewidth": 0,
             "ticks": ""
            },
            "colorscale": [
             [
              0,
              "#0d0887"
             ],
             [
              0.1111111111111111,
              "#46039f"
             ],
             [
              0.2222222222222222,
              "#7201a8"
             ],
             [
              0.3333333333333333,
              "#9c179e"
             ],
             [
              0.4444444444444444,
              "#bd3786"
             ],
             [
              0.5555555555555556,
              "#d8576b"
             ],
             [
              0.6666666666666666,
              "#ed7953"
             ],
             [
              0.7777777777777778,
              "#fb9f3a"
             ],
             [
              0.8888888888888888,
              "#fdca26"
             ],
             [
              1,
              "#f0f921"
             ]
            ],
            "type": "heatmapgl"
           }
          ],
          "histogram": [
           {
            "marker": {
             "colorbar": {
              "outlinewidth": 0,
              "ticks": ""
             }
            },
            "type": "histogram"
           }
          ],
          "histogram2d": [
           {
            "colorbar": {
             "outlinewidth": 0,
             "ticks": ""
            },
            "colorscale": [
             [
              0,
              "#0d0887"
             ],
             [
              0.1111111111111111,
              "#46039f"
             ],
             [
              0.2222222222222222,
              "#7201a8"
             ],
             [
              0.3333333333333333,
              "#9c179e"
             ],
             [
              0.4444444444444444,
              "#bd3786"
             ],
             [
              0.5555555555555556,
              "#d8576b"
             ],
             [
              0.6666666666666666,
              "#ed7953"
             ],
             [
              0.7777777777777778,
              "#fb9f3a"
             ],
             [
              0.8888888888888888,
              "#fdca26"
             ],
             [
              1,
              "#f0f921"
             ]
            ],
            "type": "histogram2d"
           }
          ],
          "histogram2dcontour": [
           {
            "colorbar": {
             "outlinewidth": 0,
             "ticks": ""
            },
            "colorscale": [
             [
              0,
              "#0d0887"
             ],
             [
              0.1111111111111111,
              "#46039f"
             ],
             [
              0.2222222222222222,
              "#7201a8"
             ],
             [
              0.3333333333333333,
              "#9c179e"
             ],
             [
              0.4444444444444444,
              "#bd3786"
             ],
             [
              0.5555555555555556,
              "#d8576b"
             ],
             [
              0.6666666666666666,
              "#ed7953"
             ],
             [
              0.7777777777777778,
              "#fb9f3a"
             ],
             [
              0.8888888888888888,
              "#fdca26"
             ],
             [
              1,
              "#f0f921"
             ]
            ],
            "type": "histogram2dcontour"
           }
          ],
          "mesh3d": [
           {
            "colorbar": {
             "outlinewidth": 0,
             "ticks": ""
            },
            "type": "mesh3d"
           }
          ],
          "parcoords": [
           {
            "line": {
             "colorbar": {
              "outlinewidth": 0,
              "ticks": ""
             }
            },
            "type": "parcoords"
           }
          ],
          "scatter": [
           {
            "marker": {
             "colorbar": {
              "outlinewidth": 0,
              "ticks": ""
             }
            },
            "type": "scatter"
           }
          ],
          "scatter3d": [
           {
            "line": {
             "colorbar": {
              "outlinewidth": 0,
              "ticks": ""
             }
            },
            "marker": {
             "colorbar": {
              "outlinewidth": 0,
              "ticks": ""
             }
            },
            "type": "scatter3d"
           }
          ],
          "scattercarpet": [
           {
            "marker": {
             "colorbar": {
              "outlinewidth": 0,
              "ticks": ""
             }
            },
            "type": "scattercarpet"
           }
          ],
          "scattergeo": [
           {
            "marker": {
             "colorbar": {
              "outlinewidth": 0,
              "ticks": ""
             }
            },
            "type": "scattergeo"
           }
          ],
          "scattergl": [
           {
            "marker": {
             "colorbar": {
              "outlinewidth": 0,
              "ticks": ""
             }
            },
            "type": "scattergl"
           }
          ],
          "scattermapbox": [
           {
            "marker": {
             "colorbar": {
              "outlinewidth": 0,
              "ticks": ""
             }
            },
            "type": "scattermapbox"
           }
          ],
          "scatterpolar": [
           {
            "marker": {
             "colorbar": {
              "outlinewidth": 0,
              "ticks": ""
             }
            },
            "type": "scatterpolar"
           }
          ],
          "scatterpolargl": [
           {
            "marker": {
             "colorbar": {
              "outlinewidth": 0,
              "ticks": ""
             }
            },
            "type": "scatterpolargl"
           }
          ],
          "scatterternary": [
           {
            "marker": {
             "colorbar": {
              "outlinewidth": 0,
              "ticks": ""
             }
            },
            "type": "scatterternary"
           }
          ],
          "surface": [
           {
            "colorbar": {
             "outlinewidth": 0,
             "ticks": ""
            },
            "colorscale": [
             [
              0,
              "#0d0887"
             ],
             [
              0.1111111111111111,
              "#46039f"
             ],
             [
              0.2222222222222222,
              "#7201a8"
             ],
             [
              0.3333333333333333,
              "#9c179e"
             ],
             [
              0.4444444444444444,
              "#bd3786"
             ],
             [
              0.5555555555555556,
              "#d8576b"
             ],
             [
              0.6666666666666666,
              "#ed7953"
             ],
             [
              0.7777777777777778,
              "#fb9f3a"
             ],
             [
              0.8888888888888888,
              "#fdca26"
             ],
             [
              1,
              "#f0f921"
             ]
            ],
            "type": "surface"
           }
          ],
          "table": [
           {
            "cells": {
             "fill": {
              "color": "#EBF0F8"
             },
             "line": {
              "color": "white"
             }
            },
            "header": {
             "fill": {
              "color": "#C8D4E3"
             },
             "line": {
              "color": "white"
             }
            },
            "type": "table"
           }
          ]
         },
         "layout": {
          "annotationdefaults": {
           "arrowcolor": "#2a3f5f",
           "arrowhead": 0,
           "arrowwidth": 1
          },
          "colorscale": {
           "diverging": [
            [
             0,
             "#8e0152"
            ],
            [
             0.1,
             "#c51b7d"
            ],
            [
             0.2,
             "#de77ae"
            ],
            [
             0.3,
             "#f1b6da"
            ],
            [
             0.4,
             "#fde0ef"
            ],
            [
             0.5,
             "#f7f7f7"
            ],
            [
             0.6,
             "#e6f5d0"
            ],
            [
             0.7,
             "#b8e186"
            ],
            [
             0.8,
             "#7fbc41"
            ],
            [
             0.9,
             "#4d9221"
            ],
            [
             1,
             "#276419"
            ]
           ],
           "sequential": [
            [
             0,
             "#0d0887"
            ],
            [
             0.1111111111111111,
             "#46039f"
            ],
            [
             0.2222222222222222,
             "#7201a8"
            ],
            [
             0.3333333333333333,
             "#9c179e"
            ],
            [
             0.4444444444444444,
             "#bd3786"
            ],
            [
             0.5555555555555556,
             "#d8576b"
            ],
            [
             0.6666666666666666,
             "#ed7953"
            ],
            [
             0.7777777777777778,
             "#fb9f3a"
            ],
            [
             0.8888888888888888,
             "#fdca26"
            ],
            [
             1,
             "#f0f921"
            ]
           ],
           "sequentialminus": [
            [
             0,
             "#0d0887"
            ],
            [
             0.1111111111111111,
             "#46039f"
            ],
            [
             0.2222222222222222,
             "#7201a8"
            ],
            [
             0.3333333333333333,
             "#9c179e"
            ],
            [
             0.4444444444444444,
             "#bd3786"
            ],
            [
             0.5555555555555556,
             "#d8576b"
            ],
            [
             0.6666666666666666,
             "#ed7953"
            ],
            [
             0.7777777777777778,
             "#fb9f3a"
            ],
            [
             0.8888888888888888,
             "#fdca26"
            ],
            [
             1,
             "#f0f921"
            ]
           ]
          },
          "colorway": [
           "#636efa",
           "#EF553B",
           "#00cc96",
           "#ab63fa",
           "#FFA15A",
           "#19d3f3",
           "#FF6692",
           "#B6E880",
           "#FF97FF",
           "#FECB52"
          ],
          "font": {
           "color": "#2a3f5f"
          },
          "geo": {
           "bgcolor": "white",
           "lakecolor": "white",
           "landcolor": "#E5ECF6",
           "showlakes": true,
           "showland": true,
           "subunitcolor": "white"
          },
          "hoverlabel": {
           "align": "left"
          },
          "hovermode": "closest",
          "mapbox": {
           "style": "light"
          },
          "paper_bgcolor": "white",
          "plot_bgcolor": "#E5ECF6",
          "polar": {
           "angularaxis": {
            "gridcolor": "white",
            "linecolor": "white",
            "ticks": ""
           },
           "bgcolor": "#E5ECF6",
           "radialaxis": {
            "gridcolor": "white",
            "linecolor": "white",
            "ticks": ""
           }
          },
          "scene": {
           "xaxis": {
            "backgroundcolor": "#E5ECF6",
            "gridcolor": "white",
            "gridwidth": 2,
            "linecolor": "white",
            "showbackground": true,
            "ticks": "",
            "zerolinecolor": "white"
           },
           "yaxis": {
            "backgroundcolor": "#E5ECF6",
            "gridcolor": "white",
            "gridwidth": 2,
            "linecolor": "white",
            "showbackground": true,
            "ticks": "",
            "zerolinecolor": "white"
           },
           "zaxis": {
            "backgroundcolor": "#E5ECF6",
            "gridcolor": "white",
            "gridwidth": 2,
            "linecolor": "white",
            "showbackground": true,
            "ticks": "",
            "zerolinecolor": "white"
           }
          },
          "shapedefaults": {
           "line": {
            "color": "#2a3f5f"
           }
          },
          "ternary": {
           "aaxis": {
            "gridcolor": "white",
            "linecolor": "white",
            "ticks": ""
           },
           "baxis": {
            "gridcolor": "white",
            "linecolor": "white",
            "ticks": ""
           },
           "bgcolor": "#E5ECF6",
           "caxis": {
            "gridcolor": "white",
            "linecolor": "white",
            "ticks": ""
           }
          },
          "title": {
           "x": 0.05
          },
          "xaxis": {
           "automargin": true,
           "gridcolor": "white",
           "linecolor": "white",
           "ticks": "",
           "zerolinecolor": "white",
           "zerolinewidth": 2
          },
          "yaxis": {
           "automargin": true,
           "gridcolor": "white",
           "linecolor": "white",
           "ticks": "",
           "zerolinecolor": "white",
           "zerolinewidth": 2
          }
         }
        },
        "title": {
         "text": "Pearson correlation of indicator percentage changes (fifth in list)"
        }
       }
      },
      "text/html": [
       "<div>\n",
       "        \n",
       "        \n",
       "            <div id=\"ffa05bca-b222-4232-8c3d-de7c20adf061\" class=\"plotly-graph-div\" style=\"height:525px; width:100%;\"></div>\n",
       "            <script type=\"text/javascript\">\n",
       "                require([\"plotly\"], function(Plotly) {\n",
       "                    window.PLOTLYENV=window.PLOTLYENV || {};\n",
       "                    \n",
       "                if (document.getElementById(\"ffa05bca-b222-4232-8c3d-de7c20adf061\")) {\n",
       "                    Plotly.newPlot(\n",
       "                        'ffa05bca-b222-4232-8c3d-de7c20adf061',\n",
       "                        [{\"colorbar\": {\"title\": {\"text\": \"Pearson Coefficient\"}}, \"type\": \"heatmap\", \"x\": [\"open\", \"high\", \"low\", \"close\", \"macd\", \"signal\", \"mfi\", \"bb_up\", \"bb_low\", \"vzo\", \"apz_u\", \"apz_l\", \"stoch\"], \"y\": [\"open\", \"high\", \"low\", \"close\", \"macd\", \"signal\", \"mfi\", \"bb_up\", \"bb_low\", \"vzo\", \"apz_u\", \"apz_l\", \"stoch\"], \"z\": [[1.0, 0.4172862579629785, 0.6699324851825473, -0.21876019460787177, 0.30289139026235395, 0.3003468079229402, 0.29635524580897665, 0.2412671582800995, -0.25921934695786003, -0.12321432686278437, 0.2668143155721819, 0.2474070493261418, -0.5162287121234745], [0.4172862579629785, 1.0, 0.6033052178496108, 0.2767245328794286, 0.1381147258187469, -0.33292930047283714, 0.4141832474438174, 0.17281710918296744, -0.1637710502867057, -0.11341483415699537, 0.06888595150791216, 0.06337606669062011, -0.09209126802566403], [0.6699324851825473, 0.6033052178496108, 1.0, 0.07977844175993565, 0.3123136576773346, 0.12458555108784924, 0.35882090889134016, 0.18872372320412167, -0.20161359662720804, -0.25320132030112774, 0.2786327513097873, 0.27636166569457626, -0.2294632748557082], [-0.21876019460787177, 0.2767245328794286, 0.07977844175993565, 1.0, 0.6491490625788828, -0.15881232387765803, 0.2959827094121231, 0.25310694608179535, -0.17193489454480118, 0.30706455916898623, 0.5635812512148409, 0.5949128859811479, 0.8624486073573794], [0.30289139026235395, 0.1381147258187469, 0.3123136576773346, 0.6491490625788828, 1.0, 0.38067870194896863, 0.22072080648420497, 0.6826146800857805, -0.6006833971903746, 0.41625380983739574, 0.9737722443009157, 0.97473040053822, 0.4131161235783479], [0.3003468079229402, -0.33292930047283714, 0.12458555108784924, -0.15881232387765803, 0.38067870194896863, 1.0, -0.2912380552877508, 0.4243632726720622, -0.3234359435254431, 0.3032282723429371, 0.47358910613803556, 0.45514108340528836, -0.12832721118665616], [0.29635524580897665, 0.4141832474438174, 0.35882090889134016, 0.2959827094121231, 0.22072080648420497, -0.2912380552877508, 1.0, 0.0067438135541930426, -0.1243724257646996, -0.45785040117640724, 0.11455693331657195, 0.10464407308865535, 0.19466796951560283], [0.2412671582800995, 0.17281710918296744, 0.18872372320412167, 0.25310694608179535, 0.6826146800857805, 0.4243632726720622, 0.0067438135541930426, 1.0, -0.9441453658237839, 0.33462048523250687, 0.7504563859241887, 0.7093806427137078, -0.005761608982102513], [-0.25921934695786003, -0.1637710502867057, -0.20161359662720804, -0.17193489454480118, -0.6006833971903746, -0.3234359435254431, -0.1243724257646996, -0.9441453658237839, 1.0, -0.15438203787351493, -0.6466786313631723, -0.5859268282416465, 0.037760600891858453], [-0.12321432686278437, -0.11341483415699537, -0.25320132030112774, 0.30706455916898623, 0.41625380983739574, 0.3032282723429371, -0.45785040117640724, 0.33462048523250687, -0.15438203787351493, 1.0, 0.43724599557092103, 0.46518969667695403, 0.2391585767940103], [0.2668143155721819, 0.06888595150791216, 0.2786327513097873, 0.5635812512148409, 0.9737722443009157, 0.47358910613803556, 0.11455693331657195, 0.7504563859241887, -0.6466786313631723, 0.43724599557092103, 1.0, 0.9933153558945234, 0.33013488686101217], [0.2474070493261418, 0.06337606669062011, 0.27636166569457626, 0.5949128859811479, 0.97473040053822, 0.45514108340528836, 0.10464407308865535, 0.7093806427137078, -0.5859268282416465, 0.46518969667695403, 0.9933153558945234, 1.0, 0.3558845591680321], [-0.5162287121234745, -0.09209126802566403, -0.2294632748557082, 0.8624486073573794, 0.4131161235783479, -0.12832721118665616, 0.19466796951560283, -0.005761608982102513, 0.037760600891858453, 0.2391585767940103, 0.33013488686101217, 0.3558845591680321, 1.0]], \"zmax\": 1.0, \"zmin\": -1.0}],\n",
       "                        {\"template\": {\"data\": {\"bar\": [{\"error_x\": {\"color\": \"#2a3f5f\"}, \"error_y\": {\"color\": \"#2a3f5f\"}, \"marker\": {\"line\": {\"color\": \"#E5ECF6\", \"width\": 0.5}}, \"type\": \"bar\"}], \"barpolar\": [{\"marker\": {\"line\": {\"color\": \"#E5ECF6\", \"width\": 0.5}}, \"type\": \"barpolar\"}], \"carpet\": [{\"aaxis\": {\"endlinecolor\": \"#2a3f5f\", \"gridcolor\": \"white\", \"linecolor\": \"white\", \"minorgridcolor\": \"white\", \"startlinecolor\": \"#2a3f5f\"}, \"baxis\": {\"endlinecolor\": \"#2a3f5f\", \"gridcolor\": \"white\", \"linecolor\": \"white\", \"minorgridcolor\": \"white\", \"startlinecolor\": \"#2a3f5f\"}, \"type\": \"carpet\"}], \"choropleth\": [{\"colorbar\": {\"outlinewidth\": 0, \"ticks\": \"\"}, \"type\": \"choropleth\"}], \"contour\": [{\"colorbar\": {\"outlinewidth\": 0, \"ticks\": \"\"}, \"colorscale\": [[0.0, \"#0d0887\"], [0.1111111111111111, \"#46039f\"], [0.2222222222222222, \"#7201a8\"], [0.3333333333333333, \"#9c179e\"], [0.4444444444444444, \"#bd3786\"], [0.5555555555555556, \"#d8576b\"], [0.6666666666666666, \"#ed7953\"], [0.7777777777777778, \"#fb9f3a\"], [0.8888888888888888, \"#fdca26\"], [1.0, \"#f0f921\"]], \"type\": \"contour\"}], \"contourcarpet\": [{\"colorbar\": {\"outlinewidth\": 0, \"ticks\": \"\"}, \"type\": \"contourcarpet\"}], \"heatmap\": [{\"colorbar\": {\"outlinewidth\": 0, \"ticks\": \"\"}, \"colorscale\": [[0.0, \"#0d0887\"], [0.1111111111111111, \"#46039f\"], [0.2222222222222222, \"#7201a8\"], [0.3333333333333333, \"#9c179e\"], [0.4444444444444444, \"#bd3786\"], [0.5555555555555556, \"#d8576b\"], [0.6666666666666666, \"#ed7953\"], [0.7777777777777778, \"#fb9f3a\"], [0.8888888888888888, \"#fdca26\"], [1.0, \"#f0f921\"]], \"type\": \"heatmap\"}], \"heatmapgl\": [{\"colorbar\": {\"outlinewidth\": 0, \"ticks\": \"\"}, \"colorscale\": [[0.0, \"#0d0887\"], [0.1111111111111111, \"#46039f\"], [0.2222222222222222, \"#7201a8\"], [0.3333333333333333, \"#9c179e\"], [0.4444444444444444, \"#bd3786\"], [0.5555555555555556, \"#d8576b\"], [0.6666666666666666, \"#ed7953\"], [0.7777777777777778, \"#fb9f3a\"], [0.8888888888888888, \"#fdca26\"], [1.0, \"#f0f921\"]], \"type\": \"heatmapgl\"}], \"histogram\": [{\"marker\": {\"colorbar\": {\"outlinewidth\": 0, \"ticks\": \"\"}}, \"type\": \"histogram\"}], \"histogram2d\": [{\"colorbar\": {\"outlinewidth\": 0, \"ticks\": \"\"}, \"colorscale\": [[0.0, \"#0d0887\"], [0.1111111111111111, \"#46039f\"], [0.2222222222222222, \"#7201a8\"], [0.3333333333333333, \"#9c179e\"], [0.4444444444444444, \"#bd3786\"], [0.5555555555555556, \"#d8576b\"], [0.6666666666666666, \"#ed7953\"], [0.7777777777777778, \"#fb9f3a\"], [0.8888888888888888, \"#fdca26\"], [1.0, \"#f0f921\"]], \"type\": \"histogram2d\"}], \"histogram2dcontour\": [{\"colorbar\": {\"outlinewidth\": 0, \"ticks\": \"\"}, \"colorscale\": [[0.0, \"#0d0887\"], [0.1111111111111111, \"#46039f\"], [0.2222222222222222, \"#7201a8\"], [0.3333333333333333, \"#9c179e\"], [0.4444444444444444, \"#bd3786\"], [0.5555555555555556, \"#d8576b\"], [0.6666666666666666, \"#ed7953\"], [0.7777777777777778, \"#fb9f3a\"], [0.8888888888888888, \"#fdca26\"], [1.0, \"#f0f921\"]], \"type\": \"histogram2dcontour\"}], \"mesh3d\": [{\"colorbar\": {\"outlinewidth\": 0, \"ticks\": \"\"}, \"type\": \"mesh3d\"}], \"parcoords\": [{\"line\": {\"colorbar\": {\"outlinewidth\": 0, \"ticks\": \"\"}}, \"type\": \"parcoords\"}], \"scatter\": [{\"marker\": {\"colorbar\": {\"outlinewidth\": 0, \"ticks\": \"\"}}, \"type\": \"scatter\"}], \"scatter3d\": [{\"line\": {\"colorbar\": {\"outlinewidth\": 0, \"ticks\": \"\"}}, \"marker\": {\"colorbar\": {\"outlinewidth\": 0, \"ticks\": \"\"}}, \"type\": \"scatter3d\"}], \"scattercarpet\": [{\"marker\": {\"colorbar\": {\"outlinewidth\": 0, \"ticks\": \"\"}}, \"type\": \"scattercarpet\"}], \"scattergeo\": [{\"marker\": {\"colorbar\": {\"outlinewidth\": 0, \"ticks\": \"\"}}, \"type\": \"scattergeo\"}], \"scattergl\": [{\"marker\": {\"colorbar\": {\"outlinewidth\": 0, \"ticks\": \"\"}}, \"type\": \"scattergl\"}], \"scattermapbox\": [{\"marker\": {\"colorbar\": {\"outlinewidth\": 0, \"ticks\": \"\"}}, \"type\": \"scattermapbox\"}], \"scatterpolar\": [{\"marker\": {\"colorbar\": {\"outlinewidth\": 0, \"ticks\": \"\"}}, \"type\": \"scatterpolar\"}], \"scatterpolargl\": [{\"marker\": {\"colorbar\": {\"outlinewidth\": 0, \"ticks\": \"\"}}, \"type\": \"scatterpolargl\"}], \"scatterternary\": [{\"marker\": {\"colorbar\": {\"outlinewidth\": 0, \"ticks\": \"\"}}, \"type\": \"scatterternary\"}], \"surface\": [{\"colorbar\": {\"outlinewidth\": 0, \"ticks\": \"\"}, \"colorscale\": [[0.0, \"#0d0887\"], [0.1111111111111111, \"#46039f\"], [0.2222222222222222, \"#7201a8\"], [0.3333333333333333, \"#9c179e\"], [0.4444444444444444, \"#bd3786\"], [0.5555555555555556, \"#d8576b\"], [0.6666666666666666, \"#ed7953\"], [0.7777777777777778, \"#fb9f3a\"], [0.8888888888888888, \"#fdca26\"], [1.0, \"#f0f921\"]], \"type\": \"surface\"}], \"table\": [{\"cells\": {\"fill\": {\"color\": \"#EBF0F8\"}, \"line\": {\"color\": \"white\"}}, \"header\": {\"fill\": {\"color\": \"#C8D4E3\"}, \"line\": {\"color\": \"white\"}}, \"type\": \"table\"}]}, \"layout\": {\"annotationdefaults\": {\"arrowcolor\": \"#2a3f5f\", \"arrowhead\": 0, \"arrowwidth\": 1}, \"colorscale\": {\"diverging\": [[0, \"#8e0152\"], [0.1, \"#c51b7d\"], [0.2, \"#de77ae\"], [0.3, \"#f1b6da\"], [0.4, \"#fde0ef\"], [0.5, \"#f7f7f7\"], [0.6, \"#e6f5d0\"], [0.7, \"#b8e186\"], [0.8, \"#7fbc41\"], [0.9, \"#4d9221\"], [1, \"#276419\"]], \"sequential\": [[0.0, \"#0d0887\"], [0.1111111111111111, \"#46039f\"], [0.2222222222222222, \"#7201a8\"], [0.3333333333333333, \"#9c179e\"], [0.4444444444444444, \"#bd3786\"], [0.5555555555555556, \"#d8576b\"], [0.6666666666666666, \"#ed7953\"], [0.7777777777777778, \"#fb9f3a\"], [0.8888888888888888, \"#fdca26\"], [1.0, \"#f0f921\"]], \"sequentialminus\": [[0.0, \"#0d0887\"], [0.1111111111111111, \"#46039f\"], [0.2222222222222222, \"#7201a8\"], [0.3333333333333333, \"#9c179e\"], [0.4444444444444444, \"#bd3786\"], [0.5555555555555556, \"#d8576b\"], [0.6666666666666666, \"#ed7953\"], [0.7777777777777778, \"#fb9f3a\"], [0.8888888888888888, \"#fdca26\"], [1.0, \"#f0f921\"]]}, \"colorway\": [\"#636efa\", \"#EF553B\", \"#00cc96\", \"#ab63fa\", \"#FFA15A\", \"#19d3f3\", \"#FF6692\", \"#B6E880\", \"#FF97FF\", \"#FECB52\"], \"font\": {\"color\": \"#2a3f5f\"}, \"geo\": {\"bgcolor\": \"white\", \"lakecolor\": \"white\", \"landcolor\": \"#E5ECF6\", \"showlakes\": true, \"showland\": true, \"subunitcolor\": \"white\"}, \"hoverlabel\": {\"align\": \"left\"}, \"hovermode\": \"closest\", \"mapbox\": {\"style\": \"light\"}, \"paper_bgcolor\": \"white\", \"plot_bgcolor\": \"#E5ECF6\", \"polar\": {\"angularaxis\": {\"gridcolor\": \"white\", \"linecolor\": \"white\", \"ticks\": \"\"}, \"bgcolor\": \"#E5ECF6\", \"radialaxis\": {\"gridcolor\": \"white\", \"linecolor\": \"white\", \"ticks\": \"\"}}, \"scene\": {\"xaxis\": {\"backgroundcolor\": \"#E5ECF6\", \"gridcolor\": \"white\", \"gridwidth\": 2, \"linecolor\": \"white\", \"showbackground\": true, \"ticks\": \"\", \"zerolinecolor\": \"white\"}, \"yaxis\": {\"backgroundcolor\": \"#E5ECF6\", \"gridcolor\": \"white\", \"gridwidth\": 2, \"linecolor\": \"white\", \"showbackground\": true, \"ticks\": \"\", \"zerolinecolor\": \"white\"}, \"zaxis\": {\"backgroundcolor\": \"#E5ECF6\", \"gridcolor\": \"white\", \"gridwidth\": 2, \"linecolor\": \"white\", \"showbackground\": true, \"ticks\": \"\", \"zerolinecolor\": \"white\"}}, \"shapedefaults\": {\"line\": {\"color\": \"#2a3f5f\"}}, \"ternary\": {\"aaxis\": {\"gridcolor\": \"white\", \"linecolor\": \"white\", \"ticks\": \"\"}, \"baxis\": {\"gridcolor\": \"white\", \"linecolor\": \"white\", \"ticks\": \"\"}, \"bgcolor\": \"#E5ECF6\", \"caxis\": {\"gridcolor\": \"white\", \"linecolor\": \"white\", \"ticks\": \"\"}}, \"title\": {\"x\": 0.05}, \"xaxis\": {\"automargin\": true, \"gridcolor\": \"white\", \"linecolor\": \"white\", \"ticks\": \"\", \"zerolinecolor\": \"white\", \"zerolinewidth\": 2}, \"yaxis\": {\"automargin\": true, \"gridcolor\": \"white\", \"linecolor\": \"white\", \"ticks\": \"\", \"zerolinecolor\": \"white\", \"zerolinewidth\": 2}}}, \"title\": {\"text\": \"Pearson correlation of indicator percentage changes (fifth in list)\"}},\n",
       "                        {\"responsive\": true}\n",
       "                    ).then(function(){\n",
       "                            \n",
       "var gd = document.getElementById('ffa05bca-b222-4232-8c3d-de7c20adf061');\n",
       "var x = new MutationObserver(function (mutations, observer) {{\n",
       "        var display = window.getComputedStyle(gd).display;\n",
       "        if (!display || display === 'none') {{\n",
       "            console.log([gd, 'removed!']);\n",
       "            Plotly.purge(gd);\n",
       "            observer.disconnect();\n",
       "        }}\n",
       "}});\n",
       "\n",
       "// Listen for the removal of the full notebook cells\n",
       "var notebookContainer = gd.closest('#notebook-container');\n",
       "if (notebookContainer) {{\n",
       "    x.observe(notebookContainer, {childList: true});\n",
       "}}\n",
       "\n",
       "// Listen for the clearing of the current output cell\n",
       "var outputEl = gd.closest('.output');\n",
       "if (outputEl) {{\n",
       "    x.observe(outputEl, {childList: true});\n",
       "}}\n",
       "\n",
       "                        })\n",
       "                };\n",
       "                });\n",
       "            </script>\n",
       "        </div>"
      ]
     },
     "metadata": {},
     "output_type": "display_data"
    }
   ],
   "source": [
    "heatmap = go.Heatmap(\n",
    "    z=n4_indicators.iloc[-20:].pct_change().corr(method='pearson').values,\n",
    "    x=n4_indicators.columns,\n",
    "    y=n4_indicators.columns,\n",
    "    colorbar=dict(title='Pearson Coefficient'),\n",
    ")\n",
    "\n",
    "layout = go.Layout(title=\"Pearson correlation of indicator percentage changes (fifth in list)\")\n",
    "\n",
    "heatmap['zmax'] = 1.0\n",
    "heatmap['zmin'] = -1.0\n",
    "\n",
    "fig = go.Figure(data=[heatmap], layout=layout)\n",
    "py.iplot(fig)"
   ]
  },
  {
   "cell_type": "code",
   "execution_count": 23,
   "metadata": {
    "pycharm": {
     "name": "#%%\n"
    }
   },
   "outputs": [
    {
     "name": "stdout",
     "output_type": "stream",
     "text": [
      "WARNING:tensorflow:From /home/ben/anaconda3/envs/alpaca_test/lib/python3.7/site-packages/tensorflow/python/ops/math_grad.py:1205: add_dispatch_support.<locals>.wrapper (from tensorflow.python.ops.array_ops) is deprecated and will be removed in a future version.\n",
      "Instructions for updating:\n",
      "Use tf.where in 2.0, which has the same broadcast rule as np.where\n",
      "Epoch: 1000 cost= 0.000019546\n",
      "Epoch: 2000 cost= 0.000019321\n",
      "Epoch: 3000 cost= 0.000019098\n",
      "Epoch: 4000 cost= 0.000018877\n",
      "Epoch: 5000 cost= 0.000018659\n",
      "Epoch: 6000 cost= 0.000018444\n",
      "Epoch: 7000 cost= 0.000018230\n",
      "Epoch: 8000 cost= 0.000018022\n",
      "Epoch: 9000 cost= 0.000017816\n",
      "Epoch: 10000 cost= 0.000017613\n",
      "Epoch: 11000 cost= 0.000017412\n",
      "Epoch: 12000 cost= 0.000017214\n",
      "Epoch: 13000 cost= 0.000017018\n",
      "Epoch: 14000 cost= 0.000016825\n",
      "Epoch: 15000 cost= 0.000016634\n",
      "Epoch: 16000 cost= 0.000016445\n",
      "Epoch: 17000 cost= 0.000016260\n",
      "Epoch: 18000 cost= 0.000016077\n",
      "Epoch: 19000 cost= 0.000015897\n",
      "Epoch: 20000 cost= 0.000015718\n",
      "Epoch: 1000 cost= nan\n",
      "Epoch: 2000 cost= nan\n",
      "Epoch: 3000 cost= nan\n",
      "Epoch: 4000 cost= nan\n",
      "Epoch: 5000 cost= nan\n",
      "Epoch: 6000 cost= nan\n",
      "Epoch: 7000 cost= nan\n",
      "Epoch: 8000 cost= nan\n",
      "Epoch: 9000 cost= nan\n",
      "Epoch: 10000 cost= nan\n",
      "Epoch: 11000 cost= nan\n",
      "Epoch: 12000 cost= nan\n",
      "Epoch: 13000 cost= nan\n",
      "Epoch: 14000 cost= nan\n",
      "Epoch: 15000 cost= nan\n",
      "Epoch: 16000 cost= nan\n",
      "Epoch: 17000 cost= nan\n",
      "Epoch: 18000 cost= nan\n",
      "Epoch: 19000 cost= nan\n",
      "Epoch: 20000 cost= nan\n"
     ]
    },
    {
     "name": "stderr",
     "output_type": "stream",
     "text": [
      "/home/ben/Projects/trading/cryptoconda/src/predictor.py:69: RuntimeWarning:\n",
      "\n",
      "invalid value encountered in greater\n",
      "\n",
      "/home/ben/Projects/trading/cryptoconda/src/predictor.py:76: RuntimeWarning:\n",
      "\n",
      "invalid value encountered in greater\n",
      "\n"
     ]
    },
    {
     "name": "stdout",
     "output_type": "stream",
     "text": [
      "Epoch: 1000 cost= nan\n",
      "Epoch: 2000 cost= nan\n",
      "Epoch: 3000 cost= nan\n",
      "Epoch: 4000 cost= nan\n",
      "Epoch: 5000 cost= nan\n",
      "Epoch: 6000 cost= nan\n",
      "Epoch: 7000 cost= nan\n",
      "Epoch: 8000 cost= nan\n",
      "Epoch: 9000 cost= nan\n",
      "Epoch: 10000 cost= nan\n",
      "Epoch: 11000 cost= nan\n",
      "Epoch: 12000 cost= nan\n",
      "Epoch: 13000 cost= nan\n",
      "Epoch: 14000 cost= nan\n",
      "Epoch: 15000 cost= nan\n",
      "Epoch: 16000 cost= nan\n",
      "Epoch: 17000 cost= nan\n",
      "Epoch: 18000 cost= nan\n",
      "Epoch: 19000 cost= nan\n",
      "Epoch: 20000 cost= nan\n",
      "Epoch: 1000 cost= nan\n",
      "Epoch: 2000 cost= nan\n",
      "Epoch: 3000 cost= nan\n",
      "Epoch: 4000 cost= nan\n",
      "Epoch: 5000 cost= nan\n",
      "Epoch: 6000 cost= nan\n",
      "Epoch: 7000 cost= nan\n",
      "Epoch: 8000 cost= nan\n",
      "Epoch: 9000 cost= nan\n",
      "Epoch: 10000 cost= nan\n",
      "Epoch: 11000 cost= nan\n",
      "Epoch: 12000 cost= nan\n",
      "Epoch: 13000 cost= nan\n",
      "Epoch: 14000 cost= nan\n",
      "Epoch: 15000 cost= nan\n",
      "Epoch: 16000 cost= nan\n",
      "Epoch: 17000 cost= nan\n",
      "Epoch: 18000 cost= nan\n",
      "Epoch: 19000 cost= nan\n",
      "Epoch: 20000 cost= nan\n",
      "Epoch: 1000 cost= nan\n",
      "Epoch: 2000 cost= nan\n",
      "Epoch: 3000 cost= nan\n",
      "Epoch: 4000 cost= nan\n",
      "Epoch: 5000 cost= nan\n",
      "Epoch: 6000 cost= nan\n",
      "Epoch: 7000 cost= nan\n",
      "Epoch: 8000 cost= nan\n",
      "Epoch: 9000 cost= nan\n",
      "Epoch: 10000 cost= nan\n",
      "Epoch: 11000 cost= nan\n",
      "Epoch: 12000 cost= nan\n",
      "Epoch: 13000 cost= nan\n",
      "Epoch: 14000 cost= nan\n",
      "Epoch: 15000 cost= nan\n",
      "Epoch: 16000 cost= nan\n",
      "Epoch: 17000 cost= nan\n",
      "Epoch: 18000 cost= nan\n",
      "Epoch: 19000 cost= nan\n",
      "Epoch: 20000 cost= nan\n",
      "Epoch: 1000 cost= nan\n",
      "Epoch: 2000 cost= nan\n",
      "Epoch: 3000 cost= nan\n",
      "Epoch: 4000 cost= nan\n",
      "Epoch: 5000 cost= nan\n",
      "Epoch: 6000 cost= nan\n",
      "Epoch: 7000 cost= nan\n",
      "Epoch: 8000 cost= nan\n",
      "Epoch: 9000 cost= nan\n",
      "Epoch: 10000 cost= nan\n",
      "Epoch: 11000 cost= nan\n",
      "Epoch: 12000 cost= nan\n",
      "Epoch: 13000 cost= nan\n",
      "Epoch: 14000 cost= nan\n",
      "Epoch: 15000 cost= nan\n",
      "Epoch: 16000 cost= nan\n",
      "Epoch: 17000 cost= nan\n",
      "Epoch: 18000 cost= nan\n",
      "Epoch: 19000 cost= nan\n",
      "Epoch: 20000 cost= nan\n"
     ]
    }
   ],
   "source": [
    "n_indicators            = pd.DataFrame()\n",
    "n_indicators[\"open\"]    = indicators[ticker_index][\"open\"]\n",
    "n_indicators[\"high\"]    = indicators[ticker_index][\"high\"]\n",
    "n_indicators[\"low\"]     = indicators[ticker_index][\"low\"]\n",
    "n_indicators[\"close\"]   = indicators[ticker_index][\"close\"]\n",
    "n_indicators[\"macd\"]    = indicators[ticker_index][\"macd\"]\n",
    "n_indicators[\"signal\"]  = indicators[ticker_index][\"signal\"]\n",
    "n_indicators[\"mfi\"]     = indicators[ticker_index][\"mfi\"]\n",
    "n_indicators[\"bb_up\"]   = indicators[ticker_index][\"bb_up\"]\n",
    "n_indicators[\"bb_low\"]  = indicators[ticker_index][\"bb_low\"]\n",
    "n_indicators[\"vzo\"]     = indicators[ticker_index][\"vzo\"]\n",
    "n_indicators[\"apz_u\"]   = indicators[ticker_index][\"apz_u\"]\n",
    "n_indicators[\"apz_l\"]   = indicators[ticker_index][\"apz_l\"]\n",
    "n_indicators[\"stoch\"]   = indicators[ticker_index][\"stoch\"]\n",
    "\n",
    "# train models\n",
    "close_train, close_test     = predictions.get_predictions(n_indicators[\"close\"])\n",
    "macd_train, macd_test       = predictions.get_predictions(n_indicators[\"macd\"])\n",
    "signal_train, signal_test   = predictions.get_predictions(n_indicators[\"signal\"])\n",
    "mfi_train, mfi_test         = predictions.get_predictions(n_indicators[\"mfi\"])\n",
    "stoch_train, stoch_test     = predictions.get_predictions(n_indicators[\"stoch\"])\n",
    "vzo_train, vzo_test         = predictions.get_predictions(n_indicators[\"vzo\"])"
   ]
  },
  {
   "cell_type": "code",
   "execution_count": 24,
   "metadata": {
    "pycharm": {
     "name": "#%%\n"
    }
   },
   "outputs": [],
   "source": [
    "close_test      = close_test[~np.isnan(close_test)]\n",
    "macd_test       = macd_test[~np.isnan(macd_test)]\n",
    "signal_test     = signal_test[~np.isnan(signal_test)]\n",
    "mfi_test        = mfi_test[~np.isnan(mfi_test)]\n",
    "stoch_test      = stoch_test[~np.isnan(stoch_test)]\n",
    "vzo_test        = vzo_test[~np.isnan(vzo_test)]"
   ]
  },
  {
   "cell_type": "code",
   "execution_count": 25,
   "metadata": {
    "pycharm": {
     "name": "#%%\n"
    }
   },
   "outputs": [
    {
     "data": {
      "text/plain": [
       "[<matplotlib.lines.Line2D at 0x7f8acc308bd0>]"
      ]
     },
     "execution_count": 25,
     "metadata": {},
     "output_type": "execute_result"
    },
    {
     "data": {
      "image/png": "[encoded data removed]",
      "text/plain": [
       "<Figure size 432x288 with 1 Axes>"
      ]
     },
     "metadata": {
      "needs_background": "light"
     },
     "output_type": "display_data"
    }
   ],
   "source": [
    "# close\n",
    "plt.plot(np.cumprod(close_train+1), label=\"ass\")\n",
    "plt.plot(np.cumprod(close_test+1), label=\"dick\")"
   ]
  },
  {
   "cell_type": "code",
   "execution_count": 26,
   "metadata": {
    "pycharm": {
     "name": "#%%\n"
    }
   },
   "outputs": [
    {
     "data": {
      "text/plain": [
       "[<matplotlib.lines.Line2D at 0x7f8ab8fbaa50>]"
      ]
     },
     "execution_count": 26,
     "metadata": {},
     "output_type": "execute_result"
    },
    {
     "data": {
      "image/png": "[encoded data removed]",
      "text/plain": [
       "<Figure size 432x288 with 1 Axes>"
      ]
     },
     "metadata": {
      "needs_background": "light"
     },
     "output_type": "display_data"
    }
   ],
   "source": [
    "# macd\n",
    "plt.plot(np.cumprod(macd_train+1), color=\"green\")\n",
    "plt.plot(np.cumprod(signal_train+1), color=\"orange\")\n",
    "# test\n",
    "plt.plot(np.cumprod(macd_test+1), color=\"blue\")\n",
    "plt.plot(np.cumprod(signal_test+1), color=\"red\")"
   ]
  },
  {
   "cell_type": "code",
   "execution_count": 27,
   "metadata": {
    "pycharm": {
     "name": "#%%\n"
    }
   },
   "outputs": [
    {
     "data": {
      "text/plain": [
       "[<matplotlib.lines.Line2D at 0x7f8acc733850>]"
      ]
     },
     "execution_count": 27,
     "metadata": {},
     "output_type": "execute_result"
    },
    {
     "data": {
      "image/png": "[encoded data removed]",
      "text/plain": [
       "<Figure size 432x288 with 1 Axes>"
      ]
     },
     "metadata": {
      "needs_background": "light"
     },
     "output_type": "display_data"
    }
   ],
   "source": [
    "# MFI\n",
    "plt.plot(np.cumprod(mfi_train+1))\n",
    "plt.plot(np.cumprod(mfi_test+1))"
   ]
  },
  {
   "cell_type": "code",
   "execution_count": 28,
   "metadata": {
    "pycharm": {
     "name": "#%%\n"
    }
   },
   "outputs": [
    {
     "data": {
      "text/plain": [
       "[<matplotlib.lines.Line2D at 0x7f8ab92b5b90>]"
      ]
     },
     "execution_count": 28,
     "metadata": {},
     "output_type": "execute_result"
    },
    {
     "data": {
      "image/png": "[encoded data removed]",
      "text/plain": [
       "<Figure size 432x288 with 1 Axes>"
      ]
     },
     "metadata": {
      "needs_background": "light"
     },
     "output_type": "display_data"
    }
   ],
   "source": [
    "# stochastic oscillator  \n",
    "plt.plot(np.cumprod(stoch_train+1))\n",
    "plt.plot(np.cumprod(stoch_test+1))"
   ]
  },
  {
   "cell_type": "code",
   "execution_count": 29,
   "metadata": {
    "pycharm": {
     "name": "#%%\n"
    }
   },
   "outputs": [
    {
     "data": {
      "text/plain": [
       "[<matplotlib.lines.Line2D at 0x7f8ab945a690>]"
      ]
     },
     "execution_count": 29,
     "metadata": {},
     "output_type": "execute_result"
    },
    {
     "data": {
      "image/png": "[encoded data removed]",
      "text/plain": [
       "<Figure size 432x288 with 1 Axes>"
      ]
     },
     "metadata": {
      "needs_background": "light"
     },
     "output_type": "display_data"
    }
   ],
   "source": [
    "# macd and signal + close w/ volume\n",
    "plt.plot(np.cumprod(close_test+1), color=\"blue\")\n",
    "plt.plot(np.cumprod(macd_test+1), color=\"orange\")\n",
    "plt.plot(np.cumprod(signal_test+1), color=\"green\")\n",
    "# plt.plot(np.cumprod(volume_test+1), color=\"black\")"
   ]
  },
  {
   "cell_type": "code",
   "execution_count": 30,
   "metadata": {
    "pycharm": {
     "name": "#%%\n"
    }
   },
   "outputs": [
    {
     "data": {
      "text/plain": [
       "[<matplotlib.lines.Line2D at 0x7f8acc13ac50>]"
      ]
     },
     "execution_count": 30,
     "metadata": {},
     "output_type": "execute_result"
    },
    {
     "data": {
      "image/png": "[encoded data removed]",
      "text/plain": [
       "<Figure size 432x288 with 1 Axes>"
      ]
     },
     "metadata": {
      "needs_background": "light"
     },
     "output_type": "display_data"
    }
   ],
   "source": [
    "# stoch + mfi w/ volume\n",
    "plt.plot(np.cumprod(mfi_test+1), color=\"#9467bd\")\n",
    "plt.plot(np.cumprod(stoch_test+1), color=\"#17becf\")\n",
    "# plt.plot(np.cumprod(volume_test+1), color=\"black\")"
   ]
  },
  {
   "cell_type": "code",
   "execution_count": 31,
   "metadata": {
    "pycharm": {
     "name": "#%%\n"
    }
   },
   "outputs": [
    {
     "name": "stdout",
     "output_type": "stream",
     "text": [
      "close test: 0.0018893850910339993  current close: 58.33\n",
      "macd test: 0.04520043711473222  current macd: 0.5508653372960453\n",
      "signal test: 0.03409415756509466  current signal: 0.48668168221331143\n",
      "mfi test: -0.06850760479099936  current mfi: 61.35296210134675\n",
      "stoch test: 0.05445544554455416  current stoch: 85.54216867469879\n",
      "VZO test: 0.23727011901601747  current VZO: 35.172737032511215\n"
     ]
    }
   ],
   "source": [
    "print(\"close test:\", close_test[-1], \" current close:\", n_indicators[\"close\"].iloc[-1])\n",
    "print(\"macd test:\", macd_test[-1], \" current macd:\", n_indicators[\"macd\"].iloc[-1])\n",
    "print(\"signal test:\", signal_test[-1], \" current signal:\", n_indicators[\"signal\"].iloc[-1])\n",
    "print(\"mfi test:\", mfi_test[-1], \" current mfi:\", n_indicators[\"mfi\"].iloc[-1])\n",
    "print(\"stoch test:\", stoch_test[-1], \" current stoch:\", n_indicators[\"stoch\"].iloc[-1])\n",
    "print(\"VZO test:\", vzo_test[-1], \" current VZO:\", n_indicators[\"vzo\"].iloc[-1])"
   ]
  },
  {
   "cell_type": "code",
   "execution_count": 32,
   "metadata": {
    "pycharm": {
     "name": "#%%\n"
    }
   },
   "outputs": [],
   "source": [
    "# print(\"sentiment:\", sentiment)"
   ]
  },
  {
   "cell_type": "code",
   "execution_count": 33,
   "metadata": {
    "pycharm": {
     "name": "#%%\n"
    }
   },
   "outputs": [
    {
     "name": "stdout",
     "output_type": "stream",
     "text": [
      "False\n"
     ]
    }
   ],
   "source": [
    "print(n_indicators[\"macd\"].iloc[-1] < n_indicators[\"signal\"].iloc[-1])"
   ]
  },
  {
   "cell_type": "code",
   "execution_count": 34,
   "metadata": {
    "pycharm": {
     "name": "#%%\n"
    }
   },
   "outputs": [
    {
     "name": "stdout",
     "output_type": "stream",
     "text": [
      "False\n"
     ]
    }
   ],
   "source": [
    "print(bullish_sequence(n_indicators[\"macd\"].iloc[-5], n_indicators[\"macd\"].iloc[-4], n_indicators[\"macd\"].iloc[-3]))"
   ]
  },
  {
   "cell_type": "code",
   "execution_count": 35,
   "metadata": {
    "pycharm": {
     "name": "#%%\n"
    }
   },
   "outputs": [
    {
     "name": "stdout",
     "output_type": "stream",
     "text": [
      "Pattern:  None False\n"
     ]
    }
   ],
   "source": [
    "pattern = bullish_candlestick_patterns(n_indicators.iloc[-1], n_indicators.iloc[-2], n_indicators.iloc[-3])\n",
    "print(\"Pattern: \", pattern, pattern in [\"hammer\", \"inverseHammer\"])"
   ]
  },
  {
   "cell_type": "code",
   "execution_count": 36,
   "metadata": {
    "pycharm": {
     "name": "#%%\n"
    }
   },
   "outputs": [
    {
     "name": "stderr",
     "output_type": "stream",
     "text": [
      "/home/ben/anaconda3/envs/alpaca_test/lib/python3.7/site-packages/empyrical/stats.py:394: RuntimeWarning:\n",
      "\n",
      "invalid value encountered in subtract\n",
      "\n"
     ]
    }
   ],
   "source": [
    "# empyrical stuff\n",
    "from empyrical import max_drawdown, cum_returns\n",
    "\n",
    "test_drawdown = max_drawdown(cum_returns(n_indicators[\"close\"]))\n",
    "test_drawdown1 = max_drawdown(cum_returns(n1_indicators[\"close\"]))\n",
    "test_drawdown2 = max_drawdown(cum_returns(n2_indicators[\"close\"]))\n",
    "test_drawdown3 = max_drawdown(cum_returns(n3_indicators[\"close\"]))\n",
    "test_drawdown4 = max_drawdown(cum_returns(n4_indicators[\"close\"]))"
   ]
  },
  {
   "cell_type": "code",
   "execution_count": 40,
   "metadata": {
    "pycharm": {
     "name": "#%%\n"
    }
   },
   "outputs": [
    {
     "data": {
      "text/plain": [
       "0.0"
      ]
     },
     "execution_count": 40,
     "metadata": {},
     "output_type": "execute_result"
    }
   ],
   "source": [
    "asdf = cum_returns(n_indicators[\"close\"])\n",
    "\n",
    "max_drawdown(asdf)"
   ]
  }
 ],
 "metadata": {
  "kernelspec": {
   "display_name": "Python 3",
   "language": "python",
   "name": "python3"
  },
  "language_info": {
   "codemirror_mode": {
    "name": "ipython",
    "version": 3
   },
   "file_extension": ".py",
   "mimetype": "text/x-python",
   "name": "python",
   "nbconvert_exporter": "python",
   "pygments_lexer": "ipython3",
   "version": "3.7.4"
  },
  "pycharm": {
   "stem_cell": {
    "cell_type": "raw",
    "metadata": {
     "collapsed": false
    },
    "source": []
   }
  }
 },
 "nbformat": 4,
 "nbformat_minor": 1
}
