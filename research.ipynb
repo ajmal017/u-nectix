{
 "cells": [
  {
   "cell_type": "code",
   "execution_count": null,
   "metadata": {
    "pycharm": {
     "is_executing": true
    }
   },
   "outputs": [],
   "source": [
    "#!/usr/bin/env python\n",
    "# -*- coding: utf-8 -*-\n",
    "from src.asset_selector import AssetSelector\n",
    "from src.indicators import Indicators\n",
    "from src.predictor import Predictor\n",
    "from sklearn.cluster import KMeans\n",
    "import alpaca_trade_api as tradeapi\n",
    "import matplotlib.pyplot as plt\n",
    "import plotly.graph_objs as go\n",
    "import plotly.offline as py\n",
    "import configparser\n",
    "import pandas as pd\n",
    "import sys\n",
    "import os\n",
    "\n",
    "py.init_notebook_mode(connected=True)\n",
    "config = configparser.ConfigParser()\n",
    "\n",
    "try:\n",
    "    config.read(os.path.relpath(\"config.ini\"))\n",
    "except FileExistsError as e:\n",
    "    print(\"FileExistsError: {}\".format(e))\n",
    "    sys.exit(1)\n",
    "\n",
    "\n",
    "alpaca_api = tradeapi.REST(\n",
    "    base_url    = config[\"alpaca\"][\"APCA_API_BASE_URL\"],\n",
    "    key_id      = config[\"alpaca\"][\"APCA_API_KEY_ID\"],\n",
    "    secret_key  = config[\"alpaca\"][\"APCA_API_SECRET_KEY\"],\n",
    "    api_version = config[\"alpaca\"][\"VERSION\"]\n",
    ")"
   ]
  },
  {
   "cell_type": "code",
   "execution_count": null,
   "metadata": {
    "pycharm": {
     "name": "#%%\n"
    }
   },
   "outputs": [],
   "source": [
    "assets      = AssetSelector(alpaca_api, edgar_token=None).get_assets_by_candlestick_pattern()\n",
    "indicators  = Indicators(alpaca_api, assets).get_cluster()"
   ]
  },
  {
   "cell_type": "code",
   "execution_count": null,
   "metadata": {
    "pycharm": {
     "name": "#%%\n"
    }
   },
   "outputs": [],
   "source": [
    "predictions = Predictor(indicators)"
   ]
  },
  {
   "cell_type": "code",
   "execution_count": null,
   "metadata": {},
   "outputs": [],
   "source": [
    "indicators[\"GEF.B\"].iloc[-20:]"
   ]
  },
  {
   "cell_type": "code",
   "execution_count": null,
   "metadata": {
    "pycharm": {
     "name": "#%%\n"
    }
   },
   "outputs": [],
   "source": [
    "kmeans = KMeans(n_clusters=2)"
   ]
  },
  {
   "cell_type": "code",
   "execution_count": null,
   "metadata": {
    "pycharm": {
     "name": "#%%\n"
    }
   },
   "outputs": [],
   "source": [
    "n_indicators            = pd.DataFrame()\n",
    "n_indicators[\"close\"]   = indicators[\"GEF.B\"][\"close\"].iloc[-20:]\n",
    "n_indicators[\"macd\"]    = indicators[\"GEF.B\"][\"macd\"].iloc[-20:]\n",
    "n_indicators[\"signal\"]  = indicators[\"GEF.B\"][\"signal\"].iloc[-20:]\n",
    "n_indicators[\"mfi\"]     = indicators[\"GEF.B\"][\"mfi\"].iloc[-20:]\n",
    "n_indicators[\"bb_up\"]   = indicators[\"GEF.B\"][\"bb_up\"].iloc[-20:]\n",
    "n_indicators[\"bb_low\"]  = indicators[\"GEF.B\"][\"bb_low\"].iloc[-20:]\n",
    "n_indicators[\"vzo\"]     = indicators[\"GEF.B\"][\"vzo\"].iloc[-20:]\n",
    "n_indicators[\"apz_u\"]   = indicators[\"GEF.B\"][\"apz_u\"].iloc[-20:]\n",
    "n_indicators[\"apz_l\"]   = indicators[\"GEF.B\"][\"apz_l\"].iloc[-20:]\n",
    "n_indicators[\"stoch\"]   = indicators[\"GEF.B\"][\"stoch\"].iloc[-20:]"
   ]
  },
  {
   "cell_type": "code",
   "execution_count": null,
   "metadata": {
    "pycharm": {
     "name": "#%%\n"
    }
   },
   "outputs": [],
   "source": [
    "kmeans.fit(n_indicators)"
   ]
  },
  {
   "cell_type": "code",
   "execution_count": null,
   "metadata": {},
   "outputs": [],
   "source": [
    "kmeans.cluster_centers_"
   ]
  },
  {
   "cell_type": "code",
   "execution_count": null,
   "metadata": {},
   "outputs": [],
   "source": [
    "kmeans.labels_"
   ]
  },
  {
   "cell_type": "code",
   "execution_count": null,
   "metadata": {},
   "outputs": [],
   "source": [
    "f, (ax1, ax2, ax3, ax4) = plt.subplots(1, 4, sharex=True, sharey=False, figsize=(10,6))\n",
    "ax1.set_title('K Means - macd/close')\n",
    "ax1.scatter(n_indicators[\"macd\"], n_indicators[\"close\"], c=kmeans.labels_, cmap=\"rainbow\")\n",
    "ax2.set_title(\"K Means - signal/close\")\n",
    "ax2.scatter(n_indicators[\"signal\"], n_indicators[\"close\"], c=kmeans.labels_, cmap=\"rainbow\")\n",
    "ax3.set_title(\"Original\")\n",
    "ax3.scatter(n_indicators[\"macd\"], n_indicators[\"close\"], c=n_indicators[\"macd\"], cmap=\"rainbow\")\n",
    "ax4.set_title(\"Original\")\n",
    "ax4.scatter(n_indicators[\"signal\"], n_indicators[\"close\"], c=n_indicators[\"signal\"], cmap=\"rainbow\")"
   ]
  },
  {
   "cell_type": "code",
   "execution_count": null,
   "metadata": {
    "pycharm": {
     "name": "#%%\n"
    }
   },
   "outputs": [],
   "source": [
    "f, (ax1, ax2, ax3, ax4) = plt.subplots(1, 4, sharex=True, sharey=True, figsize=(10,6))\n",
    "ax1.set_title('K Means - macd/close')\n",
    "ax1.scatter(n_indicators[\"macd\"], n_indicators[\"close\"], c=kmeans.labels_, cmap=\"rainbow\")\n",
    "ax2.set_title(\"K Means - signal/close\")\n",
    "ax2.scatter(n_indicators[\"signal\"], n_indicators[\"close\"], c=kmeans.labels_, cmap=\"rainbow\")\n",
    "ax3.set_title(\"Original\")\n",
    "ax3.scatter(n_indicators[\"macd\"], n_indicators[\"close\"], c=n_indicators[\"close\"], cmap=\"rainbow\")\n",
    "ax4.set_title(\"Original\")\n",
    "ax4.scatter(n_indicators[\"signal\"], n_indicators[\"close\"], c=n_indicators[\"close\"], cmap=\"rainbow\")"
   ]
  },
  {
   "cell_type": "code",
   "execution_count": null,
   "metadata": {
    "pycharm": {
     "name": "#%%\n"
    }
   },
   "outputs": [],
   "source": [
    "f, (ax3, ax4) = plt.subplots(1, 2, sharex=True, sharey=True,figsize=(10,6))\n",
    "ax3.set_title('K Means - mfi/close')\n",
    "ax3.scatter(n_indicators[\"mfi\"], n_indicators[\"close\"], c=kmeans.labels_, cmap=\"rainbow\")\n",
    "ax4.set_title(\"Original\")\n",
    "ax4.scatter(n_indicators[\"mfi\"], n_indicators[\"close\"], c=n_indicators[\"close\"], cmap=\"rainbow\")"
   ]
  },
  {
   "cell_type": "code",
   "execution_count": null,
   "metadata": {
    "pycharm": {
     "name": "#%%\n"
    }
   },
   "outputs": [],
   "source": [
    "f, (ax5, ax6) = plt.subplots(1, 2, sharex=True, sharey=True,figsize=(10,6))\n",
    "ax5.set_title('K Means - bb_low/mfi')\n",
    "ax5.scatter(n_indicators[\"bb_low\"], n_indicators[\"mfi\"], c=kmeans.labels_, cmap=\"rainbow\")\n",
    "ax6.set_title(\"Original\")\n",
    "ax6.scatter(n_indicators[\"bb_low\"], n_indicators[\"mfi\"], c=n_indicators[\"close\"], cmap=\"rainbow\")"
   ]
  },
  {
   "cell_type": "code",
   "execution_count": null,
   "metadata": {
    "pycharm": {
     "name": "#%%\n"
    }
   },
   "outputs": [],
   "source": [
    "f, (ax7, ax8) = plt.subplots(1, 2, sharex=True, sharey=True,figsize=(10,6))\n",
    "ax7.set_title('K Means - vzo/close')\n",
    "ax7.scatter(n_indicators[\"vzo\"], n_indicators[\"close\"], c=kmeans.labels_, cmap=\"rainbow\")\n",
    "ax8.set_title(\"Original\")\n",
    "ax8.scatter(n_indicators[\"vzo\"], n_indicators[\"close\"], c=n_indicators[\"close\"], cmap=\"rainbow\")"
   ]
  },
  {
   "cell_type": "code",
   "execution_count": null,
   "metadata": {
    "pycharm": {
     "name": "#%%\n"
    }
   },
   "outputs": [],
   "source": [
    "f, (ax9, ax10) = plt.subplots(1, 2, sharex=True, sharey=True,figsize=(10,6))\n",
    "ax9.set_title('K Means - vzo/mfi')\n",
    "ax9.scatter(n_indicators[\"vzo\"], n_indicators[\"mfi\"], c=kmeans.labels_, cmap=\"rainbow\")\n",
    "ax10.set_title(\"Original\")\n",
    "ax10.scatter(n_indicators[\"vzo\"], n_indicators[\"mfi\"], c=n_indicators[\"close\"], cmap=\"rainbow\")"
   ]
  },
  {
   "cell_type": "code",
   "execution_count": null,
   "metadata": {
    "pycharm": {
     "name": "#%%"
    }
   },
   "outputs": [],
   "source": []
  },
  {
   "cell_type": "code",
   "execution_count": null,
   "metadata": {
    "pycharm": {
     "name": "#%%"
    }
   },
   "outputs": [],
   "source": [
    "heatmap = go.Heatmap(\n",
    "    z=n_indicators.iloc[-20:].corr(method='pearson').values,\n",
    "    x=n_indicators.columns,\n",
    "    y=n_indicators.columns,\n",
    "    colorbar=dict(title='Pearson Coefficient'),\n",
    ")\n",
    "\n",
    "layout = go.Layout(title=\"Pearson correlation of indicators\")\n",
    "\n",
    "heatmap['zmax'] = 1.0\n",
    "heatmap['zmin'] = -1.0\n",
    "\n",
    "fig = go.Figure(data=[heatmap], layout=layout)\n",
    "py.iplot(fig)"
   ]
  },
  {
   "cell_type": "code",
   "execution_count": null,
   "metadata": {
    "pycharm": {
     "name": "#%%\n"
    }
   },
   "outputs": [],
   "source": [
    "heatmap = go.Heatmap(\n",
    "    z=n_indicators.iloc[-20:].pct_change().corr(method='pearson').values,\n",
    "    x=n_indicators.columns,\n",
    "    y=n_indicators.columns,\n",
    "    colorbar=dict(title='Pearson Coefficient'),\n",
    ")\n",
    "\n",
    "layout = go.Layout(title=\"Pearson correlation of indicator percentage changes\")\n",
    "\n",
    "heatmap['zmax'] = 1.0\n",
    "heatmap['zmin'] = -1.0\n",
    "\n",
    "fig = go.Figure(data=[heatmap], layout=layout)\n",
    "py.iplot(fig)"
   ]
  },
  {
   "cell_type": "code",
   "execution_count": null,
   "metadata": {
    "pycharm": {
     "name": "#%%\n"
    }
   },
   "outputs": [],
   "source": []
  },
  {
   "cell_type": "code",
   "execution_count": null,
   "metadata": {
    "pycharm": {
     "name": "#%%\n"
    }
   },
   "outputs": [],
   "source": []
  }
 ],
 "metadata": {
  "kernelspec": {
   "display_name": "Python 3",
   "language": "python",
   "name": "python3"
  },
  "language_info": {
   "codemirror_mode": {
    "name": "ipython",
    "version": 3
   },
   "file_extension": ".py",
   "mimetype": "text/x-python",
   "name": "python",
   "nbconvert_exporter": "python",
   "pygments_lexer": "ipython3",
   "version": "3.7.4"
  },
  "pycharm": {
   "stem_cell": {
    "cell_type": "raw",
    "metadata": {
     "collapsed": false
    },
    "source": []
   }
  }
 },
 "nbformat": 4,
 "nbformat_minor": 1
}
