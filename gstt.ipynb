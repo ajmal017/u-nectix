{
 "cells": [
  {
   "cell_type": "code",
   "execution_count": 1,
   "metadata": {
    "pycharm": {
     "is_executing": false
    }
   },
   "outputs": [],
   "source": [
    "from alpaca_test import get_stuff_to_trade\n",
    "import alpaca_trade_api as tradeapi\n",
    "import matplotlib.pyplot as plt\n",
    "import configparser\n",
    "import sys\n",
    "import os\n",
    "%matplotlib inline"
   ]
  },
  {
   "cell_type": "code",
   "execution_count": 5,
   "metadata": {
    "pycharm": {
     "name": "#%%\n"
    }
   },
   "outputs": [
    {
     "name": "stdout",
     "output_type": "stream",
     "text": [
      "Account #:       PA2YJOPZI638\n",
      "Currency:        USD\n",
      "Cash value:      $100000\n",
      "Buying power:    $400000\n",
      "DT count:        0\n",
      "DT buying power: $400000\n",
      "$400000 is available as buying power.\n",
      "Symbol:  ('SWTX', 1355.1796116504854, [25.12, 25.41, 23.86, 23.715, 24.345, 24.37, 24.49, 24.94, 24.725, 25.45, 25.15, 25, 25.05, 25.56, 25.99, 26.305, 25.9, 25.81, 25.375, 24.75, 25.27, 25.51, 24.99, 25.18, 25.365, 25.51, 25.51, 25.5, 25.72, 25.5, 25.1, 25.13, 25.14, 25.25, 25.2, 25.085, 25.2, 25.25, 25.5, 25.1, 25.09, 25.1, 25.09, 24.65, 24.44, 24.635, 24.435, 24.46, 24, 24.415, 24.23, 24, 24.115, 24.105, 23.995, 23.99, 23.665, 23.065, 23.05, 23.72, 23.89, 23.895, 24.07, 24.215, 24.16, 24.025, 24.31, 24.245, 23.92, 23.96, 23.88, 23.97, 23.905, 24.13, 23.99, 24.1, 24.06, 24.31, 24.27, 24.25, 24.425, 24.695, 24.7, 24.595, 24.5, 24.6, 24.64, 24.89, 25.2, 25.35, 25.02, 25.02, 25.05, 25, 25.05, 25.285, 25.35, 25.2, 25.185, 25, 25.15, 25.17, 25, 25, 25.17, 24.725, 24.745, 24.9, 24.825, 24.65, 24.67, 25.095, 25, 24.79, 24.75, 24.87, 24.83, 24.79, 24.68, 25.06, 25.04, 25.3, 25.39, 25.435, 24.72, 25.24, 25.175, 25.05, 25.1, 25.08, 25.08, 25.08, 25.08, 25.07, 25.07, 25.07, 25.07, 25.12, 25.15, 25.22, 25.2, 25.23, 25.25, 25.065, 25.12, 25.03, 24.85, 25.13, 25.2, 25.175, 25.165, 25.165, 25.16, 25.16, 25.16, 25.16, 25, 25.06, 25.06, 25.07, 25.07, 25, 24.82, 24.65, 24.59, 24.525, 24, 24.11, 24.07, 23.81, 23.93, 23.87, 23.74, 23.87, 23.37, 23.51, 23.89, 23.85, 23.765, 23.865, 23.895, 23.8, 23.78, 23.8, 23.76, 23.37, 23.53, 23.5, 23.64, 23.52, 23.5, 23.615, 23.52, 23.55, 23.5, 23.6, 23.77, 23.9, 23.875, 23.855, 23.92, 22.66, 22.925, 22.65, 22.66, 22.72])\n"
     ]
    }
   ],
   "source": [
    "data    = get_stuff_to_trade()\n",
    "symbol  = data[\"symbol\"]\n",
    "ic      = data[\"intraday\"]\n",
    "macd    = data[\"macd\"]\n",
    "rsi     = data[\"rsi\"]\n",
    "roc     = data[\"roc\"]\n",
    "stoc    = data[\"stoc\"]\n",
    "limit   = data[\"limit\"]"
   ]
  },
  {
   "cell_type": "code",
   "execution_count": null,
   "metadata": {
    "pycharm": {
     "name": "#%%\n"
    }
   },
   "outputs": [],
   "source": [
    "ic.plot()"
   ]
  },
  {
   "cell_type": "code",
   "execution_count": null,
   "metadata": {
    "pycharm": {
     "name": "#%%\n"
    }
   },
   "outputs": [],
   "source": [
    "macd.plot()"
   ]
  },
  {
   "cell_type": "code",
   "execution_count": null,
   "metadata": {
    "pycharm": {
     "name": "#%%\n"
    }
   },
   "outputs": [],
   "source": [
    "rsi.plot()"
   ]
  },
  {
   "cell_type": "code",
   "execution_count": null,
   "metadata": {
    "pycharm": {
     "name": "#%%\n"
    }
   },
   "outputs": [],
   "source": [
    "roc.plot()"
   ]
  },
  {
   "cell_type": "code",
   "execution_count": null,
   "metadata": {
    "pycharm": {
     "name": "#%%\n"
    }
   },
   "outputs": [],
   "source": [
    "stoc.plot()"
   ]
  },
  {
   "cell_type": "code",
   "execution_count": null,
   "metadata": {
    "pycharm": {
     "name": "#%%\n"
    }
   },
   "outputs": [],
   "source": [
    "df1 = macd[:100]\n",
    "df2 = ic\n",
    "df3 = rsi[:100]\n",
    "print(df1)\n",
    "df1.index = df2.index\n",
    "print(df2)\n",
    "df1.index = df3.index\n",
    "print(df3)\n",
    "\n",
    "fig, ax1 = plt.subplots()\n",
    "ax1.plot(df1, 'b-')\n",
    "ax2 = ax1.twinx()\n",
    "ax2.plot(df2, 'r-')\n",
    "ax3 = ax1.twinx()\n",
    "ax3.plot(df3, 'r-')\n",
    "plt.title('MACD vs Close Price')\n",
    "plt.show()"
   ]
  },
  {
   "cell_type": "code",
   "execution_count": 3,
   "metadata": {
    "pycharm": {
     "name": "#%%\n"
    }
   },
   "outputs": [],
   "source": [
    "config = configparser.ConfigParser()\n",
    "\n",
    "try:\n",
    "    config.read(os.path.relpath(\"config.ini\"))\n",
    "except FileExistsError as e:\n",
    "    print(\"FileExistsError: {}\".format(e))\n",
    "    sys.exit(1)\n",
    "api                     = tradeapi.REST(\n",
    "    base_url    = config[\"alpaca\"][\"APCA_API_BASE_URL\"],\n",
    "    key_id      = config[\"alpaca\"][\"APCA_API_KEY_ID\"],\n",
    "    secret_key  = config[\"alpaca\"][\"APCA_API_SECRET_KEY\"],\n",
    "    api_version = config[\"alpaca\"][\"VERSION\"]\n",
    ")"
   ]
  },
  {
   "cell_type": "code",
   "execution_count": 8,
   "metadata": {
    "pycharm": {
     "name": "#%%\n"
    }
   },
   "outputs": [
    {
     "name": "stdout",
     "output_type": "stream",
     "text": [
      "RSI:          61.7875\n",
      "Stoch. Osc1:  55.3732\n",
      "Stoch. Osc2:  73.7217\n",
      "MACD:         0.0369\n",
      "ROC:          37.6667\n",
      "all:      False\n"
     ]
    }
   ],
   "source": [
    "print(\"RSI:         \", rsi.iloc[0])\n",
    "print(\"Stoch. Osc1: \", stoc.iloc[0][\"SlowD\"])\n",
    "print(\"Stoch. Osc2: \", stoc.iloc[0][\"SlowK\"])\n",
    "print(\"MACD:        \", macd.iloc[0])\n",
    "print(\"ROC:         \", roc.iloc[0])\n",
    "\n",
    "print(\"all:     \", (rsi.iloc[0] > 80 and stoc.iloc[0] > 80 and macd.iloc[0] > 0 and roc.iloc[0] > 0))"
   ]
  },
  {
   "cell_type": "code",
   "execution_count": null,
   "metadata": {
    "pycharm": {
     "name": "#%%\n"
    }
   },
   "outputs": [],
   "source": [
    "if rsi[0] > 80 and stoc[0] > 80 and macd[0] > 0 and roc[0] > 0:\n",
    "\n",
    "    api.submit_order(\n",
    "        symbol=symbol,\n",
    "        qty=100,\n",
    "        side=\"sell\",\n",
    "        type=\"limit\",\n",
    "        time_in_force=\"opg\",\n",
    "        limit_price=limit\n",
    "    )\n",
    "    "
   ]
  },
  {
   "cell_type": "code",
   "execution_count": null,
   "metadata": {
    "pycharm": {
     "name": "#%%\n"
    }
   },
   "outputs": [],
   "source": [
    "    # Submit a market order to buy 1 share of Apple at market price\n",
    "    # api.submit_order(\n",
    "    #     symbol=\"AAPL\",\n",
    "    #     qty=1,\n",
    "    #     side=\"buy\",\n",
    "    #     type=\"market\",\n",
    "    #     time_in_force=\"gtc\"\n",
    "    # )"
   ]
  }
 ],
 "metadata": {
  "kernelspec": {
   "display_name": "Python 3",
   "language": "python",
   "name": "python3"
  },
  "language_info": {
   "codemirror_mode": {
    "name": "ipython",
    "version": 3
   },
   "file_extension": ".py",
   "mimetype": "text/x-python",
   "name": "python",
   "nbconvert_exporter": "python",
   "pygments_lexer": "ipython3",
   "version": "3.7.4"
  },
  "pycharm": {
   "stem_cell": {
    "cell_type": "raw",
    "metadata": {
     "collapsed": false
    },
    "source": []
   }
  }
 },
 "nbformat": 4,
 "nbformat_minor": 1
}
