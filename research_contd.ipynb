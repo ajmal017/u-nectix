{
 "cells": [
  {
   "cell_type": "code",
   "execution_count": 120,
   "metadata": {
    "pycharm": {
     "is_executing": true
    }
   },
   "outputs": [],
   "source": [
    "from nltk.sentiment.vader import SentimentIntensityAnalyzer\n",
    "from empyrical import max_drawdown, alpha, beta\n",
    "from sklearn.preprocessing import MinMaxScaler\n",
    "from src.asset_selector import AssetSelector\n",
    "from src.indicators import Indicators\n",
    "from util import time_formatter\n",
    "from src.predictor import Predictor\n",
    "from sklearn.cluster import KMeans\n",
    "import alpaca_trade_api as tradeapi\n",
    "import matplotlib.pyplot as plt\n",
    "import plotly.graph_objs as go\n",
    "import plotly.offline as py\n",
    "import pandas as pd\n",
    "import numpy as np\n",
    "import configparser\n",
    "import requests\n",
    "import json\n",
    "import time\n",
    "import sys\n",
    "import os\n",
    "\n",
    "config = configparser.ConfigParser()\n",
    "try:\n",
    "    config.read(os.path.relpath(\"config.ini\"))\n",
    "except FileExistsError as e:\n",
    "    print(\"FileExistsError: {}\".format(e))\n",
    "    sys.exit(1)\n",
    "alpaca_api = tradeapi.REST(\n",
    "    base_url    = config[\"alpaca\"][\"APCA_API_BASE_URL\"],\n",
    "    key_id      = config[\"alpaca\"][\"APCA_API_KEY_ID\"],\n",
    "    secret_key  = config[\"alpaca\"][\"APCA_API_SECRET_KEY\"],\n",
    "    api_version = config[\"alpaca\"][\"VERSION\"]\n",
    ")\n",
    "trading_account = alpaca_api.get_account()\n",
    "sid = SentimentIntensityAnalyzer()"
   ]
  },
  {
   "cell_type": "code",
   "execution_count": 121,
   "metadata": {
    "pycharm": {
     "name": "#%%\n"
    }
   },
   "outputs": [
    {
     "name": "stdout",
     "output_type": "stream",
     "text": [
      "                   Gainers                   \n",
      "\n",
      "Symbol     Last        Change      Pct Gain\n",
      "–––––––––––––––––––––––––––––––––––––––––––––\n",
      "\u0000 0\u0000\u0000\u0000\u0000\u0000\u0000\u0000\u0000 $17724127439749.12 $7648290843740.078 203.926%\n",
      "FPAY       $2.48       $0.72       40.909%\n",
      "EVER       $28.6       $6.83       31.373%\n",
      "FLGT       $12.14      $2.74       29.149%\n",
      "PAVM       $1.02       $0.145      16.571%\n",
      "GEVO       $2.73       $0.34       14.226%\n",
      "CHGG       $33.28      $3.95       13.467%\n",
      "AGRX       $1.96       $0.18       10.112%\n",
      "CCXI       $10.25      $0.89       9.509%\n",
      "TECS       $9.93       $0.86       9.482%\n",
      "RNG        $171.75     $14.1       8.944%\n",
      "MGI        $3.69       $0.29       8.529%\n",
      "RKDA       $5.55       $0.42       8.187%\n",
      "VISL       $0.37       $0.028      8.187%\n",
      "DFFN       $0.6998     $0.05       7.662%\n",
      "NIO        $5.3        $0.37       7.602%\n",
      "PBI        $5.3        $0.37       6.587%\n",
      "USFD       $42.88      $1.24       6.422%\n",
      "TTS        $1.75       $1.24       6.061%\n",
      "TTS        $1.75       $1.49       6.054%\n",
      "WWE        $26.1       $3.19       6.054%\n",
      "\n",
      "                    Losers                   \n",
      "\n",
      "Symbol     Last        Change      Pct Loss\n",
      "–––––––––––––––––––––––––––––––––––––––––––––\n",
      "MYGN       $22.4       $-12.7      -36.182%\n",
      "ATEST.G    $25.01      $-8.47      -25.299%\n",
      "SHAK       $69.65      $-14.56     -17.29%\n",
      "SNCR       $5.41       $-0.89      -14.127%\n",
      "RBZ        $1.22       $-0.18      -12.857%\n",
      "HUD        $11         $-1.42      -11.433%\n",
      "MDR        $1.56       $-0.17      -9.827%\n",
      "CHK        $1.41       $-0.15      -9.615%\n",
      "TNDM       $57.45      $-5.14      -8.212%\n",
      "AEZS       $0.9        $-0.072     -7.36%\n",
      "CEI        $3.05       $-0.23      -7.012%\n",
      "GRPN       $2.79       $-0.21      -7%\n",
      "DGAZ       $86.93      $-5.94      -6.396%\n",
      "MOS        $20         $-1.34      -6.279%\n",
      "UBER       $29.19      $-1.89      -6.081%\n",
      "MTNB       $0.85       $-0.055     -6.036%\n",
      "CHFS       $0.9401     $-0.06      -5.99%\n",
      "DFIN       $10.75      $-0.68      -5.949%\n",
      "DPW        $1.32       $-0.08      -5.714%\n",
      "CHRS       $16.25      $-0.9       -5.248%\n",
      "BKD        $7.3        $-0.34      -4.45%\n"
     ]
    }
   ],
   "source": [
    "def get_sentiment(text):\n",
    "    \"\"\"Given a text block, return a sentiment score based.\n",
    "\n",
    "    :param text:\n",
    "    :return:\n",
    "    \"\"\"\n",
    "    text_polarity   = sid.polarity_scores(text)\n",
    "    print(text_polarity)\n",
    "\n",
    "    if text_polarity[\"compound\"] > 0.50:\n",
    "        sentiment   = \"positive\"\n",
    "\n",
    "    else:\n",
    "        sentiment   = \"negative\"\n",
    "\n",
    "    return sentiment\n",
    "\n",
    "def get_losers():\n",
    "    \n",
    "    print('Losers'.center(45))\n",
    "    print()\n",
    "    print('Symbol'.ljust(10), 'Last'.ljust(11), 'Change'.ljust(11), 'Pct Loss')\n",
    "    print(\"{:<30}\".format('–' * 45))\n",
    "    for symbol in range(len(alpaca_api.polygon.gainers_losers(\"losers\"))):\n",
    "        print(alpaca_api.polygon.gainers_losers(\"losers\")[symbol].ticker.ljust(10),\n",
    "              '$' + str(alpaca_api.polygon.gainers_losers(\"losers\")[symbol].lastTrade['p']).ljust(10),\n",
    "              '$' + str(alpaca_api.polygon.gainers_losers(\"losers\")[symbol].todaysChange).ljust(10),\n",
    "              str(alpaca_api.polygon.gainers_losers(\"losers\")[symbol].todaysChangePerc)+'%')\n",
    "def get_gainers():\n",
    "    print('Gainers'.center(45))\n",
    "    print()\n",
    "    print('Symbol'.ljust(10), 'Last'.ljust(11), 'Change'.ljust(11), 'Pct Gain')\n",
    "    print(\"{:<30}\".format('–' * 45))\n",
    "    for symbol in range(len(alpaca_api.polygon.gainers_losers())):\n",
    "        print(alpaca_api.polygon.gainers_losers()[symbol].ticker.ljust(10),\n",
    "              '$' + str(alpaca_api.polygon.gainers_losers()[symbol].lastTrade['p']).ljust(10),\n",
    "              '$' + str(alpaca_api.polygon.gainers_losers()[symbol].todaysChange).ljust(10),\n",
    "              str(alpaca_api.polygon.gainers_losers()[symbol].todaysChangePerc)+'%')\n",
    "        \n",
    "if __name__ == '__main__':\n",
    "    \n",
    "    get_gainers()\n",
    "    print()\n",
    "    get_losers()"
   ]
  },
  {
   "cell_type": "code",
   "execution_count": 122,
   "metadata": {
    "pycharm": {
     "name": "#%%\n"
    }
   },
   "outputs": [
    {
     "name": "stdout",
     "output_type": "stream",
     "text": [
      "Ticker: BWB\t\tPoolsize: 20\t\tResult Length: 1\n",
      "Ticker: SWIR\t\tPoolsize: 20\t\tResult Length: 2\n",
      "Ticker: CERS\t\tPoolsize: 20\t\tResult Length: 3\n",
      "Ticker: ECL\t\tPoolsize: 20\t\tResult Length: 4\n",
      "Ticker: SBS\t\tPoolsize: 20\t\tResult Length: 5\n",
      "Ticker: ARES\t\tPoolsize: 20\t\tResult Length: 6\n",
      "Ticker: AMN\t\tPoolsize: 20\t\tResult Length: 7\n",
      "Ticker: FTI\t\tPoolsize: 20\t\tResult Length: 8\n",
      "Ticker: FIS\t\tPoolsize: 20\t\tResult Length: 9\n",
      "Ticker: PFFD\t\tPoolsize: 20\t\tResult Length: 10\n",
      "Ticker: VALE\t\tPoolsize: 20\t\tResult Length: 11\n",
      "Ticker: PICO\t\tPoolsize: 20\t\tResult Length: 12\n",
      "Ticker: CIH\t\tPoolsize: 20\t\tResult Length: 13\n",
      "Ticker: TEVA\t\tPoolsize: 20\t\tResult Length: 14\n",
      "Ticker: VREX\t\tPoolsize: 20\t\tResult Length: 15\n",
      "Ticker: BKD\t\tPoolsize: 20\t\tResult Length: 16\n",
      "Ticker: PRLB\t\tPoolsize: 20\t\tResult Length: 17\n",
      "Ticker: RYI\t\tPoolsize: 20\t\tResult Length: 18\n",
      "Ticker: ZUO\t\tPoolsize: 20\t\tResult Length: 19\n",
      "Ticker: OXY\t\tPoolsize: 20\t\tResult Length: 20\n"
     ]
    }
   ],
   "source": [
    "selector    = AssetSelector(alpaca_api, edgar_token=None)\n",
    "assets      = selector.bullish_candlesticks(64, 20)"
   ]
  },
  {
   "cell_type": "code",
   "execution_count": 123,
   "metadata": {
    "pycharm": {
     "name": "#%%\n"
    }
   },
   "outputs": [],
   "source": [
    "ticker = \"SGOL\""
   ]
  },
  {
   "cell_type": "code",
   "execution_count": 124,
   "metadata": {
    "pycharm": {
     "name": "#%%\n"
    }
   },
   "outputs": [],
   "source": [
    "backdate = time_formatter(time.time() - (604800 * 13))"
   ]
  },
  {
   "cell_type": "code",
   "execution_count": 125,
   "metadata": {
    "pycharm": {
     "name": "#%%\n"
    }
   },
   "outputs": [],
   "source": [
    "day_bars = selector.get_barset(ticker, \"day\", backdate)\n",
    "day_bars = selector.extract_bar_data(day_bars, ticker)"
   ]
  },
  {
   "cell_type": "code",
   "execution_count": 126,
   "metadata": {
    "pycharm": {
     "name": "#%%\n"
    }
   },
   "outputs": [],
   "source": [
    "minute_bars = selector.get_barset(ticker, \"minute\", backdate)\n",
    "minute_bars = selector.extract_bar_data(minute_bars, ticker)"
   ]
  },
  {
   "cell_type": "code",
   "execution_count": 127,
   "metadata": {
    "pycharm": {
     "name": "#%%\n"
    }
   },
   "outputs": [
    {
     "data": {
      "text/html": [
       "<div>\n",
       "<style scoped>\n",
       "    .dataframe tbody tr th:only-of-type {\n",
       "        vertical-align: middle;\n",
       "    }\n",
       "\n",
       "    .dataframe tbody tr th {\n",
       "        vertical-align: top;\n",
       "    }\n",
       "\n",
       "    .dataframe thead th {\n",
       "        text-align: right;\n",
       "    }\n",
       "</style>\n",
       "<table border=\"1\" class=\"dataframe\">\n",
       "  <thead>\n",
       "    <tr style=\"text-align: right;\">\n",
       "      <th></th>\n",
       "      <th>time</th>\n",
       "      <th>open</th>\n",
       "      <th>high</th>\n",
       "      <th>low</th>\n",
       "      <th>close</th>\n",
       "      <th>volume</th>\n",
       "    </tr>\n",
       "  </thead>\n",
       "  <tbody>\n",
       "    <tr>\n",
       "      <td>187</td>\n",
       "      <td>2019-11-04 10:37:00-05:00</td>\n",
       "      <td>14.540</td>\n",
       "      <td>14.540</td>\n",
       "      <td>14.540</td>\n",
       "      <td>14.540</td>\n",
       "      <td>300</td>\n",
       "    </tr>\n",
       "    <tr>\n",
       "      <td>188</td>\n",
       "      <td>2019-11-04 10:38:00-05:00</td>\n",
       "      <td>14.540</td>\n",
       "      <td>14.540</td>\n",
       "      <td>14.540</td>\n",
       "      <td>14.540</td>\n",
       "      <td>800</td>\n",
       "    </tr>\n",
       "    <tr>\n",
       "      <td>189</td>\n",
       "      <td>2019-11-04 10:43:00-05:00</td>\n",
       "      <td>14.530</td>\n",
       "      <td>14.530</td>\n",
       "      <td>14.530</td>\n",
       "      <td>14.530</td>\n",
       "      <td>500</td>\n",
       "    </tr>\n",
       "    <tr>\n",
       "      <td>190</td>\n",
       "      <td>2019-11-04 11:08:00-05:00</td>\n",
       "      <td>14.525</td>\n",
       "      <td>14.525</td>\n",
       "      <td>14.525</td>\n",
       "      <td>14.525</td>\n",
       "      <td>1</td>\n",
       "    </tr>\n",
       "    <tr>\n",
       "      <td>191</td>\n",
       "      <td>2019-11-04 14:14:00-05:00</td>\n",
       "      <td>14.520</td>\n",
       "      <td>14.520</td>\n",
       "      <td>14.520</td>\n",
       "      <td>14.520</td>\n",
       "      <td>100</td>\n",
       "    </tr>\n",
       "  </tbody>\n",
       "</table>\n",
       "</div>"
      ],
      "text/plain": [
       "                         time    open    high     low   close  volume\n",
       "187 2019-11-04 10:37:00-05:00  14.540  14.540  14.540  14.540     300\n",
       "188 2019-11-04 10:38:00-05:00  14.540  14.540  14.540  14.540     800\n",
       "189 2019-11-04 10:43:00-05:00  14.530  14.530  14.530  14.530     500\n",
       "190 2019-11-04 11:08:00-05:00  14.525  14.525  14.525  14.525       1\n",
       "191 2019-11-04 14:14:00-05:00  14.520  14.520  14.520  14.520     100"
      ]
     },
     "execution_count": 127,
     "metadata": {},
     "output_type": "execute_result"
    }
   ],
   "source": [
    "minute_bars.tail()"
   ]
  },
  {
   "cell_type": "code",
   "execution_count": 128,
   "metadata": {
    "pycharm": {
     "name": "#%%\n"
    }
   },
   "outputs": [],
   "source": [
    "alpaca_api.polygon.historic_trades(ticker, '2019-10-10', limit=10)\n",
    "alpaca_api.polygon.news(ticker)\n",
    "alpaca_api.polygon.last_trade(ticker)\n",
    "alpaca_api.polygon.last_quote(ticker)\n",
    "alpaca_api.polygon.company(ticker)\n",
    "alpaca_api.polygon.dividends(ticker)"
   ]
  },
  {
   "cell_type": "code",
   "execution_count": 129,
   "metadata": {
    "pycharm": {
     "name": "#%%\n"
    }
   },
   "outputs": [],
   "source": [
    "indicators  = Indicators(alpaca_api, assets)"
   ]
  },
  {
   "cell_type": "code",
   "execution_count": 130,
   "metadata": {},
   "outputs": [],
   "source": [
    "results = requests.post(\"https://api.stocktwits.com/api/2/streams/symbol/{}.json\".format(ticker))\n",
    "results = json.loads(results.text)"
   ]
  },
  {
   "cell_type": "code",
   "execution_count": 131,
   "metadata": {
    "pycharm": {
     "name": "#%%\n"
    }
   },
   "outputs": [
    {
     "data": {
      "text/plain": [
       "{'response': {'status': 200},\n",
       " 'symbol': {'id': 7944,\n",
       "  'symbol': 'SGOL',\n",
       "  'title': 'ETFS Gold Trust',\n",
       "  'aliases': [],\n",
       "  'is_following': False,\n",
       "  'watchlist_count': 322},\n",
       " 'cursor': {'more': True, 'since': 182423655, 'max': 176293496},\n",
       " 'messages': [{'id': 182423655,\n",
       "   'body': '$SGOL / ETFS GOLD Trust files form 8-K - Other Events https://fintel.io/s/us/sgol?utm_source=stocktwits.com&amp;utm_medium=Social&amp;utm_campaign=filing',\n",
       "   'created_at': '2019-11-04T17:39:46Z',\n",
       "   'user': {'id': 127776,\n",
       "    'username': 'risenhoover',\n",
       "    'name': 'Wilton',\n",
       "    'avatar_url': 'https://avatars.stocktwits.com/production/127776/thumb-1384448707.png',\n",
       "    'avatar_url_ssl': 'https://avatars.stocktwits.com/production/127776/thumb-1384448707.png',\n",
       "    'join_date': '2012-01-05',\n",
       "    'official': False,\n",
       "    'identity': 'User',\n",
       "    'classification': [],\n",
       "    'followers': 2408,\n",
       "    'following': 27,\n",
       "    'ideas': 405927,\n",
       "    'watchlist_stocks_count': 1,\n",
       "    'like_count': 1081,\n",
       "    'plus_tier': '',\n",
       "    'premium_room': ''},\n",
       "   'source': {'id': 2883, 'title': 'Fintel.io', 'url': 'https://fintel.io'},\n",
       "   'symbols': [{'id': 7944,\n",
       "     'symbol': 'SGOL',\n",
       "     'title': 'ETFS Gold Trust',\n",
       "     'aliases': [],\n",
       "     'is_following': False,\n",
       "     'watchlist_count': 322}],\n",
       "   'mentioned_users': [],\n",
       "   'entities': {'sentiment': None},\n",
       "   'filters': {'day_counts': 211, 'official_api': False}},\n",
       "  {'id': 182409789,\n",
       "   'body': 'OnNovember  http://www.conferencecalltranscripts.org/8/summary2/?id=7001138 $SGOL',\n",
       "   'created_at': '2019-11-04T16:05:52Z',\n",
       "   'user': {'id': 210967,\n",
       "    'username': 'cctranscripts',\n",
       "    'name': 'Conference Call Transcripts',\n",
       "    'avatar_url': 'https://avatars.stocktwits.com/production/210967/thumb-1363372333.png',\n",
       "    'avatar_url_ssl': 'https://avatars.stocktwits.com/production/210967/thumb-1363372333.png',\n",
       "    'join_date': '2013-01-30',\n",
       "    'official': False,\n",
       "    'identity': 'User',\n",
       "    'classification': [],\n",
       "    'followers': 5180,\n",
       "    'following': 8,\n",
       "    'ideas': 1989733,\n",
       "    'watchlist_stocks_count': 0,\n",
       "    'like_count': 730,\n",
       "    'plus_tier': '',\n",
       "    'premium_room': ''},\n",
       "   'source': {'id': 1130,\n",
       "    'title': 'cctranscripts',\n",
       "    'url': 'http://conferencecalltranscripts.org'},\n",
       "   'symbols': [{'id': 7944,\n",
       "     'symbol': 'SGOL',\n",
       "     'title': 'ETFS Gold Trust',\n",
       "     'aliases': [],\n",
       "     'is_following': False,\n",
       "     'watchlist_count': 322}],\n",
       "   'mentioned_users': [],\n",
       "   'entities': {'sentiment': None},\n",
       "   'filters': {'day_counts': 363, 'official_api': False}},\n",
       "  {'id': 182283811,\n",
       "   'body': '$SGOL / ETFS GOLD Trust files form 424B3 https://fintel.io/filings/us/sgol?utm_source=stocktwits.com&amp;utm_medium=Social&amp;utm_campaign=filing',\n",
       "   'created_at': '2019-11-01T21:43:33Z',\n",
       "   'user': {'id': 127776,\n",
       "    'username': 'risenhoover',\n",
       "    'name': 'Wilton',\n",
       "    'avatar_url': 'https://avatars.stocktwits.com/production/127776/thumb-1384448707.png',\n",
       "    'avatar_url_ssl': 'https://avatars.stocktwits.com/production/127776/thumb-1384448707.png',\n",
       "    'join_date': '2012-01-05',\n",
       "    'official': False,\n",
       "    'identity': 'User',\n",
       "    'classification': [],\n",
       "    'followers': 2408,\n",
       "    'following': 27,\n",
       "    'ideas': 406064,\n",
       "    'watchlist_stocks_count': 1,\n",
       "    'like_count': 1081,\n",
       "    'plus_tier': '',\n",
       "    'premium_room': ''},\n",
       "   'source': {'id': 2883, 'title': 'Fintel.io', 'url': 'https://fintel.io'},\n",
       "   'symbols': [{'id': 7944,\n",
       "     'symbol': 'SGOL',\n",
       "     'title': 'ETFS Gold Trust',\n",
       "     'aliases': [],\n",
       "     'is_following': False,\n",
       "     'watchlist_count': 322}],\n",
       "   'mentioned_users': [],\n",
       "   'entities': {'sentiment': None},\n",
       "   'filters': {'day_counts': 991, 'official_api': False}},\n",
       "  {'id': 182274921,\n",
       "   'body': 'ETFS Gold Trust just filed a prospectus, suggesting it plans to soon issue some securities  http://www.conferencecalltranscripts.org/PROS/summary2/?id=6996237 $SGOL',\n",
       "   'created_at': '2019-11-01T20:22:47Z',\n",
       "   'user': {'id': 210967,\n",
       "    'username': 'cctranscripts',\n",
       "    'name': 'Conference Call Transcripts',\n",
       "    'avatar_url': 'https://avatars.stocktwits.com/production/210967/thumb-1363372333.png',\n",
       "    'avatar_url_ssl': 'https://avatars.stocktwits.com/production/210967/thumb-1363372333.png',\n",
       "    'join_date': '2013-01-30',\n",
       "    'official': False,\n",
       "    'identity': 'User',\n",
       "    'classification': [],\n",
       "    'followers': 5180,\n",
       "    'following': 8,\n",
       "    'ideas': 1990243,\n",
       "    'watchlist_stocks_count': 0,\n",
       "    'like_count': 730,\n",
       "    'plus_tier': '',\n",
       "    'premium_room': ''},\n",
       "   'source': {'id': 1130,\n",
       "    'title': 'cctranscripts',\n",
       "    'url': 'http://conferencecalltranscripts.org'},\n",
       "   'symbols': [{'id': 7944,\n",
       "     'symbol': 'SGOL',\n",
       "     'title': 'ETFS Gold Trust',\n",
       "     'aliases': [],\n",
       "     'is_following': False,\n",
       "     'watchlist_count': 322}],\n",
       "   'links': [{'title': 'Conference Call Transcripts',\n",
       "     'url': 'http://www.conferencecalltranscripts.org/PROS/summary2/?id=6996237',\n",
       "     'shortened_url': 'http://www.conferencecalltranscripts.org/PROS/summary2/?id=6996237',\n",
       "     'shortened_expanded_url': 'conferencecalltranscripts.o...',\n",
       "     'description': 'Get notified next time SGOL.US makes a similar move! ETFS Gold Trust just came out with a new prospectus, available here. This is an SEC requirement for firms looking to issue certain types of securities. An excerpt of the prospectus is provided below: 424B3 1 sgol-424b3_110119.htm PROSPECTUS Filed pursuant to Rule 424(b)(3) Registration Statement No.',\n",
       "     'image': None,\n",
       "     'created_at': '2019-11-01T20:22:56Z',\n",
       "     'video_url': None,\n",
       "     'source': {'name': 'Conferencecalltranscripts',\n",
       "      'website': 'http://www.conferencecalltranscripts.org'}}],\n",
       "   'mentioned_users': [],\n",
       "   'entities': {'sentiment': None},\n",
       "   'filters': {'day_counts': 1375, 'official_api': False}},\n",
       "  {'id': 181440937,\n",
       "   'body': 'Mountain Capital Investment Advisors Inc,has filed Form 13F for Q3 2019.Opened NEW positions in $NKTR $SGOL',\n",
       "   'created_at': '2019-10-25T12:10:21Z',\n",
       "   'user': {'id': 909249,\n",
       "    'username': 'InsiderForms',\n",
       "    'name': 'Insider Forms',\n",
       "    'avatar_url': 'https://avatars.stocktwits.com/production/909249/thumb-1482551759.png',\n",
       "    'avatar_url_ssl': 'https://avatars.stocktwits.com/production/909249/thumb-1482551759.png',\n",
       "    'join_date': '2016-12-24',\n",
       "    'official': False,\n",
       "    'identity': 'User',\n",
       "    'classification': [],\n",
       "    'followers': 2043,\n",
       "    'following': 2,\n",
       "    'ideas': 184185,\n",
       "    'watchlist_stocks_count': 1,\n",
       "    'like_count': 0,\n",
       "    'plus_tier': '',\n",
       "    'premium_room': ''},\n",
       "   'source': {'id': 3019,\n",
       "    'title': 'Insider Forms',\n",
       "    'url': 'http://stocktwits.com/InsiderForms'},\n",
       "   'symbols': [{'id': 2860,\n",
       "     'symbol': 'NKTR',\n",
       "     'title': 'Nektar Therapeutics',\n",
       "     'aliases': [],\n",
       "     'is_following': False,\n",
       "     'watchlist_count': 6252},\n",
       "    {'id': 7944,\n",
       "     'symbol': 'SGOL',\n",
       "     'title': 'ETFS Gold Trust',\n",
       "     'aliases': [],\n",
       "     'is_following': False,\n",
       "     'watchlist_count': 322}],\n",
       "   'mentioned_users': [],\n",
       "   'entities': {'sentiment': None},\n",
       "   'filters': {'day_counts': 69, 'official_api': False}},\n",
       "  {'id': 180568727,\n",
       "   'body': 'SimpliFi Inc.,has filed Form 13F for Q3 2019.Opened NEW positions in $SGOL $SUSC',\n",
       "   'created_at': '2019-10-16T19:10:40Z',\n",
       "   'user': {'id': 909249,\n",
       "    'username': 'InsiderForms',\n",
       "    'name': 'Insider Forms',\n",
       "    'avatar_url': 'https://avatars.stocktwits.com/production/909249/thumb-1482551759.png',\n",
       "    'avatar_url_ssl': 'https://avatars.stocktwits.com/production/909249/thumb-1482551759.png',\n",
       "    'join_date': '2016-12-24',\n",
       "    'official': False,\n",
       "    'identity': 'User',\n",
       "    'classification': [],\n",
       "    'followers': 2043,\n",
       "    'following': 2,\n",
       "    'ideas': 184117,\n",
       "    'watchlist_stocks_count': 1,\n",
       "    'like_count': 0,\n",
       "    'plus_tier': '',\n",
       "    'premium_room': ''},\n",
       "   'source': {'id': 3019,\n",
       "    'title': 'Insider Forms',\n",
       "    'url': 'http://stocktwits.com/InsiderForms'},\n",
       "   'symbols': [{'id': 7944,\n",
       "     'symbol': 'SGOL',\n",
       "     'title': 'ETFS Gold Trust',\n",
       "     'aliases': [],\n",
       "     'is_following': False,\n",
       "     'watchlist_count': 322}],\n",
       "   'mentioned_users': [],\n",
       "   'entities': {'sentiment': None},\n",
       "   'filters': {'day_counts': 78, 'official_api': False}},\n",
       "  {'id': 180524203,\n",
       "   'body': 'Financial Services Advisory Inc,has filed Form 13F for Q3 2019.Opened NEW positions in $DEF $IAU $SGOL',\n",
       "   'created_at': '2019-10-16T14:40:20Z',\n",
       "   'user': {'id': 909249,\n",
       "    'username': 'InsiderForms',\n",
       "    'name': 'Insider Forms',\n",
       "    'avatar_url': 'https://avatars.stocktwits.com/production/909249/thumb-1482551759.png',\n",
       "    'avatar_url_ssl': 'https://avatars.stocktwits.com/production/909249/thumb-1482551759.png',\n",
       "    'join_date': '2016-12-24',\n",
       "    'official': False,\n",
       "    'identity': 'User',\n",
       "    'classification': [],\n",
       "    'followers': 2043,\n",
       "    'following': 2,\n",
       "    'ideas': 184111,\n",
       "    'watchlist_stocks_count': 1,\n",
       "    'like_count': 0,\n",
       "    'plus_tier': '',\n",
       "    'premium_room': ''},\n",
       "   'source': {'id': 3019,\n",
       "    'title': 'Insider Forms',\n",
       "    'url': 'http://stocktwits.com/InsiderForms'},\n",
       "   'symbols': [{'id': 4943,\n",
       "     'symbol': 'DEF',\n",
       "     'title': 'Guggenheim Defensive Equity',\n",
       "     'aliases': [],\n",
       "     'is_following': False,\n",
       "     'watchlist_count': 50},\n",
       "    {'id': 5783,\n",
       "     'symbol': 'IAU',\n",
       "     'title': 'iShares Gold Trust',\n",
       "     'aliases': [],\n",
       "     'is_following': False,\n",
       "     'watchlist_count': 2341},\n",
       "    {'id': 7944,\n",
       "     'symbol': 'SGOL',\n",
       "     'title': 'ETFS Gold Trust',\n",
       "     'aliases': [],\n",
       "     'is_following': False,\n",
       "     'watchlist_count': 322}],\n",
       "   'mentioned_users': [],\n",
       "   'entities': {'sentiment': None},\n",
       "   'filters': {'day_counts': 104, 'official_api': False}},\n",
       "  {'id': 180138527,\n",
       "   'body': '$SGOL / ETFS GOLD Trust files form 8-K - Financial Statements and Exhibits, Other Events https://fintel.io/s/us/sgol?utm_source=stocktwits.com&amp;utm_medium=Social&amp;utm_campaign=filing',\n",
       "   'created_at': '2019-10-11T14:25:02Z',\n",
       "   'user': {'id': 127776,\n",
       "    'username': 'risenhoover',\n",
       "    'name': 'Wilton',\n",
       "    'avatar_url': 'https://avatars.stocktwits.com/production/127776/thumb-1384448707.png',\n",
       "    'avatar_url_ssl': 'https://avatars.stocktwits.com/production/127776/thumb-1384448707.png',\n",
       "    'join_date': '2012-01-05',\n",
       "    'official': False,\n",
       "    'identity': 'User',\n",
       "    'classification': [],\n",
       "    'followers': 2409,\n",
       "    'following': 27,\n",
       "    'ideas': 406514,\n",
       "    'watchlist_stocks_count': 1,\n",
       "    'like_count': 1081,\n",
       "    'plus_tier': '',\n",
       "    'premium_room': ''},\n",
       "   'source': {'id': 2883, 'title': 'Fintel.io', 'url': 'https://fintel.io'},\n",
       "   'symbols': [{'id': 7944,\n",
       "     'symbol': 'SGOL',\n",
       "     'title': 'ETFS Gold Trust',\n",
       "     'aliases': [],\n",
       "     'is_following': False,\n",
       "     'watchlist_count': 322}],\n",
       "   'mentioned_users': [],\n",
       "   'entities': {'sentiment': None},\n",
       "   'filters': {'day_counts': 453, 'official_api': False}},\n",
       "  {'id': 180138054,\n",
       "   'body': '$SGOL just filed a Financial Exhibit https://last10k.com/sec-filings/sgol/0001387131-19-007574.htm?utm_source=stocktwits&amp;utm_medium=forum&amp;utm_campaign=8K&amp;utm_term=sgol',\n",
       "   'created_at': '2019-10-11T14:22:47Z',\n",
       "   'user': {'id': 1409376,\n",
       "    'username': 'Last10K',\n",
       "    'name': 'Last10K.com',\n",
       "    'avatar_url': 'https://avatars.stocktwits.com/production/1409376/thumb-1559672751.png',\n",
       "    'avatar_url_ssl': 'https://avatars.stocktwits.com/production/1409376/thumb-1559672751.png',\n",
       "    'join_date': '2018-02-13',\n",
       "    'official': False,\n",
       "    'identity': 'User',\n",
       "    'classification': [],\n",
       "    'followers': 606,\n",
       "    'following': 0,\n",
       "    'ideas': 138920,\n",
       "    'watchlist_stocks_count': 0,\n",
       "    'like_count': 200,\n",
       "    'plus_tier': '',\n",
       "    'premium_room': ''},\n",
       "   'source': {'id': 3968, 'title': 'Last10K', 'url': 'https://last10k.com'},\n",
       "   'symbols': [{'id': 7944,\n",
       "     'symbol': 'SGOL',\n",
       "     'title': 'ETFS Gold Trust',\n",
       "     'aliases': [],\n",
       "     'is_following': False,\n",
       "     'watchlist_count': 322}],\n",
       "   'links': [{'title': 'Aberdeen Standard Gold Etf Trust (SGOL) 10K Annual Reports & 10Q SEC Filings | Last10K',\n",
       "     'url': 'https://last10k.com/sec-filings/sgol/0001387131-19-007574.htm?utm_source=stocktwits&utm_medium=forum&utm_campaign=8K&utm_term=sgol',\n",
       "     'shortened_url': 'https://last10k.com/sec-filings/sgol/0001387131-19-007574.htm?utm_source=stocktwits&utm_medium=forum&utm_campaign=8K&utm_term=sgol',\n",
       "     'shortened_expanded_url': 'last10k.com/sec-filings/sgol',\n",
       "     'description': 'Analyze up to 10 years of full 10K Annual Reports and Quarterly 10Q SEC filings for Aberdeen Standard Gold Etf Trust (SGOL) using our online tools.',\n",
       "     'image': 'https://last10k.com/wp-content/uploads/compare.png',\n",
       "     'created_at': '2019-10-11T14:22:50Z',\n",
       "     'video_url': None,\n",
       "     'source': {'name': 'Last10K', 'website': 'https://last10k.com'}}],\n",
       "   'mentioned_users': [],\n",
       "   'entities': {'sentiment': None},\n",
       "   'filters': {'day_counts': 134, 'official_api': False}},\n",
       "  {'id': 180137217,\n",
       "   'body': 'ETFS Gold: Aberdeen Standard Gold Etf Trust 8-K Exhibit99.1 PRESS    RELEASE  http://www.conferencecalltranscripts.org/8/summary/?id=6913289 $SGOL',\n",
       "   'created_at': '2019-10-11T14:18:13Z',\n",
       "   'user': {'id': 210967,\n",
       "    'username': 'cctranscripts',\n",
       "    'name': 'Conference Call Transcripts',\n",
       "    'avatar_url': 'https://avatars.stocktwits.com/production/210967/thumb-1363372333.png',\n",
       "    'avatar_url_ssl': 'https://avatars.stocktwits.com/production/210967/thumb-1363372333.png',\n",
       "    'join_date': '2013-01-30',\n",
       "    'official': False,\n",
       "    'identity': 'User',\n",
       "    'classification': [],\n",
       "    'followers': 5180,\n",
       "    'following': 8,\n",
       "    'ideas': 1989831,\n",
       "    'watchlist_stocks_count': 0,\n",
       "    'like_count': 730,\n",
       "    'plus_tier': '',\n",
       "    'premium_room': ''},\n",
       "   'source': {'id': 1130,\n",
       "    'title': 'cctranscripts',\n",
       "    'url': 'http://conferencecalltranscripts.org'},\n",
       "   'symbols': [{'id': 7944,\n",
       "     'symbol': 'SGOL',\n",
       "     'title': 'ETFS Gold Trust',\n",
       "     'aliases': [],\n",
       "     'is_following': False,\n",
       "     'watchlist_count': 322}],\n",
       "   'links': [{'title': 'Conference Call Transcripts',\n",
       "     'url': 'http://www.conferencecalltranscripts.org/8/summary/?id=6913289',\n",
       "     'shortened_url': 'http://www.conferencecalltranscripts.org/8/summary/?id=6913289',\n",
       "     'shortened_expanded_url': 'conferencecalltranscripts.o...',\n",
       "     'description': \"Get notified next time SGOL.US makes a similar move! The following excerpt is from the company's SEC filing . For immediate release October 11, 2019 ABERDEEN STANDARD INVESTMENTS ANNOUNCES 10 FOR 1 FORWARD SHARE SPLIT OF GOLD EXCHANGE TRADED FUND (SGOL) Aberdeen Standard Investments announced today a 10 for 1 forward share split for the Aberdeen Standard Physical Gold Shares ETF (NYSE Arca: SGOL).\",\n",
       "     'image': None,\n",
       "     'created_at': '2019-10-11T14:18:23Z',\n",
       "     'video_url': None,\n",
       "     'source': {'name': 'Conferencecalltranscripts',\n",
       "      'website': 'http://www.conferencecalltranscripts.org'}}],\n",
       "   'mentioned_users': [],\n",
       "   'entities': {'sentiment': None},\n",
       "   'filters': {'day_counts': 754, 'official_api': False}},\n",
       "  {'id': 180118979,\n",
       "   'body': '$SGOL 6.0m ago: Aberdeen Standard Investments Announces 10 For 1 Forward Share Split Of Gold Exchange Traded Fund (SGOL)[1] https://www.prnewswire.com:443/news-releases/aberdeen-standard-investments-announces-10-for-1-forward-share-split-of-gold-exchange-traded-fund-sgol1-300936946.html',\n",
       "   'created_at': '2019-10-11T12:10:59Z',\n",
       "   'user': {'id': 1277938,\n",
       "    'username': 'livetraderalerts',\n",
       "    'name': 'LiveTraderAlerts.com News feed',\n",
       "    'avatar_url': 'https://avatars.stocktwits.com/production/1277938/thumb-1526067389.png',\n",
       "    'avatar_url_ssl': 'https://avatars.stocktwits.com/production/1277938/thumb-1526067389.png',\n",
       "    'join_date': '2017-11-22',\n",
       "    'official': False,\n",
       "    'identity': 'User',\n",
       "    'classification': [],\n",
       "    'followers': 3193,\n",
       "    'following': 6,\n",
       "    'ideas': 434260,\n",
       "    'watchlist_stocks_count': 3,\n",
       "    'like_count': 3,\n",
       "    'plus_tier': 'life',\n",
       "    'premium_room': ''},\n",
       "   'source': {'id': 3746,\n",
       "    'title': 'LiveTraderAlerts.com',\n",
       "    'url': 'https://LiveTraderAlerts.com'},\n",
       "   'symbols': [{'id': 7944,\n",
       "     'symbol': 'SGOL',\n",
       "     'title': 'ETFS Gold Trust',\n",
       "     'aliases': [],\n",
       "     'is_following': False,\n",
       "     'watchlist_count': 322}],\n",
       "   'links': [{'title': 'Aberdeen Standard Investments Announces 10 For 1 Forward Share Split Of Gold Exchange Traded Fund (SGOL)[1]',\n",
       "     'url': 'https://www.prnewswire.com:443/news-releases/aberdeen-standard-investments-announces-10-for-1-forward-share-split-of-gold-exchange-traded-fund-sgol1-300936946.html',\n",
       "     'shortened_url': 'https://www.prnewswire.com:443/news-releases/aberdeen-standard-investments-announces-10-for-1-forward-share-split-of-gold-exchange-traded-fund-sgol1-300936946.html',\n",
       "     'shortened_expanded_url': 'prnewswire.com/news-release...',\n",
       "     'description': 'PHILADELPHIA, Oct. 11, 2019 /PRNewswire/ -- Aberdeen Standard Investments announced today a 10 for 1 forward share split for the Aberdeen Standard Physical...',\n",
       "     'image': 'https://www.prnewswire.com/content/dam/prnewswire/homepage/prn_cision_logo_desktop.png',\n",
       "     'created_at': '2019-10-11T12:11:03Z',\n",
       "     'video_url': None,\n",
       "     'source': {'name': 'Prnewswire',\n",
       "      'website': 'https://www.prnewswire.com'}}],\n",
       "   'mentioned_users': [],\n",
       "   'entities': {'sentiment': None},\n",
       "   'filters': {'day_counts': 832, 'official_api': False}},\n",
       "  {'id': 179645535,\n",
       "   'body': 'What is the best Gold ETF?  $GLD $IAU $SGOL  Personally I like $GLDM best.  http://www.dividendincomefreedom.com/2019/10/06/the-best-gold-etf/',\n",
       "   'created_at': '2019-10-07T01:44:18Z',\n",
       "   'user': {'id': 2846385,\n",
       "    'username': 'DividendIncomeFreedom',\n",
       "    'name': 'Dividend IncomeFreedom',\n",
       "    'avatar_url': 'https://avatars.stocktwits.com/production/2846385/thumb-1570412493.png',\n",
       "    'avatar_url_ssl': 'https://avatars.stocktwits.com/production/2846385/thumb-1570412493.png',\n",
       "    'join_date': '2019-10-07',\n",
       "    'official': False,\n",
       "    'identity': 'User',\n",
       "    'classification': [],\n",
       "    'followers': 1,\n",
       "    'following': 2,\n",
       "    'ideas': 14,\n",
       "    'watchlist_stocks_count': 3,\n",
       "    'like_count': 0,\n",
       "    'plus_tier': '',\n",
       "    'premium_room': ''},\n",
       "   'source': {'id': 2269,\n",
       "    'title': 'StockTwits Web',\n",
       "    'url': 'https://stocktwits.com'},\n",
       "   'symbols': [{'id': 5539,\n",
       "     'symbol': 'GLD',\n",
       "     'title': 'SPDR Gold Shares',\n",
       "     'aliases': [],\n",
       "     'is_following': False,\n",
       "     'watchlist_count': 40277},\n",
       "    {'id': 5783,\n",
       "     'symbol': 'IAU',\n",
       "     'title': 'iShares Gold Trust',\n",
       "     'aliases': [],\n",
       "     'is_following': False,\n",
       "     'watchlist_count': 2341},\n",
       "    {'id': 7944,\n",
       "     'symbol': 'SGOL',\n",
       "     'title': 'ETFS Gold Trust',\n",
       "     'aliases': [],\n",
       "     'is_following': False,\n",
       "     'watchlist_count': 320}],\n",
       "   'links': [{'title': 'Early Retirement Through Passive Income',\n",
       "     'url': 'http://www.dividendincomefreedom.com/2019/10/06/the-best-gold-etf/',\n",
       "     'shortened_url': 'http://www.dividendincomefreedom.com/2019/10/06/the-best-gold-etf/',\n",
       "     'shortened_expanded_url': 'dividendincomefreedom.com/2...',\n",
       "     'description': 'When deciding what Gold ETF to buy with the looming recession, it is easy to chose the one with the lowest expense ratio. On the other hand this ETF might be illiquid and hard to trade large volume. After reviewing the data I have determined that GLD, IAU, SGOL, and GLDM are the best for holding as part of your portfolio.',\n",
       "     'image': None,\n",
       "     'created_at': '2019-10-07T01:44:19Z',\n",
       "     'video_url': None,\n",
       "     'source': {'name': 'Dividendincomefreedom',\n",
       "      'website': 'http://www.dividendincomefreedom.com'}}],\n",
       "   'mentioned_users': [],\n",
       "   'entities': {'sentiment': {'basic': 'Bullish'}},\n",
       "   'filters': {'day_counts': 1, 'official_api': True}},\n",
       "  {'id': 179586341,\n",
       "   'body': '$SGOL  $SIVR  During the 6 month rally: \\n \\n Silver ran up 30% \\nGold ran up 20% \\nBoth are up 16% now.',\n",
       "   'created_at': '2019-10-04T23:25:36Z',\n",
       "   'user': {'id': 1227808,\n",
       "    'username': 'gotachance',\n",
       "    'name': 'gotachance',\n",
       "    'avatar_url': 'https://avatars.stocktwits.com/production/1227808/thumb-1515271481.png',\n",
       "    'avatar_url_ssl': 'https://avatars.stocktwits.com/production/1227808/thumb-1515271481.png',\n",
       "    'join_date': '2017-10-15',\n",
       "    'official': False,\n",
       "    'identity': 'User',\n",
       "    'classification': [],\n",
       "    'followers': 69,\n",
       "    'following': 31,\n",
       "    'ideas': 5977,\n",
       "    'watchlist_stocks_count': 45,\n",
       "    'like_count': 3981,\n",
       "    'plus_tier': '',\n",
       "    'premium_room': ''},\n",
       "   'source': {'id': 2269,\n",
       "    'title': 'StockTwits Web',\n",
       "    'url': 'https://stocktwits.com'},\n",
       "   'symbols': [{'id': 7944,\n",
       "     'symbol': 'SGOL',\n",
       "     'title': 'ETFS Gold Trust',\n",
       "     'aliases': [],\n",
       "     'is_following': False,\n",
       "     'watchlist_count': 322},\n",
       "    {'id': 8223,\n",
       "     'symbol': 'SIVR',\n",
       "     'title': 'ETFS Physical Silver Shares',\n",
       "     'aliases': [],\n",
       "     'is_following': False,\n",
       "     'watchlist_count': 378}],\n",
       "   'likes': {'total': 2, 'user_ids': [216377, 893205]},\n",
       "   'mentioned_users': [],\n",
       "   'entities': {'chart': {'thumb': 'https://charts.stocktwits.com/production/small_179586341.png',\n",
       "     'large': 'https://charts.stocktwits.com/production/large_179586341.png',\n",
       "     'original': 'https://charts.stocktwits.com/production/original_179586341.png',\n",
       "     'url': 'https://charts.stocktwits.com/production/original_179586341.png'},\n",
       "    'sentiment': None},\n",
       "   'filters': {'day_counts': 51, 'official_api': True}},\n",
       "  {'id': 179549501,\n",
       "   'body': '2019-10-03 Short sale volume (not short interest) for $SGOL is 95%. http://shortvolumes.com/?t=SGOL via @shortvolumes',\n",
       "   'created_at': '2019-10-04T17:31:35Z',\n",
       "   'user': {'id': 1246819,\n",
       "    'username': 'shortvolumes',\n",
       "    'name': 'shortvolumes',\n",
       "    'avatar_url': 'https://avatars.stocktwits.com/production/1246819/thumb-1511564141.png',\n",
       "    'avatar_url_ssl': 'https://avatars.stocktwits.com/production/1246819/thumb-1511564141.png',\n",
       "    'join_date': '2017-10-30',\n",
       "    'official': False,\n",
       "    'identity': 'User',\n",
       "    'classification': [],\n",
       "    'followers': 1903,\n",
       "    'following': 61,\n",
       "    'ideas': 139336,\n",
       "    'watchlist_stocks_count': 0,\n",
       "    'like_count': 3,\n",
       "    'plus_tier': '',\n",
       "    'premium_room': ''},\n",
       "   'source': {'id': 3702,\n",
       "    'title': 'shortvolumes',\n",
       "    'url': 'http://shortvolumes.com'},\n",
       "   'symbols': [{'id': 7944,\n",
       "     'symbol': 'SGOL',\n",
       "     'title': 'ETFS Gold Trust',\n",
       "     'aliases': [],\n",
       "     'is_following': False,\n",
       "     'watchlist_count': 322}],\n",
       "   'links': [{'title': 'Daily short sale volume percent for stock ticker SGOL is 95% on Oct 03, 2019',\n",
       "     'url': 'http://shortvolumes.com/?t=SGOL',\n",
       "     'shortened_url': 'http://shortvolumes.com/?t=SGOL',\n",
       "     'shortened_expanded_url': 'shortvolumes.com/?t=SGOL',\n",
       "     'description': 'Daily short sale volume for stock ticker SGOL is 95% on Oct 03, 2019. The short sale volume percent is up 21% compare to Oct 02, 2019.',\n",
       "     'image': None,\n",
       "     'created_at': '2019-10-04T17:31:37Z',\n",
       "     'video_url': None,\n",
       "     'source': {'name': 'Shortvolumes',\n",
       "      'website': 'http://shortvolumes.com'}}],\n",
       "   'mentioned_users': ['@shortvolumes'],\n",
       "   'entities': {'sentiment': None},\n",
       "   'filters': {'day_counts': 240, 'official_api': False}},\n",
       "  {'id': 179400337,\n",
       "   'body': '$SGOL - http://www.trade-ideas.com/ticky/ticky.html?symbol=SGOL - There it is, the pullback...time to get set - Running down: -0.35 in 89 seconds',\n",
       "   'created_at': '2019-10-03T14:09:32Z',\n",
       "   'user': {'id': 116462,\n",
       "    'username': 'TradeIdeasQuant',\n",
       "    'name': 'Trade-Ideas Quant',\n",
       "    'avatar_url': 'https://avatars.stocktwits.com/production/116462/thumb-1458241309.png',\n",
       "    'avatar_url_ssl': 'https://avatars.stocktwits.com/production/116462/thumb-1458241309.png',\n",
       "    'join_date': '2011-11-07',\n",
       "    'official': True,\n",
       "    'identity': 'Official',\n",
       "    'classification': ['official'],\n",
       "    'followers': 41356,\n",
       "    'following': 5,\n",
       "    'ideas': 213380,\n",
       "    'watchlist_stocks_count': 0,\n",
       "    'like_count': 0,\n",
       "    'plus_tier': '',\n",
       "    'premium_room': ''},\n",
       "   'source': {'id': 1008,\n",
       "    'title': 'TI Pro Collaboration',\n",
       "    'url': 'http://trade-ideas.com'},\n",
       "   'symbols': [{'id': 7944,\n",
       "     'symbol': 'SGOL',\n",
       "     'title': 'ETFS Gold Trust',\n",
       "     'aliases': [],\n",
       "     'is_following': False,\n",
       "     'watchlist_count': 322}],\n",
       "   'links': [{'title': 'TI Ticky - Find out what the market really thinks! p',\n",
       "     'url': 'http://www.trade-ideas.com/ticky/ticky.html?symbol=SGOL',\n",
       "     'shortened_url': 'http://www.trade-ideas.com/ticky/ticky.html?symbol=SGOL',\n",
       "     'shortened_expanded_url': 'trade-ideas.com/ticky/ticky...',\n",
       "     'description': \"Trade Ideas Finds Your Next Trade in Aberdeen Standard Physical Swiss Gold Shares ETF THURSDAY 09:48:52am Aberdeen Standard Physical Swiss Gold Shares ETF SCoRE: 66 Learn about the SCoRE EXCHANGE ARCA Sector Finance and Insurance Sub Sector Funds, Trusts, and Other Financial Vehicles Industry Group Other Investment Pools and Funds Industry Other Financial Vehicles LAST PRICE - 09:48am SGOL is trading UP +$0.16 or +0.1% from yesterday's close of $144.40.\",\n",
       "     'image': None,\n",
       "     'created_at': '2019-10-03T14:09:35Z',\n",
       "     'video_url': None,\n",
       "     'source': {'name': 'Trade-ideas',\n",
       "      'website': 'https://www.trade-ideas.com'}}],\n",
       "   'mentioned_users': [],\n",
       "   'entities': {'sentiment': None},\n",
       "   'filters': {'day_counts': 100, 'official_api': False}},\n",
       "  {'id': 179154177,\n",
       "   'body': '$GLDM $GLD $SGOL $BAR In 2019, no one should need any convincing that advisors and investors love cheap exchange traded funds. Usually, it&#39;s a case of “the cheaper, the better.” What Happened For the uninitiated, the latest example of cheap works is .. https://newsfilter.io/articles/a-cheap-gold-etf-joins-the-1b-club-c3af4d25ded7458a813795e4afd1a037',\n",
       "   'created_at': '2019-10-01T15:58:31Z',\n",
       "   'user': {'id': 2762379,\n",
       "    'username': 'newsfilter',\n",
       "    'name': '@newsfilterio',\n",
       "    'avatar_url': 'https://avatars.stocktwits.com/production/2762379/thumb-1570180226.png',\n",
       "    'avatar_url_ssl': 'https://avatars.stocktwits.com/production/2762379/thumb-1570180226.png',\n",
       "    'join_date': '2019-09-01',\n",
       "    'official': False,\n",
       "    'identity': 'User',\n",
       "    'classification': [],\n",
       "    'followers': 552,\n",
       "    'following': 0,\n",
       "    'ideas': 62637,\n",
       "    'watchlist_stocks_count': 1,\n",
       "    'like_count': 55,\n",
       "    'plus_tier': 'month',\n",
       "    'premium_room': ''},\n",
       "   'source': {'id': 4948,\n",
       "    'title': 'Newsfilter.io',\n",
       "    'url': 'https://newsfilter.io'},\n",
       "   'symbols': [{'id': 5539,\n",
       "     'symbol': 'GLD',\n",
       "     'title': 'SPDR Gold Shares',\n",
       "     'aliases': [],\n",
       "     'is_following': False,\n",
       "     'watchlist_count': 40278},\n",
       "    {'id': 7944,\n",
       "     'symbol': 'SGOL',\n",
       "     'title': 'ETFS Gold Trust',\n",
       "     'aliases': [],\n",
       "     'is_following': False,\n",
       "     'watchlist_count': 321},\n",
       "    {'id': 11918,\n",
       "     'symbol': 'BAR',\n",
       "     'title': 'GraniteShares Gold Trust',\n",
       "     'aliases': [],\n",
       "     'is_following': False,\n",
       "     'watchlist_count': 55}],\n",
       "   'links': [{'title': 'A Cheap Gold ETF Joins The $1B Club',\n",
       "     'url': 'https://newsfilter.io/articles/a-cheap-gold-etf-joins-the-1b-club-c3af4d25ded7458a813795e4afd1a037',\n",
       "     'shortened_url': 'https://newsfilter.io/articles/a-cheap-gold-etf-joins-the-1b-club-c3af4d25ded7458a813795e4afd1a037',\n",
       "     'shortened_expanded_url': 'newsfilter.io/articles/a-ch...',\n",
       "     'description': 'GLDM $GLD $SGOL $BAR In 2019, no one should need any convincing that advisors and investors love cheap exchange traded funds. Usually, it\\'s a case of \"the cheaper, the better.\" What Happened For the uninitiated, the latest example of cheap works is ..',\n",
       "     'image': 'https://pbs.twimg.com/profile_images/292857657/GreenGrowth_normal.jpg',\n",
       "     'created_at': '2019-10-01T15:58:34Z',\n",
       "     'video_url': None,\n",
       "     'source': {'name': 'Newsfilter', 'website': 'https://newsfilter.io'}}],\n",
       "   'mentioned_users': [],\n",
       "   'entities': {'sentiment': None},\n",
       "   'filters': {'day_counts': 1817, 'official_api': False}},\n",
       "  {'id': 178393233,\n",
       "   'body': '$SGOL $SPY  \\n \\nGold support around 1500. Barely back in channel.',\n",
       "   'created_at': '2019-09-23T23:38:02Z',\n",
       "   'user': {'id': 1227808,\n",
       "    'username': 'gotachance',\n",
       "    'name': 'gotachance',\n",
       "    'avatar_url': 'https://avatars.stocktwits.com/production/1227808/thumb-1515271481.png',\n",
       "    'avatar_url_ssl': 'https://avatars.stocktwits.com/production/1227808/thumb-1515271481.png',\n",
       "    'join_date': '2017-10-15',\n",
       "    'official': False,\n",
       "    'identity': 'User',\n",
       "    'classification': [],\n",
       "    'followers': 68,\n",
       "    'following': 31,\n",
       "    'ideas': 5968,\n",
       "    'watchlist_stocks_count': 45,\n",
       "    'like_count': 3979,\n",
       "    'plus_tier': '',\n",
       "    'premium_room': ''},\n",
       "   'source': {'id': 2269,\n",
       "    'title': 'StockTwits Web',\n",
       "    'url': 'https://stocktwits.com'},\n",
       "   'symbols': [{'id': 7271,\n",
       "     'symbol': 'SPY',\n",
       "     'title': 'SPDR S&P 500',\n",
       "     'aliases': [],\n",
       "     'is_following': False,\n",
       "     'watchlist_count': 145676},\n",
       "    {'id': 7944,\n",
       "     'symbol': 'SGOL',\n",
       "     'title': 'ETFS Gold Trust',\n",
       "     'aliases': [],\n",
       "     'is_following': False,\n",
       "     'watchlist_count': 322}],\n",
       "   'mentioned_users': [],\n",
       "   'entities': {'chart': {'thumb': 'https://charts.stocktwits.com/production/small_178393233.png',\n",
       "     'large': 'https://charts.stocktwits.com/production/large_178393233.png',\n",
       "     'original': 'https://charts.stocktwits.com/production/original_178393233.png',\n",
       "     'url': 'https://charts.stocktwits.com/production/original_178393233.png'},\n",
       "    'sentiment': None},\n",
       "   'filters': {'day_counts': 8, 'official_api': True}},\n",
       "  {'id': 178302741,\n",
       "   'body': '$SGOL Back in 6 month channel. Unlike December, precious metals poised to spike on market dip.',\n",
       "   'created_at': '2019-09-23T09:31:41Z',\n",
       "   'user': {'id': 1227808,\n",
       "    'username': 'gotachance',\n",
       "    'name': 'gotachance',\n",
       "    'avatar_url': 'https://avatars.stocktwits.com/production/1227808/thumb-1515271481.png',\n",
       "    'avatar_url_ssl': 'https://avatars.stocktwits.com/production/1227808/thumb-1515271481.png',\n",
       "    'join_date': '2017-10-15',\n",
       "    'official': False,\n",
       "    'identity': 'User',\n",
       "    'classification': [],\n",
       "    'followers': 68,\n",
       "    'following': 31,\n",
       "    'ideas': 5968,\n",
       "    'watchlist_stocks_count': 45,\n",
       "    'like_count': 3979,\n",
       "    'plus_tier': '',\n",
       "    'premium_room': ''},\n",
       "   'source': {'id': 2269,\n",
       "    'title': 'StockTwits Web',\n",
       "    'url': 'https://stocktwits.com'},\n",
       "   'symbols': [{'id': 7944,\n",
       "     'symbol': 'SGOL',\n",
       "     'title': 'ETFS Gold Trust',\n",
       "     'aliases': [],\n",
       "     'is_following': False,\n",
       "     'watchlist_count': 322}],\n",
       "   'mentioned_users': [],\n",
       "   'entities': {'chart': {'thumb': 'https://charts.stocktwits.com/production/small_178302741.png',\n",
       "     'large': 'https://charts.stocktwits.com/production/large_178302741.png',\n",
       "     'original': 'https://charts.stocktwits.com/production/original_178302741.png',\n",
       "     'url': 'https://charts.stocktwits.com/production/original_178302741.png'},\n",
       "    'sentiment': None},\n",
       "   'filters': {'day_counts': 2, 'official_api': True}},\n",
       "  {'id': 178272605,\n",
       "   'body': '$SGOL has an excellent technical rating and also presents a decent setup pattern. https://www.chartmill.com/stock/analyzer/stock/SGOL?key=e1c929bf-ffb1-4954-a5e5-bdeb416773cc&amp;utm_source=stocktwits&amp;utm_medium=TA&amp;utm_content=SETUP&amp;utm_campaign=social_tracking',\n",
       "   'created_at': '2019-09-22T16:00:19Z',\n",
       "   'user': {'id': 47688,\n",
       "    'username': 'ChartMill',\n",
       "    'name': 'ChartMill',\n",
       "    'avatar_url': 'https://avatars.stocktwits.com/production/47688/thumb-1363343728.png',\n",
       "    'avatar_url_ssl': 'https://avatars.stocktwits.com/production/47688/thumb-1363343728.png',\n",
       "    'join_date': '2011-01-26',\n",
       "    'official': False,\n",
       "    'identity': 'User',\n",
       "    'classification': [],\n",
       "    'followers': 12490,\n",
       "    'following': 900,\n",
       "    'ideas': 693912,\n",
       "    'watchlist_stocks_count': 20,\n",
       "    'like_count': 32,\n",
       "    'plus_tier': '',\n",
       "    'premium_room': ''},\n",
       "   'source': {'id': 1135,\n",
       "    'title': 'ChartMill',\n",
       "    'url': 'http://www.chartmill.com'},\n",
       "   'symbols': [{'id': 7944,\n",
       "     'symbol': 'SGOL',\n",
       "     'title': 'ETFS Gold Trust',\n",
       "     'aliases': [],\n",
       "     'is_following': False,\n",
       "     'watchlist_count': 322}],\n",
       "   'links': [{'title': None,\n",
       "     'url': 'https://www.chartmill.com/stock/analyzer/stock/SGOL?key=e1c929bf-ffb1-4954-a5e5-bdeb416773cc&utm_source=stocktwits&utm_medium=TA&utm_content=SETUP&utm_campaign=social_tracking',\n",
       "     'shortened_url': 'https://www.chartmill.com/stock/analyzer/stock/SGOL?key=e1c929bf-ffb1-4954-a5e5-bdeb416773cc&utm_source=stocktwits&utm_medium=TA&utm_content=SETUP&utm_campaign=social_tracking',\n",
       "     'shortened_expanded_url': 'chartmill.com/stock/analyze...',\n",
       "     'description': None,\n",
       "     'image': None,\n",
       "     'created_at': '2019-09-22T16:00:23Z',\n",
       "     'video_url': None,\n",
       "     'source': {'name': 'Chartmill', 'website': 'https://www.chartmill.com'}}],\n",
       "   'mentioned_users': [],\n",
       "   'entities': {'sentiment': None},\n",
       "   'filters': {'day_counts': 849, 'official_api': False}},\n",
       "  {'id': 178111193,\n",
       "   'body': '$SGOL - Aberdeen Standard vs Invesco FTSE ($PRF) http://dlvr.it/RDTtrK #portfolio_prospective #better_portfolio #diversify',\n",
       "   'created_at': '2019-09-20T04:48:04Z',\n",
       "   'user': {'id': 56948,\n",
       "    'username': 'macroaxis',\n",
       "    'name': 'Macroaxis',\n",
       "    'avatar_url': 'https://avatars.stocktwits.com/production/56948/thumb-1361399398.png',\n",
       "    'avatar_url_ssl': 'https://avatars.stocktwits.com/production/56948/thumb-1361399398.png',\n",
       "    'join_date': '2011-03-04',\n",
       "    'official': False,\n",
       "    'identity': 'User',\n",
       "    'classification': [],\n",
       "    'followers': 966,\n",
       "    'following': 3,\n",
       "    'ideas': 123557,\n",
       "    'watchlist_stocks_count': 14,\n",
       "    'like_count': 27,\n",
       "    'plus_tier': '',\n",
       "    'premium_room': ''},\n",
       "   'source': {'id': 1351, 'title': 'dlvr.it', 'url': 'https://dlvrit.com/'},\n",
       "   'symbols': [{'id': 6871,\n",
       "     'symbol': 'PRF',\n",
       "     'title': 'PowerShares FTSE RAFI US 1000',\n",
       "     'aliases': [],\n",
       "     'is_following': False,\n",
       "     'watchlist_count': 38},\n",
       "    {'id': 7944,\n",
       "     'symbol': 'SGOL',\n",
       "     'title': 'ETFS Gold Trust',\n",
       "     'aliases': [],\n",
       "     'is_following': False,\n",
       "     'watchlist_count': 322}],\n",
       "   'links': [{'title': 'Compare Aberdeen Standard with Invesco FTSE RAFI - Macroaxis',\n",
       "     'url': 'http://dlvr.it/RDTtrK',\n",
       "     'shortened_url': 'http://dlvr.it/RDTtrK',\n",
       "     'shortened_expanded_url': 'macroaxis.com/invest/compar...',\n",
       "     'description': 'You can use this module to analyze advantages of your traded assets technical and fundamental indicators over its peers. Please use the box above to enter up to 4 concurrent symbols you would like to analyze. Use comma (,) to separate each symbol.',\n",
       "     'image': 'https://www.macroaxis.com/images/aboutMacroaxisGuy.png',\n",
       "     'created_at': '2019-09-20T04:48:07Z',\n",
       "     'video_url': None,\n",
       "     'source': {'name': 'Macroaxis', 'website': 'https://www.macroaxis.com'}}],\n",
       "   'mentioned_users': [],\n",
       "   'entities': {'sentiment': None},\n",
       "   'filters': {'day_counts': 608, 'official_api': False}},\n",
       "  {'id': 177634770,\n",
       "   'body': '$SPY $SGOL $SIVR Gold and Silver after drone attack',\n",
       "   'created_at': '2019-09-15T23:24:42Z',\n",
       "   'user': {'id': 1227808,\n",
       "    'username': 'gotachance',\n",
       "    'name': 'gotachance',\n",
       "    'avatar_url': 'https://avatars.stocktwits.com/production/1227808/thumb-1515271481.png',\n",
       "    'avatar_url_ssl': 'https://avatars.stocktwits.com/production/1227808/thumb-1515271481.png',\n",
       "    'join_date': '2017-10-15',\n",
       "    'official': False,\n",
       "    'identity': 'User',\n",
       "    'classification': [],\n",
       "    'followers': 69,\n",
       "    'following': 31,\n",
       "    'ideas': 5977,\n",
       "    'watchlist_stocks_count': 45,\n",
       "    'like_count': 3981,\n",
       "    'plus_tier': '',\n",
       "    'premium_room': ''},\n",
       "   'source': {'id': 2269,\n",
       "    'title': 'StockTwits Web',\n",
       "    'url': 'https://stocktwits.com'},\n",
       "   'symbols': [{'id': 7271,\n",
       "     'symbol': 'SPY',\n",
       "     'title': 'SPDR S&P 500',\n",
       "     'aliases': [],\n",
       "     'is_following': False,\n",
       "     'watchlist_count': 145704},\n",
       "    {'id': 7944,\n",
       "     'symbol': 'SGOL',\n",
       "     'title': 'ETFS Gold Trust',\n",
       "     'aliases': [],\n",
       "     'is_following': False,\n",
       "     'watchlist_count': 322},\n",
       "    {'id': 8223,\n",
       "     'symbol': 'SIVR',\n",
       "     'title': 'ETFS Physical Silver Shares',\n",
       "     'aliases': [],\n",
       "     'is_following': False,\n",
       "     'watchlist_count': 378}],\n",
       "   'mentioned_users': [],\n",
       "   'entities': {'chart': {'thumb': 'https://charts.stocktwits.com/production/small_177634770.png',\n",
       "     'large': 'https://charts.stocktwits.com/production/large_177634770.png',\n",
       "     'original': 'https://charts.stocktwits.com/production/original_177634770.png',\n",
       "     'url': 'https://charts.stocktwits.com/production/original_177634770.png'},\n",
       "    'sentiment': None},\n",
       "   'filters': {'day_counts': 5, 'official_api': True}},\n",
       "  {'id': 176835815,\n",
       "   'body': '$SGOL $SIVR Trying to turn around',\n",
       "   'created_at': '2019-09-11T09:27:08Z',\n",
       "   'user': {'id': 1227808,\n",
       "    'username': 'gotachance',\n",
       "    'name': 'gotachance',\n",
       "    'avatar_url': 'https://avatars.stocktwits.com/production/1227808/thumb-1515271481.png',\n",
       "    'avatar_url_ssl': 'https://avatars.stocktwits.com/production/1227808/thumb-1515271481.png',\n",
       "    'join_date': '2017-10-15',\n",
       "    'official': False,\n",
       "    'identity': 'User',\n",
       "    'classification': [],\n",
       "    'followers': 68,\n",
       "    'following': 31,\n",
       "    'ideas': 5966,\n",
       "    'watchlist_stocks_count': 45,\n",
       "    'like_count': 3977,\n",
       "    'plus_tier': '',\n",
       "    'premium_room': ''},\n",
       "   'source': {'id': 2269,\n",
       "    'title': 'StockTwits Web',\n",
       "    'url': 'https://stocktwits.com'},\n",
       "   'symbols': [{'id': 7944,\n",
       "     'symbol': 'SGOL',\n",
       "     'title': 'ETFS Gold Trust',\n",
       "     'aliases': [],\n",
       "     'is_following': False,\n",
       "     'watchlist_count': 320},\n",
       "    {'id': 8223,\n",
       "     'symbol': 'SIVR',\n",
       "     'title': 'ETFS Physical Silver Shares',\n",
       "     'aliases': [],\n",
       "     'is_following': False,\n",
       "     'watchlist_count': 378}],\n",
       "   'mentioned_users': [],\n",
       "   'entities': {'chart': {'thumb': 'https://charts.stocktwits.com/production/small_176835815.png',\n",
       "     'large': 'https://charts.stocktwits.com/production/large_176835815.png',\n",
       "     'original': 'https://charts.stocktwits.com/production/original_176835815.png',\n",
       "     'url': 'https://charts.stocktwits.com/production/original_176835815.png'},\n",
       "    'sentiment': None},\n",
       "   'filters': {'day_counts': 19, 'official_api': True}},\n",
       "  {'id': 176819944,\n",
       "   'body': '$GLD $IAU $SGOL $BAR $DGL Technical Analysis recap of Gold https://www.shortmetina.com/technical-analysis.html',\n",
       "   'created_at': '2019-09-11T00:56:31Z',\n",
       "   'user': {'id': 640084,\n",
       "    'username': 'shortmetina',\n",
       "    'name': 'Tina',\n",
       "    'avatar_url': 'https://avatars.stocktwits.com/production/640084/thumb-1453413492.png',\n",
       "    'avatar_url_ssl': 'https://avatars.stocktwits.com/production/640084/thumb-1453413492.png',\n",
       "    'join_date': '2015-11-25',\n",
       "    'official': False,\n",
       "    'identity': 'User',\n",
       "    'classification': [],\n",
       "    'followers': 1257,\n",
       "    'following': 127,\n",
       "    'ideas': 13256,\n",
       "    'watchlist_stocks_count': 38,\n",
       "    'like_count': 3703,\n",
       "    'plus_tier': '',\n",
       "    'premium_room': ''},\n",
       "   'source': {'id': 2269,\n",
       "    'title': 'StockTwits Web',\n",
       "    'url': 'https://stocktwits.com'},\n",
       "   'symbols': [{'id': 4964,\n",
       "     'symbol': 'DGL',\n",
       "     'title': 'PowerShares DB Gold',\n",
       "     'aliases': [],\n",
       "     'is_following': False,\n",
       "     'watchlist_count': 62},\n",
       "    {'id': 5539,\n",
       "     'symbol': 'GLD',\n",
       "     'title': 'SPDR Gold Shares',\n",
       "     'aliases': [],\n",
       "     'is_following': False,\n",
       "     'watchlist_count': 40282},\n",
       "    {'id': 5783,\n",
       "     'symbol': 'IAU',\n",
       "     'title': 'iShares Gold Trust',\n",
       "     'aliases': [],\n",
       "     'is_following': False,\n",
       "     'watchlist_count': 2341},\n",
       "    {'id': 7944,\n",
       "     'symbol': 'SGOL',\n",
       "     'title': 'ETFS Gold Trust',\n",
       "     'aliases': [],\n",
       "     'is_following': False,\n",
       "     'watchlist_count': 322},\n",
       "    {'id': 11918,\n",
       "     'symbol': 'BAR',\n",
       "     'title': 'GraniteShares Gold Trust',\n",
       "     'aliases': [],\n",
       "     'is_following': False,\n",
       "     'watchlist_count': 55}],\n",
       "   'links': [{'title': 'Technical Analysis Videos',\n",
       "     'url': 'https://www.shortmetina.com/technical-analysis.html',\n",
       "     'shortened_url': 'https://www.shortmetina.com/technical-analysis.html',\n",
       "     'shortened_expanded_url': 'shortmetina.com/technical-a...',\n",
       "     'description': 'Technical Analysis: Learn how to read stock charts from one of the best? Monday thru Friday we analyze stocks that are moving in the market or has the potential to move',\n",
       "     'image': None,\n",
       "     'created_at': '2019-09-11T00:56:32Z',\n",
       "     'video_url': None,\n",
       "     'source': {'name': 'ShortMeTina- Stock Trading Website for Swing Traders and Day Traders',\n",
       "      'website': 'https://www.shortmetina.com'}}],\n",
       "   'mentioned_users': [],\n",
       "   'entities': {'sentiment': None},\n",
       "   'filters': {'day_counts': 5, 'official_api': True}},\n",
       "  {'id': 176772600,\n",
       "   'body': '$SGOL Overdue for a bounce',\n",
       "   'created_at': '2019-09-10T18:37:51Z',\n",
       "   'user': {'id': 1227808,\n",
       "    'username': 'gotachance',\n",
       "    'name': 'gotachance',\n",
       "    'avatar_url': 'https://avatars.stocktwits.com/production/1227808/thumb-1515271481.png',\n",
       "    'avatar_url_ssl': 'https://avatars.stocktwits.com/production/1227808/thumb-1515271481.png',\n",
       "    'join_date': '2017-10-15',\n",
       "    'official': False,\n",
       "    'identity': 'User',\n",
       "    'classification': [],\n",
       "    'followers': 69,\n",
       "    'following': 31,\n",
       "    'ideas': 5977,\n",
       "    'watchlist_stocks_count': 45,\n",
       "    'like_count': 3981,\n",
       "    'plus_tier': '',\n",
       "    'premium_room': ''},\n",
       "   'source': {'id': 2269,\n",
       "    'title': 'StockTwits Web',\n",
       "    'url': 'https://stocktwits.com'},\n",
       "   'symbols': [{'id': 7944,\n",
       "     'symbol': 'SGOL',\n",
       "     'title': 'ETFS Gold Trust',\n",
       "     'aliases': [],\n",
       "     'is_following': False,\n",
       "     'watchlist_count': 322}],\n",
       "   'mentioned_users': [],\n",
       "   'entities': {'chart': {'thumb': 'https://charts.stocktwits.com/production/small_176772600.png',\n",
       "     'large': 'https://charts.stocktwits.com/production/large_176772600.png',\n",
       "     'original': 'https://charts.stocktwits.com/production/original_176772600.png',\n",
       "     'url': 'https://charts.stocktwits.com/production/original_176772600.png'},\n",
       "    'sentiment': None},\n",
       "   'filters': {'day_counts': 24, 'official_api': True}},\n",
       "  {'id': 176525669,\n",
       "   'body': '$GLD $IAU $SGOL $BAR $DGL Technical Analysis recap of Gold https://www.shortmetina.com/technical-analysis.html',\n",
       "   'created_at': '2019-09-07T00:41:44Z',\n",
       "   'user': {'id': 640084,\n",
       "    'username': 'shortmetina',\n",
       "    'name': 'Tina',\n",
       "    'avatar_url': 'https://avatars.stocktwits.com/production/640084/thumb-1453413492.png',\n",
       "    'avatar_url_ssl': 'https://avatars.stocktwits.com/production/640084/thumb-1453413492.png',\n",
       "    'join_date': '2015-11-25',\n",
       "    'official': False,\n",
       "    'identity': 'User',\n",
       "    'classification': [],\n",
       "    'followers': 1257,\n",
       "    'following': 127,\n",
       "    'ideas': 13256,\n",
       "    'watchlist_stocks_count': 38,\n",
       "    'like_count': 3703,\n",
       "    'plus_tier': '',\n",
       "    'premium_room': ''},\n",
       "   'source': {'id': 2269,\n",
       "    'title': 'StockTwits Web',\n",
       "    'url': 'https://stocktwits.com'},\n",
       "   'symbols': [{'id': 4964,\n",
       "     'symbol': 'DGL',\n",
       "     'title': 'PowerShares DB Gold',\n",
       "     'aliases': [],\n",
       "     'is_following': False,\n",
       "     'watchlist_count': 62},\n",
       "    {'id': 5539,\n",
       "     'symbol': 'GLD',\n",
       "     'title': 'SPDR Gold Shares',\n",
       "     'aliases': [],\n",
       "     'is_following': False,\n",
       "     'watchlist_count': 40282},\n",
       "    {'id': 5783,\n",
       "     'symbol': 'IAU',\n",
       "     'title': 'iShares Gold Trust',\n",
       "     'aliases': [],\n",
       "     'is_following': False,\n",
       "     'watchlist_count': 2341},\n",
       "    {'id': 7944,\n",
       "     'symbol': 'SGOL',\n",
       "     'title': 'ETFS Gold Trust',\n",
       "     'aliases': [],\n",
       "     'is_following': False,\n",
       "     'watchlist_count': 322},\n",
       "    {'id': 11918,\n",
       "     'symbol': 'BAR',\n",
       "     'title': 'GraniteShares Gold Trust',\n",
       "     'aliases': [],\n",
       "     'is_following': False,\n",
       "     'watchlist_count': 55}],\n",
       "   'links': [{'title': 'Technical Analysis Videos',\n",
       "     'url': 'https://www.shortmetina.com/technical-analysis.html',\n",
       "     'shortened_url': 'https://www.shortmetina.com/technical-analysis.html',\n",
       "     'shortened_expanded_url': 'shortmetina.com/technical-a...',\n",
       "     'description': 'Technical Analysis: Learn how to read stock charts from one of the best? Monday thru Friday we analyze stocks that are moving in the market or has the potential to move',\n",
       "     'image': None,\n",
       "     'created_at': '2019-09-07T00:41:44Z',\n",
       "     'video_url': None,\n",
       "     'source': {'name': 'ShortMeTina- Stock Trading Website for Swing Traders and Day Traders',\n",
       "      'website': 'https://www.shortmetina.com'}}],\n",
       "   'likes': {'total': 1, 'user_ids': [1245043]},\n",
       "   'mentioned_users': [],\n",
       "   'entities': {'sentiment': None},\n",
       "   'filters': {'day_counts': 13, 'official_api': True}},\n",
       "  {'id': 176435267,\n",
       "   'body': '$SGOL Holding for now',\n",
       "   'created_at': '2019-09-06T11:41:33Z',\n",
       "   'user': {'id': 1227808,\n",
       "    'username': 'gotachance',\n",
       "    'name': 'gotachance',\n",
       "    'avatar_url': 'https://avatars.stocktwits.com/production/1227808/thumb-1515271481.png',\n",
       "    'avatar_url_ssl': 'https://avatars.stocktwits.com/production/1227808/thumb-1515271481.png',\n",
       "    'join_date': '2017-10-15',\n",
       "    'official': False,\n",
       "    'identity': 'User',\n",
       "    'classification': [],\n",
       "    'followers': 69,\n",
       "    'following': 31,\n",
       "    'ideas': 5977,\n",
       "    'watchlist_stocks_count': 45,\n",
       "    'like_count': 3981,\n",
       "    'plus_tier': '',\n",
       "    'premium_room': ''},\n",
       "   'source': {'id': 2269,\n",
       "    'title': 'StockTwits Web',\n",
       "    'url': 'https://stocktwits.com'},\n",
       "   'symbols': [{'id': 7944,\n",
       "     'symbol': 'SGOL',\n",
       "     'title': 'ETFS Gold Trust',\n",
       "     'aliases': [],\n",
       "     'is_following': False,\n",
       "     'watchlist_count': 322}],\n",
       "   'mentioned_users': [],\n",
       "   'entities': {'chart': {'thumb': 'https://charts.stocktwits.com/production/small_176435267.png',\n",
       "     'large': 'https://charts.stocktwits.com/production/large_176435267.png',\n",
       "     'original': 'https://charts.stocktwits.com/production/original_176435267.png',\n",
       "     'url': 'https://charts.stocktwits.com/production/original_176435267.png'},\n",
       "    'sentiment': None},\n",
       "   'filters': {'day_counts': 19, 'official_api': True}},\n",
       "  {'id': 176414894,\n",
       "   'body': '$GLD $IAU $SGOL $BAR $DGL Technical Analysis recap of Gold https://www.shortmetina.com/technical-analysis.html',\n",
       "   'created_at': '2019-09-06T00:48:32Z',\n",
       "   'user': {'id': 640084,\n",
       "    'username': 'shortmetina',\n",
       "    'name': 'Tina',\n",
       "    'avatar_url': 'https://avatars.stocktwits.com/production/640084/thumb-1453413492.png',\n",
       "    'avatar_url_ssl': 'https://avatars.stocktwits.com/production/640084/thumb-1453413492.png',\n",
       "    'join_date': '2015-11-25',\n",
       "    'official': False,\n",
       "    'identity': 'User',\n",
       "    'classification': [],\n",
       "    'followers': 1256,\n",
       "    'following': 127,\n",
       "    'ideas': 13254,\n",
       "    'watchlist_stocks_count': 38,\n",
       "    'like_count': 3702,\n",
       "    'plus_tier': '',\n",
       "    'premium_room': ''},\n",
       "   'source': {'id': 2269,\n",
       "    'title': 'StockTwits Web',\n",
       "    'url': 'https://stocktwits.com'},\n",
       "   'symbols': [{'id': 4964,\n",
       "     'symbol': 'DGL',\n",
       "     'title': 'PowerShares DB Gold',\n",
       "     'aliases': [],\n",
       "     'is_following': False,\n",
       "     'watchlist_count': 62},\n",
       "    {'id': 5539,\n",
       "     'symbol': 'GLD',\n",
       "     'title': 'SPDR Gold Shares',\n",
       "     'aliases': [],\n",
       "     'is_following': False,\n",
       "     'watchlist_count': 40277},\n",
       "    {'id': 5783,\n",
       "     'symbol': 'IAU',\n",
       "     'title': 'iShares Gold Trust',\n",
       "     'aliases': [],\n",
       "     'is_following': False,\n",
       "     'watchlist_count': 2341},\n",
       "    {'id': 7944,\n",
       "     'symbol': 'SGOL',\n",
       "     'title': 'ETFS Gold Trust',\n",
       "     'aliases': [],\n",
       "     'is_following': False,\n",
       "     'watchlist_count': 320},\n",
       "    {'id': 11918,\n",
       "     'symbol': 'BAR',\n",
       "     'title': 'GraniteShares Gold Trust',\n",
       "     'aliases': [],\n",
       "     'is_following': False,\n",
       "     'watchlist_count': 55}],\n",
       "   'links': [{'title': 'Technical Analysis Videos',\n",
       "     'url': 'https://www.shortmetina.com/technical-analysis.html',\n",
       "     'shortened_url': 'https://www.shortmetina.com/technical-analysis.html',\n",
       "     'shortened_expanded_url': 'shortmetina.com/technical-a...',\n",
       "     'description': 'Technical Analysis: Learn how to read stock charts from one of the best? Monday thru Friday we analyze stocks that are moving in the market or has the potential to move',\n",
       "     'image': None,\n",
       "     'created_at': '2019-09-06T00:48:35Z',\n",
       "     'video_url': None,\n",
       "     'source': {'name': 'ShortMeTina- Stock Trading Website for Swing Traders and Day Traders',\n",
       "      'website': 'https://www.shortmetina.com'}}],\n",
       "   'mentioned_users': [],\n",
       "   'entities': {'sentiment': None},\n",
       "   'filters': {'day_counts': 3, 'official_api': True}},\n",
       "  {'id': 176338500,\n",
       "   'body': '$SIVR $PPLT $SGOL Healthy dip. May set some stop loss orders.',\n",
       "   'created_at': '2019-09-05T14:48:44Z',\n",
       "   'user': {'id': 1227808,\n",
       "    'username': 'gotachance',\n",
       "    'name': 'gotachance',\n",
       "    'avatar_url': 'https://avatars.stocktwits.com/production/1227808/thumb-1515271481.png',\n",
       "    'avatar_url_ssl': 'https://avatars.stocktwits.com/production/1227808/thumb-1515271481.png',\n",
       "    'join_date': '2017-10-15',\n",
       "    'official': False,\n",
       "    'identity': 'User',\n",
       "    'classification': [],\n",
       "    'followers': 69,\n",
       "    'following': 31,\n",
       "    'ideas': 5977,\n",
       "    'watchlist_stocks_count': 45,\n",
       "    'like_count': 3981,\n",
       "    'plus_tier': '',\n",
       "    'premium_room': ''},\n",
       "   'source': {'id': 2269,\n",
       "    'title': 'StockTwits Web',\n",
       "    'url': 'https://stocktwits.com'},\n",
       "   'symbols': [{'id': 7944,\n",
       "     'symbol': 'SGOL',\n",
       "     'title': 'ETFS Gold Trust',\n",
       "     'aliases': [],\n",
       "     'is_following': False,\n",
       "     'watchlist_count': 322},\n",
       "    {'id': 8207,\n",
       "     'symbol': 'PPLT',\n",
       "     'title': 'ETFS Physical Platinum Shares',\n",
       "     'aliases': [],\n",
       "     'is_following': False,\n",
       "     'watchlist_count': 694},\n",
       "    {'id': 8223,\n",
       "     'symbol': 'SIVR',\n",
       "     'title': 'ETFS Physical Silver Shares',\n",
       "     'aliases': [],\n",
       "     'is_following': False,\n",
       "     'watchlist_count': 378}],\n",
       "   'likes': {'total': 2, 'user_ids': [182292, 180012]},\n",
       "   'mentioned_users': [],\n",
       "   'entities': {'chart': {'thumb': 'https://charts.stocktwits.com/production/small_176338500.png',\n",
       "     'large': 'https://charts.stocktwits.com/production/large_176338500.png',\n",
       "     'original': 'https://charts.stocktwits.com/production/original_176338500.png',\n",
       "     'url': 'https://charts.stocktwits.com/production/original_176338500.png'},\n",
       "    'sentiment': None},\n",
       "   'filters': {'day_counts': 34, 'official_api': True}},\n",
       "  {'id': 176298870,\n",
       "   'body': '@gold324 $SPY $SGOL  \\n \\nOnly when fear index is pegged.',\n",
       "   'created_at': '2019-09-05T03:50:40Z',\n",
       "   'user': {'id': 1227808,\n",
       "    'username': 'gotachance',\n",
       "    'name': 'gotachance',\n",
       "    'avatar_url': 'https://avatars.stocktwits.com/production/1227808/thumb-1515271481.png',\n",
       "    'avatar_url_ssl': 'https://avatars.stocktwits.com/production/1227808/thumb-1515271481.png',\n",
       "    'join_date': '2017-10-15',\n",
       "    'official': False,\n",
       "    'identity': 'User',\n",
       "    'classification': [],\n",
       "    'followers': 68,\n",
       "    'following': 31,\n",
       "    'ideas': 5966,\n",
       "    'watchlist_stocks_count': 45,\n",
       "    'like_count': 3977,\n",
       "    'plus_tier': '',\n",
       "    'premium_room': ''},\n",
       "   'source': {'id': 2269,\n",
       "    'title': 'StockTwits Web',\n",
       "    'url': 'https://stocktwits.com'},\n",
       "   'symbols': [{'id': 7271,\n",
       "     'symbol': 'SPY',\n",
       "     'title': 'SPDR S&P 500',\n",
       "     'aliases': [],\n",
       "     'is_following': False,\n",
       "     'watchlist_count': 145658},\n",
       "    {'id': 7944,\n",
       "     'symbol': 'SGOL',\n",
       "     'title': 'ETFS Gold Trust',\n",
       "     'aliases': [],\n",
       "     'is_following': False,\n",
       "     'watchlist_count': 321}],\n",
       "   'conversation': {'parent_message_id': 176298635,\n",
       "    'in_reply_to_message_id': 176298635,\n",
       "    'parent': False,\n",
       "    'replies': 8},\n",
       "   'likes': {'total': 2, 'user_ids': [421774, 824524]},\n",
       "   'mentioned_users': ['@gold324'],\n",
       "   'entities': {'chart': {'thumb': 'https://charts.stocktwits.com/production/small_176298870.png',\n",
       "     'large': 'https://charts.stocktwits.com/production/large_176298870.png',\n",
       "     'original': 'https://charts.stocktwits.com/production/original_176298870.png',\n",
       "     'url': 'https://charts.stocktwits.com/production/original_176298870.png'},\n",
       "    'sentiment': None},\n",
       "   'filters': {'day_counts': 30, 'official_api': True}},\n",
       "  {'id': 176293496,\n",
       "   'body': '$SPY Futures. Dow. $OILD  $SGOL $UGAZ etc',\n",
       "   'created_at': '2019-09-05T02:24:37Z',\n",
       "   'user': {'id': 1227808,\n",
       "    'username': 'gotachance',\n",
       "    'name': 'gotachance',\n",
       "    'avatar_url': 'https://avatars.stocktwits.com/production/1227808/thumb-1515271481.png',\n",
       "    'avatar_url_ssl': 'https://avatars.stocktwits.com/production/1227808/thumb-1515271481.png',\n",
       "    'join_date': '2017-10-15',\n",
       "    'official': False,\n",
       "    'identity': 'User',\n",
       "    'classification': [],\n",
       "    'followers': 69,\n",
       "    'following': 31,\n",
       "    'ideas': 5977,\n",
       "    'watchlist_stocks_count': 45,\n",
       "    'like_count': 3981,\n",
       "    'plus_tier': '',\n",
       "    'premium_room': ''},\n",
       "   'source': {'id': 2269,\n",
       "    'title': 'StockTwits Web',\n",
       "    'url': 'https://stocktwits.com'},\n",
       "   'symbols': [{'id': 7271,\n",
       "     'symbol': 'SPY',\n",
       "     'title': 'SPDR S&P 500',\n",
       "     'aliases': [],\n",
       "     'is_following': False,\n",
       "     'watchlist_count': 145722},\n",
       "    {'id': 7944,\n",
       "     'symbol': 'SGOL',\n",
       "     'title': 'ETFS Gold Trust',\n",
       "     'aliases': [],\n",
       "     'is_following': False,\n",
       "     'watchlist_count': 322},\n",
       "    {'id': 11269,\n",
       "     'symbol': 'UGAZ',\n",
       "     'title': 'VelocityShares 3x Long Natural Gas ETN',\n",
       "     'aliases': [],\n",
       "     'is_following': False,\n",
       "     'watchlist_count': 43448},\n",
       "    {'id': 14169,\n",
       "     'symbol': 'OILD',\n",
       "     'title': 'ProShares UltraPro 3x Short Crude Oil ETF',\n",
       "     'aliases': [],\n",
       "     'is_following': False,\n",
       "     'watchlist_count': 712}],\n",
       "   'likes': {'total': 1, 'user_ids': [1911074]},\n",
       "   'mentioned_users': [],\n",
       "   'entities': {'chart': {'thumb': 'https://charts.stocktwits.com/production/small_176293496.png',\n",
       "     'large': 'https://charts.stocktwits.com/production/large_176293496.png',\n",
       "     'original': 'https://charts.stocktwits.com/production/original_176293496.png',\n",
       "     'url': 'https://charts.stocktwits.com/production/original_176293496.png'},\n",
       "    'sentiment': None},\n",
       "   'filters': {'day_counts': 24, 'official_api': True}}]}"
      ]
     },
     "execution_count": 131,
     "metadata": {},
     "output_type": "execute_result"
    }
   ],
   "source": [
    "results"
   ]
  },
  {
   "cell_type": "code",
   "execution_count": 132,
   "metadata": {
    "pycharm": {
     "name": "#%%\n"
    }
   },
   "outputs": [
    {
     "data": {
      "text/plain": [
       "'$SGOL / ETFS GOLD Trust files form 8-K - Other Events https://fintel.io/s/us/sgol?utm_source=stocktwits.com&amp;utm_medium=Social&amp;utm_campaign=filing\\nOnNovember  http://www.conferencecalltranscripts.org/8/summary2/?id=7001138 $SGOL\\n$SGOL / ETFS GOLD Trust files form 424B3 https://fintel.io/filings/us/sgol?utm_source=stocktwits.com&amp;utm_medium=Social&amp;utm_campaign=filing\\nETFS Gold Trust just filed a prospectus, suggesting it plans to soon issue some securities  http://www.conferencecalltranscripts.org/PROS/summary2/?id=6996237 $SGOL\\nMountain Capital Investment Advisors Inc,has filed Form 13F for Q3 2019.Opened NEW positions in $NKTR $SGOL\\nSimpliFi Inc.,has filed Form 13F for Q3 2019.Opened NEW positions in $SGOL $SUSC\\nFinancial Services Advisory Inc,has filed Form 13F for Q3 2019.Opened NEW positions in $DEF $IAU $SGOL\\n$SGOL / ETFS GOLD Trust files form 8-K - Financial Statements and Exhibits, Other Events https://fintel.io/s/us/sgol?utm_source=stocktwits.com&amp;utm_medium=Social&amp;utm_campaign=filing\\n$SGOL just filed a Financial Exhibit https://last10k.com/sec-filings/sgol/0001387131-19-007574.htm?utm_source=stocktwits&amp;utm_medium=forum&amp;utm_campaign=8K&amp;utm_term=sgol\\nETFS Gold: Aberdeen Standard Gold Etf Trust 8-K Exhibit99.1 PRESS    RELEASE  http://www.conferencecalltranscripts.org/8/summary/?id=6913289 $SGOL\\n$SGOL 6.0m ago: Aberdeen Standard Investments Announces 10 For 1 Forward Share Split Of Gold Exchange Traded Fund (SGOL)[1] https://www.prnewswire.com:443/news-releases/aberdeen-standard-investments-announces-10-for-1-forward-share-split-of-gold-exchange-traded-fund-sgol1-300936946.html\\nWhat is the best Gold ETF?  $GLD $IAU $SGOL  Personally I like $GLDM best.  http://www.dividendincomefreedom.com/2019/10/06/the-best-gold-etf/\\n$SGOL  $SIVR  During the 6 month rally: \\n \\n Silver ran up 30% \\nGold ran up 20% \\nBoth are up 16% now.\\n2019-10-03 Short sale volume (not short interest) for $SGOL is 95%. http://shortvolumes.com/?t=SGOL via @shortvolumes\\n$SGOL - http://www.trade-ideas.com/ticky/ticky.html?symbol=SGOL - There it is, the pullback...time to get set - Running down: -0.35 in 89 seconds\\n$GLDM $GLD $SGOL $BAR In 2019, no one should need any convincing that advisors and investors love cheap exchange traded funds. Usually, it&#39;s a case of “the cheaper, the better.” What Happened For the uninitiated, the latest example of cheap works is .. https://newsfilter.io/articles/a-cheap-gold-etf-joins-the-1b-club-c3af4d25ded7458a813795e4afd1a037\\n$SGOL $SPY  \\n \\nGold support around 1500. Barely back in channel.\\n$SGOL Back in 6 month channel. Unlike December, precious metals poised to spike on market dip.\\n$SGOL has an excellent technical rating and also presents a decent setup pattern. https://www.chartmill.com/stock/analyzer/stock/SGOL?key=e1c929bf-ffb1-4954-a5e5-bdeb416773cc&amp;utm_source=stocktwits&amp;utm_medium=TA&amp;utm_content=SETUP&amp;utm_campaign=social_tracking\\n$SGOL - Aberdeen Standard vs Invesco FTSE ($PRF) http://dlvr.it/RDTtrK #portfolio_prospective #better_portfolio #diversify\\n$SPY $SGOL $SIVR Gold and Silver after drone attack\\n$SGOL $SIVR Trying to turn around\\n$GLD $IAU $SGOL $BAR $DGL Technical Analysis recap of Gold https://www.shortmetina.com/technical-analysis.html\\n$SGOL Overdue for a bounce\\n$GLD $IAU $SGOL $BAR $DGL Technical Analysis recap of Gold https://www.shortmetina.com/technical-analysis.html\\n$SGOL Holding for now\\n$GLD $IAU $SGOL $BAR $DGL Technical Analysis recap of Gold https://www.shortmetina.com/technical-analysis.html\\n$SIVR $PPLT $SGOL Healthy dip. May set some stop loss orders.\\n@gold324 $SPY $SGOL  \\n \\nOnly when fear index is pegged.\\n$SPY Futures. Dow. $OILD  $SGOL $UGAZ etc'"
      ]
     },
     "execution_count": 132,
     "metadata": {},
     "output_type": "execute_result"
    }
   ],
   "source": [
    "bodies = \"\\n\".join([m[\"body\"] for m in results[\"messages\"]])\n",
    "bodies"
   ]
  },
  {
   "cell_type": "code",
   "execution_count": 133,
   "metadata": {
    "pycharm": {
     "name": "#%%\n"
    }
   },
   "outputs": [
    {
     "name": "stdout",
     "output_type": "stream",
     "text": [
      "{'neg': 0.031, 'neu': 0.838, 'pos': 0.13, 'compound': 0.9915}\n"
     ]
    }
   ],
   "source": [
    "sentiment = get_sentiment(bodies)"
   ]
  },
  {
   "cell_type": "code",
   "execution_count": 134,
   "metadata": {
    "pycharm": {
     "name": "#%%\n"
    }
   },
   "outputs": [
    {
     "data": {
      "text/plain": [
       "'positive'"
      ]
     },
     "execution_count": 134,
     "metadata": {},
     "output_type": "execute_result"
    }
   ],
   "source": [
    "sentiment"
   ]
  },
  {
   "cell_type": "code",
   "execution_count": 135,
   "metadata": {},
   "outputs": [],
   "source": [
    "indicators  = Indicators(alpaca_api, assets)"
   ]
  },
  {
   "cell_type": "code",
   "execution_count": 136,
   "metadata": {},
   "outputs": [],
   "source": [
    "ticker_cluster = indicators.cluster_prep(ticker)"
   ]
  },
  {
   "cell_type": "code",
   "execution_count": 137,
   "metadata": {
    "pycharm": {
     "name": "#%%\n"
    }
   },
   "outputs": [
    {
     "data": {
      "text/html": [
       "<div>\n",
       "<style scoped>\n",
       "    .dataframe tbody tr th:only-of-type {\n",
       "        vertical-align: middle;\n",
       "    }\n",
       "\n",
       "    .dataframe tbody tr th {\n",
       "        vertical-align: top;\n",
       "    }\n",
       "\n",
       "    .dataframe thead th {\n",
       "        text-align: right;\n",
       "    }\n",
       "</style>\n",
       "<table border=\"1\" class=\"dataframe\">\n",
       "  <thead>\n",
       "    <tr style=\"text-align: right;\">\n",
       "      <th></th>\n",
       "      <th>time</th>\n",
       "      <th>open</th>\n",
       "      <th>high</th>\n",
       "      <th>low</th>\n",
       "      <th>close</th>\n",
       "      <th>volume</th>\n",
       "      <th>up_move</th>\n",
       "      <th>down_move</th>\n",
       "      <th>DMp</th>\n",
       "      <th>DMm</th>\n",
       "      <th>...</th>\n",
       "      <th>bb_low_ptc</th>\n",
       "      <th>macd_ptc</th>\n",
       "      <th>signal_ptc</th>\n",
       "      <th>vwmacd_ptc</th>\n",
       "      <th>vwsignal_ptc</th>\n",
       "      <th>mfi_ptc</th>\n",
       "      <th>stoch_ptc</th>\n",
       "      <th>vzo_ptc</th>\n",
       "      <th>apz_u_ptc</th>\n",
       "      <th>apz_l_ptc</th>\n",
       "    </tr>\n",
       "  </thead>\n",
       "  <tbody>\n",
       "    <tr>\n",
       "      <td>0</td>\n",
       "      <td>2019-08-07 00:00:00-04:00</td>\n",
       "      <td>144.37</td>\n",
       "      <td>145.5200</td>\n",
       "      <td>143.0000</td>\n",
       "      <td>144.03</td>\n",
       "      <td>179030</td>\n",
       "      <td>NaN</td>\n",
       "      <td>NaN</td>\n",
       "      <td>0.0000</td>\n",
       "      <td>0.0000</td>\n",
       "      <td>...</td>\n",
       "      <td>NaN</td>\n",
       "      <td>NaN</td>\n",
       "      <td>NaN</td>\n",
       "      <td>NaN</td>\n",
       "      <td>NaN</td>\n",
       "      <td>NaN</td>\n",
       "      <td>NaN</td>\n",
       "      <td>NaN</td>\n",
       "      <td>NaN</td>\n",
       "      <td>NaN</td>\n",
       "    </tr>\n",
       "    <tr>\n",
       "      <td>1</td>\n",
       "      <td>2019-08-08 00:00:00-04:00</td>\n",
       "      <td>143.99</td>\n",
       "      <td>145.4300</td>\n",
       "      <td>143.7609</td>\n",
       "      <td>144.88</td>\n",
       "      <td>91294</td>\n",
       "      <td>-0.0900</td>\n",
       "      <td>-0.7609</td>\n",
       "      <td>0.0000</td>\n",
       "      <td>0.0000</td>\n",
       "      <td>...</td>\n",
       "      <td>NaN</td>\n",
       "      <td>inf</td>\n",
       "      <td>inf</td>\n",
       "      <td>inf</td>\n",
       "      <td>inf</td>\n",
       "      <td>NaN</td>\n",
       "      <td>NaN</td>\n",
       "      <td>inf</td>\n",
       "      <td>0.001277</td>\n",
       "      <td>0.008088</td>\n",
       "    </tr>\n",
       "    <tr>\n",
       "      <td>2</td>\n",
       "      <td>2019-08-09 00:00:00-04:00</td>\n",
       "      <td>144.39</td>\n",
       "      <td>145.1000</td>\n",
       "      <td>144.0500</td>\n",
       "      <td>144.33</td>\n",
       "      <td>54857</td>\n",
       "      <td>-0.3300</td>\n",
       "      <td>-0.2891</td>\n",
       "      <td>0.0000</td>\n",
       "      <td>0.0000</td>\n",
       "      <td>...</td>\n",
       "      <td>NaN</td>\n",
       "      <td>-0.620139</td>\n",
       "      <td>-0.129610</td>\n",
       "      <td>-0.213228</td>\n",
       "      <td>0.170570</td>\n",
       "      <td>NaN</td>\n",
       "      <td>NaN</td>\n",
       "      <td>-0.755994</td>\n",
       "      <td>-0.003974</td>\n",
       "      <td>0.001889</td>\n",
       "    </tr>\n",
       "    <tr>\n",
       "      <td>3</td>\n",
       "      <td>2019-08-12 00:00:00-04:00</td>\n",
       "      <td>144.80</td>\n",
       "      <td>146.3600</td>\n",
       "      <td>144.6800</td>\n",
       "      <td>145.69</td>\n",
       "      <td>122128</td>\n",
       "      <td>1.2600</td>\n",
       "      <td>-0.6300</td>\n",
       "      <td>1.2600</td>\n",
       "      <td>0.0000</td>\n",
       "      <td>...</td>\n",
       "      <td>NaN</td>\n",
       "      <td>6.011178</td>\n",
       "      <td>1.527019</td>\n",
       "      <td>4.135531</td>\n",
       "      <td>1.765961</td>\n",
       "      <td>NaN</td>\n",
       "      <td>NaN</td>\n",
       "      <td>3.464172</td>\n",
       "      <td>0.002538</td>\n",
       "      <td>0.005776</td>\n",
       "    </tr>\n",
       "    <tr>\n",
       "      <td>4</td>\n",
       "      <td>2019-08-13 00:00:00-04:00</td>\n",
       "      <td>146.32</td>\n",
       "      <td>146.3700</td>\n",
       "      <td>142.5900</td>\n",
       "      <td>144.84</td>\n",
       "      <td>339080</td>\n",
       "      <td>0.0100</td>\n",
       "      <td>2.0900</td>\n",
       "      <td>0.0000</td>\n",
       "      <td>2.0900</td>\n",
       "      <td>...</td>\n",
       "      <td>NaN</td>\n",
       "      <td>-0.221117</td>\n",
       "      <td>0.207524</td>\n",
       "      <td>-0.470293</td>\n",
       "      <td>0.056482</td>\n",
       "      <td>NaN</td>\n",
       "      <td>NaN</td>\n",
       "      <td>-1.824142</td>\n",
       "      <td>0.000363</td>\n",
       "      <td>-0.001184</td>\n",
       "    </tr>\n",
       "    <tr>\n",
       "      <td>...</td>\n",
       "      <td>...</td>\n",
       "      <td>...</td>\n",
       "      <td>...</td>\n",
       "      <td>...</td>\n",
       "      <td>...</td>\n",
       "      <td>...</td>\n",
       "      <td>...</td>\n",
       "      <td>...</td>\n",
       "      <td>...</td>\n",
       "      <td>...</td>\n",
       "      <td>...</td>\n",
       "      <td>...</td>\n",
       "      <td>...</td>\n",
       "      <td>...</td>\n",
       "      <td>...</td>\n",
       "      <td>...</td>\n",
       "      <td>...</td>\n",
       "      <td>...</td>\n",
       "      <td>...</td>\n",
       "      <td>...</td>\n",
       "      <td>...</td>\n",
       "    </tr>\n",
       "    <tr>\n",
       "      <td>58</td>\n",
       "      <td>2019-10-29 00:00:00-04:00</td>\n",
       "      <td>143.16</td>\n",
       "      <td>143.7700</td>\n",
       "      <td>142.2600</td>\n",
       "      <td>143.33</td>\n",
       "      <td>62471</td>\n",
       "      <td>-0.5600</td>\n",
       "      <td>1.1100</td>\n",
       "      <td>0.0000</td>\n",
       "      <td>1.1100</td>\n",
       "      <td>...</td>\n",
       "      <td>0.000716</td>\n",
       "      <td>0.184423</td>\n",
       "      <td>-0.060120</td>\n",
       "      <td>0.153665</td>\n",
       "      <td>0.010006</td>\n",
       "      <td>-0.224600</td>\n",
       "      <td>-0.259669</td>\n",
       "      <td>-1.333622</td>\n",
       "      <td>-0.000883</td>\n",
       "      <td>-0.000458</td>\n",
       "    </tr>\n",
       "    <tr>\n",
       "      <td>59</td>\n",
       "      <td>2019-10-30 00:00:00-04:00</td>\n",
       "      <td>143.58</td>\n",
       "      <td>144.2600</td>\n",
       "      <td>142.6700</td>\n",
       "      <td>144.08</td>\n",
       "      <td>95288</td>\n",
       "      <td>0.4900</td>\n",
       "      <td>-0.4100</td>\n",
       "      <td>0.4900</td>\n",
       "      <td>0.0000</td>\n",
       "      <td>...</td>\n",
       "      <td>-0.000030</td>\n",
       "      <td>-0.145897</td>\n",
       "      <td>-0.072886</td>\n",
       "      <td>-0.164113</td>\n",
       "      <td>-0.026198</td>\n",
       "      <td>0.353090</td>\n",
       "      <td>0.559701</td>\n",
       "      <td>-5.146351</td>\n",
       "      <td>0.000186</td>\n",
       "      <td>0.000490</td>\n",
       "    </tr>\n",
       "    <tr>\n",
       "      <td>60</td>\n",
       "      <td>2019-10-31 00:00:00-04:00</td>\n",
       "      <td>145.73</td>\n",
       "      <td>145.7769</td>\n",
       "      <td>145.3000</td>\n",
       "      <td>145.52</td>\n",
       "      <td>41024</td>\n",
       "      <td>1.5169</td>\n",
       "      <td>-2.6300</td>\n",
       "      <td>1.5169</td>\n",
       "      <td>0.0000</td>\n",
       "      <td>...</td>\n",
       "      <td>-0.000443</td>\n",
       "      <td>-0.722140</td>\n",
       "      <td>-0.161903</td>\n",
       "      <td>-0.348308</td>\n",
       "      <td>-0.083687</td>\n",
       "      <td>0.280694</td>\n",
       "      <td>0.672415</td>\n",
       "      <td>0.441736</td>\n",
       "      <td>0.001806</td>\n",
       "      <td>0.002294</td>\n",
       "    </tr>\n",
       "    <tr>\n",
       "      <td>61</td>\n",
       "      <td>2019-11-01 00:00:00-04:00</td>\n",
       "      <td>145.42</td>\n",
       "      <td>146.0180</td>\n",
       "      <td>145.1966</td>\n",
       "      <td>145.69</td>\n",
       "      <td>98510</td>\n",
       "      <td>0.2411</td>\n",
       "      <td>0.1034</td>\n",
       "      <td>0.2411</td>\n",
       "      <td>0.0000</td>\n",
       "      <td>...</td>\n",
       "      <td>-0.000594</td>\n",
       "      <td>-2.292652</td>\n",
       "      <td>-0.258759</td>\n",
       "      <td>-1.050063</td>\n",
       "      <td>-0.206355</td>\n",
       "      <td>0.084086</td>\n",
       "      <td>0.047108</td>\n",
       "      <td>0.609978</td>\n",
       "      <td>0.001733</td>\n",
       "      <td>0.002238</td>\n",
       "    </tr>\n",
       "    <tr>\n",
       "      <td>62</td>\n",
       "      <td>2019-11-04 00:00:00-05:00</td>\n",
       "      <td>14.50</td>\n",
       "      <td>14.6400</td>\n",
       "      <td>14.4700</td>\n",
       "      <td>14.53</td>\n",
       "      <td>609464</td>\n",
       "      <td>-131.3780</td>\n",
       "      <td>130.7266</td>\n",
       "      <td>0.0000</td>\n",
       "      <td>130.7266</td>\n",
       "      <td>...</td>\n",
       "      <td>-0.440402</td>\n",
       "      <td>-145.099311</td>\n",
       "      <td>11.222956</td>\n",
       "      <td>-2611.490261</td>\n",
       "      <td>20.702428</td>\n",
       "      <td>0.020183</td>\n",
       "      <td>-0.999500</td>\n",
       "      <td>-2.058658</td>\n",
       "      <td>-0.154183</td>\n",
       "      <td>-0.158831</td>\n",
       "    </tr>\n",
       "  </tbody>\n",
       "</table>\n",
       "<p>63 rows × 35 columns</p>\n",
       "</div>"
      ],
      "text/plain": [
       "                        time    open      high       low   close  volume  \\\n",
       "0  2019-08-07 00:00:00-04:00  144.37  145.5200  143.0000  144.03  179030   \n",
       "1  2019-08-08 00:00:00-04:00  143.99  145.4300  143.7609  144.88   91294   \n",
       "2  2019-08-09 00:00:00-04:00  144.39  145.1000  144.0500  144.33   54857   \n",
       "3  2019-08-12 00:00:00-04:00  144.80  146.3600  144.6800  145.69  122128   \n",
       "4  2019-08-13 00:00:00-04:00  146.32  146.3700  142.5900  144.84  339080   \n",
       "..                       ...     ...       ...       ...     ...     ...   \n",
       "58 2019-10-29 00:00:00-04:00  143.16  143.7700  142.2600  143.33   62471   \n",
       "59 2019-10-30 00:00:00-04:00  143.58  144.2600  142.6700  144.08   95288   \n",
       "60 2019-10-31 00:00:00-04:00  145.73  145.7769  145.3000  145.52   41024   \n",
       "61 2019-11-01 00:00:00-04:00  145.42  146.0180  145.1966  145.69   98510   \n",
       "62 2019-11-04 00:00:00-05:00   14.50   14.6400   14.4700   14.53  609464   \n",
       "\n",
       "     up_move  down_move     DMp       DMm  ... bb_low_ptc    macd_ptc  \\\n",
       "0        NaN        NaN  0.0000    0.0000  ...        NaN         NaN   \n",
       "1    -0.0900    -0.7609  0.0000    0.0000  ...        NaN         inf   \n",
       "2    -0.3300    -0.2891  0.0000    0.0000  ...        NaN   -0.620139   \n",
       "3     1.2600    -0.6300  1.2600    0.0000  ...        NaN    6.011178   \n",
       "4     0.0100     2.0900  0.0000    2.0900  ...        NaN   -0.221117   \n",
       "..       ...        ...     ...       ...  ...        ...         ...   \n",
       "58   -0.5600     1.1100  0.0000    1.1100  ...   0.000716    0.184423   \n",
       "59    0.4900    -0.4100  0.4900    0.0000  ...  -0.000030   -0.145897   \n",
       "60    1.5169    -2.6300  1.5169    0.0000  ...  -0.000443   -0.722140   \n",
       "61    0.2411     0.1034  0.2411    0.0000  ...  -0.000594   -2.292652   \n",
       "62 -131.3780   130.7266  0.0000  130.7266  ...  -0.440402 -145.099311   \n",
       "\n",
       "    signal_ptc   vwmacd_ptc  vwsignal_ptc   mfi_ptc  stoch_ptc   vzo_ptc  \\\n",
       "0          NaN          NaN           NaN       NaN        NaN       NaN   \n",
       "1          inf          inf           inf       NaN        NaN       inf   \n",
       "2    -0.129610    -0.213228      0.170570       NaN        NaN -0.755994   \n",
       "3     1.527019     4.135531      1.765961       NaN        NaN  3.464172   \n",
       "4     0.207524    -0.470293      0.056482       NaN        NaN -1.824142   \n",
       "..         ...          ...           ...       ...        ...       ...   \n",
       "58   -0.060120     0.153665      0.010006 -0.224600  -0.259669 -1.333622   \n",
       "59   -0.072886    -0.164113     -0.026198  0.353090   0.559701 -5.146351   \n",
       "60   -0.161903    -0.348308     -0.083687  0.280694   0.672415  0.441736   \n",
       "61   -0.258759    -1.050063     -0.206355  0.084086   0.047108  0.609978   \n",
       "62   11.222956 -2611.490261     20.702428  0.020183  -0.999500 -2.058658   \n",
       "\n",
       "    apz_u_ptc  apz_l_ptc  \n",
       "0         NaN        NaN  \n",
       "1    0.001277   0.008088  \n",
       "2   -0.003974   0.001889  \n",
       "3    0.002538   0.005776  \n",
       "4    0.000363  -0.001184  \n",
       "..        ...        ...  \n",
       "58  -0.000883  -0.000458  \n",
       "59   0.000186   0.000490  \n",
       "60   0.001806   0.002294  \n",
       "61   0.001733   0.002238  \n",
       "62  -0.154183  -0.158831  \n",
       "\n",
       "[63 rows x 35 columns]"
      ]
     },
     "execution_count": 137,
     "metadata": {},
     "output_type": "execute_result"
    }
   ],
   "source": [
    "ticker_cluster"
   ]
  },
  {
   "cell_type": "code",
   "execution_count": 138,
   "metadata": {
    "pycharm": {
     "name": "#%%\n"
    }
   },
   "outputs": [
    {
     "data": {
      "text/plain": [
       "[<matplotlib.lines.Line2D at 0x7f3ebe587d50>]"
      ]
     },
     "execution_count": 138,
     "metadata": {},
     "output_type": "execute_result"
    },
    {
     "data": {
      "image/png": "[encoded data removed]",
      "text/plain": [
       "<Figure size 432x288 with 1 Axes>"
      ]
     },
     "metadata": {
      "needs_background": "light"
     },
     "output_type": "display_data"
    }
   ],
   "source": [
    "plt.plot(ticker_cluster[\"open\"], color=\"orange\")"
   ]
  },
  {
   "cell_type": "code",
   "execution_count": 139,
   "metadata": {
    "pycharm": {
     "name": "#%%\n"
    }
   },
   "outputs": [
    {
     "data": {
      "text/plain": [
       "[<matplotlib.lines.Line2D at 0x7f3ebe62d0d0>]"
      ]
     },
     "execution_count": 139,
     "metadata": {},
     "output_type": "execute_result"
    },
    {
     "data": {
      "image/png": "[encoded data removed]",
      "text/plain": [
       "<Figure size 432x288 with 1 Axes>"
      ]
     },
     "metadata": {
      "needs_background": "light"
     },
     "output_type": "display_data"
    }
   ],
   "source": [
    "plt.plot(ticker_cluster[\"high\"], color=\"blue\")"
   ]
  },
  {
   "cell_type": "code",
   "execution_count": 140,
   "metadata": {
    "pycharm": {
     "name": "#%%\n"
    }
   },
   "outputs": [
    {
     "data": {
      "text/plain": [
       "[<matplotlib.lines.Line2D at 0x7f3ebc8c0790>]"
      ]
     },
     "execution_count": 140,
     "metadata": {},
     "output_type": "execute_result"
    },
    {
     "data": {
      "image/png": "[encoded data removed]",
      "text/plain": [
       "<Figure size 432x288 with 1 Axes>"
      ]
     },
     "metadata": {
      "needs_background": "light"
     },
     "output_type": "display_data"
    }
   ],
   "source": [
    "plt.plot(ticker_cluster[\"low\"], color=\"red\")"
   ]
  },
  {
   "cell_type": "code",
   "execution_count": 141,
   "metadata": {
    "pycharm": {
     "name": "#%%\n"
    }
   },
   "outputs": [
    {
     "data": {
      "text/plain": [
       "[<matplotlib.lines.Line2D at 0x7f3ebc4dfc50>]"
      ]
     },
     "execution_count": 141,
     "metadata": {},
     "output_type": "execute_result"
    },
    {
     "data": {
      "image/png": "[encoded data removed]",
      "text/plain": [
       "<Figure size 432x288 with 1 Axes>"
      ]
     },
     "metadata": {
      "needs_background": "light"
     },
     "output_type": "display_data"
    }
   ],
   "source": [
    "plt.plot(ticker_cluster[\"close\"], color=\"green\")"
   ]
  },
  {
   "cell_type": "code",
   "execution_count": 142,
   "metadata": {
    "pycharm": {
     "name": "#%%\n"
    }
   },
   "outputs": [
    {
     "data": {
      "text/plain": [
       "[<matplotlib.lines.Line2D at 0x7f3ebc92ca90>]"
      ]
     },
     "execution_count": 142,
     "metadata": {},
     "output_type": "execute_result"
    },
    {
     "data": {
      "image/png": "[encoded data removed]",
      "text/plain": [
       "<Figure size 432x288 with 1 Axes>"
      ]
     },
     "metadata": {
      "needs_background": "light"
     },
     "output_type": "display_data"
    }
   ],
   "source": [
    "plt.plot(ticker_cluster[\"macd\"], color=\"purple\")"
   ]
  },
  {
   "cell_type": "code",
   "execution_count": 143,
   "metadata": {
    "pycharm": {
     "name": "#%%\n"
    }
   },
   "outputs": [
    {
     "data": {
      "text/plain": [
       "[<matplotlib.lines.Line2D at 0x7f3ebc854210>]"
      ]
     },
     "execution_count": 143,
     "metadata": {},
     "output_type": "execute_result"
    },
    {
     "data": {
      "image/png": "[encoded data removed]",
      "text/plain": [
       "<Figure size 432x288 with 1 Axes>"
      ]
     },
     "metadata": {
      "needs_background": "light"
     },
     "output_type": "display_data"
    }
   ],
   "source": [
    "plt.plot(ticker_cluster[\"signal\"], color=\"pink\")"
   ]
  },
  {
   "cell_type": "code",
   "execution_count": 144,
   "metadata": {
    "pycharm": {
     "name": "#%%\n"
    }
   },
   "outputs": [
    {
     "data": {
      "text/plain": [
       "[<matplotlib.lines.Line2D at 0x7f3ebc82fd50>]"
      ]
     },
     "execution_count": 144,
     "metadata": {},
     "output_type": "execute_result"
    },
    {
     "data": {
      "image/png": "[encoded data removed]",
      "text/plain": [
       "<Figure size 432x288 with 1 Axes>"
      ]
     },
     "metadata": {
      "needs_background": "light"
     },
     "output_type": "display_data"
    }
   ],
   "source": [
    "plt.plot(ticker_cluster[\"mfi\"], color=\"yellow\")"
   ]
  },
  {
   "cell_type": "code",
   "execution_count": 145,
   "metadata": {
    "pycharm": {
     "name": "#%%\n"
    }
   },
   "outputs": [
    {
     "data": {
      "text/plain": [
       "[<matplotlib.lines.Line2D at 0x7f3ebc798e90>]"
      ]
     },
     "execution_count": 145,
     "metadata": {},
     "output_type": "execute_result"
    },
    {
     "data": {
      "image/png": "[encoded data removed]",
      "text/plain": [
       "<Figure size 432x288 with 1 Axes>"
      ]
     },
     "metadata": {
      "needs_background": "light"
     },
     "output_type": "display_data"
    }
   ],
   "source": [
    "plt.plot(ticker_cluster[\"bb_up\"], color=\"black\")"
   ]
  },
  {
   "cell_type": "code",
   "execution_count": 146,
   "metadata": {
    "pycharm": {
     "name": "#%%\n"
    }
   },
   "outputs": [
    {
     "data": {
      "text/plain": [
       "[<matplotlib.lines.Line2D at 0x7f3ebc777b90>]"
      ]
     },
     "execution_count": 146,
     "metadata": {},
     "output_type": "execute_result"
    },
    {
     "data": {
      "image/png": "[encoded data removed]",
      "text/plain": [
       "<Figure size 432x288 with 1 Axes>"
      ]
     },
     "metadata": {
      "needs_background": "light"
     },
     "output_type": "display_data"
    }
   ],
   "source": [
    "plt.plot(ticker_cluster[\"bb_low\"], color=\"black\")"
   ]
  },
  {
   "cell_type": "code",
   "execution_count": 147,
   "metadata": {
    "pycharm": {
     "name": "#%%\n"
    }
   },
   "outputs": [
    {
     "data": {
      "text/plain": [
       "[<matplotlib.lines.Line2D at 0x7f3ebc6df450>]"
      ]
     },
     "execution_count": 147,
     "metadata": {},
     "output_type": "execute_result"
    },
    {
     "data": {
      "image/png": "[encoded data removed]",
      "text/plain": [
       "<Figure size 432x288 with 1 Axes>"
      ]
     },
     "metadata": {
      "needs_background": "light"
     },
     "output_type": "display_data"
    }
   ],
   "source": [
    "plt.plot(ticker_cluster[\"vzo\"], color=\"orange\")"
   ]
  },
  {
   "cell_type": "code",
   "execution_count": 148,
   "metadata": {
    "pycharm": {
     "name": "#%%\n"
    }
   },
   "outputs": [
    {
     "data": {
      "text/plain": [
       "[<matplotlib.lines.Line2D at 0x7f3ebc6c5190>]"
      ]
     },
     "execution_count": 148,
     "metadata": {},
     "output_type": "execute_result"
    },
    {
     "data": {
      "image/png": "[encoded data removed]",
      "text/plain": [
       "<Figure size 432x288 with 1 Axes>"
      ]
     },
     "metadata": {
      "needs_background": "light"
     },
     "output_type": "display_data"
    }
   ],
   "source": [
    "plt.plot(ticker_cluster[\"apz_u\"], color=\"grey\")"
   ]
  },
  {
   "cell_type": "code",
   "execution_count": 149,
   "metadata": {
    "pycharm": {
     "name": "#%%\n"
    }
   },
   "outputs": [
    {
     "data": {
      "text/plain": [
       "[<matplotlib.lines.Line2D at 0x7f3ebc621f90>]"
      ]
     },
     "execution_count": 149,
     "metadata": {},
     "output_type": "execute_result"
    },
    {
     "data": {
      "image/png": "[encoded data removed]",
      "text/plain": [
       "<Figure size 432x288 with 1 Axes>"
      ]
     },
     "metadata": {
      "needs_background": "light"
     },
     "output_type": "display_data"
    }
   ],
   "source": [
    "plt.plot(ticker_cluster[\"apz_l\"], color=\"grey\")"
   ]
  },
  {
   "cell_type": "code",
   "execution_count": 150,
   "metadata": {
    "pycharm": {
     "name": "#%%\n"
    }
   },
   "outputs": [
    {
     "data": {
      "text/plain": [
       "[<matplotlib.lines.Line2D at 0x7f3ebc588dd0>]"
      ]
     },
     "execution_count": 150,
     "metadata": {},
     "output_type": "execute_result"
    },
    {
     "data": {
      "image/png": "[encoded data removed]",
      "text/plain": [
       "<Figure size 432x288 with 1 Axes>"
      ]
     },
     "metadata": {
      "needs_background": "light"
     },
     "output_type": "display_data"
    }
   ],
   "source": [
    "plt.plot(ticker_cluster[\"stoch\"], color=\"orange\")"
   ]
  },
  {
   "cell_type": "code",
   "execution_count": 151,
   "metadata": {
    "pycharm": {
     "name": "#%%\n"
    }
   },
   "outputs": [],
   "source": [
    "# plt.plot(ticker_cluster[\"adx\"], color=\"green\")"
   ]
  },
  {
   "cell_type": "code",
   "execution_count": null,
   "metadata": {
    "pycharm": {
     "name": "#%%\n"
    }
   },
   "outputs": [],
   "source": []
  },
  {
   "cell_type": "code",
   "execution_count": 152,
   "metadata": {
    "pycharm": {
     "name": "#%%\n"
    }
   },
   "outputs": [
    {
     "data": {
      "text/plain": [
       "[<matplotlib.lines.Line2D at 0x7f3ebc5774d0>]"
      ]
     },
     "execution_count": 152,
     "metadata": {},
     "output_type": "execute_result"
    },
    {
     "data": {
      "image/png": "[encoded data removed]",
      "text/plain": [
       "<Figure size 432x288 with 1 Axes>"
      ]
     },
     "metadata": {
      "needs_background": "light"
     },
     "output_type": "display_data"
    }
   ],
   "source": [
    "plt.plot(ticker_cluster[\"close\"].pct_change(), color=\"green\")"
   ]
  },
  {
   "cell_type": "code",
   "execution_count": 153,
   "metadata": {
    "pycharm": {
     "name": "#%%\n"
    }
   },
   "outputs": [
    {
     "data": {
      "text/plain": [
       "[<matplotlib.lines.Line2D at 0x7f3ebc49bb50>]"
      ]
     },
     "execution_count": 153,
     "metadata": {},
     "output_type": "execute_result"
    },
    {
     "data": {
      "image/png": "[encoded data removed]",
      "text/plain": [
       "<Figure size 432x288 with 1 Axes>"
      ]
     },
     "metadata": {
      "needs_background": "light"
     },
     "output_type": "display_data"
    }
   ],
   "source": [
    "plt.plot(ticker_cluster[\"macd\"].pct_change(), color=\"purple\")"
   ]
  },
  {
   "cell_type": "code",
   "execution_count": 154,
   "metadata": {
    "pycharm": {
     "name": "#%%\n"
    }
   },
   "outputs": [
    {
     "data": {
      "text/plain": [
       "[<matplotlib.lines.Line2D at 0x7f3ebc414250>]"
      ]
     },
     "execution_count": 154,
     "metadata": {},
     "output_type": "execute_result"
    },
    {
     "data": {
      "image/png": "[encoded data removed]",
      "text/plain": [
       "<Figure size 432x288 with 1 Axes>"
      ]
     },
     "metadata": {
      "needs_background": "light"
     },
     "output_type": "display_data"
    }
   ],
   "source": [
    "plt.plot(ticker_cluster[\"signal\"].pct_change(), color=\"pink\")"
   ]
  },
  {
   "cell_type": "code",
   "execution_count": 155,
   "metadata": {
    "pycharm": {
     "name": "#%%\n"
    }
   },
   "outputs": [
    {
     "data": {
      "text/plain": [
       "[<matplotlib.lines.Line2D at 0x7f3ebc403450>]"
      ]
     },
     "execution_count": 155,
     "metadata": {},
     "output_type": "execute_result"
    },
    {
     "data": {
      "image/png": "[encoded data removed]",
      "text/plain": [
       "<Figure size 432x288 with 1 Axes>"
      ]
     },
     "metadata": {
      "needs_background": "light"
     },
     "output_type": "display_data"
    }
   ],
   "source": [
    "plt.plot(ticker_cluster[\"mfi\"].pct_change(), color=\"yellow\")"
   ]
  },
  {
   "cell_type": "code",
   "execution_count": 156,
   "metadata": {
    "pycharm": {
     "name": "#%%\n"
    }
   },
   "outputs": [
    {
     "data": {
      "text/plain": [
       "[<matplotlib.lines.Line2D at 0x7f3ebb3b3150>]"
      ]
     },
     "execution_count": 156,
     "metadata": {},
     "output_type": "execute_result"
    },
    {
     "data": {
      "image/png": "[encoded data removed]",
      "text/plain": [
       "<Figure size 432x288 with 1 Axes>"
      ]
     },
     "metadata": {
      "needs_background": "light"
     },
     "output_type": "display_data"
    }
   ],
   "source": [
    "plt.plot(ticker_cluster[\"vzo\"].pct_change(), color=\"orange\")"
   ]
  },
  {
   "cell_type": "code",
   "execution_count": 157,
   "metadata": {
    "pycharm": {
     "name": "#%%\n"
    }
   },
   "outputs": [
    {
     "data": {
      "text/plain": [
       "[<matplotlib.lines.Line2D at 0x7f3ebb3196d0>]"
      ]
     },
     "execution_count": 157,
     "metadata": {},
     "output_type": "execute_result"
    },
    {
     "data": {
      "image/png": "[encoded data removed]",
      "text/plain": [
       "<Figure size 432x288 with 1 Axes>"
      ]
     },
     "metadata": {
      "needs_background": "light"
     },
     "output_type": "display_data"
    }
   ],
   "source": [
    "plt.plot(ticker_cluster[\"stoch\"].pct_change(), color=\"orange\")"
   ]
  },
  {
   "cell_type": "code",
   "execution_count": 158,
   "metadata": {
    "pycharm": {
     "name": "#%%\n"
    }
   },
   "outputs": [],
   "source": [
    "vwap = indicators.get_vwap(minute_bars)"
   ]
  },
  {
   "cell_type": "code",
   "execution_count": 159,
   "metadata": {
    "pycharm": {
     "name": "#%%\n"
    }
   },
   "outputs": [
    {
     "data": {
      "text/plain": [
       "[<matplotlib.lines.Line2D at 0x7f3ebb2fccd0>]"
      ]
     },
     "execution_count": 159,
     "metadata": {},
     "output_type": "execute_result"
    },
    {
     "data": {
      "image/png": "[encoded data removed]",
      "text/plain": [
       "<Figure size 432x288 with 1 Axes>"
      ]
     },
     "metadata": {
      "needs_background": "light"
     },
     "output_type": "display_data"
    }
   ],
   "source": [
    "plt.plot(vwap, color=\"blue\")"
   ]
  },
  {
   "cell_type": "code",
   "execution_count": 160,
   "metadata": {
    "pycharm": {
     "name": "#%%\n"
    }
   },
   "outputs": [
    {
     "data": {
      "text/plain": [
       "[<matplotlib.lines.Line2D at 0x7f3ebb234210>]"
      ]
     },
     "execution_count": 160,
     "metadata": {},
     "output_type": "execute_result"
    },
    {
     "data": {
      "image/png": "[encoded data removed]",
      "text/plain": [
       "<Figure size 432x288 with 1 Axes>"
      ]
     },
     "metadata": {
      "needs_background": "light"
     },
     "output_type": "display_data"
    }
   ],
   "source": [
    "plt.plot(vwap.pct_change(), color=\"blue\")"
   ]
  },
  {
   "cell_type": "code",
   "execution_count": 161,
   "metadata": {
    "pycharm": {
     "name": "#%%\n"
    }
   },
   "outputs": [],
   "source": [
    "minute_macd = indicators.get_macd(minute_bars)"
   ]
  },
  {
   "cell_type": "code",
   "execution_count": 162,
   "metadata": {
    "pycharm": {
     "name": "#%%\n"
    }
   },
   "outputs": [
    {
     "data": {
      "text/plain": [
       "[<matplotlib.lines.Line2D at 0x7f3ebb1a7410>]"
      ]
     },
     "execution_count": 162,
     "metadata": {},
     "output_type": "execute_result"
    },
    {
     "data": {
      "image/png": "[encoded data removed]",
      "text/plain": [
       "<Figure size 432x288 with 1 Axes>"
      ]
     },
     "metadata": {
      "needs_background": "light"
     },
     "output_type": "display_data"
    }
   ],
   "source": [
    "plt.plot(minute_macd[\"MACD\"].iloc[-50:], color=\"red\")\n",
    "plt.plot(minute_macd[\"SIGNAL\"].iloc[-50:], color=\"green\")"
   ]
  },
  {
   "cell_type": "code",
   "execution_count": 163,
   "metadata": {
    "pycharm": {
     "name": "#%%\n"
    }
   },
   "outputs": [
    {
     "data": {
      "text/plain": [
       "[<matplotlib.lines.Line2D at 0x7f3ebb168190>]"
      ]
     },
     "execution_count": 163,
     "metadata": {},
     "output_type": "execute_result"
    },
    {
     "data": {
      "image/png": "[encoded data removed]",
      "text/plain": [
       "<Figure size 432x288 with 1 Axes>"
      ]
     },
     "metadata": {
      "needs_background": "light"
     },
     "output_type": "display_data"
    }
   ],
   "source": [
    "plt.plot(minute_bars[\"close\"].iloc[-50:], color=\"orange\")\n",
    "plt.plot(vwap.iloc[-50:], color=\"blue\")"
   ]
  },
  {
   "cell_type": "code",
   "execution_count": 164,
   "metadata": {
    "pycharm": {
     "name": "#%%\n"
    }
   },
   "outputs": [
    {
     "data": {
      "text/plain": [
       "[<matplotlib.lines.Line2D at 0x7f3ebb104510>]"
      ]
     },
     "execution_count": 164,
     "metadata": {},
     "output_type": "execute_result"
    },
    {
     "data": {
      "image/png": "[encoded data removed]",
      "text/plain": [
       "<Figure size 432x288 with 1 Axes>"
      ]
     },
     "metadata": {
      "needs_background": "light"
     },
     "output_type": "display_data"
    }
   ],
   "source": [
    "plt.plot(minute_bars[\"close\"].iloc[-50:], color=\"orange\")"
   ]
  },
  {
   "cell_type": "code",
   "execution_count": 165,
   "metadata": {},
   "outputs": [],
   "source": [
    "# Feature Scaling Normalization\n",
    "close_prices = pd.DataFrame(minute_bars[\"close\"])\n",
    "sc = MinMaxScaler(feature_range = (0, 1))\n",
    "training_set_scaled = sc.fit_transform(close_prices)"
   ]
  },
  {
   "cell_type": "code",
   "execution_count": 166,
   "metadata": {},
   "outputs": [
    {
     "data": {
      "text/plain": [
       "array([[9.57495565e-01],\n",
       "       [9.58567416e-01],\n",
       "       [9.59565346e-01],\n",
       "       [9.57828208e-01],\n",
       "       [9.58937020e-01],\n",
       "       [9.59158782e-01],\n",
       "       [9.59713187e-01],\n",
       "       [9.62670018e-01],\n",
       "       [9.64518037e-01],\n",
       "       [9.64296274e-01],\n",
       "       [9.65774690e-01],\n",
       "       [9.74571260e-01],\n",
       "       [9.72945003e-01],\n",
       "       [9.68953282e-01],\n",
       "       [9.69840331e-01],\n",
       "       [9.70579539e-01],\n",
       "       [9.70136014e-01],\n",
       "       [9.71836192e-01],\n",
       "       [9.69618569e-01],\n",
       "       [9.69988173e-01],\n",
       "       [9.62226493e-01],\n",
       "       [9.60082791e-01],\n",
       "       [9.50916617e-01],\n",
       "       [9.46703134e-01],\n",
       "       [9.55869308e-01],\n",
       "       [9.55795387e-01],\n",
       "       [9.57865169e-01],\n",
       "       [9.62078652e-01],\n",
       "       [9.62448255e-01],\n",
       "       [9.61191603e-01],\n",
       "       [9.62374335e-01],\n",
       "       [9.64148433e-01],\n",
       "       [9.75606150e-01],\n",
       "       [9.70653459e-01],\n",
       "       [9.71836192e-01],\n",
       "       [9.72279716e-01],\n",
       "       [9.78045535e-01],\n",
       "       [9.76493199e-01],\n",
       "       [9.75088705e-01],\n",
       "       [9.66292135e-01],\n",
       "       [9.71023063e-01],\n",
       "       [9.60526316e-01],\n",
       "       [9.61413365e-01],\n",
       "       [9.58160852e-01],\n",
       "       [9.63335305e-01],\n",
       "       [9.63261384e-01],\n",
       "       [9.62448255e-01],\n",
       "       [9.62300414e-01],\n",
       "       [9.60674157e-01],\n",
       "       [9.60969840e-01],\n",
       "       [9.60230633e-01],\n",
       "       [9.60674157e-01],\n",
       "       [9.60008870e-01],\n",
       "       [9.60526316e-01],\n",
       "       [9.61782969e-01],\n",
       "       [9.62078652e-01],\n",
       "       [9.61561206e-01],\n",
       "       [9.61413365e-01],\n",
       "       [9.61635127e-01],\n",
       "       [9.60821999e-01],\n",
       "       [9.60748078e-01],\n",
       "       [9.60821999e-01],\n",
       "       [9.60821999e-01],\n",
       "       [9.60378474e-01],\n",
       "       [9.60156712e-01],\n",
       "       [9.60748078e-01],\n",
       "       [9.61561206e-01],\n",
       "       [9.60674157e-01],\n",
       "       [9.60969840e-01],\n",
       "       [9.60821999e-01],\n",
       "       [9.73314607e-01],\n",
       "       [9.80410999e-01],\n",
       "       [9.80632762e-01],\n",
       "       [9.89872856e-01],\n",
       "       [9.88542283e-01],\n",
       "       [9.79302188e-01],\n",
       "       [9.78636901e-01],\n",
       "       [9.81002365e-01],\n",
       "       [9.81741573e-01],\n",
       "       [9.81298048e-01],\n",
       "       [9.92164400e-01],\n",
       "       [9.94825547e-01],\n",
       "       [9.94899468e-01],\n",
       "       [9.93938498e-01],\n",
       "       [1.00000000e+00],\n",
       "       [9.67992312e-01],\n",
       "       [9.59713187e-01],\n",
       "       [9.58530455e-01],\n",
       "       [9.56164991e-01],\n",
       "       [9.56238912e-01],\n",
       "       [9.56091070e-01],\n",
       "       [9.55721467e-01],\n",
       "       [9.55277942e-01],\n",
       "       [9.55204021e-01],\n",
       "       [9.54908338e-01],\n",
       "       [9.55277942e-01],\n",
       "       [9.55573625e-01],\n",
       "       [9.56017150e-01],\n",
       "       [9.55795387e-01],\n",
       "       [9.55647546e-01],\n",
       "       [9.54982259e-01],\n",
       "       [9.55204021e-01],\n",
       "       [9.54649616e-01],\n",
       "       [9.54649616e-01],\n",
       "       [9.54908338e-01],\n",
       "       [9.55277942e-01],\n",
       "       [9.54982259e-01],\n",
       "       [9.52764636e-01],\n",
       "       [9.52912478e-01],\n",
       "       [9.53282082e-01],\n",
       "       [9.52986399e-01],\n",
       "       [9.52764636e-01],\n",
       "       [9.53134240e-01],\n",
       "       [9.53134240e-01],\n",
       "       [9.53134240e-01],\n",
       "       [9.52838557e-01],\n",
       "       [9.52764636e-01],\n",
       "       [9.52321112e-01],\n",
       "       [9.51951508e-01],\n",
       "       [9.51951508e-01],\n",
       "       [9.60119752e-01],\n",
       "       [9.60526316e-01],\n",
       "       [9.62226493e-01],\n",
       "       [9.49142519e-01],\n",
       "       [9.74940863e-01],\n",
       "       [9.79154347e-01],\n",
       "       [9.75975754e-01],\n",
       "       [9.82074216e-01],\n",
       "       [9.51581904e-01],\n",
       "       [9.52247191e-01],\n",
       "       [9.54834418e-01],\n",
       "       [9.58308693e-01],\n",
       "       [9.61339444e-01],\n",
       "       [9.60969840e-01],\n",
       "       [9.59934950e-01],\n",
       "       [9.58160852e-01],\n",
       "       [9.58382614e-01],\n",
       "       [9.58308693e-01],\n",
       "       [9.41824364e-01],\n",
       "       [9.55832348e-01],\n",
       "       [9.68509758e-01],\n",
       "       [9.65331165e-01],\n",
       "       [9.64887640e-01],\n",
       "       [9.61339444e-01],\n",
       "       [9.65626848e-01],\n",
       "       [9.64074512e-01],\n",
       "       [9.60230633e-01],\n",
       "       [9.57199882e-01],\n",
       "       [9.65035482e-01],\n",
       "       [9.65700769e-01],\n",
       "       [9.66070373e-01],\n",
       "       [9.66366056e-01],\n",
       "       [9.67253105e-01],\n",
       "       [9.44115908e-01],\n",
       "       [9.43524542e-01],\n",
       "       [9.50620934e-01],\n",
       "       [9.53540804e-01],\n",
       "       [9.53873448e-01],\n",
       "       [9.54760497e-01],\n",
       "       [9.54760497e-01],\n",
       "       [9.54686576e-01],\n",
       "       [9.51729746e-01],\n",
       "       [9.51877587e-01],\n",
       "       [9.50694855e-01],\n",
       "       [9.46703134e-01],\n",
       "       [9.53356002e-01],\n",
       "       [9.54982259e-01],\n",
       "       [9.54760497e-01],\n",
       "       [9.54760497e-01],\n",
       "       [9.55130101e-01],\n",
       "       [9.55056180e-01],\n",
       "       [9.55351863e-01],\n",
       "       [9.55351863e-01],\n",
       "       [9.55351863e-01],\n",
       "       [9.54095210e-01],\n",
       "       [9.54243051e-01],\n",
       "       [9.55795387e-01],\n",
       "       [9.49031638e-01],\n",
       "       [9.48698995e-01],\n",
       "       [9.55204021e-01],\n",
       "       [9.55351863e-01],\n",
       "       [9.54760497e-01],\n",
       "       [9.55906268e-01],\n",
       "       [9.54390893e-01],\n",
       "       [9.69064163e-01],\n",
       "       [9.68694559e-01],\n",
       "       [1.47841514e-04],\n",
       "       [1.47841514e-04],\n",
       "       [1.47841514e-04],\n",
       "       [7.39207569e-05],\n",
       "       [3.69603785e-05],\n",
       "       [0.00000000e+00]])"
      ]
     },
     "execution_count": 166,
     "metadata": {},
     "output_type": "execute_result"
    }
   ],
   "source": [
    "training_set_scaled"
   ]
  },
  {
   "cell_type": "code",
   "execution_count": 48,
   "metadata": {},
   "outputs": [
    {
     "ename": "IndexError",
     "evalue": "index 194 is out of bounds for axis 0 with size 194",
     "output_type": "error",
     "traceback": [
      "\u001b[0;31m---------------------------------------------------------------------------\u001b[0m",
      "\u001b[0;31mIndexError\u001b[0m                                Traceback (most recent call last)",
      "\u001b[0;32m<ipython-input-48-dfa202b40d12>\u001b[0m in \u001b[0;36m<module>\u001b[0;34m\u001b[0m\n\u001b[1;32m      4\u001b[0m \u001b[0;32mfor\u001b[0m \u001b[0mi\u001b[0m \u001b[0;32min\u001b[0m \u001b[0mrange\u001b[0m\u001b[0;34m(\u001b[0m\u001b[0;36m60\u001b[0m\u001b[0;34m,\u001b[0m \u001b[0;36m1258\u001b[0m\u001b[0;34m)\u001b[0m\u001b[0;34m:\u001b[0m\u001b[0;34m\u001b[0m\u001b[0;34m\u001b[0m\u001b[0m\n\u001b[1;32m      5\u001b[0m     \u001b[0mX_train\u001b[0m\u001b[0;34m.\u001b[0m\u001b[0mappend\u001b[0m\u001b[0;34m(\u001b[0m\u001b[0mtraining_set_scaled\u001b[0m\u001b[0;34m[\u001b[0m\u001b[0mi\u001b[0m\u001b[0;34m-\u001b[0m\u001b[0;36m60\u001b[0m\u001b[0;34m:\u001b[0m\u001b[0mi\u001b[0m\u001b[0;34m,\u001b[0m \u001b[0;36m0\u001b[0m\u001b[0;34m]\u001b[0m\u001b[0;34m)\u001b[0m\u001b[0;34m\u001b[0m\u001b[0;34m\u001b[0m\u001b[0m\n\u001b[0;32m----> 6\u001b[0;31m     \u001b[0my_train\u001b[0m\u001b[0;34m.\u001b[0m\u001b[0mappend\u001b[0m\u001b[0;34m(\u001b[0m\u001b[0mtraining_set_scaled\u001b[0m\u001b[0;34m[\u001b[0m\u001b[0mi\u001b[0m\u001b[0;34m,\u001b[0m \u001b[0;36m0\u001b[0m\u001b[0;34m]\u001b[0m\u001b[0;34m)\u001b[0m\u001b[0;34m\u001b[0m\u001b[0;34m\u001b[0m\u001b[0m\n\u001b[0m\u001b[1;32m      7\u001b[0m \u001b[0mX_train\u001b[0m\u001b[0;34m,\u001b[0m \u001b[0my_train\u001b[0m \u001b[0;34m=\u001b[0m \u001b[0mnp\u001b[0m\u001b[0;34m.\u001b[0m\u001b[0marray\u001b[0m\u001b[0;34m(\u001b[0m\u001b[0mX_train\u001b[0m\u001b[0;34m)\u001b[0m\u001b[0;34m,\u001b[0m \u001b[0mnp\u001b[0m\u001b[0;34m.\u001b[0m\u001b[0marray\u001b[0m\u001b[0;34m(\u001b[0m\u001b[0my_train\u001b[0m\u001b[0;34m)\u001b[0m\u001b[0;34m\u001b[0m\u001b[0;34m\u001b[0m\u001b[0m\n\u001b[1;32m      8\u001b[0m \u001b[0;34m\u001b[0m\u001b[0m\n",
      "\u001b[0;31mIndexError\u001b[0m: index 194 is out of bounds for axis 0 with size 194"
     ]
    }
   ],
   "source": [
    "# Creating a data structure with 60 timesteps and 1 output\n",
    "X_train = []\n",
    "y_train = []\n",
    "for i in range(60, 1258):\n",
    "    X_train.append(training_set_scaled[i-60:i, 0])\n",
    "    y_train.append(training_set_scaled[i, 0])\n",
    "X_train, y_train = np.array(X_train), np.array(y_train)\n",
    "\n",
    "# Reshaping\n",
    "X_train = np.reshape(X_train, (X_train.shape[0], X_train.shape[1], 1))"
   ]
  },
  {
   "cell_type": "code",
   "execution_count": 167,
   "metadata": {},
   "outputs": [],
   "source": [
    "spy_bars = selector.get_barset(\"SPY\", \"1D\", backdate)\n",
    "spy_bars = selector.extract_bar_data(spy_bars, \"SPY\")"
   ]
  },
  {
   "cell_type": "code",
   "execution_count": 168,
   "metadata": {
    "pycharm": {
     "name": "#%%\n"
    }
   },
   "outputs": [
    {
     "name": "stderr",
     "output_type": "stream",
     "text": [
      "/home/ben/anaconda3/envs/alpaca_test/lib/python3.7/site-packages/empyrical/stats.py:265: RuntimeWarning:\n",
      "\n",
      "overflow encountered in multiply\n",
      "\n",
      "/home/ben/anaconda3/envs/alpaca_test/lib/python3.7/site-packages/empyrical/stats.py:394: RuntimeWarning:\n",
      "\n",
      "invalid value encountered in subtract\n",
      "\n"
     ]
    },
    {
     "data": {
      "text/html": [
       "<div>\n",
       "<style scoped>\n",
       "    .dataframe tbody tr th:only-of-type {\n",
       "        vertical-align: middle;\n",
       "    }\n",
       "\n",
       "    .dataframe tbody tr th {\n",
       "        vertical-align: top;\n",
       "    }\n",
       "\n",
       "    .dataframe thead th {\n",
       "        text-align: right;\n",
       "    }\n",
       "</style>\n",
       "<table border=\"1\" class=\"dataframe\">\n",
       "  <thead>\n",
       "    <tr style=\"text-align: right;\">\n",
       "      <th></th>\n",
       "      <th>time</th>\n",
       "      <th>open</th>\n",
       "      <th>high</th>\n",
       "      <th>low</th>\n",
       "      <th>close</th>\n",
       "      <th>volume</th>\n",
       "    </tr>\n",
       "  </thead>\n",
       "  <tbody>\n",
       "    <tr>\n",
       "      <td>13</td>\n",
       "      <td>2019-08-26 00:00:00-04:00</td>\n",
       "      <td>147.50</td>\n",
       "      <td>148.0900</td>\n",
       "      <td>147.0700</td>\n",
       "      <td>147.3000</td>\n",
       "      <td>108171</td>\n",
       "    </tr>\n",
       "    <tr>\n",
       "      <td>14</td>\n",
       "      <td>2019-08-27 00:00:00-04:00</td>\n",
       "      <td>147.50</td>\n",
       "      <td>148.8301</td>\n",
       "      <td>147.4400</td>\n",
       "      <td>148.6300</td>\n",
       "      <td>77971</td>\n",
       "    </tr>\n",
       "    <tr>\n",
       "      <td>15</td>\n",
       "      <td>2019-08-28 00:00:00-04:00</td>\n",
       "      <td>148.56</td>\n",
       "      <td>148.8200</td>\n",
       "      <td>147.8300</td>\n",
       "      <td>148.3700</td>\n",
       "      <td>65457</td>\n",
       "    </tr>\n",
       "    <tr>\n",
       "      <td>16</td>\n",
       "      <td>2019-08-29 00:00:00-04:00</td>\n",
       "      <td>148.55</td>\n",
       "      <td>148.6500</td>\n",
       "      <td>146.4600</td>\n",
       "      <td>147.2100</td>\n",
       "      <td>141848</td>\n",
       "    </tr>\n",
       "    <tr>\n",
       "      <td>17</td>\n",
       "      <td>2019-08-30 00:00:00-04:00</td>\n",
       "      <td>146.97</td>\n",
       "      <td>147.6800</td>\n",
       "      <td>146.2000</td>\n",
       "      <td>146.9100</td>\n",
       "      <td>106578</td>\n",
       "    </tr>\n",
       "    <tr>\n",
       "      <td>18</td>\n",
       "      <td>2019-09-03 00:00:00-04:00</td>\n",
       "      <td>148.15</td>\n",
       "      <td>149.3100</td>\n",
       "      <td>147.8600</td>\n",
       "      <td>148.8500</td>\n",
       "      <td>132670</td>\n",
       "    </tr>\n",
       "    <tr>\n",
       "      <td>19</td>\n",
       "      <td>2019-09-04 00:00:00-04:00</td>\n",
       "      <td>148.77</td>\n",
       "      <td>150.0000</td>\n",
       "      <td>148.7300</td>\n",
       "      <td>149.8300</td>\n",
       "      <td>74818</td>\n",
       "    </tr>\n",
       "    <tr>\n",
       "      <td>20</td>\n",
       "      <td>2019-09-05 00:00:00-04:00</td>\n",
       "      <td>148.17</td>\n",
       "      <td>148.1800</td>\n",
       "      <td>145.2100</td>\n",
       "      <td>146.2762</td>\n",
       "      <td>153327</td>\n",
       "    </tr>\n",
       "    <tr>\n",
       "      <td>21</td>\n",
       "      <td>2019-09-06 00:00:00-04:00</td>\n",
       "      <td>146.78</td>\n",
       "      <td>147.1100</td>\n",
       "      <td>144.9400</td>\n",
       "      <td>145.0000</td>\n",
       "      <td>71204</td>\n",
       "    </tr>\n",
       "    <tr>\n",
       "      <td>22</td>\n",
       "      <td>2019-09-09 00:00:00-04:00</td>\n",
       "      <td>145.46</td>\n",
       "      <td>145.5500</td>\n",
       "      <td>144.2600</td>\n",
       "      <td>144.5600</td>\n",
       "      <td>48073</td>\n",
       "    </tr>\n",
       "    <tr>\n",
       "      <td>23</td>\n",
       "      <td>2019-09-10 00:00:00-04:00</td>\n",
       "      <td>144.16</td>\n",
       "      <td>144.4700</td>\n",
       "      <td>143.2500</td>\n",
       "      <td>143.2800</td>\n",
       "      <td>73133</td>\n",
       "    </tr>\n",
       "    <tr>\n",
       "      <td>24</td>\n",
       "      <td>2019-09-11 00:00:00-04:00</td>\n",
       "      <td>143.43</td>\n",
       "      <td>144.3300</td>\n",
       "      <td>143.3700</td>\n",
       "      <td>144.1000</td>\n",
       "      <td>37947</td>\n",
       "    </tr>\n",
       "    <tr>\n",
       "      <td>25</td>\n",
       "      <td>2019-09-12 00:00:00-04:00</td>\n",
       "      <td>145.87</td>\n",
       "      <td>146.1500</td>\n",
       "      <td>144.2500</td>\n",
       "      <td>144.3700</td>\n",
       "      <td>49677</td>\n",
       "    </tr>\n",
       "    <tr>\n",
       "      <td>26</td>\n",
       "      <td>2019-09-13 00:00:00-04:00</td>\n",
       "      <td>144.86</td>\n",
       "      <td>145.0700</td>\n",
       "      <td>143.1100</td>\n",
       "      <td>143.2168</td>\n",
       "      <td>32353</td>\n",
       "    </tr>\n",
       "    <tr>\n",
       "      <td>27</td>\n",
       "      <td>2019-09-16 00:00:00-04:00</td>\n",
       "      <td>144.59</td>\n",
       "      <td>145.1200</td>\n",
       "      <td>144.1537</td>\n",
       "      <td>144.4500</td>\n",
       "      <td>39879</td>\n",
       "    </tr>\n",
       "    <tr>\n",
       "      <td>28</td>\n",
       "      <td>2019-09-17 00:00:00-04:00</td>\n",
       "      <td>144.95</td>\n",
       "      <td>145.1700</td>\n",
       "      <td>144.5600</td>\n",
       "      <td>144.6800</td>\n",
       "      <td>232039</td>\n",
       "    </tr>\n",
       "    <tr>\n",
       "      <td>29</td>\n",
       "      <td>2019-09-18 00:00:00-04:00</td>\n",
       "      <td>145.00</td>\n",
       "      <td>145.6000</td>\n",
       "      <td>142.9100</td>\n",
       "      <td>143.7900</td>\n",
       "      <td>227292</td>\n",
       "    </tr>\n",
       "    <tr>\n",
       "      <td>30</td>\n",
       "      <td>2019-09-19 00:00:00-04:00</td>\n",
       "      <td>144.66</td>\n",
       "      <td>144.7779</td>\n",
       "      <td>144.1878</td>\n",
       "      <td>144.3500</td>\n",
       "      <td>53139</td>\n",
       "    </tr>\n",
       "    <tr>\n",
       "      <td>31</td>\n",
       "      <td>2019-09-20 00:00:00-04:00</td>\n",
       "      <td>144.74</td>\n",
       "      <td>146.1043</td>\n",
       "      <td>144.5697</td>\n",
       "      <td>146.0900</td>\n",
       "      <td>50381</td>\n",
       "    </tr>\n",
       "    <tr>\n",
       "      <td>32</td>\n",
       "      <td>2019-09-23 00:00:00-04:00</td>\n",
       "      <td>146.38</td>\n",
       "      <td>147.0800</td>\n",
       "      <td>146.3000</td>\n",
       "      <td>146.9100</td>\n",
       "      <td>58105</td>\n",
       "    </tr>\n",
       "    <tr>\n",
       "      <td>33</td>\n",
       "      <td>2019-09-24 00:00:00-04:00</td>\n",
       "      <td>146.36</td>\n",
       "      <td>147.8230</td>\n",
       "      <td>146.0000</td>\n",
       "      <td>147.6800</td>\n",
       "      <td>60202</td>\n",
       "    </tr>\n",
       "    <tr>\n",
       "      <td>34</td>\n",
       "      <td>2019-09-25 00:00:00-04:00</td>\n",
       "      <td>147.27</td>\n",
       "      <td>147.4300</td>\n",
       "      <td>144.6000</td>\n",
       "      <td>144.9000</td>\n",
       "      <td>76595</td>\n",
       "    </tr>\n",
       "    <tr>\n",
       "      <td>35</td>\n",
       "      <td>2019-09-26 00:00:00-04:00</td>\n",
       "      <td>145.36</td>\n",
       "      <td>145.6470</td>\n",
       "      <td>144.7100</td>\n",
       "      <td>144.9000</td>\n",
       "      <td>49766</td>\n",
       "    </tr>\n",
       "    <tr>\n",
       "      <td>36</td>\n",
       "      <td>2019-09-27 00:00:00-04:00</td>\n",
       "      <td>143.49</td>\n",
       "      <td>144.7800</td>\n",
       "      <td>143.2300</td>\n",
       "      <td>144.1600</td>\n",
       "      <td>104775</td>\n",
       "    </tr>\n",
       "    <tr>\n",
       "      <td>37</td>\n",
       "      <td>2019-09-30 00:00:00-04:00</td>\n",
       "      <td>142.92</td>\n",
       "      <td>143.2100</td>\n",
       "      <td>141.0914</td>\n",
       "      <td>141.9300</td>\n",
       "      <td>85372</td>\n",
       "    </tr>\n",
       "    <tr>\n",
       "      <td>38</td>\n",
       "      <td>2019-10-01 00:00:00-04:00</td>\n",
       "      <td>141.06</td>\n",
       "      <td>143.1400</td>\n",
       "      <td>140.8850</td>\n",
       "      <td>142.7400</td>\n",
       "      <td>90143</td>\n",
       "    </tr>\n",
       "    <tr>\n",
       "      <td>39</td>\n",
       "      <td>2019-10-02 00:00:00-04:00</td>\n",
       "      <td>143.92</td>\n",
       "      <td>145.0000</td>\n",
       "      <td>143.5500</td>\n",
       "      <td>144.3700</td>\n",
       "      <td>169886</td>\n",
       "    </tr>\n",
       "    <tr>\n",
       "      <td>40</td>\n",
       "      <td>2019-10-03 00:00:00-04:00</td>\n",
       "      <td>144.47</td>\n",
       "      <td>146.2600</td>\n",
       "      <td>144.4000</td>\n",
       "      <td>145.0000</td>\n",
       "      <td>619302</td>\n",
       "    </tr>\n",
       "    <tr>\n",
       "      <td>41</td>\n",
       "      <td>2019-10-04 00:00:00-04:00</td>\n",
       "      <td>144.73</td>\n",
       "      <td>145.5100</td>\n",
       "      <td>144.3301</td>\n",
       "      <td>144.9500</td>\n",
       "      <td>62697</td>\n",
       "    </tr>\n",
       "    <tr>\n",
       "      <td>42</td>\n",
       "      <td>2019-10-07 00:00:00-04:00</td>\n",
       "      <td>144.33</td>\n",
       "      <td>144.8400</td>\n",
       "      <td>143.4744</td>\n",
       "      <td>143.8200</td>\n",
       "      <td>59521</td>\n",
       "    </tr>\n",
       "    <tr>\n",
       "      <td>43</td>\n",
       "      <td>2019-10-08 00:00:00-04:00</td>\n",
       "      <td>145.12</td>\n",
       "      <td>145.7000</td>\n",
       "      <td>144.3000</td>\n",
       "      <td>145.0700</td>\n",
       "      <td>103002</td>\n",
       "    </tr>\n",
       "    <tr>\n",
       "      <td>44</td>\n",
       "      <td>2019-10-09 00:00:00-04:00</td>\n",
       "      <td>145.36</td>\n",
       "      <td>145.6700</td>\n",
       "      <td>145.0075</td>\n",
       "      <td>145.1800</td>\n",
       "      <td>66891</td>\n",
       "    </tr>\n",
       "    <tr>\n",
       "      <td>45</td>\n",
       "      <td>2019-10-10 00:00:00-04:00</td>\n",
       "      <td>144.76</td>\n",
       "      <td>144.7600</td>\n",
       "      <td>143.6800</td>\n",
       "      <td>143.8600</td>\n",
       "      <td>60799</td>\n",
       "    </tr>\n",
       "    <tr>\n",
       "      <td>46</td>\n",
       "      <td>2019-10-11 00:00:00-04:00</td>\n",
       "      <td>143.07</td>\n",
       "      <td>143.2000</td>\n",
       "      <td>141.9900</td>\n",
       "      <td>143.1700</td>\n",
       "      <td>124942</td>\n",
       "    </tr>\n",
       "    <tr>\n",
       "      <td>47</td>\n",
       "      <td>2019-10-14 00:00:00-04:00</td>\n",
       "      <td>143.50</td>\n",
       "      <td>143.9140</td>\n",
       "      <td>143.4300</td>\n",
       "      <td>143.7500</td>\n",
       "      <td>16230</td>\n",
       "    </tr>\n",
       "    <tr>\n",
       "      <td>48</td>\n",
       "      <td>2019-10-15 00:00:00-04:00</td>\n",
       "      <td>143.38</td>\n",
       "      <td>143.3800</td>\n",
       "      <td>142.2990</td>\n",
       "      <td>142.7000</td>\n",
       "      <td>76046</td>\n",
       "    </tr>\n",
       "    <tr>\n",
       "      <td>49</td>\n",
       "      <td>2019-10-16 00:00:00-04:00</td>\n",
       "      <td>143.28</td>\n",
       "      <td>143.6000</td>\n",
       "      <td>142.8000</td>\n",
       "      <td>143.4900</td>\n",
       "      <td>61513</td>\n",
       "    </tr>\n",
       "    <tr>\n",
       "      <td>50</td>\n",
       "      <td>2019-10-17 00:00:00-04:00</td>\n",
       "      <td>143.61</td>\n",
       "      <td>144.2000</td>\n",
       "      <td>143.5347</td>\n",
       "      <td>143.6600</td>\n",
       "      <td>24822</td>\n",
       "    </tr>\n",
       "    <tr>\n",
       "      <td>51</td>\n",
       "      <td>2019-10-18 00:00:00-04:00</td>\n",
       "      <td>143.65</td>\n",
       "      <td>143.9400</td>\n",
       "      <td>143.4000</td>\n",
       "      <td>143.5800</td>\n",
       "      <td>22497</td>\n",
       "    </tr>\n",
       "    <tr>\n",
       "      <td>52</td>\n",
       "      <td>2019-10-21 00:00:00-04:00</td>\n",
       "      <td>143.89</td>\n",
       "      <td>143.8900</td>\n",
       "      <td>142.7000</td>\n",
       "      <td>142.9300</td>\n",
       "      <td>39015</td>\n",
       "    </tr>\n",
       "    <tr>\n",
       "      <td>53</td>\n",
       "      <td>2019-10-22 00:00:00-04:00</td>\n",
       "      <td>143.28</td>\n",
       "      <td>143.3800</td>\n",
       "      <td>142.8303</td>\n",
       "      <td>143.3500</td>\n",
       "      <td>35477</td>\n",
       "    </tr>\n",
       "    <tr>\n",
       "      <td>54</td>\n",
       "      <td>2019-10-23 00:00:00-04:00</td>\n",
       "      <td>143.65</td>\n",
       "      <td>144.0898</td>\n",
       "      <td>143.5720</td>\n",
       "      <td>143.6800</td>\n",
       "      <td>27212</td>\n",
       "    </tr>\n",
       "    <tr>\n",
       "      <td>55</td>\n",
       "      <td>2019-10-24 00:00:00-04:00</td>\n",
       "      <td>144.12</td>\n",
       "      <td>144.8828</td>\n",
       "      <td>144.1000</td>\n",
       "      <td>144.7200</td>\n",
       "      <td>33539</td>\n",
       "    </tr>\n",
       "    <tr>\n",
       "      <td>56</td>\n",
       "      <td>2019-10-25 00:00:00-04:00</td>\n",
       "      <td>146.00</td>\n",
       "      <td>146.0000</td>\n",
       "      <td>144.5900</td>\n",
       "      <td>145.0500</td>\n",
       "      <td>26323</td>\n",
       "    </tr>\n",
       "    <tr>\n",
       "      <td>57</td>\n",
       "      <td>2019-10-28 00:00:00-04:00</td>\n",
       "      <td>144.30</td>\n",
       "      <td>144.3300</td>\n",
       "      <td>143.3700</td>\n",
       "      <td>143.8000</td>\n",
       "      <td>56162</td>\n",
       "    </tr>\n",
       "    <tr>\n",
       "      <td>58</td>\n",
       "      <td>2019-10-29 00:00:00-04:00</td>\n",
       "      <td>143.16</td>\n",
       "      <td>143.7700</td>\n",
       "      <td>142.2600</td>\n",
       "      <td>143.3300</td>\n",
       "      <td>62471</td>\n",
       "    </tr>\n",
       "    <tr>\n",
       "      <td>59</td>\n",
       "      <td>2019-10-30 00:00:00-04:00</td>\n",
       "      <td>143.58</td>\n",
       "      <td>144.2600</td>\n",
       "      <td>142.6700</td>\n",
       "      <td>144.0800</td>\n",
       "      <td>95288</td>\n",
       "    </tr>\n",
       "    <tr>\n",
       "      <td>60</td>\n",
       "      <td>2019-10-31 00:00:00-04:00</td>\n",
       "      <td>145.73</td>\n",
       "      <td>145.7769</td>\n",
       "      <td>145.3000</td>\n",
       "      <td>145.5200</td>\n",
       "      <td>41024</td>\n",
       "    </tr>\n",
       "    <tr>\n",
       "      <td>61</td>\n",
       "      <td>2019-11-01 00:00:00-04:00</td>\n",
       "      <td>145.42</td>\n",
       "      <td>146.0180</td>\n",
       "      <td>145.1966</td>\n",
       "      <td>145.6900</td>\n",
       "      <td>98510</td>\n",
       "    </tr>\n",
       "    <tr>\n",
       "      <td>62</td>\n",
       "      <td>2019-11-04 00:00:00-05:00</td>\n",
       "      <td>14.50</td>\n",
       "      <td>14.6400</td>\n",
       "      <td>14.4700</td>\n",
       "      <td>14.5300</td>\n",
       "      <td>609464</td>\n",
       "    </tr>\n",
       "  </tbody>\n",
       "</table>\n",
       "</div>"
      ],
      "text/plain": [
       "                        time    open      high       low     close  volume\n",
       "13 2019-08-26 00:00:00-04:00  147.50  148.0900  147.0700  147.3000  108171\n",
       "14 2019-08-27 00:00:00-04:00  147.50  148.8301  147.4400  148.6300   77971\n",
       "15 2019-08-28 00:00:00-04:00  148.56  148.8200  147.8300  148.3700   65457\n",
       "16 2019-08-29 00:00:00-04:00  148.55  148.6500  146.4600  147.2100  141848\n",
       "17 2019-08-30 00:00:00-04:00  146.97  147.6800  146.2000  146.9100  106578\n",
       "18 2019-09-03 00:00:00-04:00  148.15  149.3100  147.8600  148.8500  132670\n",
       "19 2019-09-04 00:00:00-04:00  148.77  150.0000  148.7300  149.8300   74818\n",
       "20 2019-09-05 00:00:00-04:00  148.17  148.1800  145.2100  146.2762  153327\n",
       "21 2019-09-06 00:00:00-04:00  146.78  147.1100  144.9400  145.0000   71204\n",
       "22 2019-09-09 00:00:00-04:00  145.46  145.5500  144.2600  144.5600   48073\n",
       "23 2019-09-10 00:00:00-04:00  144.16  144.4700  143.2500  143.2800   73133\n",
       "24 2019-09-11 00:00:00-04:00  143.43  144.3300  143.3700  144.1000   37947\n",
       "25 2019-09-12 00:00:00-04:00  145.87  146.1500  144.2500  144.3700   49677\n",
       "26 2019-09-13 00:00:00-04:00  144.86  145.0700  143.1100  143.2168   32353\n",
       "27 2019-09-16 00:00:00-04:00  144.59  145.1200  144.1537  144.4500   39879\n",
       "28 2019-09-17 00:00:00-04:00  144.95  145.1700  144.5600  144.6800  232039\n",
       "29 2019-09-18 00:00:00-04:00  145.00  145.6000  142.9100  143.7900  227292\n",
       "30 2019-09-19 00:00:00-04:00  144.66  144.7779  144.1878  144.3500   53139\n",
       "31 2019-09-20 00:00:00-04:00  144.74  146.1043  144.5697  146.0900   50381\n",
       "32 2019-09-23 00:00:00-04:00  146.38  147.0800  146.3000  146.9100   58105\n",
       "33 2019-09-24 00:00:00-04:00  146.36  147.8230  146.0000  147.6800   60202\n",
       "34 2019-09-25 00:00:00-04:00  147.27  147.4300  144.6000  144.9000   76595\n",
       "35 2019-09-26 00:00:00-04:00  145.36  145.6470  144.7100  144.9000   49766\n",
       "36 2019-09-27 00:00:00-04:00  143.49  144.7800  143.2300  144.1600  104775\n",
       "37 2019-09-30 00:00:00-04:00  142.92  143.2100  141.0914  141.9300   85372\n",
       "38 2019-10-01 00:00:00-04:00  141.06  143.1400  140.8850  142.7400   90143\n",
       "39 2019-10-02 00:00:00-04:00  143.92  145.0000  143.5500  144.3700  169886\n",
       "40 2019-10-03 00:00:00-04:00  144.47  146.2600  144.4000  145.0000  619302\n",
       "41 2019-10-04 00:00:00-04:00  144.73  145.5100  144.3301  144.9500   62697\n",
       "42 2019-10-07 00:00:00-04:00  144.33  144.8400  143.4744  143.8200   59521\n",
       "43 2019-10-08 00:00:00-04:00  145.12  145.7000  144.3000  145.0700  103002\n",
       "44 2019-10-09 00:00:00-04:00  145.36  145.6700  145.0075  145.1800   66891\n",
       "45 2019-10-10 00:00:00-04:00  144.76  144.7600  143.6800  143.8600   60799\n",
       "46 2019-10-11 00:00:00-04:00  143.07  143.2000  141.9900  143.1700  124942\n",
       "47 2019-10-14 00:00:00-04:00  143.50  143.9140  143.4300  143.7500   16230\n",
       "48 2019-10-15 00:00:00-04:00  143.38  143.3800  142.2990  142.7000   76046\n",
       "49 2019-10-16 00:00:00-04:00  143.28  143.6000  142.8000  143.4900   61513\n",
       "50 2019-10-17 00:00:00-04:00  143.61  144.2000  143.5347  143.6600   24822\n",
       "51 2019-10-18 00:00:00-04:00  143.65  143.9400  143.4000  143.5800   22497\n",
       "52 2019-10-21 00:00:00-04:00  143.89  143.8900  142.7000  142.9300   39015\n",
       "53 2019-10-22 00:00:00-04:00  143.28  143.3800  142.8303  143.3500   35477\n",
       "54 2019-10-23 00:00:00-04:00  143.65  144.0898  143.5720  143.6800   27212\n",
       "55 2019-10-24 00:00:00-04:00  144.12  144.8828  144.1000  144.7200   33539\n",
       "56 2019-10-25 00:00:00-04:00  146.00  146.0000  144.5900  145.0500   26323\n",
       "57 2019-10-28 00:00:00-04:00  144.30  144.3300  143.3700  143.8000   56162\n",
       "58 2019-10-29 00:00:00-04:00  143.16  143.7700  142.2600  143.3300   62471\n",
       "59 2019-10-30 00:00:00-04:00  143.58  144.2600  142.6700  144.0800   95288\n",
       "60 2019-10-31 00:00:00-04:00  145.73  145.7769  145.3000  145.5200   41024\n",
       "61 2019-11-01 00:00:00-04:00  145.42  146.0180  145.1966  145.6900   98510\n",
       "62 2019-11-04 00:00:00-05:00   14.50   14.6400   14.4700   14.5300  609464"
      ]
     },
     "execution_count": 168,
     "metadata": {},
     "output_type": "execute_result"
    }
   ],
   "source": [
    "# calculate the max drawdown\n",
    "max_drawdown = max_drawdown(minute_bars[\"close\"])\n",
    "day_bars.iloc[-50:]"
   ]
  },
  {
   "cell_type": "code",
   "execution_count": 169,
   "metadata": {
    "pycharm": {
     "name": "#%%\n"
    }
   },
   "outputs": [
    {
     "data": {
      "text/html": [
       "<div>\n",
       "<style scoped>\n",
       "    .dataframe tbody tr th:only-of-type {\n",
       "        vertical-align: middle;\n",
       "    }\n",
       "\n",
       "    .dataframe tbody tr th {\n",
       "        vertical-align: top;\n",
       "    }\n",
       "\n",
       "    .dataframe thead th {\n",
       "        text-align: right;\n",
       "    }\n",
       "</style>\n",
       "<table border=\"1\" class=\"dataframe\">\n",
       "  <thead>\n",
       "    <tr style=\"text-align: right;\">\n",
       "      <th></th>\n",
       "      <th>time</th>\n",
       "      <th>open</th>\n",
       "      <th>high</th>\n",
       "      <th>low</th>\n",
       "      <th>close</th>\n",
       "      <th>volume</th>\n",
       "    </tr>\n",
       "  </thead>\n",
       "  <tbody>\n",
       "    <tr>\n",
       "      <td>13</td>\n",
       "      <td>2019-08-26 00:00:00-04:00</td>\n",
       "      <td>287.27</td>\n",
       "      <td>287.9900</td>\n",
       "      <td>285.5800</td>\n",
       "      <td>287.9700</td>\n",
       "      <td>55417381</td>\n",
       "    </tr>\n",
       "    <tr>\n",
       "      <td>14</td>\n",
       "      <td>2019-08-27 00:00:00-04:00</td>\n",
       "      <td>289.54</td>\n",
       "      <td>289.9500</td>\n",
       "      <td>286.0300</td>\n",
       "      <td>286.8400</td>\n",
       "      <td>57062542</td>\n",
       "    </tr>\n",
       "    <tr>\n",
       "      <td>15</td>\n",
       "      <td>2019-08-28 00:00:00-04:00</td>\n",
       "      <td>286.14</td>\n",
       "      <td>289.0700</td>\n",
       "      <td>285.2500</td>\n",
       "      <td>288.8400</td>\n",
       "      <td>50136080</td>\n",
       "    </tr>\n",
       "    <tr>\n",
       "      <td>16</td>\n",
       "      <td>2019-08-29 00:00:00-04:00</td>\n",
       "      <td>291.72</td>\n",
       "      <td>293.1600</td>\n",
       "      <td>290.6100</td>\n",
       "      <td>292.5600</td>\n",
       "      <td>46853904</td>\n",
       "    </tr>\n",
       "    <tr>\n",
       "      <td>17</td>\n",
       "      <td>2019-08-30 00:00:00-04:00</td>\n",
       "      <td>294.22</td>\n",
       "      <td>294.2399</td>\n",
       "      <td>291.4200</td>\n",
       "      <td>292.4527</td>\n",
       "      <td>49059839</td>\n",
       "    </tr>\n",
       "    <tr>\n",
       "      <td>18</td>\n",
       "      <td>2019-09-03 00:00:00-04:00</td>\n",
       "      <td>290.57</td>\n",
       "      <td>291.5800</td>\n",
       "      <td>289.2700</td>\n",
       "      <td>290.7750</td>\n",
       "      <td>52837823</td>\n",
       "    </tr>\n",
       "    <tr>\n",
       "      <td>19</td>\n",
       "      <td>2019-09-04 00:00:00-04:00</td>\n",
       "      <td>293.14</td>\n",
       "      <td>294.0550</td>\n",
       "      <td>292.3100</td>\n",
       "      <td>293.9700</td>\n",
       "      <td>38261914</td>\n",
       "    </tr>\n",
       "    <tr>\n",
       "      <td>20</td>\n",
       "      <td>2019-09-05 00:00:00-04:00</td>\n",
       "      <td>296.79</td>\n",
       "      <td>298.8300</td>\n",
       "      <td>294.0010</td>\n",
       "      <td>297.8200</td>\n",
       "      <td>68516970</td>\n",
       "    </tr>\n",
       "    <tr>\n",
       "      <td>21</td>\n",
       "      <td>2019-09-06 00:00:00-04:00</td>\n",
       "      <td>298.17</td>\n",
       "      <td>298.7600</td>\n",
       "      <td>297.4200</td>\n",
       "      <td>298.0700</td>\n",
       "      <td>39903355</td>\n",
       "    </tr>\n",
       "    <tr>\n",
       "      <td>22</td>\n",
       "      <td>2019-09-09 00:00:00-04:00</td>\n",
       "      <td>299.14</td>\n",
       "      <td>299.2400</td>\n",
       "      <td>297.1600</td>\n",
       "      <td>298.1500</td>\n",
       "      <td>43663086</td>\n",
       "    </tr>\n",
       "    <tr>\n",
       "      <td>23</td>\n",
       "      <td>2019-09-10 00:00:00-04:00</td>\n",
       "      <td>297.36</td>\n",
       "      <td>298.2000</td>\n",
       "      <td>295.9700</td>\n",
       "      <td>298.2000</td>\n",
       "      <td>48742185</td>\n",
       "    </tr>\n",
       "    <tr>\n",
       "      <td>24</td>\n",
       "      <td>2019-09-11 00:00:00-04:00</td>\n",
       "      <td>298.47</td>\n",
       "      <td>300.3400</td>\n",
       "      <td>297.7500</td>\n",
       "      <td>300.2900</td>\n",
       "      <td>52987652</td>\n",
       "    </tr>\n",
       "    <tr>\n",
       "      <td>25</td>\n",
       "      <td>2019-09-12 00:00:00-04:00</td>\n",
       "      <td>301.25</td>\n",
       "      <td>302.4600</td>\n",
       "      <td>300.4100</td>\n",
       "      <td>301.2700</td>\n",
       "      <td>62183523</td>\n",
       "    </tr>\n",
       "    <tr>\n",
       "      <td>26</td>\n",
       "      <td>2019-09-13 00:00:00-04:00</td>\n",
       "      <td>301.78</td>\n",
       "      <td>302.1700</td>\n",
       "      <td>300.6800</td>\n",
       "      <td>301.0500</td>\n",
       "      <td>51342042</td>\n",
       "    </tr>\n",
       "    <tr>\n",
       "      <td>27</td>\n",
       "      <td>2019-09-16 00:00:00-04:00</td>\n",
       "      <td>299.81</td>\n",
       "      <td>301.1378</td>\n",
       "      <td>299.4500</td>\n",
       "      <td>300.1600</td>\n",
       "      <td>45337312</td>\n",
       "    </tr>\n",
       "    <tr>\n",
       "      <td>28</td>\n",
       "      <td>2019-09-17 00:00:00-04:00</td>\n",
       "      <td>299.94</td>\n",
       "      <td>301.0200</td>\n",
       "      <td>299.7500</td>\n",
       "      <td>300.9400</td>\n",
       "      <td>33584803</td>\n",
       "    </tr>\n",
       "    <tr>\n",
       "      <td>29</td>\n",
       "      <td>2019-09-18 00:00:00-04:00</td>\n",
       "      <td>300.49</td>\n",
       "      <td>301.2200</td>\n",
       "      <td>298.2400</td>\n",
       "      <td>301.1000</td>\n",
       "      <td>63318449</td>\n",
       "    </tr>\n",
       "    <tr>\n",
       "      <td>30</td>\n",
       "      <td>2019-09-19 00:00:00-04:00</td>\n",
       "      <td>301.53</td>\n",
       "      <td>302.6300</td>\n",
       "      <td>300.7103</td>\n",
       "      <td>301.0600</td>\n",
       "      <td>64383001</td>\n",
       "    </tr>\n",
       "    <tr>\n",
       "      <td>31</td>\n",
       "      <td>2019-09-20 00:00:00-04:00</td>\n",
       "      <td>300.39</td>\n",
       "      <td>300.6700</td>\n",
       "      <td>297.4100</td>\n",
       "      <td>298.1300</td>\n",
       "      <td>71319772</td>\n",
       "    </tr>\n",
       "    <tr>\n",
       "      <td>32</td>\n",
       "      <td>2019-09-23 00:00:00-04:00</td>\n",
       "      <td>297.55</td>\n",
       "      <td>299.0000</td>\n",
       "      <td>297.2700</td>\n",
       "      <td>298.2500</td>\n",
       "      <td>32394283</td>\n",
       "    </tr>\n",
       "    <tr>\n",
       "      <td>33</td>\n",
       "      <td>2019-09-24 00:00:00-04:00</td>\n",
       "      <td>299.41</td>\n",
       "      <td>299.8400</td>\n",
       "      <td>294.8100</td>\n",
       "      <td>295.8100</td>\n",
       "      <td>78999325</td>\n",
       "    </tr>\n",
       "    <tr>\n",
       "      <td>34</td>\n",
       "      <td>2019-09-25 00:00:00-04:00</td>\n",
       "      <td>295.96</td>\n",
       "      <td>298.1100</td>\n",
       "      <td>294.3300</td>\n",
       "      <td>297.6000</td>\n",
       "      <td>51351636</td>\n",
       "    </tr>\n",
       "    <tr>\n",
       "      <td>35</td>\n",
       "      <td>2019-09-26 00:00:00-04:00</td>\n",
       "      <td>297.63</td>\n",
       "      <td>297.8600</td>\n",
       "      <td>295.4500</td>\n",
       "      <td>296.9700</td>\n",
       "      <td>46738477</td>\n",
       "    </tr>\n",
       "    <tr>\n",
       "      <td>36</td>\n",
       "      <td>2019-09-27 00:00:00-04:00</td>\n",
       "      <td>297.83</td>\n",
       "      <td>297.9465</td>\n",
       "      <td>293.6900</td>\n",
       "      <td>295.3600</td>\n",
       "      <td>63963817</td>\n",
       "    </tr>\n",
       "    <tr>\n",
       "      <td>37</td>\n",
       "      <td>2019-09-30 00:00:00-04:00</td>\n",
       "      <td>295.97</td>\n",
       "      <td>297.5500</td>\n",
       "      <td>295.9200</td>\n",
       "      <td>296.7905</td>\n",
       "      <td>39275977</td>\n",
       "    </tr>\n",
       "    <tr>\n",
       "      <td>38</td>\n",
       "      <td>2019-10-01 00:00:00-04:00</td>\n",
       "      <td>297.74</td>\n",
       "      <td>298.4550</td>\n",
       "      <td>293.0000</td>\n",
       "      <td>293.2200</td>\n",
       "      <td>77014589</td>\n",
       "    </tr>\n",
       "    <tr>\n",
       "      <td>39</td>\n",
       "      <td>2019-10-02 00:00:00-04:00</td>\n",
       "      <td>291.50</td>\n",
       "      <td>291.5100</td>\n",
       "      <td>286.6400</td>\n",
       "      <td>288.0400</td>\n",
       "      <td>104432780</td>\n",
       "    </tr>\n",
       "    <tr>\n",
       "      <td>40</td>\n",
       "      <td>2019-10-03 00:00:00-04:00</td>\n",
       "      <td>287.81</td>\n",
       "      <td>290.4000</td>\n",
       "      <td>284.8200</td>\n",
       "      <td>290.3700</td>\n",
       "      <td>73776310</td>\n",
       "    </tr>\n",
       "    <tr>\n",
       "      <td>41</td>\n",
       "      <td>2019-10-04 00:00:00-04:00</td>\n",
       "      <td>291.14</td>\n",
       "      <td>294.6300</td>\n",
       "      <td>290.8200</td>\n",
       "      <td>294.3700</td>\n",
       "      <td>47928410</td>\n",
       "    </tr>\n",
       "    <tr>\n",
       "      <td>42</td>\n",
       "      <td>2019-10-07 00:00:00-04:00</td>\n",
       "      <td>293.47</td>\n",
       "      <td>295.2600</td>\n",
       "      <td>292.7700</td>\n",
       "      <td>293.1100</td>\n",
       "      <td>49011306</td>\n",
       "    </tr>\n",
       "    <tr>\n",
       "      <td>43</td>\n",
       "      <td>2019-10-08 00:00:00-04:00</td>\n",
       "      <td>291.03</td>\n",
       "      <td>291.8500</td>\n",
       "      <td>288.4900</td>\n",
       "      <td>288.5500</td>\n",
       "      <td>77458652</td>\n",
       "    </tr>\n",
       "    <tr>\n",
       "      <td>44</td>\n",
       "      <td>2019-10-09 00:00:00-04:00</td>\n",
       "      <td>290.75</td>\n",
       "      <td>292.3000</td>\n",
       "      <td>288.6559</td>\n",
       "      <td>291.2300</td>\n",
       "      <td>46500022</td>\n",
       "    </tr>\n",
       "    <tr>\n",
       "      <td>45</td>\n",
       "      <td>2019-10-10 00:00:00-04:00</td>\n",
       "      <td>291.18</td>\n",
       "      <td>294.2100</td>\n",
       "      <td>291.0100</td>\n",
       "      <td>293.2400</td>\n",
       "      <td>47899423</td>\n",
       "    </tr>\n",
       "    <tr>\n",
       "      <td>46</td>\n",
       "      <td>2019-10-11 00:00:00-04:00</td>\n",
       "      <td>296.27</td>\n",
       "      <td>298.7400</td>\n",
       "      <td>296.1448</td>\n",
       "      <td>296.2600</td>\n",
       "      <td>78269814</td>\n",
       "    </tr>\n",
       "    <tr>\n",
       "      <td>47</td>\n",
       "      <td>2019-10-14 00:00:00-04:00</td>\n",
       "      <td>295.93</td>\n",
       "      <td>296.6700</td>\n",
       "      <td>295.5700</td>\n",
       "      <td>296.0100</td>\n",
       "      <td>31580316</td>\n",
       "    </tr>\n",
       "    <tr>\n",
       "      <td>48</td>\n",
       "      <td>2019-10-15 00:00:00-04:00</td>\n",
       "      <td>297.10</td>\n",
       "      <td>299.7000</td>\n",
       "      <td>296.9700</td>\n",
       "      <td>298.9000</td>\n",
       "      <td>38687211</td>\n",
       "    </tr>\n",
       "    <tr>\n",
       "      <td>49</td>\n",
       "      <td>2019-10-16 00:00:00-04:00</td>\n",
       "      <td>298.37</td>\n",
       "      <td>299.1600</td>\n",
       "      <td>297.9200</td>\n",
       "      <td>298.4100</td>\n",
       "      <td>40929771</td>\n",
       "    </tr>\n",
       "    <tr>\n",
       "      <td>50</td>\n",
       "      <td>2019-10-17 00:00:00-04:00</td>\n",
       "      <td>299.68</td>\n",
       "      <td>300.2400</td>\n",
       "      <td>298.5150</td>\n",
       "      <td>299.2400</td>\n",
       "      <td>39650199</td>\n",
       "    </tr>\n",
       "    <tr>\n",
       "      <td>51</td>\n",
       "      <td>2019-10-18 00:00:00-04:00</td>\n",
       "      <td>298.69</td>\n",
       "      <td>299.3950</td>\n",
       "      <td>296.9900</td>\n",
       "      <td>297.9800</td>\n",
       "      <td>45600170</td>\n",
       "    </tr>\n",
       "    <tr>\n",
       "      <td>52</td>\n",
       "      <td>2019-10-21 00:00:00-04:00</td>\n",
       "      <td>299.42</td>\n",
       "      <td>300.2100</td>\n",
       "      <td>298.9350</td>\n",
       "      <td>300.0500</td>\n",
       "      <td>29676133</td>\n",
       "    </tr>\n",
       "    <tr>\n",
       "      <td>53</td>\n",
       "      <td>2019-10-22 00:00:00-04:00</td>\n",
       "      <td>300.58</td>\n",
       "      <td>300.9000</td>\n",
       "      <td>298.9100</td>\n",
       "      <td>299.0300</td>\n",
       "      <td>42747335</td>\n",
       "    </tr>\n",
       "    <tr>\n",
       "      <td>54</td>\n",
       "      <td>2019-10-23 00:00:00-04:00</td>\n",
       "      <td>298.73</td>\n",
       "      <td>299.9400</td>\n",
       "      <td>298.4950</td>\n",
       "      <td>299.8600</td>\n",
       "      <td>27944600</td>\n",
       "    </tr>\n",
       "    <tr>\n",
       "      <td>55</td>\n",
       "      <td>2019-10-24 00:00:00-04:00</td>\n",
       "      <td>300.91</td>\n",
       "      <td>301.0700</td>\n",
       "      <td>299.4601</td>\n",
       "      <td>300.4200</td>\n",
       "      <td>29850958</td>\n",
       "    </tr>\n",
       "    <tr>\n",
       "      <td>56</td>\n",
       "      <td>2019-10-25 00:00:00-04:00</td>\n",
       "      <td>299.74</td>\n",
       "      <td>302.2000</td>\n",
       "      <td>299.6806</td>\n",
       "      <td>301.5650</td>\n",
       "      <td>36933520</td>\n",
       "    </tr>\n",
       "    <tr>\n",
       "      <td>57</td>\n",
       "      <td>2019-10-28 00:00:00-04:00</td>\n",
       "      <td>302.94</td>\n",
       "      <td>303.8500</td>\n",
       "      <td>302.9100</td>\n",
       "      <td>303.3600</td>\n",
       "      <td>34008580</td>\n",
       "    </tr>\n",
       "    <tr>\n",
       "      <td>58</td>\n",
       "      <td>2019-10-29 00:00:00-04:00</td>\n",
       "      <td>303.00</td>\n",
       "      <td>304.2300</td>\n",
       "      <td>302.8600</td>\n",
       "      <td>303.2000</td>\n",
       "      <td>38915074</td>\n",
       "    </tr>\n",
       "    <tr>\n",
       "      <td>59</td>\n",
       "      <td>2019-10-30 00:00:00-04:00</td>\n",
       "      <td>303.43</td>\n",
       "      <td>304.5500</td>\n",
       "      <td>301.9900</td>\n",
       "      <td>304.1400</td>\n",
       "      <td>40022810</td>\n",
       "    </tr>\n",
       "    <tr>\n",
       "      <td>60</td>\n",
       "      <td>2019-10-31 00:00:00-04:00</td>\n",
       "      <td>302.22</td>\n",
       "      <td>303.3900</td>\n",
       "      <td>301.8500</td>\n",
       "      <td>303.2600</td>\n",
       "      <td>39406638</td>\n",
       "    </tr>\n",
       "    <tr>\n",
       "      <td>61</td>\n",
       "      <td>2019-11-01 00:00:00-04:00</td>\n",
       "      <td>304.92</td>\n",
       "      <td>306.1900</td>\n",
       "      <td>304.7400</td>\n",
       "      <td>306.1800</td>\n",
       "      <td>56134595</td>\n",
       "    </tr>\n",
       "    <tr>\n",
       "      <td>62</td>\n",
       "      <td>2019-11-04 00:00:00-05:00</td>\n",
       "      <td>307.85</td>\n",
       "      <td>308.0000</td>\n",
       "      <td>306.9600</td>\n",
       "      <td>307.3400</td>\n",
       "      <td>51277730</td>\n",
       "    </tr>\n",
       "  </tbody>\n",
       "</table>\n",
       "</div>"
      ],
      "text/plain": [
       "                        time    open      high       low     close     volume\n",
       "13 2019-08-26 00:00:00-04:00  287.27  287.9900  285.5800  287.9700   55417381\n",
       "14 2019-08-27 00:00:00-04:00  289.54  289.9500  286.0300  286.8400   57062542\n",
       "15 2019-08-28 00:00:00-04:00  286.14  289.0700  285.2500  288.8400   50136080\n",
       "16 2019-08-29 00:00:00-04:00  291.72  293.1600  290.6100  292.5600   46853904\n",
       "17 2019-08-30 00:00:00-04:00  294.22  294.2399  291.4200  292.4527   49059839\n",
       "18 2019-09-03 00:00:00-04:00  290.57  291.5800  289.2700  290.7750   52837823\n",
       "19 2019-09-04 00:00:00-04:00  293.14  294.0550  292.3100  293.9700   38261914\n",
       "20 2019-09-05 00:00:00-04:00  296.79  298.8300  294.0010  297.8200   68516970\n",
       "21 2019-09-06 00:00:00-04:00  298.17  298.7600  297.4200  298.0700   39903355\n",
       "22 2019-09-09 00:00:00-04:00  299.14  299.2400  297.1600  298.1500   43663086\n",
       "23 2019-09-10 00:00:00-04:00  297.36  298.2000  295.9700  298.2000   48742185\n",
       "24 2019-09-11 00:00:00-04:00  298.47  300.3400  297.7500  300.2900   52987652\n",
       "25 2019-09-12 00:00:00-04:00  301.25  302.4600  300.4100  301.2700   62183523\n",
       "26 2019-09-13 00:00:00-04:00  301.78  302.1700  300.6800  301.0500   51342042\n",
       "27 2019-09-16 00:00:00-04:00  299.81  301.1378  299.4500  300.1600   45337312\n",
       "28 2019-09-17 00:00:00-04:00  299.94  301.0200  299.7500  300.9400   33584803\n",
       "29 2019-09-18 00:00:00-04:00  300.49  301.2200  298.2400  301.1000   63318449\n",
       "30 2019-09-19 00:00:00-04:00  301.53  302.6300  300.7103  301.0600   64383001\n",
       "31 2019-09-20 00:00:00-04:00  300.39  300.6700  297.4100  298.1300   71319772\n",
       "32 2019-09-23 00:00:00-04:00  297.55  299.0000  297.2700  298.2500   32394283\n",
       "33 2019-09-24 00:00:00-04:00  299.41  299.8400  294.8100  295.8100   78999325\n",
       "34 2019-09-25 00:00:00-04:00  295.96  298.1100  294.3300  297.6000   51351636\n",
       "35 2019-09-26 00:00:00-04:00  297.63  297.8600  295.4500  296.9700   46738477\n",
       "36 2019-09-27 00:00:00-04:00  297.83  297.9465  293.6900  295.3600   63963817\n",
       "37 2019-09-30 00:00:00-04:00  295.97  297.5500  295.9200  296.7905   39275977\n",
       "38 2019-10-01 00:00:00-04:00  297.74  298.4550  293.0000  293.2200   77014589\n",
       "39 2019-10-02 00:00:00-04:00  291.50  291.5100  286.6400  288.0400  104432780\n",
       "40 2019-10-03 00:00:00-04:00  287.81  290.4000  284.8200  290.3700   73776310\n",
       "41 2019-10-04 00:00:00-04:00  291.14  294.6300  290.8200  294.3700   47928410\n",
       "42 2019-10-07 00:00:00-04:00  293.47  295.2600  292.7700  293.1100   49011306\n",
       "43 2019-10-08 00:00:00-04:00  291.03  291.8500  288.4900  288.5500   77458652\n",
       "44 2019-10-09 00:00:00-04:00  290.75  292.3000  288.6559  291.2300   46500022\n",
       "45 2019-10-10 00:00:00-04:00  291.18  294.2100  291.0100  293.2400   47899423\n",
       "46 2019-10-11 00:00:00-04:00  296.27  298.7400  296.1448  296.2600   78269814\n",
       "47 2019-10-14 00:00:00-04:00  295.93  296.6700  295.5700  296.0100   31580316\n",
       "48 2019-10-15 00:00:00-04:00  297.10  299.7000  296.9700  298.9000   38687211\n",
       "49 2019-10-16 00:00:00-04:00  298.37  299.1600  297.9200  298.4100   40929771\n",
       "50 2019-10-17 00:00:00-04:00  299.68  300.2400  298.5150  299.2400   39650199\n",
       "51 2019-10-18 00:00:00-04:00  298.69  299.3950  296.9900  297.9800   45600170\n",
       "52 2019-10-21 00:00:00-04:00  299.42  300.2100  298.9350  300.0500   29676133\n",
       "53 2019-10-22 00:00:00-04:00  300.58  300.9000  298.9100  299.0300   42747335\n",
       "54 2019-10-23 00:00:00-04:00  298.73  299.9400  298.4950  299.8600   27944600\n",
       "55 2019-10-24 00:00:00-04:00  300.91  301.0700  299.4601  300.4200   29850958\n",
       "56 2019-10-25 00:00:00-04:00  299.74  302.2000  299.6806  301.5650   36933520\n",
       "57 2019-10-28 00:00:00-04:00  302.94  303.8500  302.9100  303.3600   34008580\n",
       "58 2019-10-29 00:00:00-04:00  303.00  304.2300  302.8600  303.2000   38915074\n",
       "59 2019-10-30 00:00:00-04:00  303.43  304.5500  301.9900  304.1400   40022810\n",
       "60 2019-10-31 00:00:00-04:00  302.22  303.3900  301.8500  303.2600   39406638\n",
       "61 2019-11-01 00:00:00-04:00  304.92  306.1900  304.7400  306.1800   56134595\n",
       "62 2019-11-04 00:00:00-05:00  307.85  308.0000  306.9600  307.3400   51277730"
      ]
     },
     "execution_count": 169,
     "metadata": {},
     "output_type": "execute_result"
    }
   ],
   "source": [
    "spy_bars.iloc[-50:]"
   ]
  },
  {
   "cell_type": "code",
   "execution_count": 170,
   "metadata": {
    "pycharm": {
     "name": "#%%\n"
    }
   },
   "outputs": [
    {
     "name": "stderr",
     "output_type": "stream",
     "text": [
      "/home/ben/anaconda3/envs/alpaca_test/lib/python3.7/site-packages/empyrical/stats.py:1294: RuntimeWarning:\n",
      "\n",
      "overflow encountered in power\n",
      "\n"
     ]
    }
   ],
   "source": [
    "# calculate alpha and beta\n",
    "alpha = alpha(minute_bars[\"close\"], spy_bars[\"close\"])\n",
    "beta = beta(minute_bars[\"close\"], spy_bars[\"close\"])"
   ]
  },
  {
   "cell_type": "code",
   "execution_count": 172,
   "metadata": {},
   "outputs": [
    {
     "data": {
      "text/plain": [
       "-0.04066575907153181"
      ]
     },
     "execution_count": 172,
     "metadata": {},
     "output_type": "execute_result"
    }
   ],
   "source": [
    "beta"
   ]
  }
 ],
 "metadata": {
  "kernelspec": {
   "display_name": "Python 3",
   "language": "python",
   "name": "python3"
  },
  "language_info": {
   "codemirror_mode": {
    "name": "ipython",
    "version": 3
   },
   "file_extension": ".py",
   "mimetype": "text/x-python",
   "name": "python",
   "nbconvert_exporter": "python",
   "pygments_lexer": "ipython3",
   "version": "3.7.4"
  },
  "pycharm": {
   "stem_cell": {
    "cell_type": "raw",
    "metadata": {
     "collapsed": false
    },
    "source": []
   }
  }
 },
 "nbformat": 4,
 "nbformat_minor": 1
}
