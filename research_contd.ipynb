{
 "cells": [
  {
   "cell_type": "code",
   "execution_count": 1,
   "metadata": {
    "pycharm": {
     "is_executing": true
    }
   },
   "outputs": [
    {
     "name": "stderr",
     "output_type": "stream",
     "text": [
      "/home/ben/anaconda3/envs/alpaca_test/lib/python3.7/site-packages/tensorflow/python/framework/dtypes.py:516: FutureWarning: Passing (type, 1) or '1type' as a synonym of type is deprecated; in a future version of numpy, it will be understood as (type, (1,)) / '(1,)type'.\n",
      "  _np_qint8 = np.dtype([(\"qint8\", np.int8, 1)])\n",
      "/home/ben/anaconda3/envs/alpaca_test/lib/python3.7/site-packages/tensorflow/python/framework/dtypes.py:517: FutureWarning: Passing (type, 1) or '1type' as a synonym of type is deprecated; in a future version of numpy, it will be understood as (type, (1,)) / '(1,)type'.\n",
      "  _np_quint8 = np.dtype([(\"quint8\", np.uint8, 1)])\n",
      "/home/ben/anaconda3/envs/alpaca_test/lib/python3.7/site-packages/tensorflow/python/framework/dtypes.py:518: FutureWarning: Passing (type, 1) or '1type' as a synonym of type is deprecated; in a future version of numpy, it will be understood as (type, (1,)) / '(1,)type'.\n",
      "  _np_qint16 = np.dtype([(\"qint16\", np.int16, 1)])\n",
      "/home/ben/anaconda3/envs/alpaca_test/lib/python3.7/site-packages/tensorflow/python/framework/dtypes.py:519: FutureWarning: Passing (type, 1) or '1type' as a synonym of type is deprecated; in a future version of numpy, it will be understood as (type, (1,)) / '(1,)type'.\n",
      "  _np_quint16 = np.dtype([(\"quint16\", np.uint16, 1)])\n",
      "/home/ben/anaconda3/envs/alpaca_test/lib/python3.7/site-packages/tensorflow/python/framework/dtypes.py:520: FutureWarning: Passing (type, 1) or '1type' as a synonym of type is deprecated; in a future version of numpy, it will be understood as (type, (1,)) / '(1,)type'.\n",
      "  _np_qint32 = np.dtype([(\"qint32\", np.int32, 1)])\n",
      "/home/ben/anaconda3/envs/alpaca_test/lib/python3.7/site-packages/tensorflow/python/framework/dtypes.py:525: FutureWarning: Passing (type, 1) or '1type' as a synonym of type is deprecated; in a future version of numpy, it will be understood as (type, (1,)) / '(1,)type'.\n",
      "  np_resource = np.dtype([(\"resource\", np.ubyte, 1)])\n",
      "/home/ben/anaconda3/envs/alpaca_test/lib/python3.7/site-packages/tensorboard/compat/tensorflow_stub/dtypes.py:541: FutureWarning: Passing (type, 1) or '1type' as a synonym of type is deprecated; in a future version of numpy, it will be understood as (type, (1,)) / '(1,)type'.\n",
      "  _np_qint8 = np.dtype([(\"qint8\", np.int8, 1)])\n",
      "/home/ben/anaconda3/envs/alpaca_test/lib/python3.7/site-packages/tensorboard/compat/tensorflow_stub/dtypes.py:542: FutureWarning: Passing (type, 1) or '1type' as a synonym of type is deprecated; in a future version of numpy, it will be understood as (type, (1,)) / '(1,)type'.\n",
      "  _np_quint8 = np.dtype([(\"quint8\", np.uint8, 1)])\n",
      "/home/ben/anaconda3/envs/alpaca_test/lib/python3.7/site-packages/tensorboard/compat/tensorflow_stub/dtypes.py:543: FutureWarning: Passing (type, 1) or '1type' as a synonym of type is deprecated; in a future version of numpy, it will be understood as (type, (1,)) / '(1,)type'.\n",
      "  _np_qint16 = np.dtype([(\"qint16\", np.int16, 1)])\n",
      "/home/ben/anaconda3/envs/alpaca_test/lib/python3.7/site-packages/tensorboard/compat/tensorflow_stub/dtypes.py:544: FutureWarning: Passing (type, 1) or '1type' as a synonym of type is deprecated; in a future version of numpy, it will be understood as (type, (1,)) / '(1,)type'.\n",
      "  _np_quint16 = np.dtype([(\"quint16\", np.uint16, 1)])\n",
      "/home/ben/anaconda3/envs/alpaca_test/lib/python3.7/site-packages/tensorboard/compat/tensorflow_stub/dtypes.py:545: FutureWarning: Passing (type, 1) or '1type' as a synonym of type is deprecated; in a future version of numpy, it will be understood as (type, (1,)) / '(1,)type'.\n",
      "  _np_qint32 = np.dtype([(\"qint32\", np.int32, 1)])\n",
      "/home/ben/anaconda3/envs/alpaca_test/lib/python3.7/site-packages/tensorboard/compat/tensorflow_stub/dtypes.py:550: FutureWarning: Passing (type, 1) or '1type' as a synonym of type is deprecated; in a future version of numpy, it will be understood as (type, (1,)) / '(1,)type'.\n",
      "  np_resource = np.dtype([(\"resource\", np.ubyte, 1)])\n"
     ]
    }
   ],
   "source": [
    "from util import bullish_sequence, bullish_candlestick_patterns, time_formatter\n",
    "from nltk.sentiment.vader import SentimentIntensityAnalyzer\n",
    "from src.asset_selector import AssetSelector\n",
    "from src.indicators import Indicators\n",
    "from src.predictor import Predictor\n",
    "from sklearn.cluster import KMeans\n",
    "import alpaca_trade_api as tradeapi\n",
    "import matplotlib.pyplot as plt\n",
    "import plotly.graph_objs as go\n",
    "import plotly.offline as py\n",
    "import configparser\n",
    "import requests\n",
    "import json\n",
    "import time\n",
    "import sys\n",
    "import os\n",
    "\n",
    "config = configparser.ConfigParser()\n",
    "try:\n",
    "    config.read(os.path.relpath(\"config.ini\"))\n",
    "except FileExistsError as e:\n",
    "    print(\"FileExistsError: {}\".format(e))\n",
    "    sys.exit(1)\n",
    "alpaca_api = tradeapi.REST(\n",
    "    base_url    = config[\"alpaca\"][\"APCA_API_BASE_URL\"],\n",
    "    key_id      = config[\"alpaca\"][\"APCA_API_KEY_ID\"],\n",
    "    secret_key  = config[\"alpaca\"][\"APCA_API_SECRET_KEY\"],\n",
    "    api_version = config[\"alpaca\"][\"VERSION\"]\n",
    ")\n",
    "trading_account = alpaca_api.get_account()\n",
    "sid = SentimentIntensityAnalyzer()"
   ]
  },
  {
   "cell_type": "code",
   "execution_count": 2,
   "metadata": {
    "pycharm": {
     "name": "#%%\n"
    }
   },
   "outputs": [
    {
     "name": "stdout",
     "output_type": "stream",
     "text": [
      "                   Gainers                   \n",
      "\n",
      "Symbol     Last        Change      Pct Gain\n",
      "–––––––––––––––––––––––––––––––––––––––––––––\n",
      "AMHpF      $26.2       $26.025     14888.558%\n",
      "MHpC       $5.385      $5.235      3490%\n",
      "TYp        $53.6       $42.04      363.668%\n",
      "CBO        $19         $13.55      248.624%\n",
      "ZWZZT      $13.4       $8.4        168%\n",
      "NUROW      $0.0189     $0.009      89%\n",
      "CpN        $27.3298    $12.08      79.212%\n",
      "ZJZZT      $32.5       $14.25      78.082%\n",
      "IEAWW      $0.053078   $0.023      76.339%\n",
      "PAACW      $0.1389     $0.044      46.086%\n",
      "BRN        $0.51       $0.159      45.258%\n",
      "ALRN       $0.6479     $0.198      43.978%\n",
      "ASFI       $9.99       $3.043      43.797%\n",
      "FPAY       $2.15       $0.64       42.384%\n",
      "AGRX       $1.9        $0.55       40.741%\n",
      "BNTCW      $0.0482     $0.014      40.525%\n",
      "AGFSW      $0.01       $0.003      36.986%\n",
      "GEVO       $3.23       $0.85       35.714%\n",
      "UMRX       $1.8        $0.45       33.333%\n",
      "WMGI       $29.05      $7.04       31.985%\n",
      "ZVV        $33.8       $7.8        30%\n",
      "\n",
      "                    Losers                   \n",
      "\n",
      "Symbol     Last        Change      Pct Loss\n",
      "–––––––––––––––––––––––––––––––––––––––––––––\n",
      "SGOL       $14.53      $-131.16    -90.027%\n",
      "BCpC       $27.26      $-76.03     -73.608%\n",
      "CpK        $28.3       $-66.21     -70.056%\n",
      "DRIOW      $0.0111     $-0.016     -59.039%\n",
      "IFMK       $0.76       $-0.99      -56.571%\n",
      "ONTXW      $0.0113     $-0.009     -43.5%\n",
      "OXBRW      $0.04       $-0.03      -42.693%\n",
      "SGLBW      $0.15       $-0.111     -42.595%\n",
      "CRNT       $1.9199     $-1.04      -35.139%\n",
      "AVEO       $0.59       $-0.305     -34.049%\n",
      "NSP        $71.45      $-36.22     -33.64%\n",
      "MYGN       $22.7       $-11.1      -32.84%\n",
      "SLNOW      $0.0211     $-0.009     -29.431%\n",
      "BCDAW      $0.9        $-0.35      -28%\n",
      "CHFS       $0.9503     $-0.33      -25.758%\n",
      "ATEST.G    $25.02      $-8.46      -25.269%\n",
      "STON       $1.09       $-0.34      -23.776%\n",
      "CpS        $26.2       $-7.5       -22.255%\n",
      "IBO        $19.5       $-5.34      -21.498%\n",
      "TRVN       $0.8        $-0.193     -19.436%\n",
      "CHEKZ      $0.2        $-0.048     -19.355%\n"
     ]
    }
   ],
   "source": [
    "def get_sentiment(text):\n",
    "    \"\"\"Given a text block, return a sentiment score based.\n",
    "\n",
    "    :param text:\n",
    "    :return:\n",
    "    \"\"\"\n",
    "    text_polarity   = sid.polarity_scores(text)\n",
    "    print(text_polarity)\n",
    "\n",
    "    if text_polarity[\"compound\"] > 0.50:\n",
    "        sentiment   = \"positive\"\n",
    "\n",
    "    else:\n",
    "        sentiment   = \"negative\"\n",
    "\n",
    "    return sentiment\n",
    "\n",
    "def get_losers():\n",
    "    \n",
    "    print('Losers'.center(45))\n",
    "    print()\n",
    "    print('Symbol'.ljust(10), 'Last'.ljust(11), 'Change'.ljust(11), 'Pct Loss')\n",
    "    print(\"{:<30}\".format('–' * 45))\n",
    "    for symbol in range(len(alpaca_api.polygon.gainers_losers(\"losers\"))):\n",
    "        print(alpaca_api.polygon.gainers_losers(\"losers\")[symbol].ticker.ljust(10),\n",
    "              '$' + str(alpaca_api.polygon.gainers_losers(\"losers\")[symbol].lastTrade['p']).ljust(10),\n",
    "              '$' + str(alpaca_api.polygon.gainers_losers(\"losers\")[symbol].todaysChange).ljust(10),\n",
    "              str(alpaca_api.polygon.gainers_losers(\"losers\")[symbol].todaysChangePerc)+'%')\n",
    "def get_gainers():\n",
    "    print('Gainers'.center(45))\n",
    "    print()\n",
    "    print('Symbol'.ljust(10), 'Last'.ljust(11), 'Change'.ljust(11), 'Pct Gain')\n",
    "    print(\"{:<30}\".format('–' * 45))\n",
    "    for symbol in range(len(alpaca_api.polygon.gainers_losers())):\n",
    "        print(alpaca_api.polygon.gainers_losers()[symbol].ticker.ljust(10),\n",
    "              '$' + str(alpaca_api.polygon.gainers_losers()[symbol].lastTrade['p']).ljust(10),\n",
    "              '$' + str(alpaca_api.polygon.gainers_losers()[symbol].todaysChange).ljust(10),\n",
    "              str(alpaca_api.polygon.gainers_losers()[symbol].todaysChangePerc)+'%')\n",
    "        \n",
    "if __name__ == '__main__':\n",
    "    \n",
    "    get_gainers()\n",
    "    print()\n",
    "    get_losers()"
   ]
  },
  {
   "cell_type": "code",
   "execution_count": 3,
   "metadata": {
    "pycharm": {
     "name": "#%%\n"
    }
   },
   "outputs": [
    {
     "name": "stdout",
     "output_type": "stream",
     "text": [
      "Ticker: BWB\t\tPoolsize: 20\t\tResult Length: 1\n",
      "Ticker: SWIR\t\tPoolsize: 20\t\tResult Length: 2\n",
      "Ticker: CERS\t\tPoolsize: 20\t\tResult Length: 3\n",
      "Ticker: ECL\t\tPoolsize: 20\t\tResult Length: 4\n",
      "Ticker: SBS\t\tPoolsize: 20\t\tResult Length: 5\n",
      "Ticker: ARES\t\tPoolsize: 20\t\tResult Length: 6\n",
      "Ticker: AMN\t\tPoolsize: 20\t\tResult Length: 7\n",
      "Ticker: FTI\t\tPoolsize: 20\t\tResult Length: 8\n",
      "Ticker: FIS\t\tPoolsize: 20\t\tResult Length: 9\n",
      "Ticker: PFFD\t\tPoolsize: 20\t\tResult Length: 10\n",
      "Ticker: VALE\t\tPoolsize: 20\t\tResult Length: 11\n",
      "Ticker: PICO\t\tPoolsize: 20\t\tResult Length: 12\n",
      "Ticker: CIH\t\tPoolsize: 20\t\tResult Length: 13\n",
      "Ticker: TEVA\t\tPoolsize: 20\t\tResult Length: 14\n",
      "Ticker: VREX\t\tPoolsize: 20\t\tResult Length: 15\n",
      "Ticker: BKD\t\tPoolsize: 20\t\tResult Length: 16\n",
      "Ticker: PRLB\t\tPoolsize: 20\t\tResult Length: 17\n",
      "Ticker: RYI\t\tPoolsize: 20\t\tResult Length: 18\n",
      "Ticker: ZUO\t\tPoolsize: 20\t\tResult Length: 19\n",
      "Ticker: OXY\t\tPoolsize: 20\t\tResult Length: 20\n"
     ]
    }
   ],
   "source": [
    "selector    = AssetSelector(alpaca_api, edgar_token=None)\n",
    "assets      = selector.bullish_candlesticks(64, 20)"
   ]
  },
  {
   "cell_type": "code",
   "execution_count": 214,
   "metadata": {
    "pycharm": {
     "name": "#%%\n"
    }
   },
   "outputs": [],
   "source": [
    "ticker = \"SGOL\""
   ]
  },
  {
   "cell_type": "code",
   "execution_count": 215,
   "metadata": {
    "pycharm": {
     "name": "#%%\n"
    }
   },
   "outputs": [],
   "source": [
    "backdate = time_formatter(time.time() - (604800 * 13))"
   ]
  },
  {
   "cell_type": "code",
   "execution_count": 216,
   "metadata": {
    "pycharm": {
     "name": "#%%\n"
    }
   },
   "outputs": [],
   "source": [
    "day_bars = selector.get_barset(ticker, \"day\", backdate)\n",
    "day_bars = selector.extract_bar_data(day_bars, ticker)"
   ]
  },
  {
   "cell_type": "code",
   "execution_count": 217,
   "metadata": {
    "pycharm": {
     "name": "#%%\n"
    }
   },
   "outputs": [],
   "source": [
    "minute_bars = selector.get_barset(ticker, \"minute\", backdate)\n",
    "minute_bars = selector.extract_bar_data(minute_bars, ticker)"
   ]
  },
  {
   "cell_type": "code",
   "execution_count": 218,
   "metadata": {
    "pycharm": {
     "name": "#%%\n"
    }
   },
   "outputs": [
    {
     "data": {
      "text/html": [
       "<div>\n",
       "<style scoped>\n",
       "    .dataframe tbody tr th:only-of-type {\n",
       "        vertical-align: middle;\n",
       "    }\n",
       "\n",
       "    .dataframe tbody tr th {\n",
       "        vertical-align: top;\n",
       "    }\n",
       "\n",
       "    .dataframe thead th {\n",
       "        text-align: right;\n",
       "    }\n",
       "</style>\n",
       "<table border=\"1\" class=\"dataframe\">\n",
       "  <thead>\n",
       "    <tr style=\"text-align: right;\">\n",
       "      <th></th>\n",
       "      <th>time</th>\n",
       "      <th>open</th>\n",
       "      <th>high</th>\n",
       "      <th>low</th>\n",
       "      <th>close</th>\n",
       "      <th>volume</th>\n",
       "    </tr>\n",
       "  </thead>\n",
       "  <tbody>\n",
       "    <tr>\n",
       "      <td>200</td>\n",
       "      <td>2019-11-04 10:37:00-05:00</td>\n",
       "      <td>14.540</td>\n",
       "      <td>14.540</td>\n",
       "      <td>14.540</td>\n",
       "      <td>14.540</td>\n",
       "      <td>300</td>\n",
       "    </tr>\n",
       "    <tr>\n",
       "      <td>201</td>\n",
       "      <td>2019-11-04 10:38:00-05:00</td>\n",
       "      <td>14.540</td>\n",
       "      <td>14.540</td>\n",
       "      <td>14.540</td>\n",
       "      <td>14.540</td>\n",
       "      <td>800</td>\n",
       "    </tr>\n",
       "    <tr>\n",
       "      <td>202</td>\n",
       "      <td>2019-11-04 10:43:00-05:00</td>\n",
       "      <td>14.530</td>\n",
       "      <td>14.530</td>\n",
       "      <td>14.530</td>\n",
       "      <td>14.530</td>\n",
       "      <td>500</td>\n",
       "    </tr>\n",
       "    <tr>\n",
       "      <td>203</td>\n",
       "      <td>2019-11-04 11:08:00-05:00</td>\n",
       "      <td>14.525</td>\n",
       "      <td>14.525</td>\n",
       "      <td>14.525</td>\n",
       "      <td>14.525</td>\n",
       "      <td>1</td>\n",
       "    </tr>\n",
       "    <tr>\n",
       "      <td>204</td>\n",
       "      <td>2019-11-04 14:14:00-05:00</td>\n",
       "      <td>14.520</td>\n",
       "      <td>14.520</td>\n",
       "      <td>14.520</td>\n",
       "      <td>14.520</td>\n",
       "      <td>100</td>\n",
       "    </tr>\n",
       "  </tbody>\n",
       "</table>\n",
       "</div>"
      ],
      "text/plain": [
       "                         time    open    high     low   close  volume\n",
       "200 2019-11-04 10:37:00-05:00  14.540  14.540  14.540  14.540     300\n",
       "201 2019-11-04 10:38:00-05:00  14.540  14.540  14.540  14.540     800\n",
       "202 2019-11-04 10:43:00-05:00  14.530  14.530  14.530  14.530     500\n",
       "203 2019-11-04 11:08:00-05:00  14.525  14.525  14.525  14.525       1\n",
       "204 2019-11-04 14:14:00-05:00  14.520  14.520  14.520  14.520     100"
      ]
     },
     "execution_count": 218,
     "metadata": {},
     "output_type": "execute_result"
    }
   ],
   "source": [
    "minute_bars.tail()"
   ]
  },
  {
   "cell_type": "code",
   "execution_count": 219,
   "metadata": {
    "pycharm": {
     "name": "#%%\n"
    }
   },
   "outputs": [
    {
     "data": {
      "text/plain": [
       "[Trade({   'condition1': 12,\n",
       "     'condition2': 37,\n",
       "     'condition3': 0,\n",
       "     'condition4': 0,\n",
       "     'exchange': '4',\n",
       "     'price': 145.17,\n",
       "     'size': 1,\n",
       "     'timestamp': 1570708435809}), Trade({   'condition1': 17,\n",
       "     'condition2': 41,\n",
       "     'condition3': 0,\n",
       "     'condition4': 0,\n",
       "     'exchange': '11',\n",
       "     'price': 144.76,\n",
       "     'size': 2477,\n",
       "     'timestamp': 1570714200078}), Trade({   'condition1': 16,\n",
       "     'condition2': 0,\n",
       "     'condition3': 0,\n",
       "     'condition4': 0,\n",
       "     'exchange': '11',\n",
       "     'price': 144.76,\n",
       "     'size': 2477,\n",
       "     'timestamp': 1570714200078}), Trade({   'condition1': 37,\n",
       "     'condition2': 0,\n",
       "     'condition3': 0,\n",
       "     'condition4': 0,\n",
       "     'exchange': '12',\n",
       "     'price': 144.64,\n",
       "     'size': 4,\n",
       "     'timestamp': 1570714248052}), Trade({   'condition1': 16,\n",
       "     'condition2': 0,\n",
       "     'condition3': 0,\n",
       "     'condition4': 0,\n",
       "     'exchange': '12',\n",
       "     'price': 144.64,\n",
       "     'size': 4,\n",
       "     'timestamp': 1570714248052}), Trade({   'condition1': 37,\n",
       "     'condition2': 0,\n",
       "     'condition3': 0,\n",
       "     'condition4': 0,\n",
       "     'exchange': '12',\n",
       "     'price': 144.64,\n",
       "     'size': 4,\n",
       "     'timestamp': 1570714248052}), Trade({   'condition1': 37,\n",
       "     'condition2': 0,\n",
       "     'condition3': 0,\n",
       "     'condition4': 0,\n",
       "     'exchange': '12',\n",
       "     'price': 144.64,\n",
       "     'size': 3,\n",
       "     'timestamp': 1570714248052}), Trade({   'condition1': 37,\n",
       "     'condition2': 0,\n",
       "     'condition3': 0,\n",
       "     'condition4': 0,\n",
       "     'exchange': '12',\n",
       "     'price': 144.64,\n",
       "     'size': 3,\n",
       "     'timestamp': 1570714248052}), Trade({   'condition1': 37,\n",
       "     'condition2': 0,\n",
       "     'condition3': 0,\n",
       "     'condition4': 0,\n",
       "     'exchange': '12',\n",
       "     'price': 144.64,\n",
       "     'size': 1,\n",
       "     'timestamp': 1570714248053}), Trade({   'condition1': 37,\n",
       "     'condition2': 0,\n",
       "     'condition3': 0,\n",
       "     'condition4': 0,\n",
       "     'exchange': '12',\n",
       "     'price': 144.64,\n",
       "     'size': 11,\n",
       "     'timestamp': 1570714248061})]"
      ]
     },
     "execution_count": 219,
     "metadata": {},
     "output_type": "execute_result"
    }
   ],
   "source": [
    "alpaca_api.polygon.historic_trades(ticker, '2019-10-10', limit=10)"
   ]
  },
  {
   "cell_type": "code",
   "execution_count": 220,
   "metadata": {
    "pycharm": {
     "name": "#%%\n"
    }
   },
   "outputs": [
    {
     "data": {
      "text/plain": [
       "[News({   'image': 'https://s.yimg.com/uu/api/res/1.2/AnF6SHEXvYv6sJfXTTXn4w--~B/aD05Mjt3PTQwMDtzbT0xO2FwcGlkPXl0YWNoeW9u/http://globalfinance.zenfs.com/en_us/Finance/US_AFTP_PRNEWSWIRE_LIVE/Aberdeen_Standard_Investments_Gold_Exchange-d2fd334bc0356314df093a7190b2d11a',\n",
       "     'keywords': ['sgol'],\n",
       "     'source': 'finance yahoo',\n",
       "     'summary': 'PHILADELPHIA, Aug. 9, 2019 /PRNewswire/ --\\xa0The Aberdeen '\n",
       "                'Standard Physical Gold Shares ETF (NYSE Arca: SGOL) has become '\n",
       "                \"the US's third largest ETF in terms of assets under management \"\n",
       "                'to track physical gold having just passed the $1 billion '\n",
       "                'milestone.  It is the cheapest gold ETF on the US market '\n",
       "                'following',\n",
       "     'symbols': ['SGOL'],\n",
       "     'timestamp': '2019-08-09T17:10:00.000Z',\n",
       "     'title': 'Aberdeen Standard Investments Gold Exchange Traded Fund (SGOL) '\n",
       "              'Passes $1 Billion Landmark',\n",
       "     'url': 'https://finance.yahoo.com/news/aberdeen-standard-investments-gold-exchange-171000934.html'}),\n",
       " News({   'keywords': ['sgol'],\n",
       "     'source': 'finance yahoo',\n",
       "     'summary': 'In 2018, rising interest rates that coincided with an extended '\n",
       "                'bull run in U.S. equities for most of the year fueled a strong '\n",
       "                'dollar, tamping down gains for gold.  SGOL gained 4 percent '\n",
       "                'during a tumultuous December that saw\\xa0U.S. equities finish '\n",
       "                'their worst year in over a decade.  Meanwhile, SGOL '\n",
       "                'effectively',\n",
       "     'symbols': ['SGOL'],\n",
       "     'timestamp': '2019-01-15T16:01:43.000Z',\n",
       "     'title': 'A Low-Cost, Physical Gold ETF with a Swiss Twist',\n",
       "     'url': 'https://finance.yahoo.com/news/low-cost-physical-gold-etf-160143046.html'}),\n",
       " News({   'keywords': ['sgol'],\n",
       "     'source': 'finance yahoo',\n",
       "     'summary': \"The Federal Reserve's tightening regime, which as of \"\n",
       "                'Wednesday, Dec. 19 th included four interest rate hikes this '\n",
       "                'year, is widely viewed as one of the major factors hindering '\n",
       "                'gold and gold exchange traded funds this year.  Higher U.S. '\n",
       "                'interest rates have contributed to upside that has made the '\n",
       "                'dollar',\n",
       "     'symbols': ['SGOL'],\n",
       "     'timestamp': '2018-12-20T15:55:21.000Z',\n",
       "     'title': 'Gold ETFs Could Get a Fed Assist in 2019',\n",
       "     'url': 'https://finance.yahoo.com/news/gold-etfs-could-fed-assist-155521353.html'}),\n",
       " News({   'image': 'https://s.yimg.com/uu/api/res/1.2/eZxDOPTcgxuigKXVt3P_Zw--~B/aD0yMjg7dz0zMDA7c209MTthcHBpZD15dGFjaHlvbg--/http://media.zenfs.com/en-US/homerun/marketrealist.com/6fe0a29117a07d470158b9ffb79903c0',\n",
       "     'keywords': ['sgol'],\n",
       "     'source': 'finance yahoo',\n",
       "     'summary': 'Can Gold Continue to Rise on Equity Market Weakness?  The '\n",
       "                'World Gold Council (or WGC) chief market strategist and head '\n",
       "                'of research, John Reade, analyzed gold’s performance in 2018.  '\n",
       "                'Reade maintained that these factors are unlikely to continue '\n",
       "                'for a very long time.',\n",
       "     'symbols': ['SGOL'],\n",
       "     'timestamp': '2018-12-17T12:31:46.000Z',\n",
       "     'title': 'Why the World Gold Council Thinks Gold Is ‘Interestingly '\n",
       "              'Balanced’',\n",
       "     'url': 'https://marketrealist.com/2018/12/why-the-world-gold-council-thinks-gold-is-interestingly-balanced?utm_source=yahoo&utm_medium=feed&yptr=yahoo'}),\n",
       " News({   'image': 'https://s.yimg.com/uu/api/res/1.2/.CRrAzHuTqGlm91WKDfIXQ--~B/aD05Mjt3PTQwMDtzbT0xO2FwcGlkPXl0YWNoeW9u/http://globalfinance.zenfs.com/en_us/Finance/US_AFTP_PRNEWSWIRE_LIVE/Aberdeen_Standard_Investments_Reduces_Fee-d2fd334bc0356314df093a7190b2d11a',\n",
       "     'keywords': ['sgol'],\n",
       "     'source': 'finance yahoo',\n",
       "     'summary': 'PHILADELPHIA, Dec. 3, 2018 /PRNewswire/ -- Aberdeen Standard '\n",
       "                'Investments has reduced the sponsor fee for the Aberdeen '\n",
       "                'Standard Physical Swiss Gold Shares ETF (NYSE Arca: SGOL) from '\n",
       "                '0.39% to 0.17%.  Aberdeen Standard Investments Head of '\n",
       "                'Exchange Traded Funds, Steven Dunn comments: \"This fee '\n",
       "                'reduction',\n",
       "     'symbols': ['SGOL'],\n",
       "     'timestamp': '2018-12-03T17:50:00.000Z',\n",
       "     'title': 'Aberdeen Standard Investments Reduces Fee For Its Gold Exchange '\n",
       "              'Traded Fund (SGOL)',\n",
       "     'url': 'https://finance.yahoo.com/news/aberdeen-standard-investments-reduces-fee-175000595.html'}),\n",
       " News({   'image': 'https://s.yimg.com/uu/api/res/1.2/1UNQekrOD2yxd4SbxMTMqQ--~B/aD0yMTM7dz0zMDA7c209MTthcHBpZD15dGFjaHlvbg--/http://media.zenfs.com/en-US/homerun/marketrealist.com/31da0e41edddcbb22e9a2243892ffd5f',\n",
       "     'keywords': ['sgol'],\n",
       "     'source': 'finance yahoo',\n",
       "     'summary': 'The US (IVV)(QQQ) employment data for August was released on '\n",
       "                'September 7. After disappointing in July, the job additions in '\n",
       "                'August rebounded to 201,000 compared to economists’ '\n",
       "                'expectations of 191,000 and last month’s additions of 147,000.',\n",
       "     'symbols': ['SGOL'],\n",
       "     'timestamp': '2018-09-13T11:31:27.000Z',\n",
       "     'title': 'Have Tariffs Started Taking a Toll on US Businesses?',\n",
       "     'url': 'http://marketrealist.com/2018/09/have-tariffs-started-taking-a-toll-on-us-businesses/?utm_source=yahoo&utm_medium=feed&yptr=yahoo'}),\n",
       " News({   'image': 'https://www.nasdaq.com/images/dreamit.jpg',\n",
       "     'keywords': [   'nasdaq news',\n",
       "                     'market headlines',\n",
       "                     'market news',\n",
       "                     'stock market headlines',\n",
       "                     'stock market news'],\n",
       "     'source': 'NASDAQ.com',\n",
       "     'summary': 'The&#160;SPDR Gold Shares (NYSEArca:&#160;GLD), iShares Gold '\n",
       "                'Trust (NYSEArca:&#160;IAU) and other gold-backed exchange '\n",
       "                'traded products traded.',\n",
       "     'symbols': ['SGOL'],\n",
       "     'timestamp': '2018-02-26T17:09:45.000Z',\n",
       "     'title': 'Gold Nears a Critical Juncture',\n",
       "     'url': 'https://www.etftrends.com/gold-nears-a-critical-juncture/'}),\n",
       " News({   'image': 'https://s.yimg.com/uu/api/res/1.2/LMCV3P1aeaJVzvLk_y_G9w--~B/aD02MDA7dz05MDA7c209MTthcHBpZD15dGFjaHlvbg--/http://media.zenfs.com/en-US/homerun/zacks.com/1a018a29aef5adbf5b4319f32058e209',\n",
       "     'keywords': ['sgol'],\n",
       "     'source': 'finance yahoo',\n",
       "     'summary': 'Bitcoin has been skyrocketing, shunning demand for gold.',\n",
       "     'symbols': ['SGOL'],\n",
       "     'timestamp': '2017-12-13T19:53:07.000Z',\n",
       "     'title': 'How the Bitcoin Rally is Impacting Gold ETFs',\n",
       "     'url': 'https://finance.yahoo.com/news/bitcoin-rally-impacting-gold-etfs-195307402.html'}),\n",
       " News({   'keywords': ['sgol'],\n",
       "     'source': 'finance yahoo',\n",
       "     'summary': 'Investors have their eyes set on the interest rates. A rise in '\n",
       "                'the interest rates causes the demand for precious metals to '\n",
       "                'fall.',\n",
       "     'symbols': ['SGOL'],\n",
       "     'timestamp': '2017-12-06T12:33:18.000Z',\n",
       "     'title': 'Yahoo',\n",
       "     'url': 'http://finance.yahoo.com/r/7932e25a-3c64-32b0-b40c-db27272e95e2/rate-hike-move-precious-metals-miners?utm_source=yahoo&utm_medium=feed&yptr=yahoo&.tsrc=rss'}),\n",
       " News({   'keywords': ['sgol'],\n",
       "     'source': 'finance yahoo',\n",
       "     'summary': 'All four precious metals saw a down day on Monday, December 4, '\n",
       "                '2017, after the US dollar, in which the four metals are '\n",
       "                'priced, rose $0.39%, propelled by the Senate passing its tax '\n",
       "                'reform bill.',\n",
       "     'symbols': ['SGOL'],\n",
       "     'timestamp': '2017-12-05T19:27:18.000Z',\n",
       "     'title': 'Yahoo',\n",
       "     'url': 'http://finance.yahoo.com/r/21502757-618a-3e25-bc91-4a5c9233ce48/tax-reform-bills-impact-precious-metals?utm_source=yahoo&utm_medium=feed&yptr=yahoo&.tsrc=rss'})]"
      ]
     },
     "execution_count": 220,
     "metadata": {},
     "output_type": "execute_result"
    }
   ],
   "source": [
    "alpaca_api.polygon.news(ticker)"
   ]
  },
  {
   "cell_type": "code",
   "execution_count": 221,
   "metadata": {
    "pycharm": {
     "name": "#%%\n"
    }
   },
   "outputs": [
    {
     "data": {
      "text/plain": [
       "Trade({'exchange': 11, 'price': 14.53, 'size': 989, 'timestamp': 1572915600000})"
      ]
     },
     "execution_count": 221,
     "metadata": {},
     "output_type": "execute_result"
    }
   ],
   "source": [
    "alpaca_api.polygon.last_trade(ticker)"
   ]
  },
  {
   "cell_type": "code",
   "execution_count": 222,
   "metadata": {
    "pycharm": {
     "name": "#%%\n"
    }
   },
   "outputs": [
    {
     "data": {
      "text/plain": [
       "Quote({   'askexchange': 11,\n",
       "    'askprice': 14.65,\n",
       "    'asksize': 4,\n",
       "    'bidexchange': 11,\n",
       "    'bidprice': 14.5,\n",
       "    'bidsize': 17,\n",
       "    'timestamp': 1572914536222})"
      ]
     },
     "execution_count": 222,
     "metadata": {},
     "output_type": "execute_result"
    }
   ],
   "source": [
    "alpaca_api.polygon.last_quote(ticker)"
   ]
  },
  {
   "cell_type": "code",
   "execution_count": 223,
   "metadata": {
    "pycharm": {
     "name": "#%%\n"
    }
   },
   "outputs": [
    {
     "data": {
      "text/plain": [
       "Company({   'active': True,\n",
       "    'bloomberg': 'EQ0000000008960161',\n",
       "    'ceo': '',\n",
       "    'cik': '0001450923',\n",
       "    'country': 'united states',\n",
       "    'description': 'The investment seeks to reflect the performance of the '\n",
       "                   'price of gold bullion, less the Trust’s expenses. \\n'\n",
       "                   ' The Shares are intended to constitute a simple and '\n",
       "                   'cost-effective means of making an investment similar to an '\n",
       "                   'investment in gold. An investment in physical gold '\n",
       "                   'requires expensive and sometimes complicated arrangements '\n",
       "                   'in connection with the assay, transportation, warehousing '\n",
       "                   'and insurance of the metal. Although the Shares are not '\n",
       "                   'the exact equivalent of an investment in gold, they '\n",
       "                   'provide investors with an alternative that allows a level '\n",
       "                   'of participation in the gold market through the securities '\n",
       "                   'market.',\n",
       "    'employees': None,\n",
       "    'exchange': 'NYSE Arca',\n",
       "    'exchangeSymbol': 'ARCA',\n",
       "    'figi': None,\n",
       "    'hq_address': '48 Wall Street New York NY, 10005',\n",
       "    'hq_country': 'United States',\n",
       "    'hq_state': 'NY',\n",
       "    'industry': '',\n",
       "    'lei': None,\n",
       "    'listdate': '2009-09-09',\n",
       "    'logo': 'https://s3.polygon.io/logos/sgol/logo.png',\n",
       "    'marketcap': 784235000,\n",
       "    'name': 'Aberdeen Standard Physical Swiss Gold Shares',\n",
       "    'phone': '212 918 4954',\n",
       "    'sector': '',\n",
       "    'sic': 1041,\n",
       "    'similar': [],\n",
       "    'symbol': 'SGOL',\n",
       "    'tags': [],\n",
       "    'type': 'ET',\n",
       "    'updated': '11/16/2018',\n",
       "    'url': 'www.etfsecurities.com'})"
      ]
     },
     "execution_count": 223,
     "metadata": {},
     "output_type": "execute_result"
    }
   ],
   "source": [
    "alpaca_api.polygon.company(ticker)"
   ]
  },
  {
   "cell_type": "code",
   "execution_count": 224,
   "metadata": {
    "pycharm": {
     "name": "#%%\n"
    }
   },
   "outputs": [],
   "source": [
    "alpaca_api.polygon.dividends(ticker)"
   ]
  },
  {
   "cell_type": "code",
   "execution_count": 225,
   "metadata": {
    "pycharm": {
     "name": "#%%\n"
    }
   },
   "outputs": [],
   "source": [
    "indicators  = Indicators(alpaca_api, assets)"
   ]
  },
  {
   "cell_type": "code",
   "execution_count": 226,
   "metadata": {},
   "outputs": [],
   "source": [
    "results = requests.post(\"https://api.stocktwits.com/api/2/streams/symbol/{}.json\".format(ticker))\n",
    "results = json.loads(results.text)"
   ]
  },
  {
   "cell_type": "code",
   "execution_count": 227,
   "metadata": {
    "pycharm": {
     "name": "#%%\n"
    }
   },
   "outputs": [
    {
     "data": {
      "text/plain": [
       "{'response': {'status': 200},\n",
       " 'symbol': {'id': 7944,\n",
       "  'symbol': 'SGOL',\n",
       "  'title': 'ETFS Gold Trust',\n",
       "  'aliases': [],\n",
       "  'is_following': False,\n",
       "  'watchlist_count': 322},\n",
       " 'cursor': {'more': True, 'since': 182423655, 'max': 176293496},\n",
       " 'messages': [{'id': 182423655,\n",
       "   'body': '$SGOL / ETFS GOLD Trust files form 8-K - Other Events https://fintel.io/s/us/sgol?utm_source=stocktwits.com&amp;utm_medium=Social&amp;utm_campaign=filing',\n",
       "   'created_at': '2019-11-04T17:39:46Z',\n",
       "   'user': {'id': 127776,\n",
       "    'username': 'risenhoover',\n",
       "    'name': 'Wilton',\n",
       "    'avatar_url': 'https://avatars.stocktwits.com/production/127776/thumb-1384448707.png',\n",
       "    'avatar_url_ssl': 'https://avatars.stocktwits.com/production/127776/thumb-1384448707.png',\n",
       "    'join_date': '2012-01-05',\n",
       "    'official': False,\n",
       "    'identity': 'User',\n",
       "    'classification': [],\n",
       "    'followers': 2408,\n",
       "    'following': 27,\n",
       "    'ideas': 405927,\n",
       "    'watchlist_stocks_count': 1,\n",
       "    'like_count': 1081,\n",
       "    'plus_tier': '',\n",
       "    'premium_room': ''},\n",
       "   'source': {'id': 2883, 'title': 'Fintel.io', 'url': 'https://fintel.io'},\n",
       "   'symbols': [{'id': 7944,\n",
       "     'symbol': 'SGOL',\n",
       "     'title': 'ETFS Gold Trust',\n",
       "     'aliases': [],\n",
       "     'is_following': False,\n",
       "     'watchlist_count': 322}],\n",
       "   'mentioned_users': [],\n",
       "   'entities': {'sentiment': None},\n",
       "   'filters': {'day_counts': 211, 'official_api': False}},\n",
       "  {'id': 182409789,\n",
       "   'body': 'OnNovember  http://www.conferencecalltranscripts.org/8/summary2/?id=7001138 $SGOL',\n",
       "   'created_at': '2019-11-04T16:05:52Z',\n",
       "   'user': {'id': 210967,\n",
       "    'username': 'cctranscripts',\n",
       "    'name': 'Conference Call Transcripts',\n",
       "    'avatar_url': 'https://avatars.stocktwits.com/production/210967/thumb-1363372333.png',\n",
       "    'avatar_url_ssl': 'https://avatars.stocktwits.com/production/210967/thumb-1363372333.png',\n",
       "    'join_date': '2013-01-30',\n",
       "    'official': False,\n",
       "    'identity': 'User',\n",
       "    'classification': [],\n",
       "    'followers': 5180,\n",
       "    'following': 8,\n",
       "    'ideas': 1989733,\n",
       "    'watchlist_stocks_count': 0,\n",
       "    'like_count': 730,\n",
       "    'plus_tier': '',\n",
       "    'premium_room': ''},\n",
       "   'source': {'id': 1130,\n",
       "    'title': 'cctranscripts',\n",
       "    'url': 'http://conferencecalltranscripts.org'},\n",
       "   'symbols': [{'id': 7944,\n",
       "     'symbol': 'SGOL',\n",
       "     'title': 'ETFS Gold Trust',\n",
       "     'aliases': [],\n",
       "     'is_following': False,\n",
       "     'watchlist_count': 322}],\n",
       "   'mentioned_users': [],\n",
       "   'entities': {'sentiment': None},\n",
       "   'filters': {'day_counts': 363, 'official_api': False}},\n",
       "  {'id': 182283811,\n",
       "   'body': '$SGOL / ETFS GOLD Trust files form 424B3 https://fintel.io/filings/us/sgol?utm_source=stocktwits.com&amp;utm_medium=Social&amp;utm_campaign=filing',\n",
       "   'created_at': '2019-11-01T21:43:33Z',\n",
       "   'user': {'id': 127776,\n",
       "    'username': 'risenhoover',\n",
       "    'name': 'Wilton',\n",
       "    'avatar_url': 'https://avatars.stocktwits.com/production/127776/thumb-1384448707.png',\n",
       "    'avatar_url_ssl': 'https://avatars.stocktwits.com/production/127776/thumb-1384448707.png',\n",
       "    'join_date': '2012-01-05',\n",
       "    'official': False,\n",
       "    'identity': 'User',\n",
       "    'classification': [],\n",
       "    'followers': 2408,\n",
       "    'following': 27,\n",
       "    'ideas': 406064,\n",
       "    'watchlist_stocks_count': 1,\n",
       "    'like_count': 1081,\n",
       "    'plus_tier': '',\n",
       "    'premium_room': ''},\n",
       "   'source': {'id': 2883, 'title': 'Fintel.io', 'url': 'https://fintel.io'},\n",
       "   'symbols': [{'id': 7944,\n",
       "     'symbol': 'SGOL',\n",
       "     'title': 'ETFS Gold Trust',\n",
       "     'aliases': [],\n",
       "     'is_following': False,\n",
       "     'watchlist_count': 322}],\n",
       "   'mentioned_users': [],\n",
       "   'entities': {'sentiment': None},\n",
       "   'filters': {'day_counts': 991, 'official_api': False}},\n",
       "  {'id': 182274921,\n",
       "   'body': 'ETFS Gold Trust just filed a prospectus, suggesting it plans to soon issue some securities  http://www.conferencecalltranscripts.org/PROS/summary2/?id=6996237 $SGOL',\n",
       "   'created_at': '2019-11-01T20:22:47Z',\n",
       "   'user': {'id': 210967,\n",
       "    'username': 'cctranscripts',\n",
       "    'name': 'Conference Call Transcripts',\n",
       "    'avatar_url': 'https://avatars.stocktwits.com/production/210967/thumb-1363372333.png',\n",
       "    'avatar_url_ssl': 'https://avatars.stocktwits.com/production/210967/thumb-1363372333.png',\n",
       "    'join_date': '2013-01-30',\n",
       "    'official': False,\n",
       "    'identity': 'User',\n",
       "    'classification': [],\n",
       "    'followers': 5180,\n",
       "    'following': 8,\n",
       "    'ideas': 1990243,\n",
       "    'watchlist_stocks_count': 0,\n",
       "    'like_count': 730,\n",
       "    'plus_tier': '',\n",
       "    'premium_room': ''},\n",
       "   'source': {'id': 1130,\n",
       "    'title': 'cctranscripts',\n",
       "    'url': 'http://conferencecalltranscripts.org'},\n",
       "   'symbols': [{'id': 7944,\n",
       "     'symbol': 'SGOL',\n",
       "     'title': 'ETFS Gold Trust',\n",
       "     'aliases': [],\n",
       "     'is_following': False,\n",
       "     'watchlist_count': 322}],\n",
       "   'links': [{'title': 'Conference Call Transcripts',\n",
       "     'url': 'http://www.conferencecalltranscripts.org/PROS/summary2/?id=6996237',\n",
       "     'shortened_url': 'http://www.conferencecalltranscripts.org/PROS/summary2/?id=6996237',\n",
       "     'shortened_expanded_url': 'conferencecalltranscripts.o...',\n",
       "     'description': 'Get notified next time SGOL.US makes a similar move! ETFS Gold Trust just came out with a new prospectus, available here. This is an SEC requirement for firms looking to issue certain types of securities. An excerpt of the prospectus is provided below: 424B3 1 sgol-424b3_110119.htm PROSPECTUS Filed pursuant to Rule 424(b)(3) Registration Statement No.',\n",
       "     'image': None,\n",
       "     'created_at': '2019-11-01T20:22:56Z',\n",
       "     'video_url': None,\n",
       "     'source': {'name': 'Conferencecalltranscripts',\n",
       "      'website': 'http://www.conferencecalltranscripts.org'}}],\n",
       "   'mentioned_users': [],\n",
       "   'entities': {'sentiment': None},\n",
       "   'filters': {'day_counts': 1375, 'official_api': False}},\n",
       "  {'id': 181440937,\n",
       "   'body': 'Mountain Capital Investment Advisors Inc,has filed Form 13F for Q3 2019.Opened NEW positions in $NKTR $SGOL',\n",
       "   'created_at': '2019-10-25T12:10:21Z',\n",
       "   'user': {'id': 909249,\n",
       "    'username': 'InsiderForms',\n",
       "    'name': 'Insider Forms',\n",
       "    'avatar_url': 'https://avatars.stocktwits.com/production/909249/thumb-1482551759.png',\n",
       "    'avatar_url_ssl': 'https://avatars.stocktwits.com/production/909249/thumb-1482551759.png',\n",
       "    'join_date': '2016-12-24',\n",
       "    'official': False,\n",
       "    'identity': 'User',\n",
       "    'classification': [],\n",
       "    'followers': 2043,\n",
       "    'following': 2,\n",
       "    'ideas': 184089,\n",
       "    'watchlist_stocks_count': 1,\n",
       "    'like_count': 0,\n",
       "    'plus_tier': '',\n",
       "    'premium_room': ''},\n",
       "   'source': {'id': 3019,\n",
       "    'title': 'Insider Forms',\n",
       "    'url': 'http://stocktwits.com/InsiderForms'},\n",
       "   'symbols': [{'id': 2860,\n",
       "     'symbol': 'NKTR',\n",
       "     'title': 'Nektar Therapeutics',\n",
       "     'aliases': [],\n",
       "     'is_following': False,\n",
       "     'watchlist_count': 6253},\n",
       "    {'id': 7944,\n",
       "     'symbol': 'SGOL',\n",
       "     'title': 'ETFS Gold Trust',\n",
       "     'aliases': [],\n",
       "     'is_following': False,\n",
       "     'watchlist_count': 320}],\n",
       "   'mentioned_users': [],\n",
       "   'entities': {'sentiment': None},\n",
       "   'filters': {'day_counts': 69, 'official_api': False}},\n",
       "  {'id': 180568727,\n",
       "   'body': 'SimpliFi Inc.,has filed Form 13F for Q3 2019.Opened NEW positions in $SGOL $SUSC',\n",
       "   'created_at': '2019-10-16T19:10:40Z',\n",
       "   'user': {'id': 909249,\n",
       "    'username': 'InsiderForms',\n",
       "    'name': 'Insider Forms',\n",
       "    'avatar_url': 'https://avatars.stocktwits.com/production/909249/thumb-1482551759.png',\n",
       "    'avatar_url_ssl': 'https://avatars.stocktwits.com/production/909249/thumb-1482551759.png',\n",
       "    'join_date': '2016-12-24',\n",
       "    'official': False,\n",
       "    'identity': 'User',\n",
       "    'classification': [],\n",
       "    'followers': 2043,\n",
       "    'following': 2,\n",
       "    'ideas': 184117,\n",
       "    'watchlist_stocks_count': 1,\n",
       "    'like_count': 0,\n",
       "    'plus_tier': '',\n",
       "    'premium_room': ''},\n",
       "   'source': {'id': 3019,\n",
       "    'title': 'Insider Forms',\n",
       "    'url': 'http://stocktwits.com/InsiderForms'},\n",
       "   'symbols': [{'id': 7944,\n",
       "     'symbol': 'SGOL',\n",
       "     'title': 'ETFS Gold Trust',\n",
       "     'aliases': [],\n",
       "     'is_following': False,\n",
       "     'watchlist_count': 322}],\n",
       "   'mentioned_users': [],\n",
       "   'entities': {'sentiment': None},\n",
       "   'filters': {'day_counts': 78, 'official_api': False}},\n",
       "  {'id': 180524203,\n",
       "   'body': 'Financial Services Advisory Inc,has filed Form 13F for Q3 2019.Opened NEW positions in $DEF $IAU $SGOL',\n",
       "   'created_at': '2019-10-16T14:40:20Z',\n",
       "   'user': {'id': 909249,\n",
       "    'username': 'InsiderForms',\n",
       "    'name': 'Insider Forms',\n",
       "    'avatar_url': 'https://avatars.stocktwits.com/production/909249/thumb-1482551759.png',\n",
       "    'avatar_url_ssl': 'https://avatars.stocktwits.com/production/909249/thumb-1482551759.png',\n",
       "    'join_date': '2016-12-24',\n",
       "    'official': False,\n",
       "    'identity': 'User',\n",
       "    'classification': [],\n",
       "    'followers': 2043,\n",
       "    'following': 2,\n",
       "    'ideas': 184111,\n",
       "    'watchlist_stocks_count': 1,\n",
       "    'like_count': 0,\n",
       "    'plus_tier': '',\n",
       "    'premium_room': ''},\n",
       "   'source': {'id': 3019,\n",
       "    'title': 'Insider Forms',\n",
       "    'url': 'http://stocktwits.com/InsiderForms'},\n",
       "   'symbols': [{'id': 4943,\n",
       "     'symbol': 'DEF',\n",
       "     'title': 'Guggenheim Defensive Equity',\n",
       "     'aliases': [],\n",
       "     'is_following': False,\n",
       "     'watchlist_count': 50},\n",
       "    {'id': 5783,\n",
       "     'symbol': 'IAU',\n",
       "     'title': 'iShares Gold Trust',\n",
       "     'aliases': [],\n",
       "     'is_following': False,\n",
       "     'watchlist_count': 2341},\n",
       "    {'id': 7944,\n",
       "     'symbol': 'SGOL',\n",
       "     'title': 'ETFS Gold Trust',\n",
       "     'aliases': [],\n",
       "     'is_following': False,\n",
       "     'watchlist_count': 322}],\n",
       "   'mentioned_users': [],\n",
       "   'entities': {'sentiment': None},\n",
       "   'filters': {'day_counts': 104, 'official_api': False}},\n",
       "  {'id': 180138527,\n",
       "   'body': '$SGOL / ETFS GOLD Trust files form 8-K - Financial Statements and Exhibits, Other Events https://fintel.io/s/us/sgol?utm_source=stocktwits.com&amp;utm_medium=Social&amp;utm_campaign=filing',\n",
       "   'created_at': '2019-10-11T14:25:02Z',\n",
       "   'user': {'id': 127776,\n",
       "    'username': 'risenhoover',\n",
       "    'name': 'Wilton',\n",
       "    'avatar_url': 'https://avatars.stocktwits.com/production/127776/thumb-1384448707.png',\n",
       "    'avatar_url_ssl': 'https://avatars.stocktwits.com/production/127776/thumb-1384448707.png',\n",
       "    'join_date': '2012-01-05',\n",
       "    'official': False,\n",
       "    'identity': 'User',\n",
       "    'classification': [],\n",
       "    'followers': 2408,\n",
       "    'following': 27,\n",
       "    'ideas': 405764,\n",
       "    'watchlist_stocks_count': 1,\n",
       "    'like_count': 1081,\n",
       "    'plus_tier': '',\n",
       "    'premium_room': ''},\n",
       "   'source': {'id': 2883, 'title': 'Fintel.io', 'url': 'https://fintel.io'},\n",
       "   'symbols': [{'id': 7944,\n",
       "     'symbol': 'SGOL',\n",
       "     'title': 'ETFS Gold Trust',\n",
       "     'aliases': [],\n",
       "     'is_following': False,\n",
       "     'watchlist_count': 320}],\n",
       "   'mentioned_users': [],\n",
       "   'entities': {'sentiment': None},\n",
       "   'filters': {'day_counts': 453, 'official_api': False}},\n",
       "  {'id': 180138054,\n",
       "   'body': '$SGOL just filed a Financial Exhibit https://last10k.com/sec-filings/sgol/0001387131-19-007574.htm?utm_source=stocktwits&amp;utm_medium=forum&amp;utm_campaign=8K&amp;utm_term=sgol',\n",
       "   'created_at': '2019-10-11T14:22:47Z',\n",
       "   'user': {'id': 1409376,\n",
       "    'username': 'Last10K',\n",
       "    'name': 'Last10K.com',\n",
       "    'avatar_url': 'https://avatars.stocktwits.com/production/1409376/thumb-1559672751.png',\n",
       "    'avatar_url_ssl': 'https://avatars.stocktwits.com/production/1409376/thumb-1559672751.png',\n",
       "    'join_date': '2018-02-13',\n",
       "    'official': False,\n",
       "    'identity': 'User',\n",
       "    'classification': [],\n",
       "    'followers': 605,\n",
       "    'following': 0,\n",
       "    'ideas': 138273,\n",
       "    'watchlist_stocks_count': 0,\n",
       "    'like_count': 200,\n",
       "    'plus_tier': '',\n",
       "    'premium_room': ''},\n",
       "   'source': {'id': 3968, 'title': 'Last10K', 'url': 'https://last10k.com'},\n",
       "   'symbols': [{'id': 7944,\n",
       "     'symbol': 'SGOL',\n",
       "     'title': 'ETFS Gold Trust',\n",
       "     'aliases': [],\n",
       "     'is_following': False,\n",
       "     'watchlist_count': 320}],\n",
       "   'links': [{'title': 'Aberdeen Standard Gold Etf Trust (SGOL) 10K Annual Reports & 10Q SEC Filings | Last10K',\n",
       "     'url': 'https://last10k.com/sec-filings/sgol/0001387131-19-007574.htm?utm_source=stocktwits&utm_medium=forum&utm_campaign=8K&utm_term=sgol',\n",
       "     'shortened_url': 'https://last10k.com/sec-filings/sgol/0001387131-19-007574.htm?utm_source=stocktwits&utm_medium=forum&utm_campaign=8K&utm_term=sgol',\n",
       "     'shortened_expanded_url': 'last10k.com/sec-filings/sgol',\n",
       "     'description': 'Analyze up to 10 years of full 10K Annual Reports and Quarterly 10Q SEC filings for Aberdeen Standard Gold Etf Trust (SGOL) using our online tools.',\n",
       "     'image': 'https://last10k.com/wp-content/uploads/compare.png',\n",
       "     'created_at': '2019-10-11T14:22:50Z',\n",
       "     'video_url': None,\n",
       "     'source': {'name': 'Last10K', 'website': 'https://last10k.com'}}],\n",
       "   'mentioned_users': [],\n",
       "   'entities': {'sentiment': None},\n",
       "   'filters': {'day_counts': 134, 'official_api': False}},\n",
       "  {'id': 180137217,\n",
       "   'body': 'ETFS Gold: Aberdeen Standard Gold Etf Trust 8-K Exhibit99.1 PRESS    RELEASE  http://www.conferencecalltranscripts.org/8/summary/?id=6913289 $SGOL',\n",
       "   'created_at': '2019-10-11T14:18:13Z',\n",
       "   'user': {'id': 210967,\n",
       "    'username': 'cctranscripts',\n",
       "    'name': 'Conference Call Transcripts',\n",
       "    'avatar_url': 'https://avatars.stocktwits.com/production/210967/thumb-1363372333.png',\n",
       "    'avatar_url_ssl': 'https://avatars.stocktwits.com/production/210967/thumb-1363372333.png',\n",
       "    'join_date': '2013-01-30',\n",
       "    'official': False,\n",
       "    'identity': 'User',\n",
       "    'classification': [],\n",
       "    'followers': 5180,\n",
       "    'following': 8,\n",
       "    'ideas': 1989831,\n",
       "    'watchlist_stocks_count': 0,\n",
       "    'like_count': 730,\n",
       "    'plus_tier': '',\n",
       "    'premium_room': ''},\n",
       "   'source': {'id': 1130,\n",
       "    'title': 'cctranscripts',\n",
       "    'url': 'http://conferencecalltranscripts.org'},\n",
       "   'symbols': [{'id': 7944,\n",
       "     'symbol': 'SGOL',\n",
       "     'title': 'ETFS Gold Trust',\n",
       "     'aliases': [],\n",
       "     'is_following': False,\n",
       "     'watchlist_count': 322}],\n",
       "   'links': [{'title': 'Conference Call Transcripts',\n",
       "     'url': 'http://www.conferencecalltranscripts.org/8/summary/?id=6913289',\n",
       "     'shortened_url': 'http://www.conferencecalltranscripts.org/8/summary/?id=6913289',\n",
       "     'shortened_expanded_url': 'conferencecalltranscripts.o...',\n",
       "     'description': \"Get notified next time SGOL.US makes a similar move! The following excerpt is from the company's SEC filing . For immediate release October 11, 2019 ABERDEEN STANDARD INVESTMENTS ANNOUNCES 10 FOR 1 FORWARD SHARE SPLIT OF GOLD EXCHANGE TRADED FUND (SGOL) Aberdeen Standard Investments announced today a 10 for 1 forward share split for the Aberdeen Standard Physical Gold Shares ETF (NYSE Arca: SGOL).\",\n",
       "     'image': None,\n",
       "     'created_at': '2019-10-11T14:18:23Z',\n",
       "     'video_url': None,\n",
       "     'source': {'name': 'Conferencecalltranscripts',\n",
       "      'website': 'http://www.conferencecalltranscripts.org'}}],\n",
       "   'mentioned_users': [],\n",
       "   'entities': {'sentiment': None},\n",
       "   'filters': {'day_counts': 754, 'official_api': False}},\n",
       "  {'id': 180118979,\n",
       "   'body': '$SGOL 6.0m ago: Aberdeen Standard Investments Announces 10 For 1 Forward Share Split Of Gold Exchange Traded Fund (SGOL)[1] https://www.prnewswire.com:443/news-releases/aberdeen-standard-investments-announces-10-for-1-forward-share-split-of-gold-exchange-traded-fund-sgol1-300936946.html',\n",
       "   'created_at': '2019-10-11T12:10:59Z',\n",
       "   'user': {'id': 1277938,\n",
       "    'username': 'livetraderalerts',\n",
       "    'name': 'LiveTraderAlerts.com News feed',\n",
       "    'avatar_url': 'https://avatars.stocktwits.com/production/1277938/thumb-1526067389.png',\n",
       "    'avatar_url_ssl': 'https://avatars.stocktwits.com/production/1277938/thumb-1526067389.png',\n",
       "    'join_date': '2017-11-22',\n",
       "    'official': False,\n",
       "    'identity': 'User',\n",
       "    'classification': [],\n",
       "    'followers': 3193,\n",
       "    'following': 6,\n",
       "    'ideas': 434260,\n",
       "    'watchlist_stocks_count': 3,\n",
       "    'like_count': 3,\n",
       "    'plus_tier': 'life',\n",
       "    'premium_room': ''},\n",
       "   'source': {'id': 3746,\n",
       "    'title': 'LiveTraderAlerts.com',\n",
       "    'url': 'https://LiveTraderAlerts.com'},\n",
       "   'symbols': [{'id': 7944,\n",
       "     'symbol': 'SGOL',\n",
       "     'title': 'ETFS Gold Trust',\n",
       "     'aliases': [],\n",
       "     'is_following': False,\n",
       "     'watchlist_count': 322}],\n",
       "   'links': [{'title': 'Aberdeen Standard Investments Announces 10 For 1 Forward Share Split Of Gold Exchange Traded Fund (SGOL)[1]',\n",
       "     'url': 'https://www.prnewswire.com:443/news-releases/aberdeen-standard-investments-announces-10-for-1-forward-share-split-of-gold-exchange-traded-fund-sgol1-300936946.html',\n",
       "     'shortened_url': 'https://www.prnewswire.com:443/news-releases/aberdeen-standard-investments-announces-10-for-1-forward-share-split-of-gold-exchange-traded-fund-sgol1-300936946.html',\n",
       "     'shortened_expanded_url': 'prnewswire.com/news-release...',\n",
       "     'description': 'PHILADELPHIA, Oct. 11, 2019 /PRNewswire/ -- Aberdeen Standard Investments announced today a 10 for 1 forward share split for the Aberdeen Standard Physical...',\n",
       "     'image': 'https://www.prnewswire.com/content/dam/prnewswire/homepage/prn_cision_logo_desktop.png',\n",
       "     'created_at': '2019-10-11T12:11:03Z',\n",
       "     'video_url': None,\n",
       "     'source': {'name': 'Prnewswire',\n",
       "      'website': 'https://www.prnewswire.com'}}],\n",
       "   'mentioned_users': [],\n",
       "   'entities': {'sentiment': None},\n",
       "   'filters': {'day_counts': 832, 'official_api': False}},\n",
       "  {'id': 179645535,\n",
       "   'body': 'What is the best Gold ETF?  $GLD $IAU $SGOL  Personally I like $GLDM best.  http://www.dividendincomefreedom.com/2019/10/06/the-best-gold-etf/',\n",
       "   'created_at': '2019-10-07T01:44:18Z',\n",
       "   'user': {'id': 2846385,\n",
       "    'username': 'DividendIncomeFreedom',\n",
       "    'name': 'Dividend IncomeFreedom',\n",
       "    'avatar_url': 'https://avatars.stocktwits.com/production/2846385/thumb-1570412493.png',\n",
       "    'avatar_url_ssl': 'https://avatars.stocktwits.com/production/2846385/thumb-1570412493.png',\n",
       "    'join_date': '2019-10-07',\n",
       "    'official': False,\n",
       "    'identity': 'User',\n",
       "    'classification': [],\n",
       "    'followers': 1,\n",
       "    'following': 2,\n",
       "    'ideas': 14,\n",
       "    'watchlist_stocks_count': 3,\n",
       "    'like_count': 0,\n",
       "    'plus_tier': '',\n",
       "    'premium_room': ''},\n",
       "   'source': {'id': 2269,\n",
       "    'title': 'StockTwits Web',\n",
       "    'url': 'https://stocktwits.com'},\n",
       "   'symbols': [{'id': 5539,\n",
       "     'symbol': 'GLD',\n",
       "     'title': 'SPDR Gold Shares',\n",
       "     'aliases': [],\n",
       "     'is_following': False,\n",
       "     'watchlist_count': 40277},\n",
       "    {'id': 5783,\n",
       "     'symbol': 'IAU',\n",
       "     'title': 'iShares Gold Trust',\n",
       "     'aliases': [],\n",
       "     'is_following': False,\n",
       "     'watchlist_count': 2341},\n",
       "    {'id': 7944,\n",
       "     'symbol': 'SGOL',\n",
       "     'title': 'ETFS Gold Trust',\n",
       "     'aliases': [],\n",
       "     'is_following': False,\n",
       "     'watchlist_count': 320}],\n",
       "   'links': [{'title': 'Early Retirement Through Passive Income',\n",
       "     'url': 'http://www.dividendincomefreedom.com/2019/10/06/the-best-gold-etf/',\n",
       "     'shortened_url': 'http://www.dividendincomefreedom.com/2019/10/06/the-best-gold-etf/',\n",
       "     'shortened_expanded_url': 'dividendincomefreedom.com/2...',\n",
       "     'description': 'When deciding what Gold ETF to buy with the looming recession, it is easy to chose the one with the lowest expense ratio. On the other hand this ETF might be illiquid and hard to trade large volume. After reviewing the data I have determined that GLD, IAU, SGOL, and GLDM are the best for holding as part of your portfolio.',\n",
       "     'image': None,\n",
       "     'created_at': '2019-10-07T01:44:19Z',\n",
       "     'video_url': None,\n",
       "     'source': {'name': 'Dividendincomefreedom',\n",
       "      'website': 'http://www.dividendincomefreedom.com'}}],\n",
       "   'mentioned_users': [],\n",
       "   'entities': {'sentiment': {'basic': 'Bullish'}},\n",
       "   'filters': {'day_counts': 1, 'official_api': True}},\n",
       "  {'id': 179586341,\n",
       "   'body': '$SGOL  $SIVR  During the 6 month rally: \\n \\n Silver ran up 30% \\nGold ran up 20% \\nBoth are up 16% now.',\n",
       "   'created_at': '2019-10-04T23:25:36Z',\n",
       "   'user': {'id': 1227808,\n",
       "    'username': 'gotachance',\n",
       "    'name': 'gotachance',\n",
       "    'avatar_url': 'https://avatars.stocktwits.com/production/1227808/thumb-1515271481.png',\n",
       "    'avatar_url_ssl': 'https://avatars.stocktwits.com/production/1227808/thumb-1515271481.png',\n",
       "    'join_date': '2017-10-15',\n",
       "    'official': False,\n",
       "    'identity': 'User',\n",
       "    'classification': [],\n",
       "    'followers': 69,\n",
       "    'following': 31,\n",
       "    'ideas': 5977,\n",
       "    'watchlist_stocks_count': 45,\n",
       "    'like_count': 3981,\n",
       "    'plus_tier': '',\n",
       "    'premium_room': ''},\n",
       "   'source': {'id': 2269,\n",
       "    'title': 'StockTwits Web',\n",
       "    'url': 'https://stocktwits.com'},\n",
       "   'symbols': [{'id': 7944,\n",
       "     'symbol': 'SGOL',\n",
       "     'title': 'ETFS Gold Trust',\n",
       "     'aliases': [],\n",
       "     'is_following': False,\n",
       "     'watchlist_count': 322},\n",
       "    {'id': 8223,\n",
       "     'symbol': 'SIVR',\n",
       "     'title': 'ETFS Physical Silver Shares',\n",
       "     'aliases': [],\n",
       "     'is_following': False,\n",
       "     'watchlist_count': 378}],\n",
       "   'likes': {'total': 2, 'user_ids': [216377, 893205]},\n",
       "   'mentioned_users': [],\n",
       "   'entities': {'chart': {'thumb': 'https://charts.stocktwits.com/production/small_179586341.png',\n",
       "     'large': 'https://charts.stocktwits.com/production/large_179586341.png',\n",
       "     'original': 'https://charts.stocktwits.com/production/original_179586341.png',\n",
       "     'url': 'https://charts.stocktwits.com/production/original_179586341.png'},\n",
       "    'sentiment': None},\n",
       "   'filters': {'day_counts': 51, 'official_api': True}},\n",
       "  {'id': 179549501,\n",
       "   'body': '2019-10-03 Short sale volume (not short interest) for $SGOL is 95%. http://shortvolumes.com/?t=SGOL via @shortvolumes',\n",
       "   'created_at': '2019-10-04T17:31:35Z',\n",
       "   'user': {'id': 1246819,\n",
       "    'username': 'shortvolumes',\n",
       "    'name': 'shortvolumes',\n",
       "    'avatar_url': 'https://avatars.stocktwits.com/production/1246819/thumb-1511564141.png',\n",
       "    'avatar_url_ssl': 'https://avatars.stocktwits.com/production/1246819/thumb-1511564141.png',\n",
       "    'join_date': '2017-10-30',\n",
       "    'official': False,\n",
       "    'identity': 'User',\n",
       "    'classification': [],\n",
       "    'followers': 1903,\n",
       "    'following': 61,\n",
       "    'ideas': 139336,\n",
       "    'watchlist_stocks_count': 0,\n",
       "    'like_count': 3,\n",
       "    'plus_tier': '',\n",
       "    'premium_room': ''},\n",
       "   'source': {'id': 3702,\n",
       "    'title': 'shortvolumes',\n",
       "    'url': 'http://shortvolumes.com'},\n",
       "   'symbols': [{'id': 7944,\n",
       "     'symbol': 'SGOL',\n",
       "     'title': 'ETFS Gold Trust',\n",
       "     'aliases': [],\n",
       "     'is_following': False,\n",
       "     'watchlist_count': 322}],\n",
       "   'links': [{'title': 'Daily short sale volume percent for stock ticker SGOL is 95% on Oct 03, 2019',\n",
       "     'url': 'http://shortvolumes.com/?t=SGOL',\n",
       "     'shortened_url': 'http://shortvolumes.com/?t=SGOL',\n",
       "     'shortened_expanded_url': 'shortvolumes.com/?t=SGOL',\n",
       "     'description': 'Daily short sale volume for stock ticker SGOL is 95% on Oct 03, 2019. The short sale volume percent is up 21% compare to Oct 02, 2019.',\n",
       "     'image': None,\n",
       "     'created_at': '2019-10-04T17:31:37Z',\n",
       "     'video_url': None,\n",
       "     'source': {'name': 'Shortvolumes',\n",
       "      'website': 'http://shortvolumes.com'}}],\n",
       "   'mentioned_users': ['@shortvolumes'],\n",
       "   'entities': {'sentiment': None},\n",
       "   'filters': {'day_counts': 240, 'official_api': False}},\n",
       "  {'id': 179400337,\n",
       "   'body': '$SGOL - http://www.trade-ideas.com/ticky/ticky.html?symbol=SGOL - There it is, the pullback...time to get set - Running down: -0.35 in 89 seconds',\n",
       "   'created_at': '2019-10-03T14:09:32Z',\n",
       "   'user': {'id': 116462,\n",
       "    'username': 'TradeIdeasQuant',\n",
       "    'name': 'Trade-Ideas Quant',\n",
       "    'avatar_url': 'https://avatars.stocktwits.com/production/116462/thumb-1458241309.png',\n",
       "    'avatar_url_ssl': 'https://avatars.stocktwits.com/production/116462/thumb-1458241309.png',\n",
       "    'join_date': '2011-11-07',\n",
       "    'official': True,\n",
       "    'identity': 'Official',\n",
       "    'classification': ['official'],\n",
       "    'followers': 41355,\n",
       "    'following': 5,\n",
       "    'ideas': 213285,\n",
       "    'watchlist_stocks_count': 0,\n",
       "    'like_count': 0,\n",
       "    'plus_tier': '',\n",
       "    'premium_room': ''},\n",
       "   'source': {'id': 1008,\n",
       "    'title': 'TI Pro Collaboration',\n",
       "    'url': 'http://trade-ideas.com'},\n",
       "   'symbols': [{'id': 7944,\n",
       "     'symbol': 'SGOL',\n",
       "     'title': 'ETFS Gold Trust',\n",
       "     'aliases': [],\n",
       "     'is_following': False,\n",
       "     'watchlist_count': 320}],\n",
       "   'links': [{'title': 'TI Ticky - Find out what the market really thinks! p',\n",
       "     'url': 'http://www.trade-ideas.com/ticky/ticky.html?symbol=SGOL',\n",
       "     'shortened_url': 'http://www.trade-ideas.com/ticky/ticky.html?symbol=SGOL',\n",
       "     'shortened_expanded_url': 'trade-ideas.com/ticky/ticky...',\n",
       "     'description': \"Trade Ideas Finds Your Next Trade in Aberdeen Standard Physical Swiss Gold Shares ETF THURSDAY 09:48:52am Aberdeen Standard Physical Swiss Gold Shares ETF SCoRE: 66 Learn about the SCoRE EXCHANGE ARCA Sector Finance and Insurance Sub Sector Funds, Trusts, and Other Financial Vehicles Industry Group Other Investment Pools and Funds Industry Other Financial Vehicles LAST PRICE - 09:48am SGOL is trading UP +$0.16 or +0.1% from yesterday's close of $144.40.\",\n",
       "     'image': None,\n",
       "     'created_at': '2019-10-03T14:09:35Z',\n",
       "     'video_url': None,\n",
       "     'source': {'name': 'Trade-ideas',\n",
       "      'website': 'https://www.trade-ideas.com'}}],\n",
       "   'mentioned_users': [],\n",
       "   'entities': {'sentiment': None},\n",
       "   'filters': {'day_counts': 100, 'official_api': False}},\n",
       "  {'id': 179154177,\n",
       "   'body': '$GLDM $GLD $SGOL $BAR In 2019, no one should need any convincing that advisors and investors love cheap exchange traded funds. Usually, it&#39;s a case of “the cheaper, the better.” What Happened For the uninitiated, the latest example of cheap works is .. https://newsfilter.io/articles/a-cheap-gold-etf-joins-the-1b-club-c3af4d25ded7458a813795e4afd1a037',\n",
       "   'created_at': '2019-10-01T15:58:31Z',\n",
       "   'user': {'id': 2762379,\n",
       "    'username': 'newsfilter',\n",
       "    'name': '@newsfilterio',\n",
       "    'avatar_url': 'https://avatars.stocktwits.com/production/2762379/thumb-1570180226.png',\n",
       "    'avatar_url_ssl': 'https://avatars.stocktwits.com/production/2762379/thumb-1570180226.png',\n",
       "    'join_date': '2019-09-01',\n",
       "    'official': False,\n",
       "    'identity': 'User',\n",
       "    'classification': [],\n",
       "    'followers': 552,\n",
       "    'following': 0,\n",
       "    'ideas': 62637,\n",
       "    'watchlist_stocks_count': 1,\n",
       "    'like_count': 55,\n",
       "    'plus_tier': 'month',\n",
       "    'premium_room': ''},\n",
       "   'source': {'id': 4948,\n",
       "    'title': 'Newsfilter.io',\n",
       "    'url': 'https://newsfilter.io'},\n",
       "   'symbols': [{'id': 5539,\n",
       "     'symbol': 'GLD',\n",
       "     'title': 'SPDR Gold Shares',\n",
       "     'aliases': [],\n",
       "     'is_following': False,\n",
       "     'watchlist_count': 40278},\n",
       "    {'id': 7944,\n",
       "     'symbol': 'SGOL',\n",
       "     'title': 'ETFS Gold Trust',\n",
       "     'aliases': [],\n",
       "     'is_following': False,\n",
       "     'watchlist_count': 321},\n",
       "    {'id': 11918,\n",
       "     'symbol': 'BAR',\n",
       "     'title': 'GraniteShares Gold Trust',\n",
       "     'aliases': [],\n",
       "     'is_following': False,\n",
       "     'watchlist_count': 55}],\n",
       "   'links': [{'title': 'A Cheap Gold ETF Joins The $1B Club',\n",
       "     'url': 'https://newsfilter.io/articles/a-cheap-gold-etf-joins-the-1b-club-c3af4d25ded7458a813795e4afd1a037',\n",
       "     'shortened_url': 'https://newsfilter.io/articles/a-cheap-gold-etf-joins-the-1b-club-c3af4d25ded7458a813795e4afd1a037',\n",
       "     'shortened_expanded_url': 'newsfilter.io/articles/a-ch...',\n",
       "     'description': 'GLDM $GLD $SGOL $BAR In 2019, no one should need any convincing that advisors and investors love cheap exchange traded funds. Usually, it\\'s a case of \"the cheaper, the better.\" What Happened For the uninitiated, the latest example of cheap works is ..',\n",
       "     'image': 'https://pbs.twimg.com/profile_images/292857657/GreenGrowth_normal.jpg',\n",
       "     'created_at': '2019-10-01T15:58:34Z',\n",
       "     'video_url': None,\n",
       "     'source': {'name': 'Newsfilter', 'website': 'https://newsfilter.io'}}],\n",
       "   'mentioned_users': [],\n",
       "   'entities': {'sentiment': None},\n",
       "   'filters': {'day_counts': 1817, 'official_api': False}},\n",
       "  {'id': 178393233,\n",
       "   'body': '$SGOL $SPY  \\n \\nGold support around 1500. Barely back in channel.',\n",
       "   'created_at': '2019-09-23T23:38:02Z',\n",
       "   'user': {'id': 1227808,\n",
       "    'username': 'gotachance',\n",
       "    'name': 'gotachance',\n",
       "    'avatar_url': 'https://avatars.stocktwits.com/production/1227808/thumb-1515271481.png',\n",
       "    'avatar_url_ssl': 'https://avatars.stocktwits.com/production/1227808/thumb-1515271481.png',\n",
       "    'join_date': '2017-10-15',\n",
       "    'official': False,\n",
       "    'identity': 'User',\n",
       "    'classification': [],\n",
       "    'followers': 68,\n",
       "    'following': 31,\n",
       "    'ideas': 5968,\n",
       "    'watchlist_stocks_count': 45,\n",
       "    'like_count': 3979,\n",
       "    'plus_tier': '',\n",
       "    'premium_room': ''},\n",
       "   'source': {'id': 2269,\n",
       "    'title': 'StockTwits Web',\n",
       "    'url': 'https://stocktwits.com'},\n",
       "   'symbols': [{'id': 7271,\n",
       "     'symbol': 'SPY',\n",
       "     'title': 'SPDR S&P 500',\n",
       "     'aliases': [],\n",
       "     'is_following': False,\n",
       "     'watchlist_count': 145676},\n",
       "    {'id': 7944,\n",
       "     'symbol': 'SGOL',\n",
       "     'title': 'ETFS Gold Trust',\n",
       "     'aliases': [],\n",
       "     'is_following': False,\n",
       "     'watchlist_count': 322}],\n",
       "   'mentioned_users': [],\n",
       "   'entities': {'chart': {'thumb': 'https://charts.stocktwits.com/production/small_178393233.png',\n",
       "     'large': 'https://charts.stocktwits.com/production/large_178393233.png',\n",
       "     'original': 'https://charts.stocktwits.com/production/original_178393233.png',\n",
       "     'url': 'https://charts.stocktwits.com/production/original_178393233.png'},\n",
       "    'sentiment': None},\n",
       "   'filters': {'day_counts': 8, 'official_api': True}},\n",
       "  {'id': 178302741,\n",
       "   'body': '$SGOL Back in 6 month channel. Unlike December, precious metals poised to spike on market dip.',\n",
       "   'created_at': '2019-09-23T09:31:41Z',\n",
       "   'user': {'id': 1227808,\n",
       "    'username': 'gotachance',\n",
       "    'name': 'gotachance',\n",
       "    'avatar_url': 'https://avatars.stocktwits.com/production/1227808/thumb-1515271481.png',\n",
       "    'avatar_url_ssl': 'https://avatars.stocktwits.com/production/1227808/thumb-1515271481.png',\n",
       "    'join_date': '2017-10-15',\n",
       "    'official': False,\n",
       "    'identity': 'User',\n",
       "    'classification': [],\n",
       "    'followers': 68,\n",
       "    'following': 31,\n",
       "    'ideas': 5968,\n",
       "    'watchlist_stocks_count': 45,\n",
       "    'like_count': 3979,\n",
       "    'plus_tier': '',\n",
       "    'premium_room': ''},\n",
       "   'source': {'id': 2269,\n",
       "    'title': 'StockTwits Web',\n",
       "    'url': 'https://stocktwits.com'},\n",
       "   'symbols': [{'id': 7944,\n",
       "     'symbol': 'SGOL',\n",
       "     'title': 'ETFS Gold Trust',\n",
       "     'aliases': [],\n",
       "     'is_following': False,\n",
       "     'watchlist_count': 322}],\n",
       "   'mentioned_users': [],\n",
       "   'entities': {'chart': {'thumb': 'https://charts.stocktwits.com/production/small_178302741.png',\n",
       "     'large': 'https://charts.stocktwits.com/production/large_178302741.png',\n",
       "     'original': 'https://charts.stocktwits.com/production/original_178302741.png',\n",
       "     'url': 'https://charts.stocktwits.com/production/original_178302741.png'},\n",
       "    'sentiment': None},\n",
       "   'filters': {'day_counts': 2, 'official_api': True}},\n",
       "  {'id': 178272605,\n",
       "   'body': '$SGOL has an excellent technical rating and also presents a decent setup pattern. https://www.chartmill.com/stock/analyzer/stock/SGOL?key=e1c929bf-ffb1-4954-a5e5-bdeb416773cc&amp;utm_source=stocktwits&amp;utm_medium=TA&amp;utm_content=SETUP&amp;utm_campaign=social_tracking',\n",
       "   'created_at': '2019-09-22T16:00:19Z',\n",
       "   'user': {'id': 47688,\n",
       "    'username': 'ChartMill',\n",
       "    'name': 'ChartMill',\n",
       "    'avatar_url': 'https://avatars.stocktwits.com/production/47688/thumb-1363343728.png',\n",
       "    'avatar_url_ssl': 'https://avatars.stocktwits.com/production/47688/thumb-1363343728.png',\n",
       "    'join_date': '2011-01-26',\n",
       "    'official': False,\n",
       "    'identity': 'User',\n",
       "    'classification': [],\n",
       "    'followers': 12490,\n",
       "    'following': 900,\n",
       "    'ideas': 693912,\n",
       "    'watchlist_stocks_count': 20,\n",
       "    'like_count': 32,\n",
       "    'plus_tier': '',\n",
       "    'premium_room': ''},\n",
       "   'source': {'id': 1135,\n",
       "    'title': 'ChartMill',\n",
       "    'url': 'http://www.chartmill.com'},\n",
       "   'symbols': [{'id': 7944,\n",
       "     'symbol': 'SGOL',\n",
       "     'title': 'ETFS Gold Trust',\n",
       "     'aliases': [],\n",
       "     'is_following': False,\n",
       "     'watchlist_count': 322}],\n",
       "   'links': [{'title': None,\n",
       "     'url': 'https://www.chartmill.com/stock/analyzer/stock/SGOL?key=e1c929bf-ffb1-4954-a5e5-bdeb416773cc&utm_source=stocktwits&utm_medium=TA&utm_content=SETUP&utm_campaign=social_tracking',\n",
       "     'shortened_url': 'https://www.chartmill.com/stock/analyzer/stock/SGOL?key=e1c929bf-ffb1-4954-a5e5-bdeb416773cc&utm_source=stocktwits&utm_medium=TA&utm_content=SETUP&utm_campaign=social_tracking',\n",
       "     'shortened_expanded_url': 'chartmill.com/stock/analyze...',\n",
       "     'description': None,\n",
       "     'image': None,\n",
       "     'created_at': '2019-09-22T16:00:23Z',\n",
       "     'video_url': None,\n",
       "     'source': {'name': 'Chartmill', 'website': 'https://www.chartmill.com'}}],\n",
       "   'mentioned_users': [],\n",
       "   'entities': {'sentiment': None},\n",
       "   'filters': {'day_counts': 849, 'official_api': False}},\n",
       "  {'id': 178111193,\n",
       "   'body': '$SGOL - Aberdeen Standard vs Invesco FTSE ($PRF) http://dlvr.it/RDTtrK #portfolio_prospective #better_portfolio #diversify',\n",
       "   'created_at': '2019-09-20T04:48:04Z',\n",
       "   'user': {'id': 56948,\n",
       "    'username': 'macroaxis',\n",
       "    'name': 'Macroaxis',\n",
       "    'avatar_url': 'https://avatars.stocktwits.com/production/56948/thumb-1361399398.png',\n",
       "    'avatar_url_ssl': 'https://avatars.stocktwits.com/production/56948/thumb-1361399398.png',\n",
       "    'join_date': '2011-03-04',\n",
       "    'official': False,\n",
       "    'identity': 'User',\n",
       "    'classification': [],\n",
       "    'followers': 966,\n",
       "    'following': 3,\n",
       "    'ideas': 123557,\n",
       "    'watchlist_stocks_count': 14,\n",
       "    'like_count': 27,\n",
       "    'plus_tier': '',\n",
       "    'premium_room': ''},\n",
       "   'source': {'id': 1351, 'title': 'dlvr.it', 'url': 'https://dlvrit.com/'},\n",
       "   'symbols': [{'id': 6871,\n",
       "     'symbol': 'PRF',\n",
       "     'title': 'PowerShares FTSE RAFI US 1000',\n",
       "     'aliases': [],\n",
       "     'is_following': False,\n",
       "     'watchlist_count': 38},\n",
       "    {'id': 7944,\n",
       "     'symbol': 'SGOL',\n",
       "     'title': 'ETFS Gold Trust',\n",
       "     'aliases': [],\n",
       "     'is_following': False,\n",
       "     'watchlist_count': 322}],\n",
       "   'links': [{'title': 'Compare Aberdeen Standard with Invesco FTSE RAFI - Macroaxis',\n",
       "     'url': 'http://dlvr.it/RDTtrK',\n",
       "     'shortened_url': 'http://dlvr.it/RDTtrK',\n",
       "     'shortened_expanded_url': 'macroaxis.com/invest/compar...',\n",
       "     'description': 'You can use this module to analyze advantages of your traded assets technical and fundamental indicators over its peers. Please use the box above to enter up to 4 concurrent symbols you would like to analyze. Use comma (,) to separate each symbol.',\n",
       "     'image': 'https://www.macroaxis.com/images/aboutMacroaxisGuy.png',\n",
       "     'created_at': '2019-09-20T04:48:07Z',\n",
       "     'video_url': None,\n",
       "     'source': {'name': 'Macroaxis', 'website': 'https://www.macroaxis.com'}}],\n",
       "   'mentioned_users': [],\n",
       "   'entities': {'sentiment': None},\n",
       "   'filters': {'day_counts': 608, 'official_api': False}},\n",
       "  {'id': 177634770,\n",
       "   'body': '$SPY $SGOL $SIVR Gold and Silver after drone attack',\n",
       "   'created_at': '2019-09-15T23:24:42Z',\n",
       "   'user': {'id': 1227808,\n",
       "    'username': 'gotachance',\n",
       "    'name': 'gotachance',\n",
       "    'avatar_url': 'https://avatars.stocktwits.com/production/1227808/thumb-1515271481.png',\n",
       "    'avatar_url_ssl': 'https://avatars.stocktwits.com/production/1227808/thumb-1515271481.png',\n",
       "    'join_date': '2017-10-15',\n",
       "    'official': False,\n",
       "    'identity': 'User',\n",
       "    'classification': [],\n",
       "    'followers': 69,\n",
       "    'following': 31,\n",
       "    'ideas': 5977,\n",
       "    'watchlist_stocks_count': 45,\n",
       "    'like_count': 3981,\n",
       "    'plus_tier': '',\n",
       "    'premium_room': ''},\n",
       "   'source': {'id': 2269,\n",
       "    'title': 'StockTwits Web',\n",
       "    'url': 'https://stocktwits.com'},\n",
       "   'symbols': [{'id': 7271,\n",
       "     'symbol': 'SPY',\n",
       "     'title': 'SPDR S&P 500',\n",
       "     'aliases': [],\n",
       "     'is_following': False,\n",
       "     'watchlist_count': 145704},\n",
       "    {'id': 7944,\n",
       "     'symbol': 'SGOL',\n",
       "     'title': 'ETFS Gold Trust',\n",
       "     'aliases': [],\n",
       "     'is_following': False,\n",
       "     'watchlist_count': 322},\n",
       "    {'id': 8223,\n",
       "     'symbol': 'SIVR',\n",
       "     'title': 'ETFS Physical Silver Shares',\n",
       "     'aliases': [],\n",
       "     'is_following': False,\n",
       "     'watchlist_count': 378}],\n",
       "   'mentioned_users': [],\n",
       "   'entities': {'chart': {'thumb': 'https://charts.stocktwits.com/production/small_177634770.png',\n",
       "     'large': 'https://charts.stocktwits.com/production/large_177634770.png',\n",
       "     'original': 'https://charts.stocktwits.com/production/original_177634770.png',\n",
       "     'url': 'https://charts.stocktwits.com/production/original_177634770.png'},\n",
       "    'sentiment': None},\n",
       "   'filters': {'day_counts': 5, 'official_api': True}},\n",
       "  {'id': 176835815,\n",
       "   'body': '$SGOL $SIVR Trying to turn around',\n",
       "   'created_at': '2019-09-11T09:27:08Z',\n",
       "   'user': {'id': 1227808,\n",
       "    'username': 'gotachance',\n",
       "    'name': 'gotachance',\n",
       "    'avatar_url': 'https://avatars.stocktwits.com/production/1227808/thumb-1515271481.png',\n",
       "    'avatar_url_ssl': 'https://avatars.stocktwits.com/production/1227808/thumb-1515271481.png',\n",
       "    'join_date': '2017-10-15',\n",
       "    'official': False,\n",
       "    'identity': 'User',\n",
       "    'classification': [],\n",
       "    'followers': 68,\n",
       "    'following': 31,\n",
       "    'ideas': 5966,\n",
       "    'watchlist_stocks_count': 45,\n",
       "    'like_count': 3977,\n",
       "    'plus_tier': '',\n",
       "    'premium_room': ''},\n",
       "   'source': {'id': 2269,\n",
       "    'title': 'StockTwits Web',\n",
       "    'url': 'https://stocktwits.com'},\n",
       "   'symbols': [{'id': 7944,\n",
       "     'symbol': 'SGOL',\n",
       "     'title': 'ETFS Gold Trust',\n",
       "     'aliases': [],\n",
       "     'is_following': False,\n",
       "     'watchlist_count': 320},\n",
       "    {'id': 8223,\n",
       "     'symbol': 'SIVR',\n",
       "     'title': 'ETFS Physical Silver Shares',\n",
       "     'aliases': [],\n",
       "     'is_following': False,\n",
       "     'watchlist_count': 378}],\n",
       "   'mentioned_users': [],\n",
       "   'entities': {'chart': {'thumb': 'https://charts.stocktwits.com/production/small_176835815.png',\n",
       "     'large': 'https://charts.stocktwits.com/production/large_176835815.png',\n",
       "     'original': 'https://charts.stocktwits.com/production/original_176835815.png',\n",
       "     'url': 'https://charts.stocktwits.com/production/original_176835815.png'},\n",
       "    'sentiment': None},\n",
       "   'filters': {'day_counts': 19, 'official_api': True}},\n",
       "  {'id': 176819944,\n",
       "   'body': '$GLD $IAU $SGOL $BAR $DGL Technical Analysis recap of Gold https://www.shortmetina.com/technical-analysis.html',\n",
       "   'created_at': '2019-09-11T00:56:31Z',\n",
       "   'user': {'id': 640084,\n",
       "    'username': 'shortmetina',\n",
       "    'name': 'Tina',\n",
       "    'avatar_url': 'https://avatars.stocktwits.com/production/640084/thumb-1453413492.png',\n",
       "    'avatar_url_ssl': 'https://avatars.stocktwits.com/production/640084/thumb-1453413492.png',\n",
       "    'join_date': '2015-11-25',\n",
       "    'official': False,\n",
       "    'identity': 'User',\n",
       "    'classification': [],\n",
       "    'followers': 1257,\n",
       "    'following': 127,\n",
       "    'ideas': 13256,\n",
       "    'watchlist_stocks_count': 38,\n",
       "    'like_count': 3703,\n",
       "    'plus_tier': '',\n",
       "    'premium_room': ''},\n",
       "   'source': {'id': 2269,\n",
       "    'title': 'StockTwits Web',\n",
       "    'url': 'https://stocktwits.com'},\n",
       "   'symbols': [{'id': 4964,\n",
       "     'symbol': 'DGL',\n",
       "     'title': 'PowerShares DB Gold',\n",
       "     'aliases': [],\n",
       "     'is_following': False,\n",
       "     'watchlist_count': 62},\n",
       "    {'id': 5539,\n",
       "     'symbol': 'GLD',\n",
       "     'title': 'SPDR Gold Shares',\n",
       "     'aliases': [],\n",
       "     'is_following': False,\n",
       "     'watchlist_count': 40282},\n",
       "    {'id': 5783,\n",
       "     'symbol': 'IAU',\n",
       "     'title': 'iShares Gold Trust',\n",
       "     'aliases': [],\n",
       "     'is_following': False,\n",
       "     'watchlist_count': 2341},\n",
       "    {'id': 7944,\n",
       "     'symbol': 'SGOL',\n",
       "     'title': 'ETFS Gold Trust',\n",
       "     'aliases': [],\n",
       "     'is_following': False,\n",
       "     'watchlist_count': 322},\n",
       "    {'id': 11918,\n",
       "     'symbol': 'BAR',\n",
       "     'title': 'GraniteShares Gold Trust',\n",
       "     'aliases': [],\n",
       "     'is_following': False,\n",
       "     'watchlist_count': 55}],\n",
       "   'links': [{'title': 'Technical Analysis Videos',\n",
       "     'url': 'https://www.shortmetina.com/technical-analysis.html',\n",
       "     'shortened_url': 'https://www.shortmetina.com/technical-analysis.html',\n",
       "     'shortened_expanded_url': 'shortmetina.com/technical-a...',\n",
       "     'description': 'Technical Analysis: Learn how to read stock charts from one of the best? Monday thru Friday we analyze stocks that are moving in the market or has the potential to move',\n",
       "     'image': None,\n",
       "     'created_at': '2019-09-11T00:56:32Z',\n",
       "     'video_url': None,\n",
       "     'source': {'name': 'ShortMeTina- Stock Trading Website for Swing Traders and Day Traders',\n",
       "      'website': 'https://www.shortmetina.com'}}],\n",
       "   'mentioned_users': [],\n",
       "   'entities': {'sentiment': None},\n",
       "   'filters': {'day_counts': 5, 'official_api': True}},\n",
       "  {'id': 176772600,\n",
       "   'body': '$SGOL Overdue for a bounce',\n",
       "   'created_at': '2019-09-10T18:37:51Z',\n",
       "   'user': {'id': 1227808,\n",
       "    'username': 'gotachance',\n",
       "    'name': 'gotachance',\n",
       "    'avatar_url': 'https://avatars.stocktwits.com/production/1227808/thumb-1515271481.png',\n",
       "    'avatar_url_ssl': 'https://avatars.stocktwits.com/production/1227808/thumb-1515271481.png',\n",
       "    'join_date': '2017-10-15',\n",
       "    'official': False,\n",
       "    'identity': 'User',\n",
       "    'classification': [],\n",
       "    'followers': 69,\n",
       "    'following': 31,\n",
       "    'ideas': 5977,\n",
       "    'watchlist_stocks_count': 45,\n",
       "    'like_count': 3981,\n",
       "    'plus_tier': '',\n",
       "    'premium_room': ''},\n",
       "   'source': {'id': 2269,\n",
       "    'title': 'StockTwits Web',\n",
       "    'url': 'https://stocktwits.com'},\n",
       "   'symbols': [{'id': 7944,\n",
       "     'symbol': 'SGOL',\n",
       "     'title': 'ETFS Gold Trust',\n",
       "     'aliases': [],\n",
       "     'is_following': False,\n",
       "     'watchlist_count': 322}],\n",
       "   'mentioned_users': [],\n",
       "   'entities': {'chart': {'thumb': 'https://charts.stocktwits.com/production/small_176772600.png',\n",
       "     'large': 'https://charts.stocktwits.com/production/large_176772600.png',\n",
       "     'original': 'https://charts.stocktwits.com/production/original_176772600.png',\n",
       "     'url': 'https://charts.stocktwits.com/production/original_176772600.png'},\n",
       "    'sentiment': None},\n",
       "   'filters': {'day_counts': 24, 'official_api': True}},\n",
       "  {'id': 176525669,\n",
       "   'body': '$GLD $IAU $SGOL $BAR $DGL Technical Analysis recap of Gold https://www.shortmetina.com/technical-analysis.html',\n",
       "   'created_at': '2019-09-07T00:41:44Z',\n",
       "   'user': {'id': 640084,\n",
       "    'username': 'shortmetina',\n",
       "    'name': 'Tina',\n",
       "    'avatar_url': 'https://avatars.stocktwits.com/production/640084/thumb-1453413492.png',\n",
       "    'avatar_url_ssl': 'https://avatars.stocktwits.com/production/640084/thumb-1453413492.png',\n",
       "    'join_date': '2015-11-25',\n",
       "    'official': False,\n",
       "    'identity': 'User',\n",
       "    'classification': [],\n",
       "    'followers': 1257,\n",
       "    'following': 127,\n",
       "    'ideas': 13256,\n",
       "    'watchlist_stocks_count': 38,\n",
       "    'like_count': 3703,\n",
       "    'plus_tier': '',\n",
       "    'premium_room': ''},\n",
       "   'source': {'id': 2269,\n",
       "    'title': 'StockTwits Web',\n",
       "    'url': 'https://stocktwits.com'},\n",
       "   'symbols': [{'id': 4964,\n",
       "     'symbol': 'DGL',\n",
       "     'title': 'PowerShares DB Gold',\n",
       "     'aliases': [],\n",
       "     'is_following': False,\n",
       "     'watchlist_count': 62},\n",
       "    {'id': 5539,\n",
       "     'symbol': 'GLD',\n",
       "     'title': 'SPDR Gold Shares',\n",
       "     'aliases': [],\n",
       "     'is_following': False,\n",
       "     'watchlist_count': 40282},\n",
       "    {'id': 5783,\n",
       "     'symbol': 'IAU',\n",
       "     'title': 'iShares Gold Trust',\n",
       "     'aliases': [],\n",
       "     'is_following': False,\n",
       "     'watchlist_count': 2341},\n",
       "    {'id': 7944,\n",
       "     'symbol': 'SGOL',\n",
       "     'title': 'ETFS Gold Trust',\n",
       "     'aliases': [],\n",
       "     'is_following': False,\n",
       "     'watchlist_count': 322},\n",
       "    {'id': 11918,\n",
       "     'symbol': 'BAR',\n",
       "     'title': 'GraniteShares Gold Trust',\n",
       "     'aliases': [],\n",
       "     'is_following': False,\n",
       "     'watchlist_count': 55}],\n",
       "   'links': [{'title': 'Technical Analysis Videos',\n",
       "     'url': 'https://www.shortmetina.com/technical-analysis.html',\n",
       "     'shortened_url': 'https://www.shortmetina.com/technical-analysis.html',\n",
       "     'shortened_expanded_url': 'shortmetina.com/technical-a...',\n",
       "     'description': 'Technical Analysis: Learn how to read stock charts from one of the best? Monday thru Friday we analyze stocks that are moving in the market or has the potential to move',\n",
       "     'image': None,\n",
       "     'created_at': '2019-09-07T00:41:44Z',\n",
       "     'video_url': None,\n",
       "     'source': {'name': 'ShortMeTina- Stock Trading Website for Swing Traders and Day Traders',\n",
       "      'website': 'https://www.shortmetina.com'}}],\n",
       "   'likes': {'total': 1, 'user_ids': [1245043]},\n",
       "   'mentioned_users': [],\n",
       "   'entities': {'sentiment': None},\n",
       "   'filters': {'day_counts': 13, 'official_api': True}},\n",
       "  {'id': 176435267,\n",
       "   'body': '$SGOL Holding for now',\n",
       "   'created_at': '2019-09-06T11:41:33Z',\n",
       "   'user': {'id': 1227808,\n",
       "    'username': 'gotachance',\n",
       "    'name': 'gotachance',\n",
       "    'avatar_url': 'https://avatars.stocktwits.com/production/1227808/thumb-1515271481.png',\n",
       "    'avatar_url_ssl': 'https://avatars.stocktwits.com/production/1227808/thumb-1515271481.png',\n",
       "    'join_date': '2017-10-15',\n",
       "    'official': False,\n",
       "    'identity': 'User',\n",
       "    'classification': [],\n",
       "    'followers': 69,\n",
       "    'following': 31,\n",
       "    'ideas': 5977,\n",
       "    'watchlist_stocks_count': 45,\n",
       "    'like_count': 3981,\n",
       "    'plus_tier': '',\n",
       "    'premium_room': ''},\n",
       "   'source': {'id': 2269,\n",
       "    'title': 'StockTwits Web',\n",
       "    'url': 'https://stocktwits.com'},\n",
       "   'symbols': [{'id': 7944,\n",
       "     'symbol': 'SGOL',\n",
       "     'title': 'ETFS Gold Trust',\n",
       "     'aliases': [],\n",
       "     'is_following': False,\n",
       "     'watchlist_count': 322}],\n",
       "   'mentioned_users': [],\n",
       "   'entities': {'chart': {'thumb': 'https://charts.stocktwits.com/production/small_176435267.png',\n",
       "     'large': 'https://charts.stocktwits.com/production/large_176435267.png',\n",
       "     'original': 'https://charts.stocktwits.com/production/original_176435267.png',\n",
       "     'url': 'https://charts.stocktwits.com/production/original_176435267.png'},\n",
       "    'sentiment': None},\n",
       "   'filters': {'day_counts': 19, 'official_api': True}},\n",
       "  {'id': 176414894,\n",
       "   'body': '$GLD $IAU $SGOL $BAR $DGL Technical Analysis recap of Gold https://www.shortmetina.com/technical-analysis.html',\n",
       "   'created_at': '2019-09-06T00:48:32Z',\n",
       "   'user': {'id': 640084,\n",
       "    'username': 'shortmetina',\n",
       "    'name': 'Tina',\n",
       "    'avatar_url': 'https://avatars.stocktwits.com/production/640084/thumb-1453413492.png',\n",
       "    'avatar_url_ssl': 'https://avatars.stocktwits.com/production/640084/thumb-1453413492.png',\n",
       "    'join_date': '2015-11-25',\n",
       "    'official': False,\n",
       "    'identity': 'User',\n",
       "    'classification': [],\n",
       "    'followers': 1256,\n",
       "    'following': 127,\n",
       "    'ideas': 13254,\n",
       "    'watchlist_stocks_count': 38,\n",
       "    'like_count': 3702,\n",
       "    'plus_tier': '',\n",
       "    'premium_room': ''},\n",
       "   'source': {'id': 2269,\n",
       "    'title': 'StockTwits Web',\n",
       "    'url': 'https://stocktwits.com'},\n",
       "   'symbols': [{'id': 4964,\n",
       "     'symbol': 'DGL',\n",
       "     'title': 'PowerShares DB Gold',\n",
       "     'aliases': [],\n",
       "     'is_following': False,\n",
       "     'watchlist_count': 62},\n",
       "    {'id': 5539,\n",
       "     'symbol': 'GLD',\n",
       "     'title': 'SPDR Gold Shares',\n",
       "     'aliases': [],\n",
       "     'is_following': False,\n",
       "     'watchlist_count': 40277},\n",
       "    {'id': 5783,\n",
       "     'symbol': 'IAU',\n",
       "     'title': 'iShares Gold Trust',\n",
       "     'aliases': [],\n",
       "     'is_following': False,\n",
       "     'watchlist_count': 2341},\n",
       "    {'id': 7944,\n",
       "     'symbol': 'SGOL',\n",
       "     'title': 'ETFS Gold Trust',\n",
       "     'aliases': [],\n",
       "     'is_following': False,\n",
       "     'watchlist_count': 320},\n",
       "    {'id': 11918,\n",
       "     'symbol': 'BAR',\n",
       "     'title': 'GraniteShares Gold Trust',\n",
       "     'aliases': [],\n",
       "     'is_following': False,\n",
       "     'watchlist_count': 55}],\n",
       "   'links': [{'title': 'Technical Analysis Videos',\n",
       "     'url': 'https://www.shortmetina.com/technical-analysis.html',\n",
       "     'shortened_url': 'https://www.shortmetina.com/technical-analysis.html',\n",
       "     'shortened_expanded_url': 'shortmetina.com/technical-a...',\n",
       "     'description': 'Technical Analysis: Learn how to read stock charts from one of the best? Monday thru Friday we analyze stocks that are moving in the market or has the potential to move',\n",
       "     'image': None,\n",
       "     'created_at': '2019-09-06T00:48:35Z',\n",
       "     'video_url': None,\n",
       "     'source': {'name': 'ShortMeTina- Stock Trading Website for Swing Traders and Day Traders',\n",
       "      'website': 'https://www.shortmetina.com'}}],\n",
       "   'mentioned_users': [],\n",
       "   'entities': {'sentiment': None},\n",
       "   'filters': {'day_counts': 3, 'official_api': True}},\n",
       "  {'id': 176338500,\n",
       "   'body': '$SIVR $PPLT $SGOL Healthy dip. May set some stop loss orders.',\n",
       "   'created_at': '2019-09-05T14:48:44Z',\n",
       "   'user': {'id': 1227808,\n",
       "    'username': 'gotachance',\n",
       "    'name': 'gotachance',\n",
       "    'avatar_url': 'https://avatars.stocktwits.com/production/1227808/thumb-1515271481.png',\n",
       "    'avatar_url_ssl': 'https://avatars.stocktwits.com/production/1227808/thumb-1515271481.png',\n",
       "    'join_date': '2017-10-15',\n",
       "    'official': False,\n",
       "    'identity': 'User',\n",
       "    'classification': [],\n",
       "    'followers': 69,\n",
       "    'following': 31,\n",
       "    'ideas': 5977,\n",
       "    'watchlist_stocks_count': 45,\n",
       "    'like_count': 3981,\n",
       "    'plus_tier': '',\n",
       "    'premium_room': ''},\n",
       "   'source': {'id': 2269,\n",
       "    'title': 'StockTwits Web',\n",
       "    'url': 'https://stocktwits.com'},\n",
       "   'symbols': [{'id': 7944,\n",
       "     'symbol': 'SGOL',\n",
       "     'title': 'ETFS Gold Trust',\n",
       "     'aliases': [],\n",
       "     'is_following': False,\n",
       "     'watchlist_count': 322},\n",
       "    {'id': 8207,\n",
       "     'symbol': 'PPLT',\n",
       "     'title': 'ETFS Physical Platinum Shares',\n",
       "     'aliases': [],\n",
       "     'is_following': False,\n",
       "     'watchlist_count': 694},\n",
       "    {'id': 8223,\n",
       "     'symbol': 'SIVR',\n",
       "     'title': 'ETFS Physical Silver Shares',\n",
       "     'aliases': [],\n",
       "     'is_following': False,\n",
       "     'watchlist_count': 378}],\n",
       "   'likes': {'total': 2, 'user_ids': [182292, 180012]},\n",
       "   'mentioned_users': [],\n",
       "   'entities': {'chart': {'thumb': 'https://charts.stocktwits.com/production/small_176338500.png',\n",
       "     'large': 'https://charts.stocktwits.com/production/large_176338500.png',\n",
       "     'original': 'https://charts.stocktwits.com/production/original_176338500.png',\n",
       "     'url': 'https://charts.stocktwits.com/production/original_176338500.png'},\n",
       "    'sentiment': None},\n",
       "   'filters': {'day_counts': 34, 'official_api': True}},\n",
       "  {'id': 176298870,\n",
       "   'body': '@gold324 $SPY $SGOL  \\n \\nOnly when fear index is pegged.',\n",
       "   'created_at': '2019-09-05T03:50:40Z',\n",
       "   'user': {'id': 1227808,\n",
       "    'username': 'gotachance',\n",
       "    'name': 'gotachance',\n",
       "    'avatar_url': 'https://avatars.stocktwits.com/production/1227808/thumb-1515271481.png',\n",
       "    'avatar_url_ssl': 'https://avatars.stocktwits.com/production/1227808/thumb-1515271481.png',\n",
       "    'join_date': '2017-10-15',\n",
       "    'official': False,\n",
       "    'identity': 'User',\n",
       "    'classification': [],\n",
       "    'followers': 68,\n",
       "    'following': 31,\n",
       "    'ideas': 5966,\n",
       "    'watchlist_stocks_count': 45,\n",
       "    'like_count': 3977,\n",
       "    'plus_tier': '',\n",
       "    'premium_room': ''},\n",
       "   'source': {'id': 2269,\n",
       "    'title': 'StockTwits Web',\n",
       "    'url': 'https://stocktwits.com'},\n",
       "   'symbols': [{'id': 7271,\n",
       "     'symbol': 'SPY',\n",
       "     'title': 'SPDR S&P 500',\n",
       "     'aliases': [],\n",
       "     'is_following': False,\n",
       "     'watchlist_count': 145658},\n",
       "    {'id': 7944,\n",
       "     'symbol': 'SGOL',\n",
       "     'title': 'ETFS Gold Trust',\n",
       "     'aliases': [],\n",
       "     'is_following': False,\n",
       "     'watchlist_count': 321}],\n",
       "   'conversation': {'parent_message_id': 176298635,\n",
       "    'in_reply_to_message_id': 176298635,\n",
       "    'parent': False,\n",
       "    'replies': 8},\n",
       "   'likes': {'total': 2, 'user_ids': [421774, 824524]},\n",
       "   'mentioned_users': ['@gold324'],\n",
       "   'entities': {'chart': {'thumb': 'https://charts.stocktwits.com/production/small_176298870.png',\n",
       "     'large': 'https://charts.stocktwits.com/production/large_176298870.png',\n",
       "     'original': 'https://charts.stocktwits.com/production/original_176298870.png',\n",
       "     'url': 'https://charts.stocktwits.com/production/original_176298870.png'},\n",
       "    'sentiment': None},\n",
       "   'filters': {'day_counts': 30, 'official_api': True}},\n",
       "  {'id': 176293496,\n",
       "   'body': '$SPY Futures. Dow. $OILD  $SGOL $UGAZ etc',\n",
       "   'created_at': '2019-09-05T02:24:37Z',\n",
       "   'user': {'id': 1227808,\n",
       "    'username': 'gotachance',\n",
       "    'name': 'gotachance',\n",
       "    'avatar_url': 'https://avatars.stocktwits.com/production/1227808/thumb-1515271481.png',\n",
       "    'avatar_url_ssl': 'https://avatars.stocktwits.com/production/1227808/thumb-1515271481.png',\n",
       "    'join_date': '2017-10-15',\n",
       "    'official': False,\n",
       "    'identity': 'User',\n",
       "    'classification': [],\n",
       "    'followers': 69,\n",
       "    'following': 31,\n",
       "    'ideas': 5977,\n",
       "    'watchlist_stocks_count': 45,\n",
       "    'like_count': 3981,\n",
       "    'plus_tier': '',\n",
       "    'premium_room': ''},\n",
       "   'source': {'id': 2269,\n",
       "    'title': 'StockTwits Web',\n",
       "    'url': 'https://stocktwits.com'},\n",
       "   'symbols': [{'id': 7271,\n",
       "     'symbol': 'SPY',\n",
       "     'title': 'SPDR S&P 500',\n",
       "     'aliases': [],\n",
       "     'is_following': False,\n",
       "     'watchlist_count': 145722},\n",
       "    {'id': 7944,\n",
       "     'symbol': 'SGOL',\n",
       "     'title': 'ETFS Gold Trust',\n",
       "     'aliases': [],\n",
       "     'is_following': False,\n",
       "     'watchlist_count': 322},\n",
       "    {'id': 11269,\n",
       "     'symbol': 'UGAZ',\n",
       "     'title': 'VelocityShares 3x Long Natural Gas ETN',\n",
       "     'aliases': [],\n",
       "     'is_following': False,\n",
       "     'watchlist_count': 43448},\n",
       "    {'id': 14169,\n",
       "     'symbol': 'OILD',\n",
       "     'title': 'ProShares UltraPro 3x Short Crude Oil ETF',\n",
       "     'aliases': [],\n",
       "     'is_following': False,\n",
       "     'watchlist_count': 712}],\n",
       "   'likes': {'total': 1, 'user_ids': [1911074]},\n",
       "   'mentioned_users': [],\n",
       "   'entities': {'chart': {'thumb': 'https://charts.stocktwits.com/production/small_176293496.png',\n",
       "     'large': 'https://charts.stocktwits.com/production/large_176293496.png',\n",
       "     'original': 'https://charts.stocktwits.com/production/original_176293496.png',\n",
       "     'url': 'https://charts.stocktwits.com/production/original_176293496.png'},\n",
       "    'sentiment': None},\n",
       "   'filters': {'day_counts': 24, 'official_api': True}}]}"
      ]
     },
     "execution_count": 227,
     "metadata": {},
     "output_type": "execute_result"
    }
   ],
   "source": [
    "results"
   ]
  },
  {
   "cell_type": "code",
   "execution_count": 228,
   "metadata": {
    "pycharm": {
     "name": "#%%\n"
    }
   },
   "outputs": [
    {
     "data": {
      "text/plain": [
       "'$SGOL / ETFS GOLD Trust files form 8-K - Other Events https://fintel.io/s/us/sgol?utm_source=stocktwits.com&amp;utm_medium=Social&amp;utm_campaign=filing\\nOnNovember  http://www.conferencecalltranscripts.org/8/summary2/?id=7001138 $SGOL\\n$SGOL / ETFS GOLD Trust files form 424B3 https://fintel.io/filings/us/sgol?utm_source=stocktwits.com&amp;utm_medium=Social&amp;utm_campaign=filing\\nETFS Gold Trust just filed a prospectus, suggesting it plans to soon issue some securities  http://www.conferencecalltranscripts.org/PROS/summary2/?id=6996237 $SGOL\\nMountain Capital Investment Advisors Inc,has filed Form 13F for Q3 2019.Opened NEW positions in $NKTR $SGOL\\nSimpliFi Inc.,has filed Form 13F for Q3 2019.Opened NEW positions in $SGOL $SUSC\\nFinancial Services Advisory Inc,has filed Form 13F for Q3 2019.Opened NEW positions in $DEF $IAU $SGOL\\n$SGOL / ETFS GOLD Trust files form 8-K - Financial Statements and Exhibits, Other Events https://fintel.io/s/us/sgol?utm_source=stocktwits.com&amp;utm_medium=Social&amp;utm_campaign=filing\\n$SGOL just filed a Financial Exhibit https://last10k.com/sec-filings/sgol/0001387131-19-007574.htm?utm_source=stocktwits&amp;utm_medium=forum&amp;utm_campaign=8K&amp;utm_term=sgol\\nETFS Gold: Aberdeen Standard Gold Etf Trust 8-K Exhibit99.1 PRESS    RELEASE  http://www.conferencecalltranscripts.org/8/summary/?id=6913289 $SGOL\\n$SGOL 6.0m ago: Aberdeen Standard Investments Announces 10 For 1 Forward Share Split Of Gold Exchange Traded Fund (SGOL)[1] https://www.prnewswire.com:443/news-releases/aberdeen-standard-investments-announces-10-for-1-forward-share-split-of-gold-exchange-traded-fund-sgol1-300936946.html\\nWhat is the best Gold ETF?  $GLD $IAU $SGOL  Personally I like $GLDM best.  http://www.dividendincomefreedom.com/2019/10/06/the-best-gold-etf/\\n$SGOL  $SIVR  During the 6 month rally: \\n \\n Silver ran up 30% \\nGold ran up 20% \\nBoth are up 16% now.\\n2019-10-03 Short sale volume (not short interest) for $SGOL is 95%. http://shortvolumes.com/?t=SGOL via @shortvolumes\\n$SGOL - http://www.trade-ideas.com/ticky/ticky.html?symbol=SGOL - There it is, the pullback...time to get set - Running down: -0.35 in 89 seconds\\n$GLDM $GLD $SGOL $BAR In 2019, no one should need any convincing that advisors and investors love cheap exchange traded funds. Usually, it&#39;s a case of “the cheaper, the better.” What Happened For the uninitiated, the latest example of cheap works is .. https://newsfilter.io/articles/a-cheap-gold-etf-joins-the-1b-club-c3af4d25ded7458a813795e4afd1a037\\n$SGOL $SPY  \\n \\nGold support around 1500. Barely back in channel.\\n$SGOL Back in 6 month channel. Unlike December, precious metals poised to spike on market dip.\\n$SGOL has an excellent technical rating and also presents a decent setup pattern. https://www.chartmill.com/stock/analyzer/stock/SGOL?key=e1c929bf-ffb1-4954-a5e5-bdeb416773cc&amp;utm_source=stocktwits&amp;utm_medium=TA&amp;utm_content=SETUP&amp;utm_campaign=social_tracking\\n$SGOL - Aberdeen Standard vs Invesco FTSE ($PRF) http://dlvr.it/RDTtrK #portfolio_prospective #better_portfolio #diversify\\n$SPY $SGOL $SIVR Gold and Silver after drone attack\\n$SGOL $SIVR Trying to turn around\\n$GLD $IAU $SGOL $BAR $DGL Technical Analysis recap of Gold https://www.shortmetina.com/technical-analysis.html\\n$SGOL Overdue for a bounce\\n$GLD $IAU $SGOL $BAR $DGL Technical Analysis recap of Gold https://www.shortmetina.com/technical-analysis.html\\n$SGOL Holding for now\\n$GLD $IAU $SGOL $BAR $DGL Technical Analysis recap of Gold https://www.shortmetina.com/technical-analysis.html\\n$SIVR $PPLT $SGOL Healthy dip. May set some stop loss orders.\\n@gold324 $SPY $SGOL  \\n \\nOnly when fear index is pegged.\\n$SPY Futures. Dow. $OILD  $SGOL $UGAZ etc'"
      ]
     },
     "execution_count": 228,
     "metadata": {},
     "output_type": "execute_result"
    }
   ],
   "source": [
    "bodies = \"\\n\".join([m[\"body\"] for m in results[\"messages\"]])\n",
    "bodies"
   ]
  },
  {
   "cell_type": "code",
   "execution_count": 229,
   "metadata": {
    "pycharm": {
     "name": "#%%\n"
    }
   },
   "outputs": [
    {
     "name": "stdout",
     "output_type": "stream",
     "text": [
      "{'neg': 0.031, 'neu': 0.838, 'pos': 0.13, 'compound': 0.9915}\n"
     ]
    }
   ],
   "source": [
    "sentiment = get_sentiment(bodies)"
   ]
  },
  {
   "cell_type": "code",
   "execution_count": 230,
   "metadata": {
    "pycharm": {
     "name": "#%%\n"
    }
   },
   "outputs": [
    {
     "data": {
      "text/plain": [
       "'positive'"
      ]
     },
     "execution_count": 230,
     "metadata": {},
     "output_type": "execute_result"
    }
   ],
   "source": [
    "sentiment"
   ]
  },
  {
   "cell_type": "code",
   "execution_count": 231,
   "metadata": {},
   "outputs": [],
   "source": [
    "indicators  = Indicators(alpaca_api, assets)"
   ]
  },
  {
   "cell_type": "code",
   "execution_count": 232,
   "metadata": {},
   "outputs": [],
   "source": [
    "ticker_cluster = indicators.cluster_prep(ticker)"
   ]
  },
  {
   "cell_type": "code",
   "execution_count": 233,
   "metadata": {
    "pycharm": {
     "name": "#%%\n"
    }
   },
   "outputs": [
    {
     "data": {
      "text/html": [
       "<div>\n",
       "<style scoped>\n",
       "    .dataframe tbody tr th:only-of-type {\n",
       "        vertical-align: middle;\n",
       "    }\n",
       "\n",
       "    .dataframe tbody tr th {\n",
       "        vertical-align: top;\n",
       "    }\n",
       "\n",
       "    .dataframe thead th {\n",
       "        text-align: right;\n",
       "    }\n",
       "</style>\n",
       "<table border=\"1\" class=\"dataframe\">\n",
       "  <thead>\n",
       "    <tr style=\"text-align: right;\">\n",
       "      <th></th>\n",
       "      <th>time</th>\n",
       "      <th>open</th>\n",
       "      <th>high</th>\n",
       "      <th>low</th>\n",
       "      <th>close</th>\n",
       "      <th>volume</th>\n",
       "      <th>up_move</th>\n",
       "      <th>down_move</th>\n",
       "      <th>DMp</th>\n",
       "      <th>DMm</th>\n",
       "      <th>...</th>\n",
       "      <th>bb_low_ptc</th>\n",
       "      <th>macd_ptc</th>\n",
       "      <th>signal_ptc</th>\n",
       "      <th>vwmacd_ptc</th>\n",
       "      <th>vwsignal_ptc</th>\n",
       "      <th>mfi_ptc</th>\n",
       "      <th>stoch_ptc</th>\n",
       "      <th>vzo_ptc</th>\n",
       "      <th>apz_u_ptc</th>\n",
       "      <th>apz_l_ptc</th>\n",
       "    </tr>\n",
       "  </thead>\n",
       "  <tbody>\n",
       "    <tr>\n",
       "      <td>0</td>\n",
       "      <td>2019-08-06 00:00:00-04:00</td>\n",
       "      <td>141.3600</td>\n",
       "      <td>142.0000</td>\n",
       "      <td>140.9400</td>\n",
       "      <td>141.90</td>\n",
       "      <td>54214</td>\n",
       "      <td>NaN</td>\n",
       "      <td>NaN</td>\n",
       "      <td>0.0000</td>\n",
       "      <td>0.0000</td>\n",
       "      <td>...</td>\n",
       "      <td>NaN</td>\n",
       "      <td>NaN</td>\n",
       "      <td>NaN</td>\n",
       "      <td>NaN</td>\n",
       "      <td>NaN</td>\n",
       "      <td>NaN</td>\n",
       "      <td>NaN</td>\n",
       "      <td>NaN</td>\n",
       "      <td>NaN</td>\n",
       "      <td>NaN</td>\n",
       "    </tr>\n",
       "    <tr>\n",
       "      <td>1</td>\n",
       "      <td>2019-08-07 00:00:00-04:00</td>\n",
       "      <td>144.3700</td>\n",
       "      <td>145.5200</td>\n",
       "      <td>143.0000</td>\n",
       "      <td>144.03</td>\n",
       "      <td>179030</td>\n",
       "      <td>3.5200</td>\n",
       "      <td>-2.0600</td>\n",
       "      <td>3.5200</td>\n",
       "      <td>0.0000</td>\n",
       "      <td>...</td>\n",
       "      <td>NaN</td>\n",
       "      <td>inf</td>\n",
       "      <td>inf</td>\n",
       "      <td>inf</td>\n",
       "      <td>inf</td>\n",
       "      <td>NaN</td>\n",
       "      <td>NaN</td>\n",
       "      <td>inf</td>\n",
       "      <td>0.016999</td>\n",
       "      <td>0.006051</td>\n",
       "    </tr>\n",
       "    <tr>\n",
       "      <td>2</td>\n",
       "      <td>2019-08-08 00:00:00-04:00</td>\n",
       "      <td>143.9900</td>\n",
       "      <td>145.4300</td>\n",
       "      <td>143.7609</td>\n",
       "      <td>144.88</td>\n",
       "      <td>91294</td>\n",
       "      <td>-0.0900</td>\n",
       "      <td>-0.7609</td>\n",
       "      <td>0.0000</td>\n",
       "      <td>0.0000</td>\n",
       "      <td>...</td>\n",
       "      <td>NaN</td>\n",
       "      <td>0.825764</td>\n",
       "      <td>0.937039</td>\n",
       "      <td>0.640378</td>\n",
       "      <td>0.800279</td>\n",
       "      <td>NaN</td>\n",
       "      <td>NaN</td>\n",
       "      <td>0.083432</td>\n",
       "      <td>0.007813</td>\n",
       "      <td>0.004942</td>\n",
       "    </tr>\n",
       "    <tr>\n",
       "      <td>3</td>\n",
       "      <td>2019-08-09 00:00:00-04:00</td>\n",
       "      <td>144.3900</td>\n",
       "      <td>145.1000</td>\n",
       "      <td>144.0500</td>\n",
       "      <td>144.33</td>\n",
       "      <td>54303</td>\n",
       "      <td>-0.3300</td>\n",
       "      <td>-0.2891</td>\n",
       "      <td>0.0000</td>\n",
       "      <td>0.0000</td>\n",
       "      <td>...</td>\n",
       "      <td>NaN</td>\n",
       "      <td>-0.046392</td>\n",
       "      <td>0.209312</td>\n",
       "      <td>-0.018418</td>\n",
       "      <td>0.206611</td>\n",
       "      <td>NaN</td>\n",
       "      <td>NaN</td>\n",
       "      <td>-0.387808</td>\n",
       "      <td>0.000569</td>\n",
       "      <td>0.000683</td>\n",
       "    </tr>\n",
       "    <tr>\n",
       "      <td>4</td>\n",
       "      <td>2019-08-12 00:00:00-04:00</td>\n",
       "      <td>144.8000</td>\n",
       "      <td>146.3600</td>\n",
       "      <td>144.6800</td>\n",
       "      <td>145.69</td>\n",
       "      <td>122128</td>\n",
       "      <td>1.2600</td>\n",
       "      <td>-0.6300</td>\n",
       "      <td>1.2600</td>\n",
       "      <td>0.0000</td>\n",
       "      <td>...</td>\n",
       "      <td>NaN</td>\n",
       "      <td>0.602942</td>\n",
       "      <td>0.340466</td>\n",
       "      <td>1.228618</td>\n",
       "      <td>0.587079</td>\n",
       "      <td>NaN</td>\n",
       "      <td>NaN</td>\n",
       "      <td>0.286644</td>\n",
       "      <td>0.004142</td>\n",
       "      <td>0.004187</td>\n",
       "    </tr>\n",
       "    <tr>\n",
       "      <td>...</td>\n",
       "      <td>...</td>\n",
       "      <td>...</td>\n",
       "      <td>...</td>\n",
       "      <td>...</td>\n",
       "      <td>...</td>\n",
       "      <td>...</td>\n",
       "      <td>...</td>\n",
       "      <td>...</td>\n",
       "      <td>...</td>\n",
       "      <td>...</td>\n",
       "      <td>...</td>\n",
       "      <td>...</td>\n",
       "      <td>...</td>\n",
       "      <td>...</td>\n",
       "      <td>...</td>\n",
       "      <td>...</td>\n",
       "      <td>...</td>\n",
       "      <td>...</td>\n",
       "      <td>...</td>\n",
       "      <td>...</td>\n",
       "      <td>...</td>\n",
       "    </tr>\n",
       "    <tr>\n",
       "      <td>59</td>\n",
       "      <td>2019-10-29 00:00:00-04:00</td>\n",
       "      <td>143.1600</td>\n",
       "      <td>143.7700</td>\n",
       "      <td>142.2600</td>\n",
       "      <td>143.33</td>\n",
       "      <td>62471</td>\n",
       "      <td>-0.5600</td>\n",
       "      <td>1.1100</td>\n",
       "      <td>0.0000</td>\n",
       "      <td>1.1100</td>\n",
       "      <td>...</td>\n",
       "      <td>0.000716</td>\n",
       "      <td>0.187265</td>\n",
       "      <td>-0.059863</td>\n",
       "      <td>0.155035</td>\n",
       "      <td>0.010362</td>\n",
       "      <td>-0.225077</td>\n",
       "      <td>-0.259669</td>\n",
       "      <td>-1.341354</td>\n",
       "      <td>-0.000886</td>\n",
       "      <td>-0.000463</td>\n",
       "    </tr>\n",
       "    <tr>\n",
       "      <td>60</td>\n",
       "      <td>2019-10-30 00:00:00-04:00</td>\n",
       "      <td>143.5800</td>\n",
       "      <td>144.2600</td>\n",
       "      <td>142.6700</td>\n",
       "      <td>144.08</td>\n",
       "      <td>95288</td>\n",
       "      <td>0.4900</td>\n",
       "      <td>-0.4100</td>\n",
       "      <td>0.4900</td>\n",
       "      <td>0.0000</td>\n",
       "      <td>...</td>\n",
       "      <td>-0.000030</td>\n",
       "      <td>-0.146436</td>\n",
       "      <td>-0.072767</td>\n",
       "      <td>-0.164387</td>\n",
       "      <td>-0.026021</td>\n",
       "      <td>0.356706</td>\n",
       "      <td>0.559701</td>\n",
       "      <td>-5.066952</td>\n",
       "      <td>0.000183</td>\n",
       "      <td>0.000485</td>\n",
       "    </tr>\n",
       "    <tr>\n",
       "      <td>61</td>\n",
       "      <td>2019-10-31 00:00:00-04:00</td>\n",
       "      <td>145.6944</td>\n",
       "      <td>145.7769</td>\n",
       "      <td>145.3000</td>\n",
       "      <td>145.52</td>\n",
       "      <td>43081</td>\n",
       "      <td>1.5169</td>\n",
       "      <td>-2.6300</td>\n",
       "      <td>1.5169</td>\n",
       "      <td>0.0000</td>\n",
       "      <td>...</td>\n",
       "      <td>-0.000443</td>\n",
       "      <td>-0.727837</td>\n",
       "      <td>-0.162655</td>\n",
       "      <td>-0.364919</td>\n",
       "      <td>-0.086558</td>\n",
       "      <td>0.284156</td>\n",
       "      <td>0.672415</td>\n",
       "      <td>0.463540</td>\n",
       "      <td>0.001802</td>\n",
       "      <td>0.002289</td>\n",
       "    </tr>\n",
       "    <tr>\n",
       "      <td>62</td>\n",
       "      <td>2019-11-01 00:00:00-04:00</td>\n",
       "      <td>145.4200</td>\n",
       "      <td>146.0180</td>\n",
       "      <td>145.1966</td>\n",
       "      <td>145.69</td>\n",
       "      <td>98510</td>\n",
       "      <td>0.2411</td>\n",
       "      <td>0.1034</td>\n",
       "      <td>0.2411</td>\n",
       "      <td>0.0000</td>\n",
       "      <td>...</td>\n",
       "      <td>-0.000594</td>\n",
       "      <td>-2.359030</td>\n",
       "      <td>-0.260613</td>\n",
       "      <td>-1.069532</td>\n",
       "      <td>-0.208636</td>\n",
       "      <td>0.084083</td>\n",
       "      <td>0.047108</td>\n",
       "      <td>0.598287</td>\n",
       "      <td>0.001730</td>\n",
       "      <td>0.002234</td>\n",
       "    </tr>\n",
       "    <tr>\n",
       "      <td>63</td>\n",
       "      <td>2019-11-04 00:00:00-05:00</td>\n",
       "      <td>14.5000</td>\n",
       "      <td>14.6400</td>\n",
       "      <td>14.4700</td>\n",
       "      <td>14.53</td>\n",
       "      <td>609464</td>\n",
       "      <td>-131.3780</td>\n",
       "      <td>130.7266</td>\n",
       "      <td>0.0000</td>\n",
       "      <td>130.7266</td>\n",
       "      <td>...</td>\n",
       "      <td>-0.440402</td>\n",
       "      <td>-142.139727</td>\n",
       "      <td>11.370235</td>\n",
       "      <td>-1937.408926</td>\n",
       "      <td>20.930150</td>\n",
       "      <td>0.020122</td>\n",
       "      <td>-0.999500</td>\n",
       "      <td>-2.049301</td>\n",
       "      <td>-0.154147</td>\n",
       "      <td>-0.158795</td>\n",
       "    </tr>\n",
       "  </tbody>\n",
       "</table>\n",
       "<p>64 rows × 35 columns</p>\n",
       "</div>"
      ],
      "text/plain": [
       "                        time      open      high       low   close  volume  \\\n",
       "0  2019-08-06 00:00:00-04:00  141.3600  142.0000  140.9400  141.90   54214   \n",
       "1  2019-08-07 00:00:00-04:00  144.3700  145.5200  143.0000  144.03  179030   \n",
       "2  2019-08-08 00:00:00-04:00  143.9900  145.4300  143.7609  144.88   91294   \n",
       "3  2019-08-09 00:00:00-04:00  144.3900  145.1000  144.0500  144.33   54303   \n",
       "4  2019-08-12 00:00:00-04:00  144.8000  146.3600  144.6800  145.69  122128   \n",
       "..                       ...       ...       ...       ...     ...     ...   \n",
       "59 2019-10-29 00:00:00-04:00  143.1600  143.7700  142.2600  143.33   62471   \n",
       "60 2019-10-30 00:00:00-04:00  143.5800  144.2600  142.6700  144.08   95288   \n",
       "61 2019-10-31 00:00:00-04:00  145.6944  145.7769  145.3000  145.52   43081   \n",
       "62 2019-11-01 00:00:00-04:00  145.4200  146.0180  145.1966  145.69   98510   \n",
       "63 2019-11-04 00:00:00-05:00   14.5000   14.6400   14.4700   14.53  609464   \n",
       "\n",
       "     up_move  down_move     DMp       DMm  ... bb_low_ptc    macd_ptc  \\\n",
       "0        NaN        NaN  0.0000    0.0000  ...        NaN         NaN   \n",
       "1     3.5200    -2.0600  3.5200    0.0000  ...        NaN         inf   \n",
       "2    -0.0900    -0.7609  0.0000    0.0000  ...        NaN    0.825764   \n",
       "3    -0.3300    -0.2891  0.0000    0.0000  ...        NaN   -0.046392   \n",
       "4     1.2600    -0.6300  1.2600    0.0000  ...        NaN    0.602942   \n",
       "..       ...        ...     ...       ...  ...        ...         ...   \n",
       "59   -0.5600     1.1100  0.0000    1.1100  ...   0.000716    0.187265   \n",
       "60    0.4900    -0.4100  0.4900    0.0000  ...  -0.000030   -0.146436   \n",
       "61    1.5169    -2.6300  1.5169    0.0000  ...  -0.000443   -0.727837   \n",
       "62    0.2411     0.1034  0.2411    0.0000  ...  -0.000594   -2.359030   \n",
       "63 -131.3780   130.7266  0.0000  130.7266  ...  -0.440402 -142.139727   \n",
       "\n",
       "    signal_ptc   vwmacd_ptc  vwsignal_ptc   mfi_ptc  stoch_ptc   vzo_ptc  \\\n",
       "0          NaN          NaN           NaN       NaN        NaN       NaN   \n",
       "1          inf          inf           inf       NaN        NaN       inf   \n",
       "2     0.937039     0.640378      0.800279       NaN        NaN  0.083432   \n",
       "3     0.209312    -0.018418      0.206611       NaN        NaN -0.387808   \n",
       "4     0.340466     1.228618      0.587079       NaN        NaN  0.286644   \n",
       "..         ...          ...           ...       ...        ...       ...   \n",
       "59   -0.059863     0.155035      0.010362 -0.225077  -0.259669 -1.341354   \n",
       "60   -0.072767    -0.164387     -0.026021  0.356706   0.559701 -5.066952   \n",
       "61   -0.162655    -0.364919     -0.086558  0.284156   0.672415  0.463540   \n",
       "62   -0.260613    -1.069532     -0.208636  0.084083   0.047108  0.598287   \n",
       "63   11.370235 -1937.408926     20.930150  0.020122  -0.999500 -2.049301   \n",
       "\n",
       "    apz_u_ptc  apz_l_ptc  \n",
       "0         NaN        NaN  \n",
       "1    0.016999   0.006051  \n",
       "2    0.007813   0.004942  \n",
       "3    0.000569   0.000683  \n",
       "4    0.004142   0.004187  \n",
       "..        ...        ...  \n",
       "59  -0.000886  -0.000463  \n",
       "60   0.000183   0.000485  \n",
       "61   0.001802   0.002289  \n",
       "62   0.001730   0.002234  \n",
       "63  -0.154147  -0.158795  \n",
       "\n",
       "[64 rows x 35 columns]"
      ]
     },
     "execution_count": 233,
     "metadata": {},
     "output_type": "execute_result"
    }
   ],
   "source": [
    "ticker_cluster"
   ]
  },
  {
   "cell_type": "code",
   "execution_count": 234,
   "metadata": {
    "pycharm": {
     "name": "#%%\n"
    }
   },
   "outputs": [
    {
     "data": {
      "text/plain": [
       "[<matplotlib.lines.Line2D at 0x7f9b1d6e2b10>]"
      ]
     },
     "execution_count": 234,
     "metadata": {},
     "output_type": "execute_result"
    },
    {
     "data": {
      "image/png": "[encoded data removed]",
      "text/plain": [
       "<Figure size 432x288 with 1 Axes>"
      ]
     },
     "metadata": {
      "needs_background": "light"
     },
     "output_type": "display_data"
    }
   ],
   "source": [
    "plt.plot(ticker_cluster[\"open\"], color=\"orange\")"
   ]
  },
  {
   "cell_type": "code",
   "execution_count": 235,
   "metadata": {
    "pycharm": {
     "name": "#%%\n"
    }
   },
   "outputs": [
    {
     "data": {
      "text/plain": [
       "[<matplotlib.lines.Line2D at 0x7f9b1d65da90>]"
      ]
     },
     "execution_count": 235,
     "metadata": {},
     "output_type": "execute_result"
    },
    {
     "data": {
      "image/png": "[encoded data removed]",
      "text/plain": [
       "<Figure size 432x288 with 1 Axes>"
      ]
     },
     "metadata": {
      "needs_background": "light"
     },
     "output_type": "display_data"
    }
   ],
   "source": [
    "plt.plot(ticker_cluster[\"high\"], color=\"blue\")"
   ]
  },
  {
   "cell_type": "code",
   "execution_count": 236,
   "metadata": {
    "pycharm": {
     "name": "#%%\n"
    }
   },
   "outputs": [
    {
     "data": {
      "text/plain": [
       "[<matplotlib.lines.Line2D at 0x7f9b1d644ad0>]"
      ]
     },
     "execution_count": 236,
     "metadata": {},
     "output_type": "execute_result"
    },
    {
     "data": {
      "image/png": "[encoded data removed]",
      "text/plain": [
       "<Figure size 432x288 with 1 Axes>"
      ]
     },
     "metadata": {
      "needs_background": "light"
     },
     "output_type": "display_data"
    }
   ],
   "source": [
    "plt.plot(ticker_cluster[\"low\"], color=\"red\")"
   ]
  },
  {
   "cell_type": "code",
   "execution_count": 237,
   "metadata": {
    "pycharm": {
     "name": "#%%\n"
    }
   },
   "outputs": [
    {
     "data": {
      "text/plain": [
       "[<matplotlib.lines.Line2D at 0x7f9b1d5a9ad0>]"
      ]
     },
     "execution_count": 237,
     "metadata": {},
     "output_type": "execute_result"
    },
    {
     "data": {
      "image/png": "[encoded data removed]",
      "text/plain": [
       "<Figure size 432x288 with 1 Axes>"
      ]
     },
     "metadata": {
      "needs_background": "light"
     },
     "output_type": "display_data"
    }
   ],
   "source": [
    "plt.plot(ticker_cluster[\"close\"], color=\"green\")"
   ]
  },
  {
   "cell_type": "code",
   "execution_count": 238,
   "metadata": {
    "pycharm": {
     "name": "#%%\n"
    }
   },
   "outputs": [
    {
     "data": {
      "text/plain": [
       "[<matplotlib.lines.Line2D at 0x7f9b1d511ad0>]"
      ]
     },
     "execution_count": 238,
     "metadata": {},
     "output_type": "execute_result"
    },
    {
     "data": {
      "image/png": "[encoded data removed]",
      "text/plain": [
       "<Figure size 432x288 with 1 Axes>"
      ]
     },
     "metadata": {
      "needs_background": "light"
     },
     "output_type": "display_data"
    }
   ],
   "source": [
    "plt.plot(ticker_cluster[\"macd\"], color=\"purple\")"
   ]
  },
  {
   "cell_type": "code",
   "execution_count": 239,
   "metadata": {
    "pycharm": {
     "name": "#%%\n"
    }
   },
   "outputs": [
    {
     "data": {
      "text/plain": [
       "[<matplotlib.lines.Line2D at 0x7f9b1d506310>]"
      ]
     },
     "execution_count": 239,
     "metadata": {},
     "output_type": "execute_result"
    },
    {
     "data": {
      "image/png": "[encoded data removed]",
      "text/plain": [
       "<Figure size 432x288 with 1 Axes>"
      ]
     },
     "metadata": {
      "needs_background": "light"
     },
     "output_type": "display_data"
    }
   ],
   "source": [
    "plt.plot(ticker_cluster[\"signal\"], color=\"pink\")"
   ]
  },
  {
   "cell_type": "code",
   "execution_count": 240,
   "metadata": {
    "pycharm": {
     "name": "#%%\n"
    }
   },
   "outputs": [
    {
     "data": {
      "text/plain": [
       "[<matplotlib.lines.Line2D at 0x7f9b1d46ac10>]"
      ]
     },
     "execution_count": 240,
     "metadata": {},
     "output_type": "execute_result"
    },
    {
     "data": {
      "image/png": "[encoded data removed]",
      "text/plain": [
       "<Figure size 432x288 with 1 Axes>"
      ]
     },
     "metadata": {
      "needs_background": "light"
     },
     "output_type": "display_data"
    }
   ],
   "source": [
    "plt.plot(ticker_cluster[\"mfi\"], color=\"yellow\")"
   ]
  },
  {
   "cell_type": "code",
   "execution_count": 241,
   "metadata": {
    "pycharm": {
     "name": "#%%\n"
    }
   },
   "outputs": [
    {
     "data": {
      "text/plain": [
       "[<matplotlib.lines.Line2D at 0x7f9b1d3d8d10>]"
      ]
     },
     "execution_count": 241,
     "metadata": {},
     "output_type": "execute_result"
    },
    {
     "data": {
      "image/png": "[encoded data removed]",
      "text/plain": [
       "<Figure size 432x288 with 1 Axes>"
      ]
     },
     "metadata": {
      "needs_background": "light"
     },
     "output_type": "display_data"
    }
   ],
   "source": [
    "plt.plot(ticker_cluster[\"bb_up\"], color=\"black\")"
   ]
  },
  {
   "cell_type": "code",
   "execution_count": 242,
   "metadata": {
    "pycharm": {
     "name": "#%%\n"
    }
   },
   "outputs": [
    {
     "data": {
      "text/plain": [
       "[<matplotlib.lines.Line2D at 0x7f9b1d3c2610>]"
      ]
     },
     "execution_count": 242,
     "metadata": {},
     "output_type": "execute_result"
    },
    {
     "data": {
      "image/png": "[encoded data removed]",
      "text/plain": [
       "<Figure size 432x288 with 1 Axes>"
      ]
     },
     "metadata": {
      "needs_background": "light"
     },
     "output_type": "display_data"
    }
   ],
   "source": [
    "plt.plot(ticker_cluster[\"bb_low\"], color=\"black\")"
   ]
  },
  {
   "cell_type": "code",
   "execution_count": 243,
   "metadata": {
    "pycharm": {
     "name": "#%%\n"
    }
   },
   "outputs": [
    {
     "data": {
      "text/plain": [
       "[<matplotlib.lines.Line2D at 0x7f9b1d326a50>]"
      ]
     },
     "execution_count": 243,
     "metadata": {},
     "output_type": "execute_result"
    },
    {
     "data": {
      "image/png": "[encoded data removed]",
      "text/plain": [
       "<Figure size 432x288 with 1 Axes>"
      ]
     },
     "metadata": {
      "needs_background": "light"
     },
     "output_type": "display_data"
    }
   ],
   "source": [
    "plt.plot(ticker_cluster[\"vzo\"], color=\"orange\")"
   ]
  },
  {
   "cell_type": "code",
   "execution_count": 244,
   "metadata": {
    "pycharm": {
     "name": "#%%\n"
    }
   },
   "outputs": [
    {
     "data": {
      "text/plain": [
       "[<matplotlib.lines.Line2D at 0x7f9b1d297a10>]"
      ]
     },
     "execution_count": 244,
     "metadata": {},
     "output_type": "execute_result"
    },
    {
     "data": {
      "image/png": "[encoded data removed]",
      "text/plain": [
       "<Figure size 432x288 with 1 Axes>"
      ]
     },
     "metadata": {
      "needs_background": "light"
     },
     "output_type": "display_data"
    }
   ],
   "source": [
    "plt.plot(ticker_cluster[\"apz_u\"], color=\"grey\")"
   ]
  },
  {
   "cell_type": "code",
   "execution_count": 245,
   "metadata": {
    "pycharm": {
     "name": "#%%\n"
    }
   },
   "outputs": [
    {
     "data": {
      "text/plain": [
       "[<matplotlib.lines.Line2D at 0x7f9b1d208490>]"
      ]
     },
     "execution_count": 245,
     "metadata": {},
     "output_type": "execute_result"
    },
    {
     "data": {
      "image/png": "[encoded data removed]",
      "text/plain": [
       "<Figure size 432x288 with 1 Axes>"
      ]
     },
     "metadata": {
      "needs_background": "light"
     },
     "output_type": "display_data"
    }
   ],
   "source": [
    "plt.plot(ticker_cluster[\"apz_l\"], color=\"grey\")"
   ]
  },
  {
   "cell_type": "code",
   "execution_count": 246,
   "metadata": {
    "pycharm": {
     "name": "#%%\n"
    }
   },
   "outputs": [
    {
     "data": {
      "text/plain": [
       "[<matplotlib.lines.Line2D at 0x7f9b1d1f9110>]"
      ]
     },
     "execution_count": 246,
     "metadata": {},
     "output_type": "execute_result"
    },
    {
     "data": {
      "image/png": "[encoded data removed]",
      "text/plain": [
       "<Figure size 432x288 with 1 Axes>"
      ]
     },
     "metadata": {
      "needs_background": "light"
     },
     "output_type": "display_data"
    }
   ],
   "source": [
    "plt.plot(ticker_cluster[\"stoch\"], color=\"orange\")"
   ]
  },
  {
   "cell_type": "code",
   "execution_count": 247,
   "metadata": {
    "pycharm": {
     "name": "#%%\n"
    }
   },
   "outputs": [],
   "source": [
    "# plt.plot(ticker_cluster[\"adx\"], color=\"green\")"
   ]
  },
  {
   "cell_type": "code",
   "execution_count": null,
   "metadata": {
    "pycharm": {
     "name": "#%%\n"
    }
   },
   "outputs": [],
   "source": []
  },
  {
   "cell_type": "code",
   "execution_count": 248,
   "metadata": {
    "pycharm": {
     "name": "#%%\n"
    }
   },
   "outputs": [
    {
     "data": {
      "text/plain": [
       "[<matplotlib.lines.Line2D at 0x7f9b1d152e50>]"
      ]
     },
     "execution_count": 248,
     "metadata": {},
     "output_type": "execute_result"
    },
    {
     "data": {
      "image/png": "[encoded data removed]",
      "text/plain": [
       "<Figure size 432x288 with 1 Axes>"
      ]
     },
     "metadata": {
      "needs_background": "light"
     },
     "output_type": "display_data"
    }
   ],
   "source": [
    "plt.plot(ticker_cluster[\"close\"].pct_change(), color=\"green\")"
   ]
  },
  {
   "cell_type": "code",
   "execution_count": 249,
   "metadata": {
    "pycharm": {
     "name": "#%%\n"
    }
   },
   "outputs": [
    {
     "data": {
      "text/plain": [
       "[<matplotlib.lines.Line2D at 0x7f9b1d146110>]"
      ]
     },
     "execution_count": 249,
     "metadata": {},
     "output_type": "execute_result"
    },
    {
     "data": {
      "image/png": "[encoded data removed]",
      "text/plain": [
       "<Figure size 432x288 with 1 Axes>"
      ]
     },
     "metadata": {
      "needs_background": "light"
     },
     "output_type": "display_data"
    }
   ],
   "source": [
    "plt.plot(ticker_cluster[\"macd\"].pct_change(), color=\"purple\")"
   ]
  },
  {
   "cell_type": "code",
   "execution_count": 250,
   "metadata": {
    "pycharm": {
     "name": "#%%\n"
    }
   },
   "outputs": [
    {
     "data": {
      "text/plain": [
       "[<matplotlib.lines.Line2D at 0x7f9b1d0b6490>]"
      ]
     },
     "execution_count": 250,
     "metadata": {},
     "output_type": "execute_result"
    },
    {
     "data": {
      "image/png": "[encoded data removed]",
      "text/plain": [
       "<Figure size 432x288 with 1 Axes>"
      ]
     },
     "metadata": {
      "needs_background": "light"
     },
     "output_type": "display_data"
    }
   ],
   "source": [
    "plt.plot(ticker_cluster[\"signal\"].pct_change(), color=\"pink\")"
   ]
  },
  {
   "cell_type": "code",
   "execution_count": 251,
   "metadata": {
    "pycharm": {
     "name": "#%%\n"
    }
   },
   "outputs": [
    {
     "data": {
      "text/plain": [
       "[<matplotlib.lines.Line2D at 0x7f9b1d025290>]"
      ]
     },
     "execution_count": 251,
     "metadata": {},
     "output_type": "execute_result"
    },
    {
     "data": {
      "image/png": "[encoded data removed]",
      "text/plain": [
       "<Figure size 432x288 with 1 Axes>"
      ]
     },
     "metadata": {
      "needs_background": "light"
     },
     "output_type": "display_data"
    }
   ],
   "source": [
    "plt.plot(ticker_cluster[\"mfi\"].pct_change(), color=\"yellow\")"
   ]
  },
  {
   "cell_type": "code",
   "execution_count": 252,
   "metadata": {
    "pycharm": {
     "name": "#%%\n"
    }
   },
   "outputs": [
    {
     "data": {
      "text/plain": [
       "[<matplotlib.lines.Line2D at 0x7f9b1cf8bbd0>]"
      ]
     },
     "execution_count": 252,
     "metadata": {},
     "output_type": "execute_result"
    },
    {
     "data": {
      "image/png": "[encoded data removed]",
      "text/plain": [
       "<Figure size 432x288 with 1 Axes>"
      ]
     },
     "metadata": {
      "needs_background": "light"
     },
     "output_type": "display_data"
    }
   ],
   "source": [
    "plt.plot(ticker_cluster[\"vzo\"].pct_change(), color=\"orange\")"
   ]
  },
  {
   "cell_type": "code",
   "execution_count": 253,
   "metadata": {
    "pycharm": {
     "name": "#%%\n"
    }
   },
   "outputs": [
    {
     "data": {
      "text/plain": [
       "[<matplotlib.lines.Line2D at 0x7f9b1cf87050>]"
      ]
     },
     "execution_count": 253,
     "metadata": {},
     "output_type": "execute_result"
    },
    {
     "data": {
      "image/png": "[encoded data removed]",
      "text/plain": [
       "<Figure size 432x288 with 1 Axes>"
      ]
     },
     "metadata": {
      "needs_background": "light"
     },
     "output_type": "display_data"
    }
   ],
   "source": [
    "plt.plot(ticker_cluster[\"stoch\"].pct_change(), color=\"orange\")"
   ]
  },
  {
   "cell_type": "code",
   "execution_count": 254,
   "metadata": {
    "pycharm": {
     "name": "#%%\n"
    }
   },
   "outputs": [],
   "source": [
    "# plt.plot(ticker_cluster[\"bb_up\"].pct_change(), color=\"black\")"
   ]
  },
  {
   "cell_type": "code",
   "execution_count": 255,
   "metadata": {
    "pycharm": {
     "name": "#%%\n"
    }
   },
   "outputs": [],
   "source": [
    "# plt.plot(ticker_cluster[\"bb_low\"].pct_change(), color=\"black\")"
   ]
  },
  {
   "cell_type": "code",
   "execution_count": 256,
   "metadata": {
    "pycharm": {
     "name": "#%%\n"
    }
   },
   "outputs": [],
   "source": [
    "# plt.plot(ticker_cluster[\"apz_u\"].pct_change(), color=\"grey\")"
   ]
  },
  {
   "cell_type": "code",
   "execution_count": 257,
   "metadata": {
    "pycharm": {
     "name": "#%%\n"
    }
   },
   "outputs": [],
   "source": [
    "# plt.plot(ticker_cluster[\"apz_l\"].pct_change(), color=\"grey\")\n",
    "vwap = indicators.get_vwap(minute_bars)"
   ]
  },
  {
   "cell_type": "code",
   "execution_count": 258,
   "metadata": {
    "pycharm": {
     "name": "#%%\n"
    }
   },
   "outputs": [
    {
     "data": {
      "text/plain": [
       "[<matplotlib.lines.Line2D at 0x7f9b1cee4e50>]"
      ]
     },
     "execution_count": 258,
     "metadata": {},
     "output_type": "execute_result"
    },
    {
     "data": {
      "image/png": "[encoded data removed]",
      "text/plain": [
       "<Figure size 432x288 with 1 Axes>"
      ]
     },
     "metadata": {
      "needs_background": "light"
     },
     "output_type": "display_data"
    }
   ],
   "source": [
    "plt.plot(vwap, color=\"blue\")"
   ]
  },
  {
   "cell_type": "code",
   "execution_count": 259,
   "metadata": {
    "pycharm": {
     "name": "#%%\n"
    }
   },
   "outputs": [
    {
     "data": {
      "text/plain": [
       "[<matplotlib.lines.Line2D at 0x7f9b1ce54f50>]"
      ]
     },
     "execution_count": 259,
     "metadata": {},
     "output_type": "execute_result"
    },
    {
     "data": {
      "image/png": "[encoded data removed]",
      "text/plain": [
       "<Figure size 432x288 with 1 Axes>"
      ]
     },
     "metadata": {
      "needs_background": "light"
     },
     "output_type": "display_data"
    }
   ],
   "source": [
    "plt.plot(vwap.pct_change(), color=\"blue\")"
   ]
  },
  {
   "cell_type": "code",
   "execution_count": 260,
   "metadata": {
    "pycharm": {
     "name": "#%%\n"
    }
   },
   "outputs": [],
   "source": [
    "minute_macd = indicators.get_macd(minute_bars)"
   ]
  },
  {
   "cell_type": "code",
   "execution_count": 261,
   "metadata": {
    "pycharm": {
     "name": "#%%\n"
    }
   },
   "outputs": [
    {
     "data": {
      "text/plain": [
       "[<matplotlib.lines.Line2D at 0x7f9b1cdc99d0>]"
      ]
     },
     "execution_count": 261,
     "metadata": {},
     "output_type": "execute_result"
    },
    {
     "data": {
      "image/png": "[encoded data removed]",
      "text/plain": [
       "<Figure size 432x288 with 1 Axes>"
      ]
     },
     "metadata": {
      "needs_background": "light"
     },
     "output_type": "display_data"
    }
   ],
   "source": [
    "plt.plot(minute_macd[\"MACD\"].iloc[-50:], color=\"red\")\n",
    "plt.plot(minute_macd[\"SIGNAL\"].iloc[-50:], color=\"green\")"
   ]
  },
  {
   "cell_type": "code",
   "execution_count": 262,
   "metadata": {
    "pycharm": {
     "name": "#%%\n"
    }
   },
   "outputs": [
    {
     "data": {
      "text/plain": [
       "[<matplotlib.lines.Line2D at 0x7f9b1cdb9610>]"
      ]
     },
     "execution_count": 262,
     "metadata": {},
     "output_type": "execute_result"
    },
    {
     "data": {
      "image/png": "[encoded data removed]",
      "text/plain": [
       "<Figure size 432x288 with 1 Axes>"
      ]
     },
     "metadata": {
      "needs_background": "light"
     },
     "output_type": "display_data"
    }
   ],
   "source": [
    "plt.plot(minute_bars[\"close\"].iloc[-50:], color=\"yellow\")\n",
    "plt.plot(vwap.iloc[-50:], color=\"blue\")"
   ]
  },
  {
   "cell_type": "code",
   "execution_count": 263,
   "metadata": {
    "pycharm": {
     "name": "#%%\n"
    }
   },
   "outputs": [
    {
     "data": {
      "text/plain": [
       "[<matplotlib.lines.Line2D at 0x7f9b1cd1d750>]"
      ]
     },
     "execution_count": 263,
     "metadata": {},
     "output_type": "execute_result"
    },
    {
     "data": {
      "image/png": "[encoded data removed]",
      "text/plain": [
       "<Figure size 432x288 with 1 Axes>"
      ]
     },
     "metadata": {
      "needs_background": "light"
     },
     "output_type": "display_data"
    }
   ],
   "source": [
    "plt.plot(minute_bars[\"close\"].iloc[-50:], color=\"yellow\")"
   ]
  },
  {
   "cell_type": "code",
   "execution_count": null,
   "metadata": {
    "pycharm": {
     "name": "#%%"
    }
   },
   "outputs": [],
   "source": []
  },
  {
   "cell_type": "code",
   "execution_count": null,
   "metadata": {},
   "outputs": [],
   "source": []
  },
  {
   "cell_type": "code",
   "execution_count": null,
   "metadata": {},
   "outputs": [],
   "source": []
  }
 ],
 "metadata": {
  "kernelspec": {
   "display_name": "Python 3",
   "language": "python",
   "name": "python3"
  },
  "language_info": {
   "codemirror_mode": {
    "name": "ipython",
    "version": 3
   },
   "file_extension": ".py",
   "mimetype": "text/x-python",
   "name": "python",
   "nbconvert_exporter": "python",
   "pygments_lexer": "ipython3",
   "version": "3.7.4"
  },
  "pycharm": {
   "stem_cell": {
    "cell_type": "raw",
    "metadata": {
     "collapsed": false
    },
    "source": []
   }
  }
 },
 "nbformat": 4,
 "nbformat_minor": 1
}
