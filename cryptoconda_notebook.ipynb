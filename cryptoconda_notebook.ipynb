{
 "cells": [
  {
   "cell_type": "code",
   "execution_count": 1,
   "metadata": {
    "collapsed": true,
    "pycharm": {
     "is_executing": false
    }
   },
   "outputs": [
    {
     "name": "stderr",
     "text": [
      "[nltk_data] Downloading package vader_lexicon to\n[nltk_data]     /home/ben/nltk_data...\n[nltk_data]   Package vader_lexicon is already up-to-date!\n/home/ben/anaconda3/envs/alpaca_test/lib/python3.7/site-packages/tensorflow/python/framework/dtypes.py:516: FutureWarning: Passing (type, 1) or '1type' as a synonym of type is deprecated; in a future version of numpy, it will be understood as (type, (1,)) / '(1,)type'.\n  _np_qint8 = np.dtype([(\"qint8\", np.int8, 1)])\n/home/ben/anaconda3/envs/alpaca_test/lib/python3.7/site-packages/tensorflow/python/framework/dtypes.py:517: FutureWarning: Passing (type, 1) or '1type' as a synonym of type is deprecated; in a future version of numpy, it will be understood as (type, (1,)) / '(1,)type'.\n  _np_quint8 = np.dtype([(\"quint8\", np.uint8, 1)])\n/home/ben/anaconda3/envs/alpaca_test/lib/python3.7/site-packages/tensorflow/python/framework/dtypes.py:518: FutureWarning: Passing (type, 1) or '1type' as a synonym of type is deprecated; in a future version of numpy, it will be understood as (type, (1,)) / '(1,)type'.\n  _np_qint16 = np.dtype([(\"qint16\", np.int16, 1)])\n/home/ben/anaconda3/envs/alpaca_test/lib/python3.7/site-packages/tensorflow/python/framework/dtypes.py:519: FutureWarning: Passing (type, 1) or '1type' as a synonym of type is deprecated; in a future version of numpy, it will be understood as (type, (1,)) / '(1,)type'.\n  _np_quint16 = np.dtype([(\"quint16\", np.uint16, 1)])\n/home/ben/anaconda3/envs/alpaca_test/lib/python3.7/site-packages/tensorflow/python/framework/dtypes.py:520: FutureWarning: Passing (type, 1) or '1type' as a synonym of type is deprecated; in a future version of numpy, it will be understood as (type, (1,)) / '(1,)type'.\n  _np_qint32 = np.dtype([(\"qint32\", np.int32, 1)])\n/home/ben/anaconda3/envs/alpaca_test/lib/python3.7/site-packages/tensorflow/python/framework/dtypes.py:525: FutureWarning: Passing (type, 1) or '1type' as a synonym of type is deprecated; in a future version of numpy, it will be understood as (type, (1,)) / '(1,)type'.\n  np_resource = np.dtype([(\"resource\", np.ubyte, 1)])\n",
      "/home/ben/anaconda3/envs/alpaca_test/lib/python3.7/site-packages/tensorboard/compat/tensorflow_stub/dtypes.py:541: FutureWarning: Passing (type, 1) or '1type' as a synonym of type is deprecated; in a future version of numpy, it will be understood as (type, (1,)) / '(1,)type'.\n  _np_qint8 = np.dtype([(\"qint8\", np.int8, 1)])\n/home/ben/anaconda3/envs/alpaca_test/lib/python3.7/site-packages/tensorboard/compat/tensorflow_stub/dtypes.py:542: FutureWarning: Passing (type, 1) or '1type' as a synonym of type is deprecated; in a future version of numpy, it will be understood as (type, (1,)) / '(1,)type'.\n  _np_quint8 = np.dtype([(\"quint8\", np.uint8, 1)])\n/home/ben/anaconda3/envs/alpaca_test/lib/python3.7/site-packages/tensorboard/compat/tensorflow_stub/dtypes.py:543: FutureWarning: Passing (type, 1) or '1type' as a synonym of type is deprecated; in a future version of numpy, it will be understood as (type, (1,)) / '(1,)type'.\n  _np_qint16 = np.dtype([(\"qint16\", np.int16, 1)])\n/home/ben/anaconda3/envs/alpaca_test/lib/python3.7/site-packages/tensorboard/compat/tensorflow_stub/dtypes.py:544: FutureWarning: Passing (type, 1) or '1type' as a synonym of type is deprecated; in a future version of numpy, it will be understood as (type, (1,)) / '(1,)type'.\n  _np_quint16 = np.dtype([(\"quint16\", np.uint16, 1)])\n/home/ben/anaconda3/envs/alpaca_test/lib/python3.7/site-packages/tensorboard/compat/tensorflow_stub/dtypes.py:545: FutureWarning: Passing (type, 1) or '1type' as a synonym of type is deprecated; in a future version of numpy, it will be understood as (type, (1,)) / '(1,)type'.\n  _np_qint32 = np.dtype([(\"qint32\", np.int32, 1)])\n/home/ben/anaconda3/envs/alpaca_test/lib/python3.7/site-packages/tensorboard/compat/tensorflow_stub/dtypes.py:550: FutureWarning: Passing (type, 1) or '1type' as a synonym of type is deprecated; in a future version of numpy, it will be understood as (type, (1,)) / '(1,)type'.\n  np_resource = np.dtype([(\"resource\", np.ubyte, 1)])\n",
      "[nltk_data] Downloading package vader_lexicon to\n[nltk_data]     /home/ben/nltk_data...\n[nltk_data]   Package vader_lexicon is already up-to-date!\n"
     ],
     "output_type": "stream"
    },
    {
     "name": "stdout",
     "text": [
      "WARNING:tensorflow:From /home/ben/Projects/trading/cryptoconda/alpaca_test.py:60: The name tf.InteractiveSession is deprecated. Please use tf.compat.v1.InteractiveSession instead.\n\n"
     ],
     "output_type": "stream"
    }
   ],
   "source": [
    "from alpaca_functions import *\n",
    "import matplotlib.pyplot as plt"
   ]
  },
  {
   "cell_type": "code",
   "execution_count": null,
   "outputs": [],
   "source": [
    "today = time_formatter(time.time())\n",
    "start = time_formatter(time.time() - (604800 * 13))         # Trying with the last 120 ish days # 52))\n",
    "raw_data, ticker = get_stuff_to_trade(today, start)\n",
    "\n",
    "# ticker = \"VRSK\"\n",
    "\n",
    "# ticker = \"AMAT\"\n",
    "# raw_data = os.path.relpath(\"data/AMAT_test_data_1D_year_OCT2018-2019_2.csv\")        # 1d window\n",
    "\n",
    "# Calculate indicators and stuff\n",
    "indicators = calculate_indicators(raw_data, ticker)\n",
    "indicators = get_sentiment(ticker, indicators)\n",
    "# get_edgar_score(indicators, ticker)\n",
    "\n",
    "# Train models\n",
    "print(\"volume\")\n",
    "volume_train, volume_test = get_predictions(indicators[\"data\"][\"volume\"])\n",
    "print(\"high price\")\n",
    "high_train, high_test = get_predictions(indicators[\"data\"][\"high\"])\n",
    "print(\"closing price\")\n",
    "close_train, close_test = get_predictions(indicators[\"data\"][\"close\"])\n",
    "print(\"macd\")\n",
    "macd_train, macd_test = get_predictions(indicators[\"macd\"])\n",
    "signal_train, signal_test = get_predictions(indicators[\"signal\"])\n",
    "print(\"MFI\")\n",
    "mfi_train, mfi_test = get_predictions(indicators[\"mfi\"])\n",
    "print(\"Stochastic oscillator\")\n",
    "stoch_train, stoch_test = get_predictions(indicators[\"stoch\"])\n",
    "\n",
    "volume_test = volume_test[~np.isnan(volume_test)]\n",
    "high_test = high_test[~np.isnan(high_test)]\n",
    "close_test = close_test[~np.isnan(close_test)]\n",
    "macd_test = macd_test[~np.isnan(macd_test)]\n",
    "signal_test = signal_test[~np.isnan(signal_test)]\n",
    "mfi_test = mfi_test[~np.isnan(mfi_test)]\n",
    "stoch_test = stoch_test[~np.isnan(stoch_test)]"
   ],
   "metadata": {
    "collapsed": false,
    "pycharm": {
     "name": "#%%\n"
    }
   }
  },
  {
   "cell_type": "code",
   "execution_count": null,
   "outputs": [],
   "source": [
    "# close\n",
    "plt.plot(np.cumprod(close_train+1))\n",
    "plt.plot(np.cumprod(close_test+1))"
   ],
   "metadata": {
    "collapsed": false,
    "pycharm": {
     "name": "#%%\n"
    }
   }
  },
  {
   "cell_type": "code",
   "execution_count": null,
   "outputs": [],
   "source": [
    "# macd\n",
    "plt.plot(np.cumprod(macd_train+1))\n",
    "plt.plot(np.cumprod(signal_train+1))"
   ],
   "metadata": {
    "collapsed": false,
    "pycharm": {
     "name": "#%%\n"
    }
   }
  },
  {
   "cell_type": "code",
   "execution_count": null,
   "outputs": [],
   "source": [
    "plt.plot(np.cumprod(macd_test+1))\n",
    "plt.plot(np.cumprod(signal_test+1))"
   ],
   "metadata": {
    "collapsed": false,
    "pycharm": {
     "name": "#%%\n"
    }
   }
  },
  {
   "cell_type": "code",
   "execution_count": null,
   "outputs": [],
   "source": [
    "# MFI\n",
    "plt.plot(np.cumprod(mfi_train+1))\n",
    "plt.plot(np.cumprod(mfi_test+1))"
   ],
   "metadata": {
    "collapsed": false,
    "pycharm": {
     "name": "#%%\n"
    }
   }
  },
  {
   "cell_type": "code",
   "execution_count": null,
   "outputs": [],
   "source": [
    "# stochastic oscillator  \n",
    "plt.plot(np.cumprod(stoch_train+1))\n",
    "plt.plot(np.cumprod(stoch_test+1))"
   ],
   "metadata": {
    "collapsed": false,
    "pycharm": {
     "name": "#%%\n"
    }
   }
  },
  {
   "cell_type": "code",
   "execution_count": null,
   "outputs": [],
   "source": [],
   "metadata": {
    "collapsed": false,
    "pycharm": {
     "name": "#%%"
    }
   }
  }
 ],
 "metadata": {
  "kernelspec": {
   "display_name": "Python 3",
   "language": "python",
   "name": "python3"
  },
  "language_info": {
   "codemirror_mode": {
    "name": "ipython",
    "version": 2
   },
   "file_extension": ".py",
   "mimetype": "text/x-python",
   "name": "python",
   "nbconvert_exporter": "python",
   "pygments_lexer": "ipython2",
   "version": "2.7.6"
  },
  "pycharm": {
   "stem_cell": {
    "cell_type": "raw",
    "source": [],
    "metadata": {
     "collapsed": false
    }
   }
  }
 },
 "nbformat": 4,
 "nbformat_minor": 0
}