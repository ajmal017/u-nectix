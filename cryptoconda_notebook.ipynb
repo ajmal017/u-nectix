{
 "cells": [
  {
   "cell_type": "code",
   "execution_count": 1,
   "metadata": {
    "pycharm": {
     "is_executing": false
    }
   },
   "outputs": [
    {
     "name": "stderr",
     "text": [
      "/home/ben/anaconda3/envs/alpaca_test/lib/python3.7/site-packages/tensorflow/python/framework/dtypes.py:516: FutureWarning: Passing (type, 1) or '1type' as a synonym of type is deprecated; in a future version of numpy, it will be understood as (type, (1,)) / '(1,)type'.\n  _np_qint8 = np.dtype([(\"qint8\", np.int8, 1)])\n/home/ben/anaconda3/envs/alpaca_test/lib/python3.7/site-packages/tensorflow/python/framework/dtypes.py:517: FutureWarning: Passing (type, 1) or '1type' as a synonym of type is deprecated; in a future version of numpy, it will be understood as (type, (1,)) / '(1,)type'.\n  _np_quint8 = np.dtype([(\"quint8\", np.uint8, 1)])\n/home/ben/anaconda3/envs/alpaca_test/lib/python3.7/site-packages/tensorflow/python/framework/dtypes.py:518: FutureWarning: Passing (type, 1) or '1type' as a synonym of type is deprecated; in a future version of numpy, it will be understood as (type, (1,)) / '(1,)type'.\n  _np_qint16 = np.dtype([(\"qint16\", np.int16, 1)])\n/home/ben/anaconda3/envs/alpaca_test/lib/python3.7/site-packages/tensorflow/python/framework/dtypes.py:519: FutureWarning: Passing (type, 1) or '1type' as a synonym of type is deprecated; in a future version of numpy, it will be understood as (type, (1,)) / '(1,)type'.\n  _np_quint16 = np.dtype([(\"quint16\", np.uint16, 1)])\n/home/ben/anaconda3/envs/alpaca_test/lib/python3.7/site-packages/tensorflow/python/framework/dtypes.py:520: FutureWarning: Passing (type, 1) or '1type' as a synonym of type is deprecated; in a future version of numpy, it will be understood as (type, (1,)) / '(1,)type'.\n  _np_qint32 = np.dtype([(\"qint32\", np.int32, 1)])\n/home/ben/anaconda3/envs/alpaca_test/lib/python3.7/site-packages/tensorflow/python/framework/dtypes.py:525: FutureWarning: Passing (type, 1) or '1type' as a synonym of type is deprecated; in a future version of numpy, it will be understood as (type, (1,)) / '(1,)type'.\n  np_resource = np.dtype([(\"resource\", np.ubyte, 1)])\n",
      "/home/ben/anaconda3/envs/alpaca_test/lib/python3.7/site-packages/tensorboard/compat/tensorflow_stub/dtypes.py:541: FutureWarning: Passing (type, 1) or '1type' as a synonym of type is deprecated; in a future version of numpy, it will be understood as (type, (1,)) / '(1,)type'.\n  _np_qint8 = np.dtype([(\"qint8\", np.int8, 1)])\n/home/ben/anaconda3/envs/alpaca_test/lib/python3.7/site-packages/tensorboard/compat/tensorflow_stub/dtypes.py:542: FutureWarning: Passing (type, 1) or '1type' as a synonym of type is deprecated; in a future version of numpy, it will be understood as (type, (1,)) / '(1,)type'.\n  _np_quint8 = np.dtype([(\"quint8\", np.uint8, 1)])\n/home/ben/anaconda3/envs/alpaca_test/lib/python3.7/site-packages/tensorboard/compat/tensorflow_stub/dtypes.py:543: FutureWarning: Passing (type, 1) or '1type' as a synonym of type is deprecated; in a future version of numpy, it will be understood as (type, (1,)) / '(1,)type'.\n  _np_qint16 = np.dtype([(\"qint16\", np.int16, 1)])\n/home/ben/anaconda3/envs/alpaca_test/lib/python3.7/site-packages/tensorboard/compat/tensorflow_stub/dtypes.py:544: FutureWarning: Passing (type, 1) or '1type' as a synonym of type is deprecated; in a future version of numpy, it will be understood as (type, (1,)) / '(1,)type'.\n  _np_quint16 = np.dtype([(\"quint16\", np.uint16, 1)])\n/home/ben/anaconda3/envs/alpaca_test/lib/python3.7/site-packages/tensorboard/compat/tensorflow_stub/dtypes.py:545: FutureWarning: Passing (type, 1) or '1type' as a synonym of type is deprecated; in a future version of numpy, it will be understood as (type, (1,)) / '(1,)type'.\n  _np_qint32 = np.dtype([(\"qint32\", np.int32, 1)])\n/home/ben/anaconda3/envs/alpaca_test/lib/python3.7/site-packages/tensorboard/compat/tensorflow_stub/dtypes.py:550: FutureWarning: Passing (type, 1) or '1type' as a synonym of type is deprecated; in a future version of numpy, it will be understood as (type, (1,)) / '(1,)type'.\n  np_resource = np.dtype([(\"resource\", np.ubyte, 1)])\n",
      "[nltk_data] Downloading package vader_lexicon to\n[nltk_data]     /home/ben/nltk_data...\n[nltk_data]   Package vader_lexicon is already up-to-date!\n"
     ],
     "output_type": "stream"
    },
    {
     "name": "stdout",
     "text": [
      "WARNING:tensorflow:From /home/ben/Projects/trading/cryptoconda/alpaca_functions.py:57: The name tf.InteractiveSession is deprecated. Please use tf.compat.v1.InteractiveSession instead.\n\n"
     ],
     "output_type": "stream"
    }
   ],
   "source": [
    "#!/usr/bin/env python\n",
    "# -*- coding: utf-8 -*-\n",
    "from alpaca_functions import time_formatter, bullish_sequence, calculate_indicators, get_predictions, get_sentiment, bullish_candlestick_patterns\n",
    "import matplotlib.pyplot as plt\n",
    "import numpy as np\n",
    "import time\n",
    "import os"
   ]
  },
  {
   "cell_type": "code",
   "execution_count": null,
   "metadata": {
    "pycharm": {
     "name": "#%%\n"
    }
   },
   "outputs": [],
   "source": [
    "today = time_formatter(time.time())\n",
    "start = time_formatter(time.time() - (604800 * 13))         # Trying with the last 120 ish days # 52))\n",
    "\n",
    "# get ticker to trade\n",
    "# raw_data, ticker = get_stuff_to_trade(today, start)\n",
    "\n",
    "# ticker = \"VRSK\"\n",
    "ticker = \"AMAT\"\n",
    "raw_data = os.path.relpath(\"data/AMAT_test_data_1D_year_OCT2018-2019_2.csv\")        # 1d window\n",
    "\n",
    "# calculate indicators and stuff\n",
    "indicators = calculate_indicators(raw_data, ticker)\n",
    "sentiment = get_sentiment(ticker)\n",
    "# get_edgar_score(indicators, ticker)\n",
    "\n",
    "# train models\n",
    "print(\"volume\")\n",
    "volume_train, volume_test = get_predictions(indicators[\"volume\"])\n",
    "print(\"high price\")\n",
    "high_train, high_test = get_predictions(indicators[\"high\"])\n",
    "print(\"closing price\")\n",
    "close_train, close_test = get_predictions(indicators[\"close\"])\n",
    "print(\"macd\")\n",
    "macd_train, macd_test = get_predictions(indicators[\"macd\"])\n",
    "signal_train, signal_test = get_predictions(indicators[\"signal\"])\n",
    "print(\"MFI\")\n",
    "mfi_train, mfi_test = get_predictions(indicators[\"mfi\"])\n",
    "print(\"Stochastic oscillator\")\n",
    "stoch_train, stoch_test = get_predictions(indicators[\"stoch\"])\n",
    "\n",
    "volume_test = volume_test[~np.isnan(volume_test)]\n",
    "high_test = high_test[~np.isnan(high_test)]\n",
    "close_test = close_test[~np.isnan(close_test)]\n",
    "macd_test = macd_test[~np.isnan(macd_test)]\n",
    "signal_test = signal_test[~np.isnan(signal_test)]\n",
    "mfi_test = mfi_test[~np.isnan(mfi_test)]\n",
    "stoch_test = stoch_test[~np.isnan(stoch_test)]"
   ]
  },
  {
   "cell_type": "code",
   "execution_count": null,
   "metadata": {
    "pycharm": {
     "name": "#%%\n"
    },
    "scrolled": true
   },
   "outputs": [],
   "source": [
    "# close\n",
    "plt.plot(np.cumprod(close_train+1), label=\"ass\")\n",
    "plt.plot(np.cumprod(close_test+1), label=\"dick\")"
   ]
  },
  {
   "cell_type": "code",
   "execution_count": null,
   "metadata": {
    "pycharm": {
     "name": "#%%\n"
    }
   },
   "outputs": [],
   "source": [
    "# macd\n",
    "plt.plot(np.cumprod(macd_train+1), color=\"green\")\n",
    "plt.plot(np.cumprod(signal_train+1), color=\"orange\")\n",
    "# test\n",
    "plt.plot(np.cumprod(macd_test+1), color=\"blue\")\n",
    "plt.plot(np.cumprod(signal_test+1), color=\"red\")"
   ]
  },
  {
   "cell_type": "code",
   "execution_count": null,
   "metadata": {
    "pycharm": {
     "name": "#%%\n"
    }
   },
   "outputs": [],
   "source": [
    "# MFI\n",
    "plt.plot(np.cumprod(mfi_train+1))\n",
    "plt.plot(np.cumprod(mfi_test+1))"
   ]
  },
  {
   "cell_type": "code",
   "execution_count": null,
   "metadata": {
    "pycharm": {
     "name": "#%%\n"
    }
   },
   "outputs": [],
   "source": [
    "# stochastic oscillator  \n",
    "plt.plot(np.cumprod(stoch_train+1))\n",
    "plt.plot(np.cumprod(stoch_test+1))"
   ]
  },
  {
   "cell_type": "code",
   "execution_count": null,
   "metadata": {
    "pycharm": {
     "name": "#%%"
    }
   },
   "outputs": [],
   "source": [
    "# macd and signal + close w/ volume\n",
    "plt.plot(np.cumprod(close_test+1), color=\"blue\")\n",
    "plt.plot(np.cumprod(macd_test+1), color=\"orange\")\n",
    "plt.plot(np.cumprod(signal_test+1), color=\"green\")\n",
    "# plt.plot(np.cumprod(volume_test+1), color=\"black\")"
   ]
  },
  {
   "cell_type": "code",
   "execution_count": null,
   "metadata": {
    "pycharm": {
     "name": "#%%\n"
    }
   },
   "outputs": [],
   "source": [
    "# stoch + mfi w/ volume\n",
    "plt.plot(np.cumprod(mfi_test+1), color=\"#9467bd\")\n",
    "plt.plot(np.cumprod(stoch_test+1), color=\"#17becf\")\n",
    "# plt.plot(np.cumprod(volume_test+1), color=\"black\")"
   ]
  },
  {
   "cell_type": "code",
   "execution_count": null,
   "metadata": {
    "pycharm": {
     "name": "#%%"
    }
   },
   "outputs": [],
   "source": [
    "print(\"volume test:\", volume_test[-1], \" current volume:\", indicators[\"volume\"].iloc[-1])\n",
    "print(\"close test:\", close_test[-1], \" current close:\", indicators[\"close\"].iloc[-1])\n",
    "print(\"macd test:\", macd_test[-1], \" current macd:\", indicators[\"macd\"].iloc[-1])\n",
    "print(\"signal test:\", signal_test[-1], \" current signal:\", indicators[\"signal\"].iloc[-1])\n",
    "print(\"mfi test:\", mfi_test[-1], \" current mfi:\", indicators[\"mfi\"].iloc[-1])\n",
    "print(\"stoch test:\", stoch_test[-1], \" current stoch:\", indicators[\"stoch\"].iloc[-1])"
   ]
  },
  {
   "cell_type": "code",
   "execution_count": null,
   "metadata": {
    "pycharm": {
     "name": "#%%\n"
    }
   },
   "outputs": [],
   "source": [
    "print(\"sentiment:\", sentiment)"
   ]
  },
  {
   "cell_type": "code",
   "execution_count": null,
   "metadata": {
    "pycharm": {
     "name": "#%%\n"
    }
   },
   "outputs": [],
   "source": [
    "print(indicators[\"macd\"].iloc[-5:])"
   ]
  },
  {
   "cell_type": "code",
   "execution_count": null,
   "metadata": {
    "pycharm": {
     "name": "#%%\n"
    }
   },
   "outputs": [],
   "source": [
    "print(indicators[\"macd\"].iloc[-1] < indicators[\"signal\"].iloc[-1])"
   ]
  },
  {
   "cell_type": "code",
   "execution_count": null,
   "metadata": {
    "pycharm": {
     "name": "#%%\n"
    }
   },
   "outputs": [],
   "source": [
    "print(bullish_sequence(indicators[\"macd\"].iloc[-5], indicators[\"macd\"].iloc[-4], indicators[\"macd\"].iloc[-3]))"
   ]
  },
  {
   "cell_type": "code",
   "execution_count": null,
   "metadata": {
    "pycharm": {
     "name": "#%%\n"
    }
   },
   "outputs": [],
   "source": [
    "print(bullish_sequence(indicators[\"close\"].iloc[-5], indicators[\"close\"].iloc[-4], indicators[\"close\"].iloc[-3]))"
   ]
  },
  {
   "cell_type": "code",
   "execution_count": null,
   "metadata": {
    "pycharm": {
     "name": "#%%\n"
    }
   },
   "outputs": [],
   "source": [
    "pattern = bullish_candlestick_patterns(indicators.iloc[-1], indicators.iloc[-2], indicators.iloc[-3])\n",
    "print(\"Pattern: \", pattern, pattern in [\"hammer\", \"inverseHammer\"])"
   ]
  }
 ],
 "metadata": {
  "kernelspec": {
   "name": "python3",
   "language": "python",
   "display_name": "Python 3"
  },
  "language_info": {
   "codemirror_mode": {
    "name": "ipython",
    "version": 3
   },
   "file_extension": ".py",
   "mimetype": "text/x-python",
   "name": "python",
   "nbconvert_exporter": "python",
   "pygments_lexer": "ipython3",
   "version": "3.7.4"
  },
  "pycharm": {
   "stem_cell": {
    "cell_type": "raw",
    "metadata": {
     "collapsed": false
    },
    "source": []
   }
  }
 },
 "nbformat": 4,
 "nbformat_minor": 1
}