{
 "cells": [
  {
   "cell_type": "code",
   "execution_count": 2,
   "metadata": {
    "pycharm": {
     "is_executing": false,
     "name": "#%%\n"
    }
   },
   "outputs": [
    {
     "name": "stdout",
     "output_type": "stream",
     "text": [
      "Account #:       PA2YJOPZI638\n",
      "Currency:        USD\n",
      "Cash value:      $100000\n",
      "Buying power:    $400000\n",
      "DT count:        0\n",
      "DT buying power: $400000\n",
      "$400000 is available as buying power.\n",
      "Symbol:  ('TMCX', 554.3846153846154)\n"
     ]
    }
   ],
   "source": [
    "from statistics import mean\n",
    "from alpha_vantage.timeseries import TimeSeries\n",
    "from alpha_vantage.sectorperformance import SectorPerformances\n",
    "from alpha_vantage.techindicators import TechIndicators\n",
    "import alpaca_trade_api as tradeapi\n",
    "import configparser\n",
    "import pprint\n",
    "import sys\n",
    "import os\n",
    "\n",
    "config = configparser.ConfigParser()\n",
    "\n",
    "try:\n",
    "    config.read(os.path.relpath(\"config.ini\"))\n",
    "except FileExistsError as e:\n",
    "    print(\"FileExistsError: {}\".format(e))\n",
    "    sys.exit(1)\n",
    "\n",
    "pp = pprint.PrettyPrinter()\n",
    "\n",
    "api                     = tradeapi.REST(\n",
    "    base_url    = config[\"alpaca\"][\"APCA_API_BASE_URL\"],\n",
    "    key_id      = config[\"alpaca\"][\"APCA_API_KEY_ID\"],\n",
    "    secret_key  = config[\"alpaca\"][\"APCA_API_SECRET_KEY\"],\n",
    "    api_version = config[\"alpaca\"][\"VERSION\"]\n",
    ")\n",
    "\n",
    "account                 = api.get_account()\n",
    "print(\"Account #:       {}\".format(account.account_number))\n",
    "print(\"Currency:        {}\".format(account.currency))\n",
    "print(\"Cash value:      ${}\".format(account.cash))\n",
    "print(\"Buying power:    ${}\".format(account.buying_power))\n",
    "\n",
    "print(\"DT count:        {}\".format(account.daytrade_count))\n",
    "print(\"DT buying power: ${}\".format(account.daytrading_buying_power))\n",
    "\n",
    "# Check if our account is restricted from trading.\n",
    "if account.trading_blocked:\n",
    "    print(\"Account is currently restricted from trading.\")\n",
    "\n",
    "# Check how much money we can use to open new positions.\n",
    "print(\"${} is available as buying power.\".format(account.buying_power))\n",
    "\n",
    "active_assets = api.list_assets(status=\"active\")\n",
    "\n",
    "# Filter the assets down to just those on NASDAQ.\n",
    "nasdaq_assets = [a for a in active_assets if a.exchange == \"NASDAQ\"]\n",
    "vol_assets = []\n",
    "for i in list(filter(lambda ass: ass.tradable == True, nasdaq_assets)):\n",
    "    symbol = i.symbol\n",
    "\n",
    "    barset = api.get_barset(symbol, \"15Min\", start=\"2019-09-01T09:30:00-04:00\", end=\"2019-09-12T09:30:00-04:00\")\n",
    "    symbol_bars = barset[symbol]\n",
    "\n",
    "    # get trading volume\n",
    "    volume = [bar.v for bar in symbol_bars if bar is not None]\n",
    "    if volume is None:\n",
    "        continue\n",
    "\n",
    "    else:\n",
    "        if len(volume) > 0:\n",
    "            vmean = mean(volume)\n",
    "            vol_assets.append((symbol, vmean))\n",
    "\n",
    "    if len(vol_assets) > 3:\n",
    "        break\n",
    "\n",
    "    # Submit a market order to buy 1 share of Apple at market price\n",
    "    # api.submit_order(\n",
    "    #     symbol=\"AAPL\",\n",
    "    #     qty=1,\n",
    "    #     side=\"buy\",\n",
    "    #     type=\"market\",\n",
    "    #     time_in_force=\"gtc\"\n",
    "    # )\n",
    "\n",
    "    # Submit a limit order to attempt to sell 1 share of AMD at a\n",
    "    # particular price ($20.50) when the market opens\n",
    "    # api.submit_order(\n",
    "    #     symbol=\"AMD\",\n",
    "    #     qty=1,\n",
    "    #     side=\"sell\",\n",
    "    #     type=\"limit\",\n",
    "    #     time_in_force=\"opg\",\n",
    "    #     limit_price=20.50\n",
    "    # )\n",
    "\n",
    "symbol = sorted(vol_assets, key=lambda ass: ass[1], reverse=True)[0]\n",
    "print(\"Symbol: \", symbol)\n",
    "asset = api.get_asset(symbol[0])\n",
    "barset = api.get_barset(symbol[0], \"15Min\", after=\"2019-09-12T07:00:00-04:00\")\n",
    "symbol_bars = barset[symbol[0]]\n",
    "\n",
    "alfavantage = TimeSeries(key=config[\"alpha_vantage\"][\"API_KEY\"], output_format=\"pandas\")\n",
    "indicators = TechIndicators(key=config[\"alpha_vantage\"][\"API_KEY\"], output_format=\"pandas\")"
   ]
  },
  {
   "cell_type": "code",
   "execution_count": 4,
   "metadata": {
    "pycharm": {
     "name": "#%%\n"
    }
   },
   "outputs": [
    {
     "ename": "ValueError",
     "evalue": "Thank you for using Alpha Vantage! Our standard API call frequency is 5 calls per minute and 500 calls per day. Please visit https://www.alphavantage.co/premium/ if you would like to target a higher API call frequency.",
     "output_type": "error",
     "traceback": [
      "\u001b[1;31m---------------------------------------------------------------------------\u001b[0m",
      "\u001b[1;31mValueError\u001b[0m                                Traceback (most recent call last)",
      "\u001b[1;32m<ipython-input-4-f0bf63bcf3a2>\u001b[0m in \u001b[0;36m<module>\u001b[1;34m\u001b[0m\n\u001b[0;32m      2\u001b[0m \u001b[0mintraday\u001b[0m\u001b[1;33m,\u001b[0m \u001b[0mi_meta_data\u001b[0m \u001b[1;33m=\u001b[0m \u001b[0malfavantage\u001b[0m\u001b[1;33m.\u001b[0m\u001b[0mget_intraday\u001b[0m\u001b[1;33m(\u001b[0m\u001b[0msymbol\u001b[0m\u001b[1;33m[\u001b[0m\u001b[1;36m0\u001b[0m\u001b[1;33m]\u001b[0m\u001b[1;33m,\u001b[0m \u001b[0minterval\u001b[0m\u001b[1;33m=\u001b[0m\u001b[1;34m\"60min\"\u001b[0m\u001b[1;33m)\u001b[0m\u001b[1;33m\u001b[0m\u001b[1;33m\u001b[0m\u001b[0m\n\u001b[0;32m      3\u001b[0m \u001b[1;33m\u001b[0m\u001b[0m\n\u001b[1;32m----> 4\u001b[1;33m \u001b[0mmacd\u001b[0m\u001b[1;33m,\u001b[0m \u001b[0mmacd_meta_data\u001b[0m \u001b[1;33m=\u001b[0m \u001b[0mindicators\u001b[0m\u001b[1;33m.\u001b[0m\u001b[0mget_macd\u001b[0m\u001b[1;33m(\u001b[0m\u001b[0msymbol\u001b[0m\u001b[1;33m[\u001b[0m\u001b[1;36m0\u001b[0m\u001b[1;33m]\u001b[0m\u001b[1;33m,\u001b[0m \u001b[0minterval\u001b[0m\u001b[1;33m=\u001b[0m\u001b[1;34m\"daily\"\u001b[0m\u001b[1;33m)\u001b[0m\u001b[1;33m\u001b[0m\u001b[1;33m\u001b[0m\u001b[0m\n\u001b[0m\u001b[0;32m      5\u001b[0m \u001b[1;33m\u001b[0m\u001b[0m\n\u001b[0;32m      6\u001b[0m \u001b[0mintraday\u001b[0m\u001b[1;33m[\u001b[0m\u001b[1;34m'4. close'\u001b[0m\u001b[1;33m]\u001b[0m\u001b[1;33m.\u001b[0m\u001b[0mplot\u001b[0m\u001b[1;33m(\u001b[0m\u001b[1;33m)\u001b[0m\u001b[1;33m\u001b[0m\u001b[1;33m\u001b[0m\u001b[0m\n",
      "\u001b[1;32mc:\\users\\benjamin.beale\\.virtualenvs\\alpaca_test\\lib\\site-packages\\alpha_vantage\\alphavantage.py\u001b[0m in \u001b[0;36m_format_wrapper\u001b[1;34m(self, *args, **kwargs)\u001b[0m\n\u001b[0;32m    159\u001b[0m         \u001b[1;32mdef\u001b[0m \u001b[0m_format_wrapper\u001b[0m\u001b[1;33m(\u001b[0m\u001b[0mself\u001b[0m\u001b[1;33m,\u001b[0m \u001b[1;33m*\u001b[0m\u001b[0margs\u001b[0m\u001b[1;33m,\u001b[0m \u001b[1;33m**\u001b[0m\u001b[0mkwargs\u001b[0m\u001b[1;33m)\u001b[0m\u001b[1;33m:\u001b[0m\u001b[1;33m\u001b[0m\u001b[1;33m\u001b[0m\u001b[0m\n\u001b[0;32m    160\u001b[0m             call_response, data_key, meta_data_key = func(\n\u001b[1;32m--> 161\u001b[1;33m                 self, *args, **kwargs)\n\u001b[0m\u001b[0;32m    162\u001b[0m             \u001b[1;32mif\u001b[0m \u001b[1;34m'json'\u001b[0m \u001b[1;32min\u001b[0m \u001b[0mself\u001b[0m\u001b[1;33m.\u001b[0m\u001b[0moutput_format\u001b[0m\u001b[1;33m.\u001b[0m\u001b[0mlower\u001b[0m\u001b[1;33m(\u001b[0m\u001b[1;33m)\u001b[0m \u001b[1;32mor\u001b[0m \u001b[1;34m'pandas'\u001b[0m\u001b[0;31m \u001b[0m\u001b[0;31m\\\u001b[0m\u001b[1;33m\u001b[0m\u001b[1;33m\u001b[0m\u001b[0m\n\u001b[0;32m    163\u001b[0m                     \u001b[1;32min\u001b[0m \u001b[0mself\u001b[0m\u001b[1;33m.\u001b[0m\u001b[0moutput_format\u001b[0m\u001b[1;33m.\u001b[0m\u001b[0mlower\u001b[0m\u001b[1;33m(\u001b[0m\u001b[1;33m)\u001b[0m\u001b[1;33m:\u001b[0m\u001b[1;33m\u001b[0m\u001b[1;33m\u001b[0m\u001b[0m\n",
      "\u001b[1;32mc:\\users\\benjamin.beale\\.virtualenvs\\alpaca_test\\lib\\site-packages\\alpha_vantage\\alphavantage.py\u001b[0m in \u001b[0;36m_call_wrapper\u001b[1;34m(self, *args, **kwargs)\u001b[0m\n\u001b[0;32m    144\u001b[0m             \u001b[1;32melse\u001b[0m\u001b[1;33m:\u001b[0m\u001b[1;33m\u001b[0m\u001b[1;33m\u001b[0m\u001b[0m\n\u001b[0;32m    145\u001b[0m                 \u001b[0murl\u001b[0m \u001b[1;33m=\u001b[0m \u001b[1;34m'{}&apikey={}'\u001b[0m\u001b[1;33m.\u001b[0m\u001b[0mformat\u001b[0m\u001b[1;33m(\u001b[0m\u001b[0murl\u001b[0m\u001b[1;33m,\u001b[0m \u001b[0mself\u001b[0m\u001b[1;33m.\u001b[0m\u001b[0mkey\u001b[0m\u001b[1;33m)\u001b[0m\u001b[1;33m\u001b[0m\u001b[1;33m\u001b[0m\u001b[0m\n\u001b[1;32m--> 146\u001b[1;33m             \u001b[1;32mreturn\u001b[0m \u001b[0mself\u001b[0m\u001b[1;33m.\u001b[0m\u001b[0m_handle_api_call\u001b[0m\u001b[1;33m(\u001b[0m\u001b[0murl\u001b[0m\u001b[1;33m)\u001b[0m\u001b[1;33m,\u001b[0m \u001b[0mdata_key\u001b[0m\u001b[1;33m,\u001b[0m \u001b[0mmeta_data_key\u001b[0m\u001b[1;33m\u001b[0m\u001b[1;33m\u001b[0m\u001b[0m\n\u001b[0m\u001b[0;32m    147\u001b[0m         \u001b[1;32mreturn\u001b[0m \u001b[0m_call_wrapper\u001b[0m\u001b[1;33m\u001b[0m\u001b[1;33m\u001b[0m\u001b[0m\n\u001b[0;32m    148\u001b[0m \u001b[1;33m\u001b[0m\u001b[0m\n",
      "\u001b[1;32mc:\\users\\benjamin.beale\\.virtualenvs\\alpaca_test\\lib\\site-packages\\alpha_vantage\\alphavantage.py\u001b[0m in \u001b[0;36m_handle_api_call\u001b[1;34m(self, url)\u001b[0m\n\u001b[0;32m    277\u001b[0m                 \u001b[1;32mraise\u001b[0m \u001b[0mValueError\u001b[0m\u001b[1;33m(\u001b[0m\u001b[0mjson_response\u001b[0m\u001b[1;33m[\u001b[0m\u001b[1;34m\"Information\"\u001b[0m\u001b[1;33m]\u001b[0m\u001b[1;33m)\u001b[0m\u001b[1;33m\u001b[0m\u001b[1;33m\u001b[0m\u001b[0m\n\u001b[0;32m    278\u001b[0m             \u001b[1;32melif\u001b[0m \u001b[1;34m\"Note\"\u001b[0m \u001b[1;32min\u001b[0m \u001b[0mjson_response\u001b[0m \u001b[1;32mand\u001b[0m \u001b[0mself\u001b[0m\u001b[1;33m.\u001b[0m\u001b[0mtreat_info_as_error\u001b[0m\u001b[1;33m:\u001b[0m\u001b[1;33m\u001b[0m\u001b[1;33m\u001b[0m\u001b[0m\n\u001b[1;32m--> 279\u001b[1;33m                 \u001b[1;32mraise\u001b[0m \u001b[0mValueError\u001b[0m\u001b[1;33m(\u001b[0m\u001b[0mjson_response\u001b[0m\u001b[1;33m[\u001b[0m\u001b[1;34m\"Note\"\u001b[0m\u001b[1;33m]\u001b[0m\u001b[1;33m)\u001b[0m\u001b[1;33m\u001b[0m\u001b[1;33m\u001b[0m\u001b[0m\n\u001b[0m\u001b[0;32m    280\u001b[0m             \u001b[1;32mreturn\u001b[0m \u001b[0mjson_response\u001b[0m\u001b[1;33m\u001b[0m\u001b[1;33m\u001b[0m\u001b[0m\n\u001b[0;32m    281\u001b[0m         \u001b[1;32melse\u001b[0m\u001b[1;33m:\u001b[0m\u001b[1;33m\u001b[0m\u001b[1;33m\u001b[0m\u001b[0m\n",
      "\u001b[1;31mValueError\u001b[0m: Thank you for using Alpha Vantage! Our standard API call frequency is 5 calls per minute and 500 calls per day. Please visit https://www.alphavantage.co/premium/ if you would like to target a higher API call frequency."
     ]
    }
   ],
   "source": [
    "# Get json object with the intraday data and another with  the call's metadata\n",
    "intraday, i_meta_data = alfavantage.get_intraday(symbol[0], interval=\"60min\")\n",
    "\n",
    "macd, macd_meta_data = indicators.get_macd(symbol[0], interval=\"daily\")\n",
    "\n",
    "intraday['4. close'].plot()\n",
    "macd.plot()"
   ]
  },
  {
   "cell_type": "code",
   "execution_count": null,
   "metadata": {
    "pycharm": {
     "name": "#%%"
    }
   },
   "outputs": [],
   "source": []
  }
 ],
 "metadata": {
  "kernelspec": {
   "display_name": "Python 3",
   "language": "python",
   "name": "python3"
  },
  "language_info": {
   "codemirror_mode": {
    "name": "ipython",
    "version": 3
   },
   "file_extension": ".py",
   "mimetype": "text/x-python",
   "name": "python",
   "nbconvert_exporter": "python",
   "pygments_lexer": "ipython3",
   "version": "3.7.3"
  },
  "pycharm": {
   "stem_cell": {
    "cell_type": "raw",
    "metadata": {
     "collapsed": false
    },
    "source": []
   }
  }
 },
 "nbformat": 4,
 "nbformat_minor": 1
}
